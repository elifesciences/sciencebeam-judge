{
 "cells": [
  {
   "cell_type": "code",
   "execution_count": 1,
   "metadata": {
    "tags": [
     "parameters"
    ]
   },
   "outputs": [],
   "source": [
    "data_path = '../example-data'\n",
    "# data_path = 'gs://elife-public-data/sciencebeam/datasets'\n",
    "dataset_relative_paths = ['pmc-sample-1943-cc-by-subset']\n",
    "dataset_suffixes = []\n",
    "tool_names = ['grobid-tei', 'cermine']\n",
    "# tool_names = ['grobid-tei', 'cermine', 'scienceparse-v1', 'scienceparse-v2']\n",
    "affiliation_field_names = ['affiliation_strings', 'affiliation_institution']\n",
    "reference_field_names = [\n",
    "    'first_reference_fields', 'first_reference_title',\n",
    "    'reference_fields', 'reference_title', 'reference_year', 'reference_source', 'reference_volume', 'reference_fpage', 'reference_lpage'\n",
    "]\n",
    "table_field_names = ['tables', 'table_strings', 'table_labels', 'table_captions', 'table_label_captions']\n",
    "body_field_names = ['section_titles']\n",
    "field_names = [\n",
    "    'title',\n",
    "    'first_author_full_name', 'author_full_names',\n",
    "    'abstract'\n",
    "] + body_field_names + affiliation_field_names + reference_field_names + table_field_names\n",
    "evaluation_methods = ['levenshtein', 'exact']\n",
    "details_filename = 'results-00000-of-00001.csv'\n",
    "show_tables = False"
   ]
  },
  {
   "cell_type": "markdown",
   "metadata": {},
   "source": [
    "# Conversion Results Details"
   ]
  },
  {
   "cell_type": "code",
   "execution_count": 2,
   "metadata": {},
   "outputs": [],
   "source": [
    "# This Conversion Results Notebook by default use the very small example dataset\n",
    "# You may pass in other parameters, e.g.:\n",
    "#   $papermill conversion-results-tools.ipynb conversion-results-tools-configured.ipynb -p data_path '/my/other/data/path'"
   ]
  },
  {
   "cell_type": "code",
   "execution_count": 3,
   "metadata": {},
   "outputs": [],
   "source": [
    "%matplotlib inline"
   ]
  },
  {
   "cell_type": "code",
   "execution_count": 4,
   "metadata": {},
   "outputs": [],
   "source": [
    "import matplotlib\n",
    "matplotlib.style.use('ggplot')"
   ]
  },
  {
   "cell_type": "code",
   "execution_count": 5,
   "metadata": {},
   "outputs": [],
   "source": [
    "from datetime import datetime\n",
    "import time\n",
    "import os\n",
    "import subprocess\n",
    "import re\n",
    "import pandas as pd\n",
    "from markdown import markdown\n",
    "from IPython.display import display, Markdown, HTML"
   ]
  },
  {
   "cell_type": "code",
   "execution_count": 6,
   "metadata": {},
   "outputs": [
    {
     "data": {
      "text/html": [
       "\n",
       "<!-- vertical accordion CSS -->\n",
       "<style>\n",
       "details {\n",
       "  padding: 15px;\n",
       "  border: 1px solid rgba(0,0,0,.1);\n",
       "}\n",
       "\n",
       "details + details {\n",
       "  margin-top: 20px;\n",
       "}\n",
       "\n",
       "details[open] {\n",
       "  min-height: 30px;\n",
       "}\n",
       "\n",
       "summary {\n",
       "  font-weight: 500;\n",
       "  cursor: pointer;\n",
       "}\n",
       "\n",
       "summary:focus {\n",
       "  outline: none;\n",
       "}\n",
       "</style>\n"
      ],
      "text/plain": [
       "<IPython.core.display.HTML object>"
      ]
     },
     "metadata": {},
     "output_type": "display_data"
    }
   ],
   "source": [
    "display(HTML(\n",
    "'''\n",
    "<!-- vertical accordion CSS -->\n",
    "<style>\n",
    "details {\n",
    "  padding: 15px;\n",
    "  border: 1px solid rgba(0,0,0,.1);\n",
    "}\n",
    "\n",
    "details + details {\n",
    "  margin-top: 20px;\n",
    "}\n",
    "\n",
    "details[open] {\n",
    "  min-height: 30px;\n",
    "}\n",
    "\n",
    "summary {\n",
    "  font-weight: 500;\n",
    "  cursor: pointer;\n",
    "}\n",
    "\n",
    "summary:focus {\n",
    "  outline: none;\n",
    "}\n",
    "</style>\n",
    "'''))"
   ]
  },
  {
   "cell_type": "code",
   "execution_count": 7,
   "metadata": {},
   "outputs": [],
   "source": [
    "def parse_list(s):\n",
    "    if isinstance(s, list):\n",
    "        return s\n",
    "    return [x.strip() for x in s.split(',') if x.strip()]\n",
    "\n",
    "dataset_relative_paths = parse_list(dataset_relative_paths)\n",
    "tool_names = parse_list(tool_names)\n",
    "field_names = parse_list(field_names)\n",
    "evaluation_methods = parse_list(evaluation_methods)\n",
    "dataset_suffixes = dict(parse_list(dataset_suffixes))"
   ]
  },
  {
   "cell_type": "code",
   "execution_count": 8,
   "metadata": {},
   "outputs": [],
   "source": [
    "all_result_paths = [\n",
    "    (\n",
    "        '%s%s %s' % (dataset_relative_path, dataset_suffix, tool),\n",
    "        os.path.join(\n",
    "            data_path,\n",
    "            '%s-results/evaluation-results/%s%s' % (\n",
    "                dataset_relative_path,\n",
    "                tool,\n",
    "                dataset_suffix\n",
    "            )\n",
    "        )\n",
    "    )\n",
    "    for dataset_relative_path in dataset_relative_paths\n",
    "    for dataset_suffix in dataset_suffixes.get(dataset_relative_path, [''])\n",
    "    for tool in tool_names\n",
    "]\n",
    "\n",
    "prefix_list = [\n",
    "    '%s%s' % (dataset_relative_path, dataset_suffix)\n",
    "    for dataset_relative_path in dataset_relative_paths\n",
    "    for dataset_suffix in dataset_suffixes.get(dataset_relative_path, [''])\n",
    "]"
   ]
  },
  {
   "cell_type": "code",
   "execution_count": 9,
   "metadata": {},
   "outputs": [],
   "source": [
    "all_result_names = [name for name, _ in all_result_paths]"
   ]
  },
  {
   "cell_type": "code",
   "execution_count": 10,
   "metadata": {},
   "outputs": [],
   "source": [
    "def printmd(s):\n",
    "    try:\n",
    "        s = s.decode('unicode_escape')\n",
    "    except AttributeError:\n",
    "        pass\n",
    "    display(Markdown(s))"
   ]
  },
  {
   "cell_type": "code",
   "execution_count": 11,
   "metadata": {},
   "outputs": [],
   "source": [
    "def retrieve_local_copy_if_remote(file_url):\n",
    "    if file_url.startswith('gs://'):\n",
    "        local_filename = os.path.join('../.temp', os.path.basename(file_url))\n",
    "        subprocess.check_output('gsutil cp -P \"%s\" \"%s\"' % (file_url, local_filename), shell=True)\n",
    "        # would be nice if gsutil did actually copy the creation time, let's do it here in a hacky way\n",
    "        timestamp_match = re.search('\\s(\\d{4}-[^ ]+)\\s', subprocess.check_output('gsutil ls -l \"%s\"' % file_url, shell=True).decode('utf-8'))\n",
    "        file_time = time.mktime(datetime.strptime(timestamp_match.group(1), \"%Y-%m-%dT%H:%M:%SZ\").timetuple())\n",
    "        os.utime(local_filename, (file_time, file_time))\n",
    "        return local_filename\n",
    "\n",
    "    return file_url\n",
    "\n",
    "def load_result_map(all_result_paths, filename):\n",
    "    df_map = {}\n",
    "    for name, result_path in all_result_paths:\n",
    "        full_filename = retrieve_local_copy_if_remote(os.path.join(result_path, filename))\n",
    "        printmd('**Timestamp:** %s (%s)' % (datetime.fromtimestamp(os.path.getmtime(full_filename)), name))\n",
    "        df_map[name] = pd.read_csv(full_filename)\n",
    "        if show_tables:\n",
    "            display(df_map[name].head(3))\n",
    "    return df_map"
   ]
  },
  {
   "cell_type": "code",
   "execution_count": 12,
   "metadata": {},
   "outputs": [
    {
     "data": {
      "text/markdown": [
       "## Details Files"
      ],
      "text/plain": [
       "<IPython.core.display.Markdown object>"
      ]
     },
     "metadata": {},
     "output_type": "display_data"
    },
    {
     "data": {
      "text/markdown": [
       "**Timestamp:** 2018-08-03 08:53:24.018325 (pmc-sample-1943-cc-by-subset grobid-tei)"
      ],
      "text/plain": [
       "<IPython.core.display.Markdown object>"
      ]
     },
     "metadata": {},
     "output_type": "display_data"
    },
    {
     "data": {
      "text/markdown": [
       "**Timestamp:** 2018-08-03 08:53:15.318011 (pmc-sample-1943-cc-by-subset cermine)"
      ],
      "text/plain": [
       "<IPython.core.display.Markdown object>"
      ]
     },
     "metadata": {},
     "output_type": "display_data"
    }
   ],
   "source": [
    "printmd('## Details Files')\n",
    "details_df_map = load_result_map(all_result_paths, details_filename)"
   ]
  },
  {
   "cell_type": "code",
   "execution_count": 13,
   "metadata": {},
   "outputs": [
    {
     "data": {
      "text/markdown": [
       "### Evaluation File States"
      ],
      "text/plain": [
       "<IPython.core.display.Markdown object>"
      ]
     },
     "metadata": {},
     "output_type": "display_data"
    },
    {
     "data": {
      "text/markdown": [
       "**Evaluation methods:** exact, levenshtein"
      ],
      "text/plain": [
       "<IPython.core.display.Markdown object>"
      ]
     },
     "metadata": {},
     "output_type": "display_data"
    },
    {
     "data": {
      "text/markdown": [
       "**Field names:** abstract, affiliation_institution, affiliation_strings, author_full_names, author_surnames, first_author_full_name, first_author_surname, first_reference_fields, first_reference_title, keywords, reference_fields, reference_fpage, reference_lpage, reference_source, reference_title, reference_volume, reference_year, section_titles, table_captions, table_label_captions, table_labels, table_strings, tables, title"
      ],
      "text/plain": [
       "<IPython.core.display.Markdown object>"
      ]
     },
     "metadata": {},
     "output_type": "display_data"
    }
   ],
   "source": [
    "printmd('### Evaluation File States')\n",
    "printmd('**Evaluation methods:** %s' % ', '.join(sorted(set(\n",
    "    details_df_map[all_result_names[0]]['evaluation_method']\n",
    "))))\n",
    "printmd('**Field names:** %s' % ', '.join(sorted(set(\n",
    "    details_df_map[all_result_names[0]]['field_name'].dropna()\n",
    "))))"
   ]
  },
  {
   "cell_type": "code",
   "execution_count": 14,
   "metadata": {},
   "outputs": [],
   "source": [
    "def short_name(full_name):\n",
    "    return full_name.split(' ')[-1]"
   ]
  },
  {
   "cell_type": "code",
   "execution_count": 15,
   "metadata": {
    "scrolled": false
   },
   "outputs": [
    {
     "data": {
      "text/markdown": [
       "# Comparing results between tools"
      ],
      "text/plain": [
       "<IPython.core.display.Markdown object>"
      ]
     },
     "metadata": {},
     "output_type": "display_data"
    },
    {
     "data": {
      "text/markdown": [
       "<hr/>"
      ],
      "text/plain": [
       "<IPython.core.display.Markdown object>"
      ]
     },
     "metadata": {},
     "output_type": "display_data"
    },
    {
     "data": {
      "text/markdown": [
       "# Field: title"
      ],
      "text/plain": [
       "<IPython.core.display.Markdown object>"
      ]
     },
     "metadata": {},
     "output_type": "display_data"
    },
    {
     "data": {
      "text/markdown": [
       "## Dataset: pmc-sample-1943-cc-by-subset (title levenshtein)"
      ],
      "text/plain": [
       "<IPython.core.display.Markdown object>"
      ]
     },
     "metadata": {},
     "output_type": "display_data"
    },
    {
     "data": {
      "text/html": [
       "<details><summary>Comparison: grobid-tei vs cermine</summary><p><strong>E</strong>: expected, <strong>A</strong>: pmc-sample-1943-cc-by-subset grobid-tei, <strong>B</strong>: pmc-sample-1943-cc-by-subset cermine (title levenshtein)</p>\n",
       "<h4>grobid-tei [0 : 1] cermine (3)</h4>\n",
       "<p>There are 3 samples where grobid-tei got it wrong, but cermine got it right.</p>\n",
       "<blockquote>\n",
       "<p><code>d-67-00463.nxml</code> \"Pi sampling: a methodical and flexible approach to initial macromolecular crystallization screening\"<br/><strong>E</strong>: Pi sampling: a methodical and flexible approach to initial macromolecular crystallization screening<br/><strong>A</strong>: Biological Crystallography Pi sampling: a methodical and flexible approach to initial macromolecular crystallization screening</p>\n",
       "<p><code>e-67-o1363.nxml</code> \"3-Allyl-1-{[3-(4-nitro­phen­yl)-4,5-dihydro-1,3-oxazol-5-yl]meth­yl}-1H-anthra[1,2-d]imidazole-2,6,11(3H)-trione\"<br/><strong>E</strong>: 3-Allyl-1-{[3-(4-nitro­phen­yl)-4,5-dihydro-1,3-oxazol-5-yl]meth­yl}-1H-anthra[1,2-d]imidazole-2,6,11(3H)-trione<br/><strong>A</strong>: E67, o1363-o1364 Acta Cryst</p>\n",
       "<p><code>f-67-00344.nxml</code> \"Refolding, crystallization and preliminary X-ray crystallographic study of the whole extracellular regions of nectins\"<br/><strong>E</strong>: Refolding, crystallization and preliminary X-ray crystallographic study of the whole extracellular regions of nectins<br/><strong>A</strong>: Structural Biology and Crystallization Communications Refolding, crystallization and preliminary X-ray crystallographic study of the whole extracellular regions of nectins</p>\n",
       "</blockquote>\n",
       "<h4>grobid-tei [1 : 0] cermine (0)</h4>\n",
       "<p>There are 0 samples where grobid-tei got it right, but cermine got it wrong.</p>\n",
       "<h4>grobid-tei [0 : 0] cermine (0)</h4>\n",
       "<p>There are 0 samples where both grobid-tei and cermine got it wrong.</p></details>"
      ],
      "text/plain": [
       "<IPython.core.display.HTML object>"
      ]
     },
     "metadata": {},
     "output_type": "display_data"
    },
    {
     "data": {
      "text/markdown": [
       "## Dataset: pmc-sample-1943-cc-by-subset (title exact)"
      ],
      "text/plain": [
       "<IPython.core.display.Markdown object>"
      ]
     },
     "metadata": {},
     "output_type": "display_data"
    },
    {
     "data": {
      "text/html": [
       "<details><summary>Comparison: grobid-tei vs cermine</summary><p><strong>E</strong>: expected, <strong>A</strong>: pmc-sample-1943-cc-by-subset grobid-tei, <strong>B</strong>: pmc-sample-1943-cc-by-subset cermine (title exact)</p>\n",
       "<h4>grobid-tei [0 : 1] cermine (1)</h4>\n",
       "<p>There are 1 samples where grobid-tei got it wrong, but cermine got it right.</p>\n",
       "<blockquote>\n",
       "<p><code>f-67-00344.nxml</code> \"Refolding, crystallization and preliminary X-ray crystallographic study of the whole extracellular regions of nectins\"<br/><strong>E</strong>: Refolding, crystallization and preliminary X-ray crystallographic study of the whole extracellular regions of nectins<br/><strong>A</strong>: Structural Biology and Crystallization Communications Refolding, crystallization and preliminary X-ray crystallographic study of the whole extracellular regions of nectins</p>\n",
       "</blockquote>\n",
       "<h4>grobid-tei [1 : 0] cermine (0)</h4>\n",
       "<p>There are 0 samples where grobid-tei got it right, but cermine got it wrong.</p>\n",
       "<h4>grobid-tei [0 : 0] cermine (3)</h4>\n",
       "<p>There are 3 samples where both grobid-tei and cermine got it wrong.</p>\n",
       "<blockquote>\n",
       "<p><code>d-67-00463.nxml</code> \"Pi sampling: a methodical and flexible approach to initial macromolecular crystallization screening\"<br/><strong>E</strong>: Pi sampling: a methodical and flexible approach to initial macromolecular crystallization screening<br/><strong>A</strong>: Biological Crystallography Pi sampling: a methodical and flexible approach to initial macromolecular crystallization screening<br/><strong>B</strong>: Pi sampling: a methodical and flexible approach to initial macromolecular crystallization screening research papers</p>\n",
       "<p><code>e-67-o1363.nxml</code> \"3-Allyl-1-{[3-(4-nitro­phen­yl)-4,5-dihydro-1,3-oxazol-5-yl]meth­yl}-1H-anthra[1,2-d]imidazole-2,6,11(3H)-trione\"<br/><strong>E</strong>: 3-Allyl-1-{[3-(4-nitro­phen­yl)-4,5-dihydro-1,3-oxazol-5-yl]meth­yl}-1H-anthra[1,2-d]imidazole-2,6,11(3H)-trione<br/><strong>A</strong>: E67, o1363-o1364 Acta Cryst<br/><strong>B</strong>: 3-Allyl-1-{[3-(4-nitrophenyl)-4,5- dihydro-1,3-oxazol-5-yl]methyl}-1H- anthra[1,2-d]imidazole-2,6,11(3H)- trione</p>\n",
       "<p><code>ORT-1745-3674-81-405.nxml</code> \"Resection arthroplasty for luxation of the manubrio-sternal joint in rheumatoid arthritis—a case report\"<br/><strong>E</strong>: Resection arthroplasty for luxation of the manubrio-sternal joint in rheumatoid arthritis—a case report<br/><strong>A</strong>: Resection arthroplasty for luxation of the manubrio-sternal joint in rheumatoid arthritis-a case report<br/><strong>B</strong>: Resection arthroplasty for luxation of the manubrio-sternal joint in rheumatoid arthritis-a case report</p>\n",
       "</blockquote></details>"
      ],
      "text/plain": [
       "<IPython.core.display.HTML object>"
      ]
     },
     "metadata": {},
     "output_type": "display_data"
    },
    {
     "data": {
      "text/markdown": [
       "<hr/>"
      ],
      "text/plain": [
       "<IPython.core.display.Markdown object>"
      ]
     },
     "metadata": {},
     "output_type": "display_data"
    },
    {
     "data": {
      "text/markdown": [
       "# Field: first_author_full_name"
      ],
      "text/plain": [
       "<IPython.core.display.Markdown object>"
      ]
     },
     "metadata": {},
     "output_type": "display_data"
    },
    {
     "data": {
      "text/markdown": [
       "## Dataset: pmc-sample-1943-cc-by-subset (first_author_full_name levenshtein)"
      ],
      "text/plain": [
       "<IPython.core.display.Markdown object>"
      ]
     },
     "metadata": {},
     "output_type": "display_data"
    },
    {
     "data": {
      "text/html": [
       "<details><summary>Comparison: grobid-tei vs cermine</summary><p><strong>E</strong>: expected, <strong>A</strong>: pmc-sample-1943-cc-by-subset grobid-tei, <strong>B</strong>: pmc-sample-1943-cc-by-subset cermine (first_author_full_name levenshtein)</p>\n",
       "<h4>grobid-tei [0 : 1] cermine (1)</h4>\n",
       "<p>There are 1 samples where grobid-tei got it wrong, but cermine got it right.</p>\n",
       "<blockquote>\n",
       "<p><code>aas0055-0039.nxml</code> \"Phosphate-containing dialysis solution prevents hypophosphatemia during continuous renal replacement therapy\"<br/><strong>E</strong>: M BROMAN<br/><strong>A</strong>: M Broman</p>\n",
       "</blockquote>\n",
       "<h4>grobid-tei [1 : 0] cermine (3)</h4>\n",
       "<p>There are 3 samples where grobid-tei got it right, but cermine got it wrong.</p>\n",
       "<blockquote>\n",
       "<p><code>f-67-00344.nxml</code> \"Refolding, crystallization and preliminary X-ray crystallographic study of the whole extracellular regions of nectins\"<br/><strong>E</strong>: Hirotaka Narita<br/><strong>B</strong>: Laboratory of Supramolecular Crystallography</p>\n",
       "<p><code>soto131-469.nxml</code> \"Visualization and assessment of saccular duct and endolymphatic sinus\"<br/><strong>E</strong>: Hideo Yamane<br/><strong>B</strong>: HIDEO YAMANE</p>\n",
       "<p><code>apa0100-0653.nxml</code> \"Placental programming of blood pressure in Indian children\"<br/><strong>E</strong>: Nicola R Winder<br/><strong>B</strong>: Nicola R Winder (nw@mrc.soton.ac.uk)</p>\n",
       "</blockquote>\n",
       "<h4>grobid-tei [0 : 0] cermine (2)</h4>\n",
       "<p>There are 2 samples where both grobid-tei and cermine got it wrong.</p>\n",
       "<blockquote>\n",
       "<p><code>sobs89-975.nxml</code> \"Camera trocar lifting in office gasless laparoscopic sterilization under local anesthesia\"<br/><strong>E</strong>: Bo S. Bergström<br/><strong>A</strong>: Acta Obstetricia<br/><strong>B</strong>: BO S. BERGSTRÖM</p>\n",
       "<p><code>sonc50-621.nxml</code> \"Management of cutaneous metastases using electrochemotherapy\"<br/><strong>E</strong>: Louise Wichmann Matthiessen<br/><strong>A</strong>: Julie Gehl<br/><strong>B</strong>: LOUISE WICHMANN MATTHIESSEN</p>\n",
       "</blockquote></details>"
      ],
      "text/plain": [
       "<IPython.core.display.HTML object>"
      ]
     },
     "metadata": {},
     "output_type": "display_data"
    },
    {
     "data": {
      "text/markdown": [
       "## Dataset: pmc-sample-1943-cc-by-subset (first_author_full_name exact)"
      ],
      "text/plain": [
       "<IPython.core.display.Markdown object>"
      ]
     },
     "metadata": {},
     "output_type": "display_data"
    },
    {
     "data": {
      "text/html": [
       "<details><summary>Comparison: grobid-tei vs cermine</summary><p><strong>E</strong>: expected, <strong>A</strong>: pmc-sample-1943-cc-by-subset grobid-tei, <strong>B</strong>: pmc-sample-1943-cc-by-subset cermine (first_author_full_name exact)</p>\n",
       "<h4>grobid-tei [0 : 1] cermine (0)</h4>\n",
       "<p>There are 0 samples where grobid-tei got it wrong, but cermine got it right.</p>\n",
       "<h4>grobid-tei [1 : 0] cermine (3)</h4>\n",
       "<p>There are 3 samples where grobid-tei got it right, but cermine got it wrong.</p>\n",
       "<blockquote>\n",
       "<p><code>f-67-00344.nxml</code> \"Refolding, crystallization and preliminary X-ray crystallographic study of the whole extracellular regions of nectins\"<br/><strong>E</strong>: Hirotaka Narita<br/><strong>B</strong>: Laboratory of Supramolecular Crystallography</p>\n",
       "<p><code>soto131-469.nxml</code> \"Visualization and assessment of saccular duct and endolymphatic sinus\"<br/><strong>E</strong>: Hideo Yamane<br/><strong>B</strong>: HIDEO YAMANE</p>\n",
       "<p><code>apa0100-0653.nxml</code> \"Placental programming of blood pressure in Indian children\"<br/><strong>E</strong>: Nicola R Winder<br/><strong>B</strong>: Nicola R Winder (nw@mrc.soton.ac.uk)</p>\n",
       "</blockquote>\n",
       "<h4>grobid-tei [0 : 0] cermine (3)</h4>\n",
       "<p>There are 3 samples where both grobid-tei and cermine got it wrong.</p>\n",
       "<blockquote>\n",
       "<p><code>aas0055-0039.nxml</code> \"Phosphate-containing dialysis solution prevents hypophosphatemia during continuous renal replacement therapy\"<br/><strong>E</strong>: M BROMAN<br/><strong>A</strong>: M Broman<br/><strong>B</strong>: M. BROMAN</p>\n",
       "<p><code>sobs89-975.nxml</code> \"Camera trocar lifting in office gasless laparoscopic sterilization under local anesthesia\"<br/><strong>E</strong>: Bo S. Bergström<br/><strong>A</strong>: Acta Obstetricia<br/><strong>B</strong>: BO S. BERGSTRÖM</p>\n",
       "<p><code>sonc50-621.nxml</code> \"Management of cutaneous metastases using electrochemotherapy\"<br/><strong>E</strong>: Louise Wichmann Matthiessen<br/><strong>A</strong>: Julie Gehl<br/><strong>B</strong>: LOUISE WICHMANN MATTHIESSEN</p>\n",
       "</blockquote></details>"
      ],
      "text/plain": [
       "<IPython.core.display.HTML object>"
      ]
     },
     "metadata": {},
     "output_type": "display_data"
    },
    {
     "data": {
      "text/markdown": [
       "<hr/>"
      ],
      "text/plain": [
       "<IPython.core.display.Markdown object>"
      ]
     },
     "metadata": {},
     "output_type": "display_data"
    },
    {
     "data": {
      "text/markdown": [
       "# Field: author_full_names"
      ],
      "text/plain": [
       "<IPython.core.display.Markdown object>"
      ]
     },
     "metadata": {},
     "output_type": "display_data"
    },
    {
     "data": {
      "text/markdown": [
       "## Dataset: pmc-sample-1943-cc-by-subset (author_full_names levenshtein)"
      ],
      "text/plain": [
       "<IPython.core.display.Markdown object>"
      ]
     },
     "metadata": {},
     "output_type": "display_data"
    },
    {
     "data": {
      "text/html": [
       "<details><summary>Comparison: grobid-tei vs cermine</summary><p><strong>E</strong>: expected, <strong>A</strong>: pmc-sample-1943-cc-by-subset grobid-tei, <strong>B</strong>: pmc-sample-1943-cc-by-subset cermine (author_full_names levenshtein)</p>\n",
       "<h4>grobid-tei [0 : 1] cermine (2)</h4>\n",
       "<p>There are 2 samples where grobid-tei got it wrong, but cermine got it right.</p>\n",
       "<blockquote>\n",
       "<p><code>aas0055-0039.nxml</code> \"Phosphate-containing dialysis solution prevents hypophosphatemia during continuous renal replacement therapy\"<br/><strong>E</strong>: A WIESLANDER, G GODALY, H FRIBERG, M BROMAN, O CARLSSON<br/><strong>A</strong>: A Wieslander, G Godaly, H Friberg, M Broman, O Carlsson</p>\n",
       "<p><code>ORT-1745-3674-81-405.nxml</code> \"Resection arthroplasty for luxation of the manubrio-sternal joint in rheumatoid arthritis—a case report\"<br/><strong>E</strong>: Hedwig A E M van Heereveld, Maarten C de Waal Malefijt, Marloes W J L Schmitz<br/><strong>A</strong>: E M Van Heereveld, Hedwig A, Maarten C De Waal Malefijt, Marloes W J L Schmitz</p>\n",
       "</blockquote>\n",
       "<h4>grobid-tei [1 : 0] cermine (3)</h4>\n",
       "<p>There are 3 samples where grobid-tei got it right, but cermine got it wrong.</p>\n",
       "<blockquote>\n",
       "<p><code>e-67-o1363.nxml</code> \"3-Allyl-1-{[3-(4-nitro­phen­yl)-4,5-dihydro-1,3-oxazol-5-yl]meth­yl}-1H-anthra[1,2-d]imidazole-2,6,11(3H)-trione\"<br/><strong>E</strong>: Amal Haoudi, Christian Rolando, Frédéric Capet, Lahcen El Ammari, Zahra Afrakssou<br/><strong>B</strong>: Amal Haoudi, Christian Rolando, Fre´ de´ ric Capet, Lahcen El Ammari, Zahra Afrakssou</p>\n",
       "<p><code>f-67-00344.nxml</code> \"Refolding, crystallization and preliminary X-ray crystallographic study of the whole extracellular regions of nectins\"<br/><strong>E</strong>: Atsushi Nakagawa, Hirotaka Narita, Mamoru Suzuki, Toshiaki Sakisaka, Yasunori Yamamoto, Yoshimi Takai<br/><strong>B</strong>: Laboratory of Supramolecular Crystallography</p>\n",
       "<p><code>soto131-469.nxml</code> \"Visualization and assessment of saccular duct and endolymphatic sinus\"<br/><strong>E</strong>: Hideo Yamane, Hiramori Sakamoto, Kishiko Sunami, Masahiro Takayama, Matti Anniko, Toshio Imoto<br/><strong>B</strong>: HIDEO YAMANE, HIRAMORI SAKAMOTO, KISHIKO SUNAMI, MASAHIRO TAKAYAMA, MATTI ANNIKO, TOSHIO IMOTO</p>\n",
       "</blockquote>\n",
       "<h4>grobid-tei [0 : 0] cermine (3)</h4>\n",
       "<p>There are 3 samples where both grobid-tei and cermine got it wrong.</p>\n",
       "<blockquote>\n",
       "<p><code>sobs89-975.nxml</code> \"Camera trocar lifting in office gasless laparoscopic sterilization under local anesthesia\"<br/><strong>E</strong>: Bo S. Bergström<br/><strong>A</strong>: Acta Obstetricia, Gynecologica<br/><strong>B</strong>: BO S. BERGSTRÖM</p>\n",
       "<p><code>sonc50-621.nxml</code> \"Management of cutaneous metastases using electrochemotherapy\"<br/><strong>E</strong>: Alison Claire Humphreys, David Christopher George Sainsbury, Gareth Kessell, Jane Elisabeth Bond, Julie Gehl, Louise Wichmann Matthiessen, Richard Ling Chalmers, Sivakumar Veeramani, Tobian Muir<br/><strong>A</strong>: Alison Claire Humphreys, David Christopher, Gareth Kessell, George Sainsbury, Jane Elisabeth Bond, Julie Gehl, Louise Wichmann Matthiessen, Richard Ling Chalmers, Sivakumar Veeramani, Tobian Muir<br/><strong>B</strong>: ALISON CLAIRE HUMPHREYS, DAVID CHRISTOPHER GEORGE SAINSBURY, GARETH KESSELL, JANE ELISABETH BOND, JULIE GEHL, LOUISE WICHMANN MATTHIESSEN, RICHARD LING CHALMERS, SIVAKUMAR VEERAMANI, TOBIAN MUIR</p>\n",
       "<p><code>apa0100-0653.nxml</code> \"Placental programming of blood pressure in Indian children\"<br/><strong>E</strong>: Caroline HD Fall, Chitra LS Karat, David JP Barker, Ghattu V Krishnaveni, Jacqueline C Hill, Nicola R Winder, Sargoor R Veena<br/><strong>A</strong>: Caroline Hd Fall, Chitra Ls Karat, David Jp Barker, Ghattu V Krishnaveni, Jacqueline C Hill, Nicola R Winder, Nicola R Winder Correspondence, Sargoor R Veena<br/><strong>B</strong>: Caroline HD Fall, Chitra LS Karat, David JP Barker, Ghattu V Krishnaveni, Jacqueline C Hill, Nicola R Winder (nw@mrc.soton.ac.uk), Sargoor R Veena</p>\n",
       "</blockquote></details>"
      ],
      "text/plain": [
       "<IPython.core.display.HTML object>"
      ]
     },
     "metadata": {},
     "output_type": "display_data"
    },
    {
     "data": {
      "text/markdown": [
       "## Dataset: pmc-sample-1943-cc-by-subset (author_full_names exact)"
      ],
      "text/plain": [
       "<IPython.core.display.Markdown object>"
      ]
     },
     "metadata": {},
     "output_type": "display_data"
    },
    {
     "data": {
      "text/html": [
       "<details><summary>Comparison: grobid-tei vs cermine</summary><p><strong>E</strong>: expected, <strong>A</strong>: pmc-sample-1943-cc-by-subset grobid-tei, <strong>B</strong>: pmc-sample-1943-cc-by-subset cermine (author_full_names exact)</p>\n",
       "<h4>grobid-tei [0 : 1] cermine (2)</h4>\n",
       "<p>There are 2 samples where grobid-tei got it wrong, but cermine got it right.</p>\n",
       "<blockquote>\n",
       "<p><code>d-67-00463.nxml</code> \"Pi sampling: a methodical and flexible approach to initial macromolecular crystallization screening\"<br/><strong>E</strong>: Colin M. Palmer, Fabrice Gorrec, Guillaume Lebon, Tony Warne<br/><strong>A</strong>: Colin M Palmer, Fabrice Gorrec, Guillaume Lebon, Tony Warne</p>\n",
       "<p><code>ORT-1745-3674-81-405.nxml</code> \"Resection arthroplasty for luxation of the manubrio-sternal joint in rheumatoid arthritis—a case report\"<br/><strong>E</strong>: Hedwig A E M van Heereveld, Maarten C de Waal Malefijt, Marloes W J L Schmitz<br/><strong>A</strong>: E M Van Heereveld, Hedwig A, Maarten C De Waal Malefijt, Marloes W J L Schmitz</p>\n",
       "</blockquote>\n",
       "<h4>grobid-tei [1 : 0] cermine (3)</h4>\n",
       "<p>There are 3 samples where grobid-tei got it right, but cermine got it wrong.</p>\n",
       "<blockquote>\n",
       "<p><code>e-67-o1363.nxml</code> \"3-Allyl-1-{[3-(4-nitro­phen­yl)-4,5-dihydro-1,3-oxazol-5-yl]meth­yl}-1H-anthra[1,2-d]imidazole-2,6,11(3H)-trione\"<br/><strong>E</strong>: Amal Haoudi, Christian Rolando, Frédéric Capet, Lahcen El Ammari, Zahra Afrakssou<br/><strong>B</strong>: Amal Haoudi, Christian Rolando, Fre´ de´ ric Capet, Lahcen El Ammari, Zahra Afrakssou</p>\n",
       "<p><code>f-67-00344.nxml</code> \"Refolding, crystallization and preliminary X-ray crystallographic study of the whole extracellular regions of nectins\"<br/><strong>E</strong>: Atsushi Nakagawa, Hirotaka Narita, Mamoru Suzuki, Toshiaki Sakisaka, Yasunori Yamamoto, Yoshimi Takai<br/><strong>B</strong>: Laboratory of Supramolecular Crystallography</p>\n",
       "<p><code>soto131-469.nxml</code> \"Visualization and assessment of saccular duct and endolymphatic sinus\"<br/><strong>E</strong>: Hideo Yamane, Hiramori Sakamoto, Kishiko Sunami, Masahiro Takayama, Matti Anniko, Toshio Imoto<br/><strong>B</strong>: HIDEO YAMANE, HIRAMORI SAKAMOTO, KISHIKO SUNAMI, MASAHIRO TAKAYAMA, MATTI ANNIKO, TOSHIO IMOTO</p>\n",
       "</blockquote>\n",
       "<h4>grobid-tei [0 : 0] cermine (4)</h4>\n",
       "<p>There are 4 samples where both grobid-tei and cermine got it wrong.</p>\n",
       "<blockquote>\n",
       "<p><code>aas0055-0039.nxml</code> \"Phosphate-containing dialysis solution prevents hypophosphatemia during continuous renal replacement therapy\"<br/><strong>E</strong>: A WIESLANDER, G GODALY, H FRIBERG, M BROMAN, O CARLSSON<br/><strong>A</strong>: A Wieslander, G Godaly, H Friberg, M Broman, O Carlsson<br/><strong>B</strong>: A. WIESLANDER, G. GODALY, H. FRIBERG, M. BROMAN, O. CARLSSON</p>\n",
       "<p><code>sobs89-975.nxml</code> \"Camera trocar lifting in office gasless laparoscopic sterilization under local anesthesia\"<br/><strong>E</strong>: Bo S. Bergström<br/><strong>A</strong>: Acta Obstetricia, Gynecologica<br/><strong>B</strong>: BO S. BERGSTRÖM</p>\n",
       "<p><code>sonc50-621.nxml</code> \"Management of cutaneous metastases using electrochemotherapy\"<br/><strong>E</strong>: Alison Claire Humphreys, David Christopher George Sainsbury, Gareth Kessell, Jane Elisabeth Bond, Julie Gehl, Louise Wichmann Matthiessen, Richard Ling Chalmers, Sivakumar Veeramani, Tobian Muir<br/><strong>A</strong>: Alison Claire Humphreys, David Christopher, Gareth Kessell, George Sainsbury, Jane Elisabeth Bond, Julie Gehl, Louise Wichmann Matthiessen, Richard Ling Chalmers, Sivakumar Veeramani, Tobian Muir<br/><strong>B</strong>: ALISON CLAIRE HUMPHREYS, DAVID CHRISTOPHER GEORGE SAINSBURY, GARETH KESSELL, JANE ELISABETH BOND, JULIE GEHL, LOUISE WICHMANN MATTHIESSEN, RICHARD LING CHALMERS, SIVAKUMAR VEERAMANI, TOBIAN MUIR</p>\n",
       "</blockquote>\n",
       "<p>1 more</p></details>"
      ],
      "text/plain": [
       "<IPython.core.display.HTML object>"
      ]
     },
     "metadata": {},
     "output_type": "display_data"
    },
    {
     "data": {
      "text/markdown": [
       "<hr/>"
      ],
      "text/plain": [
       "<IPython.core.display.Markdown object>"
      ]
     },
     "metadata": {},
     "output_type": "display_data"
    },
    {
     "data": {
      "text/markdown": [
       "# Field: abstract"
      ],
      "text/plain": [
       "<IPython.core.display.Markdown object>"
      ]
     },
     "metadata": {},
     "output_type": "display_data"
    },
    {
     "data": {
      "text/markdown": [
       "## Dataset: pmc-sample-1943-cc-by-subset (abstract levenshtein)"
      ],
      "text/plain": [
       "<IPython.core.display.Markdown object>"
      ]
     },
     "metadata": {},
     "output_type": "display_data"
    },
    {
     "data": {
      "text/html": [
       "<details><summary>Comparison: grobid-tei vs cermine</summary><p><strong>E</strong>: expected, <strong>A</strong>: pmc-sample-1943-cc-by-subset grobid-tei, <strong>B</strong>: pmc-sample-1943-cc-by-subset cermine (abstract levenshtein)</p>\n",
       "<h4>grobid-tei [0 : 1] cermine (1)</h4>\n",
       "<p>There are 1 samples where grobid-tei got it wrong, but cermine got it right.</p>\n",
       "<blockquote>\n",
       "<p><code>sonc50-621.nxml</code> \"Management of cutaneous metastases using electrochemotherapy\"<br/><strong>E</strong>: Background. Cutaneous metastases may cause considerable discomfort as a consequence of ulceration, oozing, bleeding and pain. Electrochemotherapy has proven to be highly effective in the treatment of cutaneous metastases. Electrochemotherapy utilises pulses of electricity to increase the permeability of the cell membrane and thereby augment the effect of chemotherapy. For the drug bleomycin, the effect is enhanced several hundred-fold, enabling once-only treatment. The primary endpoint of this study is to evaluate the efficacy of electrochemotherapy as a palliative treatment. Methods. This phase II study is a collaboration between two centres, one in Denmark and the other in the UK. Patients with cutaneous metastases of any histology were included. Bleomycin was administered intratumourally or intravenously followed by application of electric pulses to the tumour site. Results. Fifty-two patients were included. Complete and partial response rate was 68% and 18%, respectively, for cutaneous metastases &lt;3 cm and 8% and 23%, respectively, for cutaneous metastases &gt;3 cm. Treatment was well-tolerated by patients, including the elderly, and no serious adverse events were observed. Conclusions. ECT is an efficient and safe treatment and clinicians should not hesitate to use it even in the elderly.<br/><strong>A</strong>: Background. Cutaneous metastases may cause considerable discomfort as a consequence of ulceration, oozing, bleeding and pain. Electrochemotherapy has proven to be highly effective in the treatment of cutaneous metastases. Electrochemo-therapy utilises pulses of electricity to increase the permeability of the cell membrane and thereby augment the effect of chemotherapy. For the drug bleomycin, the effect is enhanced several hundred-fold, enabling once-only treatment. The primary endpoint of this study is to evaluate the effi cacy of electrochemotherapy as a palliative treatment. Methods. This phase II study is a collaboration between two centres, one in Denmark and the other in the UK. Patients with cutaneous metastases of any histology were included. Bleomycin was administered intratumourally or intravenously followed by application of electric pulses to the tumour site. Results. Fifty-two patients were included. Complete and partial response rate was 68% and 18%, respectively, for cutaneous metastases 3 cm and 8% and 23%, respectively, for cutaneous metastases 3 cm. Treatment was well-tolerated by patients, including the elderly, and no serious adverse events were observed. Conclusions. ECT is an effi cient and safe treatment and clinicians should not hesitate to use it even in the elderly. A cutaneous metastasis can be defi ned as \" a neoplas-tic lesion arising from another neoplasm with which there is no longer continuity \" [1]. Cutaneous metas-tases account for 0.7% to 9% of all metastases [2]. Breast cancer accounts for 51% of the total cases of cutaneous metastases, while malignant melanoma accounts for 18% [3].</p>\n",
       "</blockquote>\n",
       "<h4>grobid-tei [1 : 0] cermine (0)</h4>\n",
       "<p>There are 0 samples where grobid-tei got it right, but cermine got it wrong.</p>\n",
       "<h4>grobid-tei [0 : 0] cermine (6)</h4>\n",
       "<p>There are 6 samples where both grobid-tei and cermine got it wrong.</p>\n",
       "<blockquote>\n",
       "<p><code>aas0055-0039.nxml</code> \"Phosphate-containing dialysis solution prevents hypophosphatemia during continuous renal replacement therapy\"<br/><strong>E</strong>: Background Hypophosphatemia occurs in up to 80% of the patients during continuous renal replacement therapy (CRRT). Phosphate supplementation is time-consuming and the phosphate level might be dangerously low before normophosphatemia is re-established. This study evaluated the possibility to prevent hypophosphatemia during CRRT treatment by using a new commercially available phosphate-containing dialysis fluid. Methods Forty-two heterogeneous intensive care unit patients, admitted between January 2007 and July 2008, undergoing hemodiafiltration, were treated with a new Gambro dialysis solution with 1.2 mM phosphate (Phoxilium) or with standard medical treatment (Hemosol B0). The patients were divided into three groups: group 1 (n=14) receiving standard medical treatment and intravenous phosphate supplementation as required, group 2 (n=14) receiving the phosphate solution as dialysate solution and Hemosol B0 as replacement solution and group 3 (n=14) receiving the phosphate-containing solution as both dialysate and replacement solutions. Results Standard medical treatment resulted in hypophosphatemia in 11 of 14 of the patients (group 1) compared with five of 14 in the patients receiving phosphate solution as the dialysate solution and Hemosol B0 as the replacement solution (group 2). Patients treated with the phosphate-containing dialysis solution (group 3) experienced stable serum phosphate levels throughout the study. Potassium, ionized calcium, magnesium, pH, pCO2 and bicarbonate remained unchanged throughout the study. Conclusion The new phosphate-containing replacement and dialysis solution reduces the variability of serum phosphate levels during CRRT and eliminates the incidence of hypophosphatemia.<br/><strong>A</strong>: nan<br/><strong>B</strong>: Background: Hypophosphatemia occurs in up to 80% of the patients during continuous renal replacement therapy (CRRT). Phosphate supplementation is time-consuming and the phosphate level might be dangerously low before normophosphatemia is re-established. This study evaluated the possibility to prevent hypophosphatemia during CRRT treatment by using a new commercially available phosphate-containing dialysis fluid. Methods: Forty-two heterogeneous intensive care unit patients, admitted between January 2007 and July 2008, undergoing hemodiafiltration, were treated with a new Gambro dialysis solution with 1.2 mM phosphate (Phoxilium) or with standard medical treatment (Hemosol B0). The patients were divided into three groups: group 1 (n 5 14) receiving standard medical treatment and intravenous phosphate supplementation as required, group 2 (n 5 14) receiving the phosphate solution as dialysate solution and Hemosol B0 as replacement solution and group 3 (n 5 14) receiving the phosphate-containing solution as both dialysate and replacement solutions.</p>\n",
       "<p><code>d-67-00463.nxml</code> \"Pi sampling: a methodical and flexible approach to initial macromolecular crystallization screening\"<br/><strong>E</strong>: Pi sampling, derived from the incomplete factorial approach, is an effort to maximize the diversity of macromolecular crystallization conditions and to facilitate the preparation of 96-condition initial screens.The Pi sampling method is derived from the incomplete factorial approach to macromolecular crystallization screen design. The resulting ‘Pi screens’ have a modular distribution of a given set of up to 36 stock solutions. Maximally diverse conditions can be produced by taking into account the properties of the chemicals used in the formulation and the concentrations of the corresponding solutions. The Pi sampling method has been implemented in a web-based application that generates screen formulations and recipes. It is particularly adapted to screens consisting of 96 different conditions. The flexibility and efficiency of Pi sampling is demonstrated by the crystallization of soluble proteins and of an integral membrane-protein sample.<br/><strong>A</strong>: The Pi sampling method is derived from the incomplete factorial approach to macromolecular crystallization screen design. The resulting 'Pi screens' have a modular distribution of a given set of up to 36 stock solutions. Maximally diverse conditions can be produced by taking into account the properties of the chemicals used in the formulation and the concentrations of the corresponding solutions. The Pi sampling method has been implemented in a web-based application that generates screen formulations and recipes. It is particularly adapted to screens consisting of 96 different conditions. The flexibility and efficiency of Pi sampling is demonstrated by the crystallization of soluble proteins and of an integral membrane-protein sample.<br/><strong>B</strong>: The Pi sampling method is derived from the incomplete factorial approach to macromolecular crystallization screen design. The resulting 'Pi screens' have a modular distribution of a given set of up to 36 stock solutions. Maximally diverse conditions can be produced by taking into account the properties of the chemicals used in the formulation and the concentrations of the corresponding solutions. The Pi sampling method has been implemented in a web-based application that generates screen formulations and recipes. It is particularly adapted to screens consisting of 96 different conditions. The flexibility and efficiency of Pi sampling is demonstrated by the crystallization of soluble proteins and of an integral membrane-protein sample.</p>\n",
       "<p><code>e-67-o1363.nxml</code> \"3-Allyl-1-{[3-(4-nitro­phen­yl)-4,5-dihydro-1,3-oxazol-5-yl]meth­yl}-1H-anthra[1,2-d]imidazole-2,6,11(3H)-trione\"<br/><strong>E</strong>: The mol­ecular structure of the title compound, C28H20N4O6, consists of three fused six-membered rings (A,B,C) and one five-membered ring (D). The latter is linked to an isoxazole ring (E) via a methyl­ene unit. A 4-nitro-phenyl substituent (F) is attached to the isoxazole. The fused five and six-membered rings (C,D) are almost coplanar with an r.m.s. deviation of 0.0345 Å and make a dihedral angle of 9.40 (8)° with ring A. The isoxazole and 4-nitro-phenyl rings (E,F) are also almost coplanar with the imidazole and the fused adjacent ring (C,D), forming a dihedral angle of 11.4 (6)°. The crystal packing displays inter­molecular C—H⋯O hydrogen bonding. An intra­molecular C—H⋯O inter­action also occurs.<br/><strong>A</strong>: Key indicators: single-crystal X-ray study; T = 296 K; mean (C-C) = 0.003 A ˚ ; R factor = 0.040; wR factor = 0.111; data-to-parameter ratio = 14.1. The molecular structure of the title compound, C 28 H 20 N 4 O 6 , consists of three fused six-membered rings (A,B,C) and one five-membered ring (D). The latter is linked to an isoxazole ring (E) via a methylene unit. A 4-nitro-phenyl substituent (F) is attached to the isoxazole. The fused five and six-membered rings (C,D) are almost coplanar with an r.m.s. deviation of 0.0345 A ˚ and make a dihedral angle of 9.40 (8) with ring A. The isoxazole and 4-nitro-phenyl rings (E,F) are also almost coplanar with the imidazole and the fused adjacent ring (C,D), forming a dihedral angle of 11.4 (6). The crystal packing displays intermolecular C-HÁ Á ÁO hydrogen bonding. An intramolecular C-HÁ Á ÁO interaction also occurs.<br/><strong>B</strong>: nan</p>\n",
       "</blockquote>\n",
       "<p>3 more</p></details>"
      ],
      "text/plain": [
       "<IPython.core.display.HTML object>"
      ]
     },
     "metadata": {},
     "output_type": "display_data"
    },
    {
     "data": {
      "text/markdown": [
       "## Dataset: pmc-sample-1943-cc-by-subset (abstract exact)"
      ],
      "text/plain": [
       "<IPython.core.display.Markdown object>"
      ]
     },
     "metadata": {},
     "output_type": "display_data"
    },
    {
     "data": {
      "text/html": [
       "<details><summary>Comparison: grobid-tei vs cermine</summary><p><strong>E</strong>: expected, <strong>A</strong>: pmc-sample-1943-cc-by-subset grobid-tei, <strong>B</strong>: pmc-sample-1943-cc-by-subset cermine (abstract exact)</p>\n",
       "<h4>grobid-tei [0 : 1] cermine (0)</h4>\n",
       "<p>There are 0 samples where grobid-tei got it wrong, but cermine got it right.</p>\n",
       "<h4>grobid-tei [1 : 0] cermine (0)</h4>\n",
       "<p>There are 0 samples where grobid-tei got it right, but cermine got it wrong.</p>\n",
       "<h4>grobid-tei [0 : 0] cermine (8)</h4>\n",
       "<p>There are 8 samples where both grobid-tei and cermine got it wrong.</p>\n",
       "<blockquote>\n",
       "<p><code>aas0055-0039.nxml</code> \"Phosphate-containing dialysis solution prevents hypophosphatemia during continuous renal replacement therapy\"<br/><strong>E</strong>: Background Hypophosphatemia occurs in up to 80% of the patients during continuous renal replacement therapy (CRRT). Phosphate supplementation is time-consuming and the phosphate level might be dangerously low before normophosphatemia is re-established. This study evaluated the possibility to prevent hypophosphatemia during CRRT treatment by using a new commercially available phosphate-containing dialysis fluid. Methods Forty-two heterogeneous intensive care unit patients, admitted between January 2007 and July 2008, undergoing hemodiafiltration, were treated with a new Gambro dialysis solution with 1.2 mM phosphate (Phoxilium) or with standard medical treatment (Hemosol B0). The patients were divided into three groups: group 1 (n=14) receiving standard medical treatment and intravenous phosphate supplementation as required, group 2 (n=14) receiving the phosphate solution as dialysate solution and Hemosol B0 as replacement solution and group 3 (n=14) receiving the phosphate-containing solution as both dialysate and replacement solutions. Results Standard medical treatment resulted in hypophosphatemia in 11 of 14 of the patients (group 1) compared with five of 14 in the patients receiving phosphate solution as the dialysate solution and Hemosol B0 as the replacement solution (group 2). Patients treated with the phosphate-containing dialysis solution (group 3) experienced stable serum phosphate levels throughout the study. Potassium, ionized calcium, magnesium, pH, pCO2 and bicarbonate remained unchanged throughout the study. Conclusion The new phosphate-containing replacement and dialysis solution reduces the variability of serum phosphate levels during CRRT and eliminates the incidence of hypophosphatemia.<br/><strong>A</strong>: nan<br/><strong>B</strong>: Background: Hypophosphatemia occurs in up to 80% of the patients during continuous renal replacement therapy (CRRT). Phosphate supplementation is time-consuming and the phosphate level might be dangerously low before normophosphatemia is re-established. This study evaluated the possibility to prevent hypophosphatemia during CRRT treatment by using a new commercially available phosphate-containing dialysis fluid. Methods: Forty-two heterogeneous intensive care unit patients, admitted between January 2007 and July 2008, undergoing hemodiafiltration, were treated with a new Gambro dialysis solution with 1.2 mM phosphate (Phoxilium) or with standard medical treatment (Hemosol B0). The patients were divided into three groups: group 1 (n 5 14) receiving standard medical treatment and intravenous phosphate supplementation as required, group 2 (n 5 14) receiving the phosphate solution as dialysate solution and Hemosol B0 as replacement solution and group 3 (n 5 14) receiving the phosphate-containing solution as both dialysate and replacement solutions.</p>\n",
       "<p><code>d-67-00463.nxml</code> \"Pi sampling: a methodical and flexible approach to initial macromolecular crystallization screening\"<br/><strong>E</strong>: Pi sampling, derived from the incomplete factorial approach, is an effort to maximize the diversity of macromolecular crystallization conditions and to facilitate the preparation of 96-condition initial screens.The Pi sampling method is derived from the incomplete factorial approach to macromolecular crystallization screen design. The resulting ‘Pi screens’ have a modular distribution of a given set of up to 36 stock solutions. Maximally diverse conditions can be produced by taking into account the properties of the chemicals used in the formulation and the concentrations of the corresponding solutions. The Pi sampling method has been implemented in a web-based application that generates screen formulations and recipes. It is particularly adapted to screens consisting of 96 different conditions. The flexibility and efficiency of Pi sampling is demonstrated by the crystallization of soluble proteins and of an integral membrane-protein sample.<br/><strong>A</strong>: The Pi sampling method is derived from the incomplete factorial approach to macromolecular crystallization screen design. The resulting 'Pi screens' have a modular distribution of a given set of up to 36 stock solutions. Maximally diverse conditions can be produced by taking into account the properties of the chemicals used in the formulation and the concentrations of the corresponding solutions. The Pi sampling method has been implemented in a web-based application that generates screen formulations and recipes. It is particularly adapted to screens consisting of 96 different conditions. The flexibility and efficiency of Pi sampling is demonstrated by the crystallization of soluble proteins and of an integral membrane-protein sample.<br/><strong>B</strong>: The Pi sampling method is derived from the incomplete factorial approach to macromolecular crystallization screen design. The resulting 'Pi screens' have a modular distribution of a given set of up to 36 stock solutions. Maximally diverse conditions can be produced by taking into account the properties of the chemicals used in the formulation and the concentrations of the corresponding solutions. The Pi sampling method has been implemented in a web-based application that generates screen formulations and recipes. It is particularly adapted to screens consisting of 96 different conditions. The flexibility and efficiency of Pi sampling is demonstrated by the crystallization of soluble proteins and of an integral membrane-protein sample.</p>\n",
       "<p><code>e-67-o1363.nxml</code> \"3-Allyl-1-{[3-(4-nitro­phen­yl)-4,5-dihydro-1,3-oxazol-5-yl]meth­yl}-1H-anthra[1,2-d]imidazole-2,6,11(3H)-trione\"<br/><strong>E</strong>: The mol­ecular structure of the title compound, C28H20N4O6, consists of three fused six-membered rings (A,B,C) and one five-membered ring (D). The latter is linked to an isoxazole ring (E) via a methyl­ene unit. A 4-nitro-phenyl substituent (F) is attached to the isoxazole. The fused five and six-membered rings (C,D) are almost coplanar with an r.m.s. deviation of 0.0345 Å and make a dihedral angle of 9.40 (8)° with ring A. The isoxazole and 4-nitro-phenyl rings (E,F) are also almost coplanar with the imidazole and the fused adjacent ring (C,D), forming a dihedral angle of 11.4 (6)°. The crystal packing displays inter­molecular C—H⋯O hydrogen bonding. An intra­molecular C—H⋯O inter­action also occurs.<br/><strong>A</strong>: Key indicators: single-crystal X-ray study; T = 296 K; mean (C-C) = 0.003 A ˚ ; R factor = 0.040; wR factor = 0.111; data-to-parameter ratio = 14.1. The molecular structure of the title compound, C 28 H 20 N 4 O 6 , consists of three fused six-membered rings (A,B,C) and one five-membered ring (D). The latter is linked to an isoxazole ring (E) via a methylene unit. A 4-nitro-phenyl substituent (F) is attached to the isoxazole. The fused five and six-membered rings (C,D) are almost coplanar with an r.m.s. deviation of 0.0345 A ˚ and make a dihedral angle of 9.40 (8) with ring A. The isoxazole and 4-nitro-phenyl rings (E,F) are also almost coplanar with the imidazole and the fused adjacent ring (C,D), forming a dihedral angle of 11.4 (6). The crystal packing displays intermolecular C-HÁ Á ÁO hydrogen bonding. An intramolecular C-HÁ Á ÁO interaction also occurs.<br/><strong>B</strong>: nan</p>\n",
       "</blockquote>\n",
       "<p>5 more</p></details>"
      ],
      "text/plain": [
       "<IPython.core.display.HTML object>"
      ]
     },
     "metadata": {},
     "output_type": "display_data"
    },
    {
     "data": {
      "text/markdown": [
       "<hr/>"
      ],
      "text/plain": [
       "<IPython.core.display.Markdown object>"
      ]
     },
     "metadata": {},
     "output_type": "display_data"
    },
    {
     "data": {
      "text/markdown": [
       "# Field: section_titles"
      ],
      "text/plain": [
       "<IPython.core.display.Markdown object>"
      ]
     },
     "metadata": {},
     "output_type": "display_data"
    },
    {
     "data": {
      "text/markdown": [
       "## Dataset: pmc-sample-1943-cc-by-subset (section_titles levenshtein)"
      ],
      "text/plain": [
       "<IPython.core.display.Markdown object>"
      ]
     },
     "metadata": {},
     "output_type": "display_data"
    },
    {
     "data": {
      "text/html": [
       "<details><summary>Comparison: grobid-tei vs cermine</summary><p><strong>E</strong>: expected, <strong>A</strong>: pmc-sample-1943-cc-by-subset grobid-tei, <strong>B</strong>: pmc-sample-1943-cc-by-subset cermine (section_titles levenshtein)</p>\n",
       "<h4>grobid-tei [0 : 1] cermine (0)</h4>\n",
       "<p>There are 0 samples where grobid-tei got it wrong, but cermine got it right.</p>\n",
       "<h4>grobid-tei [1 : 0] cermine (2)</h4>\n",
       "<p>There are 2 samples where grobid-tei got it right, but cermine got it wrong.</p>\n",
       "<blockquote>\n",
       "<p><code>f-67-00344.nxml</code> \"Refolding, crystallization and preliminary X-ray crystallographic study of the whole extracellular regions of nectins\"<br/><strong>E</strong>: Introduction, Materials and methods, Protein expression and purification of inclusion bodies, Optimization of refolding conditions and protein purification, Crystallization, Data collection, Results and discussion<br/><strong>B</strong>: 1. Introduction, 2. Materials and methods, 3. Results and discussion</p>\n",
       "<p><code>soto131-469.nxml</code> \"Visualization and assessment of saccular duct and endolymphatic sinus\"<br/><strong>E</strong>: Introduction, Material and methods, Results, Discussion<br/><strong>B</strong>: Introduction, Material and methods, Discussion, Acknowledgment</p>\n",
       "</blockquote>\n",
       "<h4>grobid-tei [0 : 0] cermine (7)</h4>\n",
       "<p>There are 7 samples where both grobid-tei and cermine got it wrong.</p>\n",
       "<blockquote>\n",
       "<p><code>aas0055-0039.nxml</code> \"Phosphate-containing dialysis solution prevents hypophosphatemia during continuous renal replacement therapy\"<br/><strong>E</strong>: Methods, Fluid composition and study design, Patients and CRRT treatments, Clinical parameters of the patients, Statistics, Results, Discussion<br/><strong>A</strong>: Methods, Fluid composition and study design, Patients and CRRT treatments, Clinical parameters of the patients, Statistics, Results, Hypophosphatemia prevention during CRRT, Discussion<br/><strong>B</strong>: -, Methods, Fluid composition and study design, Patients and CRRT treatments, Clinical parameters of the patients, Statistics, Results, Discussion, Acknowledgements</p>\n",
       "<p><code>d-67-00463.nxml</code> \"Pi sampling: a methodical and flexible approach to initial macromolecular crystallization screening\"<br/><strong>E</strong>: Introduction, Methods, Pi sampling, Pi Sampler, Pi minimal screen preparation and crystallization assays with commercially available soluble proteins, Pi-PEG screen preparation and crystallization assays with a GPCR, Results, Discussion, Pi sampling, The Pi minimal screen, The Pi-PEG screen, Conclusions<br/><strong>A</strong>: Introduction, Figure 2, Methods, Pi sampling, Pi Sampler, Pi minimal screen preparation and crystallization assays with commercially available soluble proteins, Pi-PEG screen preparation and crystallization assays with a GPCR, Set, Results, Discussion, The Pi minimal screen, The Pi-PEG screen, Conclusions<br/><strong>B</strong>: 1. Introduction, 2. Methods, 2.1. Pi sampling, 2.3. Pi minimal screen preparation and crystallization assays with commercially available soluble proteins, 2.4. Pi-PEG screen preparation and crystallization assays with a GPCR, 4. Discussion, 4.1. Pi sampling, 4.3. The Pi-PEG screen, 5. Conclusions</p>\n",
       "<p><code>e-67-o1363.nxml</code> \"3-Allyl-1-{[3-(4-nitro­phen­yl)-4,5-dihydro-1,3-oxazol-5-yl]meth­yl}-1H-anthra[1,2-d]imidazole-2,6,11(3H)-trione\"<br/><strong>E</strong>: Related literature, Experimental, , Crystal data, Data collection, Refinement, , Supplementary Material<br/><strong>A</strong>: Related literature, Experimental, C. Rolando and L. El Ammari, Comment, Figures<br/><strong>B</strong>: -, Related literature, Experimental, Crystal data, Data collection, Refinement, Comment, Experimental, Refinement Figures</p>\n",
       "</blockquote>\n",
       "<p>4 more</p></details>"
      ],
      "text/plain": [
       "<IPython.core.display.HTML object>"
      ]
     },
     "metadata": {},
     "output_type": "display_data"
    },
    {
     "data": {
      "text/markdown": [
       "## Dataset: pmc-sample-1943-cc-by-subset (section_titles exact)"
      ],
      "text/plain": [
       "<IPython.core.display.Markdown object>"
      ]
     },
     "metadata": {},
     "output_type": "display_data"
    },
    {
     "data": {
      "text/html": [
       "<details><summary>Comparison: grobid-tei vs cermine</summary><p><strong>E</strong>: expected, <strong>A</strong>: pmc-sample-1943-cc-by-subset grobid-tei, <strong>B</strong>: pmc-sample-1943-cc-by-subset cermine (section_titles exact)</p>\n",
       "<h4>grobid-tei [0 : 1] cermine (0)</h4>\n",
       "<p>There are 0 samples where grobid-tei got it wrong, but cermine got it right.</p>\n",
       "<h4>grobid-tei [1 : 0] cermine (2)</h4>\n",
       "<p>There are 2 samples where grobid-tei got it right, but cermine got it wrong.</p>\n",
       "<blockquote>\n",
       "<p><code>f-67-00344.nxml</code> \"Refolding, crystallization and preliminary X-ray crystallographic study of the whole extracellular regions of nectins\"<br/><strong>E</strong>: Introduction, Materials and methods, Protein expression and purification of inclusion bodies, Optimization of refolding conditions and protein purification, Crystallization, Data collection, Results and discussion<br/><strong>B</strong>: 1. Introduction, 2. Materials and methods, 3. Results and discussion</p>\n",
       "<p><code>soto131-469.nxml</code> \"Visualization and assessment of saccular duct and endolymphatic sinus\"<br/><strong>E</strong>: Introduction, Material and methods, Results, Discussion<br/><strong>B</strong>: Introduction, Material and methods, Discussion, Acknowledgment</p>\n",
       "</blockquote>\n",
       "<h4>grobid-tei [0 : 0] cermine (7)</h4>\n",
       "<p>There are 7 samples where both grobid-tei and cermine got it wrong.</p>\n",
       "<blockquote>\n",
       "<p><code>aas0055-0039.nxml</code> \"Phosphate-containing dialysis solution prevents hypophosphatemia during continuous renal replacement therapy\"<br/><strong>E</strong>: Methods, Fluid composition and study design, Patients and CRRT treatments, Clinical parameters of the patients, Statistics, Results, Discussion<br/><strong>A</strong>: Methods, Fluid composition and study design, Patients and CRRT treatments, Clinical parameters of the patients, Statistics, Results, Hypophosphatemia prevention during CRRT, Discussion<br/><strong>B</strong>: -, Methods, Fluid composition and study design, Patients and CRRT treatments, Clinical parameters of the patients, Statistics, Results, Discussion, Acknowledgements</p>\n",
       "<p><code>d-67-00463.nxml</code> \"Pi sampling: a methodical and flexible approach to initial macromolecular crystallization screening\"<br/><strong>E</strong>: Introduction, Methods, Pi sampling, Pi Sampler, Pi minimal screen preparation and crystallization assays with commercially available soluble proteins, Pi-PEG screen preparation and crystallization assays with a GPCR, Results, Discussion, Pi sampling, The Pi minimal screen, The Pi-PEG screen, Conclusions<br/><strong>A</strong>: Introduction, Figure 2, Methods, Pi sampling, Pi Sampler, Pi minimal screen preparation and crystallization assays with commercially available soluble proteins, Pi-PEG screen preparation and crystallization assays with a GPCR, Set, Results, Discussion, The Pi minimal screen, The Pi-PEG screen, Conclusions<br/><strong>B</strong>: 1. Introduction, 2. Methods, 2.1. Pi sampling, 2.3. Pi minimal screen preparation and crystallization assays with commercially available soluble proteins, 2.4. Pi-PEG screen preparation and crystallization assays with a GPCR, 4. Discussion, 4.1. Pi sampling, 4.3. The Pi-PEG screen, 5. Conclusions</p>\n",
       "<p><code>e-67-o1363.nxml</code> \"3-Allyl-1-{[3-(4-nitro­phen­yl)-4,5-dihydro-1,3-oxazol-5-yl]meth­yl}-1H-anthra[1,2-d]imidazole-2,6,11(3H)-trione\"<br/><strong>E</strong>: Related literature, Experimental, , Crystal data, Data collection, Refinement, , Supplementary Material<br/><strong>A</strong>: Related literature, Experimental, C. Rolando and L. El Ammari, Comment, Figures<br/><strong>B</strong>: -, Related literature, Experimental, Crystal data, Data collection, Refinement, Comment, Experimental, Refinement Figures</p>\n",
       "</blockquote>\n",
       "<p>4 more</p></details>"
      ],
      "text/plain": [
       "<IPython.core.display.HTML object>"
      ]
     },
     "metadata": {},
     "output_type": "display_data"
    },
    {
     "data": {
      "text/markdown": [
       "<hr/>"
      ],
      "text/plain": [
       "<IPython.core.display.Markdown object>"
      ]
     },
     "metadata": {},
     "output_type": "display_data"
    },
    {
     "data": {
      "text/markdown": [
       "# Field: affiliation_strings"
      ],
      "text/plain": [
       "<IPython.core.display.Markdown object>"
      ]
     },
     "metadata": {},
     "output_type": "display_data"
    },
    {
     "data": {
      "text/markdown": [
       "## Dataset: pmc-sample-1943-cc-by-subset (affiliation_strings levenshtein)"
      ],
      "text/plain": [
       "<IPython.core.display.Markdown object>"
      ]
     },
     "metadata": {},
     "output_type": "display_data"
    },
    {
     "data": {
      "text/html": [
       "<details><summary>Comparison: grobid-tei vs cermine</summary><p><strong>E</strong>: expected, <strong>A</strong>: pmc-sample-1943-cc-by-subset grobid-tei, <strong>B</strong>: pmc-sample-1943-cc-by-subset cermine (affiliation_strings levenshtein)</p>\n",
       "<h4>grobid-tei [0 : 1] cermine (2)</h4>\n",
       "<p>There are 2 samples where grobid-tei got it wrong, but cermine got it right.</p>\n",
       "<blockquote>\n",
       "<p><code>sobs89-975.nxml</code> \"Camera trocar lifting in office gasless laparoscopic sterilization under local anesthesia\"<br/><strong>E</strong>: Department of Obstetrics &amp; Gynecology, Nordfjord Hospital, Nordfjordeid, Norway<br/><strong>A</strong>: nan</p>\n",
       "<p><code>apha0202-0379.nxml</code> \"On the function of the mammalian renal papilla and the peristalsis of the surrounding pelvis\"<br/><strong>E</strong>: Department of Physiology, University of Florida, Gainesville, FL, USA, Lexington, MA, USA<br/><strong>A</strong>: Department of Physiology, University of Florida, Gainesville, USA, Loring Rd, Lexington, Lexington, USA, USA</p>\n",
       "</blockquote>\n",
       "<h4>grobid-tei [1 : 0] cermine (1)</h4>\n",
       "<p>There are 1 samples where grobid-tei got it right, but cermine got it wrong.</p>\n",
       "<blockquote>\n",
       "<p><code>ORT-1745-3674-81-405.nxml</code> \"Resection arthroplasty for luxation of the manubrio-sternal joint in rheumatoid arthritis—a case report\"<br/><strong>E</strong>: Department of Orthopaedics, Department of Rheumatology, Radboud University Nijmegen Medical Centre, the Netherlands<br/><strong>B</strong>: Departments of, Orthopaedics, Rheumatology, Radboud University Nijmegen Medical Centre, the Netherlands Submitted 09-09-25. Accepted 09-11-02</p>\n",
       "</blockquote>\n",
       "<h4>grobid-tei [0 : 0] cermine (5)</h4>\n",
       "<p>There are 5 samples where both grobid-tei and cermine got it wrong.</p>\n",
       "<blockquote>\n",
       "<p><code>d-67-00463.nxml</code> \"Pi sampling: a methodical and flexible approach to initial macromolecular crystallization screening\"<br/><strong>E</strong>: MRC Laboratory of Molecular Biology, England<br/><strong>A</strong>: Acta Crystallographica Section D, MRC Laboratory of Molecular Biology, Hills Road, CB2 0QH, Cambridge, England Correspondence<br/><strong>B</strong>: MRC Laboratory of Molecular Biology, Hills Road, Cambridge CB2 0QH, England</p>\n",
       "<p><code>e-67-o1363.nxml</code> \"3-Allyl-1-{[3-(4-nitro­phen­yl)-4,5-dihydro-1,3-oxazol-5-yl]meth­yl}-1H-anthra[1,2-d]imidazole-2,6,11(3H)-trione\"<br/><strong>E</strong>: France, Morocco<br/><strong>A</strong>: Faculté des Sciences et Techniques, Laboratoire de Chimie Organique Appliquée, Université Sidi Mohamed Ben Abdallah, Route d'Immouzzer, BP 2202 Fès, Morocco, Faculté des Sciences, Acta Crystallographica Section E, Laboratoire de Chimie du Solide Appliquée, Université Mohammed V-Agdal, Avenue Ibn Battouta, BP 1014, Rabat, Morocco Correspondence, USR 3290 Miniaturisation pour l'Analyse, la Synthèse et la Protéomique, Université Lille-1, 59655 Villeneuve d'Ascq Cedex, France,, Unité de Catalyse et de Chimie du Solide (UCCS), UMR 8181, Ecole Nationale Supérieure de Chimie de Lille, France<br/><strong>B</strong>: Laboratoire de Chimie Organique Applique ?e, Universite ? Sidi Mohamed Ben Abdallah, Faculte ? des Sciences et Techniques, Route d'Immouzzer, BP 2202 Fe<code>s, Morocco, Laboratoire de Chimie du Solide Applique ?e, Faculte ? des Sciences, Universite ? Mohammed V-Agdal, Avenue Ibn Battouta, BP 1014, Rabat, Morocco, USR 3290 Miniaturisation pour l'Analyse, la Synthe</code>se et la Prote ?omique, 59655 Villeneuve d'Ascq Cedex, Universite ? Lille-1, France, Unite ? de Catalyse et de Chimie du Solide (UCCS), UMR 8181, Ecole Nationale Supe ?rieure de Chimie de Lille, France</p>\n",
       "<p><code>f-67-00344.nxml</code> \"Refolding, crystallization and preliminary X-ray crystallographic study of the whole extracellular regions of nectins\"<br/><strong>E</strong>: Kobe University Graduate School of Medicine, Japan, Osaka University, Japan<br/><strong>A</strong>: Acta Crystallographica Section F, Division of Membrane Dynamics, Department of Physiology and Cell Biology, Kobe University Graduate School of Medicine, 650-0017, Kobe, Japan,, Division of Molecular and Cellular Biology, Department of Biochemistry and Molecular Biology, Kobe University Graduate School of Medicine, 650-0017, Kobe, Japan Correspondence, Institute for Protein Research, Laboratory of Supramolecular Crystallography, Research Center for Structural and Functional Proteomics, Osaka University, 565-0871, Suita, Japan<br/><strong>B</strong>: Division of Membrane Dynamics, Department of Physiology and Cell Biology, Kobe University Graduate School of Medicine, Kobe 650-0017, Japan, Division of Molecular and Cellular Biology, Department of Biochemistry and Molecular Biology, Kobe University Graduate School of Medicine, Kobe 650-0017, Japan, Hirotaka Narita, Research Center for Structural and Functional Proteomics, Institute for Protein Research, Osaka University, Suita 565-0871, Japan, Yasunori Yamamoto</p>\n",
       "</blockquote>\n",
       "<p>2 more</p></details>"
      ],
      "text/plain": [
       "<IPython.core.display.HTML object>"
      ]
     },
     "metadata": {},
     "output_type": "display_data"
    },
    {
     "data": {
      "text/markdown": [
       "## Dataset: pmc-sample-1943-cc-by-subset (affiliation_strings exact)"
      ],
      "text/plain": [
       "<IPython.core.display.Markdown object>"
      ]
     },
     "metadata": {},
     "output_type": "display_data"
    },
    {
     "data": {
      "text/html": [
       "<details><summary>Comparison: grobid-tei vs cermine</summary><p><strong>E</strong>: expected, <strong>A</strong>: pmc-sample-1943-cc-by-subset grobid-tei, <strong>B</strong>: pmc-sample-1943-cc-by-subset cermine (affiliation_strings exact)</p>\n",
       "<h4>grobid-tei [0 : 1] cermine (2)</h4>\n",
       "<p>There are 2 samples where grobid-tei got it wrong, but cermine got it right.</p>\n",
       "<blockquote>\n",
       "<p><code>sobs89-975.nxml</code> \"Camera trocar lifting in office gasless laparoscopic sterilization under local anesthesia\"<br/><strong>E</strong>: Department of Obstetrics &amp; Gynecology, Nordfjord Hospital, Nordfjordeid, Norway<br/><strong>A</strong>: nan</p>\n",
       "<p><code>apha0202-0379.nxml</code> \"On the function of the mammalian renal papilla and the peristalsis of the surrounding pelvis\"<br/><strong>E</strong>: Department of Physiology, University of Florida, Gainesville, FL, USA, Lexington, MA, USA<br/><strong>A</strong>: Department of Physiology, University of Florida, Gainesville, USA, Loring Rd, Lexington, Lexington, USA, USA</p>\n",
       "</blockquote>\n",
       "<h4>grobid-tei [1 : 0] cermine (0)</h4>\n",
       "<p>There are 0 samples where grobid-tei got it right, but cermine got it wrong.</p>\n",
       "<h4>grobid-tei [0 : 0] cermine (6)</h4>\n",
       "<p>There are 6 samples where both grobid-tei and cermine got it wrong.</p>\n",
       "<blockquote>\n",
       "<p><code>d-67-00463.nxml</code> \"Pi sampling: a methodical and flexible approach to initial macromolecular crystallization screening\"<br/><strong>E</strong>: MRC Laboratory of Molecular Biology, England<br/><strong>A</strong>: Acta Crystallographica Section D, MRC Laboratory of Molecular Biology, Hills Road, CB2 0QH, Cambridge, England Correspondence<br/><strong>B</strong>: MRC Laboratory of Molecular Biology, Hills Road, Cambridge CB2 0QH, England</p>\n",
       "<p><code>e-67-o1363.nxml</code> \"3-Allyl-1-{[3-(4-nitro­phen­yl)-4,5-dihydro-1,3-oxazol-5-yl]meth­yl}-1H-anthra[1,2-d]imidazole-2,6,11(3H)-trione\"<br/><strong>E</strong>: France, Morocco<br/><strong>A</strong>: Faculté des Sciences et Techniques, Laboratoire de Chimie Organique Appliquée, Université Sidi Mohamed Ben Abdallah, Route d'Immouzzer, BP 2202 Fès, Morocco, Faculté des Sciences, Acta Crystallographica Section E, Laboratoire de Chimie du Solide Appliquée, Université Mohammed V-Agdal, Avenue Ibn Battouta, BP 1014, Rabat, Morocco Correspondence, USR 3290 Miniaturisation pour l'Analyse, la Synthèse et la Protéomique, Université Lille-1, 59655 Villeneuve d'Ascq Cedex, France,, Unité de Catalyse et de Chimie du Solide (UCCS), UMR 8181, Ecole Nationale Supérieure de Chimie de Lille, France<br/><strong>B</strong>: Laboratoire de Chimie Organique Applique ?e, Universite ? Sidi Mohamed Ben Abdallah, Faculte ? des Sciences et Techniques, Route d'Immouzzer, BP 2202 Fe<code>s, Morocco, Laboratoire de Chimie du Solide Applique ?e, Faculte ? des Sciences, Universite ? Mohammed V-Agdal, Avenue Ibn Battouta, BP 1014, Rabat, Morocco, USR 3290 Miniaturisation pour l'Analyse, la Synthe</code>se et la Prote ?omique, 59655 Villeneuve d'Ascq Cedex, Universite ? Lille-1, France, Unite ? de Catalyse et de Chimie du Solide (UCCS), UMR 8181, Ecole Nationale Supe ?rieure de Chimie de Lille, France</p>\n",
       "<p><code>f-67-00344.nxml</code> \"Refolding, crystallization and preliminary X-ray crystallographic study of the whole extracellular regions of nectins\"<br/><strong>E</strong>: Kobe University Graduate School of Medicine, Japan, Osaka University, Japan<br/><strong>A</strong>: Acta Crystallographica Section F, Division of Membrane Dynamics, Department of Physiology and Cell Biology, Kobe University Graduate School of Medicine, 650-0017, Kobe, Japan,, Division of Molecular and Cellular Biology, Department of Biochemistry and Molecular Biology, Kobe University Graduate School of Medicine, 650-0017, Kobe, Japan Correspondence, Institute for Protein Research, Laboratory of Supramolecular Crystallography, Research Center for Structural and Functional Proteomics, Osaka University, 565-0871, Suita, Japan<br/><strong>B</strong>: Division of Membrane Dynamics, Department of Physiology and Cell Biology, Kobe University Graduate School of Medicine, Kobe 650-0017, Japan, Division of Molecular and Cellular Biology, Department of Biochemistry and Molecular Biology, Kobe University Graduate School of Medicine, Kobe 650-0017, Japan, Hirotaka Narita, Research Center for Structural and Functional Proteomics, Institute for Protein Research, Osaka University, Suita 565-0871, Japan, Yasunori Yamamoto</p>\n",
       "</blockquote>\n",
       "<p>3 more</p></details>"
      ],
      "text/plain": [
       "<IPython.core.display.HTML object>"
      ]
     },
     "metadata": {},
     "output_type": "display_data"
    },
    {
     "data": {
      "text/markdown": [
       "<hr/>"
      ],
      "text/plain": [
       "<IPython.core.display.Markdown object>"
      ]
     },
     "metadata": {},
     "output_type": "display_data"
    },
    {
     "data": {
      "text/markdown": [
       "# Field: affiliation_institution"
      ],
      "text/plain": [
       "<IPython.core.display.Markdown object>"
      ]
     },
     "metadata": {},
     "output_type": "display_data"
    },
    {
     "data": {
      "text/markdown": [
       "## Dataset: pmc-sample-1943-cc-by-subset (affiliation_institution levenshtein)"
      ],
      "text/plain": [
       "<IPython.core.display.Markdown object>"
      ]
     },
     "metadata": {},
     "output_type": "display_data"
    },
    {
     "data": {
      "text/html": [
       "<details><summary>Comparison: grobid-tei vs cermine</summary><p><strong>E</strong>: expected, <strong>A</strong>: pmc-sample-1943-cc-by-subset grobid-tei, <strong>B</strong>: pmc-sample-1943-cc-by-subset cermine (affiliation_institution levenshtein)</p>\n",
       "<h4>grobid-tei [0 : 1] cermine (2)</h4>\n",
       "<p>There are 2 samples where grobid-tei got it wrong, but cermine got it right.</p>\n",
       "<blockquote>\n",
       "<p><code>d-67-00463.nxml</code> \"Pi sampling: a methodical and flexible approach to initial macromolecular crystallization screening\"<br/><strong>E</strong>: MRC Laboratory of Molecular Biology<br/><strong>A</strong>: Acta Crystallographica Section D, MRC Laboratory of Molecular Biology</p>\n",
       "<p><code>apha0202-0379.nxml</code> \"On the function of the mammalian renal papilla and the peristalsis of the surrounding pelvis\"<br/><strong>E</strong>: Department of Physiology, University of Florida, Lexington<br/><strong>A</strong>: , Department of Physiology, University of Florida</p>\n",
       "</blockquote>\n",
       "<h4>grobid-tei [1 : 0] cermine (1)</h4>\n",
       "<p>There are 1 samples where grobid-tei got it right, but cermine got it wrong.</p>\n",
       "<blockquote>\n",
       "<p><code>ORT-1745-3674-81-405.nxml</code> \"Resection arthroplasty for luxation of the manubrio-sternal joint in rheumatoid arthritis—a case report\"<br/><strong>E</strong>: Department of Orthopaedics, Department of Rheumatology, Radboud University Nijmegen Medical Centre<br/><strong>B</strong>: Departments of, Orthopaedics, Rheumatology, Radboud University Nijmegen Medical Centre</p>\n",
       "</blockquote>\n",
       "<h4>grobid-tei [0 : 0] cermine (6)</h4>\n",
       "<p>There are 6 samples where both grobid-tei and cermine got it wrong.</p>\n",
       "<blockquote>\n",
       "<p><code>e-67-o1363.nxml</code> \"3-Allyl-1-{[3-(4-nitro­phen­yl)-4,5-dihydro-1,3-oxazol-5-yl]meth­yl}-1H-anthra[1,2-d]imidazole-2,6,11(3H)-trione\"<br/><strong>E</strong>: nan<br/><strong>A</strong>: Faculté des Sciences et Techniques, Laboratoire de Chimie Organique Appliquée, Université Sidi Mohamed Ben Abdallah, Faculté des Sciences, Acta Crystallographica Section E, Laboratoire de Chimie du Solide Appliquée, Université Mohammed V-Agdal, USR 3290 Miniaturisation pour l'Analyse, la Synthèse et la Protéomique, Université Lille-1, Unité de Catalyse et de Chimie du Solide (UCCS), UMR 8181, Ecole Nationale Supérieure de Chimie de Lille<br/><strong>B</strong>: Laboratoire de Chimie Organique Applique ?e, Universite ? Sidi Mohamed Ben Abdallah, Faculte ? des Sciences et Techniques, Laboratoire de Chimie du Solide Applique ?e, Faculte ? des Sciences, Universite ? Mohammed V-Agdal, USR 3290 Miniaturisation pour l'Analyse, la Synthe`se et la Prote ?omique, 59655 Villeneuve d'Ascq Cedex, Unite ? de Catalyse et de Chimie du Solide (UCCS), UMR 8181, Ecole Nationale Supe ?rieure de Chimie de Lille</p>\n",
       "<p><code>f-67-00344.nxml</code> \"Refolding, crystallization and preliminary X-ray crystallographic study of the whole extracellular regions of nectins\"<br/><strong>E</strong>: Kobe University Graduate School of Medicine, Osaka University<br/><strong>A</strong>: Acta Crystallographica Section F, Division of Membrane Dynamics, Department of Physiology and Cell Biology, Kobe University Graduate School of Medicine, Division of Molecular and Cellular Biology, Department of Biochemistry and Molecular Biology, Kobe University Graduate School of Medicine, Institute for Protein Research, Laboratory of Supramolecular Crystallography, Research Center for Structural and Functional Proteomics, Osaka University<br/><strong>B</strong>: Division of Membrane Dynamics, Department of Physiology and Cell Biology, Kobe University Graduate School of Medicine, Division of Molecular and Cellular Biology, Department of Biochemistry and Molecular Biology, Kobe University Graduate School of Medicine, Hirotaka Narita, Research Center for Structural and Functional Proteomics, Institute for Protein Research, Osaka University, Yasunori Yamamoto</p>\n",
       "<p><code>sobs89-975.nxml</code> \"Camera trocar lifting in office gasless laparoscopic sterilization under local anesthesia\"<br/><strong>E</strong>: nan<br/><strong>A</strong>: nan<br/><strong>B</strong>: Department of Obstetrics &amp; Gynecology, Nordfjord Hospital</p>\n",
       "</blockquote>\n",
       "<p>3 more</p></details>"
      ],
      "text/plain": [
       "<IPython.core.display.HTML object>"
      ]
     },
     "metadata": {},
     "output_type": "display_data"
    },
    {
     "data": {
      "text/markdown": [
       "## Dataset: pmc-sample-1943-cc-by-subset (affiliation_institution exact)"
      ],
      "text/plain": [
       "<IPython.core.display.Markdown object>"
      ]
     },
     "metadata": {},
     "output_type": "display_data"
    },
    {
     "data": {
      "text/html": [
       "<details><summary>Comparison: grobid-tei vs cermine</summary><p><strong>E</strong>: expected, <strong>A</strong>: pmc-sample-1943-cc-by-subset grobid-tei, <strong>B</strong>: pmc-sample-1943-cc-by-subset cermine (affiliation_institution exact)</p>\n",
       "<h4>grobid-tei [0 : 1] cermine (2)</h4>\n",
       "<p>There are 2 samples where grobid-tei got it wrong, but cermine got it right.</p>\n",
       "<blockquote>\n",
       "<p><code>d-67-00463.nxml</code> \"Pi sampling: a methodical and flexible approach to initial macromolecular crystallization screening\"<br/><strong>E</strong>: MRC Laboratory of Molecular Biology<br/><strong>A</strong>: Acta Crystallographica Section D, MRC Laboratory of Molecular Biology</p>\n",
       "<p><code>apha0202-0379.nxml</code> \"On the function of the mammalian renal papilla and the peristalsis of the surrounding pelvis\"<br/><strong>E</strong>: Department of Physiology, University of Florida, Lexington<br/><strong>A</strong>: , Department of Physiology, University of Florida</p>\n",
       "</blockquote>\n",
       "<h4>grobid-tei [1 : 0] cermine (0)</h4>\n",
       "<p>There are 0 samples where grobid-tei got it right, but cermine got it wrong.</p>\n",
       "<h4>grobid-tei [0 : 0] cermine (7)</h4>\n",
       "<p>There are 7 samples where both grobid-tei and cermine got it wrong.</p>\n",
       "<blockquote>\n",
       "<p><code>e-67-o1363.nxml</code> \"3-Allyl-1-{[3-(4-nitro­phen­yl)-4,5-dihydro-1,3-oxazol-5-yl]meth­yl}-1H-anthra[1,2-d]imidazole-2,6,11(3H)-trione\"<br/><strong>E</strong>: nan<br/><strong>A</strong>: Faculté des Sciences et Techniques, Laboratoire de Chimie Organique Appliquée, Université Sidi Mohamed Ben Abdallah, Faculté des Sciences, Acta Crystallographica Section E, Laboratoire de Chimie du Solide Appliquée, Université Mohammed V-Agdal, USR 3290 Miniaturisation pour l'Analyse, la Synthèse et la Protéomique, Université Lille-1, Unité de Catalyse et de Chimie du Solide (UCCS), UMR 8181, Ecole Nationale Supérieure de Chimie de Lille<br/><strong>B</strong>: Laboratoire de Chimie Organique Applique ?e, Universite ? Sidi Mohamed Ben Abdallah, Faculte ? des Sciences et Techniques, Laboratoire de Chimie du Solide Applique ?e, Faculte ? des Sciences, Universite ? Mohammed V-Agdal, USR 3290 Miniaturisation pour l'Analyse, la Synthe`se et la Prote ?omique, 59655 Villeneuve d'Ascq Cedex, Unite ? de Catalyse et de Chimie du Solide (UCCS), UMR 8181, Ecole Nationale Supe ?rieure de Chimie de Lille</p>\n",
       "<p><code>f-67-00344.nxml</code> \"Refolding, crystallization and preliminary X-ray crystallographic study of the whole extracellular regions of nectins\"<br/><strong>E</strong>: Kobe University Graduate School of Medicine, Osaka University<br/><strong>A</strong>: Acta Crystallographica Section F, Division of Membrane Dynamics, Department of Physiology and Cell Biology, Kobe University Graduate School of Medicine, Division of Molecular and Cellular Biology, Department of Biochemistry and Molecular Biology, Kobe University Graduate School of Medicine, Institute for Protein Research, Laboratory of Supramolecular Crystallography, Research Center for Structural and Functional Proteomics, Osaka University<br/><strong>B</strong>: Division of Membrane Dynamics, Department of Physiology and Cell Biology, Kobe University Graduate School of Medicine, Division of Molecular and Cellular Biology, Department of Biochemistry and Molecular Biology, Kobe University Graduate School of Medicine, Hirotaka Narita, Research Center for Structural and Functional Proteomics, Institute for Protein Research, Osaka University, Yasunori Yamamoto</p>\n",
       "<p><code>sobs89-975.nxml</code> \"Camera trocar lifting in office gasless laparoscopic sterilization under local anesthesia\"<br/><strong>E</strong>: nan<br/><strong>A</strong>: nan<br/><strong>B</strong>: Department of Obstetrics &amp; Gynecology, Nordfjord Hospital</p>\n",
       "</blockquote>\n",
       "<p>4 more</p></details>"
      ],
      "text/plain": [
       "<IPython.core.display.HTML object>"
      ]
     },
     "metadata": {},
     "output_type": "display_data"
    },
    {
     "data": {
      "text/markdown": [
       "<hr/>"
      ],
      "text/plain": [
       "<IPython.core.display.Markdown object>"
      ]
     },
     "metadata": {},
     "output_type": "display_data"
    },
    {
     "data": {
      "text/markdown": [
       "# Field: first_reference_fields"
      ],
      "text/plain": [
       "<IPython.core.display.Markdown object>"
      ]
     },
     "metadata": {},
     "output_type": "display_data"
    },
    {
     "data": {
      "text/markdown": [
       "## Dataset: pmc-sample-1943-cc-by-subset (first_reference_fields levenshtein)"
      ],
      "text/plain": [
       "<IPython.core.display.Markdown object>"
      ]
     },
     "metadata": {},
     "output_type": "display_data"
    },
    {
     "data": {
      "text/html": [
       "<details><summary>Comparison: grobid-tei vs cermine</summary><p><strong>E</strong>: expected, <strong>A</strong>: pmc-sample-1943-cc-by-subset grobid-tei, <strong>B</strong>: pmc-sample-1943-cc-by-subset cermine (first_reference_fields levenshtein)</p>\n",
       "<h4>grobid-tei [0 : 1] cermine (3)</h4>\n",
       "<p>There are 3 samples where grobid-tei got it wrong, but cermine got it right.</p>\n",
       "<blockquote>\n",
       "<p><code>sonc50-621.nxml</code> \"Management of cutaneous metastases using electrochemotherapy\"<br/><strong>E</strong>: [u'1', u'Schwartz', u'RA', u'Cutaneous metastatic disease', u'J Am Acad Dermatol', u'1995', u'33', u'161', u'82', u'7622642']<br/><strong>A</strong>: [u'Cutaneous metastatic disease', u'R', u'A', u'Schwartz', u'J Am Acad', u'']</p>\n",
       "<p><code>ORT-1745-3674-81-405.nxml</code> \"Resection arthroplasty for luxation of the manubrio-sternal joint in rheumatoid arthritis—a case report\"<br/><strong>E</strong>: [u'Bogdan', u'A', u'Clark', u'J', u'Manubrio-sternal joint in rheumatoid arthritis', u'Br Med J', u'1950', u'16', u'1361', u'2', u'14792027']<br/><strong>A</strong>: [u'Manubriosternal joint subluxation in rheumatoid arthritis', u'T K', u'Khong', u'P', u'J', u'Rooney', u'J Reumatol', u'9', u'', u'']</p>\n",
       "<p><code>apha0202-0379.nxml</code> \"On the function of the mammalian renal papilla and the peristalsis of the surrounding pelvis\"<br/><strong>E</strong>: [u'Dantzler', u'WH', u'Unpublished remarks', u'The William H. Dantzler Symposium', u'2006', u'Tucson, AZ', u'April 6\\u20137']<br/><strong>A</strong>: [u'Unpublished remarks. The William H. Dantzler Symposium', u'W', u'H', u'Dantzler', u'', u'Tucson, AZ']</p>\n",
       "</blockquote>\n",
       "<h4>grobid-tei [1 : 0] cermine (0)</h4>\n",
       "<p>There are 0 samples where grobid-tei got it right, but cermine got it wrong.</p>\n",
       "<h4>grobid-tei [0 : 0] cermine (1)</h4>\n",
       "<p>There are 1 samples where both grobid-tei and cermine got it wrong.</p>\n",
       "<blockquote>\n",
       "<p><code>apa0100-0653.nxml</code> \"Placental programming of blood pressure in Indian children\"<br/><strong>E</strong>: [u'1', u'Law', u'CM', u'de', u'SM', u'Osmond', u'C', u'Fayers', u'PM', u'Barker', u'DJ', u'Cruddas', u'AM', u'', u'in utero', u'Br Med J', u'1993', u'306', u'24', u'7', u'8435572']<br/><strong>A</strong>: [u'Initiation of hypertension in utero and its amplification throughout life', u'C', u'M', u'Law', u'S', u'M', u'De', u'C', u'Osmond', u'P', u'M', u'Fayers', u'D', u'J', u'Barker', u'A', u'M', u'Cruddas', u'Br Med J', u'306', u'', u'']<br/><strong>B</strong>: [u'Law', u'CM', u'de', u'SM', u'Osmond', u'C', u'Fayers', u'PM', u'Barker', u'DJ', u'Cruddas', u'AM', u'Initiation of hypertension in utero and its amplification throughout life', u'Br Med J', u'1993', u'306', u'24', u'7']</p>\n",
       "</blockquote></details>"
      ],
      "text/plain": [
       "<IPython.core.display.HTML object>"
      ]
     },
     "metadata": {},
     "output_type": "display_data"
    },
    {
     "data": {
      "text/markdown": [
       "## Dataset: pmc-sample-1943-cc-by-subset (first_reference_fields exact)"
      ],
      "text/plain": [
       "<IPython.core.display.Markdown object>"
      ]
     },
     "metadata": {},
     "output_type": "display_data"
    },
    {
     "data": {
      "text/html": [
       "<details><summary>Comparison: grobid-tei vs cermine</summary><p><strong>E</strong>: expected, <strong>A</strong>: pmc-sample-1943-cc-by-subset grobid-tei, <strong>B</strong>: pmc-sample-1943-cc-by-subset cermine (first_reference_fields exact)</p>\n",
       "<h4>grobid-tei [0 : 1] cermine (0)</h4>\n",
       "<p>There are 0 samples where grobid-tei got it wrong, but cermine got it right.</p>\n",
       "<h4>grobid-tei [1 : 0] cermine (0)</h4>\n",
       "<p>There are 0 samples where grobid-tei got it right, but cermine got it wrong.</p>\n",
       "<h4>grobid-tei [0 : 0] cermine (10)</h4>\n",
       "<p>There are 10 samples where both grobid-tei and cermine got it wrong.</p>\n",
       "<blockquote>\n",
       "<p><code>aas0055-0039.nxml</code> \"Phosphate-containing dialysis solution prevents hypophosphatemia during continuous renal replacement therapy\"<br/><strong>E</strong>: [u'1', u'Troyanov', u'S', u'Geadah', u'D', u'Ghannoum', u'M', u'Cardinal', u'J', u'Leblanc', u'M', u'Phosphate addition to hemodiafiltration solutions during continuous renal replacement therapy', u'Intensive Care Med', u'2004', u'30', u'1662', u'5', u'15156308']<br/><strong>A</strong>: [u'Phosphate addition to hemodiafiltration solutions during continuous renal replacement therapy', u'S', u'Troyanov', u'D', u'Geadah', u'M', u'Ghannoum', u'J', u'Cardinal', u'M', u'Leblanc', u'Intensive Care Med', u'30', u'', u'']<br/><strong>B</strong>: [u'Troyanov', u'S', u'Geadah', u'D', u'Ghannoum', u'M', u'Cardinal', u'J', u'Leblanc', u'M.', u'Phosphate addition to hemodiafiltration solutions during continuous renal replacement therapy', u'Intensive Care Med', u'2004', u'30', u'1662', u'5']</p>\n",
       "<p><code>d-67-00463.nxml</code> \"Pi sampling: a methodical and flexible approach to initial macromolecular crystallization screening\"<br/><strong>E</strong>: [u'J. Appl. Cryst.', u'39']<br/><strong>A</strong>: [u'', u'V', u'Berejnov', u'N', u'S', u'Husseini', u'O', u'A', u'Alsaied', u'R', u'E', u'Thorne', u'J. Appl. Cryst', u'39', u'', u'']<br/><strong>B</strong>: [u'Berejnov', u'V.', u'Husseini', u'N. S.', u'Alsaied', u'O. A.', u'Thorne', u'R. E.', u'2006', u'J. Appl. Cryst', u'39', u'244', u'251']</p>\n",
       "<p><code>e-67-o1363.nxml</code> \"3-Allyl-1-{[3-(4-nitro­phen­yl)-4,5-dihydro-1,3-oxazol-5-yl]meth­yl}-1H-anthra[1,2-d]imidazole-2,6,11(3H)-trione\"<br/><strong>E</strong>: [u'Acta Cryst.', u'66']<br/><strong>A</strong>: [u'', u'Z', u'Afrakssou', u'Y', u'K', u'Rodi', u'H', u'Zouihri', u'E', u'M', u'Essassi', u'S', u'W', u'Ng', u'Acta Cryst', u'66', u'1851', u'']<br/><strong>B</strong>: [u'Afrakssou', u'Z.', u'Rodi', u'Y. K.', u'Zouihri', u'H.', u'Essassi', u'E. M.', u'Ng', u'S. W.', u'2010', u'Acta Cryst. E66', u'o1851']</p>\n",
       "</blockquote>\n",
       "<p>7 more</p></details>"
      ],
      "text/plain": [
       "<IPython.core.display.HTML object>"
      ]
     },
     "metadata": {},
     "output_type": "display_data"
    },
    {
     "data": {
      "text/markdown": [
       "<hr/>"
      ],
      "text/plain": [
       "<IPython.core.display.Markdown object>"
      ]
     },
     "metadata": {},
     "output_type": "display_data"
    },
    {
     "data": {
      "text/markdown": [
       "# Field: first_reference_title"
      ],
      "text/plain": [
       "<IPython.core.display.Markdown object>"
      ]
     },
     "metadata": {},
     "output_type": "display_data"
    },
    {
     "data": {
      "text/markdown": [
       "## Dataset: pmc-sample-1943-cc-by-subset (first_reference_title levenshtein)"
      ],
      "text/plain": [
       "<IPython.core.display.Markdown object>"
      ]
     },
     "metadata": {},
     "output_type": "display_data"
    },
    {
     "data": {
      "text/html": [
       "<details><summary>Comparison: grobid-tei vs cermine</summary><p><strong>E</strong>: expected, <strong>A</strong>: pmc-sample-1943-cc-by-subset grobid-tei, <strong>B</strong>: pmc-sample-1943-cc-by-subset cermine (first_reference_title levenshtein)</p>\n",
       "<h4>grobid-tei [0 : 1] cermine (2)</h4>\n",
       "<p>There are 2 samples where grobid-tei got it wrong, but cermine got it right.</p>\n",
       "<blockquote>\n",
       "<p><code>ORT-1745-3674-81-405.nxml</code> \"Resection arthroplasty for luxation of the manubrio-sternal joint in rheumatoid arthritis—a case report\"<br/><strong>E</strong>: Manubrio-sternal joint in rheumatoid arthritis<br/><strong>A</strong>: Manubriosternal joint subluxation in rheumatoid arthritis</p>\n",
       "<p><code>apha0202-0379.nxml</code> \"On the function of the mammalian renal papilla and the peristalsis of the surrounding pelvis\"<br/><strong>E</strong>: Unpublished remarks<br/><strong>A</strong>: nan</p>\n",
       "</blockquote>\n",
       "<h4>grobid-tei [1 : 0] cermine (0)</h4>\n",
       "<p>There are 0 samples where grobid-tei got it right, but cermine got it wrong.</p>\n",
       "<h4>grobid-tei [0 : 0] cermine (3)</h4>\n",
       "<p>There are 3 samples where both grobid-tei and cermine got it wrong.</p>\n",
       "<blockquote>\n",
       "<p><code>d-67-00463.nxml</code> \"Pi sampling: a methodical and flexible approach to initial macromolecular crystallization screening\"<br/><strong>E</strong>: nan<br/><strong>A</strong>: nan<br/><strong>B</strong>: nan</p>\n",
       "<p><code>e-67-o1363.nxml</code> \"3-Allyl-1-{[3-(4-nitro­phen­yl)-4,5-dihydro-1,3-oxazol-5-yl]meth­yl}-1H-anthra[1,2-d]imidazole-2,6,11(3H)-trione\"<br/><strong>E</strong>: nan<br/><strong>A</strong>: nan<br/><strong>B</strong>: nan</p>\n",
       "<p><code>f-67-00344.nxml</code> \"Refolding, crystallization and preliminary X-ray crystallographic study of the whole extracellular regions of nectins\"<br/><strong>E</strong>: nan<br/><strong>A</strong>: nan<br/><strong>B</strong>: nan</p>\n",
       "</blockquote></details>"
      ],
      "text/plain": [
       "<IPython.core.display.HTML object>"
      ]
     },
     "metadata": {},
     "output_type": "display_data"
    },
    {
     "data": {
      "text/markdown": [
       "## Dataset: pmc-sample-1943-cc-by-subset (first_reference_title exact)"
      ],
      "text/plain": [
       "<IPython.core.display.Markdown object>"
      ]
     },
     "metadata": {},
     "output_type": "display_data"
    },
    {
     "data": {
      "text/html": [
       "<details><summary>Comparison: grobid-tei vs cermine</summary><p><strong>E</strong>: expected, <strong>A</strong>: pmc-sample-1943-cc-by-subset grobid-tei, <strong>B</strong>: pmc-sample-1943-cc-by-subset cermine (first_reference_title exact)</p>\n",
       "<h4>grobid-tei [0 : 1] cermine (2)</h4>\n",
       "<p>There are 2 samples where grobid-tei got it wrong, but cermine got it right.</p>\n",
       "<blockquote>\n",
       "<p><code>ORT-1745-3674-81-405.nxml</code> \"Resection arthroplasty for luxation of the manubrio-sternal joint in rheumatoid arthritis—a case report\"<br/><strong>E</strong>: Manubrio-sternal joint in rheumatoid arthritis<br/><strong>A</strong>: Manubriosternal joint subluxation in rheumatoid arthritis</p>\n",
       "<p><code>apha0202-0379.nxml</code> \"On the function of the mammalian renal papilla and the peristalsis of the surrounding pelvis\"<br/><strong>E</strong>: Unpublished remarks<br/><strong>A</strong>: nan</p>\n",
       "</blockquote>\n",
       "<h4>grobid-tei [1 : 0] cermine (0)</h4>\n",
       "<p>There are 0 samples where grobid-tei got it right, but cermine got it wrong.</p>\n",
       "<h4>grobid-tei [0 : 0] cermine (3)</h4>\n",
       "<p>There are 3 samples where both grobid-tei and cermine got it wrong.</p>\n",
       "<blockquote>\n",
       "<p><code>d-67-00463.nxml</code> \"Pi sampling: a methodical and flexible approach to initial macromolecular crystallization screening\"<br/><strong>E</strong>: nan<br/><strong>A</strong>: nan<br/><strong>B</strong>: nan</p>\n",
       "<p><code>e-67-o1363.nxml</code> \"3-Allyl-1-{[3-(4-nitro­phen­yl)-4,5-dihydro-1,3-oxazol-5-yl]meth­yl}-1H-anthra[1,2-d]imidazole-2,6,11(3H)-trione\"<br/><strong>E</strong>: nan<br/><strong>A</strong>: nan<br/><strong>B</strong>: nan</p>\n",
       "<p><code>f-67-00344.nxml</code> \"Refolding, crystallization and preliminary X-ray crystallographic study of the whole extracellular regions of nectins\"<br/><strong>E</strong>: nan<br/><strong>A</strong>: nan<br/><strong>B</strong>: nan</p>\n",
       "</blockquote></details>"
      ],
      "text/plain": [
       "<IPython.core.display.HTML object>"
      ]
     },
     "metadata": {},
     "output_type": "display_data"
    },
    {
     "data": {
      "text/markdown": [
       "<hr/>"
      ],
      "text/plain": [
       "<IPython.core.display.Markdown object>"
      ]
     },
     "metadata": {},
     "output_type": "display_data"
    },
    {
     "data": {
      "text/markdown": [
       "# Field: reference_fields"
      ],
      "text/plain": [
       "<IPython.core.display.Markdown object>"
      ]
     },
     "metadata": {},
     "output_type": "display_data"
    },
    {
     "data": {
      "text/markdown": [
       "## Dataset: pmc-sample-1943-cc-by-subset (reference_fields levenshtein)"
      ],
      "text/plain": [
       "<IPython.core.display.Markdown object>"
      ]
     },
     "metadata": {},
     "output_type": "display_data"
    },
    {
     "data": {
      "text/html": [
       "<details><summary>Comparison: grobid-tei vs cermine</summary><p><strong>E</strong>: expected, <strong>A</strong>: pmc-sample-1943-cc-by-subset grobid-tei, <strong>B</strong>: pmc-sample-1943-cc-by-subset cermine (reference_fields levenshtein)</p>\n",
       "<h4>grobid-tei [0 : 1] cermine (3)</h4>\n",
       "<p>There are 3 samples where grobid-tei got it wrong, but cermine got it right.</p>\n",
       "<blockquote>\n",
       "<p><code>aas0055-0039.nxml</code> \"Phosphate-containing dialysis solution prevents hypophosphatemia during continuous renal replacement therapy\"<br/><strong>E</strong>: [u'1', u'Troyanov', u'S', u'Geadah', u'D', u'Ghannoum', u'M', u'Cardinal', u'J', u'Leblanc', u'M', u'Phosphate addition to hemodiafiltration solutions during continuous renal replacement therapy', u'Intensive Care Med', u'2004', u'30', u'1662', u'5', u'15156308'], [u'2', u'Marik', u'PE', u'Bedigian', u'MK', u'Refeeding hypophosphatemia in critically ill patients in an intensive care unit. A prospective study', u'Arch Surg', u'1996', u'131', u'1043', u'7', u'8857900'], [u'3', u'Bugg', u'NC', u'Jones', u'JA', u'Hypophosphataemia. Pathophysiology, effects and management on the intensive care unit', u'Anaesthesia', u'1998', u'53', u'895', u'902', u'9849285'], [u'4', u'Skulberg', u'A', u'Sr.', u'Glucose: a potential killer', u'Acta Anaesthesiol Scand', u'2009', u'53', u'684', u'19419367'], [u'5', u'Peppers', u'MP', u'Geheb', u'M', u'Desai', u'T', u'Endocrine crises. Hypophosphatemia and hyperphosphatemia', u'Crit Care Clin', u'1991', u'7', u'201', u'14', u'2007215'], [u'6', u'Elisaf', u'MS', u'Siamopoulos', u'KC', u'Mechanisms of hypophosphataemia in alcoholic patients', u'Int J Clin Pract', u'1997', u'51', u'501', u'3', u'9536603'], [u'7', u'Zazzo', u'JF', u'Troche', u'G', u'Ruel', u'P', u'Maintenant', u'J', u'High incidence of hypophosphatemia in surgical intensive care patients: efficacy of phosphorus therapy on myocardial function', u'Intensive Care Med', u'1995', u'21', u'826', u'31', u'8557871'], [u'8', u'Tan', u'HK', u'Bellomo', u'R', u\"M'Pis\", u'DA', u'Ronco', u'C', u'Phosphatemic control during acute renal failure: intermittent hemodialysis versus continuous hemodiafiltration', u'Int J Artif Organs', u'2001', u'24', u'186', u'91', u'11394697'], [u'9', u'Baldwin', u'I', u'Naka', u'T', u'Koch', u'B', u'Fealy', u'N', u'Bellomo', u'R', u'A pilot randomised controlled comparison of continuous veno-venous haemofiltration and extended daily dialysis with filtration: effect on small solutes and acid-base balance', u'Intensive Care Med', u'2007', u'33', u'830', u'5', u'17384931'], [u'10', u'Shor', u'R', u'Halabe', u'A', u'Rishver', u'S', u'Tilis', u'Y', u'Matas', u'Z', u'Fux', u'A', u'Boaz', u'M', u'Weinstein', u'J', u'Severe hypophosphatemia in sepsis as a mortality predictor', u'Ann Clin Lab Sci', u'2006', u'36', u'67', u'72', u'16501239'], [u'11', u'Stoff', u'JS', u'Phosphate homeostasis and hypophosphatemia', u'Am J Med', u'1982', u'72', u'489', u'95', u'7036738'], [u'12', u'Brown', u'GR', u'Greenwood', u'JK', u'Drug- and nutrition-induced hypophosphatemia: mechanisms and relevance in the critically ill', u'Ann Pharmacother', u'1994', u'28', u'626', u'32', u'8069002'], [u'13', u'Bollaert', u'PE', u'Levy', u'B', u'Nace', u'L', u'Laterre', u'PF', u'Larcan', u'A', u'Hemodynamic and metabolic effects of rapid correction of hypophosphatemia in patients with septic shock', u'Chest', u'1995', u'107', u'1698', u'701', u'7781370'], [u'14', u'Paterson', u'CR', u'Hypophosphataemia: a dangerous disorder', u'Nutrition', u'1996', u'12', u'540', u'1', u'8878151'], [u'15', u'Paula', u'FJ', u'Plens', u'AE', u'Foss', u'MC', u'Effects of hypophosphatemia on glucose tolerance and insulin secretion', u'Horm Metab Res', u'1998', u'30', u'281', u'4', u'9660090'], [u'16', u'Ravenscroft', u'AJ', u'Valentine', u'JM', u'Knappett', u'PA', u'Severe hypophosphataemia and insulin resistance in diabetic ketoacidosis', u'Anaesthesia', u'1999', u'54', u'198', u'10215720'], [u'17', u'Weber', u'U', u'Huppe', u'T', u'Niehaus', u'L', u'CT and MRI in severe hypophosphataemia with central nervous system involvement', u'Neuroradiology', u'2000', u'42', u'112', u'4', u'10663486'], [u'18', u'Darsee', u'JR', u'Nutter', u'DO', u'Reversible severe congestive cardiomyopathy in three cases of hypophosphatemia', u'Ann Intern Med', u'1978', u'89', u'867', u'70', u'363007'], [u'19', u'Aubier', u'M', u'Murciano', u'D', u'Lecocguic', u'Y', u'Viires', u'N', u'Jacquens', u'Y', u'Squara', u'P', u'Pariente', u'R', u'Effect of hypophosphatemia on diaphragmatic contractility in patients with acute respiratory failure', u'N Engl J Med', u'1985', u'313', u'420', u'4', u'3860734'], [u'20', u'Williams', u'JD', u'Topley', u'N', u'Craig', u'KJ', u'Mackenzie', u'RK', u'Pischetsrieder', u'M', u'Lage', u'C', u'Passlick-Deetjen', u'J', u'The Euro-balance trial: the effect of a new biocompatible peritoneal dialysis fluid (balance) on the peritoneal membrane', u'Kidney Int', u'2004', u'66', u'408', u'18', u'15200450'], [u'21', u'Gatchalian', u'RA', u'Popli', u'A', u'Ejaz', u'AA', u'Leehey', u'DJ', u'Kjellstrand', u'CM', u'Ing', u'TS', u'Management of hypophosphatemia induced by high-flux hemodiafiltration for the treatment of vancomycin toxicity: intravenous phosphorus therapy versus use of a phosphorus-enriched dialysate', u'Am J Kidney Dis', u'2000', u'36', u'1262', u'6', u'11096051'], [u'22', u'Santiago', u'MJ', u'Lopez-Herce', u'J', u'Urbano', u'J', u'Bellon', u'JM', u'del Castillo', u'J', u'Carrillo', u'A', u'Hypophosphatemia and phosphate supplementation during continuous renal replacement therapy in children', u'Kidney Int', u'2009', u'75', u'312', u'6', u'19002217'], [u'23', u'Janssen van Doorn', u'K', u'Spapen', u'H', u'Geers', u'C', u'Diltoer', u'M', u'Shabana', u'W', u'Sepsis-related acute kidney injury: a protective effect of drotrecogin alpha (activated) treatment?', u'Acta Anaesthesiol Scand', u'2008', u'52', u'1259', u'64', u'18823466'], [u'24', u'Lentz', u'RD', u'Brown', u'DM', u'Kjellstrand', u'CM', u'Treatment of severe hypophosphatemia', u'Ann Intern Med', u'1978', u'89', u'941', u'4', u'102230'], [u'25', u'Vannatta', u'JB', u'Whang', u'R', u'Papper', u'S', u'Efficacy of intravenous phosphorus therapy in the severely hypophosphatemic patient', u'Arch Intern Med', u'1981', u'141', u'885', u'7', u'7235807'], [u'26', u'Vannatta', u'JB', u'Andress', u'DL', u'Whang', u'R', u'Papper', u'S', u'High-dose intravenous phosphorus therapy for severe complicated hypophosphatemia', u'South Med J', u'1983', u'76', u'1424', u'6', u'6635736'], [u'27', u'Kingston', u'M', u\"Al-Siba'i\", u'MB', u'Treatment of severe hypophosphatemia', u'Crit Care Med', u'1985', u'13', u'16', u'8', u'3965243'], [u'28', u'Sacks', u'GS', u'Walker', u'J', u'Dickerson', u'RN', u'Kudsk', u'KA', u'Brown', u'RO', u'Observations of hypophosphatemia and its management in nutrition support', u'Nutr Clin Pract', u'1994', u'9', u'105', u'8', u'8078444'], [u'29', u'Clark', u'CL', u'Sacks', u'GS', u'Dickerson', u'RN', u'Kudsk', u'KA', u'Brown', u'RO', u'Treatment of hypophosphatemia in patients receiving specialized nutrition support using a graduated dosing scheme: results from a prospective clinical trial', u'Crit Care Med', u'1995', u'23', u'1504', u'11', u'7664552'], [u'30', u'Rosen', u'GH', u'Boullata', u'JI', u\"O'Rangers\", u'EA', u'Enow', u'NB', u'Shin', u'B', u'Intravenous phosphate repletion regimen for critically ill patients with moderate hypophosphatemia', u'Crit Care Med', u'1995', u'23', u'1204', u'10', u'7600828'], [u'31', u'Perreault', u'MM', u'Ostrop', u'NJ', u'Tierney', u'MG', u'Efficacy and safety of intravenous phosphate replacement in critically ill patients', u'Ann Pharmacother', u'1997', u'31', u'683', u'8', u'9184705'], [u'32', u'Charron', u'T', u'Bernard', u'F', u'Skrobik', u'Y', u'Simoneau', u'N', u'Gagnon', u'N', u'Leblanc', u'M', u'Intravenous phosphate in the intensive care unit: more aggressive repletion regimens for moderate and severe hypophosphatemia', u'Intensive Care Med', u'2003', u'29', u'1273', u'8', u'12845429'], [u'33', u'Barak', u'V', u'Schwartz', u'A', u'Kalickman', u'I', u'Nisman', u'B', u'Gurman', u'G', u'Shoenfeld', u'Y', u'Prevalence of hypophosphatemia in sepsis and infection: the role of cytokines', u'Am J Med', u'1998', u'104', u'40', u'7', u'9528718'], [u'34', u'Walker', u'K', u'Dallas Hall', u'W', u'Hurst', u'W', u'Stoneham', u'M', u'Serum inorganic phosphate', u'Clinical methods', u'1990', u'London', u'Butterworth Publishers', u'895', u'9'], [u'35', u'Morimatsu', u'H', u'Uchino', u'S', u'Bellomo', u'R', u'Ronco', u'C', u'Continuous veno-venous hemodiafiltration or hemofiltration: impact on calcium, phosphate and magnesium concentrations', u'Int J Artif Organs', u'2002', u'25', u'512', u'9', u'12117290'], [u'36', u'Kraus', u'MA', u'Selection of dialysate and replacement fluids and management of electrolyte and acid\\u2013base disturbances', u'Semin Dial', u'2009', u'22', u'137', u'40', u'19426416']<br/><strong>A</strong>: [u'Phosphate addition to hemodiafiltration solutions during continuous renal replacement therapy', u'S', u'Troyanov', u'D', u'Geadah', u'M', u'Ghannoum', u'J', u'Cardinal', u'M', u'Leblanc', u'Intensive Care Med', u'30', u'', u''], [u'Refeeding hypophosphatemia in critically ill patients in an intensive care unit. A prospective study', u'P', u'E', u'Marik', u'M', u'K', u'Bedigian', u'Arch Surg', u'131', u'', u''], [u'Pathophysiology, effects and management on the intensive care unit', u'N', u'C', u'Bugg', u'J', u'A', u'Jones', u'Hypophosphataemia', u'Anaesthesia', u'53', u'', u''], [u'Glucose: a potential killer', u'A', u'Skulberg', u'Sr', u'Acta Anaesthesiol Scand', u'53', u'684', u''], [u'Endocrine crises. Hypophosphatemia and hyperphosphatemia', u'M', u'P', u'Peppers', u'M', u'Geheb', u'T', u'Desai', u'Crit Care Clin', u'7', u'', u''], [u'Mechanisms of hypophosphataemia in alcoholic patients', u'M', u'S', u'Elisaf', u'K', u'C', u'Siamopoulos', u'Int J Clin Pract', u'51', u'', u''], [u'High incidence of hypophosphatemia in surgical intensive care patients: efficacy of phosphorus therapy on myocardial function', u'J', u'F', u'Zazzo', u'G', u'Troche', u'P', u'Ruel', u'J', u'Maintenant', u'Intensive Care Med', u'21', u'', u''], [u'Phosphatemic control during acute renal failure: intermittent hemodialysis versus continuous hemodiafiltration', u'H', u'K', u'Tan', u'R', u'Bellomo', u'M', u'Pis', u'D', u'A', u'Ronco', u'C', u'Int J Artif Organs', u'24', u'', u''], [u'A pilot randomised controlled comparison of continuous venovenous haemofiltration and extended daily dialysis with filtration: effect on small solutes and acid-base balance', u'I', u'Baldwin', u'T', u'Naka', u'B', u'Koch', u'N', u'Fealy', u'R', u'Bellomo', u'Intensive Care Med', u'33', u'', u''], [u'Severe hypophosphatemia in sepsis as a mortality predictor', u'R', u'Shor', u'A', u'Halabe', u'S', u'Rishver', u'Y', u'Tilis', u'Z', u'Matas', u'A', u'Fux', u'M', u'Boaz', u'J', u'Weinstein', u'Ann Clin Lab Sci', u'36', u'', u''], [u'Phosphate homeostasis and hypophosphatemia', u'J', u'S', u'Stoff', u'Am J Med', u'72', u'', u''], [u'Drug-and nutrition-induced hypophosphatemia: mechanisms and relevance in the critically ill', u'G', u'R', u'Brown', u'J', u'K', u'Greenwood', u'Ann Pharmacother', u'28', u'', u''], [u'Hemodynamic and metabolic effects of rapid correction of hypophosphatemia in patients with septic shock', u'P', u'E', u'Bollaert', u'B', u'Levy', u'L', u'Nace', u'P', u'F', u'Laterre', u'A', u'Larcan', u'Chest', u'107', u'', u''], [u'Hypophosphataemia: a dangerous disorder', u'C', u'R', u'Paterson', u'Nutrition', u'12', u'', u''], [u'Effects of hypophosphatemia on glucose tolerance and insulin secretion', u'F', u'J', u'Paula', u'A', u'E', u'Plens', u'M', u'C', u'Foss', u'Horm Metab Res', u'30', u'', u''], [u'Severe hypophosphataemia and insulin resistance in diabetic ketoacidosis', u'A', u'J', u'Ravenscroft', u'J', u'M', u'Valentine', u'P', u'A', u'Knappett', u'Anaesthesia', u'54', u''], [u'CT and MRI in severe hypophosphataemia with central nervous system involvement', u'U', u'Weber', u'T', u'Huppe', u'L', u'Niehaus', u'Neuroradiology', u'42', u'', u''], [u'Reversible severe congestive cardiomyopathy in three cases of hypophosphatemia', u'J', u'R', u'Darsee', u'D', u'O', u'Nutter', u'Ann Intern Med', u'89', u'', u''], [u'Effect of hypophosphatemia on diaphragmatic contractility in patients with acute respiratory failure', u'M', u'Aubier', u'D', u'Murciano', u'Y', u'Lecocguic', u'N', u'Viires', u'Y', u'Jacquens', u'P', u'Squara', u'R', u'Pariente', u'N Engl J Med', u'313', u'', u''], [u'The Euro-balance trial: the effect of a new biocompatible peritoneal dialysis fluid (balance) on the peritoneal membrane', u'J', u'D', u'Williams', u'N', u'Topley', u'K', u'J', u'Craig', u'R', u'K', u'Mackenzie', u'M', u'Pischetsrieder', u'C', u'Lage', u'J', u'Passlick-Deetjen', u'Kidney Int', u'66', u'', u''], [u'Management of hypophosphatemia induced by high-flux hemodiafiltration for the treatment of vancomycin toxicity: intravenous phosphorus therapy versus use of a phosphorus-enriched dialysate', u'R', u'A', u'Gatchalian', u'A', u'Popli', u'A', u'A', u'Ejaz', u'D', u'J', u'Leehey', u'C', u'M', u'Kjellstrand', u'T', u'S', u'Ing', u'Am J Kidney Dis', u'36', u'', u''], [u'Hypophosphatemia and phosphate supplementation during continuous renal replacement therapy in children', u'M', u'J', u'Santiago', u'J', u'Lopez-Herce', u'Urbano', u'J', u'Bellon', u'J', u'M', u'Del Castillo', u'J', u'Carrillo', u'A', u'Kidney Int', u'75', u'', u''], [u'Sepsis-related acute kidney injury: a protective effect of drotrecogin alpha (activated) treatment?', u'K', u'Janssen Van Doorn', u'H', u'Spapen', u'C', u'Geers', u'M', u'Diltoer', u'W', u'Shabana', u'Acta Anaesthesiol Scand', u'52', u'', u''], [u'Treatment of severe hypophosphatemia', u'R', u'D', u'Lentz', u'D', u'M', u'Brown', u'C', u'M', u'Kjellstrand', u'Ann Intern Med', u'89', u'', u''], [u'Efficacy of intravenous phosphorus therapy in the severely hypophosphatemic patient', u'J', u'B', u'Vannatta', u'R', u'Whang', u'S', u'Papper', u'Arch Intern Med', u'141', u'', u''], [u'High-dose intravenous phosphorus therapy for severe complicated hypophosphatemia', u'J', u'B', u'Vannatta', u'D', u'L', u'Andress', u'R', u'Whang', u'S', u'Papper', u'South Med J', u'76', u'', u''], [u'Treatment of severe hypophosphatemia', u'M', u'Kingston', u'Al-Siba&apos;i Mb', u'Crit Care Med', u'13', u'', u''], [u'Observations of hypophosphatemia and its management in nutrition support', u'G', u'S', u'Sacks', u'J', u'Walker', u'R', u'N', u'Dickerson', u'K', u'A', u'Kudsk', u'R', u'O', u'Brown', u'Nutr Clin Pract', u'9', u'', u''], [u'Treatment of hypophosphatemia in patients receiving specialized nutrition support using a graduated dosing scheme: results from a prospective clinical trial', u'C', u'L', u'Clark', u'G', u'S', u'Sacks', u'R', u'N', u'Dickerson', u'K', u'A', u'Kudsk', u'R', u'O', u'Brown', u'Crit Care Med', u'23', u'', u''], [u'Intravenous phosphate repletion regimen for critically ill patients with moderate hypophosphatemia', u'G', u'H', u'Rosen', u'J', u'I', u'Boullata', u'O', u'&apos;rangers', u'E', u'A', u'Enow', u'N', u'B', u'Shin', u'B', u'Crit Care Med', u'23', u'', u''], [u'Efficacy and safety of intravenous phosphate replacement in critically ill patients', u'M', u'M', u'Perreault', u'N', u'J', u'Ostrop', u'M', u'G', u'Tierney', u'Ann Pharmacother', u'31', u'', u''], [u'Intravenous phosphate in the intensive care unit: more aggressive repletion regimens for moderate and severe hypophosphatemia', u'T', u'Charron', u'F', u'Bernard', u'Y', u'Skrobik', u'N', u'Simoneau', u'N', u'Gagnon', u'M', u'Leblanc', u'Intensive Care Med', u'29', u'', u''], [u'Prevalence of hypophosphatemia in sepsis and infection: the role of cytokines', u'V', u'Barak', u'A', u'Schwartz', u'I', u'Kalickman', u'B', u'Nisman', u'G', u'Gurman', u'Y', u'Shoenfeld', u'Am J Med', u'104', u'', u''], [u'Serum inorganic phosphate', u'K', u'Walker', u'Dallas', u'Hall', u'W', u'Hurst', u'W', u'Stoneham M', u'', u'Butterworth Publishers', u'', u'London'], [u'Continuous veno-venous hemodiafiltration or hemofiltration: impact on calcium, phosphate and magnesium concentrations', u'H', u'Morimatsu', u'S', u'Uchino', u'R', u'Bellomo', u'C', u'Ronco', u'Int J Artif Organs', u'25', u'', u''], [u'Selection of dialysate and replacement fluids and management of electrolyte and acid-base disturbances', u'M', u'A', u'Kraus', u'Semin Dial', u'22', u'', u'']</p>\n",
       "<p><code>sonc50-621.nxml</code> \"Management of cutaneous metastases using electrochemotherapy\"<br/><strong>E</strong>: [u'1', u'Schwartz', u'RA', u'Cutaneous metastatic disease', u'J Am Acad Dermatol', u'1995', u'33', u'161', u'82', u'7622642'], [u'2', u'Rolz-Cruz', u'G', u'Kim', u'CC', u'Tumor invasion of the skin', u'Dermatol Clin', u'2008', u'26', u'89', u'102', u'viii', u'18023773'], [u'3', u'Lookingbill', u'DP', u'Spangler', u'N', u'Helm', u'KF', u'Cutaneous metastases in patients with metastatic carcinoma: A retrospective study of 4020 patients', u'J Am Acad Dermatol', u'1993', u'29', u'228', u'36', u'8335743'], [u'4', u'Heller', u'R', u'Jaroszeski', u'MJ', u'Reintgen', u'DS', u'Puleo', u'CA', u'DeConti', u'RC', u'Gilbert', u'RA', u'', u'Treatment of cutaneous and subcutaneous tumors with electrochemotherapy using intralesional bleomycin', u'Cancer', u'1998', u'83', u'148', u'57', u'9655305'], [u'5', u'Marty', u'M', u'Sersa', u'G', u'Garbay', u'JR', u'Gehl', u'J', u'Collins', u'CG', u'Snoj', u'M', u'', u'Electrochemotherapy, An easy, highly effective and safe treatment of cutaneous and subcutaneous metastases: Results of ESOPE (European Standard Operating Procedures of Electrochemotherapy) study', u'EJC Supplements', u'2006', u'4', u'3', u'13'], [u'6', u'Mir', u'LM', u'Glass', u'LF', u'Sersa', u'G', u'Teissie', u'J', u'Domenge', u'C', u'Miklavcic', u'D', u'', u'Effective treatment of cutaneous and subcutaneous malignant tumours by electrochemotherapy', u'Br J Cancer', u'1998', u'77', u'2336', u'42', u'9649155'], [u'7', u'Gehl', u'J', u'Electroporation: Theory and methods, perspectives for drug delivery, gene therapy and research', u'Acta Physiol Scand', u'2003', u'177', u'437', u'47', u'12648161'], [u'8', u'Tounekti', u'O', u'Pron', u'G', u'Belehradek', u'J', u'Jr', u'Mir', u'LM', u'Bleomycin, an apoptosis-mimetic drug that induces two types of cell death depending on the number of molecules internalized', u'Cancer Res', u'1993', u'53', u'5462', u'9', u'7693342'], [u'9', u'Gehl', u'J', u'Skovsgaard', u'T', u'Mir', u'LM', u'Enhancement of cytotoxicity by electropermeabilization: An improved method for screening drugs', u'Anticancer Drugs', u'1998', u'9', u'319', u'25', u'9635922'], [u'10', u'Orlowski', u'S', u'Belehradek', u'J', u'Jr', u'Paoletti', u'C', u'Mir', u'LM', u'Transient electropermeabilization of cells in culture. Increase of the cytotoxicity of anticancer drugs', u'Biochem Pharmacol', u'1988', u'37', u'4727', u'33', u'2462423'], [u'11', u'Jaroszeski', u'MJ', u'Dang', u'V', u'Pottinger', u'C', u'Hickey', u'J', u'Gilbert', u'R', u'Heller', u'R', u'Toxicity of anticancer agents mediated by electroporation in vitro', u'Anticancer Drugs', u'2000', u'11', u'201', u'8', u'10831279'], [u'12', u'Belehradek', u'M', u'Domenge', u'C', u'Luboinski', u'B', u'Orlowski', u'S', u'Belehradek', u'J', u'Jr', u'Mir', u'LM', u'Electrochemotherapy, a new antitumor treatment. First clinical phase I-II trial', u'Cancer', u'1993', u'72', u'3694', u'700', u'7504576'], [u'13', u'Campana', u'LG', u'Mocellin', u'S', u'Basso', u'M', u'Puccetti', u'O', u'De Salvo', u'GL', u'Chiarion-Sileni', u'V', u'', u\"Bleomycin-based electrochemotherapy: Clinical outcome from a single institution's experience with 52 patients\", u'Ann Surg Oncol', u'2009', u'16', u'191', u'9', u'18987914'], [u'14', u'Gothelf', u'A', u'Mir', u'LM', u'Gehl', u'J', u'Electrochemotherapy: Results of cancer treatment using enhanced delivery of bleomycin by electroporation', u'Cancer Treat Rev', u'2003', u'29', u'371', u'87', u'12972356'], [u'15', u'Rodriguez-Cuevas', u'S', u'Barroso-Bravo', u'S', u'Manza-Estrada', u'J', u'Cristobal-Martinez', u'L', u'Gonzalez-Rodriguez', u'E', u'Electrochemotherapy in primary and metastatic skin tumors: Phase II trial using intralesional bleomycin', u'Arch Med Res', u'2001', u'32', u'273', u'6', u'11440782'], [u'16', u'Gehl', u'J', u'Geertsen', u'PF', u'Efficient palliation of haemorrhaging malignant melanoma skin metastases by electrochemotherapy', u'Melanoma Res', u'2000', u'10', u'585', u'9', u'11198481'], [u'17', u'Mir', u'LM', u'Gehl', u'J', u'Sersa', u'G', u'Collins', u'CG', u'Garbay', u'JR', u'Billard', u'V', u'', u'Standard operating procedures of the electrochemotherapy: Instructions for the use of bleomycin or cisplatin administered either systemically or locally and electric pulses delivered by the CliniporatorTM by means of invasive or non-invasive electrodes', u'EJC Supplements', u'2006', u'4', u'14', u'25'], [u'18', u'Domenge', u'C', u'Orlowski', u'S', u'Luboinski', u'B', u'De', u'BT', u'Schwaab', u'G', u'Belehradek', u'J', u'Jr', u'', u'Antitumor electrochemotherapy: New advances in the clinical protocol', u'Cancer', u'1996', u'77', u'956', u'63', u'8608490'], [u'19', u'Hall', u'SW', u'Strong', u'JE', u'Broughton', u'A', u'Frazier', u'ML', u'Benjamin', u'RS', u'Bleomycin clinical pharmacology by radioimmunoassay', u'Cancer Chemother Pharmacol', u'1982', u'9', u'22', u'5', u'6183016'], [u'20', u'Mathes', u'DD', u'Bleomycin and hyperoxia exposure in the operating room', u'Anesth Analg', u'1995', u'81', u'624', u'9', u'7544553'], [u'21', u'Therasse', u'P', u'Arbuck', u'SG', u'Eisenhauer', u'EA', u'Wanders', u'J', u'Kaplan', u'RS', u'Rubinstein', u'L', u'', u'New guidelines to evaluate the response to treatment in solid tumors. European Organization for Research and Treatment of Cancer, National Cancer Institute of the United States, National Cancer Institute of Canada', u'J Natl Cancer Inst', u'2000', u'92', u'205', u'16', u'10655437'], [u'22', u'Mir', u'LM', u'Belehradek', u'M', u'Domenge', u'C', u'Orlowski', u'S', u'Poddevin', u'B', u'Belehradek', u'J', u'Jr', u'', u'[Electrochemotherapy, a new antitumor treatment: first clinical trial]', u'C R Acad Sci III', u'1991', u'313', u'613', u'8', u'1723647'], [u'23', u'Quaglino', u'P', u'Mortera', u'C', u'Osella-Abate', u'S', u'Barberis', u'M', u'Illengo', u'M', u'Rissone', u'M', u'', u'Electrochemotherapy with intravenous bleomycin in the local treatment of skin melanoma metastases', u'Ann Surg Oncol', u'2008', u'15', u'2215', u'22', u'18498012'], [u'24', u'Tijink', u'BM', u'De', u'BR', u'Van Dongen', u'GA', u'Leemans', u'CR', u'How we do it: Chemo-electroporation in the head and neck for otherwise untreatable patients', u'Clin Otolaryngol', u'2006', u'31', u'447', u'51', u'17014460'], [u'25', u'Larkin', u'JO', u'Collins', u'CG', u'Aarons', u'S', u'Tangney', u'M', u'Whelan', u'M', u\"O'Reily\", u'S', u'', u'Electrochemotherapy: Aspects of preclinical development and early clinical experience', u'Ann Surg', u'2007', u'245', u'469', u'79', u'17435555']<br/><strong>A</strong>: [u'Cutaneous metastatic disease', u'R', u'A', u'Schwartz', u'J Am Acad', u''], [u'', u'Dermatol', u'33', u'', u''], [u'Tumor invasion of the skin', u'G', u'Rolz-Cruz', u'C', u'C', u'Kim', u'Derma'], [u'Cutaneous metastases', u'Viii', u'D', u'P', u'Lookingbill', u'N', u'Spangler', u'K', u'F', u'Helm', u'tol Clin', u'26', u'', u''], [u'in patients with metastatic carcinoma: A retrospective study of 4020 patients', u'J Am Acad Dermatol', u'29', u'', u''], [u'', u'R', u'Heller', u'M', u'J', u'Jaroszeski', u'D', u'S', u'Reintgen', u'C', u'A', u'Puleo', u'R', u'C', u'Deconti', u''], [u'Treatment of cutaneous and subcutaneous tumors with electrochemotherapy using intralesional bleomycin', u'R', u'A', u'Gilbert', u'Cancer', u'83', u'', u''], [u'', u'M', u'Marty', u'G', u'Sersa', u'J', u'R', u'Garbay', u'J', u'Gehl', u'C', u'G', u'Collins', u'M', u'Snoj', u''], [u'An easy, highly effective and safe treatment of cutaneous and subcutaneous metastases: Results of ESOPE (European Standard Operating Procedures of Electrochemotherapy) study', u'EJC Supplements', u'4', u'', u''], [u'Effective treatment of cutaneous and subcutaneous malignant tumours by electrochemotherapy', u'L', u'M', u'Mir', u'L', u'F', u'Glass', u'G', u'Sersa', u'J', u'Teissie', u'C', u'Domenge', u'D', u'Miklavcic', u'Br J Cancer', u'77', u'', u''], [u'Electroporation: Theory and methods, perspectives', u'J', u'Gehl', u''], [u'for drug delivery, gene therapy and research', u'Acta Physiol Scand', u'177', u'', u''], [u'Bleomycin, [8] an apoptosis-mimetic drug that induces two types of cell death depending on the number of molecules internalized', u'O', u'Tounekti', u'G', u'Pron', u'J', u'Belehradek', u'Jr', u'Mir', u'L', u'M', u'Cancer Res', u'53', u'', u''], [u'Enhancement of cytotoxicity [9] by electropermeabilization: An improved method for screening drugs', u'J', u'Gehl', u'T', u'Skovsgaard', u'L', u'M', u'Mir', u'Anticancer Drugs', u'9', u'', u''], [u'Transient elec[10] tropermeabilization of cells in culture. Increase of the cytotoxicity of anticancer drugs', u'S', u'Orlowski', u'J', u'Belehradek', u'Jr', u'C', u'Paoletti', u'Lm ;', u'Mir', u'M', u'J', u'Jaroszeski', u'V', u'Dang', u'C', u'Pottinger', u'J', u'Hickey', u'R', u'Gilbert', u'Biochem Pharmacol', u'37', u'', u''], [u'Toxicity of anticancer agents mediated by electroporation in vitro', u'R', u'Heller', u'Anticancer Drugs', u'11', u'', u''], [u'', u'M', u'Belehradek', u'C', u'Domenge', u'B', u'Luboinski', u'S', u'Orlowski', u''], [u'Electrochemotherapy, a new antitumor treatment. First clinical phase I-II trial', u'J', u'Belehradek', u'Jr', u'L', u'M', u'Mir', u'Cancer', u'72', u'', u''], [u'', u'L', u'G', u'Campana', u'S', u'Mocellin', u'M', u'Basso', u'O', u'Puccetti', u'De', u'Salvo', u''], [u\"Bleomycin-based electrochemotherapy: Clinical outcome from a single institution's experience with 52 patients\", u'G', u'L', u'Chiarion-Sileni', u'V', u'Cancer Treat Rev', u'16', u'', u'', u'Ann Surg Oncol'], [u'', u'S', u'Rodriguez-Cuevas', u'S', u'Barroso-Bravo', u'J', u'Manza-Estrada', u''], [u'Electrochemotherapy in primary and metastatic skin tumors: Phase II trial using intralesional bleomycin', u'Cristobal-Martinez L', u'Gonzalez-Rodriguez', u'E', u'Arch Med Res', u'32', u'', u''], [u'Effi cient palliation of haemorrhaging [16] malignant melanoma skin metastases by electrochemotherapy', u'J', u'Gehl', u'P', u'F', u'Geertsen', u'Melanoma Res', u'10', u'', u''], [u'', u'L', u'M', u'Mir', u'J', u'Gehl', u'G', u'Sersa', u'C', u'G', u'Collins', u'J', u'R', u'Garbay', u'Billard', u''], [u'Standard operating procedures of the electrochemotherapy: Instructions for the use of bleomycin or cisplatin administered either systemically or locally and electric pulses delivered by the CliniporatorTM by means of invasive or non-invasive electrodes', u'V', u'EJC Supplements', u'4', u'', u''], [u'', u'C', u'Domenge', u'S', u'Orlowski', u'B', u'Luboinski', u'B', u'T', u'De', u'G', u'Schwaab', u''], [u'Antitumor electrochemotherapy: New advances in the clinical protocol', u'J', u'Belehradek', u'Jr', u'Cancer', u'77', u'', u''], [u'', u'S', u'W', u'Hall', u'J', u'E', u'Strong', u'A', u'Broughton', u'M', u'L', u'Frazier', u'R', u'S', u'Benjamin', u''], [u'Bleomycin clinical pharmacology by radioimmunoassay', u'Cancer Chemother Pharmacol', u'9', u'', u''], [u'Bleomycin and hyperoxia exposure in the oper[20] ating room', u'D', u'D', u'Mathes', u'Anesth Analg', u'81', u'', u''], [u'', u'P', u'Therasse', u'S', u'G', u'Arbuck', u'E', u'A', u'Eisenhauer', u'J', u'Wanders', u'Kaplan', u''], [u'New guidelines to evaluate the response to treatment in solid tumors. European Organization for Research and Treatment of Cancer, National Cancer Institute of the United States, National Cancer Institute of Canada', u'R', u'S', u'Rubinstein', u'L', u'J Natl Cancer Inst', u'92', u'', u''], [u'', u'L', u'M', u'Mir', u'M', u'Belehradek', u'C', u'Domenge', u'S', u'Orlowski', u'Poddevin', u''], [u'', u'B', u'Belehradek', u'J', u'Jr', u'', u'Electrochemotherapy, a new antitumor treatment: fi rst clinical trial'], [u'', u'C R Acad Sci III', u'313', u'', u''], [u'', u'P', u'Quaglino', u'C', u'Mortera', u'S', u'Osella-Abate', u'M', u'Barberis', u''], [u'Electrochemotherapy with intravenous bleomycin in the local treatment of skin melanoma metastases', u'M', u'Illengo', u'M', u'Rissone', u'Clin Otolaryngol', u'15', u'', u'', u'Ann Surg Oncol'], [u'', u'J', u'O', u'Larkin', u'C', u'G', u'Collins', u'S', u'Aarons', u'M', u'Tangney', u'M', u'Whelan', u''], [u'Aspects of preclinical development and early clinical experience', u'O', u'&apos;reily', u'S', u'Ann Surg', u'245', u'', u'']</p>\n",
       "<p><code>ORT-1745-3674-81-405.nxml</code> \"Resection arthroplasty for luxation of the manubrio-sternal joint in rheumatoid arthritis—a case report\"<br/><strong>E</strong>: [u'Bogdan', u'A', u'Clark', u'J', u'Manubrio-sternal joint in rheumatoid arthritis', u'Br Med J', u'1950', u'16', u'1361', u'2', u'14792027'], [u'Holt', u'ME', u'Rooney', u'PJ', u'Manubriosternal joint subluxation in rheumatoid arthritis', u'J Rheumatol', u'1980', u'7', u'260', u'2', u'7373631'], [u'Kelly', u'MC', u'Hopkinson', u'ND', u'Zaphiropoulos', u'GC', u'Manubriosternal joint dislocation in rheumatoid arthritis: the role of thoracic kyphosis', u'Ann Rheum Dis', u'1986', u'45', u'345', u'8', u'3707222'], [u'Khong', u'TK', u'Rooney', u'PJ', u'Manubriosternal joint subluxation in rheumatoid arthritis', u'J Reumatol', u'1982', u'9', u'712', u'5'], [u'Kormano', u'M', u'A micrographic an histological study of the manubrio-sternal joint in rheumatoid arthritis', u'Acta Rheumatol Scand', u'1970', u'16', u'47', u'59', u'5445309'], [u'Laitinen', u'H', u'Saksanen', u'S', u'Suoranta', u'H', u'Involvement of the manubrio-sternal articulation in rheumatoid arthritis', u'Acta Rheumatol Scand', u'1970', u'16', u'40', u'6', u'5445308'], [u'Rapoport', u'RJ', u'Carrera', u'GF', u'Kozin', u'F', u'Manubrio-sternal joint subluxation in rheumatiod arthritis', u'J Reumatol', u'1979', u'6', u'1', u'74', u'7'], [u'Wiseman', u'MJ', u'Dislocation of the manubriosternal joint in rheumatoid arthritis', u'Ann Rheum Dis', u'1981', u'40', u'307', u'8', u'7247475']<br/><strong>A</strong>: [u'Manubriosternal joint subluxation in rheumatoid arthritis', u'T K', u'Khong', u'P', u'J', u'Rooney', u'J Reumatol', u'9', u'', u''], [u'A micrographic an histological study of the manubrio-sternal joint in rheumatoid arthritis', u'M', u'Kormano', u'Acta Rheumatol Scand', u'16', u'', u''], [u'Involvement of the manubrio-sternal articulation in rheumatoid arthritis', u'H', u'Laitinen', u'S', u'Saksanen', u'H', u'Suoranta', u'Acta Rheumatol Scand', u'16', u'', u''], [u'Manubrio-sternal joint subluxation in rheumatiod arthritis', u'R J', u'Rapoport', u'G F', u'Carrera', u'F', u'Kozin', u'J Reumatol', u'6', u'', u''], [u'Dislocation of the manubriosternal joint in rheumatoid arthritis', u'M', u'Wiseman', u'Ann Rheum Dis', u'40', u'', u''], [u'We have not found any reports on the treatment of symptomatic MSJ luxation', u''], [u'Manubrio-sternal joint in rheumatoid arthritis', u'A', u'Bogdan', u'J', u'Clark', u'Br Med J', u'16', u'', u''], [u'Manubriosternal joint subluxation in rheumatoid arthritis', u'M', u'E', u'Holt', u'P', u'J', u'Rooney', u'J Rheumatol', u'7', u'', u''], [u'Manubriosternal joint dislocation in rheumatoid arthritis: the role of thoracic kyphosis', u'M C', u'Kelly', u'N D', u'Hopkinson', u'G', u'Zaphiropoulos', u'Ann Rheum Dis', u'45', u'', u'']</p>\n",
       "</blockquote>\n",
       "<h4>grobid-tei [1 : 0] cermine (1)</h4>\n",
       "<p>There are 1 samples where grobid-tei got it right, but cermine got it wrong.</p>\n",
       "<blockquote>\n",
       "<p><code>f-67-00344.nxml</code> \"Refolding, crystallization and preliminary X-ray crystallographic study of the whole extracellular regions of nectins\"<br/><strong>E</strong>: [u'J. Virol.', u'72'], [u'Acta Cryst.', u'50'], [u'Science', u'280'], [u'Nature Rev. Mol. Cell Biol.', u'11'], [u'J. Virol.', u'74'], [u'Proc. Jpn Acad. Ser. B Phys. Biol. Sci.', u'86'], [u'IUBMB Life', u'58'], [u'Methods Enzymol.', u'276'], [u'J. Virol.', u'75'], [u'Annu. Rev. Cell Dev. Biol.', u'24'], [u'Cancer Sci.', u'94'], [u'Nature Rev. Mol. Cell Biol.', u'9'], [u'Virology', u'246'], [u'Proc. Natl Acad. Sci. USA', u'105']<br/><strong>B</strong>: [u'Cocchi', u'F.', u'Menotti', u'L.', u'Mirandola', u'P.', u'Lopez', u'M.', u'Campadelli-Fiume', u'G.', u'1998', u'J. Virol', u'72', u'9992', u'10002'], [u'Collaborative Computational Project, Number', u'4', u'1994', u'Acta Cryst. D50', u'760', u'763'], [u'Geraghty', u'R. J.', u'Krummenacher', u'C.', u'Cohen', u'G. H.', u'Eisenberg', u'R. J.', u'Spear', u'P. G.', u'1998', u'280', u'1618', u'1620'], [u'Harris', u'T. J.', u'Tepass', u'U.', u'2010', u'Nature Rev. Mol. Cell Biol', u'11', u'502', u'514'], [u'Lopez', u'M.', u'Cocchi', u'F.', u'Menotti', u'L.', u'Avitabile', u'E.', u'Dubreuil', u'P.', u'CampadelliFiume', u'G.', u'2000', u'J. Virol', u'74', u'1267', u'1274'], [u'Ogita', u'H.', u'Rikitake', u'Y.', u'Miyoshi', u'J.', u'Takai', u'Y.', u'2010', u'Proc. Jpn Acad. Ser. B Phys. Biol. Sci', u'86', u'621', u'629'], [u'Ogita', u'H.', u'Takai', u'Y.', u'2006', u'IUBMB Life', u'58', u'334', u'343'], [u'Otwinowski', u'Z.', u'Minor', u'W.', u'1997', u'Methods Enzymol', u'276', u'307', u'326'], [u'Sakisaka', u'T.', u'Taniguchi', u'T.', u'Nakanishi', u'H.', u'Takahashi', u'K.', u'Miyahara', u'M.', u'Ikeda', u'W.', u'Yokoyama', u'S.', u'Peng', u'Y.-F.', u'Yamanishi', u'K.', u'Takai', u'Y.', u'2001', u'J. Virol', u'75', u'4734', u'4743'], [u'Takai', u'Y.', u'Ikeda', u'W.', u'Ogita', u'H.', u'Rikitake', u'Y.', u'2008', u'Annu. Rev. Cell Dev. Biol', u'24', u'309', u'342'], [u'Takai', u'Y.', u'Irie', u'K.', u'Shimizu', u'K.', u'Sakisaka', u'T.', u'Ikeda', u'W.', u'2003', u'Cancer Sci', u'94', u'655', u'667'], [u'Takai', u'Y.', u'Miyoshi', u'J.', u'Ikeda', u'W.', u'Ogita', u'H.', u'2008', u'Nature Rev. Mol. Cell Biol', u'9', u'603', u'615'], [u'Warner', u'M. S.', u'Geraghty', u'R. J.', u'Martinez', u'W. M.', u'Montgomery', u'R. I.', u'Whitbeck', u'J. C.', u'Xu', u'R.', u'Eisenberg', u'R. J.', u'G. H.', u'Spear', u'P. G.', u'1998', u'246', u'179', u'189'], [u'Zhang', u'P.', u'Mueller', u'S.', u'Morais', u'M. C.', u'Bator', u'C. M.', u'Bowman', u'V. D.', u'Hafenstein', u'S.', u'Wimmer', u'E.', u'Rossmann', u'M. G.', u'2008', u'Proc. Natl Acad. Sci. USA', u'105', u'18284', u'18289']</p>\n",
       "</blockquote>\n",
       "<h4>grobid-tei [0 : 0] cermine (5)</h4>\n",
       "<p>There are 5 samples where both grobid-tei and cermine got it wrong.</p>\n",
       "<blockquote>\n",
       "<p><code>d-67-00463.nxml</code> \"Pi sampling: a methodical and flexible approach to initial macromolecular crystallization screening\"<br/><strong>E</strong>: [u'J. Appl. Cryst.', u'39'], [u'Methods Mol. Biol.', u'363'], [u'J. Appl. Cryst.', u'34'], [u'J. Biol. Chem.', u'254'], [u'Cell', u'141'], [u'J. Appl. Cryst.', u'20'], [u'Proc. Natl Acad. Sci. USA', u'90'], [u'Acta Cryst.', u'58'], [u'Cryst. Growth Des.', u'11'], [u'J. Appl. Cryst.', u'24'], [u'Bioinformatics', u'20'], [u'Proteins', u'51'], [u'Protein Sci.', u'18'], [u'Proc. Natl Acad. Sci. USA', u'93'], [u'Protein Sci.', u'12'], [u'J. Biol. Chem.', u'251'], [u'Eur. J. Biochem.', u'189'], [u'et al.', u'Acta Cryst.', u'67'], [u'J. Struct. Biol.', u'142'], [u'History of Mathematics.'], [u'Prog. Biophys. Mol. Biol.', u'88'], [u'Nature (London)', u'454'], [u'Protein Expr. Purif.', u'65']<br/><strong>A</strong>: [u'', u'V', u'Berejnov', u'N', u'S', u'Husseini', u'O', u'A', u'Alsaied', u'R', u'E', u'Thorne', u'J. Appl. Cryst', u'39', u'', u''], [u'', u'T', u'Bergfors', u'Methods Mol. Biol', u'363', u'', u''], [u'', u'A', u'M', u'Brzozowski', u'J', u'Walton', u'J. Appl. Cryst', u'34', u'', u''], [u'', u'C', u'W', u'Carter', u'C', u'W', u'Carter', u'J. Biol. Chem', u'254', u'', u''], [u'', u'O', u'B', u'Clarke', u'A', u'T', u'Caputo', u'A', u'P', u'Hill', u'J', u'I', u'Vandenberg', u'B', u'J', u'Smith', u'J', u'M', u'Gulbis', u'Cell', u'141', u'', u''], [u'', u'M', u'J', u'Cox', u'P', u'C', u'Weber', u'J. Appl. Cryst', u'20', u'', u''], [u'J', u'A', u'Doudna', u'C', u'Grosshans', u'A', u'Gooding', u'C', u'E', u'Kundrot', u'Proc. Natl Acad. Sci. USA', u'Natl Acad. Sci. USA', u'', u'90', u''], [u'', u'E', u'L', u'Forsythe', u'D', u'L', u'Maxwell', u'M', u'Pusey', u'Acta Cryst', u'58', u'', u''], [u'', u'T', u'Hedderich', u'M', u'Marcia', u'J', u'K\\xf6 Pke', u'H', u'Michel', u'Cryst. Growth Des', u'11', u'', u''], [u'', u'J', u'Jancarik', u'S.-H', u'Kim', u'J. Appl. Cryst', u'24', u'', u''], [u'', u'K', u'A', u'Kantardjieff', u'B', u'Rupp', u'Bioinformatics', u'20', u'', u''], [u'', u'M', u'S', u'Kimber', u'F', u'Vallee', u'S', u'Houston', u'A', u'Necakov', u'T', u'Skarina', u'E', u'Evdokimova', u'S', u'Beasley', u'D', u'Christendat', u'A', u'Savchenko', u'C', u'H', u'Arrowsmith', u'M', u'Vedadi', u'M', u'Gerstein', u'A', u'M', u'Edwards', u'Proteins', u'51', u'', u''], [u'', u'M', u'Koszelak-Rosenblum', u'A', u'Krol', u'N', u'Mozumdar', u'K', u'Wunsch', u'A', u'Ferin', u'E', u'Cook', u'C', u'K', u'Veatch', u'R', u'Nagel', u'J', u'R', u'Luft', u'G', u'T', u'Detitta', u'M', u'G', u'Malkowski', u'Protein Sci', u'18', u'', u''], [u'E', u'M', u'Landau', u'J', u'P', u'Rosenbusch', u'Proc. Natl Acad. Sci', u'USA, 93', u'', u''], [u'', u'M', u'J', u'Lemieux', u'J', u'Song', u'M', u'J', u'Kim', u'Y', u'Huang', u'A', u'Villa', u'M', u'Auer', u'X.-D', u'Li', u'D.-N', u'Wang', u'Protein Sci', u'12', u'', u''], [u'', u'A', u'Mcpherson', u'J. Biol. Chem', u'251', u'', u''], [u'', u'A', u'Mcpherson', u'Eur. J. Biochem', u'189', u'', u''], [u'', u'C', u'Morris', u'Acta Cryst', u'67', u'', u''], [u'', u'B', u'Rupp', u'J. Struct. Biol', u'142', u'', u''], [u'D', u'E', u'Smith', u'History of Mathematics', u'New York', u'Dover Publications', u''], [u'', u'D', u'Stock', u'O', u'Perisic', u'J', u'L\\xf6 We', u'Prog. Biophys. Mol. Biol', u'88', u'', u''], [u'', u'T', u'Warne', u'M', u'J', u'Serrano-Vega', u'J', u'G', u'Baker', u'R', u'Moukhametzianov', u'P', u'C', u'Edwards', u'R', u'Henderson', u'A', u'G', u'Leslie', u'C', u'G', u'Tate', u'G', u'F', u'Schertler', u'Nature', u'454', u'', u''], [u'', u'T', u'Warne', u'M', u'J', u'Serrano-Vega', u'C', u'G', u'Tate', u'G', u'F', u'Schertler', u'Protein Expr. Purif', u'65', u'', u'']<br/><strong>B</strong>: [u'Berejnov', u'V.', u'Husseini', u'N. S.', u'Alsaied', u'O. A.', u'Thorne', u'R. E.', u'2006', u'J. Appl. Cryst', u'39', u'244', u'251'], [u'Bergfors', u'T.', u'2007', u'Methods Mol. Biol', u'363', u'131', u'151'], [u'Brzozowski', u'A. M.', u'Walton', u'J.', u'2001', u'J. Appl. Cryst', u'34', u'97', u'101'], [u'Carter', u'C. W.', u'Carter', u'C. W.', u'1979', u'J. Biol. Chem', u'254', u'12219', u'12223'], [u'Clarke', u'O. B.', u'Caputo', u'A. T.', u'Hill', u'A. P.', u'Vandenberg', u'J. I.', u'Smith', u'B. J.', u'Gulbis', u'J. M.', u'2010', u'141', u'1018', u'1029'], [u'Cox', u'M. J.', u'Weber', u'P. C.', u'1987', u'J. Appl. Cryst', u'20', u'366', u'373'], [u'Doudna', u'J. A.', u'Grosshans', u'C.', u'Gooding', u'A.', u'Kundrot', u'C. E.', u'1993', u'Proc. Natl Acad. Sci. USA', u'90', u'7829', u'7833'], [u'Forsythe', u'E. L.', u'Maxwell', u'D. L.', u'Pusey', u'M.', u'2002', u'Acta Cryst. D58', u'1601', u'1605'], [u'Hedderich', u'T.', u'Marcia', u'M.', u'J.', u'Michel', u'H.', u'2011', u'Cryst. Growth Des', u'11', u'488', u'491'], [u'Jancarik', u'J.', u'Kim', u'S.-H.', u'1991', u'J. Appl. Cryst', u'24', u'409', u'411'], [u'Kantardjieff', u'K. A.', u'Rupp', u'B.', u'2004', u'20', u'2162', u'2168'], [u'Kimber', u'M. S.', u'Vallee', u'F.', u'Houston', u'S.', u'Necakov', u'A.', u'Skarina', u'T.', u'Evdokimova', u'E.', u'Beasley', u'S.', u'Christendat', u'D.', u'Savchenko', u'A.', u'Arrowsmith', u'C. H.', u'Vedadi', u'M.', u'Gerstein', u'M.', u'Edwards', u'A. M.', u'2003', u'51', u'562', u'568'], [u'Koszelak-Rosenblum', u'M.', u'Krol', u'A.', u'Mozumdar', u'N.', u'Wunsch', u'K.', u'Ferin', u'A.', u'Cook', u'E.', u'Veatch', u'C. K.', u'Nagel', u'R.', u'Luft', u'J. R.', u'Detitta', u'G. T.', u'Malkowski', u'M. G.', u'2009', u'Protein Sci. 18', u'1828', u'1839'], [u'Landau', u'E. M.', u'Rosenbusch', u'J. P.', u'1996', u'Proc. Natl Acad. Sci. USA', u'93', u'14532', u'14535'], [u'Lemieux', u'M. J.', u'Song', u'J.', u'Kim', u'M. J.', u'Huang', u'Y.', u'Villa', u'A.', u'Auer', u'M.', u'Li', u'X.-D.', u'Wang', u'D.-N.', u'2003', u'Protein Sci', u'12', u'2748', u'2756'], [u'McPherson', u'A.', u'1976', u'J. Biol. Chem', u'251', u'6300', u'6303'], [u'McPherson', u'A.', u'1990', u'Eur. J. Biochem. 189', u'1', u'23'], [u'Morris', u'C.', u'2011', u'Acta Cryst. D67', u'249', u'260'], [u'Rupp', u'B.', u'2003', u'J. Struct. Biol', u'142', u'162', u'169'], [u'Smith', u'D. E.', u'1958'], [u'Stock', u'D.', u'Perisic', u'O.', u'Lo\\xa8 we', u'2005', u'Prog. Biophys. Mol. Biol', u'88', u'311', u'327'], [u'Warne', u'T.', u'Serrano-Vega', u'M. J.', u'Baker', u'J. G.', u'Moukhametzianov', u'R.', u'Edwards', u'P. C.', u'Henderson', u'R.', u'Leslie', u'A. G.', u'Tate', u'C. G.', u'Schertler', u'G. F.', u'2008', u'Nature (London)', u'454', u'486', u'491'], [u'Warne', u'T.', u'Serrano-Vega', u'M. J.', u'Tate', u'C. G.', u'Schertler', u'G. F.', u'2009', u'Protein Expr. Purif', u'65', u'204', u'213']</p>\n",
       "<p><code>e-67-o1363.nxml</code> \"3-Allyl-1-{[3-(4-nitro­phen­yl)-4,5-dihydro-1,3-oxazol-5-yl]meth­yl}-1H-anthra[1,2-d]imidazole-2,6,11(3H)-trione\"<br/><strong>E</strong>: [u'Acta Cryst.', u'66'], [u'J. Ethnopharmacol.', u'72'], [u'Antivir. Res.', u'28'], [u'APEX2', u'SAINT-Plus', u'SADABS'], [u'Food Chem. Toxicol.', u'45'], [u'J. Am. Chem. Soc.', u'97'], [u'J. Appl. Cryst.', u'30'], [u'J. Med. Chem.', u'46'], [u'J. Ethnopharmacol.', u'91'], [u'Cancer Lett.', u'182'], [u'Acta Cryst.', u'64'], [u'Mutat. Res.', u'347'], [u'Biochem. Pharmacol.', u'70'], [u'Thermochim. Acta', u'429'], [u'Food Chem.', u'70']<br/><strong>A</strong>: [u'', u'Z', u'Afrakssou', u'Y', u'K', u'Rodi', u'H', u'Zouihri', u'E', u'M', u'Essassi', u'S', u'W', u'Ng', u'Acta Cryst', u'66', u'1851', u''], [u'', u'S', u'K', u'Agarwal', u'S', u'S', u'Singh', u'S', u'Verma', u'S', u'Kumar', u'J. Ethnopharmacol', u'72', u'', u''], [u'', u'D', u'L', u'Barnard', u'D', u'W', u'Fairbairn', u'K', u'L', u'O&apos;neill', u'T', u'L', u'Gage', u'R', u'W', u'Sidwell', u'Antivir. Res', u'28', u'', u''], [u'APEX2, SAINT-Plus and SADABS', u'Bruker', u'', u'Bruker AXS Inc', u'Madison, Wisconsin, USA'], [u'', u'S', u'H', u'Chen', u'K', u'Y', u'Lin', u'C', u'C', u'Chang', u'C', u'L', u'Fang', u'C', u'P', u'Lin', u'Food Chem. Toxicol', u'45', u'', u''], [u'', u'D', u'Cremer', u'J', u'A', u'Pople', u'J. Am. Chem. Soc', u'97', u'', u''], [u'', u'L', u'J', u'Farrugia', u'H', u'S', u'Haug', u'J', u'F', u'Chiou', u'Y', u'Fong', u'C', u'C', u'Hou', u'Y', u'C', u'Lu', u'J', u'Y', u'Wang', u'J', u'W', u'Shih', u'Y', u'R', u'Pan', u'J', u'J', u'Lin', u'J. Appl. Cryst', u'30', u'', u'', u'J. Med. Chem.'], [u'', u'A', u'Iizuka', u'O', u'T', u'Iijima', u'K', u'Kondo', u'H', u'Itakura', u'F', u'Yoshie', u'H', u'Miyamoto', u'M', u'Kubo', u'M', u'Higuchi', u'H', u'Takeda', u'T', u'Matsumiy', u'J. Ethnopharmacol', u'91', u'', u''], [u'', u'J', u'Koyamaa', u'I', u'Morita', u'K', u'Tagahara', u'Y', u'Nobukuni', u'T', u'Mukainaka', u'M', u'Kuchide', u'H', u'Tokuda', u'H', u'Nishino', u'Cancer Lett', u'182', u'', u''], [u'', u'G', u'M', u'Sheldrick', u'Acta Cryst', u'64', u'', u''], [u'', u'S', u'Simi', u'S', u'Morelli', u'P', u'G', u'Gervasi', u'G', u'Rainaldi', u'Mutat. Res', u'347', u'', u''], [u'', u'Y', u'T', u'Su', u'H', u'L', u'Chang', u'S', u'K', u'Shyue', u'S', u'L', u'Hsu', u'Biochem. Pharmacol', u'70', u'', u''], [u'', u'Y', u'W', u'Wu', u'W', u'Y', u'Gao', u'X', u'H', u'Xiao', u'Y', u'Liu', u'Thermochim. Acta', u'429', u'', u''], [u'', u'G', u'C', u'Yen', u'P', u'D', u'Duh', u'D', u'Y', u'Chuang', u'Food Chem', u'70', u'', u'']<br/><strong>B</strong>: [u'Afrakssou', u'Z.', u'Rodi', u'Y. K.', u'Zouihri', u'H.', u'Essassi', u'E. M.', u'Ng', u'S. W.', u'2010', u'Acta Cryst. E66', u'o1851'], [u'Agarwal', u'S. K.', u'Singh', u'S. S.', u'Verma', u'S.', u'Kumar', u'S.', u'2000', u'J. Ethnopharmacol', u'72', u'43', u'46'], [u'Barnard', u'D. L.', u'Fairbairn', u'D. W.', u\"O'Neill\", u'K. L.', u'Gage', u'T. L.', u'Sidwell', u'R. W.', u'1995', u'Antivir. Res', u'28', u'317', u'321'], [u'Bruker', u'2009', u'APEX2, SAINT-Plus and SADABS. Bruker AXS Inc', u'Madison'], [u'Chen', u'S. H.', u'Lin', u'K. Y.', u'Chang', u'C. C.', u'Fang', u'C. L.', u'Lin', u'C. P.', u'2007', u'Food Chem. Toxicol', u'45', u'2296', u'2303'], [u'Cremer', u'D.', u'Pople', u'J. A.', u'1975', u'J. Am. Chem. Soc', u'97', u'1354', u'1358'], [u'Farrugia', u'L. J.', u'1997', u'J. Appl. Cryst', u'30', u'565'], [u'Haug', u'H. S.', u'Chiou', u'J. F.', u'Fong', u'Y.', u'Hou', u'C. C.', u'Lu', u'Y. C.', u'Wang', u'J. Y.', u'Shih', u'J. W.', u'Pan', u'Y. R.', u'Lin', u'J. J.', u'2003', u'J. Med. Chem', u'46', u'3300', u'3307'], [u'Iizuka', u'A.', u'Iijima', u'O. T.', u'Kondo', u'K.', u'Itakura', u'H.', u'Yoshie', u'F.', u'Miyamoto', u'H.', u'Kubo', u'M.', u'Higuchi', u'M.', u'Takeda', u'H.', u'Matsumiy', u'T.', u'2004', u'J. Ethnopharmacol', u'91', u'89', u'94'], [u'Koyamaa', u'J.', u'Morita', u'I.', u'Tagahara', u'K.', u'Nobukuni', u'Y.', u'Mukainaka', u'T.', u'Kuchide', u'M.', u'Tokuda', u'H.', u'Nishino', u'H.', u'2002', u'Cancer Lett', u'182', u'135', u'139'], [u'Sheldrick', u'G. M.', u'2008', u'Acta Cryst. A64', u'112', u'122'], [u'Simi', u'S.', u'Morelli', u'S.', u'Gervasi', u'P. G.', u'Rainaldi', u'G.', u'1995', u'Mutat. Res', u'347', u'151', u'156'], [u'Su', u'Y. T.', u'Chang', u'H. L.', u'Shyue', u'S. K.', u'Hsu', u'S. L.', u'2005', u'Biochem. Pharmacol', u'70', u'229', u'241'], [u'Wu', u'Y. W.', u'Gao', u'Xiao', u'X. H.', u'Liu', u'Y.', u'2005', u'Thermochim. Acta', u'429', u'167', u'170'], [u'Yen', u'G. C.', u'Duh', u'P. D.', u'Chuang', u'D. Y.', u'2000', u'Food Chem', u'70', u'437', u'441']</p>\n",
       "<p><code>sobs89-975.nxml</code> \"Camera trocar lifting in office gasless laparoscopic sterilization under local anesthesia\"<br/><strong>E</strong>: [u'1', u'Penfield', u'AJ', u'Twenty-two years of office and outpatient laparoscopy: current techniques and why I chose them', u'J Am Assoc Gynecol Laparosc', u'1995', u'2', u'365', u'68', u'9050587'], [u'2', u'Almeida', u'OD', u'Jr', u'Current state of office laparoscopic surgery', u'J Am Assoc Gynecol Laparosc', u'2000', u'7', u'545', u'46', u'11044510'], [u'3', u'Bordahl', u'PE', u'Raeder', u'JC', u'Nordentoft', u'J', u'Kirste', u'U', u'Refsdal', u'A', u'Laparoscopic sterilization under local anesthesia or general anesthesia? A randomized study', u'Obstet Gynecol', u'1993', u'81', u'137', u'41', u'8416449'], [u'4', u'Johnson', u'PL', u'Sibert', u'KS', u'Laparoscopy. Gasless vs. CO2 pneumoperitoneum', u'J Reprod Med', u'1997', u'42', u'255', u'59', u'9172113'], [u'5', u'Guido', u'RS', u'Brooks', u'K', u'McKenzie', u'R', u'Gruss', u'J', u'Krohn', u'MA', u'A randomized, prospective comparison of pain after gasless laparoscopy and traditional laparoscopy', u'J Am Assoc Gynecol Laparosc', u'1998', u'5', u'149', u'53', u'9564062'], [u'6', u'WHO Task Force on Female Sterilization', u'Minilaparotomy or laparoscopy for sterilization: a multicenter, multinational randomized study', u'Am J Obstet Gynecol', u'1982', u'143', u'645', u'9', u'6211987'], [u'7', u'Gomel', u'V', u'McComb', u'PF', u'Microsurgery for tubal infertility', u'J Reprod Med', u'2006', u'51', u'177', u'84', u'16674012'], [u'8', u'Palter', u'SF', u'Olive', u'DL', u'Office microlaparoscopy under local anesthesia for chronic pelvic pain', u'J Am Assoc Gynecol Laparosc', u'1996', u'3', u'359', u'64', u'9050656'], [u'9', u'Edwell', u'John RS', u'SpOG', u'A comparative study of hysteroscopic sterilization versus laparoscopic tubal sterilization', u'World Laparosc Hosp', u'2008', u'http://www.laparoscopyhospital.com/A_Comparative_Study_of_Hysteroscopic_Sterilization_versus_Laparoscopic_Tubal_Sterilization.html'], [u'10', u'Yaghoobi', u'Notash A', u'Bahrpeyma', u'SH', u'Modaghegh', u'MH', u'Effectiveness of abdominal wall elevator in reducing intraabdominal pressure and CO2 volume during laparoscopic cholecystectomy', u'Acta Med Iranica', u'2004', u'42', u'131', u'3'], [u'11', u'The European Association for Endoscopic Surgery clinical practice guideline on the pneumoperitoneum for laparoscopic surgery', u'Surg Endosc', u'2002', u'7', u'1', u'121', u'1143']<br/><strong>A</strong>: [u'Twenty-two years of office and outpatient laparoscopy: current techniques and why I chose them', u'A', u'J', u'Penfield', u'J Am Assoc Gynecol Laparosc', u'2', u'', u''], [u'Current state of office laparoscopic surgery', u'O', u'D', u'Almeida', u'Jr', u'J Am Assoc Gynecol Laparosc', u'7', u'', u''], [u'Laparoscopic sterilization under local anesthesia or general anesthesia? A randomized study', u'P', u'E', u'Bordahl', u'J', u'C', u'Raeder', u'J', u'Nordentoft', u'U', u'Kirste', u'A', u'Refsdal', u'Obstet Gynecol', u'81', u'', u''], [u'Gasless vs. CO2 pneumoperitoneum', u'P', u'L', u'Johnson', u'K', u'S', u'Sibert', u'Laparoscopy', u'J Reprod Med', u'42', u'', u''], [u'A randomized, prospective comparison of pain after gasless laparoscopy and traditional laparoscopy', u'R', u'S', u'Guido', u'K', u'Brooks', u'R', u'Mckenzie', u'J', u'Gruss', u'M', u'A', u'Krohn', u'J Am Assoc Gynecol Laparosc', u'5', u'', u''], [u'Minilaparotomy or laparoscopy for sterilization: a multicenter, multinational randomized study', u'WHO Task Force on Female Sterilization', u'', u'143', u''], [u'Microsurgery for tubal infertility', u'V', u'Gomel', u'P', u'F', u'Mccomb', u'J Reprod Med', u'51', u'', u''], [u'Office microlaparoscopy under local anesthesia for chronic pelvic pain', u'S', u'F', u'Palter', u'D', u'L', u'Olive', u'J Am Assoc Gynecol Laparosc', u'3', u'', u''], [u'A comparative study of hysteroscopic sterilization versus laparoscopic tubal sterilization', u'Edwell', u'John', u'R', u'S', u'Spog', u'', u'World Laparosc Hosp', u''], [u'Effectiveness of abdominal wall elevator in reducing intraabdominal pressure and CO2 volume during laparoscopic cholecystectomy', u'Yaghoobi', u'Notash', u'A', u'Bahrpeyma', u'S', u'H', u'Modaghegh', u'M', u'H', u'Acta Med Iranica', u'42', u'', u''], [u'The European Association for Endoscopic Surgery clinical practice guideline on the pneumoperitoneum for laparoscopic surgery', u'Surg Endosc', u'7', u'', u'']<br/><strong>B</strong>: [u'Penfield', u'AJ', u'Twenty-two years of office and outpatient laparoscopy: current techniques and why I chose them', u'J Am Assoc Gynecol Laparosc', u'1995', u'2', u'365', u'68'], [u'Almeida', u'OD', u'Current state of office laparoscopic surgery', u'J Am Assoc Gynecol Laparosc', u'2000', u'7', u'545', u'46'], [u'Bordahl', u'PE', u'Raeder', u'JC', u'Nordentoft', u'J', u'Kirste', u'U', u'Refsdal', u'A', u'Laparoscopic sterilization under local anesthesia or general anesthesia? A randomized study', u'Obstet Gynecol', u'1993', u'81', u'137', u'41'], [u'Johnson', u'PL', u'Sibert', u'KS', u'Gasless vs. CO2 pneumoperitoneum', u'J Reprod Med', u'1997', u'42', u'255', u'59'], [u'Guido', u'RS', u'Brooks', u'K', u'McKenzie', u'R', u'Gruss', u'J', u'Krohn', u'MA', u'A randomized, prospective comparison of pain after gasless laparoscopy and traditional laparoscopy', u'J Am Assoc Gynecol Laparosc', u'1998', u'5', u'149', u'53'], [u'WHO', u'Task', u'Force on Female Sterilization. Minilaparotomy or laparoscopy for sterilization: a multicenter, multinational randomized study', u'Am J Obstet Gynecol', u'1982', u'143', u'645', u'9'], [u'Gomel', u'V', u'McComb', u'PF', u'Microsurgery for tubal infertility', u'J Reprod Med', u'2006', u'51', u'177', u'84'], [u'Palter', u'SF', u'Olive', u'DL', u'Office microlaparoscopy under local anesthesia for chronic pelvic pain', u'J Am Assoc Gynecol Laparosc', u'1996', u'3', u'359', u'64'], [u'Edwell', u'John', u'RS', u'SpOG. A comparative study of hysteroscopic sterilization versus laparoscopic tubal sterilization', u'World Laparosc Hosp', u'2008', u'2009'], [u'Yaghoobi Notash', u'A', u'Bahrpeyma', u'SH', u'Modaghegh', u'MH', u'Effectiveness of abdominal wall elevator in reducing intraabdominal pressure and CO2 volume during laparoscopic cholecystectomy', u'Acta Med Iranica', u'2004', u'42', u'131', u'3'], [u'The European Association for Endoscopic Surgery clinical practice guideline on the pneumoperitoneum for laparoscopic surgery', u'Surg Endosc', u'2002', u'7', u'1121', u'1143']</p>\n",
       "</blockquote>\n",
       "<p>2 more</p></details>"
      ],
      "text/plain": [
       "<IPython.core.display.HTML object>"
      ]
     },
     "metadata": {},
     "output_type": "display_data"
    },
    {
     "data": {
      "text/markdown": [
       "## Dataset: pmc-sample-1943-cc-by-subset (reference_fields exact)"
      ],
      "text/plain": [
       "<IPython.core.display.Markdown object>"
      ]
     },
     "metadata": {},
     "output_type": "display_data"
    },
    {
     "data": {
      "text/html": [
       "<details><summary>Comparison: grobid-tei vs cermine</summary><p><strong>E</strong>: expected, <strong>A</strong>: pmc-sample-1943-cc-by-subset grobid-tei, <strong>B</strong>: pmc-sample-1943-cc-by-subset cermine (reference_fields exact)</p>\n",
       "<h4>grobid-tei [0 : 1] cermine (0)</h4>\n",
       "<p>There are 0 samples where grobid-tei got it wrong, but cermine got it right.</p>\n",
       "<h4>grobid-tei [1 : 0] cermine (0)</h4>\n",
       "<p>There are 0 samples where grobid-tei got it right, but cermine got it wrong.</p>\n",
       "<h4>grobid-tei [0 : 0] cermine (10)</h4>\n",
       "<p>There are 10 samples where both grobid-tei and cermine got it wrong.</p>\n",
       "<blockquote>\n",
       "<p><code>aas0055-0039.nxml</code> \"Phosphate-containing dialysis solution prevents hypophosphatemia during continuous renal replacement therapy\"<br/><strong>E</strong>: [u'1', u'Troyanov', u'S', u'Geadah', u'D', u'Ghannoum', u'M', u'Cardinal', u'J', u'Leblanc', u'M', u'Phosphate addition to hemodiafiltration solutions during continuous renal replacement therapy', u'Intensive Care Med', u'2004', u'30', u'1662', u'5', u'15156308'], [u'2', u'Marik', u'PE', u'Bedigian', u'MK', u'Refeeding hypophosphatemia in critically ill patients in an intensive care unit. A prospective study', u'Arch Surg', u'1996', u'131', u'1043', u'7', u'8857900'], [u'3', u'Bugg', u'NC', u'Jones', u'JA', u'Hypophosphataemia. Pathophysiology, effects and management on the intensive care unit', u'Anaesthesia', u'1998', u'53', u'895', u'902', u'9849285'], [u'4', u'Skulberg', u'A', u'Sr.', u'Glucose: a potential killer', u'Acta Anaesthesiol Scand', u'2009', u'53', u'684', u'19419367'], [u'5', u'Peppers', u'MP', u'Geheb', u'M', u'Desai', u'T', u'Endocrine crises. Hypophosphatemia and hyperphosphatemia', u'Crit Care Clin', u'1991', u'7', u'201', u'14', u'2007215'], [u'6', u'Elisaf', u'MS', u'Siamopoulos', u'KC', u'Mechanisms of hypophosphataemia in alcoholic patients', u'Int J Clin Pract', u'1997', u'51', u'501', u'3', u'9536603'], [u'7', u'Zazzo', u'JF', u'Troche', u'G', u'Ruel', u'P', u'Maintenant', u'J', u'High incidence of hypophosphatemia in surgical intensive care patients: efficacy of phosphorus therapy on myocardial function', u'Intensive Care Med', u'1995', u'21', u'826', u'31', u'8557871'], [u'8', u'Tan', u'HK', u'Bellomo', u'R', u\"M'Pis\", u'DA', u'Ronco', u'C', u'Phosphatemic control during acute renal failure: intermittent hemodialysis versus continuous hemodiafiltration', u'Int J Artif Organs', u'2001', u'24', u'186', u'91', u'11394697'], [u'9', u'Baldwin', u'I', u'Naka', u'T', u'Koch', u'B', u'Fealy', u'N', u'Bellomo', u'R', u'A pilot randomised controlled comparison of continuous veno-venous haemofiltration and extended daily dialysis with filtration: effect on small solutes and acid-base balance', u'Intensive Care Med', u'2007', u'33', u'830', u'5', u'17384931'], [u'10', u'Shor', u'R', u'Halabe', u'A', u'Rishver', u'S', u'Tilis', u'Y', u'Matas', u'Z', u'Fux', u'A', u'Boaz', u'M', u'Weinstein', u'J', u'Severe hypophosphatemia in sepsis as a mortality predictor', u'Ann Clin Lab Sci', u'2006', u'36', u'67', u'72', u'16501239'], [u'11', u'Stoff', u'JS', u'Phosphate homeostasis and hypophosphatemia', u'Am J Med', u'1982', u'72', u'489', u'95', u'7036738'], [u'12', u'Brown', u'GR', u'Greenwood', u'JK', u'Drug- and nutrition-induced hypophosphatemia: mechanisms and relevance in the critically ill', u'Ann Pharmacother', u'1994', u'28', u'626', u'32', u'8069002'], [u'13', u'Bollaert', u'PE', u'Levy', u'B', u'Nace', u'L', u'Laterre', u'PF', u'Larcan', u'A', u'Hemodynamic and metabolic effects of rapid correction of hypophosphatemia in patients with septic shock', u'Chest', u'1995', u'107', u'1698', u'701', u'7781370'], [u'14', u'Paterson', u'CR', u'Hypophosphataemia: a dangerous disorder', u'Nutrition', u'1996', u'12', u'540', u'1', u'8878151'], [u'15', u'Paula', u'FJ', u'Plens', u'AE', u'Foss', u'MC', u'Effects of hypophosphatemia on glucose tolerance and insulin secretion', u'Horm Metab Res', u'1998', u'30', u'281', u'4', u'9660090'], [u'16', u'Ravenscroft', u'AJ', u'Valentine', u'JM', u'Knappett', u'PA', u'Severe hypophosphataemia and insulin resistance in diabetic ketoacidosis', u'Anaesthesia', u'1999', u'54', u'198', u'10215720'], [u'17', u'Weber', u'U', u'Huppe', u'T', u'Niehaus', u'L', u'CT and MRI in severe hypophosphataemia with central nervous system involvement', u'Neuroradiology', u'2000', u'42', u'112', u'4', u'10663486'], [u'18', u'Darsee', u'JR', u'Nutter', u'DO', u'Reversible severe congestive cardiomyopathy in three cases of hypophosphatemia', u'Ann Intern Med', u'1978', u'89', u'867', u'70', u'363007'], [u'19', u'Aubier', u'M', u'Murciano', u'D', u'Lecocguic', u'Y', u'Viires', u'N', u'Jacquens', u'Y', u'Squara', u'P', u'Pariente', u'R', u'Effect of hypophosphatemia on diaphragmatic contractility in patients with acute respiratory failure', u'N Engl J Med', u'1985', u'313', u'420', u'4', u'3860734'], [u'20', u'Williams', u'JD', u'Topley', u'N', u'Craig', u'KJ', u'Mackenzie', u'RK', u'Pischetsrieder', u'M', u'Lage', u'C', u'Passlick-Deetjen', u'J', u'The Euro-balance trial: the effect of a new biocompatible peritoneal dialysis fluid (balance) on the peritoneal membrane', u'Kidney Int', u'2004', u'66', u'408', u'18', u'15200450'], [u'21', u'Gatchalian', u'RA', u'Popli', u'A', u'Ejaz', u'AA', u'Leehey', u'DJ', u'Kjellstrand', u'CM', u'Ing', u'TS', u'Management of hypophosphatemia induced by high-flux hemodiafiltration for the treatment of vancomycin toxicity: intravenous phosphorus therapy versus use of a phosphorus-enriched dialysate', u'Am J Kidney Dis', u'2000', u'36', u'1262', u'6', u'11096051'], [u'22', u'Santiago', u'MJ', u'Lopez-Herce', u'J', u'Urbano', u'J', u'Bellon', u'JM', u'del Castillo', u'J', u'Carrillo', u'A', u'Hypophosphatemia and phosphate supplementation during continuous renal replacement therapy in children', u'Kidney Int', u'2009', u'75', u'312', u'6', u'19002217'], [u'23', u'Janssen van Doorn', u'K', u'Spapen', u'H', u'Geers', u'C', u'Diltoer', u'M', u'Shabana', u'W', u'Sepsis-related acute kidney injury: a protective effect of drotrecogin alpha (activated) treatment?', u'Acta Anaesthesiol Scand', u'2008', u'52', u'1259', u'64', u'18823466'], [u'24', u'Lentz', u'RD', u'Brown', u'DM', u'Kjellstrand', u'CM', u'Treatment of severe hypophosphatemia', u'Ann Intern Med', u'1978', u'89', u'941', u'4', u'102230'], [u'25', u'Vannatta', u'JB', u'Whang', u'R', u'Papper', u'S', u'Efficacy of intravenous phosphorus therapy in the severely hypophosphatemic patient', u'Arch Intern Med', u'1981', u'141', u'885', u'7', u'7235807'], [u'26', u'Vannatta', u'JB', u'Andress', u'DL', u'Whang', u'R', u'Papper', u'S', u'High-dose intravenous phosphorus therapy for severe complicated hypophosphatemia', u'South Med J', u'1983', u'76', u'1424', u'6', u'6635736'], [u'27', u'Kingston', u'M', u\"Al-Siba'i\", u'MB', u'Treatment of severe hypophosphatemia', u'Crit Care Med', u'1985', u'13', u'16', u'8', u'3965243'], [u'28', u'Sacks', u'GS', u'Walker', u'J', u'Dickerson', u'RN', u'Kudsk', u'KA', u'Brown', u'RO', u'Observations of hypophosphatemia and its management in nutrition support', u'Nutr Clin Pract', u'1994', u'9', u'105', u'8', u'8078444'], [u'29', u'Clark', u'CL', u'Sacks', u'GS', u'Dickerson', u'RN', u'Kudsk', u'KA', u'Brown', u'RO', u'Treatment of hypophosphatemia in patients receiving specialized nutrition support using a graduated dosing scheme: results from a prospective clinical trial', u'Crit Care Med', u'1995', u'23', u'1504', u'11', u'7664552'], [u'30', u'Rosen', u'GH', u'Boullata', u'JI', u\"O'Rangers\", u'EA', u'Enow', u'NB', u'Shin', u'B', u'Intravenous phosphate repletion regimen for critically ill patients with moderate hypophosphatemia', u'Crit Care Med', u'1995', u'23', u'1204', u'10', u'7600828'], [u'31', u'Perreault', u'MM', u'Ostrop', u'NJ', u'Tierney', u'MG', u'Efficacy and safety of intravenous phosphate replacement in critically ill patients', u'Ann Pharmacother', u'1997', u'31', u'683', u'8', u'9184705'], [u'32', u'Charron', u'T', u'Bernard', u'F', u'Skrobik', u'Y', u'Simoneau', u'N', u'Gagnon', u'N', u'Leblanc', u'M', u'Intravenous phosphate in the intensive care unit: more aggressive repletion regimens for moderate and severe hypophosphatemia', u'Intensive Care Med', u'2003', u'29', u'1273', u'8', u'12845429'], [u'33', u'Barak', u'V', u'Schwartz', u'A', u'Kalickman', u'I', u'Nisman', u'B', u'Gurman', u'G', u'Shoenfeld', u'Y', u'Prevalence of hypophosphatemia in sepsis and infection: the role of cytokines', u'Am J Med', u'1998', u'104', u'40', u'7', u'9528718'], [u'34', u'Walker', u'K', u'Dallas Hall', u'W', u'Hurst', u'W', u'Stoneham', u'M', u'Serum inorganic phosphate', u'Clinical methods', u'1990', u'London', u'Butterworth Publishers', u'895', u'9'], [u'35', u'Morimatsu', u'H', u'Uchino', u'S', u'Bellomo', u'R', u'Ronco', u'C', u'Continuous veno-venous hemodiafiltration or hemofiltration: impact on calcium, phosphate and magnesium concentrations', u'Int J Artif Organs', u'2002', u'25', u'512', u'9', u'12117290'], [u'36', u'Kraus', u'MA', u'Selection of dialysate and replacement fluids and management of electrolyte and acid\\u2013base disturbances', u'Semin Dial', u'2009', u'22', u'137', u'40', u'19426416']<br/><strong>A</strong>: [u'Phosphate addition to hemodiafiltration solutions during continuous renal replacement therapy', u'S', u'Troyanov', u'D', u'Geadah', u'M', u'Ghannoum', u'J', u'Cardinal', u'M', u'Leblanc', u'Intensive Care Med', u'30', u'', u''], [u'Refeeding hypophosphatemia in critically ill patients in an intensive care unit. A prospective study', u'P', u'E', u'Marik', u'M', u'K', u'Bedigian', u'Arch Surg', u'131', u'', u''], [u'Pathophysiology, effects and management on the intensive care unit', u'N', u'C', u'Bugg', u'J', u'A', u'Jones', u'Hypophosphataemia', u'Anaesthesia', u'53', u'', u''], [u'Glucose: a potential killer', u'A', u'Skulberg', u'Sr', u'Acta Anaesthesiol Scand', u'53', u'684', u''], [u'Endocrine crises. Hypophosphatemia and hyperphosphatemia', u'M', u'P', u'Peppers', u'M', u'Geheb', u'T', u'Desai', u'Crit Care Clin', u'7', u'', u''], [u'Mechanisms of hypophosphataemia in alcoholic patients', u'M', u'S', u'Elisaf', u'K', u'C', u'Siamopoulos', u'Int J Clin Pract', u'51', u'', u''], [u'High incidence of hypophosphatemia in surgical intensive care patients: efficacy of phosphorus therapy on myocardial function', u'J', u'F', u'Zazzo', u'G', u'Troche', u'P', u'Ruel', u'J', u'Maintenant', u'Intensive Care Med', u'21', u'', u''], [u'Phosphatemic control during acute renal failure: intermittent hemodialysis versus continuous hemodiafiltration', u'H', u'K', u'Tan', u'R', u'Bellomo', u'M', u'Pis', u'D', u'A', u'Ronco', u'C', u'Int J Artif Organs', u'24', u'', u''], [u'A pilot randomised controlled comparison of continuous venovenous haemofiltration and extended daily dialysis with filtration: effect on small solutes and acid-base balance', u'I', u'Baldwin', u'T', u'Naka', u'B', u'Koch', u'N', u'Fealy', u'R', u'Bellomo', u'Intensive Care Med', u'33', u'', u''], [u'Severe hypophosphatemia in sepsis as a mortality predictor', u'R', u'Shor', u'A', u'Halabe', u'S', u'Rishver', u'Y', u'Tilis', u'Z', u'Matas', u'A', u'Fux', u'M', u'Boaz', u'J', u'Weinstein', u'Ann Clin Lab Sci', u'36', u'', u''], [u'Phosphate homeostasis and hypophosphatemia', u'J', u'S', u'Stoff', u'Am J Med', u'72', u'', u''], [u'Drug-and nutrition-induced hypophosphatemia: mechanisms and relevance in the critically ill', u'G', u'R', u'Brown', u'J', u'K', u'Greenwood', u'Ann Pharmacother', u'28', u'', u''], [u'Hemodynamic and metabolic effects of rapid correction of hypophosphatemia in patients with septic shock', u'P', u'E', u'Bollaert', u'B', u'Levy', u'L', u'Nace', u'P', u'F', u'Laterre', u'A', u'Larcan', u'Chest', u'107', u'', u''], [u'Hypophosphataemia: a dangerous disorder', u'C', u'R', u'Paterson', u'Nutrition', u'12', u'', u''], [u'Effects of hypophosphatemia on glucose tolerance and insulin secretion', u'F', u'J', u'Paula', u'A', u'E', u'Plens', u'M', u'C', u'Foss', u'Horm Metab Res', u'30', u'', u''], [u'Severe hypophosphataemia and insulin resistance in diabetic ketoacidosis', u'A', u'J', u'Ravenscroft', u'J', u'M', u'Valentine', u'P', u'A', u'Knappett', u'Anaesthesia', u'54', u''], [u'CT and MRI in severe hypophosphataemia with central nervous system involvement', u'U', u'Weber', u'T', u'Huppe', u'L', u'Niehaus', u'Neuroradiology', u'42', u'', u''], [u'Reversible severe congestive cardiomyopathy in three cases of hypophosphatemia', u'J', u'R', u'Darsee', u'D', u'O', u'Nutter', u'Ann Intern Med', u'89', u'', u''], [u'Effect of hypophosphatemia on diaphragmatic contractility in patients with acute respiratory failure', u'M', u'Aubier', u'D', u'Murciano', u'Y', u'Lecocguic', u'N', u'Viires', u'Y', u'Jacquens', u'P', u'Squara', u'R', u'Pariente', u'N Engl J Med', u'313', u'', u''], [u'The Euro-balance trial: the effect of a new biocompatible peritoneal dialysis fluid (balance) on the peritoneal membrane', u'J', u'D', u'Williams', u'N', u'Topley', u'K', u'J', u'Craig', u'R', u'K', u'Mackenzie', u'M', u'Pischetsrieder', u'C', u'Lage', u'J', u'Passlick-Deetjen', u'Kidney Int', u'66', u'', u''], [u'Management of hypophosphatemia induced by high-flux hemodiafiltration for the treatment of vancomycin toxicity: intravenous phosphorus therapy versus use of a phosphorus-enriched dialysate', u'R', u'A', u'Gatchalian', u'A', u'Popli', u'A', u'A', u'Ejaz', u'D', u'J', u'Leehey', u'C', u'M', u'Kjellstrand', u'T', u'S', u'Ing', u'Am J Kidney Dis', u'36', u'', u''], [u'Hypophosphatemia and phosphate supplementation during continuous renal replacement therapy in children', u'M', u'J', u'Santiago', u'J', u'Lopez-Herce', u'Urbano', u'J', u'Bellon', u'J', u'M', u'Del Castillo', u'J', u'Carrillo', u'A', u'Kidney Int', u'75', u'', u''], [u'Sepsis-related acute kidney injury: a protective effect of drotrecogin alpha (activated) treatment?', u'K', u'Janssen Van Doorn', u'H', u'Spapen', u'C', u'Geers', u'M', u'Diltoer', u'W', u'Shabana', u'Acta Anaesthesiol Scand', u'52', u'', u''], [u'Treatment of severe hypophosphatemia', u'R', u'D', u'Lentz', u'D', u'M', u'Brown', u'C', u'M', u'Kjellstrand', u'Ann Intern Med', u'89', u'', u''], [u'Efficacy of intravenous phosphorus therapy in the severely hypophosphatemic patient', u'J', u'B', u'Vannatta', u'R', u'Whang', u'S', u'Papper', u'Arch Intern Med', u'141', u'', u''], [u'High-dose intravenous phosphorus therapy for severe complicated hypophosphatemia', u'J', u'B', u'Vannatta', u'D', u'L', u'Andress', u'R', u'Whang', u'S', u'Papper', u'South Med J', u'76', u'', u''], [u'Treatment of severe hypophosphatemia', u'M', u'Kingston', u'Al-Siba&apos;i Mb', u'Crit Care Med', u'13', u'', u''], [u'Observations of hypophosphatemia and its management in nutrition support', u'G', u'S', u'Sacks', u'J', u'Walker', u'R', u'N', u'Dickerson', u'K', u'A', u'Kudsk', u'R', u'O', u'Brown', u'Nutr Clin Pract', u'9', u'', u''], [u'Treatment of hypophosphatemia in patients receiving specialized nutrition support using a graduated dosing scheme: results from a prospective clinical trial', u'C', u'L', u'Clark', u'G', u'S', u'Sacks', u'R', u'N', u'Dickerson', u'K', u'A', u'Kudsk', u'R', u'O', u'Brown', u'Crit Care Med', u'23', u'', u''], [u'Intravenous phosphate repletion regimen for critically ill patients with moderate hypophosphatemia', u'G', u'H', u'Rosen', u'J', u'I', u'Boullata', u'O', u'&apos;rangers', u'E', u'A', u'Enow', u'N', u'B', u'Shin', u'B', u'Crit Care Med', u'23', u'', u''], [u'Efficacy and safety of intravenous phosphate replacement in critically ill patients', u'M', u'M', u'Perreault', u'N', u'J', u'Ostrop', u'M', u'G', u'Tierney', u'Ann Pharmacother', u'31', u'', u''], [u'Intravenous phosphate in the intensive care unit: more aggressive repletion regimens for moderate and severe hypophosphatemia', u'T', u'Charron', u'F', u'Bernard', u'Y', u'Skrobik', u'N', u'Simoneau', u'N', u'Gagnon', u'M', u'Leblanc', u'Intensive Care Med', u'29', u'', u''], [u'Prevalence of hypophosphatemia in sepsis and infection: the role of cytokines', u'V', u'Barak', u'A', u'Schwartz', u'I', u'Kalickman', u'B', u'Nisman', u'G', u'Gurman', u'Y', u'Shoenfeld', u'Am J Med', u'104', u'', u''], [u'Serum inorganic phosphate', u'K', u'Walker', u'Dallas', u'Hall', u'W', u'Hurst', u'W', u'Stoneham M', u'', u'Butterworth Publishers', u'', u'London'], [u'Continuous veno-venous hemodiafiltration or hemofiltration: impact on calcium, phosphate and magnesium concentrations', u'H', u'Morimatsu', u'S', u'Uchino', u'R', u'Bellomo', u'C', u'Ronco', u'Int J Artif Organs', u'25', u'', u''], [u'Selection of dialysate and replacement fluids and management of electrolyte and acid-base disturbances', u'M', u'A', u'Kraus', u'Semin Dial', u'22', u'', u'']<br/><strong>B</strong>: [u'Troyanov', u'S', u'Geadah', u'D', u'Ghannoum', u'M', u'Cardinal', u'J', u'Leblanc', u'M.', u'Phosphate addition to hemodiafiltration solutions during continuous renal replacement therapy', u'Intensive Care Med', u'2004', u'30', u'1662', u'5'], [u'Marik', u'PE', u'Bedigian', u'MK', u'Refeeding hypophosphatemia in critically ill patients in an intensive care unit. A prospective study', u'Arch Surg', u'1996', u'131', u'1043', u'7'], [u'Bugg', u'NC', u'Jones', u'JA', u'Hypophosphataemia. Pathophysiology, effects and management on the intensive care unit', u'Anaesthesia', u'1998', u'53', u'895', u'902'], [u'Skulberg', u'A', u'Glucose: a potential killer', u'Acta Anaesthesiol Scand', u'2009', u'53', u'684'], [u'Peppers', u'MP', u'Geheb', u'M', u'Desai', u'T.', u'Endocrine crises. Hypophosphatemia and hyperphosphatemia', u'Crit Care Clin', u'1991', u'7', u'201', u'14'], [u'Elisaf', u'MS', u'Siamopoulos', u'KC', u'Mechanisms of hypophosphataemia in alcoholic patients', u'Int J Clin Pract', u'1997', u'51', u'501', u'3'], [u'Zazzo', u'JF', u'Troche', u'G', u'Ruel', u'P', u'Maintenant', u'J', u'High incidence of hypophosphatemia in surgical intensive care patients: efficacy of phosphorus therapy on myocardial function', u'Intensive Care Med', u'1995', u'21', u'826', u'31'], [u'Tan', u'HK', u'Bellomo', u'R', u\"M'Pis\", u'DA', u'Ronco', u'C', u'Phosphatemic control during acute renal failure: intermittent hemodialysis versus continuous hemodiafiltration', u'Int J Artif Organs', u'2001', u'24', u'186', u'91'], [u'Baldwin', u'I', u'Naka', u'T', u'Koch', u'B', u'Fealy', u'N', u'Bellomo', u'R.', u'A pilot randomised controlled comparison of continuous venovenous haemofiltration and extended daily dialysis with filtration: effect on small solutes and acid-base balance', u'Intensive Care Med', u'2007', u'33', u'830', u'5'], [u'Shor', u'R', u'Halabe', u'A', u'Rishver', u'S', u'Tilis', u'Y', u'Matas', u'Z', u'Fux', u'A', u'Boaz', u'M', u'Weinstein', u'J', u'Severe hypophosphatemia in sepsis as a mortality predictor', u'Ann Clin Lab Sci', u'2006', u'36', u'67', u'72'], [u'Stoff', u'JS', u'Phosphate homeostasis and hypophosphatemia', u'Am J Med', u'1982', u'72', u'489', u'95'], [u'Brown', u'GR', u'Greenwood', u'JK', u'Drug- and nutrition-induced hypophosphatemia: mechanisms and relevance in the critically ill', u'Ann Pharmacother', u'1994', u'28', u'626', u'32'], [u'Bollaert', u'PE', u'Levy', u'B', u'Nace', u'L', u'Laterre', u'PF', u'Larcan', u'A', u'Hemodynamic and metabolic effects of rapid correction of hypophosphatemia in patients with septic shock', u'Chest', u'1995', u'107', u'1698', u'701'], [u'Paterson', u'CR', u'Hypophosphataemia: a dangerous disorder', u'Nutrition', u'1996', u'12', u'540', u'1'], [u'Paula', u'FJ', u'Plens', u'AE', u'Foss', u'MC', u'Effects of hypophosphatemia on glucose tolerance and insulin secretion', u'Horm Metab Res', u'1998', u'30', u'281', u'4'], [u'Ravenscroft', u'AJ', u'Valentine', u'JM', u'Knappett PA', u'Severe hypophosphataemia and insulin resistance in diabetic ketoacidosis', u'Anaesthesia', u'1999', u'54', u'198'], [u'Weber', u'U', u'Huppe', u'T', u'Niehaus', u'L', u'CT and MRI in severe hypophosphataemia with central nervous system involvement', u'Neuroradiology', u'2000', u'42', u'112', u'4'], [u'Darsee', u'JR', u'Nutter', u'DO', u'Reversible severe congestive cardiomyopathy in three cases of hypophosphatemia', u'Ann Intern Med', u'1978', u'89', u'867', u'70'], [u'Aubier', u'M', u'Murciano', u'D', u'Lecocguic', u'Y', u'Viires', u'N', u'Jacquens', u'Y', u'Squara', u'P', u'Pariente', u'R', u'Effect of hypophosphatemia on diaphragmatic contractility in patients with acute respiratory failure', u'N Engl J Med', u'1985', u'313', u'420', u'4'], [u'Williams', u'JD', u'Topley', u'N', u'Craig', u'KJ', u'Mackenzie', u'RK', u'Pischetsrieder', u'M', u'Lage', u'C', u'Passlick-Deetjen', u'J', u'The Euro-balance trial: the effect of a new biocompatible peritoneal dialysis fluid (balance) on the peritoneal membrane', u'Kidney Int', u'2004', u'66', u'408', u'18'], [u'Gatchalian', u'RA', u'Popli', u'A', u'Ejaz', u'AA', u'Leehey', u'DJ', u'Kjellstrand', u'CM', u'Ing', u'TS', u'Management of hypophosphatemia induced by high-flux hemodiafiltration for the treatment of vancomycin toxicity: intravenous phosphorus therapy versus use of a phosphorus-enriched dialysate', u'Am J Kidney Dis', u'2000', u'36', u'1262', u'6'], [u'Santiago', u'MJ', u'Lopez-Herce', u'J', u'Urbano', u'J', u'Bellon', u'JM', u'del Castillo', u'J', u'Carrillo', u'A', u'Hypophosphatemia and phosphate supplementation during continuous renal replacement therapy in children', u'Kidney Int', u'2009', u'75', u'312', u'6'], [u'Janssen van Doorn', u'K', u'Spapen', u'H', u'Geers', u'C', u'Diltoer', u'M', u'Shabana', u'W.', u'Sepsis-related acute kidney injury: a protective effect of drotrecogin alpha (activated) treatment?', u'Acta Anaesthesiol Scand', u'2008', u'52', u'1259', u'64'], [u'Lentz', u'RD', u'Brown', u'DM', u'Kjellstrand', u'CM', u'Treatment of severe hypophosphatemia', u'Ann Intern Med', u'1978', u'89', u'941', u'4'], [u'Vannatta', u'JB', u'Whang', u'R', u'Efficacy of intravenous phosphorus therapy in the severely hypophosphatemic patient', u'Arch Intern Med', u'1981', u'141', u'885', u'7'], [u'Vannatta', u'JB', u'Andress', u'DL', u'Whang', u'R', u'High-dose intravenous phosphorus therapy for severe complicated hypophosphatemia', u'South Med J', u'1983', u'76', u'1424', u'6'], [u'Kingston', u'M', u\"Al-Siba'i MB\", u'Treatment of severe hypophosphatemia', u'Crit Care Med', u'1985', u'13', u'16', u'8'], [u'Sacks', u'GS', u'Walker', u'J', u'Dickerson', u'RN', u'Kudsk', u'KA', u'Brown', u'RO', u'Observations of hypophosphatemia and its management in nutrition support', u'Nutr Clin Pract', u'1994', u'9', u'105', u'8'], [u'Clark', u'CL', u'Sacks', u'GS', u'Dickerson', u'RN', u'Kudsk', u'KA', u'Brown', u'RO', u'Treatment of hypophosphatemia in patients receiving specialized nutrition support using a graduated dosing scheme: results from a prospective clinical trial', u'Crit Care Med', u'1995', u'23', u'1504', u'11'], [u'Rosen', u'GH', u'Boullata', u'JI', u\"O'Rangers\", u'EA', u'Enow', u'NB', u'Shin', u'B', u'Intravenous phosphate repletion regimen for critically ill patients with moderate hypophosphatemia', u'Crit Care Med', u'1995', u'23', u'1204', u'10'], [u'Perreault', u'MM', u'Ostrop', u'NJ', u'Tierney', u'MG', u'Efficacy and safety of intravenous phosphate replacement in critically ill patients', u'Ann Pharmacother', u'1997', u'31', u'683', u'8'], [u'Charron', u'T', u'Bernard', u'F', u'Skrobik', u'Y', u'Simoneau', u'N', u'Gagnon', u'N', u'Leblanc', u'M.', u'Intravenous phosphate in the intensive care unit: more aggressive repletion regimens for moderate and severe hypophosphatemia', u'Intensive Care Med', u'2003', u'29', u'1273', u'8'], [u'Barak', u'V', u'Schwartz', u'A', u'Kalickman', u'I', u'Nisman', u'B', u'Gurman', u'G', u'Shoenfeld', u'Y.', u'Prevalence of hypophosphatemia in sepsis and infection: the role of cytokines', u'Am J Med', u'1998', u'104', u'40', u'7'], [u'Walker', u'K', u'Hurst', u'W.', u'Serum inorganic phosphate', u'Clinical methods. London: Butterworth Publishers', u'1990', u'895', u'9'], [u'Morimatsu', u'H', u'Uchino', u'S', u'Bellomo', u'R', u'Ronco', u'C', u'Continuous veno-venous hemodiafiltration or hemofiltration: impact on calcium, phosphate and magnesium concentrations', u'Int J Artif Organs', u'2002', u'25', u'512', u'9'], [u'Kraus', u'MA', u'Selection of dialysate and replacement fluids and management of electrolyte and acid-base disturbances', u'Semin Dial', u'2009', u'22', u'137', u'40']</p>\n",
       "<p><code>d-67-00463.nxml</code> \"Pi sampling: a methodical and flexible approach to initial macromolecular crystallization screening\"<br/><strong>E</strong>: [u'J. Appl. Cryst.', u'39'], [u'Methods Mol. Biol.', u'363'], [u'J. Appl. Cryst.', u'34'], [u'J. Biol. Chem.', u'254'], [u'Cell', u'141'], [u'J. Appl. Cryst.', u'20'], [u'Proc. Natl Acad. Sci. USA', u'90'], [u'Acta Cryst.', u'58'], [u'Cryst. Growth Des.', u'11'], [u'J. Appl. Cryst.', u'24'], [u'Bioinformatics', u'20'], [u'Proteins', u'51'], [u'Protein Sci.', u'18'], [u'Proc. Natl Acad. Sci. USA', u'93'], [u'Protein Sci.', u'12'], [u'J. Biol. Chem.', u'251'], [u'Eur. J. Biochem.', u'189'], [u'et al.', u'Acta Cryst.', u'67'], [u'J. Struct. Biol.', u'142'], [u'History of Mathematics.'], [u'Prog. Biophys. Mol. Biol.', u'88'], [u'Nature (London)', u'454'], [u'Protein Expr. Purif.', u'65']<br/><strong>A</strong>: [u'', u'V', u'Berejnov', u'N', u'S', u'Husseini', u'O', u'A', u'Alsaied', u'R', u'E', u'Thorne', u'J. Appl. Cryst', u'39', u'', u''], [u'', u'T', u'Bergfors', u'Methods Mol. Biol', u'363', u'', u''], [u'', u'A', u'M', u'Brzozowski', u'J', u'Walton', u'J. Appl. Cryst', u'34', u'', u''], [u'', u'C', u'W', u'Carter', u'C', u'W', u'Carter', u'J. Biol. Chem', u'254', u'', u''], [u'', u'O', u'B', u'Clarke', u'A', u'T', u'Caputo', u'A', u'P', u'Hill', u'J', u'I', u'Vandenberg', u'B', u'J', u'Smith', u'J', u'M', u'Gulbis', u'Cell', u'141', u'', u''], [u'', u'M', u'J', u'Cox', u'P', u'C', u'Weber', u'J. Appl. Cryst', u'20', u'', u''], [u'J', u'A', u'Doudna', u'C', u'Grosshans', u'A', u'Gooding', u'C', u'E', u'Kundrot', u'Proc. Natl Acad. Sci. USA', u'Natl Acad. Sci. USA', u'', u'90', u''], [u'', u'E', u'L', u'Forsythe', u'D', u'L', u'Maxwell', u'M', u'Pusey', u'Acta Cryst', u'58', u'', u''], [u'', u'T', u'Hedderich', u'M', u'Marcia', u'J', u'K\\xf6 Pke', u'H', u'Michel', u'Cryst. Growth Des', u'11', u'', u''], [u'', u'J', u'Jancarik', u'S.-H', u'Kim', u'J. Appl. Cryst', u'24', u'', u''], [u'', u'K', u'A', u'Kantardjieff', u'B', u'Rupp', u'Bioinformatics', u'20', u'', u''], [u'', u'M', u'S', u'Kimber', u'F', u'Vallee', u'S', u'Houston', u'A', u'Necakov', u'T', u'Skarina', u'E', u'Evdokimova', u'S', u'Beasley', u'D', u'Christendat', u'A', u'Savchenko', u'C', u'H', u'Arrowsmith', u'M', u'Vedadi', u'M', u'Gerstein', u'A', u'M', u'Edwards', u'Proteins', u'51', u'', u''], [u'', u'M', u'Koszelak-Rosenblum', u'A', u'Krol', u'N', u'Mozumdar', u'K', u'Wunsch', u'A', u'Ferin', u'E', u'Cook', u'C', u'K', u'Veatch', u'R', u'Nagel', u'J', u'R', u'Luft', u'G', u'T', u'Detitta', u'M', u'G', u'Malkowski', u'Protein Sci', u'18', u'', u''], [u'E', u'M', u'Landau', u'J', u'P', u'Rosenbusch', u'Proc. Natl Acad. Sci', u'USA, 93', u'', u''], [u'', u'M', u'J', u'Lemieux', u'J', u'Song', u'M', u'J', u'Kim', u'Y', u'Huang', u'A', u'Villa', u'M', u'Auer', u'X.-D', u'Li', u'D.-N', u'Wang', u'Protein Sci', u'12', u'', u''], [u'', u'A', u'Mcpherson', u'J. Biol. Chem', u'251', u'', u''], [u'', u'A', u'Mcpherson', u'Eur. J. Biochem', u'189', u'', u''], [u'', u'C', u'Morris', u'Acta Cryst', u'67', u'', u''], [u'', u'B', u'Rupp', u'J. Struct. Biol', u'142', u'', u''], [u'D', u'E', u'Smith', u'History of Mathematics', u'New York', u'Dover Publications', u''], [u'', u'D', u'Stock', u'O', u'Perisic', u'J', u'L\\xf6 We', u'Prog. Biophys. Mol. Biol', u'88', u'', u''], [u'', u'T', u'Warne', u'M', u'J', u'Serrano-Vega', u'J', u'G', u'Baker', u'R', u'Moukhametzianov', u'P', u'C', u'Edwards', u'R', u'Henderson', u'A', u'G', u'Leslie', u'C', u'G', u'Tate', u'G', u'F', u'Schertler', u'Nature', u'454', u'', u''], [u'', u'T', u'Warne', u'M', u'J', u'Serrano-Vega', u'C', u'G', u'Tate', u'G', u'F', u'Schertler', u'Protein Expr. Purif', u'65', u'', u'']<br/><strong>B</strong>: [u'Berejnov', u'V.', u'Husseini', u'N. S.', u'Alsaied', u'O. A.', u'Thorne', u'R. E.', u'2006', u'J. Appl. Cryst', u'39', u'244', u'251'], [u'Bergfors', u'T.', u'2007', u'Methods Mol. Biol', u'363', u'131', u'151'], [u'Brzozowski', u'A. M.', u'Walton', u'J.', u'2001', u'J. Appl. Cryst', u'34', u'97', u'101'], [u'Carter', u'C. W.', u'Carter', u'C. W.', u'1979', u'J. Biol. Chem', u'254', u'12219', u'12223'], [u'Clarke', u'O. B.', u'Caputo', u'A. T.', u'Hill', u'A. P.', u'Vandenberg', u'J. I.', u'Smith', u'B. J.', u'Gulbis', u'J. M.', u'2010', u'141', u'1018', u'1029'], [u'Cox', u'M. J.', u'Weber', u'P. C.', u'1987', u'J. Appl. Cryst', u'20', u'366', u'373'], [u'Doudna', u'J. A.', u'Grosshans', u'C.', u'Gooding', u'A.', u'Kundrot', u'C. E.', u'1993', u'Proc. Natl Acad. Sci. USA', u'90', u'7829', u'7833'], [u'Forsythe', u'E. L.', u'Maxwell', u'D. L.', u'Pusey', u'M.', u'2002', u'Acta Cryst. D58', u'1601', u'1605'], [u'Hedderich', u'T.', u'Marcia', u'M.', u'J.', u'Michel', u'H.', u'2011', u'Cryst. Growth Des', u'11', u'488', u'491'], [u'Jancarik', u'J.', u'Kim', u'S.-H.', u'1991', u'J. Appl. Cryst', u'24', u'409', u'411'], [u'Kantardjieff', u'K. A.', u'Rupp', u'B.', u'2004', u'20', u'2162', u'2168'], [u'Kimber', u'M. S.', u'Vallee', u'F.', u'Houston', u'S.', u'Necakov', u'A.', u'Skarina', u'T.', u'Evdokimova', u'E.', u'Beasley', u'S.', u'Christendat', u'D.', u'Savchenko', u'A.', u'Arrowsmith', u'C. H.', u'Vedadi', u'M.', u'Gerstein', u'M.', u'Edwards', u'A. M.', u'2003', u'51', u'562', u'568'], [u'Koszelak-Rosenblum', u'M.', u'Krol', u'A.', u'Mozumdar', u'N.', u'Wunsch', u'K.', u'Ferin', u'A.', u'Cook', u'E.', u'Veatch', u'C. K.', u'Nagel', u'R.', u'Luft', u'J. R.', u'Detitta', u'G. T.', u'Malkowski', u'M. G.', u'2009', u'Protein Sci. 18', u'1828', u'1839'], [u'Landau', u'E. M.', u'Rosenbusch', u'J. P.', u'1996', u'Proc. Natl Acad. Sci. USA', u'93', u'14532', u'14535'], [u'Lemieux', u'M. J.', u'Song', u'J.', u'Kim', u'M. J.', u'Huang', u'Y.', u'Villa', u'A.', u'Auer', u'M.', u'Li', u'X.-D.', u'Wang', u'D.-N.', u'2003', u'Protein Sci', u'12', u'2748', u'2756'], [u'McPherson', u'A.', u'1976', u'J. Biol. Chem', u'251', u'6300', u'6303'], [u'McPherson', u'A.', u'1990', u'Eur. J. Biochem. 189', u'1', u'23'], [u'Morris', u'C.', u'2011', u'Acta Cryst. D67', u'249', u'260'], [u'Rupp', u'B.', u'2003', u'J. Struct. Biol', u'142', u'162', u'169'], [u'Smith', u'D. E.', u'1958'], [u'Stock', u'D.', u'Perisic', u'O.', u'Lo\\xa8 we', u'2005', u'Prog. Biophys. Mol. Biol', u'88', u'311', u'327'], [u'Warne', u'T.', u'Serrano-Vega', u'M. J.', u'Baker', u'J. G.', u'Moukhametzianov', u'R.', u'Edwards', u'P. C.', u'Henderson', u'R.', u'Leslie', u'A. G.', u'Tate', u'C. G.', u'Schertler', u'G. F.', u'2008', u'Nature (London)', u'454', u'486', u'491'], [u'Warne', u'T.', u'Serrano-Vega', u'M. J.', u'Tate', u'C. G.', u'Schertler', u'G. F.', u'2009', u'Protein Expr. Purif', u'65', u'204', u'213']</p>\n",
       "<p><code>e-67-o1363.nxml</code> \"3-Allyl-1-{[3-(4-nitro­phen­yl)-4,5-dihydro-1,3-oxazol-5-yl]meth­yl}-1H-anthra[1,2-d]imidazole-2,6,11(3H)-trione\"<br/><strong>E</strong>: [u'Acta Cryst.', u'66'], [u'J. Ethnopharmacol.', u'72'], [u'Antivir. Res.', u'28'], [u'APEX2', u'SAINT-Plus', u'SADABS'], [u'Food Chem. Toxicol.', u'45'], [u'J. Am. Chem. Soc.', u'97'], [u'J. Appl. Cryst.', u'30'], [u'J. Med. Chem.', u'46'], [u'J. Ethnopharmacol.', u'91'], [u'Cancer Lett.', u'182'], [u'Acta Cryst.', u'64'], [u'Mutat. Res.', u'347'], [u'Biochem. Pharmacol.', u'70'], [u'Thermochim. Acta', u'429'], [u'Food Chem.', u'70']<br/><strong>A</strong>: [u'', u'Z', u'Afrakssou', u'Y', u'K', u'Rodi', u'H', u'Zouihri', u'E', u'M', u'Essassi', u'S', u'W', u'Ng', u'Acta Cryst', u'66', u'1851', u''], [u'', u'S', u'K', u'Agarwal', u'S', u'S', u'Singh', u'S', u'Verma', u'S', u'Kumar', u'J. Ethnopharmacol', u'72', u'', u''], [u'', u'D', u'L', u'Barnard', u'D', u'W', u'Fairbairn', u'K', u'L', u'O&apos;neill', u'T', u'L', u'Gage', u'R', u'W', u'Sidwell', u'Antivir. Res', u'28', u'', u''], [u'APEX2, SAINT-Plus and SADABS', u'Bruker', u'', u'Bruker AXS Inc', u'Madison, Wisconsin, USA'], [u'', u'S', u'H', u'Chen', u'K', u'Y', u'Lin', u'C', u'C', u'Chang', u'C', u'L', u'Fang', u'C', u'P', u'Lin', u'Food Chem. Toxicol', u'45', u'', u''], [u'', u'D', u'Cremer', u'J', u'A', u'Pople', u'J. Am. Chem. Soc', u'97', u'', u''], [u'', u'L', u'J', u'Farrugia', u'H', u'S', u'Haug', u'J', u'F', u'Chiou', u'Y', u'Fong', u'C', u'C', u'Hou', u'Y', u'C', u'Lu', u'J', u'Y', u'Wang', u'J', u'W', u'Shih', u'Y', u'R', u'Pan', u'J', u'J', u'Lin', u'J. Appl. Cryst', u'30', u'', u'', u'J. Med. Chem.'], [u'', u'A', u'Iizuka', u'O', u'T', u'Iijima', u'K', u'Kondo', u'H', u'Itakura', u'F', u'Yoshie', u'H', u'Miyamoto', u'M', u'Kubo', u'M', u'Higuchi', u'H', u'Takeda', u'T', u'Matsumiy', u'J. Ethnopharmacol', u'91', u'', u''], [u'', u'J', u'Koyamaa', u'I', u'Morita', u'K', u'Tagahara', u'Y', u'Nobukuni', u'T', u'Mukainaka', u'M', u'Kuchide', u'H', u'Tokuda', u'H', u'Nishino', u'Cancer Lett', u'182', u'', u''], [u'', u'G', u'M', u'Sheldrick', u'Acta Cryst', u'64', u'', u''], [u'', u'S', u'Simi', u'S', u'Morelli', u'P', u'G', u'Gervasi', u'G', u'Rainaldi', u'Mutat. Res', u'347', u'', u''], [u'', u'Y', u'T', u'Su', u'H', u'L', u'Chang', u'S', u'K', u'Shyue', u'S', u'L', u'Hsu', u'Biochem. Pharmacol', u'70', u'', u''], [u'', u'Y', u'W', u'Wu', u'W', u'Y', u'Gao', u'X', u'H', u'Xiao', u'Y', u'Liu', u'Thermochim. Acta', u'429', u'', u''], [u'', u'G', u'C', u'Yen', u'P', u'D', u'Duh', u'D', u'Y', u'Chuang', u'Food Chem', u'70', u'', u'']<br/><strong>B</strong>: [u'Afrakssou', u'Z.', u'Rodi', u'Y. K.', u'Zouihri', u'H.', u'Essassi', u'E. M.', u'Ng', u'S. W.', u'2010', u'Acta Cryst. E66', u'o1851'], [u'Agarwal', u'S. K.', u'Singh', u'S. S.', u'Verma', u'S.', u'Kumar', u'S.', u'2000', u'J. Ethnopharmacol', u'72', u'43', u'46'], [u'Barnard', u'D. L.', u'Fairbairn', u'D. W.', u\"O'Neill\", u'K. L.', u'Gage', u'T. L.', u'Sidwell', u'R. W.', u'1995', u'Antivir. Res', u'28', u'317', u'321'], [u'Bruker', u'2009', u'APEX2, SAINT-Plus and SADABS. Bruker AXS Inc', u'Madison'], [u'Chen', u'S. H.', u'Lin', u'K. Y.', u'Chang', u'C. C.', u'Fang', u'C. L.', u'Lin', u'C. P.', u'2007', u'Food Chem. Toxicol', u'45', u'2296', u'2303'], [u'Cremer', u'D.', u'Pople', u'J. A.', u'1975', u'J. Am. Chem. Soc', u'97', u'1354', u'1358'], [u'Farrugia', u'L. J.', u'1997', u'J. Appl. Cryst', u'30', u'565'], [u'Haug', u'H. S.', u'Chiou', u'J. F.', u'Fong', u'Y.', u'Hou', u'C. C.', u'Lu', u'Y. C.', u'Wang', u'J. Y.', u'Shih', u'J. W.', u'Pan', u'Y. R.', u'Lin', u'J. J.', u'2003', u'J. Med. Chem', u'46', u'3300', u'3307'], [u'Iizuka', u'A.', u'Iijima', u'O. T.', u'Kondo', u'K.', u'Itakura', u'H.', u'Yoshie', u'F.', u'Miyamoto', u'H.', u'Kubo', u'M.', u'Higuchi', u'M.', u'Takeda', u'H.', u'Matsumiy', u'T.', u'2004', u'J. Ethnopharmacol', u'91', u'89', u'94'], [u'Koyamaa', u'J.', u'Morita', u'I.', u'Tagahara', u'K.', u'Nobukuni', u'Y.', u'Mukainaka', u'T.', u'Kuchide', u'M.', u'Tokuda', u'H.', u'Nishino', u'H.', u'2002', u'Cancer Lett', u'182', u'135', u'139'], [u'Sheldrick', u'G. M.', u'2008', u'Acta Cryst. A64', u'112', u'122'], [u'Simi', u'S.', u'Morelli', u'S.', u'Gervasi', u'P. G.', u'Rainaldi', u'G.', u'1995', u'Mutat. Res', u'347', u'151', u'156'], [u'Su', u'Y. T.', u'Chang', u'H. L.', u'Shyue', u'S. K.', u'Hsu', u'S. L.', u'2005', u'Biochem. Pharmacol', u'70', u'229', u'241'], [u'Wu', u'Y. W.', u'Gao', u'Xiao', u'X. H.', u'Liu', u'Y.', u'2005', u'Thermochim. Acta', u'429', u'167', u'170'], [u'Yen', u'G. C.', u'Duh', u'P. D.', u'Chuang', u'D. Y.', u'2000', u'Food Chem', u'70', u'437', u'441']</p>\n",
       "</blockquote>\n",
       "<p>7 more</p></details>"
      ],
      "text/plain": [
       "<IPython.core.display.HTML object>"
      ]
     },
     "metadata": {},
     "output_type": "display_data"
    },
    {
     "data": {
      "text/markdown": [
       "<hr/>"
      ],
      "text/plain": [
       "<IPython.core.display.Markdown object>"
      ]
     },
     "metadata": {},
     "output_type": "display_data"
    },
    {
     "data": {
      "text/markdown": [
       "# Field: reference_title"
      ],
      "text/plain": [
       "<IPython.core.display.Markdown object>"
      ]
     },
     "metadata": {},
     "output_type": "display_data"
    },
    {
     "data": {
      "text/markdown": [
       "## Dataset: pmc-sample-1943-cc-by-subset (reference_title levenshtein)"
      ],
      "text/plain": [
       "<IPython.core.display.Markdown object>"
      ]
     },
     "metadata": {},
     "output_type": "display_data"
    },
    {
     "data": {
      "text/html": [
       "<details><summary>Comparison: grobid-tei vs cermine</summary><p><strong>E</strong>: expected, <strong>A</strong>: pmc-sample-1943-cc-by-subset grobid-tei, <strong>B</strong>: pmc-sample-1943-cc-by-subset cermine (reference_title levenshtein)</p>\n",
       "<h4>grobid-tei [0 : 1] cermine (2)</h4>\n",
       "<p>There are 2 samples where grobid-tei got it wrong, but cermine got it right.</p>\n",
       "<blockquote>\n",
       "<p><code>aas0055-0039.nxml</code> \"Phosphate-containing dialysis solution prevents hypophosphatemia during continuous renal replacement therapy\"<br/><strong>E</strong>: Phosphate addition to hemodiafiltration solutions during continuous renal replacement therapy, Refeeding hypophosphatemia in critically ill patients in an intensive care unit. A prospective study, Hypophosphataemia. Pathophysiology, effects and management on the intensive care unit, Glucose: a potential killer, Endocrine crises. Hypophosphatemia and hyperphosphatemia, Mechanisms of hypophosphataemia in alcoholic patients, High incidence of hypophosphatemia in surgical intensive care patients: efficacy of phosphorus therapy on myocardial function, Phosphatemic control during acute renal failure: intermittent hemodialysis versus continuous hemodiafiltration, A pilot randomised controlled comparison of continuous veno-venous haemofiltration and extended daily dialysis with filtration: effect on small solutes and acid-base balance, Severe hypophosphatemia in sepsis as a mortality predictor, Phosphate homeostasis and hypophosphatemia, Drug- and nutrition-induced hypophosphatemia: mechanisms and relevance in the critically ill, Hemodynamic and metabolic effects of rapid correction of hypophosphatemia in patients with septic shock, Hypophosphataemia: a dangerous disorder, Effects of hypophosphatemia on glucose tolerance and insulin secretion, Severe hypophosphataemia and insulin resistance in diabetic ketoacidosis, CT and MRI in severe hypophosphataemia with central nervous system involvement, Reversible severe congestive cardiomyopathy in three cases of hypophosphatemia, Effect of hypophosphatemia on diaphragmatic contractility in patients with acute respiratory failure, The Euro-balance trial: the effect of a new biocompatible peritoneal dialysis fluid (balance) on the peritoneal membrane, Management of hypophosphatemia induced by high-flux hemodiafiltration for the treatment of vancomycin toxicity: intravenous phosphorus therapy versus use of a phosphorus-enriched dialysate, Hypophosphatemia and phosphate supplementation during continuous renal replacement therapy in children, Sepsis-related acute kidney injury: a protective effect of drotrecogin alpha (activated) treatment?, Treatment of severe hypophosphatemia, Efficacy of intravenous phosphorus therapy in the severely hypophosphatemic patient, High-dose intravenous phosphorus therapy for severe complicated hypophosphatemia, Treatment of severe hypophosphatemia, Observations of hypophosphatemia and its management in nutrition support, Treatment of hypophosphatemia in patients receiving specialized nutrition support using a graduated dosing scheme: results from a prospective clinical trial, Intravenous phosphate repletion regimen for critically ill patients with moderate hypophosphatemia, Efficacy and safety of intravenous phosphate replacement in critically ill patients, Intravenous phosphate in the intensive care unit: more aggressive repletion regimens for moderate and severe hypophosphatemia, Prevalence of hypophosphatemia in sepsis and infection: the role of cytokines, Serum inorganic phosphate, Continuous veno-venous hemodiafiltration or hemofiltration: impact on calcium, phosphate and magnesium concentrations, Selection of dialysate and replacement fluids and management of electrolyte and acid–base disturbances<br/><strong>A</strong>: Phosphate addition to hemodiafiltration solutions during continuous renal replacement therapy, Refeeding hypophosphatemia in critically ill patients in an intensive care unit. A prospective study, Pathophysiology, effects and management on the intensive care unit, Glucose: a potential killer, Endocrine crises. Hypophosphatemia and hyperphosphatemia, Mechanisms of hypophosphataemia in alcoholic patients, High incidence of hypophosphatemia in surgical intensive care patients: efficacy of phosphorus therapy on myocardial function, Phosphatemic control during acute renal failure: intermittent hemodialysis versus continuous hemodiafiltration, A pilot randomised controlled comparison of continuous venovenous haemofiltration and extended daily dialysis with filtration: effect on small solutes and acid-base balance, Severe hypophosphatemia in sepsis as a mortality predictor, Phosphate homeostasis and hypophosphatemia, Drug-and nutrition-induced hypophosphatemia: mechanisms and relevance in the critically ill, Hemodynamic and metabolic effects of rapid correction of hypophosphatemia in patients with septic shock, Hypophosphataemia: a dangerous disorder, Effects of hypophosphatemia on glucose tolerance and insulin secretion, Severe hypophosphataemia and insulin resistance in diabetic ketoacidosis, CT and MRI in severe hypophosphataemia with central nervous system involvement, Reversible severe congestive cardiomyopathy in three cases of hypophosphatemia, Effect of hypophosphatemia on diaphragmatic contractility in patients with acute respiratory failure, The Euro-balance trial: the effect of a new biocompatible peritoneal dialysis fluid (balance) on the peritoneal membrane, Management of hypophosphatemia induced by high-flux hemodiafiltration for the treatment of vancomycin toxicity: intravenous phosphorus therapy versus use of a phosphorus-enriched dialysate, Hypophosphatemia and phosphate supplementation during continuous renal replacement therapy in children, Sepsis-related acute kidney injury: a protective effect of drotrecogin alpha (activated) treatment?, Treatment of severe hypophosphatemia, Efficacy of intravenous phosphorus therapy in the severely hypophosphatemic patient, High-dose intravenous phosphorus therapy for severe complicated hypophosphatemia, Treatment of severe hypophosphatemia, Observations of hypophosphatemia and its management in nutrition support, Treatment of hypophosphatemia in patients receiving specialized nutrition support using a graduated dosing scheme: results from a prospective clinical trial, Intravenous phosphate repletion regimen for critically ill patients with moderate hypophosphatemia, Efficacy and safety of intravenous phosphate replacement in critically ill patients, Intravenous phosphate in the intensive care unit: more aggressive repletion regimens for moderate and severe hypophosphatemia, Prevalence of hypophosphatemia in sepsis and infection: the role of cytokines, , Continuous veno-venous hemodiafiltration or hemofiltration: impact on calcium, phosphate and magnesium concentrations, Selection of dialysate and replacement fluids and management of electrolyte and acid-base disturbances</p>\n",
       "<p><code>ORT-1745-3674-81-405.nxml</code> \"Resection arthroplasty for luxation of the manubrio-sternal joint in rheumatoid arthritis—a case report\"<br/><strong>E</strong>: Manubrio-sternal joint in rheumatoid arthritis, Manubriosternal joint subluxation in rheumatoid arthritis, Manubriosternal joint dislocation in rheumatoid arthritis: the role of thoracic kyphosis, Manubriosternal joint subluxation in rheumatoid arthritis, A micrographic an histological study of the manubrio-sternal joint in rheumatoid arthritis, Involvement of the manubrio-sternal articulation in rheumatoid arthritis, Manubrio-sternal joint subluxation in rheumatiod arthritis, Dislocation of the manubriosternal joint in rheumatoid arthritis<br/><strong>A</strong>: Manubriosternal joint subluxation in rheumatoid arthritis, A micrographic an histological study of the manubrio-sternal joint in rheumatoid arthritis, Involvement of the manubrio-sternal articulation in rheumatoid arthritis, Manubrio-sternal joint subluxation in rheumatiod arthritis, Dislocation of the manubriosternal joint in rheumatoid arthritis, , Manubrio-sternal joint in rheumatoid arthritis, Manubriosternal joint subluxation in rheumatoid arthritis, Manubriosternal joint dislocation in rheumatoid arthritis: the role of thoracic kyphosis</p>\n",
       "</blockquote>\n",
       "<h4>grobid-tei [1 : 0] cermine (1)</h4>\n",
       "<p>There are 1 samples where grobid-tei got it right, but cermine got it wrong.</p>\n",
       "<blockquote>\n",
       "<p><code>d-67-00463.nxml</code> \"Pi sampling: a methodical and flexible approach to initial macromolecular crystallization screening\"<br/><strong>E</strong>: , , , , , , , , , , , , , , , , , , , , , , <br/><strong>B</strong>: , , , , , , , , , , , , , , , , , , , , Lo¨ we, , </p>\n",
       "</blockquote>\n",
       "<h4>grobid-tei [0 : 0] cermine (5)</h4>\n",
       "<p>There are 5 samples where both grobid-tei and cermine got it wrong.</p>\n",
       "<blockquote>\n",
       "<p><code>e-67-o1363.nxml</code> \"3-Allyl-1-{[3-(4-nitro­phen­yl)-4,5-dihydro-1,3-oxazol-5-yl]meth­yl}-1H-anthra[1,2-d]imidazole-2,6,11(3H)-trione\"<br/><strong>E</strong>: , , , , , , , , , , , , , , <br/><strong>A</strong>: , , , , , , , , , , , , , <br/><strong>B</strong>: , , , APEX2, SAINT-Plus and SADABS. Bruker AXS Inc, , , , , , , , , , , </p>\n",
       "<p><code>sobs89-975.nxml</code> \"Camera trocar lifting in office gasless laparoscopic sterilization under local anesthesia\"<br/><strong>E</strong>: Twenty-two years of office and outpatient laparoscopy: current techniques and why I chose them, Current state of office laparoscopic surgery, Laparoscopic sterilization under local anesthesia or general anesthesia? A randomized study, Laparoscopy. Gasless vs. CO2 pneumoperitoneum, A randomized, prospective comparison of pain after gasless laparoscopy and traditional laparoscopy, Minilaparotomy or laparoscopy for sterilization: a multicenter, multinational randomized study, Microsurgery for tubal infertility, Office microlaparoscopy under local anesthesia for chronic pelvic pain, A comparative study of hysteroscopic sterilization versus laparoscopic tubal sterilization, Effectiveness of abdominal wall elevator in reducing intraabdominal pressure and CO2 volume during laparoscopic cholecystectomy, The European Association for Endoscopic Surgery clinical practice guideline on the pneumoperitoneum for laparoscopic surgery<br/><strong>A</strong>: Twenty-two years of office and outpatient laparoscopy: current techniques and why I chose them, Current state of office laparoscopic surgery, Laparoscopic sterilization under local anesthesia or general anesthesia? A randomized study, Gasless vs. CO2 pneumoperitoneum, A randomized, prospective comparison of pain after gasless laparoscopy and traditional laparoscopy, Minilaparotomy or laparoscopy for sterilization: a multicenter, multinational randomized study, Microsurgery for tubal infertility, Office microlaparoscopy under local anesthesia for chronic pelvic pain, A comparative study of hysteroscopic sterilization versus laparoscopic tubal sterilization, Effectiveness of abdominal wall elevator in reducing intraabdominal pressure and CO2 volume during laparoscopic cholecystectomy, The European Association for Endoscopic Surgery clinical practice guideline on the pneumoperitoneum for laparoscopic surgery<br/><strong>B</strong>: Twenty-two years of office and outpatient laparoscopy: current techniques and why I chose them, Current state of office laparoscopic surgery, Laparoscopic sterilization under local anesthesia or general anesthesia? A randomized study, Gasless vs. CO2 pneumoperitoneum, A randomized, prospective comparison of pain after gasless laparoscopy and traditional laparoscopy, Force on Female Sterilization. Minilaparotomy or laparoscopy for sterilization: a multicenter, multinational randomized study, Microsurgery for tubal infertility, Office microlaparoscopy under local anesthesia for chronic pelvic pain, SpOG. A comparative study of hysteroscopic sterilization versus laparoscopic tubal sterilization, Effectiveness of abdominal wall elevator in reducing intraabdominal pressure and CO2 volume during laparoscopic cholecystectomy, The European Association for Endoscopic Surgery clinical practice guideline on the pneumoperitoneum for laparoscopic surgery</p>\n",
       "<p><code>sonc50-621.nxml</code> \"Management of cutaneous metastases using electrochemotherapy\"<br/><strong>E</strong>: Cutaneous metastatic disease, Tumor invasion of the skin, Cutaneous metastases in patients with metastatic carcinoma: A retrospective study of 4020 patients, Treatment of cutaneous and subcutaneous tumors with electrochemotherapy using intralesional bleomycin, Electrochemotherapy, An easy, highly effective and safe treatment of cutaneous and subcutaneous metastases: Results of ESOPE (European Standard Operating Procedures of Electrochemotherapy) study, Effective treatment of cutaneous and subcutaneous malignant tumours by electrochemotherapy, Electroporation: Theory and methods, perspectives for drug delivery, gene therapy and research, Bleomycin, an apoptosis-mimetic drug that induces two types of cell death depending on the number of molecules internalized, Enhancement of cytotoxicity by electropermeabilization: An improved method for screening drugs, Transient electropermeabilization of cells in culture. Increase of the cytotoxicity of anticancer drugs, Toxicity of anticancer agents mediated by electroporation in vitro, Electrochemotherapy, a new antitumor treatment. First clinical phase I-II trial, Bleomycin-based electrochemotherapy: Clinical outcome from a single institution's experience with 52 patients, Electrochemotherapy: Results of cancer treatment using enhanced delivery of bleomycin by electroporation, Electrochemotherapy in primary and metastatic skin tumors: Phase II trial using intralesional bleomycin, Efficient palliation of haemorrhaging malignant melanoma skin metastases by electrochemotherapy, Standard operating procedures of the electrochemotherapy: Instructions for the use of bleomycin or cisplatin administered either systemically or locally and electric pulses delivered by the CliniporatorTM by means of invasive or non-invasive electrodes, Antitumor electrochemotherapy: New advances in the clinical protocol, Bleomycin clinical pharmacology by radioimmunoassay, Bleomycin and hyperoxia exposure in the operating room, New guidelines to evaluate the response to treatment in solid tumors. European Organization for Research and Treatment of Cancer, National Cancer Institute of the United States, National Cancer Institute of Canada, [Electrochemotherapy, a new antitumor treatment: first clinical trial], Electrochemotherapy with intravenous bleomycin in the local treatment of skin melanoma metastases, How we do it: Chemo-electroporation in the head and neck for otherwise untreatable patients, Electrochemotherapy: Aspects of preclinical development and early clinical experience<br/><strong>A</strong>: Cutaneous metastatic disease, , , Cutaneous metastases, in patients with metastatic carcinoma: A retrospective study of 4020 patients, , Treatment of cutaneous and subcutaneous tumors with electrochemotherapy using intralesional bleomycin, , An easy, highly effective and safe treatment of cutaneous and subcutaneous metastases: Results of ESOPE (European Standard Operating Procedures of Electrochemotherapy) study, Effective treatment of cutaneous and subcutaneous malignant tumours by electrochemotherapy, , for drug delivery, gene therapy and research, Bleomycin, [8] an apoptosis-mimetic drug that induces two types of cell death depending on the number of molecules internalized, Enhancement of cytotoxicity [9] by electropermeabilization: An improved method for screening drugs, Transient elec[10] tropermeabilization of cells in culture. Increase of the cytotoxicity of anticancer drugs, Toxicity of anticancer agents mediated by electroporation in vitro, , Electrochemotherapy, a new antitumor treatment. First clinical phase I-II trial, , Bleomycin-based electrochemotherapy: Clinical outcome from a single institution's experience with 52 patients, , Electrochemotherapy in primary and metastatic skin tumors: Phase II trial using intralesional bleomycin, Effi cient palliation of haemorrhaging [16] malignant melanoma skin metastases by electrochemotherapy, , Standard operating procedures of the electrochemotherapy: Instructions for the use of bleomycin or cisplatin administered either systemically or locally and electric pulses delivered by the CliniporatorTM by means of invasive or non-invasive electrodes, , Antitumor electrochemotherapy: New advances in the clinical protocol, , Bleomycin clinical pharmacology by radioimmunoassay, Bleomycin and hyperoxia exposure in the oper[20] ating room, , New guidelines to evaluate the response to treatment in solid tumors. European Organization for Research and Treatment of Cancer, National Cancer Institute of the United States, National Cancer Institute of Canada, , , , , Electrochemotherapy with intravenous bleomycin in the local treatment of skin melanoma metastases, , Aspects of preclinical development and early clinical experience<br/><strong>B</strong>: Cutaneous metastatic disease, Tumor invasion of the skin, Cutaneous metastases in patients with metastatic carcinoma: A retrospective study of 4020 patients, Treatment of cutaneous and subcutaneous tumors with electrochemotherapy using intralesional bleomycin, Electrochemotherapy, An easy, highly effective and safe treatment of cutaneous and subcutaneous metastases: Results of ESOPE (European Standard Operating Procedures of Electrochemotherapy) study, Effective treatment of cutaneous and subcutaneous malignant tumours by electrochemotherapy, : Theory and methods, perspectives for drug delivery, gene therapy and research, Bleomycin, an apoptosis-mimetic drug that induces two types of cell death depending on the number of molecules internalized, Enhancement of cytotoxicity by electropermeabilization: An improved method for screening drugs, Transient electropermeabilization of cells in culture. Increase of the cytotoxicity of anticancer drugs, Toxicity of anticancer agents mediated by electroporation in vitro, Electrochemotherapy, a new antitumor treatment. First clinical phase I-II trial, Bleomycin-based electrochemotherapy: Clinical outcome from a single institution's experience with 52 patients, Electrochemotherapy: Results of cancer treatment using enhanced delivery of bleomycin by electroporation, Electrochemotherapy in primary and metastatic skin tumors: Phase II trial using intralesional bleomycin, Efficient palliation of haemorrhaging malignant melanoma skin metastases by electrochemotherapy, Standard operating procedures of the electrochemotherapy: Instructions for the use of bleomycin or cisplatin administered either systemically or locally and electric pulses delivered by the CliniporatorTM by means of invasive or non-invasive electrodes, Antitumor electrochemotherapy: New advances in the clinical protocol, Bleomycin clinical pharmacology by radioimmunoassay, Bleomycin and hyperoxia exposure in the operating room, New guidelines to evaluate the response to treatment in solid tumors, National Cancer Institute of the United States, National Cancer Institute of Canada, Electrochemotherapy, a new antitumor treatment: first clinical trial], Electrochemotherapy with intravenous bleomycin in the local treatment of skin melanoma metastases, How we do it: Chemo-electroporation in the head and neck for otherwise untreatable patients, Electrochemotherapy: Aspects of preclinical development and early clinical experience</p>\n",
       "</blockquote>\n",
       "<p>2 more</p></details>"
      ],
      "text/plain": [
       "<IPython.core.display.HTML object>"
      ]
     },
     "metadata": {},
     "output_type": "display_data"
    },
    {
     "data": {
      "text/markdown": [
       "## Dataset: pmc-sample-1943-cc-by-subset (reference_title exact)"
      ],
      "text/plain": [
       "<IPython.core.display.Markdown object>"
      ]
     },
     "metadata": {},
     "output_type": "display_data"
    },
    {
     "data": {
      "text/html": [
       "<details><summary>Comparison: grobid-tei vs cermine</summary><p><strong>E</strong>: expected, <strong>A</strong>: pmc-sample-1943-cc-by-subset grobid-tei, <strong>B</strong>: pmc-sample-1943-cc-by-subset cermine (reference_title exact)</p>\n",
       "<h4>grobid-tei [0 : 1] cermine (0)</h4>\n",
       "<p>There are 0 samples where grobid-tei got it wrong, but cermine got it right.</p>\n",
       "<h4>grobid-tei [1 : 0] cermine (1)</h4>\n",
       "<p>There are 1 samples where grobid-tei got it right, but cermine got it wrong.</p>\n",
       "<blockquote>\n",
       "<p><code>d-67-00463.nxml</code> \"Pi sampling: a methodical and flexible approach to initial macromolecular crystallization screening\"<br/><strong>E</strong>: , , , , , , , , , , , , , , , , , , , , , , <br/><strong>B</strong>: , , , , , , , , , , , , , , , , , , , , Lo¨ we, , </p>\n",
       "</blockquote>\n",
       "<h4>grobid-tei [0 : 0] cermine (8)</h4>\n",
       "<p>There are 8 samples where both grobid-tei and cermine got it wrong.</p>\n",
       "<blockquote>\n",
       "<p><code>aas0055-0039.nxml</code> \"Phosphate-containing dialysis solution prevents hypophosphatemia during continuous renal replacement therapy\"<br/><strong>E</strong>: Phosphate addition to hemodiafiltration solutions during continuous renal replacement therapy, Refeeding hypophosphatemia in critically ill patients in an intensive care unit. A prospective study, Hypophosphataemia. Pathophysiology, effects and management on the intensive care unit, Glucose: a potential killer, Endocrine crises. Hypophosphatemia and hyperphosphatemia, Mechanisms of hypophosphataemia in alcoholic patients, High incidence of hypophosphatemia in surgical intensive care patients: efficacy of phosphorus therapy on myocardial function, Phosphatemic control during acute renal failure: intermittent hemodialysis versus continuous hemodiafiltration, A pilot randomised controlled comparison of continuous veno-venous haemofiltration and extended daily dialysis with filtration: effect on small solutes and acid-base balance, Severe hypophosphatemia in sepsis as a mortality predictor, Phosphate homeostasis and hypophosphatemia, Drug- and nutrition-induced hypophosphatemia: mechanisms and relevance in the critically ill, Hemodynamic and metabolic effects of rapid correction of hypophosphatemia in patients with septic shock, Hypophosphataemia: a dangerous disorder, Effects of hypophosphatemia on glucose tolerance and insulin secretion, Severe hypophosphataemia and insulin resistance in diabetic ketoacidosis, CT and MRI in severe hypophosphataemia with central nervous system involvement, Reversible severe congestive cardiomyopathy in three cases of hypophosphatemia, Effect of hypophosphatemia on diaphragmatic contractility in patients with acute respiratory failure, The Euro-balance trial: the effect of a new biocompatible peritoneal dialysis fluid (balance) on the peritoneal membrane, Management of hypophosphatemia induced by high-flux hemodiafiltration for the treatment of vancomycin toxicity: intravenous phosphorus therapy versus use of a phosphorus-enriched dialysate, Hypophosphatemia and phosphate supplementation during continuous renal replacement therapy in children, Sepsis-related acute kidney injury: a protective effect of drotrecogin alpha (activated) treatment?, Treatment of severe hypophosphatemia, Efficacy of intravenous phosphorus therapy in the severely hypophosphatemic patient, High-dose intravenous phosphorus therapy for severe complicated hypophosphatemia, Treatment of severe hypophosphatemia, Observations of hypophosphatemia and its management in nutrition support, Treatment of hypophosphatemia in patients receiving specialized nutrition support using a graduated dosing scheme: results from a prospective clinical trial, Intravenous phosphate repletion regimen for critically ill patients with moderate hypophosphatemia, Efficacy and safety of intravenous phosphate replacement in critically ill patients, Intravenous phosphate in the intensive care unit: more aggressive repletion regimens for moderate and severe hypophosphatemia, Prevalence of hypophosphatemia in sepsis and infection: the role of cytokines, Serum inorganic phosphate, Continuous veno-venous hemodiafiltration or hemofiltration: impact on calcium, phosphate and magnesium concentrations, Selection of dialysate and replacement fluids and management of electrolyte and acid–base disturbances<br/><strong>A</strong>: Phosphate addition to hemodiafiltration solutions during continuous renal replacement therapy, Refeeding hypophosphatemia in critically ill patients in an intensive care unit. A prospective study, Pathophysiology, effects and management on the intensive care unit, Glucose: a potential killer, Endocrine crises. Hypophosphatemia and hyperphosphatemia, Mechanisms of hypophosphataemia in alcoholic patients, High incidence of hypophosphatemia in surgical intensive care patients: efficacy of phosphorus therapy on myocardial function, Phosphatemic control during acute renal failure: intermittent hemodialysis versus continuous hemodiafiltration, A pilot randomised controlled comparison of continuous venovenous haemofiltration and extended daily dialysis with filtration: effect on small solutes and acid-base balance, Severe hypophosphatemia in sepsis as a mortality predictor, Phosphate homeostasis and hypophosphatemia, Drug-and nutrition-induced hypophosphatemia: mechanisms and relevance in the critically ill, Hemodynamic and metabolic effects of rapid correction of hypophosphatemia in patients with septic shock, Hypophosphataemia: a dangerous disorder, Effects of hypophosphatemia on glucose tolerance and insulin secretion, Severe hypophosphataemia and insulin resistance in diabetic ketoacidosis, CT and MRI in severe hypophosphataemia with central nervous system involvement, Reversible severe congestive cardiomyopathy in three cases of hypophosphatemia, Effect of hypophosphatemia on diaphragmatic contractility in patients with acute respiratory failure, The Euro-balance trial: the effect of a new biocompatible peritoneal dialysis fluid (balance) on the peritoneal membrane, Management of hypophosphatemia induced by high-flux hemodiafiltration for the treatment of vancomycin toxicity: intravenous phosphorus therapy versus use of a phosphorus-enriched dialysate, Hypophosphatemia and phosphate supplementation during continuous renal replacement therapy in children, Sepsis-related acute kidney injury: a protective effect of drotrecogin alpha (activated) treatment?, Treatment of severe hypophosphatemia, Efficacy of intravenous phosphorus therapy in the severely hypophosphatemic patient, High-dose intravenous phosphorus therapy for severe complicated hypophosphatemia, Treatment of severe hypophosphatemia, Observations of hypophosphatemia and its management in nutrition support, Treatment of hypophosphatemia in patients receiving specialized nutrition support using a graduated dosing scheme: results from a prospective clinical trial, Intravenous phosphate repletion regimen for critically ill patients with moderate hypophosphatemia, Efficacy and safety of intravenous phosphate replacement in critically ill patients, Intravenous phosphate in the intensive care unit: more aggressive repletion regimens for moderate and severe hypophosphatemia, Prevalence of hypophosphatemia in sepsis and infection: the role of cytokines, , Continuous veno-venous hemodiafiltration or hemofiltration: impact on calcium, phosphate and magnesium concentrations, Selection of dialysate and replacement fluids and management of electrolyte and acid-base disturbances<br/><strong>B</strong>: Phosphate addition to hemodiafiltration solutions during continuous renal replacement therapy, Refeeding hypophosphatemia in critically ill patients in an intensive care unit. A prospective study, Hypophosphataemia. Pathophysiology, effects and management on the intensive care unit, Glucose: a potential killer, Endocrine crises. Hypophosphatemia and hyperphosphatemia, Mechanisms of hypophosphataemia in alcoholic patients, High incidence of hypophosphatemia in surgical intensive care patients: efficacy of phosphorus therapy on myocardial function, Phosphatemic control during acute renal failure: intermittent hemodialysis versus continuous hemodiafiltration, A pilot randomised controlled comparison of continuous venovenous haemofiltration and extended daily dialysis with filtration: effect on small solutes and acid-base balance, Severe hypophosphatemia in sepsis as a mortality predictor, Phosphate homeostasis and hypophosphatemia, Drug- and nutrition-induced hypophosphatemia: mechanisms and relevance in the critically ill, Hemodynamic and metabolic effects of rapid correction of hypophosphatemia in patients with septic shock, Hypophosphataemia: a dangerous disorder, Effects of hypophosphatemia on glucose tolerance and insulin secretion, Severe hypophosphataemia and insulin resistance in diabetic ketoacidosis, CT and MRI in severe hypophosphataemia with central nervous system involvement, Reversible severe congestive cardiomyopathy in three cases of hypophosphatemia, Effect of hypophosphatemia on diaphragmatic contractility in patients with acute respiratory failure, The Euro-balance trial: the effect of a new biocompatible peritoneal dialysis fluid (balance) on the peritoneal membrane, Management of hypophosphatemia induced by high-flux hemodiafiltration for the treatment of vancomycin toxicity: intravenous phosphorus therapy versus use of a phosphorus-enriched dialysate, Hypophosphatemia and phosphate supplementation during continuous renal replacement therapy in children, Sepsis-related acute kidney injury: a protective effect of drotrecogin alpha (activated) treatment?, Treatment of severe hypophosphatemia, Efficacy of intravenous phosphorus therapy in the severely hypophosphatemic patient, High-dose intravenous phosphorus therapy for severe complicated hypophosphatemia, Treatment of severe hypophosphatemia, Observations of hypophosphatemia and its management in nutrition support, Treatment of hypophosphatemia in patients receiving specialized nutrition support using a graduated dosing scheme: results from a prospective clinical trial, Intravenous phosphate repletion regimen for critically ill patients with moderate hypophosphatemia, Efficacy and safety of intravenous phosphate replacement in critically ill patients, Intravenous phosphate in the intensive care unit: more aggressive repletion regimens for moderate and severe hypophosphatemia, Prevalence of hypophosphatemia in sepsis and infection: the role of cytokines, Serum inorganic phosphate, Continuous veno-venous hemodiafiltration or hemofiltration: impact on calcium, phosphate and magnesium concentrations, Selection of dialysate and replacement fluids and management of electrolyte and acid-base disturbances</p>\n",
       "<p><code>e-67-o1363.nxml</code> \"3-Allyl-1-{[3-(4-nitro­phen­yl)-4,5-dihydro-1,3-oxazol-5-yl]meth­yl}-1H-anthra[1,2-d]imidazole-2,6,11(3H)-trione\"<br/><strong>E</strong>: , , , , , , , , , , , , , , <br/><strong>A</strong>: , , , , , , , , , , , , , <br/><strong>B</strong>: , , , APEX2, SAINT-Plus and SADABS. Bruker AXS Inc, , , , , , , , , , , </p>\n",
       "<p><code>sobs89-975.nxml</code> \"Camera trocar lifting in office gasless laparoscopic sterilization under local anesthesia\"<br/><strong>E</strong>: Twenty-two years of office and outpatient laparoscopy: current techniques and why I chose them, Current state of office laparoscopic surgery, Laparoscopic sterilization under local anesthesia or general anesthesia? A randomized study, Laparoscopy. Gasless vs. CO2 pneumoperitoneum, A randomized, prospective comparison of pain after gasless laparoscopy and traditional laparoscopy, Minilaparotomy or laparoscopy for sterilization: a multicenter, multinational randomized study, Microsurgery for tubal infertility, Office microlaparoscopy under local anesthesia for chronic pelvic pain, A comparative study of hysteroscopic sterilization versus laparoscopic tubal sterilization, Effectiveness of abdominal wall elevator in reducing intraabdominal pressure and CO2 volume during laparoscopic cholecystectomy, The European Association for Endoscopic Surgery clinical practice guideline on the pneumoperitoneum for laparoscopic surgery<br/><strong>A</strong>: Twenty-two years of office and outpatient laparoscopy: current techniques and why I chose them, Current state of office laparoscopic surgery, Laparoscopic sterilization under local anesthesia or general anesthesia? A randomized study, Gasless vs. CO2 pneumoperitoneum, A randomized, prospective comparison of pain after gasless laparoscopy and traditional laparoscopy, Minilaparotomy or laparoscopy for sterilization: a multicenter, multinational randomized study, Microsurgery for tubal infertility, Office microlaparoscopy under local anesthesia for chronic pelvic pain, A comparative study of hysteroscopic sterilization versus laparoscopic tubal sterilization, Effectiveness of abdominal wall elevator in reducing intraabdominal pressure and CO2 volume during laparoscopic cholecystectomy, The European Association for Endoscopic Surgery clinical practice guideline on the pneumoperitoneum for laparoscopic surgery<br/><strong>B</strong>: Twenty-two years of office and outpatient laparoscopy: current techniques and why I chose them, Current state of office laparoscopic surgery, Laparoscopic sterilization under local anesthesia or general anesthesia? A randomized study, Gasless vs. CO2 pneumoperitoneum, A randomized, prospective comparison of pain after gasless laparoscopy and traditional laparoscopy, Force on Female Sterilization. Minilaparotomy or laparoscopy for sterilization: a multicenter, multinational randomized study, Microsurgery for tubal infertility, Office microlaparoscopy under local anesthesia for chronic pelvic pain, SpOG. A comparative study of hysteroscopic sterilization versus laparoscopic tubal sterilization, Effectiveness of abdominal wall elevator in reducing intraabdominal pressure and CO2 volume during laparoscopic cholecystectomy, The European Association for Endoscopic Surgery clinical practice guideline on the pneumoperitoneum for laparoscopic surgery</p>\n",
       "</blockquote>\n",
       "<p>5 more</p></details>"
      ],
      "text/plain": [
       "<IPython.core.display.HTML object>"
      ]
     },
     "metadata": {},
     "output_type": "display_data"
    },
    {
     "data": {
      "text/markdown": [
       "<hr/>"
      ],
      "text/plain": [
       "<IPython.core.display.Markdown object>"
      ]
     },
     "metadata": {},
     "output_type": "display_data"
    },
    {
     "data": {
      "text/markdown": [
       "# Field: reference_year"
      ],
      "text/plain": [
       "<IPython.core.display.Markdown object>"
      ]
     },
     "metadata": {},
     "output_type": "display_data"
    },
    {
     "data": {
      "text/markdown": [
       "## Dataset: pmc-sample-1943-cc-by-subset (reference_year levenshtein)"
      ],
      "text/plain": [
       "<IPython.core.display.Markdown object>"
      ]
     },
     "metadata": {},
     "output_type": "display_data"
    },
    {
     "data": {
      "text/html": [
       "<details><summary>Comparison: grobid-tei vs cermine</summary><p><strong>E</strong>: expected, <strong>A</strong>: pmc-sample-1943-cc-by-subset grobid-tei, <strong>B</strong>: pmc-sample-1943-cc-by-subset cermine (reference_year levenshtein)</p>\n",
       "<h4>grobid-tei [0 : 1] cermine (4)</h4>\n",
       "<p>There are 4 samples where grobid-tei got it wrong, but cermine got it right.</p>\n",
       "<blockquote>\n",
       "<p><code>aas0055-0039.nxml</code> \"Phosphate-containing dialysis solution prevents hypophosphatemia during continuous renal replacement therapy\"<br/><strong>E</strong>: 2004, 1996, 1998, 2009, 1991, 1997, 1995, 2001, 2007, 2006, 1982, 1994, 1995, 1996, 1998, 1999, 2000, 1978, 1985, 2004, 2000, 2009, 2008, 1978, 1981, 1983, 1985, 1994, 1995, 1995, 1997, 2003, 1998, 1990, 2002, 2009<br/><strong>A</strong>: 2004, 1996, 1998, 2009, 1991, 1997, 1995, 2001, 2007, 2006, 1982, 1994, 1995, 1996, 1998, 0198, 2000, 1978, 1985, 2004, 2000, 2009, 2008, 1978, 1981, 1983, 1985, 1994, 1995, 1995, 1997, 2003, 1998, 1990, 2002, 2009</p>\n",
       "<p><code>sonc50-621.nxml</code> \"Management of cutaneous metastases using electrochemotherapy\"<br/><strong>E</strong>: 1995, 2008, 1993, 1998, 2006, 1998, 2003, 1993, 1998, 1988, 2000, 1993, 2009, 2003, 2001, 2000, 2006, 1996, 1982, 1995, 2000, 1991, 2008, 2006, 2007<br/><strong>A</strong>: , 1995, , 2008, 1993, , 1998, , 2006, 1998, , 2003, 1993, 1998, 1988, 2000, , 1993, , 2003, , 2001, 2000, , 2006, , 1996, , 1982, 1995, , 2000, , , 1991, , 2006, , 2007</p>\n",
       "<p><code>ORT-1745-3674-81-405.nxml</code> \"Resection arthroplasty for luxation of the manubrio-sternal joint in rheumatoid arthritis—a case report\"<br/><strong>E</strong>: 1950, 1980, 1986, 1982, 1970, 1970, 1979, 1981<br/><strong>A</strong>: 1982, 1970, 1970, 1979, 1981, , 1950, 1980, 1986</p>\n",
       "</blockquote>\n",
       "<p>1 more</p>\n",
       "<h4>grobid-tei [1 : 0] cermine (0)</h4>\n",
       "<p>There are 0 samples where grobid-tei got it right, but cermine got it wrong.</p>\n",
       "<h4>grobid-tei [0 : 0] cermine (4)</h4>\n",
       "<p>There are 4 samples where both grobid-tei and cermine got it wrong.</p>\n",
       "<blockquote>\n",
       "<p><code>d-67-00463.nxml</code> \"Pi sampling: a methodical and flexible approach to initial macromolecular crystallization screening\"<br/><strong>E</strong>: , , , , , , , , , , , , , , , , , , , , , , <br/><strong>A</strong>: 2006, 2007, 2001, 1979, 2010, 1987, 1993, 2002, 2011, 1991, 2004, 2003, 2009, 1996, 2003, 1976, 1990, 2011, 2003, 1958, 2005, 2008, 2009<br/><strong>B</strong>: 2006, 2007, 2001, 1979, 2010, 1987, 1993, 2002, 2011, 1991, 2004, 2003, 2009, 1996, 2003, 1976, 1990, 2011, 2003, 1958, 2005, 2008, 2009</p>\n",
       "<p><code>e-67-o1363.nxml</code> \"3-Allyl-1-{[3-(4-nitro­phen­yl)-4,5-dihydro-1,3-oxazol-5-yl]meth­yl}-1H-anthra[1,2-d]imidazole-2,6,11(3H)-trione\"<br/><strong>E</strong>: , , , , , , , , , , , , , , <br/><strong>A</strong>: 2010, 2000, 1995, 2009, 2007, 1975, 1997, 2004, 2002, 2008, 1995, 2005, 2005, 2000<br/><strong>B</strong>: 2010, o1851, 2000, 1995, 2009, 2007, 1975, 1997, 2003, 2004, 2002, 2008, 1995, 2005, 2005, 2000</p>\n",
       "<p><code>f-67-00344.nxml</code> \"Refolding, crystallization and preliminary X-ray crystallographic study of the whole extracellular regions of nectins\"<br/><strong>E</strong>: , , , , , , , , , , , , , <br/><strong>A</strong>: 1998, 1994, 1998, 2010, 2000, 2010, 2006, 1997, 2001, 2008, 2003, 2008, 1998, 2008<br/><strong>B</strong>: 1998, 1994, 1998, 2010, 2000, 2010, 2006, 1997, 2001, 2008, 2003, 2008, 1998, 2008</p>\n",
       "</blockquote>\n",
       "<p>1 more</p></details>"
      ],
      "text/plain": [
       "<IPython.core.display.HTML object>"
      ]
     },
     "metadata": {},
     "output_type": "display_data"
    },
    {
     "data": {
      "text/markdown": [
       "## Dataset: pmc-sample-1943-cc-by-subset (reference_year exact)"
      ],
      "text/plain": [
       "<IPython.core.display.Markdown object>"
      ]
     },
     "metadata": {},
     "output_type": "display_data"
    },
    {
     "data": {
      "text/html": [
       "<details><summary>Comparison: grobid-tei vs cermine</summary><p><strong>E</strong>: expected, <strong>A</strong>: pmc-sample-1943-cc-by-subset grobid-tei, <strong>B</strong>: pmc-sample-1943-cc-by-subset cermine (reference_year exact)</p>\n",
       "<h4>grobid-tei [0 : 1] cermine (4)</h4>\n",
       "<p>There are 4 samples where grobid-tei got it wrong, but cermine got it right.</p>\n",
       "<blockquote>\n",
       "<p><code>aas0055-0039.nxml</code> \"Phosphate-containing dialysis solution prevents hypophosphatemia during continuous renal replacement therapy\"<br/><strong>E</strong>: 2004, 1996, 1998, 2009, 1991, 1997, 1995, 2001, 2007, 2006, 1982, 1994, 1995, 1996, 1998, 1999, 2000, 1978, 1985, 2004, 2000, 2009, 2008, 1978, 1981, 1983, 1985, 1994, 1995, 1995, 1997, 2003, 1998, 1990, 2002, 2009<br/><strong>A</strong>: 2004, 1996, 1998, 2009, 1991, 1997, 1995, 2001, 2007, 2006, 1982, 1994, 1995, 1996, 1998, 0198, 2000, 1978, 1985, 2004, 2000, 2009, 2008, 1978, 1981, 1983, 1985, 1994, 1995, 1995, 1997, 2003, 1998, 1990, 2002, 2009</p>\n",
       "<p><code>sonc50-621.nxml</code> \"Management of cutaneous metastases using electrochemotherapy\"<br/><strong>E</strong>: 1995, 2008, 1993, 1998, 2006, 1998, 2003, 1993, 1998, 1988, 2000, 1993, 2009, 2003, 2001, 2000, 2006, 1996, 1982, 1995, 2000, 1991, 2008, 2006, 2007<br/><strong>A</strong>: , 1995, , 2008, 1993, , 1998, , 2006, 1998, , 2003, 1993, 1998, 1988, 2000, , 1993, , 2003, , 2001, 2000, , 2006, , 1996, , 1982, 1995, , 2000, , , 1991, , 2006, , 2007</p>\n",
       "<p><code>ORT-1745-3674-81-405.nxml</code> \"Resection arthroplasty for luxation of the manubrio-sternal joint in rheumatoid arthritis—a case report\"<br/><strong>E</strong>: 1950, 1980, 1986, 1982, 1970, 1970, 1979, 1981<br/><strong>A</strong>: 1982, 1970, 1970, 1979, 1981, , 1950, 1980, 1986</p>\n",
       "</blockquote>\n",
       "<p>1 more</p>\n",
       "<h4>grobid-tei [1 : 0] cermine (0)</h4>\n",
       "<p>There are 0 samples where grobid-tei got it right, but cermine got it wrong.</p>\n",
       "<h4>grobid-tei [0 : 0] cermine (4)</h4>\n",
       "<p>There are 4 samples where both grobid-tei and cermine got it wrong.</p>\n",
       "<blockquote>\n",
       "<p><code>d-67-00463.nxml</code> \"Pi sampling: a methodical and flexible approach to initial macromolecular crystallization screening\"<br/><strong>E</strong>: , , , , , , , , , , , , , , , , , , , , , , <br/><strong>A</strong>: 2006, 2007, 2001, 1979, 2010, 1987, 1993, 2002, 2011, 1991, 2004, 2003, 2009, 1996, 2003, 1976, 1990, 2011, 2003, 1958, 2005, 2008, 2009<br/><strong>B</strong>: 2006, 2007, 2001, 1979, 2010, 1987, 1993, 2002, 2011, 1991, 2004, 2003, 2009, 1996, 2003, 1976, 1990, 2011, 2003, 1958, 2005, 2008, 2009</p>\n",
       "<p><code>e-67-o1363.nxml</code> \"3-Allyl-1-{[3-(4-nitro­phen­yl)-4,5-dihydro-1,3-oxazol-5-yl]meth­yl}-1H-anthra[1,2-d]imidazole-2,6,11(3H)-trione\"<br/><strong>E</strong>: , , , , , , , , , , , , , , <br/><strong>A</strong>: 2010, 2000, 1995, 2009, 2007, 1975, 1997, 2004, 2002, 2008, 1995, 2005, 2005, 2000<br/><strong>B</strong>: 2010, o1851, 2000, 1995, 2009, 2007, 1975, 1997, 2003, 2004, 2002, 2008, 1995, 2005, 2005, 2000</p>\n",
       "<p><code>f-67-00344.nxml</code> \"Refolding, crystallization and preliminary X-ray crystallographic study of the whole extracellular regions of nectins\"<br/><strong>E</strong>: , , , , , , , , , , , , , <br/><strong>A</strong>: 1998, 1994, 1998, 2010, 2000, 2010, 2006, 1997, 2001, 2008, 2003, 2008, 1998, 2008<br/><strong>B</strong>: 1998, 1994, 1998, 2010, 2000, 2010, 2006, 1997, 2001, 2008, 2003, 2008, 1998, 2008</p>\n",
       "</blockquote>\n",
       "<p>1 more</p></details>"
      ],
      "text/plain": [
       "<IPython.core.display.HTML object>"
      ]
     },
     "metadata": {},
     "output_type": "display_data"
    },
    {
     "data": {
      "text/markdown": [
       "<hr/>"
      ],
      "text/plain": [
       "<IPython.core.display.Markdown object>"
      ]
     },
     "metadata": {},
     "output_type": "display_data"
    },
    {
     "data": {
      "text/markdown": [
       "# Field: reference_source"
      ],
      "text/plain": [
       "<IPython.core.display.Markdown object>"
      ]
     },
     "metadata": {},
     "output_type": "display_data"
    },
    {
     "data": {
      "text/markdown": [
       "## Dataset: pmc-sample-1943-cc-by-subset (reference_source levenshtein)"
      ],
      "text/plain": [
       "<IPython.core.display.Markdown object>"
      ]
     },
     "metadata": {},
     "output_type": "display_data"
    },
    {
     "data": {
      "text/html": [
       "<details><summary>Comparison: grobid-tei vs cermine</summary><p><strong>E</strong>: expected, <strong>A</strong>: pmc-sample-1943-cc-by-subset grobid-tei, <strong>B</strong>: pmc-sample-1943-cc-by-subset cermine (reference_source levenshtein)</p>\n",
       "<h4>grobid-tei [0 : 1] cermine (2)</h4>\n",
       "<p>There are 2 samples where grobid-tei got it wrong, but cermine got it right.</p>\n",
       "<blockquote>\n",
       "<p><code>sobs89-975.nxml</code> \"Camera trocar lifting in office gasless laparoscopic sterilization under local anesthesia\"<br/><strong>E</strong>: J Am Assoc Gynecol Laparosc, J Am Assoc Gynecol Laparosc, Obstet Gynecol, J Reprod Med, J Am Assoc Gynecol Laparosc, Am J Obstet Gynecol, J Reprod Med, J Am Assoc Gynecol Laparosc, World Laparosc Hosp, Acta Med Iranica, Surg Endosc<br/><strong>A</strong>: J Am Assoc Gynecol Laparosc, J Am Assoc Gynecol Laparosc, Obstet Gynecol, J Reprod Med, J Am Assoc Gynecol Laparosc, , J Reprod Med, J Am Assoc Gynecol Laparosc, World Laparosc Hosp, Acta Med Iranica, Surg Endosc</p>\n",
       "<p><code>ORT-1745-3674-81-405.nxml</code> \"Resection arthroplasty for luxation of the manubrio-sternal joint in rheumatoid arthritis—a case report\"<br/><strong>E</strong>: Br Med J, J Rheumatol, Ann Rheum Dis, J Reumatol, Acta Rheumatol Scand, Acta Rheumatol Scand, J Reumatol, Ann Rheum Dis<br/><strong>A</strong>: J Reumatol, Acta Rheumatol Scand, Acta Rheumatol Scand, J Reumatol, Ann Rheum Dis, , Br Med J, J Rheumatol, Ann Rheum Dis</p>\n",
       "</blockquote>\n",
       "<h4>grobid-tei [1 : 0] cermine (0)</h4>\n",
       "<p>There are 0 samples where grobid-tei got it right, but cermine got it wrong.</p>\n",
       "<h4>grobid-tei [0 : 0] cermine (7)</h4>\n",
       "<p>There are 7 samples where both grobid-tei and cermine got it wrong.</p>\n",
       "<blockquote>\n",
       "<p><code>aas0055-0039.nxml</code> \"Phosphate-containing dialysis solution prevents hypophosphatemia during continuous renal replacement therapy\"<br/><strong>E</strong>: Intensive Care Med, Arch Surg, Anaesthesia, Acta Anaesthesiol Scand, Crit Care Clin, Int J Clin Pract, Intensive Care Med, Int J Artif Organs, Intensive Care Med, Ann Clin Lab Sci, Am J Med, Ann Pharmacother, Chest, Nutrition, Horm Metab Res, Anaesthesia, Neuroradiology, Ann Intern Med, N Engl J Med, Kidney Int, Am J Kidney Dis, Kidney Int, Acta Anaesthesiol Scand, Ann Intern Med, Arch Intern Med, South Med J, Crit Care Med, Nutr Clin Pract, Crit Care Med, Crit Care Med, Ann Pharmacother, Intensive Care Med, Am J Med, Clinical methods, Int J Artif Organs, Semin Dial<br/><strong>A</strong>: Intensive Care Med, Arch Surg, Anaesthesia, Acta Anaesthesiol Scand, Crit Care Clin, Int J Clin Pract, Intensive Care Med, Int J Artif Organs, Intensive Care Med, Ann Clin Lab Sci, Am J Med, Ann Pharmacother, Chest, Nutrition, Horm Metab Res, Anaesthesia, Neuroradiology, Ann Intern Med, N Engl J Med, Kidney Int, Am J Kidney Dis, Kidney Int, Acta Anaesthesiol Scand, Ann Intern Med, Arch Intern Med, South Med J, Crit Care Med, Nutr Clin Pract, Crit Care Med, Crit Care Med, Ann Pharmacother, Intensive Care Med, Am J Med, , Int J Artif Organs, Semin Dial<br/><strong>B</strong>: Intensive Care Med, Arch Surg, Anaesthesia, Acta Anaesthesiol Scand, Crit Care Clin, Int J Clin Pract, Intensive Care Med, Int J Artif Organs, Intensive Care Med, Ann Clin Lab Sci, Am J Med, Ann Pharmacother, Chest, Nutrition, Horm Metab Res, Anaesthesia, Neuroradiology, Ann Intern Med, N Engl J Med, Kidney Int, Am J Kidney Dis, Kidney Int, Acta Anaesthesiol Scand, Ann Intern Med, Arch Intern Med, South Med J, Crit Care Med, Nutr Clin Pract, Crit Care Med, Crit Care Med, Ann Pharmacother, Intensive Care Med, Am J Med, Clinical methods. London: Butterworth Publishers, Int J Artif Organs, Semin Dial</p>\n",
       "<p><code>d-67-00463.nxml</code> \"Pi sampling: a methodical and flexible approach to initial macromolecular crystallization screening\"<br/><strong>E</strong>: , , , , , , , , , , , , , , , , , , , , , , <br/><strong>A</strong>: J. Appl. Cryst, Methods Mol. Biol, J. Appl. Cryst, J. Biol. Chem, Cell, J. Appl. Cryst, , Acta Cryst, Cryst. Growth Des, J. Appl. Cryst, Bioinformatics, Proteins, Protein Sci, , Protein Sci, J. Biol. Chem, Eur. J. Biochem, Acta Cryst, J. Struct. Biol, , Prog. Biophys. Mol. Biol, Nature, Protein Expr. Purif<br/><strong>B</strong>: J. Appl. Cryst, Methods Mol. Biol, J. Appl. Cryst, J. Biol. Chem, , J. Appl. Cryst, Proc. Natl Acad. Sci. USA, Acta Cryst. D58, Cryst. Growth Des, J. Appl. Cryst, , , Protein Sci. 18, Proc. Natl Acad. Sci. USA, Protein Sci, J. Biol. Chem, Eur. J. Biochem. 189, Acta Cryst. D67, J. Struct. Biol, , Prog. Biophys. Mol. Biol, Nature (London), Protein Expr. Purif</p>\n",
       "<p><code>e-67-o1363.nxml</code> \"3-Allyl-1-{[3-(4-nitro­phen­yl)-4,5-dihydro-1,3-oxazol-5-yl]meth­yl}-1H-anthra[1,2-d]imidazole-2,6,11(3H)-trione\"<br/><strong>E</strong>: , , , , , , , , , , , , , , <br/><strong>A</strong>: Acta Cryst, J. Ethnopharmacol, Antivir. Res, , Food Chem. Toxicol, J. Am. Chem. Soc, J. Appl. Cryst, J. Ethnopharmacol, Cancer Lett, Acta Cryst, Mutat. Res, Biochem. Pharmacol, Thermochim. Acta, Food Chem<br/><strong>B</strong>: Acta Cryst. E66, J. Ethnopharmacol, Antivir. Res, , Food Chem. Toxicol, J. Am. Chem. Soc, J. Appl. Cryst, J. Med. Chem, J. Ethnopharmacol, Cancer Lett, Acta Cryst. A64, Mutat. Res, Biochem. Pharmacol, Thermochim. Acta, Food Chem</p>\n",
       "</blockquote>\n",
       "<p>4 more</p></details>"
      ],
      "text/plain": [
       "<IPython.core.display.HTML object>"
      ]
     },
     "metadata": {},
     "output_type": "display_data"
    },
    {
     "data": {
      "text/markdown": [
       "## Dataset: pmc-sample-1943-cc-by-subset (reference_source exact)"
      ],
      "text/plain": [
       "<IPython.core.display.Markdown object>"
      ]
     },
     "metadata": {},
     "output_type": "display_data"
    },
    {
     "data": {
      "text/html": [
       "<details><summary>Comparison: grobid-tei vs cermine</summary><p><strong>E</strong>: expected, <strong>A</strong>: pmc-sample-1943-cc-by-subset grobid-tei, <strong>B</strong>: pmc-sample-1943-cc-by-subset cermine (reference_source exact)</p>\n",
       "<h4>grobid-tei [0 : 1] cermine (2)</h4>\n",
       "<p>There are 2 samples where grobid-tei got it wrong, but cermine got it right.</p>\n",
       "<blockquote>\n",
       "<p><code>sobs89-975.nxml</code> \"Camera trocar lifting in office gasless laparoscopic sterilization under local anesthesia\"<br/><strong>E</strong>: J Am Assoc Gynecol Laparosc, J Am Assoc Gynecol Laparosc, Obstet Gynecol, J Reprod Med, J Am Assoc Gynecol Laparosc, Am J Obstet Gynecol, J Reprod Med, J Am Assoc Gynecol Laparosc, World Laparosc Hosp, Acta Med Iranica, Surg Endosc<br/><strong>A</strong>: J Am Assoc Gynecol Laparosc, J Am Assoc Gynecol Laparosc, Obstet Gynecol, J Reprod Med, J Am Assoc Gynecol Laparosc, , J Reprod Med, J Am Assoc Gynecol Laparosc, World Laparosc Hosp, Acta Med Iranica, Surg Endosc</p>\n",
       "<p><code>ORT-1745-3674-81-405.nxml</code> \"Resection arthroplasty for luxation of the manubrio-sternal joint in rheumatoid arthritis—a case report\"<br/><strong>E</strong>: Br Med J, J Rheumatol, Ann Rheum Dis, J Reumatol, Acta Rheumatol Scand, Acta Rheumatol Scand, J Reumatol, Ann Rheum Dis<br/><strong>A</strong>: J Reumatol, Acta Rheumatol Scand, Acta Rheumatol Scand, J Reumatol, Ann Rheum Dis, , Br Med J, J Rheumatol, Ann Rheum Dis</p>\n",
       "</blockquote>\n",
       "<h4>grobid-tei [1 : 0] cermine (0)</h4>\n",
       "<p>There are 0 samples where grobid-tei got it right, but cermine got it wrong.</p>\n",
       "<h4>grobid-tei [0 : 0] cermine (7)</h4>\n",
       "<p>There are 7 samples where both grobid-tei and cermine got it wrong.</p>\n",
       "<blockquote>\n",
       "<p><code>aas0055-0039.nxml</code> \"Phosphate-containing dialysis solution prevents hypophosphatemia during continuous renal replacement therapy\"<br/><strong>E</strong>: Intensive Care Med, Arch Surg, Anaesthesia, Acta Anaesthesiol Scand, Crit Care Clin, Int J Clin Pract, Intensive Care Med, Int J Artif Organs, Intensive Care Med, Ann Clin Lab Sci, Am J Med, Ann Pharmacother, Chest, Nutrition, Horm Metab Res, Anaesthesia, Neuroradiology, Ann Intern Med, N Engl J Med, Kidney Int, Am J Kidney Dis, Kidney Int, Acta Anaesthesiol Scand, Ann Intern Med, Arch Intern Med, South Med J, Crit Care Med, Nutr Clin Pract, Crit Care Med, Crit Care Med, Ann Pharmacother, Intensive Care Med, Am J Med, Clinical methods, Int J Artif Organs, Semin Dial<br/><strong>A</strong>: Intensive Care Med, Arch Surg, Anaesthesia, Acta Anaesthesiol Scand, Crit Care Clin, Int J Clin Pract, Intensive Care Med, Int J Artif Organs, Intensive Care Med, Ann Clin Lab Sci, Am J Med, Ann Pharmacother, Chest, Nutrition, Horm Metab Res, Anaesthesia, Neuroradiology, Ann Intern Med, N Engl J Med, Kidney Int, Am J Kidney Dis, Kidney Int, Acta Anaesthesiol Scand, Ann Intern Med, Arch Intern Med, South Med J, Crit Care Med, Nutr Clin Pract, Crit Care Med, Crit Care Med, Ann Pharmacother, Intensive Care Med, Am J Med, , Int J Artif Organs, Semin Dial<br/><strong>B</strong>: Intensive Care Med, Arch Surg, Anaesthesia, Acta Anaesthesiol Scand, Crit Care Clin, Int J Clin Pract, Intensive Care Med, Int J Artif Organs, Intensive Care Med, Ann Clin Lab Sci, Am J Med, Ann Pharmacother, Chest, Nutrition, Horm Metab Res, Anaesthesia, Neuroradiology, Ann Intern Med, N Engl J Med, Kidney Int, Am J Kidney Dis, Kidney Int, Acta Anaesthesiol Scand, Ann Intern Med, Arch Intern Med, South Med J, Crit Care Med, Nutr Clin Pract, Crit Care Med, Crit Care Med, Ann Pharmacother, Intensive Care Med, Am J Med, Clinical methods. London: Butterworth Publishers, Int J Artif Organs, Semin Dial</p>\n",
       "<p><code>d-67-00463.nxml</code> \"Pi sampling: a methodical and flexible approach to initial macromolecular crystallization screening\"<br/><strong>E</strong>: , , , , , , , , , , , , , , , , , , , , , , <br/><strong>A</strong>: J. Appl. Cryst, Methods Mol. Biol, J. Appl. Cryst, J. Biol. Chem, Cell, J. Appl. Cryst, , Acta Cryst, Cryst. Growth Des, J. Appl. Cryst, Bioinformatics, Proteins, Protein Sci, , Protein Sci, J. Biol. Chem, Eur. J. Biochem, Acta Cryst, J. Struct. Biol, , Prog. Biophys. Mol. Biol, Nature, Protein Expr. Purif<br/><strong>B</strong>: J. Appl. Cryst, Methods Mol. Biol, J. Appl. Cryst, J. Biol. Chem, , J. Appl. Cryst, Proc. Natl Acad. Sci. USA, Acta Cryst. D58, Cryst. Growth Des, J. Appl. Cryst, , , Protein Sci. 18, Proc. Natl Acad. Sci. USA, Protein Sci, J. Biol. Chem, Eur. J. Biochem. 189, Acta Cryst. D67, J. Struct. Biol, , Prog. Biophys. Mol. Biol, Nature (London), Protein Expr. Purif</p>\n",
       "<p><code>e-67-o1363.nxml</code> \"3-Allyl-1-{[3-(4-nitro­phen­yl)-4,5-dihydro-1,3-oxazol-5-yl]meth­yl}-1H-anthra[1,2-d]imidazole-2,6,11(3H)-trione\"<br/><strong>E</strong>: , , , , , , , , , , , , , , <br/><strong>A</strong>: Acta Cryst, J. Ethnopharmacol, Antivir. Res, , Food Chem. Toxicol, J. Am. Chem. Soc, J. Appl. Cryst, J. Ethnopharmacol, Cancer Lett, Acta Cryst, Mutat. Res, Biochem. Pharmacol, Thermochim. Acta, Food Chem<br/><strong>B</strong>: Acta Cryst. E66, J. Ethnopharmacol, Antivir. Res, , Food Chem. Toxicol, J. Am. Chem. Soc, J. Appl. Cryst, J. Med. Chem, J. Ethnopharmacol, Cancer Lett, Acta Cryst. A64, Mutat. Res, Biochem. Pharmacol, Thermochim. Acta, Food Chem</p>\n",
       "</blockquote>\n",
       "<p>4 more</p></details>"
      ],
      "text/plain": [
       "<IPython.core.display.HTML object>"
      ]
     },
     "metadata": {},
     "output_type": "display_data"
    },
    {
     "data": {
      "text/markdown": [
       "<hr/>"
      ],
      "text/plain": [
       "<IPython.core.display.Markdown object>"
      ]
     },
     "metadata": {},
     "output_type": "display_data"
    },
    {
     "data": {
      "text/markdown": [
       "# Field: reference_volume"
      ],
      "text/plain": [
       "<IPython.core.display.Markdown object>"
      ]
     },
     "metadata": {},
     "output_type": "display_data"
    },
    {
     "data": {
      "text/markdown": [
       "## Dataset: pmc-sample-1943-cc-by-subset (reference_volume levenshtein)"
      ],
      "text/plain": [
       "<IPython.core.display.Markdown object>"
      ]
     },
     "metadata": {},
     "output_type": "display_data"
    },
    {
     "data": {
      "text/html": [
       "<details><summary>Comparison: grobid-tei vs cermine</summary><p><strong>E</strong>: expected, <strong>A</strong>: pmc-sample-1943-cc-by-subset grobid-tei, <strong>B</strong>: pmc-sample-1943-cc-by-subset cermine (reference_volume levenshtein)</p>\n",
       "<h4>grobid-tei [0 : 1] cermine (2)</h4>\n",
       "<p>There are 2 samples where grobid-tei got it wrong, but cermine got it right.</p>\n",
       "<blockquote>\n",
       "<p><code>sonc50-621.nxml</code> \"Management of cutaneous metastases using electrochemotherapy\"<br/><strong>E</strong>: 33, 26, 29, 83, 4, 77, 177, 53, 9, 37, 11, 72, 16, 29, 32, 10, 4, 77, 9, 81, 92, 313, 15, 31, 245<br/><strong>A</strong>: , 33, , 26, 29, , 83, , 4, 77, , 177, 53, 9, 37, 11, , 72, , 16, , 32, 10, , 4, , 77, , 9, 81, , 92, , , 313, , 15, , 245</p>\n",
       "<p><code>apa0100-0653.nxml</code> \"Placental programming of blood pressure in Indian children\"<br/><strong>E</strong>: 306, 25, 49, 311, , 30, 25, , 101, , 54, 301, 103, 36, 74, 314, 311, 84, 22, 33, 114, 113, 281, 4, , 54, 348, 118<br/><strong>A</strong>: 306, 25, 49, 311, , , 30, 25, , 101, , 54, 301, 103, 36, 74, 314, 311, 84, 22, 33, 114, 113, 281, 4, , 54, 348, 118</p>\n",
       "</blockquote>\n",
       "<h4>grobid-tei [1 : 0] cermine (1)</h4>\n",
       "<p>There are 1 samples where grobid-tei got it right, but cermine got it wrong.</p>\n",
       "<blockquote>\n",
       "<p><code>apha0202-0379.nxml</code> \"On the function of the mammalian renal papilla and the peristalsis of the surrounding pelvis\"<br/><strong>E</strong>: , 284, 82, 290, 31, 268, 22, 22, 207, <br/><strong>B</strong>: , 284, 82, 290, 31, 268, </p>\n",
       "</blockquote>\n",
       "<h4>grobid-tei [0 : 0] cermine (4)</h4>\n",
       "<p>There are 4 samples where both grobid-tei and cermine got it wrong.</p>\n",
       "<blockquote>\n",
       "<p><code>d-67-00463.nxml</code> \"Pi sampling: a methodical and flexible approach to initial macromolecular crystallization screening\"<br/><strong>E</strong>: , , , , , , , , , , , , , , , , , , , , , , <br/><strong>A</strong>: 39, 363, 34, 254, 141, 20, 90, 58, 11, 24, 20, 51, 18, , 12, 251, 189, 67, 142, , 88, 454, 65<br/><strong>B</strong>: 39, 363, 34, 254, 141, 20, 90, , 11, 24, 20, 51, , 93, 12, 251, , , 142, , 88, 454, 65</p>\n",
       "<p><code>e-67-o1363.nxml</code> \"3-Allyl-1-{[3-(4-nitro­phen­yl)-4,5-dihydro-1,3-oxazol-5-yl]meth­yl}-1H-anthra[1,2-d]imidazole-2,6,11(3H)-trione\"<br/><strong>E</strong>: , , , , , , , , , , , , , , <br/><strong>A</strong>: 66, 72, 28, , 45, 97, 30, 91, 182, 64, 347, 70, 429, 70<br/><strong>B</strong>: , 72, 28, , 45, 97, 30, 46, 91, 182, , 347, 70, 429, 70</p>\n",
       "<p><code>f-67-00344.nxml</code> \"Refolding, crystallization and preliminary X-ray crystallographic study of the whole extracellular regions of nectins\"<br/><strong>E</strong>: , , , , , , , , , , , , , <br/><strong>A</strong>: 72, 4, 280, 11, 74, 86, 58, 276, 75, 24, 94, 9, 246, <br/><strong>B</strong>: 72, 4, 280, 11, 74, 86, 58, 276, 75, 24, 94, 9, 246, 105</p>\n",
       "</blockquote>\n",
       "<p>1 more</p></details>"
      ],
      "text/plain": [
       "<IPython.core.display.HTML object>"
      ]
     },
     "metadata": {},
     "output_type": "display_data"
    },
    {
     "data": {
      "text/markdown": [
       "## Dataset: pmc-sample-1943-cc-by-subset (reference_volume exact)"
      ],
      "text/plain": [
       "<IPython.core.display.Markdown object>"
      ]
     },
     "metadata": {},
     "output_type": "display_data"
    },
    {
     "data": {
      "text/html": [
       "<details><summary>Comparison: grobid-tei vs cermine</summary><p><strong>E</strong>: expected, <strong>A</strong>: pmc-sample-1943-cc-by-subset grobid-tei, <strong>B</strong>: pmc-sample-1943-cc-by-subset cermine (reference_volume exact)</p>\n",
       "<h4>grobid-tei [0 : 1] cermine (2)</h4>\n",
       "<p>There are 2 samples where grobid-tei got it wrong, but cermine got it right.</p>\n",
       "<blockquote>\n",
       "<p><code>sonc50-621.nxml</code> \"Management of cutaneous metastases using electrochemotherapy\"<br/><strong>E</strong>: 33, 26, 29, 83, 4, 77, 177, 53, 9, 37, 11, 72, 16, 29, 32, 10, 4, 77, 9, 81, 92, 313, 15, 31, 245<br/><strong>A</strong>: , 33, , 26, 29, , 83, , 4, 77, , 177, 53, 9, 37, 11, , 72, , 16, , 32, 10, , 4, , 77, , 9, 81, , 92, , , 313, , 15, , 245</p>\n",
       "<p><code>apa0100-0653.nxml</code> \"Placental programming of blood pressure in Indian children\"<br/><strong>E</strong>: 306, 25, 49, 311, , 30, 25, , 101, , 54, 301, 103, 36, 74, 314, 311, 84, 22, 33, 114, 113, 281, 4, , 54, 348, 118<br/><strong>A</strong>: 306, 25, 49, 311, , , 30, 25, , 101, , 54, 301, 103, 36, 74, 314, 311, 84, 22, 33, 114, 113, 281, 4, , 54, 348, 118</p>\n",
       "</blockquote>\n",
       "<h4>grobid-tei [1 : 0] cermine (1)</h4>\n",
       "<p>There are 1 samples where grobid-tei got it right, but cermine got it wrong.</p>\n",
       "<blockquote>\n",
       "<p><code>apha0202-0379.nxml</code> \"On the function of the mammalian renal papilla and the peristalsis of the surrounding pelvis\"<br/><strong>E</strong>: , 284, 82, 290, 31, 268, 22, 22, 207, <br/><strong>B</strong>: , 284, 82, 290, 31, 268, </p>\n",
       "</blockquote>\n",
       "<h4>grobid-tei [0 : 0] cermine (4)</h4>\n",
       "<p>There are 4 samples where both grobid-tei and cermine got it wrong.</p>\n",
       "<blockquote>\n",
       "<p><code>d-67-00463.nxml</code> \"Pi sampling: a methodical and flexible approach to initial macromolecular crystallization screening\"<br/><strong>E</strong>: , , , , , , , , , , , , , , , , , , , , , , <br/><strong>A</strong>: 39, 363, 34, 254, 141, 20, 90, 58, 11, 24, 20, 51, 18, , 12, 251, 189, 67, 142, , 88, 454, 65<br/><strong>B</strong>: 39, 363, 34, 254, 141, 20, 90, , 11, 24, 20, 51, , 93, 12, 251, , , 142, , 88, 454, 65</p>\n",
       "<p><code>e-67-o1363.nxml</code> \"3-Allyl-1-{[3-(4-nitro­phen­yl)-4,5-dihydro-1,3-oxazol-5-yl]meth­yl}-1H-anthra[1,2-d]imidazole-2,6,11(3H)-trione\"<br/><strong>E</strong>: , , , , , , , , , , , , , , <br/><strong>A</strong>: 66, 72, 28, , 45, 97, 30, 91, 182, 64, 347, 70, 429, 70<br/><strong>B</strong>: , 72, 28, , 45, 97, 30, 46, 91, 182, , 347, 70, 429, 70</p>\n",
       "<p><code>f-67-00344.nxml</code> \"Refolding, crystallization and preliminary X-ray crystallographic study of the whole extracellular regions of nectins\"<br/><strong>E</strong>: , , , , , , , , , , , , , <br/><strong>A</strong>: 72, 4, 280, 11, 74, 86, 58, 276, 75, 24, 94, 9, 246, <br/><strong>B</strong>: 72, 4, 280, 11, 74, 86, 58, 276, 75, 24, 94, 9, 246, 105</p>\n",
       "</blockquote>\n",
       "<p>1 more</p></details>"
      ],
      "text/plain": [
       "<IPython.core.display.HTML object>"
      ]
     },
     "metadata": {},
     "output_type": "display_data"
    },
    {
     "data": {
      "text/markdown": [
       "<hr/>"
      ],
      "text/plain": [
       "<IPython.core.display.Markdown object>"
      ]
     },
     "metadata": {},
     "output_type": "display_data"
    },
    {
     "data": {
      "text/markdown": [
       "# Field: reference_fpage"
      ],
      "text/plain": [
       "<IPython.core.display.Markdown object>"
      ]
     },
     "metadata": {},
     "output_type": "display_data"
    },
    {
     "data": {
      "text/markdown": [
       "## Dataset: pmc-sample-1943-cc-by-subset (reference_fpage levenshtein)"
      ],
      "text/plain": [
       "<IPython.core.display.Markdown object>"
      ]
     },
     "metadata": {},
     "output_type": "display_data"
    },
    {
     "data": {
      "text/html": [
       "<details><summary>Comparison: grobid-tei vs cermine</summary><p><strong>E</strong>: expected, <strong>A</strong>: pmc-sample-1943-cc-by-subset grobid-tei, <strong>B</strong>: pmc-sample-1943-cc-by-subset cermine (reference_fpage levenshtein)</p>\n",
       "<h4>grobid-tei [0 : 1] cermine (5)</h4>\n",
       "<p>There are 5 samples where grobid-tei got it wrong, but cermine got it right.</p>\n",
       "<blockquote>\n",
       "<p><code>aas0055-0039.nxml</code> \"Phosphate-containing dialysis solution prevents hypophosphatemia during continuous renal replacement therapy\"<br/><strong>E</strong>: 1662, 1043, 895, 684, 201, 501, 826, 186, 830, 67, 489, 626, 1698, 540, 281, 198, 112, 867, 420, 408, 1262, 312, 1259, 941, 885, 1424, 16, 105, 1504, 1204, 683, 1273, 40, 895, 512, 137<br/><strong>A</strong>: , , , , , , , , , , , , , , , , , , , , , , , , , , , , , , , , , , , </p>\n",
       "<p><code>sonc50-621.nxml</code> \"Management of cutaneous metastases using electrochemotherapy\"<br/><strong>E</strong>: 161, 89, 228, 148, 3, 2336, 437, 5462, 319, 4727, 201, 3694, 191, 371, 273, 585, 14, 956, 22, 624, 205, 613, 2215, 447, 469<br/><strong>A</strong>: , , , , , , , , , , , , , , , , , , , , , , , , , , , , , , , , , , , , , , </p>\n",
       "<p><code>ORT-1745-3674-81-405.nxml</code> \"Resection arthroplasty for luxation of the manubrio-sternal joint in rheumatoid arthritis—a case report\"<br/><strong>E</strong>: 1361, 260, 345, 712, 47, 40, 74, 307<br/><strong>A</strong>: , , , , , , , , </p>\n",
       "</blockquote>\n",
       "<p>2 more</p>\n",
       "<h4>grobid-tei [1 : 0] cermine (2)</h4>\n",
       "<p>There are 2 samples where grobid-tei got it right, but cermine got it wrong.</p>\n",
       "<blockquote>\n",
       "<p><code>d-67-00463.nxml</code> \"Pi sampling: a methodical and flexible approach to initial macromolecular crystallization screening\"<br/><strong>E</strong>: , , , , , , , , , , , , , , , , , , , , , , <br/><strong>B</strong>: 244, 131, 97, 12219, 1018, 366, 7829, 1601, 488, 409, 2162, 562, 1828, 14532, 2748, 6300, 1, 249, 162, , 311, 486, 204</p>\n",
       "<p><code>f-67-00344.nxml</code> \"Refolding, crystallization and preliminary X-ray crystallographic study of the whole extracellular regions of nectins\"<br/><strong>E</strong>: , , , , , , , , , , , , , <br/><strong>B</strong>: 9992, 760, 1618, 502, 1267, 621, 334, 307, 4734, 309, 655, 603, 179, 18284</p>\n",
       "</blockquote>\n",
       "<h4>grobid-tei [0 : 0] cermine (3)</h4>\n",
       "<p>There are 3 samples where both grobid-tei and cermine got it wrong.</p>\n",
       "<blockquote>\n",
       "<p><code>e-67-o1363.nxml</code> \"3-Allyl-1-{[3-(4-nitro­phen­yl)-4,5-dihydro-1,3-oxazol-5-yl]meth­yl}-1H-anthra[1,2-d]imidazole-2,6,11(3H)-trione\"<br/><strong>E</strong>: , , , , , , , , , , , , , , <br/><strong>A</strong>: , , , , , , , , , , , , , <br/><strong>B</strong>: , 43, 317, , 2296, 1354, 565, 3300, 89, 135, 112, 151, 229, 167, 437</p>\n",
       "<p><code>sobs89-975.nxml</code> \"Camera trocar lifting in office gasless laparoscopic sterilization under local anesthesia\"<br/><strong>E</strong>: 365, 545, 137, 255, 149, 645, 177, 359, , 131, 121<br/><strong>A</strong>: , , , , , , , , , , <br/><strong>B</strong>: 365, 545, 137, 255, 149, 645, 177, 359, 2009, 131, 1121</p>\n",
       "<p><code>apha0202-0379.nxml</code> \"On the function of the mammalian renal papilla and the peristalsis of the surrounding pelvis\"<br/><strong>E</strong>: , F433, 205, F892, 621, R1087, 613, 249, 971, <br/><strong>A</strong>: , , , , , , , , , <br/><strong>B</strong>: , F433, 205, F892, 621, R1087, </p>\n",
       "</blockquote></details>"
      ],
      "text/plain": [
       "<IPython.core.display.HTML object>"
      ]
     },
     "metadata": {},
     "output_type": "display_data"
    },
    {
     "data": {
      "text/markdown": [
       "## Dataset: pmc-sample-1943-cc-by-subset (reference_fpage exact)"
      ],
      "text/plain": [
       "<IPython.core.display.Markdown object>"
      ]
     },
     "metadata": {},
     "output_type": "display_data"
    },
    {
     "data": {
      "text/html": [
       "<details><summary>Comparison: grobid-tei vs cermine</summary><p><strong>E</strong>: expected, <strong>A</strong>: pmc-sample-1943-cc-by-subset grobid-tei, <strong>B</strong>: pmc-sample-1943-cc-by-subset cermine (reference_fpage exact)</p>\n",
       "<h4>grobid-tei [0 : 1] cermine (5)</h4>\n",
       "<p>There are 5 samples where grobid-tei got it wrong, but cermine got it right.</p>\n",
       "<blockquote>\n",
       "<p><code>aas0055-0039.nxml</code> \"Phosphate-containing dialysis solution prevents hypophosphatemia during continuous renal replacement therapy\"<br/><strong>E</strong>: 1662, 1043, 895, 684, 201, 501, 826, 186, 830, 67, 489, 626, 1698, 540, 281, 198, 112, 867, 420, 408, 1262, 312, 1259, 941, 885, 1424, 16, 105, 1504, 1204, 683, 1273, 40, 895, 512, 137<br/><strong>A</strong>: , , , , , , , , , , , , , , , , , , , , , , , , , , , , , , , , , , , </p>\n",
       "<p><code>sonc50-621.nxml</code> \"Management of cutaneous metastases using electrochemotherapy\"<br/><strong>E</strong>: 161, 89, 228, 148, 3, 2336, 437, 5462, 319, 4727, 201, 3694, 191, 371, 273, 585, 14, 956, 22, 624, 205, 613, 2215, 447, 469<br/><strong>A</strong>: , , , , , , , , , , , , , , , , , , , , , , , , , , , , , , , , , , , , , , </p>\n",
       "<p><code>ORT-1745-3674-81-405.nxml</code> \"Resection arthroplasty for luxation of the manubrio-sternal joint in rheumatoid arthritis—a case report\"<br/><strong>E</strong>: 1361, 260, 345, 712, 47, 40, 74, 307<br/><strong>A</strong>: , , , , , , , , </p>\n",
       "</blockquote>\n",
       "<p>2 more</p>\n",
       "<h4>grobid-tei [1 : 0] cermine (2)</h4>\n",
       "<p>There are 2 samples where grobid-tei got it right, but cermine got it wrong.</p>\n",
       "<blockquote>\n",
       "<p><code>d-67-00463.nxml</code> \"Pi sampling: a methodical and flexible approach to initial macromolecular crystallization screening\"<br/><strong>E</strong>: , , , , , , , , , , , , , , , , , , , , , , <br/><strong>B</strong>: 244, 131, 97, 12219, 1018, 366, 7829, 1601, 488, 409, 2162, 562, 1828, 14532, 2748, 6300, 1, 249, 162, , 311, 486, 204</p>\n",
       "<p><code>f-67-00344.nxml</code> \"Refolding, crystallization and preliminary X-ray crystallographic study of the whole extracellular regions of nectins\"<br/><strong>E</strong>: , , , , , , , , , , , , , <br/><strong>B</strong>: 9992, 760, 1618, 502, 1267, 621, 334, 307, 4734, 309, 655, 603, 179, 18284</p>\n",
       "</blockquote>\n",
       "<h4>grobid-tei [0 : 0] cermine (3)</h4>\n",
       "<p>There are 3 samples where both grobid-tei and cermine got it wrong.</p>\n",
       "<blockquote>\n",
       "<p><code>e-67-o1363.nxml</code> \"3-Allyl-1-{[3-(4-nitro­phen­yl)-4,5-dihydro-1,3-oxazol-5-yl]meth­yl}-1H-anthra[1,2-d]imidazole-2,6,11(3H)-trione\"<br/><strong>E</strong>: , , , , , , , , , , , , , , <br/><strong>A</strong>: , , , , , , , , , , , , , <br/><strong>B</strong>: , 43, 317, , 2296, 1354, 565, 3300, 89, 135, 112, 151, 229, 167, 437</p>\n",
       "<p><code>sobs89-975.nxml</code> \"Camera trocar lifting in office gasless laparoscopic sterilization under local anesthesia\"<br/><strong>E</strong>: 365, 545, 137, 255, 149, 645, 177, 359, , 131, 121<br/><strong>A</strong>: , , , , , , , , , , <br/><strong>B</strong>: 365, 545, 137, 255, 149, 645, 177, 359, 2009, 131, 1121</p>\n",
       "<p><code>apha0202-0379.nxml</code> \"On the function of the mammalian renal papilla and the peristalsis of the surrounding pelvis\"<br/><strong>E</strong>: , F433, 205, F892, 621, R1087, 613, 249, 971, <br/><strong>A</strong>: , , , , , , , , , <br/><strong>B</strong>: , F433, 205, F892, 621, R1087, </p>\n",
       "</blockquote></details>"
      ],
      "text/plain": [
       "<IPython.core.display.HTML object>"
      ]
     },
     "metadata": {},
     "output_type": "display_data"
    },
    {
     "data": {
      "text/markdown": [
       "<hr/>"
      ],
      "text/plain": [
       "<IPython.core.display.Markdown object>"
      ]
     },
     "metadata": {},
     "output_type": "display_data"
    },
    {
     "data": {
      "text/markdown": [
       "# Field: reference_lpage"
      ],
      "text/plain": [
       "<IPython.core.display.Markdown object>"
      ]
     },
     "metadata": {},
     "output_type": "display_data"
    },
    {
     "data": {
      "text/markdown": [
       "## Dataset: pmc-sample-1943-cc-by-subset (reference_lpage levenshtein)"
      ],
      "text/plain": [
       "<IPython.core.display.Markdown object>"
      ]
     },
     "metadata": {},
     "output_type": "display_data"
    },
    {
     "data": {
      "text/html": [
       "<details><summary>Comparison: grobid-tei vs cermine</summary><p><strong>E</strong>: expected, <strong>A</strong>: pmc-sample-1943-cc-by-subset grobid-tei, <strong>B</strong>: pmc-sample-1943-cc-by-subset cermine (reference_lpage levenshtein)</p>\n",
       "<h4>grobid-tei [0 : 1] cermine (6)</h4>\n",
       "<p>There are 6 samples where grobid-tei got it wrong, but cermine got it right.</p>\n",
       "<blockquote>\n",
       "<p><code>aas0055-0039.nxml</code> \"Phosphate-containing dialysis solution prevents hypophosphatemia during continuous renal replacement therapy\"<br/><strong>E</strong>: 5, 7, 902, , 14, 3, 31, 91, 5, 72, 95, 32, 701, 1, 4, , 4, 70, 4, 18, 6, 6, 64, 4, 7, 6, 8, 8, 11, 10, 8, 8, 7, 9, 9, 40<br/><strong>A</strong>: , , , , , , , , , , , , , , , , , , , , , , , , , , , , , , , , , , , </p>\n",
       "<p><code>sobs89-975.nxml</code> \"Camera trocar lifting in office gasless laparoscopic sterilization under local anesthesia\"<br/><strong>E</strong>: 68, 46, 41, 59, 53, 9, 84, 64, , 3, 1143<br/><strong>A</strong>: , , , , , , , , , , </p>\n",
       "<p><code>sonc50-621.nxml</code> \"Management of cutaneous metastases using electrochemotherapy\"<br/><strong>E</strong>: 82, 102, 36, 57, 13, 42, 47, 9, 25, 33, 8, 700, 9, 87, 6, 9, 25, 63, 5, 9, 16, 8, 22, 51, 79<br/><strong>A</strong>: , , , , , , , , , , , , , , , , , , , , , , , , , , , , , , , , , , , , , , </p>\n",
       "</blockquote>\n",
       "<p>3 more</p>\n",
       "<h4>grobid-tei [1 : 0] cermine (2)</h4>\n",
       "<p>There are 2 samples where grobid-tei got it right, but cermine got it wrong.</p>\n",
       "<blockquote>\n",
       "<p><code>d-67-00463.nxml</code> \"Pi sampling: a methodical and flexible approach to initial macromolecular crystallization screening\"<br/><strong>E</strong>: , , , , , , , , , , , , , , , , , , , , , , <br/><strong>B</strong>: 251, 151, 101, 12223, 1029, 373, 7833, 1605, 491, 411, 2168, 568, 1839, 14535, 2756, 6303, 23, 260, 169, , 327, 491, 213</p>\n",
       "<p><code>f-67-00344.nxml</code> \"Refolding, crystallization and preliminary X-ray crystallographic study of the whole extracellular regions of nectins\"<br/><strong>E</strong>: , , , , , , , , , , , , , <br/><strong>B</strong>: 10002, 763, 1620, 514, 1274, 629, 343, 326, 4743, 342, 667, 615, 189, 18289</p>\n",
       "</blockquote>\n",
       "<h4>grobid-tei [0 : 0] cermine (2)</h4>\n",
       "<p>There are 2 samples where both grobid-tei and cermine got it wrong.</p>\n",
       "<blockquote>\n",
       "<p><code>e-67-o1363.nxml</code> \"3-Allyl-1-{[3-(4-nitro­phen­yl)-4,5-dihydro-1,3-oxazol-5-yl]meth­yl}-1H-anthra[1,2-d]imidazole-2,6,11(3H)-trione\"<br/><strong>E</strong>: , , , , , , , , , , , , , , <br/><strong>A</strong>: , , , , , , , , , , , , , <br/><strong>B</strong>: , 46, 321, , 2303, 1358, , 3307, 94, 139, 122, 156, 241, 170, 441</p>\n",
       "<p><code>apha0202-0379.nxml</code> \"On the function of the mammalian renal papilla and the peristalsis of the surrounding pelvis\"<br/><strong>E</strong>: , F446, 244, F896, 628, R1100, 625, 431, 978, <br/><strong>A</strong>: , , , , , , , , , <br/><strong>B</strong>: , F446, 244, F896, 628, R1100, </p>\n",
       "</blockquote></details>"
      ],
      "text/plain": [
       "<IPython.core.display.HTML object>"
      ]
     },
     "metadata": {},
     "output_type": "display_data"
    },
    {
     "data": {
      "text/markdown": [
       "## Dataset: pmc-sample-1943-cc-by-subset (reference_lpage exact)"
      ],
      "text/plain": [
       "<IPython.core.display.Markdown object>"
      ]
     },
     "metadata": {},
     "output_type": "display_data"
    },
    {
     "data": {
      "text/html": [
       "<details><summary>Comparison: grobid-tei vs cermine</summary><p><strong>E</strong>: expected, <strong>A</strong>: pmc-sample-1943-cc-by-subset grobid-tei, <strong>B</strong>: pmc-sample-1943-cc-by-subset cermine (reference_lpage exact)</p>\n",
       "<h4>grobid-tei [0 : 1] cermine (6)</h4>\n",
       "<p>There are 6 samples where grobid-tei got it wrong, but cermine got it right.</p>\n",
       "<blockquote>\n",
       "<p><code>aas0055-0039.nxml</code> \"Phosphate-containing dialysis solution prevents hypophosphatemia during continuous renal replacement therapy\"<br/><strong>E</strong>: 5, 7, 902, , 14, 3, 31, 91, 5, 72, 95, 32, 701, 1, 4, , 4, 70, 4, 18, 6, 6, 64, 4, 7, 6, 8, 8, 11, 10, 8, 8, 7, 9, 9, 40<br/><strong>A</strong>: , , , , , , , , , , , , , , , , , , , , , , , , , , , , , , , , , , , </p>\n",
       "<p><code>sobs89-975.nxml</code> \"Camera trocar lifting in office gasless laparoscopic sterilization under local anesthesia\"<br/><strong>E</strong>: 68, 46, 41, 59, 53, 9, 84, 64, , 3, 1143<br/><strong>A</strong>: , , , , , , , , , , </p>\n",
       "<p><code>sonc50-621.nxml</code> \"Management of cutaneous metastases using electrochemotherapy\"<br/><strong>E</strong>: 82, 102, 36, 57, 13, 42, 47, 9, 25, 33, 8, 700, 9, 87, 6, 9, 25, 63, 5, 9, 16, 8, 22, 51, 79<br/><strong>A</strong>: , , , , , , , , , , , , , , , , , , , , , , , , , , , , , , , , , , , , , , </p>\n",
       "</blockquote>\n",
       "<p>3 more</p>\n",
       "<h4>grobid-tei [1 : 0] cermine (2)</h4>\n",
       "<p>There are 2 samples where grobid-tei got it right, but cermine got it wrong.</p>\n",
       "<blockquote>\n",
       "<p><code>d-67-00463.nxml</code> \"Pi sampling: a methodical and flexible approach to initial macromolecular crystallization screening\"<br/><strong>E</strong>: , , , , , , , , , , , , , , , , , , , , , , <br/><strong>B</strong>: 251, 151, 101, 12223, 1029, 373, 7833, 1605, 491, 411, 2168, 568, 1839, 14535, 2756, 6303, 23, 260, 169, , 327, 491, 213</p>\n",
       "<p><code>f-67-00344.nxml</code> \"Refolding, crystallization and preliminary X-ray crystallographic study of the whole extracellular regions of nectins\"<br/><strong>E</strong>: , , , , , , , , , , , , , <br/><strong>B</strong>: 10002, 763, 1620, 514, 1274, 629, 343, 326, 4743, 342, 667, 615, 189, 18289</p>\n",
       "</blockquote>\n",
       "<h4>grobid-tei [0 : 0] cermine (2)</h4>\n",
       "<p>There are 2 samples where both grobid-tei and cermine got it wrong.</p>\n",
       "<blockquote>\n",
       "<p><code>e-67-o1363.nxml</code> \"3-Allyl-1-{[3-(4-nitro­phen­yl)-4,5-dihydro-1,3-oxazol-5-yl]meth­yl}-1H-anthra[1,2-d]imidazole-2,6,11(3H)-trione\"<br/><strong>E</strong>: , , , , , , , , , , , , , , <br/><strong>A</strong>: , , , , , , , , , , , , , <br/><strong>B</strong>: , 46, 321, , 2303, 1358, , 3307, 94, 139, 122, 156, 241, 170, 441</p>\n",
       "<p><code>apha0202-0379.nxml</code> \"On the function of the mammalian renal papilla and the peristalsis of the surrounding pelvis\"<br/><strong>E</strong>: , F446, 244, F896, 628, R1100, 625, 431, 978, <br/><strong>A</strong>: , , , , , , , , , <br/><strong>B</strong>: , F446, 244, F896, 628, R1100, </p>\n",
       "</blockquote></details>"
      ],
      "text/plain": [
       "<IPython.core.display.HTML object>"
      ]
     },
     "metadata": {},
     "output_type": "display_data"
    },
    {
     "data": {
      "text/markdown": [
       "<hr/>"
      ],
      "text/plain": [
       "<IPython.core.display.Markdown object>"
      ]
     },
     "metadata": {},
     "output_type": "display_data"
    },
    {
     "data": {
      "text/markdown": [
       "# Field: tables"
      ],
      "text/plain": [
       "<IPython.core.display.Markdown object>"
      ]
     },
     "metadata": {},
     "output_type": "display_data"
    },
    {
     "data": {
      "text/markdown": [
       "## Dataset: pmc-sample-1943-cc-by-subset (tables levenshtein)"
      ],
      "text/plain": [
       "<IPython.core.display.Markdown object>"
      ]
     },
     "metadata": {},
     "output_type": "display_data"
    },
    {
     "data": {
      "text/html": [
       "<details><summary>Comparison: grobid-tei vs cermine</summary><p><strong>E</strong>: expected, <strong>A</strong>: pmc-sample-1943-cc-by-subset grobid-tei, <strong>B</strong>: pmc-sample-1943-cc-by-subset cermine (tables levenshtein)</p>\n",
       "<h4>grobid-tei [0 : 1] cermine (0)</h4>\n",
       "<p>There are 0 samples where grobid-tei got it wrong, but cermine got it right.</p>\n",
       "<h4>grobid-tei [1 : 0] cermine (0)</h4>\n",
       "<p>There are 0 samples where grobid-tei got it right, but cermine got it wrong.</p>\n",
       "<h4>grobid-tei [0 : 0] cermine (10)</h4>\n",
       "<p>There are 10 samples where both grobid-tei and cermine got it wrong.</p>\n",
       "<blockquote>\n",
       "<p><code>aas0055-0039.nxml</code> \"Phosphate-containing dialysis solution prevents hypophosphatemia during continuous renal replacement therapy\"<br/><strong>E</strong>: [[[\"\", \"Hemosol B0 (mmol/l)\", \"Phosphate containingdialysis solution (mmol/l)\"], [\"Bicarbonate\", \"32\", \"30\"], [\"Lactate\", \"3\", \"0\"], [\"Calcium\", \"1.75\", \"1.25\"], [\"Magnesium\", \"0.5\", \"0.6\"], [\"Potassium\", \"0\", \"4\"], [\"Sodium\", \"140\", \"140\"], [\"Phosphate\", \"0\", \"1.2\"], [\"Chloride\", \"109.5\", \"115.9\"]], [[\"Main diagnoses\", \"Group 1\", \"Group 2\", \"Group 3\"], [\"Septic shock\", \"5\", \"8\", \"7\"], [\"Pneumonia\", \"2\", \"1\", \"0\"], [\"Cardiac insufficiency\", \"0\", \"0\", \"3\"], [\"Cardiac arrest\", \"1\", \"0\", \"2\"], [\"Major intoxication\", \"1\", \"0\", \"1\"], [\"Rupture of aortic aneurysm\", \"0\", \"0\", \"2\"], [\"Myocardial infarction\", \"0\", \"0\", \"1\"], [\"Cardiogenic shock\", \"0\", \"0\", \"1\"], [\"Sclerosis cholangitis\", \"0\", \"0\", \"1\"], [\"Unspecified respiratory failure\", \"1\", \"0\", \"0\"], [\"Obstructing malignant intestinal tumour\", \"1\", \"0\", \"0\"], [\"Epilepsy\", \"1\", \"0\", \"0\"], [\"Unspecified muscle disease\", \"0\", \"0\", \"1\"]], [[\"\", \"Group 1\", \"Group 2\", \"Group 3\"], [\"Demographics<em>\"], [\"Age (years)\", \"63 (43\\u201386)\", \"68 (37\\u201388)\", \"67 (53\\u201383)\"], [\"Weight (kg)\", \"80 (53\\u2013116)\", \"86 (56\\u2013124)\", \"79 (41\\u2013130)\"], [\"Male sex, n (%)\", \"7 (50)\", \"7 (50)\", \"5 (36)\"], [\"APACHE II</em>\", \"28.1 (19\\u201344)\", \"26 (13\\u201336)\", \"23.2 (15\\u201329)\"], [\"RIFLE score, points<em>,\\u2020\", \"37\", \"39\", \"39\"], [\"Delivered CRRT</em>\"], [\"CRRT treatment duration (h)\", \"82 (17\\u2013278)\", \"115 (37\\u2013207)\", \"96 (29\\u2013210)\"], [\"CRRT treatment mode\", \"CVVHDF\", \"CVVHDF\", \"CVVHDF\"], [\"Effluent flow (ml/kg/h) calculated on active treatment time<em>,\\u2021\", \"23.7 (13\\u201345)\", \"21.9 (15\\u201330)\", \"18 (10\\u201320)\"], [\"Proportion of ordered dose delivered</em>\", \"85.3%\", \"87.5%\", \"91.8%\"], [\"Anticoagulation<em>\", \"None 3\", \"None 2\", \"None 2\"], [\"\", \"Heparine 9\", \"Heparine 11\", \"Heparine 10\"], [\"\", \"Prostacycline 1\", \"Prostacycline 1\", \"Prostacycline 2\"], [\"Phosphate supplementation\\u00a7 (mmol/CRRT treatment day)\", \"11 (0\\u201335)\", \"3 (0\\u201313)\", \"0 (0)\"]], [[\"Group\", \"Group 1\", \"Group 2\", \"Group 3\"], [\"\", \"Before\", \"During\", \"Before\", \"During\", \"Before\", \"During\"], [\"Phosphate</em>\", \"1.90\", \"0.99\", \"1.54\", \"1.20\", \"1.83\", \"1.43\"], [\"Ionized Ca\\u2020\", \"1.10\", \"1.24\", \"1.13\", \"1.19\", \"1.11\", \"1.15\"], [\"pH\\u2021\", \"7.24\", \"7.40\", \"7.30\", \"7.36\", \"7.32\", \"7.36\"], [\"pCO2\\u2021\", \"5.59\", \"5.27\", \"5.81\", \"5.77\", \"6.51\", \"5.27\"], [\"Bicarbonate\\u00a7\", \"18\", \"24\", \"21\", \"23\", \"21\", \"22\"]], [[\"Day on CRRT\", \"Before\", \"1\", \"2\", \"3\", \"4\", \"5\"], [\"Sodium*\", \"134.0 \\u00b1 5\", \"135.0 \\u00b1 3\", \"135.2 \\u00b1 2\", \"135.0 \\u00b1 2\", \"135.7 \\u00b1 2\", \"135.8 \\u00b1 3\"], [\"Potassium\\u2020\", \"4.06 \\u00b1 0.5\", \"4.10 \\u00b1 0.4\", \"4.14 \\u00b1 0.3\", \"4.23 \\u00b1 0.3\", \"4.39 \\u00b1 0.4\", \"4.49 \\u00b1 0.5\"], [\"Ionised calcium\\u2021\", \"1.11 \\u00b1 0.08\", \"1.10 \\u00b1 0.05\", \"1.15 \\u00b1 0.07\", \"1.17 \\u00b1 0.06\", \"1.16 \\u00b1 0.05\", \"1.17 \\u00b1 0.06\"], [\"Magnesium\\u2020\", \"1.1 \\u00b1 0.4\", \"1.0 \\u00b1 0.2\", \"1.1 \\u00b1 0.2\", \"0.7 \\u00b1 0.2\", \"0.9 \\u00b1 0.1\", \"1.0 \\u00b1 0.3\"]]]<br/><strong>A</strong>: [[], [], [], [], []]<br/><strong>B</strong>: nan</p>\n",
       "<p><code>d-67-00463.nxml</code> \"Pi sampling: a methodical and flexible approach to initial macromolecular crystallization screening\"<br/><strong>E</strong>: nan<br/><strong>A</strong>: [[], [], [], []]<br/><strong>B</strong>: nan</p>\n",
       "<p><code>e-67-o1363.nxml</code> \"3-Allyl-1-{[3-(4-nitro­phen­yl)-4,5-dihydro-1,3-oxazol-5-yl]meth­yl}-1H-anthra[1,2-d]imidazole-2,6,11(3H)-trione\"<br/><strong>E</strong>: nan<br/><strong>A</strong>: [[], []]<br/><strong>B</strong>: nan</p>\n",
       "</blockquote>\n",
       "<p>7 more</p></details>"
      ],
      "text/plain": [
       "<IPython.core.display.HTML object>"
      ]
     },
     "metadata": {},
     "output_type": "display_data"
    },
    {
     "data": {
      "text/markdown": [
       "## Dataset: pmc-sample-1943-cc-by-subset (tables exact)"
      ],
      "text/plain": [
       "<IPython.core.display.Markdown object>"
      ]
     },
     "metadata": {},
     "output_type": "display_data"
    },
    {
     "data": {
      "text/html": [
       "<details><summary>Comparison: grobid-tei vs cermine</summary><p><strong>E</strong>: expected, <strong>A</strong>: pmc-sample-1943-cc-by-subset grobid-tei, <strong>B</strong>: pmc-sample-1943-cc-by-subset cermine (tables exact)</p>\n",
       "<h4>grobid-tei [0 : 1] cermine (0)</h4>\n",
       "<p>There are 0 samples where grobid-tei got it wrong, but cermine got it right.</p>\n",
       "<h4>grobid-tei [1 : 0] cermine (0)</h4>\n",
       "<p>There are 0 samples where grobid-tei got it right, but cermine got it wrong.</p>\n",
       "<h4>grobid-tei [0 : 0] cermine (10)</h4>\n",
       "<p>There are 10 samples where both grobid-tei and cermine got it wrong.</p>\n",
       "<blockquote>\n",
       "<p><code>aas0055-0039.nxml</code> \"Phosphate-containing dialysis solution prevents hypophosphatemia during continuous renal replacement therapy\"<br/><strong>E</strong>: [[[\"\", \"Hemosol B0 (mmol/l)\", \"Phosphate containingdialysis solution (mmol/l)\"], [\"Bicarbonate\", \"32\", \"30\"], [\"Lactate\", \"3\", \"0\"], [\"Calcium\", \"1.75\", \"1.25\"], [\"Magnesium\", \"0.5\", \"0.6\"], [\"Potassium\", \"0\", \"4\"], [\"Sodium\", \"140\", \"140\"], [\"Phosphate\", \"0\", \"1.2\"], [\"Chloride\", \"109.5\", \"115.9\"]], [[\"Main diagnoses\", \"Group 1\", \"Group 2\", \"Group 3\"], [\"Septic shock\", \"5\", \"8\", \"7\"], [\"Pneumonia\", \"2\", \"1\", \"0\"], [\"Cardiac insufficiency\", \"0\", \"0\", \"3\"], [\"Cardiac arrest\", \"1\", \"0\", \"2\"], [\"Major intoxication\", \"1\", \"0\", \"1\"], [\"Rupture of aortic aneurysm\", \"0\", \"0\", \"2\"], [\"Myocardial infarction\", \"0\", \"0\", \"1\"], [\"Cardiogenic shock\", \"0\", \"0\", \"1\"], [\"Sclerosis cholangitis\", \"0\", \"0\", \"1\"], [\"Unspecified respiratory failure\", \"1\", \"0\", \"0\"], [\"Obstructing malignant intestinal tumour\", \"1\", \"0\", \"0\"], [\"Epilepsy\", \"1\", \"0\", \"0\"], [\"Unspecified muscle disease\", \"0\", \"0\", \"1\"]], [[\"\", \"Group 1\", \"Group 2\", \"Group 3\"], [\"Demographics<em>\"], [\"Age (years)\", \"63 (43\\u201386)\", \"68 (37\\u201388)\", \"67 (53\\u201383)\"], [\"Weight (kg)\", \"80 (53\\u2013116)\", \"86 (56\\u2013124)\", \"79 (41\\u2013130)\"], [\"Male sex, n (%)\", \"7 (50)\", \"7 (50)\", \"5 (36)\"], [\"APACHE II</em>\", \"28.1 (19\\u201344)\", \"26 (13\\u201336)\", \"23.2 (15\\u201329)\"], [\"RIFLE score, points<em>,\\u2020\", \"37\", \"39\", \"39\"], [\"Delivered CRRT</em>\"], [\"CRRT treatment duration (h)\", \"82 (17\\u2013278)\", \"115 (37\\u2013207)\", \"96 (29\\u2013210)\"], [\"CRRT treatment mode\", \"CVVHDF\", \"CVVHDF\", \"CVVHDF\"], [\"Effluent flow (ml/kg/h) calculated on active treatment time<em>,\\u2021\", \"23.7 (13\\u201345)\", \"21.9 (15\\u201330)\", \"18 (10\\u201320)\"], [\"Proportion of ordered dose delivered</em>\", \"85.3%\", \"87.5%\", \"91.8%\"], [\"Anticoagulation<em>\", \"None 3\", \"None 2\", \"None 2\"], [\"\", \"Heparine 9\", \"Heparine 11\", \"Heparine 10\"], [\"\", \"Prostacycline 1\", \"Prostacycline 1\", \"Prostacycline 2\"], [\"Phosphate supplementation\\u00a7 (mmol/CRRT treatment day)\", \"11 (0\\u201335)\", \"3 (0\\u201313)\", \"0 (0)\"]], [[\"Group\", \"Group 1\", \"Group 2\", \"Group 3\"], [\"\", \"Before\", \"During\", \"Before\", \"During\", \"Before\", \"During\"], [\"Phosphate</em>\", \"1.90\", \"0.99\", \"1.54\", \"1.20\", \"1.83\", \"1.43\"], [\"Ionized Ca\\u2020\", \"1.10\", \"1.24\", \"1.13\", \"1.19\", \"1.11\", \"1.15\"], [\"pH\\u2021\", \"7.24\", \"7.40\", \"7.30\", \"7.36\", \"7.32\", \"7.36\"], [\"pCO2\\u2021\", \"5.59\", \"5.27\", \"5.81\", \"5.77\", \"6.51\", \"5.27\"], [\"Bicarbonate\\u00a7\", \"18\", \"24\", \"21\", \"23\", \"21\", \"22\"]], [[\"Day on CRRT\", \"Before\", \"1\", \"2\", \"3\", \"4\", \"5\"], [\"Sodium*\", \"134.0 \\u00b1 5\", \"135.0 \\u00b1 3\", \"135.2 \\u00b1 2\", \"135.0 \\u00b1 2\", \"135.7 \\u00b1 2\", \"135.8 \\u00b1 3\"], [\"Potassium\\u2020\", \"4.06 \\u00b1 0.5\", \"4.10 \\u00b1 0.4\", \"4.14 \\u00b1 0.3\", \"4.23 \\u00b1 0.3\", \"4.39 \\u00b1 0.4\", \"4.49 \\u00b1 0.5\"], [\"Ionised calcium\\u2021\", \"1.11 \\u00b1 0.08\", \"1.10 \\u00b1 0.05\", \"1.15 \\u00b1 0.07\", \"1.17 \\u00b1 0.06\", \"1.16 \\u00b1 0.05\", \"1.17 \\u00b1 0.06\"], [\"Magnesium\\u2020\", \"1.1 \\u00b1 0.4\", \"1.0 \\u00b1 0.2\", \"1.1 \\u00b1 0.2\", \"0.7 \\u00b1 0.2\", \"0.9 \\u00b1 0.1\", \"1.0 \\u00b1 0.3\"]]]<br/><strong>A</strong>: [[], [], [], [], []]<br/><strong>B</strong>: nan</p>\n",
       "<p><code>d-67-00463.nxml</code> \"Pi sampling: a methodical and flexible approach to initial macromolecular crystallization screening\"<br/><strong>E</strong>: nan<br/><strong>A</strong>: [[], [], [], []]<br/><strong>B</strong>: nan</p>\n",
       "<p><code>e-67-o1363.nxml</code> \"3-Allyl-1-{[3-(4-nitro­phen­yl)-4,5-dihydro-1,3-oxazol-5-yl]meth­yl}-1H-anthra[1,2-d]imidazole-2,6,11(3H)-trione\"<br/><strong>E</strong>: nan<br/><strong>A</strong>: [[], []]<br/><strong>B</strong>: nan</p>\n",
       "</blockquote>\n",
       "<p>7 more</p></details>"
      ],
      "text/plain": [
       "<IPython.core.display.HTML object>"
      ]
     },
     "metadata": {},
     "output_type": "display_data"
    },
    {
     "data": {
      "text/markdown": [
       "<hr/>"
      ],
      "text/plain": [
       "<IPython.core.display.Markdown object>"
      ]
     },
     "metadata": {},
     "output_type": "display_data"
    },
    {
     "data": {
      "text/markdown": [
       "# Field: table_strings"
      ],
      "text/plain": [
       "<IPython.core.display.Markdown object>"
      ]
     },
     "metadata": {},
     "output_type": "display_data"
    },
    {
     "data": {
      "text/markdown": [
       "## Dataset: pmc-sample-1943-cc-by-subset (table_strings levenshtein)"
      ],
      "text/plain": [
       "<IPython.core.display.Markdown object>"
      ]
     },
     "metadata": {},
     "output_type": "display_data"
    },
    {
     "data": {
      "text/html": [
       "<details><summary>Comparison: grobid-tei vs cermine</summary><p><strong>E</strong>: expected, <strong>A</strong>: pmc-sample-1943-cc-by-subset grobid-tei, <strong>B</strong>: pmc-sample-1943-cc-by-subset cermine (table_strings levenshtein)</p>\n",
       "<h4>grobid-tei [0 : 1] cermine (0)</h4>\n",
       "<p>There are 0 samples where grobid-tei got it wrong, but cermine got it right.</p>\n",
       "<h4>grobid-tei [1 : 0] cermine (1)</h4>\n",
       "<p>There are 1 samples where grobid-tei got it right, but cermine got it wrong.</p>\n",
       "<blockquote>\n",
       "<p><code>sonc50-621.nxml</code> \"Management of cutaneous metastases using electrochemotherapy\"<br/><strong>E</strong>: Patients Total (N = 52) Patients (%) Patients Herlev, N = 30 Patients Middlesbrough N = 22 Median age in years (range) 69.6 (38.9-94.7) 72.1 (53-89.8) 68.3 (38.9-94.7) Age distribution 1  80 + 11 11%  70 + 25 48%  60 + 44 85%  50 + 48 92% Sex  Female 35 67% 24 13  Male 17 33% 6 8 ECOG2 performance status  0 35 67% 58% 84%  1 12 23% 33% 5%  2 5 10% 9% 11% Previous Treatment  Surgery 42 81% 71% 95%  Radiotherapy 20 38% 42% 21%  Chemotherapy 21 40% 42% 37%  No previous treatment 8 15% 21% 0% Number of metastases treated pr. patient 3  Median (range) 3 (1-7) 3 (1-7) 4 (1-7) Diagnosis 4  Malignant Melanoma 21 40% 36% 47%  Breast Cancer 15 29% 33% 21%  Adenocarcinoma (other than breast) 5 10% 15% 0%  Basocellular Carcinoma 5 10% 9% 11%  Squamous Cell Carcinoma 3 6% 6% 5%  Other 3 5% 0% 16% Location of metastasis  Chest 79 40 40 41  Lower limbs 54 28 22 36  Head and Neck 30 15 22 6  Scalp 21 11 12 9  Upper limbs 6 3 4 1  Abdomen 5 3 1 5  Back 1 1 0 1 Size of metastases  Median diameter in mm (range) 12 (1-200) 15 (2-200) 5 (1-140)  ≤3 cm 138  &gt;3 cm 24, TREATMENT DATA All Patients (n = 51) All Patients (%) Herlev Middlesbrough Chemotherapy  Bleomycin I.T 21 41% 41% 42%  Bleomycin I.V. 30 59% 59% 58% Anaesthesia  Local 23 45% 50% 37%  General 28 55% 50% 63% ECT session duration1, hours:minutes  Median (range) (hh-mm) 00:16 (00:05-01:27) 00:29 (00:08-01:27) 00:18 (00:05-00:35) Would agree for another session  yes 46 90% 87% 90%  no 4 8% 13% 5%  no answer 1 2% 0 5% RESPONSE All Metastases (n = 97)2 Metastases (%) Herlev Middlesbrough Response for registered metastases3  CR 58 60% 54% 68%  PR 18 19% 20% 17%  SD 11 11% 18% 2%  PD 7 7% 4% 12%  Not evaluable 3 3% 5% 0% Time from treatment to CR (days)  Median (range) (days 47 (16-110) 41 (16-110) 63 (38-100) Size of metastases S30 mm (n = 84)  CR 57 68%  PR 15 18%  SD 5 6%  PD 5 6%  Not evaluable 2 2% Size of metastases &gt;30 mm (n = 13)  CR 1 8%  PR 3 23%  SD 6 46%  PD 2 15%  Not evaluable 1 8%, Local anaesthesia General anaesthesia Location of metastases  Chest 23 32% 56 46%  Lower limbs 31 42% 23 19%  Head and Neck 11 15% 19 15%  Scalp 4 5% 17 14%  Upper limbs 3 4% 3 2%  Abdomen 1 1% 4 3%  Back 0 0 1 1% Size of metastases  Median (range) (mm) 7.5 (1-60) 10 (1-200) Number of metastases per patient  Median (range) 3 4<br/><strong>B</strong>: nan</p>\n",
       "</blockquote>\n",
       "<h4>grobid-tei [0 : 0] cermine (9)</h4>\n",
       "<p>There are 9 samples where both grobid-tei and cermine got it wrong.</p>\n",
       "<blockquote>\n",
       "<p><code>aas0055-0039.nxml</code> \"Phosphate-containing dialysis solution prevents hypophosphatemia during continuous renal replacement therapy\"<br/><strong>E</strong>: Hemosol B0 (mmol/l) Phosphate containingdialysis solution (mmol/l) Bicarbonate 32 30 Lactate 3 0 Calcium 1.75 1.25 Magnesium 0.5 0.6 Potassium 0 4 Sodium 140 140 Phosphate 0 1.2 Chloride 109.5 115.9, Main diagnoses Group 1 Group 2 Group 3 Septic shock 5 8 7 Pneumonia 2 1 0 Cardiac insufficiency 0 0 3 Cardiac arrest 1 0 2 Major intoxication 1 0 1 Rupture of aortic aneurysm 0 0 2 Myocardial infarction 0 0 1 Cardiogenic shock 0 0 1 Sclerosis cholangitis 0 0 1 Unspecified respiratory failure 1 0 0 Obstructing malignant intestinal tumour 1 0 0 Epilepsy 1 0 0 Unspecified muscle disease 0 0 1, Group 1 Group 2 Group 3 Demographics<em> Age (years) 63 (43–86) 68 (37–88) 67 (53–83) Weight (kg) 80 (53–116) 86 (56–124) 79 (41–130) Male sex, n (%) 7 (50) 7 (50) 5 (36) APACHE II</em> 28.1 (19–44) 26 (13–36) 23.2 (15–29) RIFLE score, points<em>,† 37 39 39 Delivered CRRT</em> CRRT treatment duration (h) 82 (17–278) 115 (37–207) 96 (29–210) CRRT treatment mode CVVHDF CVVHDF CVVHDF Effluent flow (ml/kg/h) calculated on active treatment time<em>,‡ 23.7 (13–45) 21.9 (15–30) 18 (10–20) Proportion of ordered dose delivered</em> 85.3% 87.5% 91.8% Anticoagulation<em> None 3 None 2 None 2 Heparine 9 Heparine 11 Heparine 10 Prostacycline 1 Prostacycline 1 Prostacycline 2 Phosphate supplementation§ (mmol/CRRT treatment day) 11 (0–35) 3 (0–13) 0 (0), Group Group 1 Group 2 Group 3 Before During Before During Before During Phosphate</em> 1.90 0.99 1.54 1.20 1.83 1.43 Ionized Ca† 1.10 1.24 1.13 1.19 1.11 1.15 pH‡ 7.24 7.40 7.30 7.36 7.32 7.36 pCO2‡ 5.59 5.27 5.81 5.77 6.51 5.27 Bicarbonate§ 18 24 21 23 21 22, Day on CRRT Before 1 2 3 4 5 Sodium<em> 134.0 ± 5 135.0 ± 3 135.2 ± 2 135.0 ± 2 135.7 ± 2 135.8 ± 3 Potassium† 4.06 ± 0.5 4.10 ± 0.4 4.14 ± 0.3 4.23 ± 0.3 4.39 ± 0.4 4.49 ± 0.5 Ionised calcium‡ 1.11 ± 0.08 1.10 ± 0.05 1.15 ± 0.07 1.17 ± 0.06 1.16 ± 0.05 1.17 ± 0.06 Magnesium† 1.1 ± 0.4 1.0 ± 0.2 1.1 ± 0.2 0.7 ± 0.2 0.9 ± 0.1 1.0 ± 0.3<br/><strong>A</strong>: Hemosol B0 (mmol/l) Phosphate containing dialysis solution (mmol/l) Bicarbonate 32 30 Lactate 3 0 Calcium 1.75 1.25 Magnesium 0.5 0.6 Potassium 0 4 Sodium 140 140 Phosphate 0 1.2 Chloride 109.5 115.9, Main diagnoses leading to intensive care of the study groups. Main diagnoses Group 1 Group 2 Group 3 Septic shock 5 8 7 Pneumonia 2 1 0 Cardiac insufficiency 0 0 3 Cardiac arrest 1 0 2 Major intoxication 1 0 1 Rupture of aortic aneurysm 0 0 2 Myocardial infarction 0 0 1 Cardiogenic shock 0 0 1 Sclerosis cholangitis 0 0 1 Unspecified respiratory failure 1 0 0 Obstructing malignant intestinal tumour 1 0 0 Epilepsy 1 0 0 Unspecified muscle disease 0 0 1, Group 1 Group 2 Group 3, Day on CRRT Before 1 2 3 4 5 Sodium</em> 134.0 AE 5 135.0 AE 3 135.2 AE 2 135.0 AE 2 135.7 AE 2 135.8 AE 3 Potassiumw 4.06 AE 0.5 4.10 AE 0.4 4.14 AE 0.3 4.23 AE 0.3 4.39 AE 0.4 4.49 AE 0.5 Ionised calciumz 1.11 AE 0.08 1.10 AE 0.05 1.15 AE 0.07 1.17 AE 0.06 1.16 AE 0.05 1.17 AE 0.06 Magnesiumw 1.1 AE 0.4 1.0 AE 0.2 1.1 AE 0.2 0.7 AE 0.2 0.9 AE 0.1 1.0 AE 0.3 <em>P, Serum values (mmol/l, kPa) during CRRT with the phosphate- containing dialysis fluid. Group Group 1 Group 2 Group 3 Before During Before During Before During Phosphate</em> 1.90 0.99 1.54 1.20 1.83 1.43 Ionized Caw 1.10 1.24 1.13 1.19 1.11 1.15 pHz 7.24 7.40 7.30 7.36 7.32 7.36 pCO 2 z 5.59 5.27 5.81 5.77 6.51 5.27 Bicarbonate § 18 24 21 23 21 22<br/><strong>B</strong>: nan</p>\n",
       "<p><code>d-67-00463.nxml</code> \"Pi sampling: a methodical and flexible approach to initial macromolecular crystallization screening\"<br/><strong>E</strong>: nan<br/><strong>A</strong>: Details of the samples used with the Pi minimal screen (Table 1) and number of crystallization hits. TEN, buffer consisting of 20 mM 2-amino-2-(hydroxymethyl)-1,3-propanediol (Tris), 1 mM ethylene- diaminetetraacetic acid (EDTA), 1 mM sodium azide and 200 mM sodium chloride. Protein Concentration (mg ml À1 ) MW (kDa) Source and code Buffer/preparation Hits Lysozyme 10.0 14.4 Sigma L6876 Deionized water 56 Concanavalin A 7.0 26.5 Sigma L7647 TEN pH 8.5 16 Glucose isomerase 33.0 43.0 Hampton HR7-102 See product user guide 11 Xylanase 36.0 21.0 Hampton HR7-106 See product user guide 8 Ferritin 50-150 440.0 Fluka 96701 As supplied by the manufacturer 8 Catalase 12.6 62.5 Sigma C3155 Deionized water 6 Citrate synthase 10.0 49.0 Sigma C3260 TEN pH 8.5 5 Lipase B 25.0 35.0 Hampton HR7-099 Deionized water 4 Ribonuclease A 30.0 13.7 Sigma R5503 Deionized water 1 Thaumatin 30.0 22.0 Sigma T7638 Deionized water 1 Sum 116, Hits per condition' observed and corresponding results expected with the binomial distribution (Pi minimal screen). Hits/condition Observed Expected 0 21 26.5 1 45 36.4 2 20 22.5 3 or more 10 10.6 Sum 96 96, Set 1 Set 2 Set 3 Well ID Name Conc. Unit ID Name Conc. Unit ID Name Conc. Unit F6 6 Cacodylate pH 6.5 0.15 M E Potassium thiocyanate 0.030 M P PEG 20 000 18.0 %(w/v) F7 7 MOPS pH 7.0 0.15 M F Sodium iodide 0.060 M Q PEG 1000 52.0 %(w/v) F8 8 HEPES pH 7.5 0.15 M G Propanediol 3.000 %(v/v) R Sodium chloride 2.7 M F9 9 Tris pH 8.0 0.15 M H Calcium chloride 0.030 M S PEG 4000 42.0 %(w/v) F10 10 TAPS pH 8.5 0.15 M I Ethylene glycol 3.000 %(v/v) T Lithium sulfate 1.4 M F11 11 AMPD/Tris pH 9.0 0.15 M J Sodium potassium tartrate 0.030 M U PEG MME 5000 35.0 %(w/v) F12 12 CAPSO pH 9.5 0.15 M K MPD 3.000 %(v/v) V Glycerol 62.0 %(w/v) G1 1 Formate pH 4.0 0.15 M G Propanediol 2.000 %(v/v) M Phosphate 1.1 M G2 2 Acetate pH 4.5 0.15 M H N PEG MME 550 45.00 %(v/v) G3 3 Malate pH 5.0 0.15 M I Ethylene glycol 2.000 %(v/v) O Ammonium nitrate 3.7 M G4 4 Citrate pH 5.5 0.15 M J Sodium potassium tartrate 0.020 M P PEG 20 000 19.0 %(w/v) G5 5 MES pH 6.0 0.15 M K MPD 2.000 %(v/v) Q PEG 1000 56.0 %(w/v) G6 6 Cacodylate pH 6.5 0.15 M L 2-Butanol 2.000 %(v/v) R Sodium chloride 3.0 M G7 7 MOPS pH 7.0 0.15 M A Potassium bromide 0.040 M S PEG 4000 45.0 %(w/v) G8 8 HEPES pH 7.5 0.15 M B PEG 300 2.000 %(v/v) T Lithium sulfate 1.5 M G9 9 Tris pH 8.0 0.15 M C Magnesium sulfate 0.040 M U PEG MME 5000 38.0 %(w/v) G10 10 TAPS pH 8.5 0.15 M D Sodium fluoride 0.008 M V Glycerol 67.0 %(w/v) G11 11 AMPD/Tris pH 9.0 0.15 M E Potassium thiocyanate 0.020 M W Ammonium sulfate 2.6 M G12 12 CAPSO pH 9.5 0.15 M F Sodium iodide 0.040 M X PEG 8000 38.0 %(w/v) H1 1 Formate pH 4.0 0.15 M B PEG 300 1.000 %(v/v) O Ammonium nitrate 4.0 M H2 2 Acetate pH 4.5 0.15 M C Magnesium sulfate 0.020 M P PEG 20 000 20.0 %(w/v) H3 3 Malate pH 5.0 0.15 M D Sodium fluoride 0.004 M Q PEG 1000 60.0 %(w/v) H4 4 Citrate pH 5.5 0.15 M E Potassium thiocyanate 0.010 M R Sodium chloride 3.2 M H5 5 MES pH 6.0 0.15 M F Sodium iodide 0.020 M S PEG 4000 48.0 %(w/v) H6 6 Cacodylate pH 6.5 0.15 M G Propanediol 1.000 %(v/v) T Lithium sulfate 1.6 M H7 7 MOPS pH 7.0 0.15 M H Calcium chloride 0.010 M U PEG MME 5000 40.0 %(w/v) H8 8 HEPES pH 7.5 0.15 M I Ethylene glycol 1.000 %(v/v) V Glycerol 72.0 %(w/v) H9 9 Tris pH 8.0 0.15 M J Sodium potassium tartrate 0.010 M W Ammonium sulfate 2.8 M H10 10 TAPS pH 8.5 0.15 M K MPD 1.000 %(v/v) X PEG 8000 40.0 %(w/v) H11 11 AMPD/Tris pH 9.0 0.15 M L 2-Butanol 1.000 %(v/v) M Phosphate 1.2 M H12 12 CAPSO pH 9.5 0.15 M A Potassium bromide 0.020 M N PEG MME 550 48.00 %(v/v), Set 1 Set 2 Set 3 Well ID Name Conc. Unit ID Name Conc. Unit ID Name Conc. Unit A1 1 Acetate pH 4.8 0.05 M A PEG 200 22.5 %(v/v) M A2 2 Acetate pH 5.2 0.05 M B PEG 300 20.0 %(v/v) N A3 3 MES pH 5.6 0.05 M C PEG MME 350 20.0 %(v/v) O A4 4 MES pH 6.0 0.05 M D PEG 400 20.0 %(v/v) P A5 5 ADA pH 6.4 0.05 M E PEG MME 550 20.0 %(v/v) Q A6 6 ADA pH 6.8 0.05 M F PEG 600 20.0 %(v/v) R A7 7 HEPES pH 7.1 0.05 M G PEG 1000 17.5 %(w/v) S A8 8 HEPES pH 7.3 0.05 M H PEG 1500 17.5 %(w/v) T A9 9 Tris pH 7.6 0.05 M I PEG 2000 15.0 %(w/v) U A10 10 Tris pH 8.0 0.05 M J PEG MME 2000 15.0 %(w/v) V A11 11 Bicine pH 8.4 0.05 M K PEG 3000 15.0 %(w/v) W A12 12 Bicine pH 8.8 0.05 M L PEG 4000 15.0 %(w/v) X B1 1 Acetate pH 4.8 0.05 M H PEG 1500 15.0 %(w/v) O PEG 4000 3.6 %(w/v) B2 2 Acetate pH 5.2 0.05 M I PEG 2000 12.9 %(w/v) P PEG 200 6.4 %(v/v) B3 3 MES pH 5.6 0.05 M J PEG MME 2000 12.9 %(w/v) Q PEG 300 5.7 %(v/v) B4 4 MES pH 6.0 0.05 M K PEG 3000 12.9 %(w/v) R PEG MME 350 5.7 %(v/v) B5 5 ADA pH 6.4 0.05 M L PEG 4000 12.9 %(w/v) S PEG 400 5.7 %(v/v) B6 6 ADA pH 6.8 0.05 M A PEG 200 19.3 %(v/v) T PEG MME 550 5.7 %(v/v) B7 7 HEPES pH 7.1 0.05 M B PEG 300 17.1 %(v/v) U PEG 600 5.7 %(v/v) B8 8 HEPES pH 7.3 0.05 M C PEG MME 350 17.1 %(v/v) V PEG 1000 5.0 %(w/v) B9 9 Tris pH 7.6 0.05 M D PEG 400 17.1 %(v/v) W PEG 1500 5.0 %(w/v) B10 10 Tris pH 8.0 0.05 M E PEG MME 550 17.1 %(v/v) X PEG 2000 4.3 %(w/v) B11 11 Bicine pH 8.4 0.05 M F PEG 600 17.1 %(v/v) M PEG MME 2000 4.3 %(w/v) B12 12 Bicine pH 8.8 0.05 M G PEG 1000 15.0 %(w/v) N PEG 3000 4.3 %(w/v) C1 1 Acetate pH 4.8 0.05 M C PEG MME 350 14.3 %(v/v) Q PEG 300 11.4 %(v/v) C2 2 Acetate pH 5.2 0.05 M D PEG 400 14.3 %(v/v) R PEG MME 350 11.4 %(v/v) C3 3 MES pH 5.6 0.05 M E PEG MME 550 14.3 %(v/v) S PEG 400 11.4 %(v/v) C4 4 MES pH 6.0 0.05 M F PEG 600 14.3 %(v/v) T PEG MME 550 11.4 %(v/v) C5 5 ADA pH 6.4 0.05 M G PEG 1000 12.5 %(w/v) U PEG 600 11.4 %(v/v) C6 6 ADA pH 6.8 0.05 M H PEG 1500 12.5 %(w/v) V PEG 1000 10.0 %(w/v) C7 7 HEPES pH 7.1 0.05 M I PEG 2000 10.7 %(w/v) W PEG 1500 10.0 %(w/v) C8 8 HEPES pH 7.3 0.05 M J PEG MME 2000 10.7 %(w/v) X PEG 2000 8.6 %(w/v) C9 9 Tris pH 7.6 0.05 M K PEG 3000 10.7 %(w/v) M PEG MME 2000 8.6 %(w/v) C10 10 Tris pH 8.0 0.05 M L PEG 4000 10.7 %(w/v) N PEG 3000 8.6 %(w/v) C11 11 Bicine pH 8.4 0.05 M A PEG 200 16.1 %(v/v) O PEG 4000 7.1 %(w/v) C12 12 Bicine pH 8.8 0.05 M B PEG 300 14.3 %(v/v) P PEG 200 12.9 %(v/v) D1 1 Acetate pH 4.8 0.05 M J PEG MME 2000 8.6 %(w/v) S PEG 400 17.1 %(w/v) D2 2 Acetate pH 5.2 0.05 M K PEG 3000 8.6 %(w/v) T PEG MME 550 17.1 %(v/v) D3 3 MES pH 5.6 0.05 M L PEG 4000 8.6 %(w/v) U PEG 600 17.1 %(v/v) D4 4 MES pH 6.0 0.05 M A PEG 200 12.9 %(v/v) V PEG 1000 15.0 %(w/v) D5 5 ADA pH 6.4 0.05 M B PEG 300 11.4 %(v/v) W PEG 1500 15.0 %(w/v) D6 6 ADA pH 6.8 0.05 M C PEG MME 350 11.4 %(v/v) X PEG 2000 12.9 %(w/v) D7 7 HEPES pH 7.1 0.05 M D PEG 400 11.4 %(v/v) M PEG MME 2000 12.9 %(w/v) D8 8 HEPES pH 7.3 0.05 M E PEG MME 550 11.4 %(v/v) N PEG 3000 12.9 %(w/v) D9 9 Tris pH 7.6 0.05 M F PEG 600 11.4 %(v/v) O PEG 4000 10.7 %(w/v) D10 10 Tris pH 8.0 0.05 M G PEG 1000 10.0 %(w/v) P PEG 200 19.3 %(v/v) D11 11 Bicine pH 8.4 0.05 M H PEG 1500 10.0 %(w/v) Q PEG 300 17.1 %(v/v) D12 12 Bicine pH 8.8 0.05 M I PEG 2000 8.6 %(w/v) R PEG MME 350 17.1 %(v/v) E1 1 Acetate pH 4.8 0.05 M E PEG MME 550 8.6 %(v/v) U PEG 600 22.9 %(v/v) E2 2 Acetate pH 5.2 0.05 M F PEG 600 8.6 %(v/v) V PEG 1000 20.0 %(w/v) E3 3 MES pH 5.6 0.05 M G PEG 1000 7.5 %(w/v) W PEG 1500 20.0 %(w/v) E4 4 MES pH 6.0 0.05 M H PEG 1500 7.5 %(w/v) X PEG 2000 17.1 %(w/v) E5 5 ADA pH 6.4 0.05 M I PEG 2000 6.4 %(w/v) M PEG MME 2000 17.1 %(w/v) E6 6 ADA pH 6.8 0.05 M J PEG MME 2000 6.4 %(w/v) N PEG 3000 17.1 %(w/v) E7 7 HEPES pH 7.1 0.05 M K PEG 3000 6.4 %(w/v) O PEG 4000 14.3 %(w/v) E8 8 HEPES pH 7.3 0.05 M L PEG 4000 6.4 %(w/v) P PEG 200 25.7 %(v/v) E9 9 Tris pH 7.6 0.05 M A PEG 200 9.6 %(v/v) Q PEG 300 22.9 %(v/v) E10 10 Tris pH 8.0 0.05 M B PEG 300 8.6 %(v/v) R PEG MME 350 22.9 %(v/v) E11 11 Bicine pH 8.4 0.05 M C PEG MME 350 8.6 %(v/v) S PEG 400 22.9 %(v/v) E12 12 Bicine pH 8.8 0.05 M D PEG 400 8.6 %(v/v) T PEG MME 550 22.9 %(v/v) F1 1 Acetate pH 4.8 0.05 M L PEG 4000 4.3 %(w/v) W PEG 1500 25.0 %(w/v) F2 2 Acetate pH 5.2 0.05 M A PEG 200 6.4 %(v/v) X PEG 2000 21.4 %(w/v) F3 3 MES pH 5.6 0.05 M B PEG 300 5.7 %(v/v) M PEG MME 2000 21.4 %(w/v) F4 4 MES pH 6.0 0.05 M C PEG MME 350 5.7 %(v/v) N PEG 3000 21.4 %(w/v) F5 5 ADA pH 6.4 0.05 M D PEG 400 5.7 %(v/v) O PEG 4000 17.9 %(w/v) F6 6 ADA pH 6.8 0.05 M E PEG MME 550 5.7 %(v/v) P PEG 200 32.1 %(v/v) F7 7 HEPES pH 7.1 0.05 M F PEG 600 5.7 %(v/v) Q PEG 300 28.6 %(v/v) F8 8 HEPES pH 7.3 0.05 M G PEG 1000 5.0 %(w/v) R PEG MME 350 28.6 %(v/v) F9 9 Tris pH 7.6 0.05 M H PEG 1500 5.0 %(w/v) S PEG 400 28.6 %(v/v)<br/><strong>B</strong>: nan</p>\n",
       "<p><code>e-67-o1363.nxml</code> \"3-Allyl-1-{[3-(4-nitro­phen­yl)-4,5-dihydro-1,3-oxazol-5-yl]meth­yl}-1H-anthra[1,2-d]imidazole-2,6,11(3H)-trione\"<br/><strong>E</strong>: nan<br/><strong>A</strong>: Hydrogen-bond geometry (A ˚ , ). D-HÁ Á ÁA D -H HÁ Á ÁA D Á Á ÁA D -HÁ Á ÁA C7-H7Á Á ÁO1 i 0.93 2.60 3.516 (2) 169 C18-H18BÁ Á ÁO2 ii 0.97 2.37 3.333 (2) 170 C26-H26BÁ Á ÁO1 i 0.97 2.55 3.379 (3) 144 C16-H16AÁ Á ÁO2 0.97 2.10 2.902 (2) 141 Symmetry codes: (, Fractional atomic coordinates and isotropic or equivalent isotropic displacement parameters (Å 2 ) x y z U iso <em>/U eq C1 0.6321 (2) 0.82375 (9) 0.19097 (19) 0.0612 (5) C2 0.85135 (19) 0.84194 (8) 0.35084 (17) 0.0552 (4) C3 0.81023 (17) 0.89317 (8) 0.27367 (15) 0.0502 (4) C4 0.90411 (17) 0.94182 (7) 0.30538 (15) 0.0475 (4) C5 1.04177 (18) 0.93398 (7) 0.40936 (15) 0.0505 (4) C6 1.0776 (2) 0.88249 (8) 0.48157 (16) 0.0593 (5) H6 1.1683 0.8794 0.5498 0.071</em> C7 0.9829 (2) 0.83582 (8) 0.45530 (17) 0.0622 (5) H7 1.0064 0.8018 0.5055 0.075<em> C8 1.1555 (2) 0.97997 (8) 0.44241 (17) 0.0574 (4) C9 1.1231 (2) 1.03401 (8) 0.36364 (17) 0.0556 (4) C10 0.98508 (19) 1.04342 (7) 0.26723 (16) 0.0527 (4) C11 0.86591 (19) 1.00068 (8) 0.24546 (16) 0.0524 (4) C12 1.2303 (2) 1.07627 (9) 0.3858 (2) 0.0712 (5) supplementary materials sup-4 H12 1.3224 1.0703 0.4505 0.085</em> C13 1.2012 (3) 1.12668 (10) 0.3127 (2) 0.0793 (6) H13 1.2730 1.1550 0.3292 0.095<em> C14 1.0663 (3) 1.13554 (9) 0.2151 (2) 0.0754 (6) H14 1.0482 1.1692 0.1641 0.090</em> C15 0.9574 (2) 1.09440 (8) 0.19255 (19) 0.0651 (5) H15 0.8658 1.1008 0.1275 0.078<em> C16 0.59135 (18) 0.91052 (8) 0.05248 (16) 0.0576 (5) H16A 0.5982 0.9527 0.0669 0.069</em> H16B 0.4900 0.8995 0.0226 0.069<em> C17 0.64489 (18) 0.89559 (9) −0.05152 (17) 0.0588 (5) H17 0.6223 0.8546 −0.0797 0.071</em> C18 0.58172 (18) 0.93738 (8) −0.16582 (17) 0.0617 (5) H18A 0.5628 0.9177 −0.2474 0.074<em> H18B 0.4935 0.9560 −0.1695 0.074</em> C19 0.70447 (18) 0.98060 (8) −0.13153 (16) 0.0553 (4) C20 0.69973 (18) 1.03873 (8) −0.18912 (16) 0.0546 (4) C21 0.5711 (2) 1.06028 (9) −0.28290 (18) 0.0640 (5) H21 0.4882 1.0370 −0.3120 0.077<em> C22 0.5655 (2) 1.11605 (9) −0.33315 (19) 0.0701 (5) H22 0.4792 1.1305 −0.3955 0.084</em> C23 0.6886 (2) 1.15008 (8) −0.2904 (2) 0.0662 (5) C24 0.8184 (2) 1.12962 (10) −0.1991 (2) 0.0727 (6) H24 0.9011 1.1530 −0.1718 0.087<em> C25 0.8234 (2) 1.07410 (9) −0.14903 (19) 0.0655 (5) H25 0.9106 1.0599 −0.0875 0.079</em> C26 0.7429 (2) 0.74050 (9) 0.3414 (2) 0.0749 (6) H26A 0.6442 0.7270 0.3176 0.090<em> H26B 0.7923 0.7385 0.4351 0.090</em> C27 0.8169 (2) 0.70030 (9) 0.2829 (2) 0.0776 (6) H27 0.8222 0.6608 0.3062 0.093<em> C28 0.8743 (3) 0.71473 (12) 0.2031 (3) 0.0922 (7) H28A 0.8718 0.7537 0.1768 0.111</em> H28B 0.9182 0.6862 0.1720 0.111* N1 0.67395 (14) 0.88059 (7) 0.17487 (13) 0.0554 (4) N2 0.73969 (16) 0.80148 (7) 0.30080 (15) 0.0633 (4) N3 0.82302 (15) 0.96221 (7) −0.04143 (14) 0.0606 (4) N4 0.6801 (3) 1.20974 (9) −0.3438 (2) 0.0907 (6) O1 0.52115 (15) 0.79872 (6) 0.12021 (14) 0.0768 (4) O2 0.73990 (14) 1.01619 (6) 0.18463 (13) 0.0677 (4) O3 1.27476 (15) 0.97262 (6) 0.53085 (13) 0.0835 (4) O4 0.80057 (12) 0.90603 (6) 0.00001 (12) 0.0663 (4) O5 0.5638 (2) 1.22624 (8) −0.4262 (2) 0.1111 (6) O6 0.7864 (2) 1.24061 (9) −0.3026 (3) 0.1445 (9) Atomic displacement parameters (Å 2 ) U supplementary materials sup-5<br/><strong>B</strong>: nan</p>\n",
       "</blockquote>\n",
       "<p>6 more</p></details>"
      ],
      "text/plain": [
       "<IPython.core.display.HTML object>"
      ]
     },
     "metadata": {},
     "output_type": "display_data"
    },
    {
     "data": {
      "text/markdown": [
       "## Dataset: pmc-sample-1943-cc-by-subset (table_strings exact)"
      ],
      "text/plain": [
       "<IPython.core.display.Markdown object>"
      ]
     },
     "metadata": {},
     "output_type": "display_data"
    },
    {
     "data": {
      "text/html": [
       "<details><summary>Comparison: grobid-tei vs cermine</summary><p><strong>E</strong>: expected, <strong>A</strong>: pmc-sample-1943-cc-by-subset grobid-tei, <strong>B</strong>: pmc-sample-1943-cc-by-subset cermine (table_strings exact)</p>\n",
       "<h4>grobid-tei [0 : 1] cermine (0)</h4>\n",
       "<p>There are 0 samples where grobid-tei got it wrong, but cermine got it right.</p>\n",
       "<h4>grobid-tei [1 : 0] cermine (0)</h4>\n",
       "<p>There are 0 samples where grobid-tei got it right, but cermine got it wrong.</p>\n",
       "<h4>grobid-tei [0 : 0] cermine (10)</h4>\n",
       "<p>There are 10 samples where both grobid-tei and cermine got it wrong.</p>\n",
       "<blockquote>\n",
       "<p><code>aas0055-0039.nxml</code> \"Phosphate-containing dialysis solution prevents hypophosphatemia during continuous renal replacement therapy\"<br/><strong>E</strong>: Hemosol B0 (mmol/l) Phosphate containingdialysis solution (mmol/l) Bicarbonate 32 30 Lactate 3 0 Calcium 1.75 1.25 Magnesium 0.5 0.6 Potassium 0 4 Sodium 140 140 Phosphate 0 1.2 Chloride 109.5 115.9, Main diagnoses Group 1 Group 2 Group 3 Septic shock 5 8 7 Pneumonia 2 1 0 Cardiac insufficiency 0 0 3 Cardiac arrest 1 0 2 Major intoxication 1 0 1 Rupture of aortic aneurysm 0 0 2 Myocardial infarction 0 0 1 Cardiogenic shock 0 0 1 Sclerosis cholangitis 0 0 1 Unspecified respiratory failure 1 0 0 Obstructing malignant intestinal tumour 1 0 0 Epilepsy 1 0 0 Unspecified muscle disease 0 0 1, Group 1 Group 2 Group 3 Demographics<em> Age (years) 63 (43–86) 68 (37–88) 67 (53–83) Weight (kg) 80 (53–116) 86 (56–124) 79 (41–130) Male sex, n (%) 7 (50) 7 (50) 5 (36) APACHE II</em> 28.1 (19–44) 26 (13–36) 23.2 (15–29) RIFLE score, points<em>,† 37 39 39 Delivered CRRT</em> CRRT treatment duration (h) 82 (17–278) 115 (37–207) 96 (29–210) CRRT treatment mode CVVHDF CVVHDF CVVHDF Effluent flow (ml/kg/h) calculated on active treatment time<em>,‡ 23.7 (13–45) 21.9 (15–30) 18 (10–20) Proportion of ordered dose delivered</em> 85.3% 87.5% 91.8% Anticoagulation<em> None 3 None 2 None 2 Heparine 9 Heparine 11 Heparine 10 Prostacycline 1 Prostacycline 1 Prostacycline 2 Phosphate supplementation§ (mmol/CRRT treatment day) 11 (0–35) 3 (0–13) 0 (0), Group Group 1 Group 2 Group 3 Before During Before During Before During Phosphate</em> 1.90 0.99 1.54 1.20 1.83 1.43 Ionized Ca† 1.10 1.24 1.13 1.19 1.11 1.15 pH‡ 7.24 7.40 7.30 7.36 7.32 7.36 pCO2‡ 5.59 5.27 5.81 5.77 6.51 5.27 Bicarbonate§ 18 24 21 23 21 22, Day on CRRT Before 1 2 3 4 5 Sodium<em> 134.0 ± 5 135.0 ± 3 135.2 ± 2 135.0 ± 2 135.7 ± 2 135.8 ± 3 Potassium† 4.06 ± 0.5 4.10 ± 0.4 4.14 ± 0.3 4.23 ± 0.3 4.39 ± 0.4 4.49 ± 0.5 Ionised calcium‡ 1.11 ± 0.08 1.10 ± 0.05 1.15 ± 0.07 1.17 ± 0.06 1.16 ± 0.05 1.17 ± 0.06 Magnesium† 1.1 ± 0.4 1.0 ± 0.2 1.1 ± 0.2 0.7 ± 0.2 0.9 ± 0.1 1.0 ± 0.3<br/><strong>A</strong>: Hemosol B0 (mmol/l) Phosphate containing dialysis solution (mmol/l) Bicarbonate 32 30 Lactate 3 0 Calcium 1.75 1.25 Magnesium 0.5 0.6 Potassium 0 4 Sodium 140 140 Phosphate 0 1.2 Chloride 109.5 115.9, Main diagnoses leading to intensive care of the study groups. Main diagnoses Group 1 Group 2 Group 3 Septic shock 5 8 7 Pneumonia 2 1 0 Cardiac insufficiency 0 0 3 Cardiac arrest 1 0 2 Major intoxication 1 0 1 Rupture of aortic aneurysm 0 0 2 Myocardial infarction 0 0 1 Cardiogenic shock 0 0 1 Sclerosis cholangitis 0 0 1 Unspecified respiratory failure 1 0 0 Obstructing malignant intestinal tumour 1 0 0 Epilepsy 1 0 0 Unspecified muscle disease 0 0 1, Group 1 Group 2 Group 3, Day on CRRT Before 1 2 3 4 5 Sodium</em> 134.0 AE 5 135.0 AE 3 135.2 AE 2 135.0 AE 2 135.7 AE 2 135.8 AE 3 Potassiumw 4.06 AE 0.5 4.10 AE 0.4 4.14 AE 0.3 4.23 AE 0.3 4.39 AE 0.4 4.49 AE 0.5 Ionised calciumz 1.11 AE 0.08 1.10 AE 0.05 1.15 AE 0.07 1.17 AE 0.06 1.16 AE 0.05 1.17 AE 0.06 Magnesiumw 1.1 AE 0.4 1.0 AE 0.2 1.1 AE 0.2 0.7 AE 0.2 0.9 AE 0.1 1.0 AE 0.3 <em>P, Serum values (mmol/l, kPa) during CRRT with the phosphate- containing dialysis fluid. Group Group 1 Group 2 Group 3 Before During Before During Before During Phosphate</em> 1.90 0.99 1.54 1.20 1.83 1.43 Ionized Caw 1.10 1.24 1.13 1.19 1.11 1.15 pHz 7.24 7.40 7.30 7.36 7.32 7.36 pCO 2 z 5.59 5.27 5.81 5.77 6.51 5.27 Bicarbonate § 18 24 21 23 21 22<br/><strong>B</strong>: nan</p>\n",
       "<p><code>d-67-00463.nxml</code> \"Pi sampling: a methodical and flexible approach to initial macromolecular crystallization screening\"<br/><strong>E</strong>: nan<br/><strong>A</strong>: Details of the samples used with the Pi minimal screen (Table 1) and number of crystallization hits. TEN, buffer consisting of 20 mM 2-amino-2-(hydroxymethyl)-1,3-propanediol (Tris), 1 mM ethylene- diaminetetraacetic acid (EDTA), 1 mM sodium azide and 200 mM sodium chloride. Protein Concentration (mg ml À1 ) MW (kDa) Source and code Buffer/preparation Hits Lysozyme 10.0 14.4 Sigma L6876 Deionized water 56 Concanavalin A 7.0 26.5 Sigma L7647 TEN pH 8.5 16 Glucose isomerase 33.0 43.0 Hampton HR7-102 See product user guide 11 Xylanase 36.0 21.0 Hampton HR7-106 See product user guide 8 Ferritin 50-150 440.0 Fluka 96701 As supplied by the manufacturer 8 Catalase 12.6 62.5 Sigma C3155 Deionized water 6 Citrate synthase 10.0 49.0 Sigma C3260 TEN pH 8.5 5 Lipase B 25.0 35.0 Hampton HR7-099 Deionized water 4 Ribonuclease A 30.0 13.7 Sigma R5503 Deionized water 1 Thaumatin 30.0 22.0 Sigma T7638 Deionized water 1 Sum 116, Hits per condition' observed and corresponding results expected with the binomial distribution (Pi minimal screen). Hits/condition Observed Expected 0 21 26.5 1 45 36.4 2 20 22.5 3 or more 10 10.6 Sum 96 96, Set 1 Set 2 Set 3 Well ID Name Conc. Unit ID Name Conc. Unit ID Name Conc. Unit F6 6 Cacodylate pH 6.5 0.15 M E Potassium thiocyanate 0.030 M P PEG 20 000 18.0 %(w/v) F7 7 MOPS pH 7.0 0.15 M F Sodium iodide 0.060 M Q PEG 1000 52.0 %(w/v) F8 8 HEPES pH 7.5 0.15 M G Propanediol 3.000 %(v/v) R Sodium chloride 2.7 M F9 9 Tris pH 8.0 0.15 M H Calcium chloride 0.030 M S PEG 4000 42.0 %(w/v) F10 10 TAPS pH 8.5 0.15 M I Ethylene glycol 3.000 %(v/v) T Lithium sulfate 1.4 M F11 11 AMPD/Tris pH 9.0 0.15 M J Sodium potassium tartrate 0.030 M U PEG MME 5000 35.0 %(w/v) F12 12 CAPSO pH 9.5 0.15 M K MPD 3.000 %(v/v) V Glycerol 62.0 %(w/v) G1 1 Formate pH 4.0 0.15 M G Propanediol 2.000 %(v/v) M Phosphate 1.1 M G2 2 Acetate pH 4.5 0.15 M H N PEG MME 550 45.00 %(v/v) G3 3 Malate pH 5.0 0.15 M I Ethylene glycol 2.000 %(v/v) O Ammonium nitrate 3.7 M G4 4 Citrate pH 5.5 0.15 M J Sodium potassium tartrate 0.020 M P PEG 20 000 19.0 %(w/v) G5 5 MES pH 6.0 0.15 M K MPD 2.000 %(v/v) Q PEG 1000 56.0 %(w/v) G6 6 Cacodylate pH 6.5 0.15 M L 2-Butanol 2.000 %(v/v) R Sodium chloride 3.0 M G7 7 MOPS pH 7.0 0.15 M A Potassium bromide 0.040 M S PEG 4000 45.0 %(w/v) G8 8 HEPES pH 7.5 0.15 M B PEG 300 2.000 %(v/v) T Lithium sulfate 1.5 M G9 9 Tris pH 8.0 0.15 M C Magnesium sulfate 0.040 M U PEG MME 5000 38.0 %(w/v) G10 10 TAPS pH 8.5 0.15 M D Sodium fluoride 0.008 M V Glycerol 67.0 %(w/v) G11 11 AMPD/Tris pH 9.0 0.15 M E Potassium thiocyanate 0.020 M W Ammonium sulfate 2.6 M G12 12 CAPSO pH 9.5 0.15 M F Sodium iodide 0.040 M X PEG 8000 38.0 %(w/v) H1 1 Formate pH 4.0 0.15 M B PEG 300 1.000 %(v/v) O Ammonium nitrate 4.0 M H2 2 Acetate pH 4.5 0.15 M C Magnesium sulfate 0.020 M P PEG 20 000 20.0 %(w/v) H3 3 Malate pH 5.0 0.15 M D Sodium fluoride 0.004 M Q PEG 1000 60.0 %(w/v) H4 4 Citrate pH 5.5 0.15 M E Potassium thiocyanate 0.010 M R Sodium chloride 3.2 M H5 5 MES pH 6.0 0.15 M F Sodium iodide 0.020 M S PEG 4000 48.0 %(w/v) H6 6 Cacodylate pH 6.5 0.15 M G Propanediol 1.000 %(v/v) T Lithium sulfate 1.6 M H7 7 MOPS pH 7.0 0.15 M H Calcium chloride 0.010 M U PEG MME 5000 40.0 %(w/v) H8 8 HEPES pH 7.5 0.15 M I Ethylene glycol 1.000 %(v/v) V Glycerol 72.0 %(w/v) H9 9 Tris pH 8.0 0.15 M J Sodium potassium tartrate 0.010 M W Ammonium sulfate 2.8 M H10 10 TAPS pH 8.5 0.15 M K MPD 1.000 %(v/v) X PEG 8000 40.0 %(w/v) H11 11 AMPD/Tris pH 9.0 0.15 M L 2-Butanol 1.000 %(v/v) M Phosphate 1.2 M H12 12 CAPSO pH 9.5 0.15 M A Potassium bromide 0.020 M N PEG MME 550 48.00 %(v/v), Set 1 Set 2 Set 3 Well ID Name Conc. Unit ID Name Conc. Unit ID Name Conc. Unit A1 1 Acetate pH 4.8 0.05 M A PEG 200 22.5 %(v/v) M A2 2 Acetate pH 5.2 0.05 M B PEG 300 20.0 %(v/v) N A3 3 MES pH 5.6 0.05 M C PEG MME 350 20.0 %(v/v) O A4 4 MES pH 6.0 0.05 M D PEG 400 20.0 %(v/v) P A5 5 ADA pH 6.4 0.05 M E PEG MME 550 20.0 %(v/v) Q A6 6 ADA pH 6.8 0.05 M F PEG 600 20.0 %(v/v) R A7 7 HEPES pH 7.1 0.05 M G PEG 1000 17.5 %(w/v) S A8 8 HEPES pH 7.3 0.05 M H PEG 1500 17.5 %(w/v) T A9 9 Tris pH 7.6 0.05 M I PEG 2000 15.0 %(w/v) U A10 10 Tris pH 8.0 0.05 M J PEG MME 2000 15.0 %(w/v) V A11 11 Bicine pH 8.4 0.05 M K PEG 3000 15.0 %(w/v) W A12 12 Bicine pH 8.8 0.05 M L PEG 4000 15.0 %(w/v) X B1 1 Acetate pH 4.8 0.05 M H PEG 1500 15.0 %(w/v) O PEG 4000 3.6 %(w/v) B2 2 Acetate pH 5.2 0.05 M I PEG 2000 12.9 %(w/v) P PEG 200 6.4 %(v/v) B3 3 MES pH 5.6 0.05 M J PEG MME 2000 12.9 %(w/v) Q PEG 300 5.7 %(v/v) B4 4 MES pH 6.0 0.05 M K PEG 3000 12.9 %(w/v) R PEG MME 350 5.7 %(v/v) B5 5 ADA pH 6.4 0.05 M L PEG 4000 12.9 %(w/v) S PEG 400 5.7 %(v/v) B6 6 ADA pH 6.8 0.05 M A PEG 200 19.3 %(v/v) T PEG MME 550 5.7 %(v/v) B7 7 HEPES pH 7.1 0.05 M B PEG 300 17.1 %(v/v) U PEG 600 5.7 %(v/v) B8 8 HEPES pH 7.3 0.05 M C PEG MME 350 17.1 %(v/v) V PEG 1000 5.0 %(w/v) B9 9 Tris pH 7.6 0.05 M D PEG 400 17.1 %(v/v) W PEG 1500 5.0 %(w/v) B10 10 Tris pH 8.0 0.05 M E PEG MME 550 17.1 %(v/v) X PEG 2000 4.3 %(w/v) B11 11 Bicine pH 8.4 0.05 M F PEG 600 17.1 %(v/v) M PEG MME 2000 4.3 %(w/v) B12 12 Bicine pH 8.8 0.05 M G PEG 1000 15.0 %(w/v) N PEG 3000 4.3 %(w/v) C1 1 Acetate pH 4.8 0.05 M C PEG MME 350 14.3 %(v/v) Q PEG 300 11.4 %(v/v) C2 2 Acetate pH 5.2 0.05 M D PEG 400 14.3 %(v/v) R PEG MME 350 11.4 %(v/v) C3 3 MES pH 5.6 0.05 M E PEG MME 550 14.3 %(v/v) S PEG 400 11.4 %(v/v) C4 4 MES pH 6.0 0.05 M F PEG 600 14.3 %(v/v) T PEG MME 550 11.4 %(v/v) C5 5 ADA pH 6.4 0.05 M G PEG 1000 12.5 %(w/v) U PEG 600 11.4 %(v/v) C6 6 ADA pH 6.8 0.05 M H PEG 1500 12.5 %(w/v) V PEG 1000 10.0 %(w/v) C7 7 HEPES pH 7.1 0.05 M I PEG 2000 10.7 %(w/v) W PEG 1500 10.0 %(w/v) C8 8 HEPES pH 7.3 0.05 M J PEG MME 2000 10.7 %(w/v) X PEG 2000 8.6 %(w/v) C9 9 Tris pH 7.6 0.05 M K PEG 3000 10.7 %(w/v) M PEG MME 2000 8.6 %(w/v) C10 10 Tris pH 8.0 0.05 M L PEG 4000 10.7 %(w/v) N PEG 3000 8.6 %(w/v) C11 11 Bicine pH 8.4 0.05 M A PEG 200 16.1 %(v/v) O PEG 4000 7.1 %(w/v) C12 12 Bicine pH 8.8 0.05 M B PEG 300 14.3 %(v/v) P PEG 200 12.9 %(v/v) D1 1 Acetate pH 4.8 0.05 M J PEG MME 2000 8.6 %(w/v) S PEG 400 17.1 %(w/v) D2 2 Acetate pH 5.2 0.05 M K PEG 3000 8.6 %(w/v) T PEG MME 550 17.1 %(v/v) D3 3 MES pH 5.6 0.05 M L PEG 4000 8.6 %(w/v) U PEG 600 17.1 %(v/v) D4 4 MES pH 6.0 0.05 M A PEG 200 12.9 %(v/v) V PEG 1000 15.0 %(w/v) D5 5 ADA pH 6.4 0.05 M B PEG 300 11.4 %(v/v) W PEG 1500 15.0 %(w/v) D6 6 ADA pH 6.8 0.05 M C PEG MME 350 11.4 %(v/v) X PEG 2000 12.9 %(w/v) D7 7 HEPES pH 7.1 0.05 M D PEG 400 11.4 %(v/v) M PEG MME 2000 12.9 %(w/v) D8 8 HEPES pH 7.3 0.05 M E PEG MME 550 11.4 %(v/v) N PEG 3000 12.9 %(w/v) D9 9 Tris pH 7.6 0.05 M F PEG 600 11.4 %(v/v) O PEG 4000 10.7 %(w/v) D10 10 Tris pH 8.0 0.05 M G PEG 1000 10.0 %(w/v) P PEG 200 19.3 %(v/v) D11 11 Bicine pH 8.4 0.05 M H PEG 1500 10.0 %(w/v) Q PEG 300 17.1 %(v/v) D12 12 Bicine pH 8.8 0.05 M I PEG 2000 8.6 %(w/v) R PEG MME 350 17.1 %(v/v) E1 1 Acetate pH 4.8 0.05 M E PEG MME 550 8.6 %(v/v) U PEG 600 22.9 %(v/v) E2 2 Acetate pH 5.2 0.05 M F PEG 600 8.6 %(v/v) V PEG 1000 20.0 %(w/v) E3 3 MES pH 5.6 0.05 M G PEG 1000 7.5 %(w/v) W PEG 1500 20.0 %(w/v) E4 4 MES pH 6.0 0.05 M H PEG 1500 7.5 %(w/v) X PEG 2000 17.1 %(w/v) E5 5 ADA pH 6.4 0.05 M I PEG 2000 6.4 %(w/v) M PEG MME 2000 17.1 %(w/v) E6 6 ADA pH 6.8 0.05 M J PEG MME 2000 6.4 %(w/v) N PEG 3000 17.1 %(w/v) E7 7 HEPES pH 7.1 0.05 M K PEG 3000 6.4 %(w/v) O PEG 4000 14.3 %(w/v) E8 8 HEPES pH 7.3 0.05 M L PEG 4000 6.4 %(w/v) P PEG 200 25.7 %(v/v) E9 9 Tris pH 7.6 0.05 M A PEG 200 9.6 %(v/v) Q PEG 300 22.9 %(v/v) E10 10 Tris pH 8.0 0.05 M B PEG 300 8.6 %(v/v) R PEG MME 350 22.9 %(v/v) E11 11 Bicine pH 8.4 0.05 M C PEG MME 350 8.6 %(v/v) S PEG 400 22.9 %(v/v) E12 12 Bicine pH 8.8 0.05 M D PEG 400 8.6 %(v/v) T PEG MME 550 22.9 %(v/v) F1 1 Acetate pH 4.8 0.05 M L PEG 4000 4.3 %(w/v) W PEG 1500 25.0 %(w/v) F2 2 Acetate pH 5.2 0.05 M A PEG 200 6.4 %(v/v) X PEG 2000 21.4 %(w/v) F3 3 MES pH 5.6 0.05 M B PEG 300 5.7 %(v/v) M PEG MME 2000 21.4 %(w/v) F4 4 MES pH 6.0 0.05 M C PEG MME 350 5.7 %(v/v) N PEG 3000 21.4 %(w/v) F5 5 ADA pH 6.4 0.05 M D PEG 400 5.7 %(v/v) O PEG 4000 17.9 %(w/v) F6 6 ADA pH 6.8 0.05 M E PEG MME 550 5.7 %(v/v) P PEG 200 32.1 %(v/v) F7 7 HEPES pH 7.1 0.05 M F PEG 600 5.7 %(v/v) Q PEG 300 28.6 %(v/v) F8 8 HEPES pH 7.3 0.05 M G PEG 1000 5.0 %(w/v) R PEG MME 350 28.6 %(v/v) F9 9 Tris pH 7.6 0.05 M H PEG 1500 5.0 %(w/v) S PEG 400 28.6 %(v/v)<br/><strong>B</strong>: nan</p>\n",
       "<p><code>e-67-o1363.nxml</code> \"3-Allyl-1-{[3-(4-nitro­phen­yl)-4,5-dihydro-1,3-oxazol-5-yl]meth­yl}-1H-anthra[1,2-d]imidazole-2,6,11(3H)-trione\"<br/><strong>E</strong>: nan<br/><strong>A</strong>: Hydrogen-bond geometry (A ˚ , ). D-HÁ Á ÁA D -H HÁ Á ÁA D Á Á ÁA D -HÁ Á ÁA C7-H7Á Á ÁO1 i 0.93 2.60 3.516 (2) 169 C18-H18BÁ Á ÁO2 ii 0.97 2.37 3.333 (2) 170 C26-H26BÁ Á ÁO1 i 0.97 2.55 3.379 (3) 144 C16-H16AÁ Á ÁO2 0.97 2.10 2.902 (2) 141 Symmetry codes: (, Fractional atomic coordinates and isotropic or equivalent isotropic displacement parameters (Å 2 ) x y z U iso <em>/U eq C1 0.6321 (2) 0.82375 (9) 0.19097 (19) 0.0612 (5) C2 0.85135 (19) 0.84194 (8) 0.35084 (17) 0.0552 (4) C3 0.81023 (17) 0.89317 (8) 0.27367 (15) 0.0502 (4) C4 0.90411 (17) 0.94182 (7) 0.30538 (15) 0.0475 (4) C5 1.04177 (18) 0.93398 (7) 0.40936 (15) 0.0505 (4) C6 1.0776 (2) 0.88249 (8) 0.48157 (16) 0.0593 (5) H6 1.1683 0.8794 0.5498 0.071</em> C7 0.9829 (2) 0.83582 (8) 0.45530 (17) 0.0622 (5) H7 1.0064 0.8018 0.5055 0.075<em> C8 1.1555 (2) 0.97997 (8) 0.44241 (17) 0.0574 (4) C9 1.1231 (2) 1.03401 (8) 0.36364 (17) 0.0556 (4) C10 0.98508 (19) 1.04342 (7) 0.26723 (16) 0.0527 (4) C11 0.86591 (19) 1.00068 (8) 0.24546 (16) 0.0524 (4) C12 1.2303 (2) 1.07627 (9) 0.3858 (2) 0.0712 (5) supplementary materials sup-4 H12 1.3224 1.0703 0.4505 0.085</em> C13 1.2012 (3) 1.12668 (10) 0.3127 (2) 0.0793 (6) H13 1.2730 1.1550 0.3292 0.095<em> C14 1.0663 (3) 1.13554 (9) 0.2151 (2) 0.0754 (6) H14 1.0482 1.1692 0.1641 0.090</em> C15 0.9574 (2) 1.09440 (8) 0.19255 (19) 0.0651 (5) H15 0.8658 1.1008 0.1275 0.078<em> C16 0.59135 (18) 0.91052 (8) 0.05248 (16) 0.0576 (5) H16A 0.5982 0.9527 0.0669 0.069</em> H16B 0.4900 0.8995 0.0226 0.069<em> C17 0.64489 (18) 0.89559 (9) −0.05152 (17) 0.0588 (5) H17 0.6223 0.8546 −0.0797 0.071</em> C18 0.58172 (18) 0.93738 (8) −0.16582 (17) 0.0617 (5) H18A 0.5628 0.9177 −0.2474 0.074<em> H18B 0.4935 0.9560 −0.1695 0.074</em> C19 0.70447 (18) 0.98060 (8) −0.13153 (16) 0.0553 (4) C20 0.69973 (18) 1.03873 (8) −0.18912 (16) 0.0546 (4) C21 0.5711 (2) 1.06028 (9) −0.28290 (18) 0.0640 (5) H21 0.4882 1.0370 −0.3120 0.077<em> C22 0.5655 (2) 1.11605 (9) −0.33315 (19) 0.0701 (5) H22 0.4792 1.1305 −0.3955 0.084</em> C23 0.6886 (2) 1.15008 (8) −0.2904 (2) 0.0662 (5) C24 0.8184 (2) 1.12962 (10) −0.1991 (2) 0.0727 (6) H24 0.9011 1.1530 −0.1718 0.087<em> C25 0.8234 (2) 1.07410 (9) −0.14903 (19) 0.0655 (5) H25 0.9106 1.0599 −0.0875 0.079</em> C26 0.7429 (2) 0.74050 (9) 0.3414 (2) 0.0749 (6) H26A 0.6442 0.7270 0.3176 0.090<em> H26B 0.7923 0.7385 0.4351 0.090</em> C27 0.8169 (2) 0.70030 (9) 0.2829 (2) 0.0776 (6) H27 0.8222 0.6608 0.3062 0.093<em> C28 0.8743 (3) 0.71473 (12) 0.2031 (3) 0.0922 (7) H28A 0.8718 0.7537 0.1768 0.111</em> H28B 0.9182 0.6862 0.1720 0.111* N1 0.67395 (14) 0.88059 (7) 0.17487 (13) 0.0554 (4) N2 0.73969 (16) 0.80148 (7) 0.30080 (15) 0.0633 (4) N3 0.82302 (15) 0.96221 (7) −0.04143 (14) 0.0606 (4) N4 0.6801 (3) 1.20974 (9) −0.3438 (2) 0.0907 (6) O1 0.52115 (15) 0.79872 (6) 0.12021 (14) 0.0768 (4) O2 0.73990 (14) 1.01619 (6) 0.18463 (13) 0.0677 (4) O3 1.27476 (15) 0.97262 (6) 0.53085 (13) 0.0835 (4) O4 0.80057 (12) 0.90603 (6) 0.00001 (12) 0.0663 (4) O5 0.5638 (2) 1.22624 (8) −0.4262 (2) 0.1111 (6) O6 0.7864 (2) 1.24061 (9) −0.3026 (3) 0.1445 (9) Atomic displacement parameters (Å 2 ) U supplementary materials sup-5<br/><strong>B</strong>: nan</p>\n",
       "</blockquote>\n",
       "<p>7 more</p></details>"
      ],
      "text/plain": [
       "<IPython.core.display.HTML object>"
      ]
     },
     "metadata": {},
     "output_type": "display_data"
    },
    {
     "data": {
      "text/markdown": [
       "<hr/>"
      ],
      "text/plain": [
       "<IPython.core.display.Markdown object>"
      ]
     },
     "metadata": {},
     "output_type": "display_data"
    },
    {
     "data": {
      "text/markdown": [
       "# Field: table_labels"
      ],
      "text/plain": [
       "<IPython.core.display.Markdown object>"
      ]
     },
     "metadata": {},
     "output_type": "display_data"
    },
    {
     "data": {
      "text/markdown": [
       "## Dataset: pmc-sample-1943-cc-by-subset (table_labels levenshtein)"
      ],
      "text/plain": [
       "<IPython.core.display.Markdown object>"
      ]
     },
     "metadata": {},
     "output_type": "display_data"
    },
    {
     "data": {
      "text/html": [
       "<details><summary>Comparison: grobid-tei vs cermine</summary><p><strong>E</strong>: expected, <strong>A</strong>: pmc-sample-1943-cc-by-subset grobid-tei, <strong>B</strong>: pmc-sample-1943-cc-by-subset cermine (table_labels levenshtein)</p>\n",
       "<h4>grobid-tei [0 : 1] cermine (0)</h4>\n",
       "<p>There are 0 samples where grobid-tei got it wrong, but cermine got it right.</p>\n",
       "<h4>grobid-tei [1 : 0] cermine (0)</h4>\n",
       "<p>There are 0 samples where grobid-tei got it right, but cermine got it wrong.</p>\n",
       "<h4>grobid-tei [0 : 0] cermine (10)</h4>\n",
       "<p>There are 10 samples where both grobid-tei and cermine got it wrong.</p>\n",
       "<blockquote>\n",
       "<p><code>aas0055-0039.nxml</code> \"Phosphate-containing dialysis solution prevents hypophosphatemia during continuous renal replacement therapy\"<br/><strong>E</strong>: Table 1, Table 2, Table 3, Table 5, Table 4<br/><strong>A</strong>: Table 1 Fluid composition., Table 2, Table 3 Baseline characteristics of study patients and delivered CRRT., Table 4 Serum solute concentrations (mmol/l) during CRRT with the phosphate containing dialysis fluid for patients in group 3., Table 5<br/><strong>B</strong>: nan</p>\n",
       "<p><code>d-67-00463.nxml</code> \"Pi sampling: a methodical and flexible approach to initial macromolecular crystallization screening\"<br/><strong>E</strong>: nan<br/><strong>A</strong>: Table 2, Table 3 ', Table 3 (continued), Table 4 Final formulation of the Pi-PEG screen.<br/><strong>B</strong>: nan</p>\n",
       "<p><code>e-67-o1363.nxml</code> \"3-Allyl-1-{[3-(4-nitro­phen­yl)-4,5-dihydro-1,3-oxazol-5-yl]meth­yl}-1H-anthra[1,2-d]imidazole-2,6,11(3H)-trione\"<br/><strong>E</strong>: nan<br/><strong>A</strong>: Table 1, Refinement . Refinement of F 2 against ALL reflections. The weighted R-factor wR and goodness of fit S are based on F 2 , conventional R-factors R are based on F, with F set to zero for negative F 2 . The threshold expression of F 2 &gt; 2σ(F 2 ) is used only for calculating R- factors(gt) etc. and is not relevant to the choice of reflections for refinement. R-factors based on F 2 are statistically about twice as large as those based on F, and R-factors based on ALL data will be even larger.11 U 22 U 33 U 12 U 13 U 23<br/><strong>B</strong>: nan</p>\n",
       "</blockquote>\n",
       "<p>7 more</p></details>"
      ],
      "text/plain": [
       "<IPython.core.display.HTML object>"
      ]
     },
     "metadata": {},
     "output_type": "display_data"
    },
    {
     "data": {
      "text/markdown": [
       "## Dataset: pmc-sample-1943-cc-by-subset (table_labels exact)"
      ],
      "text/plain": [
       "<IPython.core.display.Markdown object>"
      ]
     },
     "metadata": {},
     "output_type": "display_data"
    },
    {
     "data": {
      "text/html": [
       "<details><summary>Comparison: grobid-tei vs cermine</summary><p><strong>E</strong>: expected, <strong>A</strong>: pmc-sample-1943-cc-by-subset grobid-tei, <strong>B</strong>: pmc-sample-1943-cc-by-subset cermine (table_labels exact)</p>\n",
       "<h4>grobid-tei [0 : 1] cermine (0)</h4>\n",
       "<p>There are 0 samples where grobid-tei got it wrong, but cermine got it right.</p>\n",
       "<h4>grobid-tei [1 : 0] cermine (0)</h4>\n",
       "<p>There are 0 samples where grobid-tei got it right, but cermine got it wrong.</p>\n",
       "<h4>grobid-tei [0 : 0] cermine (10)</h4>\n",
       "<p>There are 10 samples where both grobid-tei and cermine got it wrong.</p>\n",
       "<blockquote>\n",
       "<p><code>aas0055-0039.nxml</code> \"Phosphate-containing dialysis solution prevents hypophosphatemia during continuous renal replacement therapy\"<br/><strong>E</strong>: Table 1, Table 2, Table 3, Table 5, Table 4<br/><strong>A</strong>: Table 1 Fluid composition., Table 2, Table 3 Baseline characteristics of study patients and delivered CRRT., Table 4 Serum solute concentrations (mmol/l) during CRRT with the phosphate containing dialysis fluid for patients in group 3., Table 5<br/><strong>B</strong>: nan</p>\n",
       "<p><code>d-67-00463.nxml</code> \"Pi sampling: a methodical and flexible approach to initial macromolecular crystallization screening\"<br/><strong>E</strong>: nan<br/><strong>A</strong>: Table 2, Table 3 ', Table 3 (continued), Table 4 Final formulation of the Pi-PEG screen.<br/><strong>B</strong>: nan</p>\n",
       "<p><code>e-67-o1363.nxml</code> \"3-Allyl-1-{[3-(4-nitro­phen­yl)-4,5-dihydro-1,3-oxazol-5-yl]meth­yl}-1H-anthra[1,2-d]imidazole-2,6,11(3H)-trione\"<br/><strong>E</strong>: nan<br/><strong>A</strong>: Table 1, Refinement . Refinement of F 2 against ALL reflections. The weighted R-factor wR and goodness of fit S are based on F 2 , conventional R-factors R are based on F, with F set to zero for negative F 2 . The threshold expression of F 2 &gt; 2σ(F 2 ) is used only for calculating R- factors(gt) etc. and is not relevant to the choice of reflections for refinement. R-factors based on F 2 are statistically about twice as large as those based on F, and R-factors based on ALL data will be even larger.11 U 22 U 33 U 12 U 13 U 23<br/><strong>B</strong>: nan</p>\n",
       "</blockquote>\n",
       "<p>7 more</p></details>"
      ],
      "text/plain": [
       "<IPython.core.display.HTML object>"
      ]
     },
     "metadata": {},
     "output_type": "display_data"
    },
    {
     "data": {
      "text/markdown": [
       "<hr/>"
      ],
      "text/plain": [
       "<IPython.core.display.Markdown object>"
      ]
     },
     "metadata": {},
     "output_type": "display_data"
    },
    {
     "data": {
      "text/markdown": [
       "# Field: table_captions"
      ],
      "text/plain": [
       "<IPython.core.display.Markdown object>"
      ]
     },
     "metadata": {},
     "output_type": "display_data"
    },
    {
     "data": {
      "text/markdown": [
       "## Dataset: pmc-sample-1943-cc-by-subset (table_captions levenshtein)"
      ],
      "text/plain": [
       "<IPython.core.display.Markdown object>"
      ]
     },
     "metadata": {},
     "output_type": "display_data"
    },
    {
     "data": {
      "text/html": [
       "<details><summary>Comparison: grobid-tei vs cermine</summary><p><strong>E</strong>: expected, <strong>A</strong>: pmc-sample-1943-cc-by-subset grobid-tei, <strong>B</strong>: pmc-sample-1943-cc-by-subset cermine (table_captions levenshtein)</p>\n",
       "<h4>grobid-tei [0 : 1] cermine (0)</h4>\n",
       "<p>There are 0 samples where grobid-tei got it wrong, but cermine got it right.</p>\n",
       "<h4>grobid-tei [1 : 0] cermine (0)</h4>\n",
       "<p>There are 0 samples where grobid-tei got it right, but cermine got it wrong.</p>\n",
       "<h4>grobid-tei [0 : 0] cermine (10)</h4>\n",
       "<p>There are 10 samples where both grobid-tei and cermine got it wrong.</p>\n",
       "<blockquote>\n",
       "<p><code>aas0055-0039.nxml</code> \"Phosphate-containing dialysis solution prevents hypophosphatemia during continuous renal replacement therapy\"<br/><strong>E</strong>: Fluid composition., Main diagnoses leading to intensive care of the study groups., Baseline characteristics of study patients and delivered CRRT., Serum values (mmol/l, kPa) during CRRT with the phosphate-containing dialysis fluid., Serum solute concentrations (mmol/l) during CRRT with the phosphate containing dialysis fluid for patients in group 3.<br/><strong>A</strong>: , , , , <br/><strong>B</strong>: nan</p>\n",
       "<p><code>d-67-00463.nxml</code> \"Pi sampling: a methodical and flexible approach to initial macromolecular crystallization screening\"<br/><strong>E</strong>: nan<br/><strong>A</strong>: , , , <br/><strong>B</strong>: nan</p>\n",
       "<p><code>e-67-o1363.nxml</code> \"3-Allyl-1-{[3-(4-nitro­phen­yl)-4,5-dihydro-1,3-oxazol-5-yl]meth­yl}-1H-anthra[1,2-d]imidazole-2,6,11(3H)-trione\"<br/><strong>E</strong>: nan<br/><strong>A</strong>: , <br/><strong>B</strong>: nan</p>\n",
       "</blockquote>\n",
       "<p>7 more</p></details>"
      ],
      "text/plain": [
       "<IPython.core.display.HTML object>"
      ]
     },
     "metadata": {},
     "output_type": "display_data"
    },
    {
     "data": {
      "text/markdown": [
       "## Dataset: pmc-sample-1943-cc-by-subset (table_captions exact)"
      ],
      "text/plain": [
       "<IPython.core.display.Markdown object>"
      ]
     },
     "metadata": {},
     "output_type": "display_data"
    },
    {
     "data": {
      "text/html": [
       "<details><summary>Comparison: grobid-tei vs cermine</summary><p><strong>E</strong>: expected, <strong>A</strong>: pmc-sample-1943-cc-by-subset grobid-tei, <strong>B</strong>: pmc-sample-1943-cc-by-subset cermine (table_captions exact)</p>\n",
       "<h4>grobid-tei [0 : 1] cermine (0)</h4>\n",
       "<p>There are 0 samples where grobid-tei got it wrong, but cermine got it right.</p>\n",
       "<h4>grobid-tei [1 : 0] cermine (0)</h4>\n",
       "<p>There are 0 samples where grobid-tei got it right, but cermine got it wrong.</p>\n",
       "<h4>grobid-tei [0 : 0] cermine (10)</h4>\n",
       "<p>There are 10 samples where both grobid-tei and cermine got it wrong.</p>\n",
       "<blockquote>\n",
       "<p><code>aas0055-0039.nxml</code> \"Phosphate-containing dialysis solution prevents hypophosphatemia during continuous renal replacement therapy\"<br/><strong>E</strong>: Fluid composition., Main diagnoses leading to intensive care of the study groups., Baseline characteristics of study patients and delivered CRRT., Serum values (mmol/l, kPa) during CRRT with the phosphate-containing dialysis fluid., Serum solute concentrations (mmol/l) during CRRT with the phosphate containing dialysis fluid for patients in group 3.<br/><strong>A</strong>: , , , , <br/><strong>B</strong>: nan</p>\n",
       "<p><code>d-67-00463.nxml</code> \"Pi sampling: a methodical and flexible approach to initial macromolecular crystallization screening\"<br/><strong>E</strong>: nan<br/><strong>A</strong>: , , , <br/><strong>B</strong>: nan</p>\n",
       "<p><code>e-67-o1363.nxml</code> \"3-Allyl-1-{[3-(4-nitro­phen­yl)-4,5-dihydro-1,3-oxazol-5-yl]meth­yl}-1H-anthra[1,2-d]imidazole-2,6,11(3H)-trione\"<br/><strong>E</strong>: nan<br/><strong>A</strong>: , <br/><strong>B</strong>: nan</p>\n",
       "</blockquote>\n",
       "<p>7 more</p></details>"
      ],
      "text/plain": [
       "<IPython.core.display.HTML object>"
      ]
     },
     "metadata": {},
     "output_type": "display_data"
    },
    {
     "data": {
      "text/markdown": [
       "<hr/>"
      ],
      "text/plain": [
       "<IPython.core.display.Markdown object>"
      ]
     },
     "metadata": {},
     "output_type": "display_data"
    },
    {
     "data": {
      "text/markdown": [
       "# Field: table_label_captions"
      ],
      "text/plain": [
       "<IPython.core.display.Markdown object>"
      ]
     },
     "metadata": {},
     "output_type": "display_data"
    },
    {
     "data": {
      "text/markdown": [
       "## Dataset: pmc-sample-1943-cc-by-subset (table_label_captions levenshtein)"
      ],
      "text/plain": [
       "<IPython.core.display.Markdown object>"
      ]
     },
     "metadata": {},
     "output_type": "display_data"
    },
    {
     "data": {
      "text/html": [
       "<details><summary>Comparison: grobid-tei vs cermine</summary><p><strong>E</strong>: expected, <strong>A</strong>: pmc-sample-1943-cc-by-subset grobid-tei, <strong>B</strong>: pmc-sample-1943-cc-by-subset cermine (table_label_captions levenshtein)</p>\n",
       "<h4>grobid-tei [0 : 1] cermine (0)</h4>\n",
       "<p>There are 0 samples where grobid-tei got it wrong, but cermine got it right.</p>\n",
       "<h4>grobid-tei [1 : 0] cermine (2)</h4>\n",
       "<p>There are 2 samples where grobid-tei got it right, but cermine got it wrong.</p>\n",
       "<blockquote>\n",
       "<p><code>sonc50-621.nxml</code> \"Management of cutaneous metastases using electrochemotherapy\"<br/><strong>E</strong>: Table I Patients' characteristics at baseline., Table II Treatment data and response., Table III Choice of anaesthesia according to location of metastases and size.<br/><strong>B</strong>: nan</p>\n",
       "<p><code>apa0100-0653.nxml</code> \"Placental programming of blood pressure in Indian children\"<br/><strong>E</strong>: Table 1 Characteristics of the mothers, placentas, babies and children in the Mysore Parthenon cohort, Table 2 Blood pressure at 9.5 years among boys and girls according to placental size, Table 3 Blood pressure at 9.5 years among girls according to mother’s height and placental size<br/><strong>B</strong>: nan</p>\n",
       "</blockquote>\n",
       "<h4>grobid-tei [0 : 0] cermine (8)</h4>\n",
       "<p>There are 8 samples where both grobid-tei and cermine got it wrong.</p>\n",
       "<blockquote>\n",
       "<p><code>aas0055-0039.nxml</code> \"Phosphate-containing dialysis solution prevents hypophosphatemia during continuous renal replacement therapy\"<br/><strong>E</strong>: Table 1 Fluid composition., Table 2 Main diagnoses leading to intensive care of the study groups., Table 3 Baseline characteristics of study patients and delivered CRRT., Table 5 Serum values (mmol/l, kPa) during CRRT with the phosphate-containing dialysis fluid., Table 4 Serum solute concentrations (mmol/l) during CRRT with the phosphate containing dialysis fluid for patients in group 3.<br/><strong>A</strong>: Table 1 Fluid composition., Table 2, Table 3 Baseline characteristics of study patients and delivered CRRT., Table 4 Serum solute concentrations (mmol/l) during CRRT with the phosphate containing dialysis fluid for patients in group 3., Table 5<br/><strong>B</strong>: nan</p>\n",
       "<p><code>d-67-00463.nxml</code> \"Pi sampling: a methodical and flexible approach to initial macromolecular crystallization screening\"<br/><strong>E</strong>: nan<br/><strong>A</strong>: Table 2, Table 3 ', Table 3 (continued), Table 4 Final formulation of the Pi-PEG screen.<br/><strong>B</strong>: nan</p>\n",
       "<p><code>e-67-o1363.nxml</code> \"3-Allyl-1-{[3-(4-nitro­phen­yl)-4,5-dihydro-1,3-oxazol-5-yl]meth­yl}-1H-anthra[1,2-d]imidazole-2,6,11(3H)-trione\"<br/><strong>E</strong>: nan<br/><strong>A</strong>: Table 1, Refinement . Refinement of F 2 against ALL reflections. The weighted R-factor wR and goodness of fit S are based on F 2 , conventional R-factors R are based on F, with F set to zero for negative F 2 . The threshold expression of F 2 &gt; 2σ(F 2 ) is used only for calculating R- factors(gt) etc. and is not relevant to the choice of reflections for refinement. R-factors based on F 2 are statistically about twice as large as those based on F, and R-factors based on ALL data will be even larger.11 U 22 U 33 U 12 U 13 U 23<br/><strong>B</strong>: nan</p>\n",
       "</blockquote>\n",
       "<p>5 more</p></details>"
      ],
      "text/plain": [
       "<IPython.core.display.HTML object>"
      ]
     },
     "metadata": {},
     "output_type": "display_data"
    },
    {
     "data": {
      "text/markdown": [
       "## Dataset: pmc-sample-1943-cc-by-subset (table_label_captions exact)"
      ],
      "text/plain": [
       "<IPython.core.display.Markdown object>"
      ]
     },
     "metadata": {},
     "output_type": "display_data"
    },
    {
     "data": {
      "text/html": [
       "<details><summary>Comparison: grobid-tei vs cermine</summary><p><strong>E</strong>: expected, <strong>A</strong>: pmc-sample-1943-cc-by-subset grobid-tei, <strong>B</strong>: pmc-sample-1943-cc-by-subset cermine (table_label_captions exact)</p>\n",
       "<h4>grobid-tei [0 : 1] cermine (0)</h4>\n",
       "<p>There are 0 samples where grobid-tei got it wrong, but cermine got it right.</p>\n",
       "<h4>grobid-tei [1 : 0] cermine (0)</h4>\n",
       "<p>There are 0 samples where grobid-tei got it right, but cermine got it wrong.</p>\n",
       "<h4>grobid-tei [0 : 0] cermine (10)</h4>\n",
       "<p>There are 10 samples where both grobid-tei and cermine got it wrong.</p>\n",
       "<blockquote>\n",
       "<p><code>aas0055-0039.nxml</code> \"Phosphate-containing dialysis solution prevents hypophosphatemia during continuous renal replacement therapy\"<br/><strong>E</strong>: Table 1 Fluid composition., Table 2 Main diagnoses leading to intensive care of the study groups., Table 3 Baseline characteristics of study patients and delivered CRRT., Table 5 Serum values (mmol/l, kPa) during CRRT with the phosphate-containing dialysis fluid., Table 4 Serum solute concentrations (mmol/l) during CRRT with the phosphate containing dialysis fluid for patients in group 3.<br/><strong>A</strong>: Table 1 Fluid composition., Table 2, Table 3 Baseline characteristics of study patients and delivered CRRT., Table 4 Serum solute concentrations (mmol/l) during CRRT with the phosphate containing dialysis fluid for patients in group 3., Table 5<br/><strong>B</strong>: nan</p>\n",
       "<p><code>d-67-00463.nxml</code> \"Pi sampling: a methodical and flexible approach to initial macromolecular crystallization screening\"<br/><strong>E</strong>: nan<br/><strong>A</strong>: Table 2, Table 3 ', Table 3 (continued), Table 4 Final formulation of the Pi-PEG screen.<br/><strong>B</strong>: nan</p>\n",
       "<p><code>e-67-o1363.nxml</code> \"3-Allyl-1-{[3-(4-nitro­phen­yl)-4,5-dihydro-1,3-oxazol-5-yl]meth­yl}-1H-anthra[1,2-d]imidazole-2,6,11(3H)-trione\"<br/><strong>E</strong>: nan<br/><strong>A</strong>: Table 1, Refinement . Refinement of F 2 against ALL reflections. The weighted R-factor wR and goodness of fit S are based on F 2 , conventional R-factors R are based on F, with F set to zero for negative F 2 . The threshold expression of F 2 &gt; 2σ(F 2 ) is used only for calculating R- factors(gt) etc. and is not relevant to the choice of reflections for refinement. R-factors based on F 2 are statistically about twice as large as those based on F, and R-factors based on ALL data will be even larger.11 U 22 U 33 U 12 U 13 U 23<br/><strong>B</strong>: nan</p>\n",
       "</blockquote>\n",
       "<p>7 more</p></details>"
      ],
      "text/plain": [
       "<IPython.core.display.HTML object>"
      ]
     },
     "metadata": {},
     "output_type": "display_data"
    }
   ],
   "source": [
    "def show_comparative_examples(inspect_name, compare_with_name, field_name, evaluation_method, limit=3):\n",
    "    inspect_df = details_df_map[inspect_name].merge(\n",
    "        details_df_map[compare_with_name],\n",
    "        how='outer',\n",
    "        on=['target_file', 'field_name', 'evaluation_method', 'expected'],\n",
    "        suffixes=['', '_other']\n",
    "    )\n",
    "\n",
    "    title_map = inspect_df[\n",
    "        (inspect_df['field_name'] == 'title') &\n",
    "        (inspect_df['evaluation_method'] == 'exact')\n",
    "    ][['target_file', 'expected']].groupby('target_file').first()['expected'].to_dict()\n",
    "\n",
    "    inspect_df = inspect_df[inspect_df['field_name'] == field_name]\n",
    "    inspect_df = inspect_df[inspect_df['evaluation_method'] == evaluation_method]\n",
    "\n",
    "    md = []\n",
    "\n",
    "    md.append('**E**: expected, **A**: %s, **B**: %s (%s %s)' % (\n",
    "        inspect_name, compare_with_name, field_name, evaluation_method\n",
    "    ))\n",
    "    \n",
    "    short_inspect_name = short_name(inspect_name)\n",
    "    short_other_name = short_name(compare_with_name)\n",
    "\n",
    "    incorrect_inspect_df = inspect_df[(inspect_df['tp'] == 0) & (inspect_df['tp_other'] == 1)]\n",
    "    md.append('#### %s [0 : 1] %s (%d)' % (short_inspect_name, short_other_name, len(incorrect_inspect_df)))\n",
    "    md.append('There are %d samples where %s got it wrong, but %s got it right.' % (\n",
    "        len(incorrect_inspect_df), short_inspect_name, short_other_name\n",
    "    ))\n",
    "    for row in incorrect_inspect_df[:limit].to_dict(orient='rows'):\n",
    "        md.append('> `%s` \"%s\"<br/>**E**: %s<br/>**A**: %s' % (\n",
    "            row['target_file'], title_map.get(row['target_file']), row['expected'], row['actual']\n",
    "        ))\n",
    "    if len(incorrect_inspect_df) > limit:\n",
    "        md.append('%d more' % (len(incorrect_inspect_df) - limit))\n",
    "\n",
    "    correct_inspect_df = inspect_df[(inspect_df['tp'] == 1) & (inspect_df['tp_other'] == 0)]\n",
    "    md.append('#### %s [1 : 0] %s (%d)' % (short_inspect_name, short_other_name, len(correct_inspect_df)))\n",
    "    md.append('There are %d samples where %s got it right, but %s got it wrong.' % (\n",
    "        len(correct_inspect_df), short_inspect_name, short_other_name\n",
    "    ))\n",
    "    for row in correct_inspect_df[:limit].to_dict(orient='rows'):\n",
    "        md.append('> `%s` \"%s\"<br/>**E**: %s<br/>**B**: %s' % (\n",
    "            row['target_file'], title_map.get(row['target_file']), row['expected'], row['actual_other']\n",
    "        ))\n",
    "    if len(correct_inspect_df) > limit:\n",
    "        md.append('%d more' % (len(correct_inspect_df) - limit))\n",
    "\n",
    "    both_incorrect_inspect_df = inspect_df[(inspect_df['tp'] == 0) & (inspect_df['tp_other'] == 0)]\n",
    "    md.append('#### %s [0 : 0] %s (%d)' % (short_inspect_name, short_other_name, len(both_incorrect_inspect_df)))\n",
    "    md.append('There are %d samples where both %s and %s got it wrong.' % (\n",
    "        len(both_incorrect_inspect_df), short_inspect_name, short_other_name\n",
    "    ))\n",
    "    for row in both_incorrect_inspect_df[:limit].to_dict(orient='rows'):\n",
    "        md.append('> `%s` \"%s\"<br/>**E**: %s<br/>**A**: %s<br/>**B**: %s' % (\n",
    "            row['target_file'], title_map.get(row['target_file']),\n",
    "            row['expected'], row['actual'], row['actual_other']\n",
    "        ))\n",
    "    if len(both_incorrect_inspect_df) > limit:\n",
    "        md.append('%d more' % (len(both_incorrect_inspect_df) - limit))\n",
    "    return '\\n\\n'.join(md)\n",
    "\n",
    "printmd('# Comparing results between tools')\n",
    "for field_name in field_names:\n",
    "    printmd('<hr/>')\n",
    "    printmd('# Field: %s' % field_name)\n",
    "    for evaluation_method in evaluation_methods:\n",
    "        for prefix in prefix_list:\n",
    "            printmd('## Dataset: %s (%s %s)' % (prefix, field_name, evaluation_method))\n",
    "            names_with_prefix = [name for name in all_result_names if name.startswith(prefix)]\n",
    "            for i, inspect_name in enumerate(names_with_prefix[:-1]):\n",
    "                for other_name in names_with_prefix[(1 + i):]:\n",
    "                    title = 'Comparison: %s vs %s' % (short_name(inspect_name), short_name(other_name))\n",
    "                    content = markdown(show_comparative_examples(\n",
    "                        inspect_name, other_name,\n",
    "                        field_name=field_name, evaluation_method=evaluation_method\n",
    "                    ))\n",
    "                    display(HTML('<details><summary>%s</summary>%s</details>' % (title, content)))"
   ]
  }
 ],
 "metadata": {
  "kernelspec": {
   "display_name": "Python 3",
   "language": "python",
   "name": "python3"
  },
  "language_info": {
   "codemirror_mode": {
    "name": "ipython",
    "version": 3
   },
   "file_extension": ".py",
   "mimetype": "text/x-python",
   "name": "python",
   "nbconvert_exporter": "python",
   "pygments_lexer": "ipython3",
   "version": "3.5.2"
  }
 },
 "nbformat": 4,
 "nbformat_minor": 2
}
