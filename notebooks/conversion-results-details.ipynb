{
 "cells": [
  {
   "cell_type": "code",
   "execution_count": 1,
   "metadata": {
    "tags": [
     "parameters"
    ]
   },
   "outputs": [],
   "source": [
    "data_path = '../example-data'\n",
    "# data_path = 'gs://elife-public-data/sciencebeam/datasets'\n",
    "dataset_relative_paths = ['pmc-sample-1943-cc-by-subset']\n",
    "dataset_suffixes = []\n",
    "output_path_suffix = '-results'\n",
    "tool_names = ['grobid-tei', 'cermine']\n",
    "# tool_names = ['grobid-tei', 'cermine', 'scienceparse-v1', 'scienceparse-v2']\n",
    "affiliation_field_names = ['affiliation_strings', 'affiliation_institution']\n",
    "reference_field_names = [\n",
    "    'first_reference_fields', 'first_reference_title',\n",
    "    'reference_fields', 'reference_title', 'reference_year', 'reference_source', 'reference_volume', 'reference_fpage', 'reference_lpage'\n",
    "]\n",
    "table_field_names = ['tables', 'table_strings', 'table_labels', 'table_captions', 'table_label_captions']\n",
    "figure_field_names = ['figure_labels', 'figure_captions', 'figure_label_captions']\n",
    "body_field_names = ['section_titles']\n",
    "field_names = [\n",
    "    'title',\n",
    "    'first_author_full_name', 'author_full_names',\n",
    "    'abstract'\n",
    "] + body_field_names + affiliation_field_names + reference_field_names + table_field_names + figure_field_names\n",
    "evaluation_methods = ['levenshtein', 'exact']\n",
    "details_filename = 'results-00000-of-00001.csv'\n",
    "show_tables = False"
   ]
  },
  {
   "cell_type": "markdown",
   "metadata": {},
   "source": [
    "# Conversion Results Details"
   ]
  },
  {
   "cell_type": "code",
   "execution_count": 2,
   "metadata": {},
   "outputs": [],
   "source": [
    "# This Conversion Results Notebook by default use the very small example dataset\n",
    "# You may pass in other parameters, e.g.:\n",
    "#   $papermill conversion-results-tools.ipynb conversion-results-tools-configured.ipynb -p data_path '/my/other/data/path'"
   ]
  },
  {
   "cell_type": "code",
   "execution_count": 3,
   "metadata": {},
   "outputs": [],
   "source": [
    "%matplotlib inline"
   ]
  },
  {
   "cell_type": "code",
   "execution_count": 4,
   "metadata": {},
   "outputs": [],
   "source": [
    "import matplotlib\n",
    "matplotlib.style.use('ggplot')"
   ]
  },
  {
   "cell_type": "code",
   "execution_count": 5,
   "metadata": {},
   "outputs": [],
   "source": [
    "import warnings\n",
    "warnings.filterwarnings('ignore')\n",
    "\n",
    "from datetime import datetime\n",
    "import time\n",
    "import os\n",
    "import subprocess\n",
    "import re\n",
    "from hashlib import sha1\n",
    "\n",
    "import pandas as pd\n",
    "from markdown import markdown\n",
    "from IPython.display import display, HTML\n",
    "\n",
    "warnings.filterwarnings('default')"
   ]
  },
  {
   "cell_type": "code",
   "execution_count": 6,
   "metadata": {},
   "outputs": [
    {
     "data": {
      "text/html": [
       "\n",
       "<!-- vertical accordion CSS -->\n",
       "<style>\n",
       "details {\n",
       "  padding: 15px;\n",
       "  border: 1px solid rgba(0,0,0,.1);\n",
       "}\n",
       "\n",
       "details + details {\n",
       "  margin-top: 20px;\n",
       "}\n",
       "\n",
       "details[open] {\n",
       "  min-height: 30px;\n",
       "}\n",
       "\n",
       "summary {\n",
       "  font-weight: 500;\n",
       "  cursor: pointer;\n",
       "}\n",
       "\n",
       "summary:focus {\n",
       "  outline: none;\n",
       "}\n",
       "</style>\n"
      ],
      "text/plain": [
       "<IPython.core.display.HTML object>"
      ]
     },
     "metadata": {},
     "output_type": "display_data"
    }
   ],
   "source": [
    "display(HTML(\n",
    "'''\n",
    "<!-- vertical accordion CSS -->\n",
    "<style>\n",
    "details {\n",
    "  padding: 15px;\n",
    "  border: 1px solid rgba(0,0,0,.1);\n",
    "}\n",
    "\n",
    "details + details {\n",
    "  margin-top: 20px;\n",
    "}\n",
    "\n",
    "details[open] {\n",
    "  min-height: 30px;\n",
    "}\n",
    "\n",
    "summary {\n",
    "  font-weight: 500;\n",
    "  cursor: pointer;\n",
    "}\n",
    "\n",
    "summary:focus {\n",
    "  outline: none;\n",
    "}\n",
    "</style>\n",
    "'''))"
   ]
  },
  {
   "cell_type": "code",
   "execution_count": 7,
   "metadata": {},
   "outputs": [],
   "source": [
    "def parse_list(s):\n",
    "    if isinstance(s, list):\n",
    "        return s\n",
    "    return [x.strip() for x in s.split(',') if x.strip()]\n",
    "\n",
    "dataset_relative_paths = parse_list(dataset_relative_paths)\n",
    "tool_names = parse_list(tool_names)\n",
    "field_names = parse_list(field_names)\n",
    "evaluation_methods = parse_list(evaluation_methods)\n",
    "dataset_suffixes = dict(parse_list(dataset_suffixes))"
   ]
  },
  {
   "cell_type": "code",
   "execution_count": 8,
   "metadata": {},
   "outputs": [],
   "source": [
    "all_result_paths = [\n",
    "    (\n",
    "        '%s%s %s' % (dataset_relative_path, dataset_suffix, tool),\n",
    "        os.path.join(\n",
    "            data_path,\n",
    "            '%s%s/evaluation-results/%s%s' % (\n",
    "                dataset_relative_path,\n",
    "                output_path_suffix,\n",
    "                tool,\n",
    "                dataset_suffix\n",
    "            )\n",
    "        )\n",
    "    )\n",
    "    for dataset_relative_path in dataset_relative_paths\n",
    "    for dataset_suffix in dataset_suffixes.get(dataset_relative_path, [''])\n",
    "    for tool in tool_names\n",
    "]\n",
    "\n",
    "prefix_list = [\n",
    "    '%s%s' % (dataset_relative_path, dataset_suffix)\n",
    "    for dataset_relative_path in dataset_relative_paths\n",
    "    for dataset_suffix in dataset_suffixes.get(dataset_relative_path, [''])\n",
    "]"
   ]
  },
  {
   "cell_type": "code",
   "execution_count": 9,
   "metadata": {},
   "outputs": [],
   "source": [
    "all_result_names = [name for name, _ in all_result_paths]"
   ]
  },
  {
   "cell_type": "code",
   "execution_count": 10,
   "metadata": {},
   "outputs": [],
   "source": [
    "def printmd(s):\n",
    "    try:\n",
    "        s = s.decode('unicode_escape')\n",
    "    except AttributeError:\n",
    "        pass\n",
    "    display(HTML(markdown(s)))"
   ]
  },
  {
   "cell_type": "code",
   "execution_count": 11,
   "metadata": {},
   "outputs": [],
   "source": [
    "def gs_file_time(file_url):\n",
    "    timestamp_match = re.search(r'\\s(\\d{4}-[^ ]+)\\s', subprocess.check_output('gsutil ls -l \"%s\"' % file_url, shell=True).decode('utf-8'))\n",
    "    return time.mktime(datetime.strptime(timestamp_match.group(1), \"%Y-%m-%dT%H:%M:%SZ\").timetuple())\n",
    "\n",
    "def gs_cp(file_url, target_file):\n",
    "    subprocess.check_output('gsutil cp -P \"%s\" \"%s\"' % (file_url, target_file), shell=True)\n",
    "\n",
    "\n",
    "def retrieve_local_copy_if_remote(file_url):\n",
    "    if file_url.startswith('gs://'):\n",
    "        file_time = gs_file_time(file_url)\n",
    "\n",
    "        local_filename = os.path.join('../.temp', '%s-%s' % (\n",
    "            sha1(file_url.encode('utf-8')).hexdigest(), os.path.basename(file_url)\n",
    "        ))\n",
    "        if not os.path.isfile(local_filename) or file_time > os.path.getmtime(local_filename):\n",
    "            gs_cp(file_url, local_filename)\n",
    "            # would be nice if gsutil did actually copy the creation time, let's do it here in a hacky way\n",
    "            os.utime(local_filename, (file_time, file_time))\n",
    "        return local_filename\n",
    "\n",
    "    return file_url\n",
    "\n",
    "def load_result_map(all_result_paths, filename):\n",
    "    df_map = {}\n",
    "    for name, result_path in all_result_paths:\n",
    "        full_filename = retrieve_local_copy_if_remote(os.path.join(result_path, filename))\n",
    "        printmd('**Timestamp:** %s (%s)' % (datetime.fromtimestamp(os.path.getmtime(full_filename)), name))\n",
    "        df_map[name] = pd.read_csv(full_filename)\n",
    "        if show_tables:\n",
    "            display(df_map[name].head(3))\n",
    "    return df_map"
   ]
  },
  {
   "cell_type": "code",
   "execution_count": 12,
   "metadata": {},
   "outputs": [
    {
     "data": {
      "text/html": [
       "<h2>Details Files</h2>"
      ],
      "text/plain": [
       "<IPython.core.display.HTML object>"
      ]
     },
     "metadata": {},
     "output_type": "display_data"
    },
    {
     "data": {
      "text/html": [
       "<p><strong>Timestamp:</strong> 2019-01-11 17:34:07.868718 (pmc-sample-1943-cc-by-subset grobid-tei)</p>"
      ],
      "text/plain": [
       "<IPython.core.display.HTML object>"
      ]
     },
     "metadata": {},
     "output_type": "display_data"
    },
    {
     "data": {
      "text/html": [
       "<p><strong>Timestamp:</strong> 2019-01-11 17:34:07.864718 (pmc-sample-1943-cc-by-subset cermine)</p>"
      ],
      "text/plain": [
       "<IPython.core.display.HTML object>"
      ]
     },
     "metadata": {},
     "output_type": "display_data"
    }
   ],
   "source": [
    "printmd('## Details Files')\n",
    "details_df_map = load_result_map(all_result_paths, details_filename)"
   ]
  },
  {
   "cell_type": "code",
   "execution_count": 13,
   "metadata": {},
   "outputs": [
    {
     "data": {
      "text/html": [
       "<h3>Evaluation File States</h3>"
      ],
      "text/plain": [
       "<IPython.core.display.HTML object>"
      ]
     },
     "metadata": {},
     "output_type": "display_data"
    },
    {
     "data": {
      "text/html": [
       "<p><strong>Evaluation methods:</strong> exact, levenshtein</p>"
      ],
      "text/plain": [
       "<IPython.core.display.HTML object>"
      ]
     },
     "metadata": {},
     "output_type": "display_data"
    },
    {
     "data": {
      "text/html": [
       "<p><strong>Field names:</strong> abstract, affiliation_institution, affiliation_strings, author_full_names, author_surnames, figure_captions, figure_label_captions, figure_labels, first_author_full_name, first_author_surname, first_reference_fields, first_reference_title, keywords, reference_fields, reference_fpage, reference_lpage, reference_source, reference_title, reference_volume, reference_year, section_titles, table_captions, table_label_captions, table_labels, table_strings, tables, title</p>"
      ],
      "text/plain": [
       "<IPython.core.display.HTML object>"
      ]
     },
     "metadata": {},
     "output_type": "display_data"
    }
   ],
   "source": [
    "printmd('### Evaluation File States')\n",
    "printmd('**Evaluation methods:** %s' % ', '.join(sorted(set(\n",
    "    details_df_map[all_result_names[0]]['evaluation_method']\n",
    "))))\n",
    "printmd('**Field names:** %s' % ', '.join(sorted(set(\n",
    "    details_df_map[all_result_names[0]]['field_name'].dropna()\n",
    "))))"
   ]
  },
  {
   "cell_type": "code",
   "execution_count": 14,
   "metadata": {},
   "outputs": [],
   "source": [
    "def short_name(full_name):\n",
    "    return full_name.split(' ')[-1]"
   ]
  },
  {
   "cell_type": "code",
   "execution_count": 15,
   "metadata": {},
   "outputs": [],
   "source": [
    "def get_title_map(df):\n",
    "    return df[\n",
    "        (df['field_name'] == 'title') &\n",
    "        (df['evaluation_method'] == 'exact')\n",
    "    ][['target_file', 'expected']].groupby('target_file').first()['expected'].to_dict()\n",
    "\n",
    "title_map = get_title_map(details_df_map[all_result_names[0]])"
   ]
  },
  {
   "cell_type": "code",
   "execution_count": 16,
   "metadata": {
    "scrolled": false
   },
   "outputs": [
    {
     "data": {
      "text/html": [
       "<h1>Comparing results between tools</h1>"
      ],
      "text/plain": [
       "<IPython.core.display.HTML object>"
      ]
     },
     "metadata": {},
     "output_type": "display_data"
    },
    {
     "data": {
      "text/html": [
       "<hr/>"
      ],
      "text/plain": [
       "<IPython.core.display.HTML object>"
      ]
     },
     "metadata": {},
     "output_type": "display_data"
    },
    {
     "data": {
      "text/html": [
       "<h1>Field: title</h1>"
      ],
      "text/plain": [
       "<IPython.core.display.HTML object>"
      ]
     },
     "metadata": {},
     "output_type": "display_data"
    },
    {
     "data": {
      "text/html": [
       "<h2>Dataset: pmc-sample-1943-cc-by-subset (title levenshtein)</h2>"
      ],
      "text/plain": [
       "<IPython.core.display.HTML object>"
      ]
     },
     "metadata": {},
     "output_type": "display_data"
    },
    {
     "data": {
      "text/html": [
       "<details><summary>Comparison: grobid-tei vs cermine</summary><p><strong>E</strong>: expected, <strong>A</strong>: pmc-sample-1943-cc-by-subset grobid-tei, <strong>B</strong>: pmc-sample-1943-cc-by-subset cermine (title levenshtein)</p>\n",
       "<h4>grobid-tei [0 : 1] cermine (3)</h4>\n",
       "<p>There are 3 samples where grobid-tei got it wrong, but cermine got it right.</p>\n",
       "<blockquote>\n",
       "<p><code>d-67-00463.nxml</code> \"Pi sampling: a methodical and flexible approach to initial macromolecular crystallization screening\"<br/><strong>E</strong>: Pi sampling: a methodical and flexible approach to initial macromolecular crystallization screening<br/><strong>A</strong>: Biological Crystallography Pi sampling: a methodical and flexible approach to initial macromolecular crystallization screening</p>\n",
       "<p><code>e-67-o1363.nxml</code> \"3-Allyl-1-{[3-(4-nitro­phen­yl)-4,5-dihydro-1,3-oxazol-5-yl]meth­yl}-1H-anthra[1,2-d]imidazole-2,6,11(3H)-trione\"<br/><strong>E</strong>: 3-Allyl-1-{[3-(4-nitro­phen­yl)-4,5-dihydro-1,3-oxazol-5-yl]meth­yl}-1H-anthra[1,2-d]imidazole-2,6,11(3H)-trione<br/><strong>A</strong>: E67, o1363-o1364 Acta Cryst</p>\n",
       "<p><code>f-67-00344.nxml</code> \"Refolding, crystallization and preliminary X-ray crystallographic study of the whole extracellular regions of nectins\"<br/><strong>E</strong>: Refolding, crystallization and preliminary X-ray crystallographic study of the whole extracellular regions of nectins<br/><strong>A</strong>: Structural Biology and Crystallization Communications Refolding, crystallization and preliminary X-ray crystallographic study of the whole extracellular regions of nectins</p>\n",
       "</blockquote>\n",
       "<h4>grobid-tei [1 : 0] cermine (0)</h4>\n",
       "<p>There are 0 samples where grobid-tei got it right, but cermine got it wrong.</p>\n",
       "<h4>grobid-tei [0 : 0] cermine (0)</h4>\n",
       "<p>There are 0 samples where both grobid-tei and cermine got it wrong.</p></details>"
      ],
      "text/plain": [
       "<IPython.core.display.HTML object>"
      ]
     },
     "metadata": {},
     "output_type": "display_data"
    },
    {
     "data": {
      "text/html": [
       "<h2>Dataset: pmc-sample-1943-cc-by-subset (title exact)</h2>"
      ],
      "text/plain": [
       "<IPython.core.display.HTML object>"
      ]
     },
     "metadata": {},
     "output_type": "display_data"
    },
    {
     "data": {
      "text/html": [
       "<details><summary>Comparison: grobid-tei vs cermine</summary><p><strong>E</strong>: expected, <strong>A</strong>: pmc-sample-1943-cc-by-subset grobid-tei, <strong>B</strong>: pmc-sample-1943-cc-by-subset cermine (title exact)</p>\n",
       "<h4>grobid-tei [0 : 1] cermine (1)</h4>\n",
       "<p>There are 1 samples where grobid-tei got it wrong, but cermine got it right.</p>\n",
       "<blockquote>\n",
       "<p><code>f-67-00344.nxml</code> \"Refolding, crystallization and preliminary X-ray crystallographic study of the whole extracellular regions of nectins\"<br/><strong>E</strong>: Refolding, crystallization and preliminary X-ray crystallographic study of the whole extracellular regions of nectins<br/><strong>A</strong>: Structural Biology and Crystallization Communications Refolding, crystallization and preliminary X-ray crystallographic study of the whole extracellular regions of nectins</p>\n",
       "</blockquote>\n",
       "<h4>grobid-tei [1 : 0] cermine (0)</h4>\n",
       "<p>There are 0 samples where grobid-tei got it right, but cermine got it wrong.</p>\n",
       "<h4>grobid-tei [0 : 0] cermine (3)</h4>\n",
       "<p>There are 3 samples where both grobid-tei and cermine got it wrong.</p>\n",
       "<blockquote>\n",
       "<p><code>d-67-00463.nxml</code> \"Pi sampling: a methodical and flexible approach to initial macromolecular crystallization screening\"<br/><strong>E</strong>: Pi sampling: a methodical and flexible approach to initial macromolecular crystallization screening<br/><strong>A</strong>: Biological Crystallography Pi sampling: a methodical and flexible approach to initial macromolecular crystallization screening<br/><strong>B</strong>: Pi sampling: a methodical and flexible approach to initial macromolecular crystallization screening research papers</p>\n",
       "<p><code>e-67-o1363.nxml</code> \"3-Allyl-1-{[3-(4-nitro­phen­yl)-4,5-dihydro-1,3-oxazol-5-yl]meth­yl}-1H-anthra[1,2-d]imidazole-2,6,11(3H)-trione\"<br/><strong>E</strong>: 3-Allyl-1-{[3-(4-nitro­phen­yl)-4,5-dihydro-1,3-oxazol-5-yl]meth­yl}-1H-anthra[1,2-d]imidazole-2,6,11(3H)-trione<br/><strong>A</strong>: E67, o1363-o1364 Acta Cryst<br/><strong>B</strong>: 3-Allyl-1-{[3-(4-nitrophenyl)-4,5- dihydro-1,3-oxazol-5-yl]methyl}-1H- anthra[1,2-d]imidazole-2,6,11(3H)- trione</p>\n",
       "<p><code>ORT-1745-3674-81-405.nxml</code> \"Resection arthroplasty for luxation of the manubrio-sternal joint in rheumatoid arthritis—a case report\"<br/><strong>E</strong>: Resection arthroplasty for luxation of the manubrio-sternal joint in rheumatoid arthritis—a case report<br/><strong>A</strong>: Resection arthroplasty for luxation of the manubrio-sternal joint in rheumatoid arthritis-a case report<br/><strong>B</strong>: Resection arthroplasty for luxation of the manubrio-sternal joint in rheumatoid arthritis-a case report</p>\n",
       "</blockquote></details>"
      ],
      "text/plain": [
       "<IPython.core.display.HTML object>"
      ]
     },
     "metadata": {},
     "output_type": "display_data"
    },
    {
     "data": {
      "text/html": [
       "<hr/>"
      ],
      "text/plain": [
       "<IPython.core.display.HTML object>"
      ]
     },
     "metadata": {},
     "output_type": "display_data"
    },
    {
     "data": {
      "text/html": [
       "<h1>Field: first_author_full_name</h1>"
      ],
      "text/plain": [
       "<IPython.core.display.HTML object>"
      ]
     },
     "metadata": {},
     "output_type": "display_data"
    },
    {
     "data": {
      "text/html": [
       "<h2>Dataset: pmc-sample-1943-cc-by-subset (first_author_full_name levenshtein)</h2>"
      ],
      "text/plain": [
       "<IPython.core.display.HTML object>"
      ]
     },
     "metadata": {},
     "output_type": "display_data"
    },
    {
     "data": {
      "text/html": [
       "<details><summary>Comparison: grobid-tei vs cermine</summary><p><strong>E</strong>: expected, <strong>A</strong>: pmc-sample-1943-cc-by-subset grobid-tei, <strong>B</strong>: pmc-sample-1943-cc-by-subset cermine (first_author_full_name levenshtein)</p>\n",
       "<h4>grobid-tei [0 : 1] cermine (1)</h4>\n",
       "<p>There are 1 samples where grobid-tei got it wrong, but cermine got it right.</p>\n",
       "<blockquote>\n",
       "<p><code>aas0055-0039.nxml</code> \"Phosphate-containing dialysis solution prevents hypophosphatemia during continuous renal replacement therapy\"<br/><strong>E</strong>: M BROMAN<br/><strong>A</strong>: M Broman</p>\n",
       "</blockquote>\n",
       "<h4>grobid-tei [1 : 0] cermine (3)</h4>\n",
       "<p>There are 3 samples where grobid-tei got it right, but cermine got it wrong.</p>\n",
       "<blockquote>\n",
       "<p><code>f-67-00344.nxml</code> \"Refolding, crystallization and preliminary X-ray crystallographic study of the whole extracellular regions of nectins\"<br/><strong>E</strong>: Hirotaka Narita<br/><strong>B</strong>: Laboratory of Supramolecular Crystallography</p>\n",
       "<p><code>soto131-469.nxml</code> \"Visualization and assessment of saccular duct and endolymphatic sinus\"<br/><strong>E</strong>: Hideo Yamane<br/><strong>B</strong>: HIDEO YAMANE</p>\n",
       "<p><code>apa0100-0653.nxml</code> \"Placental programming of blood pressure in Indian children\"<br/><strong>E</strong>: Nicola R Winder<br/><strong>B</strong>: Nicola R Winder (nw@mrc.soton.ac.uk)</p>\n",
       "</blockquote>\n",
       "<h4>grobid-tei [0 : 0] cermine (2)</h4>\n",
       "<p>There are 2 samples where both grobid-tei and cermine got it wrong.</p>\n",
       "<blockquote>\n",
       "<p><code>sobs89-975.nxml</code> \"Camera trocar lifting in office gasless laparoscopic sterilization under local anesthesia\"<br/><strong>E</strong>: Bo S. Bergström<br/><strong>A</strong>: Acta Obstetricia<br/><strong>B</strong>: BO S. BERGSTRÖM</p>\n",
       "<p><code>sonc50-621.nxml</code> \"Management of cutaneous metastases using electrochemotherapy\"<br/><strong>E</strong>: Louise Wichmann Matthiessen<br/><strong>A</strong>: Julie Gehl<br/><strong>B</strong>: LOUISE WICHMANN MATTHIESSEN</p>\n",
       "</blockquote></details>"
      ],
      "text/plain": [
       "<IPython.core.display.HTML object>"
      ]
     },
     "metadata": {},
     "output_type": "display_data"
    },
    {
     "data": {
      "text/html": [
       "<h2>Dataset: pmc-sample-1943-cc-by-subset (first_author_full_name exact)</h2>"
      ],
      "text/plain": [
       "<IPython.core.display.HTML object>"
      ]
     },
     "metadata": {},
     "output_type": "display_data"
    },
    {
     "data": {
      "text/html": [
       "<details><summary>Comparison: grobid-tei vs cermine</summary><p><strong>E</strong>: expected, <strong>A</strong>: pmc-sample-1943-cc-by-subset grobid-tei, <strong>B</strong>: pmc-sample-1943-cc-by-subset cermine (first_author_full_name exact)</p>\n",
       "<h4>grobid-tei [0 : 1] cermine (0)</h4>\n",
       "<p>There are 0 samples where grobid-tei got it wrong, but cermine got it right.</p>\n",
       "<h4>grobid-tei [1 : 0] cermine (3)</h4>\n",
       "<p>There are 3 samples where grobid-tei got it right, but cermine got it wrong.</p>\n",
       "<blockquote>\n",
       "<p><code>f-67-00344.nxml</code> \"Refolding, crystallization and preliminary X-ray crystallographic study of the whole extracellular regions of nectins\"<br/><strong>E</strong>: Hirotaka Narita<br/><strong>B</strong>: Laboratory of Supramolecular Crystallography</p>\n",
       "<p><code>soto131-469.nxml</code> \"Visualization and assessment of saccular duct and endolymphatic sinus\"<br/><strong>E</strong>: Hideo Yamane<br/><strong>B</strong>: HIDEO YAMANE</p>\n",
       "<p><code>apa0100-0653.nxml</code> \"Placental programming of blood pressure in Indian children\"<br/><strong>E</strong>: Nicola R Winder<br/><strong>B</strong>: Nicola R Winder (nw@mrc.soton.ac.uk)</p>\n",
       "</blockquote>\n",
       "<h4>grobid-tei [0 : 0] cermine (3)</h4>\n",
       "<p>There are 3 samples where both grobid-tei and cermine got it wrong.</p>\n",
       "<blockquote>\n",
       "<p><code>aas0055-0039.nxml</code> \"Phosphate-containing dialysis solution prevents hypophosphatemia during continuous renal replacement therapy\"<br/><strong>E</strong>: M BROMAN<br/><strong>A</strong>: M Broman<br/><strong>B</strong>: M. BROMAN</p>\n",
       "<p><code>sobs89-975.nxml</code> \"Camera trocar lifting in office gasless laparoscopic sterilization under local anesthesia\"<br/><strong>E</strong>: Bo S. Bergström<br/><strong>A</strong>: Acta Obstetricia<br/><strong>B</strong>: BO S. BERGSTRÖM</p>\n",
       "<p><code>sonc50-621.nxml</code> \"Management of cutaneous metastases using electrochemotherapy\"<br/><strong>E</strong>: Louise Wichmann Matthiessen<br/><strong>A</strong>: Julie Gehl<br/><strong>B</strong>: LOUISE WICHMANN MATTHIESSEN</p>\n",
       "</blockquote></details>"
      ],
      "text/plain": [
       "<IPython.core.display.HTML object>"
      ]
     },
     "metadata": {},
     "output_type": "display_data"
    },
    {
     "data": {
      "text/html": [
       "<hr/>"
      ],
      "text/plain": [
       "<IPython.core.display.HTML object>"
      ]
     },
     "metadata": {},
     "output_type": "display_data"
    },
    {
     "data": {
      "text/html": [
       "<h1>Field: author_full_names</h1>"
      ],
      "text/plain": [
       "<IPython.core.display.HTML object>"
      ]
     },
     "metadata": {},
     "output_type": "display_data"
    },
    {
     "data": {
      "text/html": [
       "<h2>Dataset: pmc-sample-1943-cc-by-subset (author_full_names levenshtein)</h2>"
      ],
      "text/plain": [
       "<IPython.core.display.HTML object>"
      ]
     },
     "metadata": {},
     "output_type": "display_data"
    },
    {
     "data": {
      "text/html": [
       "<details><summary>Comparison: grobid-tei vs cermine</summary><p><strong>E</strong>: expected, <strong>A</strong>: pmc-sample-1943-cc-by-subset grobid-tei, <strong>B</strong>: pmc-sample-1943-cc-by-subset cermine (author_full_names levenshtein)</p>\n",
       "<h4>grobid-tei [0 : 1] cermine (6)</h4>\n",
       "<p>There are 6 samples where grobid-tei got it wrong, but cermine got it right.</p>\n",
       "<blockquote>\n",
       "<p><code>aas0055-0039.nxml</code> \"Phosphate-containing dialysis solution prevents hypophosphatemia during continuous renal replacement therapy\"<br/><strong>E</strong>: A WIESLANDER<br/><strong>A</strong>: A Wieslander</p>\n",
       "<p><code>aas0055-0039.nxml</code> \"Phosphate-containing dialysis solution prevents hypophosphatemia during continuous renal replacement therapy\"<br/><strong>E</strong>: G GODALY<br/><strong>A</strong>: G Godaly</p>\n",
       "<p><code>aas0055-0039.nxml</code> \"Phosphate-containing dialysis solution prevents hypophosphatemia during continuous renal replacement therapy\"<br/><strong>E</strong>: H FRIBERG<br/><strong>A</strong>: H Friberg</p>\n",
       "</blockquote>\n",
       "<p>3 more</p>\n",
       "<h4>grobid-tei [1 : 0] cermine (22)</h4>\n",
       "<p>There are 22 samples where grobid-tei got it right, but cermine got it wrong.</p>\n",
       "<blockquote>\n",
       "<p><code>e-67-o1363.nxml</code> \"3-Allyl-1-{[3-(4-nitro­phen­yl)-4,5-dihydro-1,3-oxazol-5-yl]meth­yl}-1H-anthra[1,2-d]imidazole-2,6,11(3H)-trione\"<br/><strong>E</strong>: Frédéric Capet<br/><strong>B</strong>: Fre´ de´ ric Capet</p>\n",
       "<p><code>f-67-00344.nxml</code> \"Refolding, crystallization and preliminary X-ray crystallographic study of the whole extracellular regions of nectins\"<br/><strong>E</strong>: Atsushi Nakagawa<br/><strong>B</strong>: Laboratory of Supramolecular Crystallography</p>\n",
       "<p><code>f-67-00344.nxml</code> \"Refolding, crystallization and preliminary X-ray crystallographic study of the whole extracellular regions of nectins\"<br/><strong>E</strong>: Hirotaka Narita<br/><strong>B</strong>: nan</p>\n",
       "</blockquote>\n",
       "<p>19 more</p>\n",
       "<h4>grobid-tei [0 : 0] cermine (2)</h4>\n",
       "<p>There are 2 samples where both grobid-tei and cermine got it wrong.</p>\n",
       "<blockquote>\n",
       "<p><code>sobs89-975.nxml</code> \"Camera trocar lifting in office gasless laparoscopic sterilization under local anesthesia\"<br/><strong>E</strong>: Bo S. Bergström<br/><strong>A</strong>: Acta Obstetricia<br/><strong>B</strong>: BO S. BERGSTRÖM</p>\n",
       "<p><code>sonc50-621.nxml</code> \"Management of cutaneous metastases using electrochemotherapy\"<br/><strong>E</strong>: David Christopher George Sainsbury<br/><strong>A</strong>: David Christopher<br/><strong>B</strong>: DAVID CHRISTOPHER GEORGE SAINSBURY</p>\n",
       "</blockquote></details>"
      ],
      "text/plain": [
       "<IPython.core.display.HTML object>"
      ]
     },
     "metadata": {},
     "output_type": "display_data"
    },
    {
     "data": {
      "text/html": [
       "<h2>Dataset: pmc-sample-1943-cc-by-subset (author_full_names exact)</h2>"
      ],
      "text/plain": [
       "<IPython.core.display.HTML object>"
      ]
     },
     "metadata": {},
     "output_type": "display_data"
    },
    {
     "data": {
      "text/html": [
       "<details><summary>Comparison: grobid-tei vs cermine</summary><p><strong>E</strong>: expected, <strong>A</strong>: pmc-sample-1943-cc-by-subset grobid-tei, <strong>B</strong>: pmc-sample-1943-cc-by-subset cermine (author_full_names exact)</p>\n",
       "<h4>grobid-tei [0 : 1] cermine (6)</h4>\n",
       "<p>There are 6 samples where grobid-tei got it wrong, but cermine got it right.</p>\n",
       "<blockquote>\n",
       "<p><code>d-67-00463.nxml</code> \"Pi sampling: a methodical and flexible approach to initial macromolecular crystallization screening\"<br/><strong>E</strong>: Colin M. Palmer<br/><strong>A</strong>: Colin M Palmer</p>\n",
       "<p><code>ORT-1745-3674-81-405.nxml</code> \"Resection arthroplasty for luxation of the manubrio-sternal joint in rheumatoid arthritis—a case report\"<br/><strong>E</strong>: Hedwig A E M van Heereveld<br/><strong>A</strong>: E M Van Heereveld</p>\n",
       "<p><code>ORT-1745-3674-81-405.nxml</code> \"Resection arthroplasty for luxation of the manubrio-sternal joint in rheumatoid arthritis—a case report\"<br/><strong>E</strong>: Maarten C de Waal Malefijt<br/><strong>A</strong>: Hedwig A</p>\n",
       "</blockquote>\n",
       "<p>3 more</p>\n",
       "<h4>grobid-tei [1 : 0] cermine (22)</h4>\n",
       "<p>There are 22 samples where grobid-tei got it right, but cermine got it wrong.</p>\n",
       "<blockquote>\n",
       "<p><code>e-67-o1363.nxml</code> \"3-Allyl-1-{[3-(4-nitro­phen­yl)-4,5-dihydro-1,3-oxazol-5-yl]meth­yl}-1H-anthra[1,2-d]imidazole-2,6,11(3H)-trione\"<br/><strong>E</strong>: Frédéric Capet<br/><strong>B</strong>: Fre´ de´ ric Capet</p>\n",
       "<p><code>f-67-00344.nxml</code> \"Refolding, crystallization and preliminary X-ray crystallographic study of the whole extracellular regions of nectins\"<br/><strong>E</strong>: Atsushi Nakagawa<br/><strong>B</strong>: Laboratory of Supramolecular Crystallography</p>\n",
       "<p><code>f-67-00344.nxml</code> \"Refolding, crystallization and preliminary X-ray crystallographic study of the whole extracellular regions of nectins\"<br/><strong>E</strong>: Hirotaka Narita<br/><strong>B</strong>: nan</p>\n",
       "</blockquote>\n",
       "<p>19 more</p>\n",
       "<h4>grobid-tei [0 : 0] cermine (7)</h4>\n",
       "<p>There are 7 samples where both grobid-tei and cermine got it wrong.</p>\n",
       "<blockquote>\n",
       "<p><code>aas0055-0039.nxml</code> \"Phosphate-containing dialysis solution prevents hypophosphatemia during continuous renal replacement therapy\"<br/><strong>E</strong>: A WIESLANDER<br/><strong>A</strong>: A Wieslander<br/><strong>B</strong>: A. WIESLANDER</p>\n",
       "<p><code>aas0055-0039.nxml</code> \"Phosphate-containing dialysis solution prevents hypophosphatemia during continuous renal replacement therapy\"<br/><strong>E</strong>: G GODALY<br/><strong>A</strong>: G Godaly<br/><strong>B</strong>: G. GODALY</p>\n",
       "<p><code>aas0055-0039.nxml</code> \"Phosphate-containing dialysis solution prevents hypophosphatemia during continuous renal replacement therapy\"<br/><strong>E</strong>: H FRIBERG<br/><strong>A</strong>: H Friberg<br/><strong>B</strong>: H. FRIBERG</p>\n",
       "</blockquote>\n",
       "<p>4 more</p></details>"
      ],
      "text/plain": [
       "<IPython.core.display.HTML object>"
      ]
     },
     "metadata": {},
     "output_type": "display_data"
    },
    {
     "data": {
      "text/html": [
       "<hr/>"
      ],
      "text/plain": [
       "<IPython.core.display.HTML object>"
      ]
     },
     "metadata": {},
     "output_type": "display_data"
    },
    {
     "data": {
      "text/html": [
       "<h1>Field: abstract</h1>"
      ],
      "text/plain": [
       "<IPython.core.display.HTML object>"
      ]
     },
     "metadata": {},
     "output_type": "display_data"
    },
    {
     "data": {
      "text/html": [
       "<h2>Dataset: pmc-sample-1943-cc-by-subset (abstract levenshtein)</h2>"
      ],
      "text/plain": [
       "<IPython.core.display.HTML object>"
      ]
     },
     "metadata": {},
     "output_type": "display_data"
    },
    {
     "data": {
      "text/html": [
       "<details><summary>Comparison: grobid-tei vs cermine</summary><p><strong>E</strong>: expected, <strong>A</strong>: pmc-sample-1943-cc-by-subset grobid-tei, <strong>B</strong>: pmc-sample-1943-cc-by-subset cermine (abstract levenshtein)</p>\n",
       "<h4>grobid-tei [0 : 1] cermine (1)</h4>\n",
       "<p>There are 1 samples where grobid-tei got it wrong, but cermine got it right.</p>\n",
       "<blockquote>\n",
       "<p><code>sonc50-621.nxml</code> \"Management of cutaneous metastases using electrochemotherapy\"<br/><strong>E</strong>: Background. Cutaneous metastases may cause considerable discomfort as a consequence of ulceration, oozing, bleeding and pain. Electrochemotherapy has proven to be highly effective in the treatment of cutaneous metastases. Electrochemotherapy utilises pulses of electricity to increase the permeability of the cell membrane and thereby augment the effect of chemotherapy. For the drug bleomycin, the effect is enhanced several hundred-fold, enabling once-only treatment. The primary endpoint of this study is to evaluate the efficacy of electrochemotherapy as a palliative treatment. Methods. This phase II study is a collaboration between two centres, one in Denmark and the other in the UK. Patients with cutaneous metastases of any histology were included. Bleomycin was administered intratumourally or intravenously followed by application of electric pulses to the tumour site. Results. Fifty-two patients were included. Complete and partial response rate was 68% and 18%, respectively, for cutaneous metastases &lt;3 cm and 8% and 23%, respectively, for cutaneous metastases &gt;3 cm. Treatment was well-tolerated by patients, including the elderly, and no serious adverse events were observed. Conclusions. ECT is an efficient and safe treatment and clinicians should not hesitate to use it even in the elderly.<br/><strong>A</strong>: Background. Cutaneous metastases may cause considerable discomfort as a consequence of ulceration, oozing, bleeding and pain. Electrochemotherapy has proven to be highly effective in the treatment of cutaneous metastases. Electrochemo-therapy utilises pulses of electricity to increase the permeability of the cell membrane and thereby augment the effect of chemotherapy. For the drug bleomycin, the effect is enhanced several hundred-fold, enabling once-only treatment. The primary endpoint of this study is to evaluate the effi cacy of electrochemotherapy as a palliative treatment. Methods. This phase II study is a collaboration between two centres, one in Denmark and the other in the UK. Patients with cutaneous metastases of any histology were included. Bleomycin was administered intratumourally or intravenously followed by application of electric pulses to the tumour site. Results. Fifty-two patients were included. Complete and partial response rate was 68% and 18%, respectively, for cutaneous metastases 3 cm and 8% and 23%, respectively, for cutaneous metastases 3 cm. Treatment was well-tolerated by patients, including the elderly, and no serious adverse events were observed. Conclusions. ECT is an effi cient and safe treatment and clinicians should not hesitate to use it even in the elderly. A cutaneous metastasis can be defi ned as \" a neoplas-tic lesion arising from another neoplasm with which there is no longer continuity \" [1]. Cutaneous metas-tases account for 0.7% to 9% of all metastases [2]. Breast cancer accounts for 51% of the total cases of cutaneous metastases, while malignant melanoma accounts for 18% [3].</p>\n",
       "</blockquote>\n",
       "<h4>grobid-tei [1 : 0] cermine (0)</h4>\n",
       "<p>There are 0 samples where grobid-tei got it right, but cermine got it wrong.</p>\n",
       "<h4>grobid-tei [0 : 0] cermine (5)</h4>\n",
       "<p>There are 5 samples where both grobid-tei and cermine got it wrong.</p>\n",
       "<blockquote>\n",
       "<p><code>aas0055-0039.nxml</code> \"Phosphate-containing dialysis solution prevents hypophosphatemia during continuous renal replacement therapy\"<br/><strong>E</strong>: Background Hypophosphatemia occurs in up to 80% of the patients during continuous renal replacement therapy (CRRT). Phosphate supplementation is time-consuming and the phosphate level might be dangerously low before normophosphatemia is re-established. This study evaluated the possibility to prevent hypophosphatemia during CRRT treatment by using a new commercially available phosphate-containing dialysis fluid. Methods Forty-two heterogeneous intensive care unit patients, admitted between January 2007 and July 2008, undergoing hemodiafiltration, were treated with a new Gambro dialysis solution with 1.2 mM phosphate (Phoxilium) or with standard medical treatment (Hemosol B0). The patients were divided into three groups: group 1 (n=14) receiving standard medical treatment and intravenous phosphate supplementation as required, group 2 (n=14) receiving the phosphate solution as dialysate solution and Hemosol B0 as replacement solution and group 3 (n=14) receiving the phosphate-containing solution as both dialysate and replacement solutions. Results Standard medical treatment resulted in hypophosphatemia in 11 of 14 of the patients (group 1) compared with five of 14 in the patients receiving phosphate solution as the dialysate solution and Hemosol B0 as the replacement solution (group 2). Patients treated with the phosphate-containing dialysis solution (group 3) experienced stable serum phosphate levels throughout the study. Potassium, ionized calcium, magnesium, pH, pCO2 and bicarbonate remained unchanged throughout the study. Conclusion The new phosphate-containing replacement and dialysis solution reduces the variability of serum phosphate levels during CRRT and eliminates the incidence of hypophosphatemia.<br/><strong>A</strong>: nan<br/><strong>B</strong>: Background: Hypophosphatemia occurs in up to 80% of the patients during continuous renal replacement therapy (CRRT). Phosphate supplementation is time-consuming and the phosphate level might be dangerously low before normophosphatemia is re-established. This study evaluated the possibility to prevent hypophosphatemia during CRRT treatment by using a new commercially available phosphate-containing dialysis fluid. Methods: Forty-two heterogeneous intensive care unit patients, admitted between January 2007 and July 2008, undergoing hemodiafiltration, were treated with a new Gambro dialysis solution with 1.2 mM phosphate (Phoxilium) or with standard medical treatment (Hemosol B0). The patients were divided into three groups: group 1 (n 5 14) receiving standard medical treatment and intravenous phosphate supplementation as required, group 2 (n 5 14) receiving the phosphate solution as dialysate solution and Hemosol B0 as replacement solution and group 3 (n 5 14) receiving the phosphate-containing solution as both dialysate and replacement solutions.</p>\n",
       "<p><code>d-67-00463.nxml</code> \"Pi sampling: a methodical and flexible approach to initial macromolecular crystallization screening\"<br/><strong>E</strong>: Pi sampling, derived from the incomplete factorial approach, is an effort to maximize the diversity of macromolecular crystallization conditions and to facilitate the preparation of 96-condition initial screens.The Pi sampling method is derived from the incomplete factorial approach to macromolecular crystallization screen design. The resulting ‘Pi screens’ have a modular distribution of a given set of up to 36 stock solutions. Maximally diverse conditions can be produced by taking into account the properties of the chemicals used in the formulation and the concentrations of the corresponding solutions. The Pi sampling method has been implemented in a web-based application that generates screen formulations and recipes. It is particularly adapted to screens consisting of 96 different conditions. The flexibility and efficiency of Pi sampling is demonstrated by the crystallization of soluble proteins and of an integral membrane-protein sample.<br/><strong>A</strong>: The Pi sampling method is derived from the incomplete factorial approach to macromolecular crystallization screen design. The resulting 'Pi screens' have a modular distribution of a given set of up to 36 stock solutions. Maximally diverse conditions can be produced by taking into account the properties of the chemicals used in the formulation and the concentrations of the corresponding solutions. The Pi sampling method has been implemented in a web-based application that generates screen formulations and recipes. It is particularly adapted to screens consisting of 96 different conditions. The flexibility and efficiency of Pi sampling is demonstrated by the crystallization of soluble proteins and of an integral membrane-protein sample.<br/><strong>B</strong>: The Pi sampling method is derived from the incomplete factorial approach to macromolecular crystallization screen design. The resulting 'Pi screens' have a modular distribution of a given set of up to 36 stock solutions. Maximally diverse conditions can be produced by taking into account the properties of the chemicals used in the formulation and the concentrations of the corresponding solutions. The Pi sampling method has been implemented in a web-based application that generates screen formulations and recipes. It is particularly adapted to screens consisting of 96 different conditions. The flexibility and efficiency of Pi sampling is demonstrated by the crystallization of soluble proteins and of an integral membrane-protein sample.</p>\n",
       "<p><code>e-67-o1363.nxml</code> \"3-Allyl-1-{[3-(4-nitro­phen­yl)-4,5-dihydro-1,3-oxazol-5-yl]meth­yl}-1H-anthra[1,2-d]imidazole-2,6,11(3H)-trione\"<br/><strong>E</strong>: The mol­ecular structure of the title compound, C28H20N4O6, consists of three fused six-membered rings (A,B,C) and one five-membered ring (D). The latter is linked to an isoxazole ring (E) via a methyl­ene unit. A 4-nitro-phenyl substituent (F) is attached to the isoxazole. The fused five and six-membered rings (C,D) are almost coplanar with an r.m.s. deviation of 0.0345 Å and make a dihedral angle of 9.40 (8)° with ring A. The isoxazole and 4-nitro-phenyl rings (E,F) are also almost coplanar with the imidazole and the fused adjacent ring (C,D), forming a dihedral angle of 11.4 (6)°. The crystal packing displays inter­molecular C—H⋯O hydrogen bonding. An intra­molecular C—H⋯O inter­action also occurs.<br/><strong>A</strong>: Key indicators: single-crystal X-ray study; T = 296 K; mean (C-C) = 0.003 A ˚ ; R factor = 0.040; wR factor = 0.111; data-to-parameter ratio = 14.1. The molecular structure of the title compound, C 28 H 20 N 4 O 6 , consists of three fused six-membered rings (A,B,C) and one five-membered ring (D). The latter is linked to an isoxazole ring (E) via a methylene unit. A 4-nitro-phenyl substituent (F) is attached to the isoxazole. The fused five and six-membered rings (C,D) are almost coplanar with an r.m.s. deviation of 0.0345 A ˚ and make a dihedral angle of 9.40 (8) with ring A. The isoxazole and 4-nitro-phenyl rings (E,F) are also almost coplanar with the imidazole and the fused adjacent ring (C,D), forming a dihedral angle of 11.4 (6). The crystal packing displays intermolecular C-HÁ Á ÁO hydrogen bonding. An intramolecular C-HÁ Á ÁO interaction also occurs.<br/><strong>B</strong>: nan</p>\n",
       "</blockquote>\n",
       "<p>2 more</p></details>"
      ],
      "text/plain": [
       "<IPython.core.display.HTML object>"
      ]
     },
     "metadata": {},
     "output_type": "display_data"
    },
    {
     "data": {
      "text/html": [
       "<h2>Dataset: pmc-sample-1943-cc-by-subset (abstract exact)</h2>"
      ],
      "text/plain": [
       "<IPython.core.display.HTML object>"
      ]
     },
     "metadata": {},
     "output_type": "display_data"
    },
    {
     "data": {
      "text/html": [
       "<details><summary>Comparison: grobid-tei vs cermine</summary><p><strong>E</strong>: expected, <strong>A</strong>: pmc-sample-1943-cc-by-subset grobid-tei, <strong>B</strong>: pmc-sample-1943-cc-by-subset cermine (abstract exact)</p>\n",
       "<h4>grobid-tei [0 : 1] cermine (0)</h4>\n",
       "<p>There are 0 samples where grobid-tei got it wrong, but cermine got it right.</p>\n",
       "<h4>grobid-tei [1 : 0] cermine (0)</h4>\n",
       "<p>There are 0 samples where grobid-tei got it right, but cermine got it wrong.</p>\n",
       "<h4>grobid-tei [0 : 0] cermine (7)</h4>\n",
       "<p>There are 7 samples where both grobid-tei and cermine got it wrong.</p>\n",
       "<blockquote>\n",
       "<p><code>aas0055-0039.nxml</code> \"Phosphate-containing dialysis solution prevents hypophosphatemia during continuous renal replacement therapy\"<br/><strong>E</strong>: Background Hypophosphatemia occurs in up to 80% of the patients during continuous renal replacement therapy (CRRT). Phosphate supplementation is time-consuming and the phosphate level might be dangerously low before normophosphatemia is re-established. This study evaluated the possibility to prevent hypophosphatemia during CRRT treatment by using a new commercially available phosphate-containing dialysis fluid. Methods Forty-two heterogeneous intensive care unit patients, admitted between January 2007 and July 2008, undergoing hemodiafiltration, were treated with a new Gambro dialysis solution with 1.2 mM phosphate (Phoxilium) or with standard medical treatment (Hemosol B0). The patients were divided into three groups: group 1 (n=14) receiving standard medical treatment and intravenous phosphate supplementation as required, group 2 (n=14) receiving the phosphate solution as dialysate solution and Hemosol B0 as replacement solution and group 3 (n=14) receiving the phosphate-containing solution as both dialysate and replacement solutions. Results Standard medical treatment resulted in hypophosphatemia in 11 of 14 of the patients (group 1) compared with five of 14 in the patients receiving phosphate solution as the dialysate solution and Hemosol B0 as the replacement solution (group 2). Patients treated with the phosphate-containing dialysis solution (group 3) experienced stable serum phosphate levels throughout the study. Potassium, ionized calcium, magnesium, pH, pCO2 and bicarbonate remained unchanged throughout the study. Conclusion The new phosphate-containing replacement and dialysis solution reduces the variability of serum phosphate levels during CRRT and eliminates the incidence of hypophosphatemia.<br/><strong>A</strong>: nan<br/><strong>B</strong>: Background: Hypophosphatemia occurs in up to 80% of the patients during continuous renal replacement therapy (CRRT). Phosphate supplementation is time-consuming and the phosphate level might be dangerously low before normophosphatemia is re-established. This study evaluated the possibility to prevent hypophosphatemia during CRRT treatment by using a new commercially available phosphate-containing dialysis fluid. Methods: Forty-two heterogeneous intensive care unit patients, admitted between January 2007 and July 2008, undergoing hemodiafiltration, were treated with a new Gambro dialysis solution with 1.2 mM phosphate (Phoxilium) or with standard medical treatment (Hemosol B0). The patients were divided into three groups: group 1 (n 5 14) receiving standard medical treatment and intravenous phosphate supplementation as required, group 2 (n 5 14) receiving the phosphate solution as dialysate solution and Hemosol B0 as replacement solution and group 3 (n 5 14) receiving the phosphate-containing solution as both dialysate and replacement solutions.</p>\n",
       "<p><code>d-67-00463.nxml</code> \"Pi sampling: a methodical and flexible approach to initial macromolecular crystallization screening\"<br/><strong>E</strong>: Pi sampling, derived from the incomplete factorial approach, is an effort to maximize the diversity of macromolecular crystallization conditions and to facilitate the preparation of 96-condition initial screens.The Pi sampling method is derived from the incomplete factorial approach to macromolecular crystallization screen design. The resulting ‘Pi screens’ have a modular distribution of a given set of up to 36 stock solutions. Maximally diverse conditions can be produced by taking into account the properties of the chemicals used in the formulation and the concentrations of the corresponding solutions. The Pi sampling method has been implemented in a web-based application that generates screen formulations and recipes. It is particularly adapted to screens consisting of 96 different conditions. The flexibility and efficiency of Pi sampling is demonstrated by the crystallization of soluble proteins and of an integral membrane-protein sample.<br/><strong>A</strong>: The Pi sampling method is derived from the incomplete factorial approach to macromolecular crystallization screen design. The resulting 'Pi screens' have a modular distribution of a given set of up to 36 stock solutions. Maximally diverse conditions can be produced by taking into account the properties of the chemicals used in the formulation and the concentrations of the corresponding solutions. The Pi sampling method has been implemented in a web-based application that generates screen formulations and recipes. It is particularly adapted to screens consisting of 96 different conditions. The flexibility and efficiency of Pi sampling is demonstrated by the crystallization of soluble proteins and of an integral membrane-protein sample.<br/><strong>B</strong>: The Pi sampling method is derived from the incomplete factorial approach to macromolecular crystallization screen design. The resulting 'Pi screens' have a modular distribution of a given set of up to 36 stock solutions. Maximally diverse conditions can be produced by taking into account the properties of the chemicals used in the formulation and the concentrations of the corresponding solutions. The Pi sampling method has been implemented in a web-based application that generates screen formulations and recipes. It is particularly adapted to screens consisting of 96 different conditions. The flexibility and efficiency of Pi sampling is demonstrated by the crystallization of soluble proteins and of an integral membrane-protein sample.</p>\n",
       "<p><code>e-67-o1363.nxml</code> \"3-Allyl-1-{[3-(4-nitro­phen­yl)-4,5-dihydro-1,3-oxazol-5-yl]meth­yl}-1H-anthra[1,2-d]imidazole-2,6,11(3H)-trione\"<br/><strong>E</strong>: The mol­ecular structure of the title compound, C28H20N4O6, consists of three fused six-membered rings (A,B,C) and one five-membered ring (D). The latter is linked to an isoxazole ring (E) via a methyl­ene unit. A 4-nitro-phenyl substituent (F) is attached to the isoxazole. The fused five and six-membered rings (C,D) are almost coplanar with an r.m.s. deviation of 0.0345 Å and make a dihedral angle of 9.40 (8)° with ring A. The isoxazole and 4-nitro-phenyl rings (E,F) are also almost coplanar with the imidazole and the fused adjacent ring (C,D), forming a dihedral angle of 11.4 (6)°. The crystal packing displays inter­molecular C—H⋯O hydrogen bonding. An intra­molecular C—H⋯O inter­action also occurs.<br/><strong>A</strong>: Key indicators: single-crystal X-ray study; T = 296 K; mean (C-C) = 0.003 A ˚ ; R factor = 0.040; wR factor = 0.111; data-to-parameter ratio = 14.1. The molecular structure of the title compound, C 28 H 20 N 4 O 6 , consists of three fused six-membered rings (A,B,C) and one five-membered ring (D). The latter is linked to an isoxazole ring (E) via a methylene unit. A 4-nitro-phenyl substituent (F) is attached to the isoxazole. The fused five and six-membered rings (C,D) are almost coplanar with an r.m.s. deviation of 0.0345 A ˚ and make a dihedral angle of 9.40 (8) with ring A. The isoxazole and 4-nitro-phenyl rings (E,F) are also almost coplanar with the imidazole and the fused adjacent ring (C,D), forming a dihedral angle of 11.4 (6). The crystal packing displays intermolecular C-HÁ Á ÁO hydrogen bonding. An intramolecular C-HÁ Á ÁO interaction also occurs.<br/><strong>B</strong>: nan</p>\n",
       "</blockquote>\n",
       "<p>4 more</p></details>"
      ],
      "text/plain": [
       "<IPython.core.display.HTML object>"
      ]
     },
     "metadata": {},
     "output_type": "display_data"
    },
    {
     "data": {
      "text/html": [
       "<hr/>"
      ],
      "text/plain": [
       "<IPython.core.display.HTML object>"
      ]
     },
     "metadata": {},
     "output_type": "display_data"
    },
    {
     "data": {
      "text/html": [
       "<h1>Field: section_titles</h1>"
      ],
      "text/plain": [
       "<IPython.core.display.HTML object>"
      ]
     },
     "metadata": {},
     "output_type": "display_data"
    },
    {
     "data": {
      "text/html": [
       "<h2>Dataset: pmc-sample-1943-cc-by-subset (section_titles levenshtein)</h2>"
      ],
      "text/plain": [
       "<IPython.core.display.HTML object>"
      ]
     },
     "metadata": {},
     "output_type": "display_data"
    },
    {
     "data": {
      "text/html": [
       "<details><summary>Comparison: grobid-tei vs cermine</summary><p><strong>E</strong>: expected, <strong>A</strong>: pmc-sample-1943-cc-by-subset grobid-tei, <strong>B</strong>: pmc-sample-1943-cc-by-subset cermine (section_titles levenshtein)</p>\n",
       "<h4>grobid-tei [0 : 1] cermine (9)</h4>\n",
       "<p>There are 9 samples where grobid-tei got it wrong, but cermine got it right.</p>\n",
       "<blockquote>\n",
       "<p><code>e-67-o1363.nxml</code> \"3-Allyl-1-{[3-(4-nitro­phen­yl)-4,5-dihydro-1,3-oxazol-5-yl]meth­yl}-1H-anthra[1,2-d]imidazole-2,6,11(3H)-trione\"<br/><strong>E</strong>: Crystal data<br/><strong>A</strong>: Comment</p>\n",
       "<p><code>e-67-o1363.nxml</code> \"3-Allyl-1-{[3-(4-nitro­phen­yl)-4,5-dihydro-1,3-oxazol-5-yl]meth­yl}-1H-anthra[1,2-d]imidazole-2,6,11(3H)-trione\"<br/><strong>E</strong>: Data collection<br/><strong>A</strong>: Figures</p>\n",
       "<p><code>e-67-o1363.nxml</code> \"3-Allyl-1-{[3-(4-nitro­phen­yl)-4,5-dihydro-1,3-oxazol-5-yl]meth­yl}-1H-anthra[1,2-d]imidazole-2,6,11(3H)-trione\"<br/><strong>E</strong>: Refinement<br/><strong>A</strong>: nan</p>\n",
       "</blockquote>\n",
       "<p>6 more</p>\n",
       "<h4>grobid-tei [1 : 0] cermine (29)</h4>\n",
       "<p>There are 29 samples where grobid-tei got it right, but cermine got it wrong.</p>\n",
       "<blockquote>\n",
       "<p><code>aas0055-0039.nxml</code> \"Phosphate-containing dialysis solution prevents hypophosphatemia during continuous renal replacement therapy\"<br/><strong>E</strong>: Methods<br/><strong>B</strong>: -</p>\n",
       "<p><code>aas0055-0039.nxml</code> \"Phosphate-containing dialysis solution prevents hypophosphatemia during continuous renal replacement therapy\"<br/><strong>E</strong>: Fluid composition and study design<br/><strong>B</strong>: Methods</p>\n",
       "<p><code>aas0055-0039.nxml</code> \"Phosphate-containing dialysis solution prevents hypophosphatemia during continuous renal replacement therapy\"<br/><strong>E</strong>: Patients and CRRT treatments<br/><strong>B</strong>: Fluid composition and study design</p>\n",
       "</blockquote>\n",
       "<p>26 more</p>\n",
       "<h4>grobid-tei [0 : 0] cermine (45)</h4>\n",
       "<p>There are 45 samples where both grobid-tei and cermine got it wrong.</p>\n",
       "<blockquote>\n",
       "<p><code>aas0055-0039.nxml</code> \"Phosphate-containing dialysis solution prevents hypophosphatemia during continuous renal replacement therapy\"<br/><strong>E</strong>: Discussion<br/><strong>A</strong>: Hypophosphatemia prevention during CRRT<br/><strong>B</strong>: Results</p>\n",
       "<p><code>aas0055-0039.nxml</code> \"Phosphate-containing dialysis solution prevents hypophosphatemia during continuous renal replacement therapy\"<br/><strong>E</strong>: nan<br/><strong>A</strong>: Discussion<br/><strong>B</strong>: Discussion</p>\n",
       "<p><code>aas0055-0039.nxml</code> \"Phosphate-containing dialysis solution prevents hypophosphatemia during continuous renal replacement therapy\"<br/><strong>E</strong>: nan<br/><strong>A</strong>: Discussion<br/><strong>B</strong>: Acknowledgements</p>\n",
       "</blockquote>\n",
       "<p>42 more</p></details>"
      ],
      "text/plain": [
       "<IPython.core.display.HTML object>"
      ]
     },
     "metadata": {},
     "output_type": "display_data"
    },
    {
     "data": {
      "text/html": [
       "<h2>Dataset: pmc-sample-1943-cc-by-subset (section_titles exact)</h2>"
      ],
      "text/plain": [
       "<IPython.core.display.HTML object>"
      ]
     },
     "metadata": {},
     "output_type": "display_data"
    },
    {
     "data": {
      "text/html": [
       "<details><summary>Comparison: grobid-tei vs cermine</summary><p><strong>E</strong>: expected, <strong>A</strong>: pmc-sample-1943-cc-by-subset grobid-tei, <strong>B</strong>: pmc-sample-1943-cc-by-subset cermine (section_titles exact)</p>\n",
       "<h4>grobid-tei [0 : 1] cermine (10)</h4>\n",
       "<p>There are 10 samples where grobid-tei got it wrong, but cermine got it right.</p>\n",
       "<blockquote>\n",
       "<p><code>e-67-o1363.nxml</code> \"3-Allyl-1-{[3-(4-nitro­phen­yl)-4,5-dihydro-1,3-oxazol-5-yl]meth­yl}-1H-anthra[1,2-d]imidazole-2,6,11(3H)-trione\"<br/><strong>E</strong>: Crystal data<br/><strong>A</strong>: Comment</p>\n",
       "<p><code>e-67-o1363.nxml</code> \"3-Allyl-1-{[3-(4-nitro­phen­yl)-4,5-dihydro-1,3-oxazol-5-yl]meth­yl}-1H-anthra[1,2-d]imidazole-2,6,11(3H)-trione\"<br/><strong>E</strong>: Data collection<br/><strong>A</strong>: Figures</p>\n",
       "<p><code>e-67-o1363.nxml</code> \"3-Allyl-1-{[3-(4-nitro­phen­yl)-4,5-dihydro-1,3-oxazol-5-yl]meth­yl}-1H-anthra[1,2-d]imidazole-2,6,11(3H)-trione\"<br/><strong>E</strong>: Refinement<br/><strong>A</strong>: nan</p>\n",
       "</blockquote>\n",
       "<p>7 more</p>\n",
       "<h4>grobid-tei [1 : 0] cermine (32)</h4>\n",
       "<p>There are 32 samples where grobid-tei got it right, but cermine got it wrong.</p>\n",
       "<blockquote>\n",
       "<p><code>aas0055-0039.nxml</code> \"Phosphate-containing dialysis solution prevents hypophosphatemia during continuous renal replacement therapy\"<br/><strong>E</strong>: Methods<br/><strong>B</strong>: -</p>\n",
       "<p><code>aas0055-0039.nxml</code> \"Phosphate-containing dialysis solution prevents hypophosphatemia during continuous renal replacement therapy\"<br/><strong>E</strong>: Fluid composition and study design<br/><strong>B</strong>: Methods</p>\n",
       "<p><code>aas0055-0039.nxml</code> \"Phosphate-containing dialysis solution prevents hypophosphatemia during continuous renal replacement therapy\"<br/><strong>E</strong>: Patients and CRRT treatments<br/><strong>B</strong>: Fluid composition and study design</p>\n",
       "</blockquote>\n",
       "<p>29 more</p>\n",
       "<h4>grobid-tei [0 : 0] cermine (45)</h4>\n",
       "<p>There are 45 samples where both grobid-tei and cermine got it wrong.</p>\n",
       "<blockquote>\n",
       "<p><code>aas0055-0039.nxml</code> \"Phosphate-containing dialysis solution prevents hypophosphatemia during continuous renal replacement therapy\"<br/><strong>E</strong>: Discussion<br/><strong>A</strong>: Hypophosphatemia prevention during CRRT<br/><strong>B</strong>: Results</p>\n",
       "<p><code>aas0055-0039.nxml</code> \"Phosphate-containing dialysis solution prevents hypophosphatemia during continuous renal replacement therapy\"<br/><strong>E</strong>: nan<br/><strong>A</strong>: Discussion<br/><strong>B</strong>: Discussion</p>\n",
       "<p><code>aas0055-0039.nxml</code> \"Phosphate-containing dialysis solution prevents hypophosphatemia during continuous renal replacement therapy\"<br/><strong>E</strong>: nan<br/><strong>A</strong>: Discussion<br/><strong>B</strong>: Acknowledgements</p>\n",
       "</blockquote>\n",
       "<p>42 more</p></details>"
      ],
      "text/plain": [
       "<IPython.core.display.HTML object>"
      ]
     },
     "metadata": {},
     "output_type": "display_data"
    },
    {
     "data": {
      "text/html": [
       "<hr/>"
      ],
      "text/plain": [
       "<IPython.core.display.HTML object>"
      ]
     },
     "metadata": {},
     "output_type": "display_data"
    },
    {
     "data": {
      "text/html": [
       "<h1>Field: affiliation_strings</h1>"
      ],
      "text/plain": [
       "<IPython.core.display.HTML object>"
      ]
     },
     "metadata": {},
     "output_type": "display_data"
    },
    {
     "data": {
      "text/html": [
       "<h2>Dataset: pmc-sample-1943-cc-by-subset (affiliation_strings levenshtein)</h2>"
      ],
      "text/plain": [
       "<IPython.core.display.HTML object>"
      ]
     },
     "metadata": {},
     "output_type": "display_data"
    },
    {
     "data": {
      "text/html": [
       "<details><summary>Comparison: grobid-tei vs cermine</summary><p><strong>E</strong>: expected, <strong>A</strong>: pmc-sample-1943-cc-by-subset grobid-tei, <strong>B</strong>: pmc-sample-1943-cc-by-subset cermine (affiliation_strings levenshtein)</p>\n",
       "<h4>grobid-tei [0 : 1] cermine (3)</h4>\n",
       "<p>There are 3 samples where grobid-tei got it wrong, but cermine got it right.</p>\n",
       "<blockquote>\n",
       "<p><code>sobs89-975.nxml</code> \"Camera trocar lifting in office gasless laparoscopic sterilization under local anesthesia\"<br/><strong>E</strong>: Department of Obstetrics &amp; Gynecology, Nordfjord Hospital, Nordfjordeid, Norway<br/><strong>A</strong>: nan</p>\n",
       "<p><code>sonc50-621.nxml</code> \"Management of cutaneous metastases using electrochemotherapy\"<br/><strong>E</strong>: Department of Oncology, James Cook University Hospital, Middlesbrough, UK<br/><strong>A</strong>: Department of Oncology, James Cook University Hospital, UK</p>\n",
       "<p><code>apha0202-0379.nxml</code> \"On the function of the mammalian renal papilla and the peristalsis of the surrounding pelvis\"<br/><strong>E</strong>: Lexington, MA, USA<br/><strong>A</strong>: Loring Rd, Lexington, Lexington, USA, USA</p>\n",
       "</blockquote>\n",
       "<h4>grobid-tei [1 : 0] cermine (4)</h4>\n",
       "<p>There are 4 samples where grobid-tei got it right, but cermine got it wrong.</p>\n",
       "<blockquote>\n",
       "<p><code>ORT-1745-3674-81-405.nxml</code> \"Resection arthroplasty for luxation of the manubrio-sternal joint in rheumatoid arthritis—a case report\"<br/><strong>E</strong>: Department of Orthopaedics<br/><strong>B</strong>: Departments of</p>\n",
       "<p><code>ORT-1745-3674-81-405.nxml</code> \"Resection arthroplasty for luxation of the manubrio-sternal joint in rheumatoid arthritis—a case report\"<br/><strong>E</strong>: Department of Rheumatology, Radboud University Nijmegen Medical Centre, the Netherlands<br/><strong>B</strong>: Rheumatology, Radboud University Nijmegen Medical Centre, the Netherlands Submitted 09-09-25. Accepted 09-11-02</p>\n",
       "<p><code>apa0100-0653.nxml</code> \"Placental programming of blood pressure in Indian children\"<br/><strong>E</strong>: Epidemiology Research Unit, CSI Holdsworth Memorial Hospital, Mysore 570021, India<br/><strong>B</strong>: 1.MRC Lifecourse Epidemiology Unit, Southampton General Hospital, University of Southampton, Southampton, UK 2.Epidemiology Research Unit, CSI Holdsworth Memorial Hospital, Mysore 570021, India</p>\n",
       "</blockquote>\n",
       "<p>1 more</p>\n",
       "<h4>grobid-tei [0 : 0] cermine (17)</h4>\n",
       "<p>There are 17 samples where both grobid-tei and cermine got it wrong.</p>\n",
       "<blockquote>\n",
       "<p><code>d-67-00463.nxml</code> \"Pi sampling: a methodical and flexible approach to initial macromolecular crystallization screening\"<br/><strong>E</strong>: MRC Laboratory of Molecular Biology, England<br/><strong>A</strong>: Acta Crystallographica Section D, MRC Laboratory of Molecular Biology, Hills Road, CB2 0QH, Cambridge, England Correspondence<br/><strong>B</strong>: MRC Laboratory of Molecular Biology, Hills Road, Cambridge CB2 0QH, England</p>\n",
       "<p><code>e-67-o1363.nxml</code> \"3-Allyl-1-{[3-(4-nitro­phen­yl)-4,5-dihydro-1,3-oxazol-5-yl]meth­yl}-1H-anthra[1,2-d]imidazole-2,6,11(3H)-trione\"<br/><strong>E</strong>: France<br/><strong>A</strong>: Unité de Catalyse et de Chimie du Solide (UCCS), UMR 8181, Ecole Nationale Supérieure de Chimie de Lille, France<br/><strong>B</strong>: Unite ? de Catalyse et de Chimie du Solide (UCCS), UMR 8181, Ecole Nationale Supe ?rieure de Chimie de Lille, France</p>\n",
       "<p><code>e-67-o1363.nxml</code> \"3-Allyl-1-{[3-(4-nitro­phen­yl)-4,5-dihydro-1,3-oxazol-5-yl]meth­yl}-1H-anthra[1,2-d]imidazole-2,6,11(3H)-trione\"<br/><strong>E</strong>: Morocco<br/><strong>A</strong>: USR 3290 Miniaturisation pour l'Analyse, la Synthèse et la Protéomique, Université Lille-1, 59655 Villeneuve d'Ascq Cedex, France,<br/><strong>B</strong>: Laboratoire de Chimie du Solide Applique ?e, Faculte ? des Sciences, Universite ? Mohammed V-Agdal, Avenue Ibn Battouta, BP 1014, Rabat, Morocco</p>\n",
       "</blockquote>\n",
       "<p>14 more</p></details>"
      ],
      "text/plain": [
       "<IPython.core.display.HTML object>"
      ]
     },
     "metadata": {},
     "output_type": "display_data"
    },
    {
     "data": {
      "text/html": [
       "<h2>Dataset: pmc-sample-1943-cc-by-subset (affiliation_strings exact)</h2>"
      ],
      "text/plain": [
       "<IPython.core.display.HTML object>"
      ]
     },
     "metadata": {},
     "output_type": "display_data"
    },
    {
     "data": {
      "text/html": [
       "<details><summary>Comparison: grobid-tei vs cermine</summary><p><strong>E</strong>: expected, <strong>A</strong>: pmc-sample-1943-cc-by-subset grobid-tei, <strong>B</strong>: pmc-sample-1943-cc-by-subset cermine (affiliation_strings exact)</p>\n",
       "<h4>grobid-tei [0 : 1] cermine (5)</h4>\n",
       "<p>There are 5 samples where grobid-tei got it wrong, but cermine got it right.</p>\n",
       "<blockquote>\n",
       "<p><code>sobs89-975.nxml</code> \"Camera trocar lifting in office gasless laparoscopic sterilization under local anesthesia\"<br/><strong>E</strong>: Department of Obstetrics &amp; Gynecology, Nordfjord Hospital, Nordfjordeid, Norway<br/><strong>A</strong>: nan</p>\n",
       "<p><code>sonc50-621.nxml</code> \"Management of cutaneous metastases using electrochemotherapy\"<br/><strong>E</strong>: Department of Anaesthesia, James Cook University Hospital, Middlesbrough, UK<br/><strong>A</strong>: Department of Oncology, Center for Experimental Drug and Gene Electrotransfer (C*EDGE), Copenhagen University Hospital Herlev, Denmark</p>\n",
       "<p><code>sonc50-621.nxml</code> \"Management of cutaneous metastases using electrochemotherapy\"<br/><strong>E</strong>: Department of Oncology, James Cook University Hospital, Middlesbrough, UK<br/><strong>A</strong>: Department of Oncology, Copenhagen University Hospital Herlev, Herlev Ringvej 75, DK-2730, Herlev, Denmark</p>\n",
       "</blockquote>\n",
       "<p>2 more</p>\n",
       "<h4>grobid-tei [1 : 0] cermine (0)</h4>\n",
       "<p>There are 0 samples where grobid-tei got it right, but cermine got it wrong.</p>\n",
       "<h4>grobid-tei [0 : 0] cermine (21)</h4>\n",
       "<p>There are 21 samples where both grobid-tei and cermine got it wrong.</p>\n",
       "<blockquote>\n",
       "<p><code>d-67-00463.nxml</code> \"Pi sampling: a methodical and flexible approach to initial macromolecular crystallization screening\"<br/><strong>E</strong>: MRC Laboratory of Molecular Biology, England<br/><strong>A</strong>: Acta Crystallographica Section D, MRC Laboratory of Molecular Biology, Hills Road, CB2 0QH, Cambridge, England Correspondence<br/><strong>B</strong>: MRC Laboratory of Molecular Biology, Hills Road, Cambridge CB2 0QH, England</p>\n",
       "<p><code>e-67-o1363.nxml</code> \"3-Allyl-1-{[3-(4-nitro­phen­yl)-4,5-dihydro-1,3-oxazol-5-yl]meth­yl}-1H-anthra[1,2-d]imidazole-2,6,11(3H)-trione\"<br/><strong>E</strong>: France<br/><strong>A</strong>: Faculté des Sciences et Techniques, Laboratoire de Chimie Organique Appliquée, Université Sidi Mohamed Ben Abdallah, Route d'Immouzzer, BP 2202 Fès, Morocco<br/><strong>B</strong>: Laboratoire de Chimie Organique Applique ?e, Universite ? Sidi Mohamed Ben Abdallah, Faculte ? des Sciences et Techniques, Route d'Immouzzer, BP 2202 Fe`s, Morocco</p>\n",
       "<p><code>e-67-o1363.nxml</code> \"3-Allyl-1-{[3-(4-nitro­phen­yl)-4,5-dihydro-1,3-oxazol-5-yl]meth­yl}-1H-anthra[1,2-d]imidazole-2,6,11(3H)-trione\"<br/><strong>E</strong>: Morocco<br/><strong>A</strong>: Faculté des Sciences, Acta Crystallographica Section E, Laboratoire de Chimie du Solide Appliquée, Université Mohammed V-Agdal, Avenue Ibn Battouta, BP 1014, Rabat, Morocco Correspondence<br/><strong>B</strong>: Laboratoire de Chimie du Solide Applique ?e, Faculte ? des Sciences, Universite ? Mohammed V-Agdal, Avenue Ibn Battouta, BP 1014, Rabat, Morocco</p>\n",
       "</blockquote>\n",
       "<p>18 more</p></details>"
      ],
      "text/plain": [
       "<IPython.core.display.HTML object>"
      ]
     },
     "metadata": {},
     "output_type": "display_data"
    },
    {
     "data": {
      "text/html": [
       "<hr/>"
      ],
      "text/plain": [
       "<IPython.core.display.HTML object>"
      ]
     },
     "metadata": {},
     "output_type": "display_data"
    },
    {
     "data": {
      "text/html": [
       "<h1>Field: affiliation_institution</h1>"
      ],
      "text/plain": [
       "<IPython.core.display.HTML object>"
      ]
     },
     "metadata": {},
     "output_type": "display_data"
    },
    {
     "data": {
      "text/html": [
       "<h2>Dataset: pmc-sample-1943-cc-by-subset (affiliation_institution levenshtein)</h2>"
      ],
      "text/plain": [
       "<IPython.core.display.HTML object>"
      ]
     },
     "metadata": {},
     "output_type": "display_data"
    },
    {
     "data": {
      "text/html": [
       "<details><summary>Comparison: grobid-tei vs cermine</summary><p><strong>E</strong>: expected, <strong>A</strong>: pmc-sample-1943-cc-by-subset grobid-tei, <strong>B</strong>: pmc-sample-1943-cc-by-subset cermine (affiliation_institution levenshtein)</p>\n",
       "<h4>grobid-tei [0 : 1] cermine (2)</h4>\n",
       "<p>There are 2 samples where grobid-tei got it wrong, but cermine got it right.</p>\n",
       "<blockquote>\n",
       "<p><code>d-67-00463.nxml</code> \"Pi sampling: a methodical and flexible approach to initial macromolecular crystallization screening\"<br/><strong>E</strong>: MRC Laboratory of Molecular Biology<br/><strong>A</strong>: Acta Crystallographica Section D, MRC Laboratory of Molecular Biology</p>\n",
       "<p><code>apha0202-0379.nxml</code> \"On the function of the mammalian renal papilla and the peristalsis of the surrounding pelvis\"<br/><strong>E</strong>: Lexington<br/><strong>A</strong>: nan</p>\n",
       "</blockquote>\n",
       "<h4>grobid-tei [1 : 0] cermine (3)</h4>\n",
       "<p>There are 3 samples where grobid-tei got it right, but cermine got it wrong.</p>\n",
       "<blockquote>\n",
       "<p><code>ORT-1745-3674-81-405.nxml</code> \"Resection arthroplasty for luxation of the manubrio-sternal joint in rheumatoid arthritis—a case report\"<br/><strong>E</strong>: Department of Orthopaedics<br/><strong>B</strong>: Departments of</p>\n",
       "<p><code>apa0100-0653.nxml</code> \"Placental programming of blood pressure in Indian children\"<br/><strong>E</strong>: Epidemiology Research Unit, CSI Holdsworth Memorial Hospital<br/><strong>B</strong>: 1.MRC Lifecourse Epidemiology Unit, Southampton General Hospital, University of Southampton, Southampton, UK 2.Epidemiology Research Unit, CSI Holdsworth Memorial Hospital</p>\n",
       "<p><code>apa0100-0653.nxml</code> \"Placental programming of blood pressure in Indian children\"<br/><strong>E</strong>: MRC Lifecourse Epidemiology Unit, Southampton General Hospital, University of Southampton<br/><strong>B</strong>: nan</p>\n",
       "</blockquote>\n",
       "<h4>grobid-tei [0 : 0] cermine (53)</h4>\n",
       "<p>There are 53 samples where both grobid-tei and cermine got it wrong.</p>\n",
       "<blockquote>\n",
       "<p><code>e-67-o1363.nxml</code> \"3-Allyl-1-{[3-(4-nitro­phen­yl)-4,5-dihydro-1,3-oxazol-5-yl]meth­yl}-1H-anthra[1,2-d]imidazole-2,6,11(3H)-trione\"<br/><strong>E</strong>: nan<br/><strong>A</strong>: Faculté des Sciences et Techniques, Laboratoire de Chimie Organique Appliquée, Université Sidi Mohamed Ben Abdallah<br/><strong>B</strong>: Laboratoire de Chimie Organique Applique ?e, Universite ? Sidi Mohamed Ben Abdallah, Faculte ? des Sciences et Techniques</p>\n",
       "<p><code>e-67-o1363.nxml</code> \"3-Allyl-1-{[3-(4-nitro­phen­yl)-4,5-dihydro-1,3-oxazol-5-yl]meth­yl}-1H-anthra[1,2-d]imidazole-2,6,11(3H)-trione\"<br/><strong>E</strong>: nan<br/><strong>A</strong>: Faculté des Sciences et Techniques, Laboratoire de Chimie Organique Appliquée, Université Sidi Mohamed Ben Abdallah<br/><strong>B</strong>: Laboratoire de Chimie du Solide Applique ?e, Faculte ? des Sciences, Universite ? Mohammed V-Agdal</p>\n",
       "<p><code>e-67-o1363.nxml</code> \"3-Allyl-1-{[3-(4-nitro­phen­yl)-4,5-dihydro-1,3-oxazol-5-yl]meth­yl}-1H-anthra[1,2-d]imidazole-2,6,11(3H)-trione\"<br/><strong>E</strong>: nan<br/><strong>A</strong>: Faculté des Sciences et Techniques, Laboratoire de Chimie Organique Appliquée, Université Sidi Mohamed Ben Abdallah<br/><strong>B</strong>: USR 3290 Miniaturisation pour l'Analyse, la Synthe`se et la Prote ?omique, 59655 Villeneuve d'Ascq Cedex</p>\n",
       "</blockquote>\n",
       "<p>50 more</p></details>"
      ],
      "text/plain": [
       "<IPython.core.display.HTML object>"
      ]
     },
     "metadata": {},
     "output_type": "display_data"
    },
    {
     "data": {
      "text/html": [
       "<h2>Dataset: pmc-sample-1943-cc-by-subset (affiliation_institution exact)</h2>"
      ],
      "text/plain": [
       "<IPython.core.display.HTML object>"
      ]
     },
     "metadata": {},
     "output_type": "display_data"
    },
    {
     "data": {
      "text/html": [
       "<details><summary>Comparison: grobid-tei vs cermine</summary><p><strong>E</strong>: expected, <strong>A</strong>: pmc-sample-1943-cc-by-subset grobid-tei, <strong>B</strong>: pmc-sample-1943-cc-by-subset cermine (affiliation_institution exact)</p>\n",
       "<h4>grobid-tei [0 : 1] cermine (2)</h4>\n",
       "<p>There are 2 samples where grobid-tei got it wrong, but cermine got it right.</p>\n",
       "<blockquote>\n",
       "<p><code>d-67-00463.nxml</code> \"Pi sampling: a methodical and flexible approach to initial macromolecular crystallization screening\"<br/><strong>E</strong>: MRC Laboratory of Molecular Biology<br/><strong>A</strong>: Acta Crystallographica Section D, MRC Laboratory of Molecular Biology</p>\n",
       "<p><code>apha0202-0379.nxml</code> \"On the function of the mammalian renal papilla and the peristalsis of the surrounding pelvis\"<br/><strong>E</strong>: Lexington<br/><strong>A</strong>: nan</p>\n",
       "</blockquote>\n",
       "<h4>grobid-tei [1 : 0] cermine (2)</h4>\n",
       "<p>There are 2 samples where grobid-tei got it right, but cermine got it wrong.</p>\n",
       "<blockquote>\n",
       "<p><code>apa0100-0653.nxml</code> \"Placental programming of blood pressure in Indian children\"<br/><strong>E</strong>: Epidemiology Research Unit, CSI Holdsworth Memorial Hospital<br/><strong>B</strong>: 1.MRC Lifecourse Epidemiology Unit, Southampton General Hospital, University of Southampton, Southampton, UK 2.Epidemiology Research Unit, CSI Holdsworth Memorial Hospital</p>\n",
       "<p><code>apa0100-0653.nxml</code> \"Placental programming of blood pressure in Indian children\"<br/><strong>E</strong>: MRC Lifecourse Epidemiology Unit, Southampton General Hospital, University of Southampton<br/><strong>B</strong>: nan</p>\n",
       "</blockquote>\n",
       "<h4>grobid-tei [0 : 0] cermine (55)</h4>\n",
       "<p>There are 55 samples where both grobid-tei and cermine got it wrong.</p>\n",
       "<blockquote>\n",
       "<p><code>e-67-o1363.nxml</code> \"3-Allyl-1-{[3-(4-nitro­phen­yl)-4,5-dihydro-1,3-oxazol-5-yl]meth­yl}-1H-anthra[1,2-d]imidazole-2,6,11(3H)-trione\"<br/><strong>E</strong>: nan<br/><strong>A</strong>: Faculté des Sciences et Techniques, Laboratoire de Chimie Organique Appliquée, Université Sidi Mohamed Ben Abdallah<br/><strong>B</strong>: Laboratoire de Chimie Organique Applique ?e, Universite ? Sidi Mohamed Ben Abdallah, Faculte ? des Sciences et Techniques</p>\n",
       "<p><code>e-67-o1363.nxml</code> \"3-Allyl-1-{[3-(4-nitro­phen­yl)-4,5-dihydro-1,3-oxazol-5-yl]meth­yl}-1H-anthra[1,2-d]imidazole-2,6,11(3H)-trione\"<br/><strong>E</strong>: nan<br/><strong>A</strong>: Faculté des Sciences et Techniques, Laboratoire de Chimie Organique Appliquée, Université Sidi Mohamed Ben Abdallah<br/><strong>B</strong>: Laboratoire de Chimie du Solide Applique ?e, Faculte ? des Sciences, Universite ? Mohammed V-Agdal</p>\n",
       "<p><code>e-67-o1363.nxml</code> \"3-Allyl-1-{[3-(4-nitro­phen­yl)-4,5-dihydro-1,3-oxazol-5-yl]meth­yl}-1H-anthra[1,2-d]imidazole-2,6,11(3H)-trione\"<br/><strong>E</strong>: nan<br/><strong>A</strong>: Faculté des Sciences et Techniques, Laboratoire de Chimie Organique Appliquée, Université Sidi Mohamed Ben Abdallah<br/><strong>B</strong>: USR 3290 Miniaturisation pour l'Analyse, la Synthe`se et la Prote ?omique, 59655 Villeneuve d'Ascq Cedex</p>\n",
       "</blockquote>\n",
       "<p>52 more</p></details>"
      ],
      "text/plain": [
       "<IPython.core.display.HTML object>"
      ]
     },
     "metadata": {},
     "output_type": "display_data"
    },
    {
     "data": {
      "text/html": [
       "<hr/>"
      ],
      "text/plain": [
       "<IPython.core.display.HTML object>"
      ]
     },
     "metadata": {},
     "output_type": "display_data"
    },
    {
     "data": {
      "text/html": [
       "<h1>Field: first_reference_fields</h1>"
      ],
      "text/plain": [
       "<IPython.core.display.HTML object>"
      ]
     },
     "metadata": {},
     "output_type": "display_data"
    },
    {
     "data": {
      "text/html": [
       "<h2>Dataset: pmc-sample-1943-cc-by-subset (first_reference_fields levenshtein)</h2>"
      ],
      "text/plain": [
       "<IPython.core.display.HTML object>"
      ]
     },
     "metadata": {},
     "output_type": "display_data"
    },
    {
     "data": {
      "text/html": [
       "<details><summary>Comparison: grobid-tei vs cermine</summary><p><strong>E</strong>: expected, <strong>A</strong>: pmc-sample-1943-cc-by-subset grobid-tei, <strong>B</strong>: pmc-sample-1943-cc-by-subset cermine (first_reference_fields levenshtein)</p>\n",
       "<h4>grobid-tei [0 : 1] cermine (2)</h4>\n",
       "<p>There are 2 samples where grobid-tei got it wrong, but cermine got it right.</p>\n",
       "<blockquote>\n",
       "<p><code>sonc50-621.nxml</code> \"Management of cutaneous metastases using electrochemotherapy\"<br/><strong>E</strong>: [u'1', u'Schwartz', u'RA', u'Cutaneous metastatic disease', u'J Am Acad Dermatol', u'1995', u'33', u'161', u'82', u'7622642']<br/><strong>A</strong>: [u'Cutaneous metastatic disease', u'R', u'A', u'Schwartz', u'J Am Acad', u'']</p>\n",
       "<p><code>ORT-1745-3674-81-405.nxml</code> \"Resection arthroplasty for luxation of the manubrio-sternal joint in rheumatoid arthritis—a case report\"<br/><strong>E</strong>: [u'Bogdan', u'A', u'Clark', u'J', u'Manubrio-sternal joint in rheumatoid arthritis', u'Br Med J', u'1950', u'16', u'1361', u'2', u'14792027']<br/><strong>A</strong>: [u'Manubriosternal joint subluxation in rheumatoid arthritis', u'T K', u'Khong', u'P', u'J', u'Rooney', u'J Reumatol', u'9', u'', u'']</p>\n",
       "</blockquote>\n",
       "<h4>grobid-tei [1 : 0] cermine (0)</h4>\n",
       "<p>There are 0 samples where grobid-tei got it right, but cermine got it wrong.</p>\n",
       "<h4>grobid-tei [0 : 0] cermine (1)</h4>\n",
       "<p>There are 1 samples where both grobid-tei and cermine got it wrong.</p>\n",
       "<blockquote>\n",
       "<p><code>apa0100-0653.nxml</code> \"Placental programming of blood pressure in Indian children\"<br/><strong>E</strong>: [u'1', u'Law', u'CM', u'de', u'SM', u'Osmond', u'C', u'Fayers', u'PM', u'Barker', u'DJ', u'Cruddas', u'AM', u'', u'in utero', u'Br Med J', u'1993', u'306', u'24', u'7', u'8435572']<br/><strong>A</strong>: [u'Initiation of hypertension in utero and its amplification throughout life', u'C', u'M', u'Law', u'S', u'M', u'De', u'C', u'Osmond', u'P', u'M', u'Fayers', u'D', u'J', u'Barker', u'A', u'M', u'Cruddas', u'Br Med J', u'306', u'', u'']<br/><strong>B</strong>: [u'Law', u'CM', u'de', u'SM', u'Osmond', u'C', u'Fayers', u'PM', u'Barker', u'DJ', u'Cruddas', u'AM', u'Initiation of hypertension in utero and its amplification throughout life', u'Br Med J', u'1993', u'306', u'24', u'7']</p>\n",
       "</blockquote></details>"
      ],
      "text/plain": [
       "<IPython.core.display.HTML object>"
      ]
     },
     "metadata": {},
     "output_type": "display_data"
    },
    {
     "data": {
      "text/html": [
       "<h2>Dataset: pmc-sample-1943-cc-by-subset (first_reference_fields exact)</h2>"
      ],
      "text/plain": [
       "<IPython.core.display.HTML object>"
      ]
     },
     "metadata": {},
     "output_type": "display_data"
    },
    {
     "data": {
      "text/html": [
       "<details><summary>Comparison: grobid-tei vs cermine</summary><p><strong>E</strong>: expected, <strong>A</strong>: pmc-sample-1943-cc-by-subset grobid-tei, <strong>B</strong>: pmc-sample-1943-cc-by-subset cermine (first_reference_fields exact)</p>\n",
       "<h4>grobid-tei [0 : 1] cermine (0)</h4>\n",
       "<p>There are 0 samples where grobid-tei got it wrong, but cermine got it right.</p>\n",
       "<h4>grobid-tei [1 : 0] cermine (0)</h4>\n",
       "<p>There are 0 samples where grobid-tei got it right, but cermine got it wrong.</p>\n",
       "<h4>grobid-tei [0 : 0] cermine (10)</h4>\n",
       "<p>There are 10 samples where both grobid-tei and cermine got it wrong.</p>\n",
       "<blockquote>\n",
       "<p><code>aas0055-0039.nxml</code> \"Phosphate-containing dialysis solution prevents hypophosphatemia during continuous renal replacement therapy\"<br/><strong>E</strong>: [u'1', u'Troyanov', u'S', u'Geadah', u'D', u'Ghannoum', u'M', u'Cardinal', u'J', u'Leblanc', u'M', u'Phosphate addition to hemodiafiltration solutions during continuous renal replacement therapy', u'Intensive Care Med', u'2004', u'30', u'1662', u'5', u'15156308']<br/><strong>A</strong>: [u'Phosphate addition to hemodiafiltration solutions during continuous renal replacement therapy', u'S', u'Troyanov', u'D', u'Geadah', u'M', u'Ghannoum', u'J', u'Cardinal', u'M', u'Leblanc', u'Intensive Care Med', u'30', u'', u'']<br/><strong>B</strong>: [u'Troyanov', u'S', u'Geadah', u'D', u'Ghannoum', u'M', u'Cardinal', u'J', u'Leblanc', u'M.', u'Phosphate addition to hemodiafiltration solutions during continuous renal replacement therapy', u'Intensive Care Med', u'2004', u'30', u'1662', u'5']</p>\n",
       "<p><code>d-67-00463.nxml</code> \"Pi sampling: a methodical and flexible approach to initial macromolecular crystallization screening\"<br/><strong>E</strong>: [u'J. Appl. Cryst.', u'39']<br/><strong>A</strong>: [u'', u'V', u'Berejnov', u'N', u'S', u'Husseini', u'O', u'A', u'Alsaied', u'R', u'E', u'Thorne', u'J. Appl. Cryst', u'39', u'', u'']<br/><strong>B</strong>: [u'Berejnov', u'V.', u'Husseini', u'N. S.', u'Alsaied', u'O. A.', u'Thorne', u'R. E.', u'2006', u'J. Appl. Cryst', u'39', u'244', u'251']</p>\n",
       "<p><code>e-67-o1363.nxml</code> \"3-Allyl-1-{[3-(4-nitro­phen­yl)-4,5-dihydro-1,3-oxazol-5-yl]meth­yl}-1H-anthra[1,2-d]imidazole-2,6,11(3H)-trione\"<br/><strong>E</strong>: [u'Acta Cryst.', u'66']<br/><strong>A</strong>: [u'', u'Z', u'Afrakssou', u'Y', u'K', u'Rodi', u'H', u'Zouihri', u'E', u'M', u'Essassi', u'S', u'W', u'Ng', u'Acta Cryst', u'66', u'1851', u'']<br/><strong>B</strong>: [u'Afrakssou', u'Z.', u'Rodi', u'Y. K.', u'Zouihri', u'H.', u'Essassi', u'E. M.', u'Ng', u'S. W.', u'2010', u'Acta Cryst. E66', u'o1851']</p>\n",
       "</blockquote>\n",
       "<p>7 more</p></details>"
      ],
      "text/plain": [
       "<IPython.core.display.HTML object>"
      ]
     },
     "metadata": {},
     "output_type": "display_data"
    },
    {
     "data": {
      "text/html": [
       "<hr/>"
      ],
      "text/plain": [
       "<IPython.core.display.HTML object>"
      ]
     },
     "metadata": {},
     "output_type": "display_data"
    },
    {
     "data": {
      "text/html": [
       "<h1>Field: first_reference_title</h1>"
      ],
      "text/plain": [
       "<IPython.core.display.HTML object>"
      ]
     },
     "metadata": {},
     "output_type": "display_data"
    },
    {
     "data": {
      "text/html": [
       "<h2>Dataset: pmc-sample-1943-cc-by-subset (first_reference_title levenshtein)</h2>"
      ],
      "text/plain": [
       "<IPython.core.display.HTML object>"
      ]
     },
     "metadata": {},
     "output_type": "display_data"
    },
    {
     "data": {
      "text/html": [
       "<details><summary>Comparison: grobid-tei vs cermine</summary><p><strong>E</strong>: expected, <strong>A</strong>: pmc-sample-1943-cc-by-subset grobid-tei, <strong>B</strong>: pmc-sample-1943-cc-by-subset cermine (first_reference_title levenshtein)</p>\n",
       "<h4>grobid-tei [0 : 1] cermine (2)</h4>\n",
       "<p>There are 2 samples where grobid-tei got it wrong, but cermine got it right.</p>\n",
       "<blockquote>\n",
       "<p><code>ORT-1745-3674-81-405.nxml</code> \"Resection arthroplasty for luxation of the manubrio-sternal joint in rheumatoid arthritis—a case report\"<br/><strong>E</strong>: Manubrio-sternal joint in rheumatoid arthritis<br/><strong>A</strong>: Manubriosternal joint subluxation in rheumatoid arthritis</p>\n",
       "<p><code>apha0202-0379.nxml</code> \"On the function of the mammalian renal papilla and the peristalsis of the surrounding pelvis\"<br/><strong>E</strong>: Unpublished remarks<br/><strong>A</strong>: nan</p>\n",
       "</blockquote>\n",
       "<h4>grobid-tei [1 : 0] cermine (0)</h4>\n",
       "<p>There are 0 samples where grobid-tei got it right, but cermine got it wrong.</p>\n",
       "<h4>grobid-tei [0 : 0] cermine (0)</h4>\n",
       "<p>There are 0 samples where both grobid-tei and cermine got it wrong.</p></details>"
      ],
      "text/plain": [
       "<IPython.core.display.HTML object>"
      ]
     },
     "metadata": {},
     "output_type": "display_data"
    },
    {
     "data": {
      "text/html": [
       "<h2>Dataset: pmc-sample-1943-cc-by-subset (first_reference_title exact)</h2>"
      ],
      "text/plain": [
       "<IPython.core.display.HTML object>"
      ]
     },
     "metadata": {},
     "output_type": "display_data"
    },
    {
     "data": {
      "text/html": [
       "<details><summary>Comparison: grobid-tei vs cermine</summary><p><strong>E</strong>: expected, <strong>A</strong>: pmc-sample-1943-cc-by-subset grobid-tei, <strong>B</strong>: pmc-sample-1943-cc-by-subset cermine (first_reference_title exact)</p>\n",
       "<h4>grobid-tei [0 : 1] cermine (2)</h4>\n",
       "<p>There are 2 samples where grobid-tei got it wrong, but cermine got it right.</p>\n",
       "<blockquote>\n",
       "<p><code>ORT-1745-3674-81-405.nxml</code> \"Resection arthroplasty for luxation of the manubrio-sternal joint in rheumatoid arthritis—a case report\"<br/><strong>E</strong>: Manubrio-sternal joint in rheumatoid arthritis<br/><strong>A</strong>: Manubriosternal joint subluxation in rheumatoid arthritis</p>\n",
       "<p><code>apha0202-0379.nxml</code> \"On the function of the mammalian renal papilla and the peristalsis of the surrounding pelvis\"<br/><strong>E</strong>: Unpublished remarks<br/><strong>A</strong>: nan</p>\n",
       "</blockquote>\n",
       "<h4>grobid-tei [1 : 0] cermine (0)</h4>\n",
       "<p>There are 0 samples where grobid-tei got it right, but cermine got it wrong.</p>\n",
       "<h4>grobid-tei [0 : 0] cermine (0)</h4>\n",
       "<p>There are 0 samples where both grobid-tei and cermine got it wrong.</p></details>"
      ],
      "text/plain": [
       "<IPython.core.display.HTML object>"
      ]
     },
     "metadata": {},
     "output_type": "display_data"
    },
    {
     "data": {
      "text/html": [
       "<hr/>"
      ],
      "text/plain": [
       "<IPython.core.display.HTML object>"
      ]
     },
     "metadata": {},
     "output_type": "display_data"
    },
    {
     "data": {
      "text/html": [
       "<h1>Field: reference_fields</h1>"
      ],
      "text/plain": [
       "<IPython.core.display.HTML object>"
      ]
     },
     "metadata": {},
     "output_type": "display_data"
    },
    {
     "data": {
      "text/html": [
       "<h2>Dataset: pmc-sample-1943-cc-by-subset (reference_fields levenshtein)</h2>"
      ],
      "text/plain": [
       "<IPython.core.display.HTML object>"
      ]
     },
     "metadata": {},
     "output_type": "display_data"
    },
    {
     "data": {
      "text/html": [
       "<details><summary>Comparison: grobid-tei vs cermine</summary><p><strong>E</strong>: expected, <strong>A</strong>: pmc-sample-1943-cc-by-subset grobid-tei, <strong>B</strong>: pmc-sample-1943-cc-by-subset cermine (reference_fields levenshtein)</p>\n",
       "<h4>grobid-tei [0 : 1] cermine (70)</h4>\n",
       "<p>There are 70 samples where grobid-tei got it wrong, but cermine got it right.</p>\n",
       "<blockquote>\n",
       "<p><code>aas0055-0039.nxml</code> \"Phosphate-containing dialysis solution prevents hypophosphatemia during continuous renal replacement therapy\"<br/><strong>E</strong>: [u'3', u'Bugg', u'NC', u'Jones', u'JA', u'Hypophosphataemia. Pathophysiology, effects and management on the intensive care unit', u'Anaesthesia', u'1998', u'53', u'895', u'902', u'9849285']<br/><strong>A</strong>: [u'Pathophysiology, effects and management on the intensive care unit', u'N', u'C', u'Bugg', u'J', u'A', u'Jones', u'Hypophosphataemia', u'Anaesthesia', u'53', u'', u'']</p>\n",
       "<p><code>aas0055-0039.nxml</code> \"Phosphate-containing dialysis solution prevents hypophosphatemia during continuous renal replacement therapy\"<br/><strong>E</strong>: [u'27', u'Kingston', u'M', u\"Al-Siba'i\", u'MB', u'Treatment of severe hypophosphatemia', u'Crit Care Med', u'1985', u'13', u'16', u'8', u'3965243']<br/><strong>A</strong>: [u'Treatment of severe hypophosphatemia', u'M', u'Kingston', u'Al-Siba&apos;i Mb', u'Crit Care Med', u'13', u'', u'']</p>\n",
       "<p><code>aas0055-0039.nxml</code> \"Phosphate-containing dialysis solution prevents hypophosphatemia during continuous renal replacement therapy\"<br/><strong>E</strong>: [u'28', u'Sacks', u'GS', u'Walker', u'J', u'Dickerson', u'RN', u'Kudsk', u'KA', u'Brown', u'RO', u'Observations of hypophosphatemia and its management in nutrition support', u'Nutr Clin Pract', u'1994', u'9', u'105', u'8', u'8078444']<br/><strong>A</strong>: [u'Observations of hypophosphatemia and its management in nutrition support', u'G', u'S', u'Sacks', u'J', u'Walker', u'R', u'N', u'Dickerson', u'K', u'A', u'Kudsk', u'R', u'O', u'Brown', u'Nutr Clin Pract', u'9', u'', u'']</p>\n",
       "</blockquote>\n",
       "<p>67 more</p>\n",
       "<h4>grobid-tei [1 : 0] cermine (10)</h4>\n",
       "<p>There are 10 samples where grobid-tei got it right, but cermine got it wrong.</p>\n",
       "<blockquote>\n",
       "<p><code>d-67-00463.nxml</code> \"Pi sampling: a methodical and flexible approach to initial macromolecular crystallization screening\"<br/><strong>E</strong>: [u'Cell', u'141']<br/><strong>B</strong>: [u'Clarke', u'O. B.', u'Caputo', u'A. T.', u'Hill', u'A. P.', u'Vandenberg', u'J. I.', u'Smith', u'B. J.', u'Gulbis', u'J. M.', u'2010', u'141', u'1018', u'1029']</p>\n",
       "<p><code>d-67-00463.nxml</code> \"Pi sampling: a methodical and flexible approach to initial macromolecular crystallization screening\"<br/><strong>E</strong>: [u'Bioinformatics', u'20']<br/><strong>B</strong>: [u'Kantardjieff', u'K. A.', u'Rupp', u'B.', u'2004', u'20', u'2162', u'2168']</p>\n",
       "<p><code>d-67-00463.nxml</code> \"Pi sampling: a methodical and flexible approach to initial macromolecular crystallization screening\"<br/><strong>E</strong>: [u'Proteins', u'51']<br/><strong>B</strong>: [u'Kimber', u'M. S.', u'Vallee', u'F.', u'Houston', u'S.', u'Necakov', u'A.', u'Skarina', u'T.', u'Evdokimova', u'E.', u'Beasley', u'S.', u'Christendat', u'D.', u'Savchenko', u'A.', u'Arrowsmith', u'C. H.', u'Vedadi', u'M.', u'Gerstein', u'M.', u'Edwards', u'A. M.', u'2003', u'51', u'562', u'568']</p>\n",
       "</blockquote>\n",
       "<p>7 more</p>\n",
       "<h4>grobid-tei [0 : 0] cermine (3)</h4>\n",
       "<p>There are 3 samples where both grobid-tei and cermine got it wrong.</p>\n",
       "<blockquote>\n",
       "<p><code>d-67-00463.nxml</code> \"Pi sampling: a methodical and flexible approach to initial macromolecular crystallization screening\"<br/><strong>E</strong>: [u'et al.', u'Acta Cryst.', u'67']<br/><strong>A</strong>: [u'', u'C', u'Morris', u'Acta Cryst', u'67', u'', u'']<br/><strong>B</strong>: [u'Morris', u'C.', u'2011', u'Acta Cryst. D67', u'249', u'260']</p>\n",
       "<p><code>sobs89-975.nxml</code> \"Camera trocar lifting in office gasless laparoscopic sterilization under local anesthesia\"<br/><strong>E</strong>: [u'4', u'Johnson', u'PL', u'Sibert', u'KS', u'Laparoscopy. Gasless vs. CO2 pneumoperitoneum', u'J Reprod Med', u'1997', u'42', u'255', u'59', u'9172113']<br/><strong>A</strong>: [u'Gasless vs. CO2 pneumoperitoneum', u'P', u'L', u'Johnson', u'K', u'S', u'Sibert', u'Laparoscopy', u'J Reprod Med', u'42', u'', u'']<br/><strong>B</strong>: [u'Johnson', u'PL', u'Sibert', u'KS', u'Gasless vs. CO2 pneumoperitoneum', u'J Reprod Med', u'1997', u'42', u'255', u'59']</p>\n",
       "<p><code>apa0100-0653.nxml</code> \"Placental programming of blood pressure in Indian children\"<br/><strong>E</strong>: [u'1', u'Law', u'CM', u'de', u'SM', u'Osmond', u'C', u'Fayers', u'PM', u'Barker', u'DJ', u'Cruddas', u'AM', u'', u'in utero', u'Br Med J', u'1993', u'306', u'24', u'7', u'8435572']<br/><strong>A</strong>: [u'Initiation of hypertension in utero and its amplification throughout life', u'C', u'M', u'Law', u'S', u'M', u'De', u'C', u'Osmond', u'P', u'M', u'Fayers', u'D', u'J', u'Barker', u'A', u'M', u'Cruddas', u'Br Med J', u'306', u'', u'']<br/><strong>B</strong>: [u'Law', u'CM', u'de', u'SM', u'Osmond', u'C', u'Fayers', u'PM', u'Barker', u'DJ', u'Cruddas', u'AM', u'Initiation of hypertension in utero and its amplification throughout life', u'Br Med J', u'1993', u'306', u'24', u'7']</p>\n",
       "</blockquote></details>"
      ],
      "text/plain": [
       "<IPython.core.display.HTML object>"
      ]
     },
     "metadata": {},
     "output_type": "display_data"
    },
    {
     "data": {
      "text/html": [
       "<h2>Dataset: pmc-sample-1943-cc-by-subset (reference_fields exact)</h2>"
      ],
      "text/plain": [
       "<IPython.core.display.HTML object>"
      ]
     },
     "metadata": {},
     "output_type": "display_data"
    },
    {
     "data": {
      "text/html": [
       "<details><summary>Comparison: grobid-tei vs cermine</summary><p><strong>E</strong>: expected, <strong>A</strong>: pmc-sample-1943-cc-by-subset grobid-tei, <strong>B</strong>: pmc-sample-1943-cc-by-subset cermine (reference_fields exact)</p>\n",
       "<h4>grobid-tei [0 : 1] cermine (6)</h4>\n",
       "<p>There are 6 samples where grobid-tei got it wrong, but cermine got it right.</p>\n",
       "<blockquote>\n",
       "<p><code>d-67-00463.nxml</code> \"Pi sampling: a methodical and flexible approach to initial macromolecular crystallization screening\"<br/><strong>E</strong>: [u'Protein Sci.', u'18']<br/><strong>A</strong>: [u'', u'M', u'Koszelak-Rosenblum', u'A', u'Krol', u'N', u'Mozumdar', u'K', u'Wunsch', u'A', u'Ferin', u'E', u'Cook', u'C', u'K', u'Veatch', u'R', u'Nagel', u'J', u'R', u'Luft', u'G', u'T', u'Detitta', u'M', u'G', u'Malkowski', u'Protein Sci', u'18', u'', u'']</p>\n",
       "<p><code>d-67-00463.nxml</code> \"Pi sampling: a methodical and flexible approach to initial macromolecular crystallization screening\"<br/><strong>E</strong>: [u'Proc. Natl Acad. Sci. USA', u'93']<br/><strong>A</strong>: [u'E', u'M', u'Landau', u'J', u'P', u'Rosenbusch', u'Proc. Natl Acad. Sci', u'USA, 93', u'', u'']</p>\n",
       "<p><code>d-67-00463.nxml</code> \"Pi sampling: a methodical and flexible approach to initial macromolecular crystallization screening\"<br/><strong>E</strong>: [u'Eur. J. Biochem.', u'189']<br/><strong>A</strong>: [u'', u'A', u'Mcpherson', u'Eur. J. Biochem', u'189', u'', u'']</p>\n",
       "</blockquote>\n",
       "<p>3 more</p>\n",
       "<h4>grobid-tei [1 : 0] cermine (5)</h4>\n",
       "<p>There are 5 samples where grobid-tei got it right, but cermine got it wrong.</p>\n",
       "<blockquote>\n",
       "<p><code>d-67-00463.nxml</code> \"Pi sampling: a methodical and flexible approach to initial macromolecular crystallization screening\"<br/><strong>E</strong>: [u'Cell', u'141']<br/><strong>B</strong>: [u'Clarke', u'O. B.', u'Caputo', u'A. T.', u'Hill', u'A. P.', u'Vandenberg', u'J. I.', u'Smith', u'B. J.', u'Gulbis', u'J. M.', u'2010', u'141', u'1018', u'1029']</p>\n",
       "<p><code>d-67-00463.nxml</code> \"Pi sampling: a methodical and flexible approach to initial macromolecular crystallization screening\"<br/><strong>E</strong>: [u'Bioinformatics', u'20']<br/><strong>B</strong>: [u'Kantardjieff', u'K. A.', u'Rupp', u'B.', u'2004', u'20', u'2162', u'2168']</p>\n",
       "<p><code>d-67-00463.nxml</code> \"Pi sampling: a methodical and flexible approach to initial macromolecular crystallization screening\"<br/><strong>E</strong>: [u'Proteins', u'51']<br/><strong>B</strong>: [u'Kimber', u'M. S.', u'Vallee', u'F.', u'Houston', u'S.', u'Necakov', u'A.', u'Skarina', u'T.', u'Evdokimova', u'E.', u'Beasley', u'S.', u'Christendat', u'D.', u'Savchenko', u'A.', u'Arrowsmith', u'C. H.', u'Vedadi', u'M.', u'Gerstein', u'M.', u'Edwards', u'A. M.', u'2003', u'51', u'562', u'568']</p>\n",
       "</blockquote>\n",
       "<p>2 more</p>\n",
       "<h4>grobid-tei [0 : 0] cermine (167)</h4>\n",
       "<p>There are 167 samples where both grobid-tei and cermine got it wrong.</p>\n",
       "<blockquote>\n",
       "<p><code>aas0055-0039.nxml</code> \"Phosphate-containing dialysis solution prevents hypophosphatemia during continuous renal replacement therapy\"<br/><strong>E</strong>: [u'1', u'Troyanov', u'S', u'Geadah', u'D', u'Ghannoum', u'M', u'Cardinal', u'J', u'Leblanc', u'M', u'Phosphate addition to hemodiafiltration solutions during continuous renal replacement therapy', u'Intensive Care Med', u'2004', u'30', u'1662', u'5', u'15156308']<br/><strong>A</strong>: [u'Phosphate addition to hemodiafiltration solutions during continuous renal replacement therapy', u'S', u'Troyanov', u'D', u'Geadah', u'M', u'Ghannoum', u'J', u'Cardinal', u'M', u'Leblanc', u'Intensive Care Med', u'30', u'', u'']<br/><strong>B</strong>: [u'Troyanov', u'S', u'Geadah', u'D', u'Ghannoum', u'M', u'Cardinal', u'J', u'Leblanc', u'M.', u'Phosphate addition to hemodiafiltration solutions during continuous renal replacement therapy', u'Intensive Care Med', u'2004', u'30', u'1662', u'5']</p>\n",
       "<p><code>aas0055-0039.nxml</code> \"Phosphate-containing dialysis solution prevents hypophosphatemia during continuous renal replacement therapy\"<br/><strong>E</strong>: [u'2', u'Marik', u'PE', u'Bedigian', u'MK', u'Refeeding hypophosphatemia in critically ill patients in an intensive care unit. A prospective study', u'Arch Surg', u'1996', u'131', u'1043', u'7', u'8857900']<br/><strong>A</strong>: [u'Refeeding hypophosphatemia in critically ill patients in an intensive care unit. A prospective study', u'P', u'E', u'Marik', u'M', u'K', u'Bedigian', u'Arch Surg', u'131', u'', u'']<br/><strong>B</strong>: [u'Marik', u'PE', u'Bedigian', u'MK', u'Refeeding hypophosphatemia in critically ill patients in an intensive care unit. A prospective study', u'Arch Surg', u'1996', u'131', u'1043', u'7']</p>\n",
       "<p><code>aas0055-0039.nxml</code> \"Phosphate-containing dialysis solution prevents hypophosphatemia during continuous renal replacement therapy\"<br/><strong>E</strong>: [u'3', u'Bugg', u'NC', u'Jones', u'JA', u'Hypophosphataemia. Pathophysiology, effects and management on the intensive care unit', u'Anaesthesia', u'1998', u'53', u'895', u'902', u'9849285']<br/><strong>A</strong>: [u'Pathophysiology, effects and management on the intensive care unit', u'N', u'C', u'Bugg', u'J', u'A', u'Jones', u'Hypophosphataemia', u'Anaesthesia', u'53', u'', u'']<br/><strong>B</strong>: [u'Bugg', u'NC', u'Jones', u'JA', u'Hypophosphataemia. Pathophysiology, effects and management on the intensive care unit', u'Anaesthesia', u'1998', u'53', u'895', u'902']</p>\n",
       "</blockquote>\n",
       "<p>164 more</p></details>"
      ],
      "text/plain": [
       "<IPython.core.display.HTML object>"
      ]
     },
     "metadata": {},
     "output_type": "display_data"
    },
    {
     "data": {
      "text/html": [
       "<hr/>"
      ],
      "text/plain": [
       "<IPython.core.display.HTML object>"
      ]
     },
     "metadata": {},
     "output_type": "display_data"
    },
    {
     "data": {
      "text/html": [
       "<h1>Field: reference_title</h1>"
      ],
      "text/plain": [
       "<IPython.core.display.HTML object>"
      ]
     },
     "metadata": {},
     "output_type": "display_data"
    },
    {
     "data": {
      "text/html": [
       "<h2>Dataset: pmc-sample-1943-cc-by-subset (reference_title levenshtein)</h2>"
      ],
      "text/plain": [
       "<IPython.core.display.HTML object>"
      ]
     },
     "metadata": {},
     "output_type": "display_data"
    },
    {
     "data": {
      "text/html": [
       "<details><summary>Comparison: grobid-tei vs cermine</summary><p><strong>E</strong>: expected, <strong>A</strong>: pmc-sample-1943-cc-by-subset grobid-tei, <strong>B</strong>: pmc-sample-1943-cc-by-subset cermine (reference_title levenshtein)</p>\n",
       "<h4>grobid-tei [0 : 1] cermine (53)</h4>\n",
       "<p>There are 53 samples where grobid-tei got it wrong, but cermine got it right.</p>\n",
       "<blockquote>\n",
       "<p><code>aas0055-0039.nxml</code> \"Phosphate-containing dialysis solution prevents hypophosphatemia during continuous renal replacement therapy\"<br/><strong>E</strong>: Hypophosphataemia. Pathophysiology, effects and management on the intensive care unit<br/><strong>A</strong>: Pathophysiology, effects and management on the intensive care unit</p>\n",
       "<p><code>aas0055-0039.nxml</code> \"Phosphate-containing dialysis solution prevents hypophosphatemia during continuous renal replacement therapy\"<br/><strong>E</strong>: Serum inorganic phosphate<br/><strong>A</strong>: nan</p>\n",
       "<p><code>sonc50-621.nxml</code> \"Management of cutaneous metastases using electrochemotherapy\"<br/><strong>E</strong>: Tumor invasion of the skin<br/><strong>A</strong>: nan</p>\n",
       "</blockquote>\n",
       "<p>50 more</p>\n",
       "<h4>grobid-tei [1 : 0] cermine (3)</h4>\n",
       "<p>There are 3 samples where grobid-tei got it right, but cermine got it wrong.</p>\n",
       "<blockquote>\n",
       "<p><code>sobs89-975.nxml</code> \"Camera trocar lifting in office gasless laparoscopic sterilization under local anesthesia\"<br/><strong>E</strong>: Minilaparotomy or laparoscopy for sterilization: a multicenter, multinational randomized study<br/><strong>B</strong>: Force on Female Sterilization. Minilaparotomy or laparoscopy for sterilization: a multicenter, multinational randomized study</p>\n",
       "<p><code>apha0202-0379.nxml</code> \"On the function of the mammalian renal papilla and the peristalsis of the surrounding pelvis\"<br/><strong>E</strong>: Studies on the mammalian kidney<br/><strong>B</strong>: nan</p>\n",
       "<p><code>apha0202-0379.nxml</code> \"On the function of the mammalian renal papilla and the peristalsis of the surrounding pelvis\"<br/><strong>E</strong>: Intrarenal distribution of urea and related compounds: effects of nitrogen intake<br/><strong>B</strong>: nan</p>\n",
       "</blockquote>\n",
       "<h4>grobid-tei [0 : 0] cermine (9)</h4>\n",
       "<p>There are 9 samples where both grobid-tei and cermine got it wrong.</p>\n",
       "<blockquote>\n",
       "<p><code>sobs89-975.nxml</code> \"Camera trocar lifting in office gasless laparoscopic sterilization under local anesthesia\"<br/><strong>E</strong>: Laparoscopy. Gasless vs. CO2 pneumoperitoneum<br/><strong>A</strong>: Gasless vs. CO2 pneumoperitoneum<br/><strong>B</strong>: Gasless vs. CO2 pneumoperitoneum</p>\n",
       "<p><code>sonc50-621.nxml</code> \"Management of cutaneous metastases using electrochemotherapy\"<br/><strong>E</strong>: New guidelines to evaluate the response to treatment in solid tumors. European Organization for Research and Treatment of Cancer, National Cancer Institute of the United States, National Cancer Institute of Canada<br/><strong>A</strong>: nan<br/><strong>B</strong>: New guidelines to evaluate the response to treatment in solid tumors, National Cancer Institute of the United States, National Cancer Institute of Canada</p>\n",
       "<p><code>apa0100-0653.nxml</code> \"Placental programming of blood pressure in Indian children\"<br/><strong>E</strong>: nan<br/><strong>A</strong>: All that glitters. Br Nutr Foundation Annual Lecture<br/><strong>B</strong>: Mothers, babies and disease in later life, 2nd edn</p>\n",
       "</blockquote>\n",
       "<p>6 more</p></details>"
      ],
      "text/plain": [
       "<IPython.core.display.HTML object>"
      ]
     },
     "metadata": {},
     "output_type": "display_data"
    },
    {
     "data": {
      "text/html": [
       "<h2>Dataset: pmc-sample-1943-cc-by-subset (reference_title exact)</h2>"
      ],
      "text/plain": [
       "<IPython.core.display.HTML object>"
      ]
     },
     "metadata": {},
     "output_type": "display_data"
    },
    {
     "data": {
      "text/html": [
       "<details><summary>Comparison: grobid-tei vs cermine</summary><p><strong>E</strong>: expected, <strong>A</strong>: pmc-sample-1943-cc-by-subset grobid-tei, <strong>B</strong>: pmc-sample-1943-cc-by-subset cermine (reference_title exact)</p>\n",
       "<h4>grobid-tei [0 : 1] cermine (50)</h4>\n",
       "<p>There are 50 samples where grobid-tei got it wrong, but cermine got it right.</p>\n",
       "<blockquote>\n",
       "<p><code>aas0055-0039.nxml</code> \"Phosphate-containing dialysis solution prevents hypophosphatemia during continuous renal replacement therapy\"<br/><strong>E</strong>: Hypophosphataemia. Pathophysiology, effects and management on the intensive care unit<br/><strong>A</strong>: Pathophysiology, effects and management on the intensive care unit</p>\n",
       "<p><code>aas0055-0039.nxml</code> \"Phosphate-containing dialysis solution prevents hypophosphatemia during continuous renal replacement therapy\"<br/><strong>E</strong>: Drug- and nutrition-induced hypophosphatemia: mechanisms and relevance in the critically ill<br/><strong>A</strong>: Drug-and nutrition-induced hypophosphatemia: mechanisms and relevance in the critically ill</p>\n",
       "<p><code>aas0055-0039.nxml</code> \"Phosphate-containing dialysis solution prevents hypophosphatemia during continuous renal replacement therapy\"<br/><strong>E</strong>: Serum inorganic phosphate<br/><strong>A</strong>: nan</p>\n",
       "</blockquote>\n",
       "<p>47 more</p>\n",
       "<h4>grobid-tei [1 : 0] cermine (5)</h4>\n",
       "<p>There are 5 samples where grobid-tei got it right, but cermine got it wrong.</p>\n",
       "<blockquote>\n",
       "<p><code>sobs89-975.nxml</code> \"Camera trocar lifting in office gasless laparoscopic sterilization under local anesthesia\"<br/><strong>E</strong>: Minilaparotomy or laparoscopy for sterilization: a multicenter, multinational randomized study<br/><strong>B</strong>: Force on Female Sterilization. Minilaparotomy or laparoscopy for sterilization: a multicenter, multinational randomized study</p>\n",
       "<p><code>sobs89-975.nxml</code> \"Camera trocar lifting in office gasless laparoscopic sterilization under local anesthesia\"<br/><strong>E</strong>: A comparative study of hysteroscopic sterilization versus laparoscopic tubal sterilization<br/><strong>B</strong>: SpOG. A comparative study of hysteroscopic sterilization versus laparoscopic tubal sterilization</p>\n",
       "<p><code>apha0202-0379.nxml</code> \"On the function of the mammalian renal papilla and the peristalsis of the surrounding pelvis\"<br/><strong>E</strong>: Changes in fluid compartments in hamster renal papilla due to peristalsis in the pelvic wall<br/><strong>B</strong>: Changes in fluid compartments in hamster renal papilla due to peristalsis in</p>\n",
       "</blockquote>\n",
       "<p>2 more</p>\n",
       "<h4>grobid-tei [0 : 0] cermine (18)</h4>\n",
       "<p>There are 18 samples where both grobid-tei and cermine got it wrong.</p>\n",
       "<blockquote>\n",
       "<p><code>aas0055-0039.nxml</code> \"Phosphate-containing dialysis solution prevents hypophosphatemia during continuous renal replacement therapy\"<br/><strong>E</strong>: A pilot randomised controlled comparison of continuous veno-venous haemofiltration and extended daily dialysis with filtration: effect on small solutes and acid-base balance<br/><strong>A</strong>: A pilot randomised controlled comparison of continuous venovenous haemofiltration and extended daily dialysis with filtration: effect on small solutes and acid-base balance<br/><strong>B</strong>: A pilot randomised controlled comparison of continuous venovenous haemofiltration and extended daily dialysis with filtration: effect on small solutes and acid-base balance</p>\n",
       "<p><code>aas0055-0039.nxml</code> \"Phosphate-containing dialysis solution prevents hypophosphatemia during continuous renal replacement therapy\"<br/><strong>E</strong>: Selection of dialysate and replacement fluids and management of electrolyte and acid–base disturbances<br/><strong>A</strong>: Selection of dialysate and replacement fluids and management of electrolyte and acid-base disturbances<br/><strong>B</strong>: Selection of dialysate and replacement fluids and management of electrolyte and acid-base disturbances</p>\n",
       "<p><code>sobs89-975.nxml</code> \"Camera trocar lifting in office gasless laparoscopic sterilization under local anesthesia\"<br/><strong>E</strong>: Laparoscopy. Gasless vs. CO2 pneumoperitoneum<br/><strong>A</strong>: Gasless vs. CO2 pneumoperitoneum<br/><strong>B</strong>: Gasless vs. CO2 pneumoperitoneum</p>\n",
       "</blockquote>\n",
       "<p>15 more</p></details>"
      ],
      "text/plain": [
       "<IPython.core.display.HTML object>"
      ]
     },
     "metadata": {},
     "output_type": "display_data"
    },
    {
     "data": {
      "text/html": [
       "<hr/>"
      ],
      "text/plain": [
       "<IPython.core.display.HTML object>"
      ]
     },
     "metadata": {},
     "output_type": "display_data"
    },
    {
     "data": {
      "text/html": [
       "<h1>Field: reference_year</h1>"
      ],
      "text/plain": [
       "<IPython.core.display.HTML object>"
      ]
     },
     "metadata": {},
     "output_type": "display_data"
    },
    {
     "data": {
      "text/html": [
       "<h2>Dataset: pmc-sample-1943-cc-by-subset (reference_year levenshtein)</h2>"
      ],
      "text/plain": [
       "<IPython.core.display.HTML object>"
      ]
     },
     "metadata": {},
     "output_type": "display_data"
    },
    {
     "data": {
      "text/html": [
       "<details><summary>Comparison: grobid-tei vs cermine</summary><p><strong>E</strong>: expected, <strong>A</strong>: pmc-sample-1943-cc-by-subset grobid-tei, <strong>B</strong>: pmc-sample-1943-cc-by-subset cermine (reference_year levenshtein)</p>\n",
       "<h4>grobid-tei [0 : 1] cermine (116)</h4>\n",
       "<p>There are 116 samples where grobid-tei got it wrong, but cermine got it right.</p>\n",
       "<blockquote>\n",
       "<p><code>aas0055-0039.nxml</code> \"Phosphate-containing dialysis solution prevents hypophosphatemia during continuous renal replacement therapy\"<br/><strong>E</strong>: 1999<br/><strong>A</strong>: 0198</p>\n",
       "<p><code>sonc50-621.nxml</code> \"Management of cutaneous metastases using electrochemotherapy\"<br/><strong>E</strong>: 1995<br/><strong>A</strong>: nan</p>\n",
       "<p><code>sonc50-621.nxml</code> \"Management of cutaneous metastases using electrochemotherapy\"<br/><strong>E</strong>: 1995<br/><strong>A</strong>: nan</p>\n",
       "</blockquote>\n",
       "<p>113 more</p>\n",
       "<h4>grobid-tei [1 : 0] cermine (3)</h4>\n",
       "<p>There are 3 samples where grobid-tei got it right, but cermine got it wrong.</p>\n",
       "<blockquote>\n",
       "<p><code>apha0202-0379.nxml</code> \"On the function of the mammalian renal papilla and the peristalsis of the surrounding pelvis\"<br/><strong>E</strong>: 1944<br/><strong>B</strong>: nan</p>\n",
       "<p><code>apha0202-0379.nxml</code> \"On the function of the mammalian renal papilla and the peristalsis of the surrounding pelvis\"<br/><strong>E</strong>: 1964<br/><strong>B</strong>: nan</p>\n",
       "<p><code>apha0202-0379.nxml</code> \"On the function of the mammalian renal papilla and the peristalsis of the surrounding pelvis\"<br/><strong>E</strong>: 1973<br/><strong>B</strong>: nan</p>\n",
       "</blockquote>\n",
       "<h4>grobid-tei [0 : 0] cermine (935)</h4>\n",
       "<p>There are 935 samples where both grobid-tei and cermine got it wrong.</p>\n",
       "<blockquote>\n",
       "<p><code>d-67-00463.nxml</code> \"Pi sampling: a methodical and flexible approach to initial macromolecular crystallization screening\"<br/><strong>E</strong>: nan<br/><strong>A</strong>: 2006<br/><strong>B</strong>: 2006</p>\n",
       "<p><code>d-67-00463.nxml</code> \"Pi sampling: a methodical and flexible approach to initial macromolecular crystallization screening\"<br/><strong>E</strong>: nan<br/><strong>A</strong>: 2006<br/><strong>B</strong>: 2007</p>\n",
       "<p><code>d-67-00463.nxml</code> \"Pi sampling: a methodical and flexible approach to initial macromolecular crystallization screening\"<br/><strong>E</strong>: nan<br/><strong>A</strong>: 2006<br/><strong>B</strong>: 2001</p>\n",
       "</blockquote>\n",
       "<p>932 more</p></details>"
      ],
      "text/plain": [
       "<IPython.core.display.HTML object>"
      ]
     },
     "metadata": {},
     "output_type": "display_data"
    },
    {
     "data": {
      "text/html": [
       "<h2>Dataset: pmc-sample-1943-cc-by-subset (reference_year exact)</h2>"
      ],
      "text/plain": [
       "<IPython.core.display.HTML object>"
      ]
     },
     "metadata": {},
     "output_type": "display_data"
    },
    {
     "data": {
      "text/html": [
       "<details><summary>Comparison: grobid-tei vs cermine</summary><p><strong>E</strong>: expected, <strong>A</strong>: pmc-sample-1943-cc-by-subset grobid-tei, <strong>B</strong>: pmc-sample-1943-cc-by-subset cermine (reference_year exact)</p>\n",
       "<h4>grobid-tei [0 : 1] cermine (116)</h4>\n",
       "<p>There are 116 samples where grobid-tei got it wrong, but cermine got it right.</p>\n",
       "<blockquote>\n",
       "<p><code>aas0055-0039.nxml</code> \"Phosphate-containing dialysis solution prevents hypophosphatemia during continuous renal replacement therapy\"<br/><strong>E</strong>: 1999<br/><strong>A</strong>: 0198</p>\n",
       "<p><code>sonc50-621.nxml</code> \"Management of cutaneous metastases using electrochemotherapy\"<br/><strong>E</strong>: 1995<br/><strong>A</strong>: nan</p>\n",
       "<p><code>sonc50-621.nxml</code> \"Management of cutaneous metastases using electrochemotherapy\"<br/><strong>E</strong>: 1995<br/><strong>A</strong>: nan</p>\n",
       "</blockquote>\n",
       "<p>113 more</p>\n",
       "<h4>grobid-tei [1 : 0] cermine (3)</h4>\n",
       "<p>There are 3 samples where grobid-tei got it right, but cermine got it wrong.</p>\n",
       "<blockquote>\n",
       "<p><code>apha0202-0379.nxml</code> \"On the function of the mammalian renal papilla and the peristalsis of the surrounding pelvis\"<br/><strong>E</strong>: 1944<br/><strong>B</strong>: nan</p>\n",
       "<p><code>apha0202-0379.nxml</code> \"On the function of the mammalian renal papilla and the peristalsis of the surrounding pelvis\"<br/><strong>E</strong>: 1964<br/><strong>B</strong>: nan</p>\n",
       "<p><code>apha0202-0379.nxml</code> \"On the function of the mammalian renal papilla and the peristalsis of the surrounding pelvis\"<br/><strong>E</strong>: 1973<br/><strong>B</strong>: nan</p>\n",
       "</blockquote>\n",
       "<h4>grobid-tei [0 : 0] cermine (935)</h4>\n",
       "<p>There are 935 samples where both grobid-tei and cermine got it wrong.</p>\n",
       "<blockquote>\n",
       "<p><code>d-67-00463.nxml</code> \"Pi sampling: a methodical and flexible approach to initial macromolecular crystallization screening\"<br/><strong>E</strong>: nan<br/><strong>A</strong>: 2006<br/><strong>B</strong>: 2006</p>\n",
       "<p><code>d-67-00463.nxml</code> \"Pi sampling: a methodical and flexible approach to initial macromolecular crystallization screening\"<br/><strong>E</strong>: nan<br/><strong>A</strong>: 2006<br/><strong>B</strong>: 2007</p>\n",
       "<p><code>d-67-00463.nxml</code> \"Pi sampling: a methodical and flexible approach to initial macromolecular crystallization screening\"<br/><strong>E</strong>: nan<br/><strong>A</strong>: 2006<br/><strong>B</strong>: 2001</p>\n",
       "</blockquote>\n",
       "<p>932 more</p></details>"
      ],
      "text/plain": [
       "<IPython.core.display.HTML object>"
      ]
     },
     "metadata": {},
     "output_type": "display_data"
    },
    {
     "data": {
      "text/html": [
       "<hr/>"
      ],
      "text/plain": [
       "<IPython.core.display.HTML object>"
      ]
     },
     "metadata": {},
     "output_type": "display_data"
    },
    {
     "data": {
      "text/html": [
       "<h1>Field: reference_source</h1>"
      ],
      "text/plain": [
       "<IPython.core.display.HTML object>"
      ]
     },
     "metadata": {},
     "output_type": "display_data"
    },
    {
     "data": {
      "text/html": [
       "<h2>Dataset: pmc-sample-1943-cc-by-subset (reference_source levenshtein)</h2>"
      ],
      "text/plain": [
       "<IPython.core.display.HTML object>"
      ]
     },
     "metadata": {},
     "output_type": "display_data"
    },
    {
     "data": {
      "text/html": [
       "<details><summary>Comparison: grobid-tei vs cermine</summary><p><strong>E</strong>: expected, <strong>A</strong>: pmc-sample-1943-cc-by-subset grobid-tei, <strong>B</strong>: pmc-sample-1943-cc-by-subset cermine (reference_source levenshtein)</p>\n",
       "<h4>grobid-tei [0 : 1] cermine (86)</h4>\n",
       "<p>There are 86 samples where grobid-tei got it wrong, but cermine got it right.</p>\n",
       "<blockquote>\n",
       "<p><code>sobs89-975.nxml</code> \"Camera trocar lifting in office gasless laparoscopic sterilization under local anesthesia\"<br/><strong>E</strong>: Am J Obstet Gynecol<br/><strong>A</strong>: nan</p>\n",
       "<p><code>sonc50-621.nxml</code> \"Management of cutaneous metastases using electrochemotherapy\"<br/><strong>E</strong>: J Am Acad Dermatol<br/><strong>A</strong>: J Am Acad</p>\n",
       "<p><code>sonc50-621.nxml</code> \"Management of cutaneous metastases using electrochemotherapy\"<br/><strong>E</strong>: J Am Acad Dermatol<br/><strong>A</strong>: J Am Acad</p>\n",
       "</blockquote>\n",
       "<p>83 more</p>\n",
       "<h4>grobid-tei [1 : 0] cermine (3)</h4>\n",
       "<p>There are 3 samples where grobid-tei got it right, but cermine got it wrong.</p>\n",
       "<blockquote>\n",
       "<p><code>apha0202-0379.nxml</code> \"On the function of the mammalian renal papilla and the peristalsis of the surrounding pelvis\"<br/><strong>E</strong>: Kidney Int<br/><strong>B</strong>: nan</p>\n",
       "<p><code>apha0202-0379.nxml</code> \"On the function of the mammalian renal papilla and the peristalsis of the surrounding pelvis\"<br/><strong>E</strong>: Zoologiska Bidrag Från Uppsala<br/><strong>B</strong>: nan</p>\n",
       "<p><code>apha0202-0379.nxml</code> \"On the function of the mammalian renal papilla and the peristalsis of the surrounding pelvis\"<br/><strong>E</strong>: Am J Physiol<br/><strong>B</strong>: nan</p>\n",
       "</blockquote>\n",
       "<h4>grobid-tei [0 : 0] cermine (848)</h4>\n",
       "<p>There are 848 samples where both grobid-tei and cermine got it wrong.</p>\n",
       "<blockquote>\n",
       "<p><code>aas0055-0039.nxml</code> \"Phosphate-containing dialysis solution prevents hypophosphatemia during continuous renal replacement therapy\"<br/><strong>E</strong>: Clinical methods<br/><strong>A</strong>: nan<br/><strong>B</strong>: Clinical methods. London: Butterworth Publishers</p>\n",
       "<p><code>d-67-00463.nxml</code> \"Pi sampling: a methodical and flexible approach to initial macromolecular crystallization screening\"<br/><strong>E</strong>: nan<br/><strong>A</strong>: J. Appl. Cryst<br/><strong>B</strong>: J. Appl. Cryst</p>\n",
       "<p><code>d-67-00463.nxml</code> \"Pi sampling: a methodical and flexible approach to initial macromolecular crystallization screening\"<br/><strong>E</strong>: nan<br/><strong>A</strong>: J. Appl. Cryst<br/><strong>B</strong>: Methods Mol. Biol</p>\n",
       "</blockquote>\n",
       "<p>845 more</p></details>"
      ],
      "text/plain": [
       "<IPython.core.display.HTML object>"
      ]
     },
     "metadata": {},
     "output_type": "display_data"
    },
    {
     "data": {
      "text/html": [
       "<h2>Dataset: pmc-sample-1943-cc-by-subset (reference_source exact)</h2>"
      ],
      "text/plain": [
       "<IPython.core.display.HTML object>"
      ]
     },
     "metadata": {},
     "output_type": "display_data"
    },
    {
     "data": {
      "text/html": [
       "<details><summary>Comparison: grobid-tei vs cermine</summary><p><strong>E</strong>: expected, <strong>A</strong>: pmc-sample-1943-cc-by-subset grobid-tei, <strong>B</strong>: pmc-sample-1943-cc-by-subset cermine (reference_source exact)</p>\n",
       "<h4>grobid-tei [0 : 1] cermine (86)</h4>\n",
       "<p>There are 86 samples where grobid-tei got it wrong, but cermine got it right.</p>\n",
       "<blockquote>\n",
       "<p><code>sobs89-975.nxml</code> \"Camera trocar lifting in office gasless laparoscopic sterilization under local anesthesia\"<br/><strong>E</strong>: Am J Obstet Gynecol<br/><strong>A</strong>: nan</p>\n",
       "<p><code>sonc50-621.nxml</code> \"Management of cutaneous metastases using electrochemotherapy\"<br/><strong>E</strong>: J Am Acad Dermatol<br/><strong>A</strong>: J Am Acad</p>\n",
       "<p><code>sonc50-621.nxml</code> \"Management of cutaneous metastases using electrochemotherapy\"<br/><strong>E</strong>: J Am Acad Dermatol<br/><strong>A</strong>: J Am Acad</p>\n",
       "</blockquote>\n",
       "<p>83 more</p>\n",
       "<h4>grobid-tei [1 : 0] cermine (2)</h4>\n",
       "<p>There are 2 samples where grobid-tei got it right, but cermine got it wrong.</p>\n",
       "<blockquote>\n",
       "<p><code>apha0202-0379.nxml</code> \"On the function of the mammalian renal papilla and the peristalsis of the surrounding pelvis\"<br/><strong>E</strong>: Kidney Int<br/><strong>B</strong>: nan</p>\n",
       "<p><code>apha0202-0379.nxml</code> \"On the function of the mammalian renal papilla and the peristalsis of the surrounding pelvis\"<br/><strong>E</strong>: Am J Physiol<br/><strong>B</strong>: nan</p>\n",
       "</blockquote>\n",
       "<h4>grobid-tei [0 : 0] cermine (849)</h4>\n",
       "<p>There are 849 samples where both grobid-tei and cermine got it wrong.</p>\n",
       "<blockquote>\n",
       "<p><code>aas0055-0039.nxml</code> \"Phosphate-containing dialysis solution prevents hypophosphatemia during continuous renal replacement therapy\"<br/><strong>E</strong>: Clinical methods<br/><strong>A</strong>: nan<br/><strong>B</strong>: Clinical methods. London: Butterworth Publishers</p>\n",
       "<p><code>d-67-00463.nxml</code> \"Pi sampling: a methodical and flexible approach to initial macromolecular crystallization screening\"<br/><strong>E</strong>: nan<br/><strong>A</strong>: J. Appl. Cryst<br/><strong>B</strong>: J. Appl. Cryst</p>\n",
       "<p><code>d-67-00463.nxml</code> \"Pi sampling: a methodical and flexible approach to initial macromolecular crystallization screening\"<br/><strong>E</strong>: nan<br/><strong>A</strong>: J. Appl. Cryst<br/><strong>B</strong>: Methods Mol. Biol</p>\n",
       "</blockquote>\n",
       "<p>846 more</p></details>"
      ],
      "text/plain": [
       "<IPython.core.display.HTML object>"
      ]
     },
     "metadata": {},
     "output_type": "display_data"
    },
    {
     "data": {
      "text/html": [
       "<hr/>"
      ],
      "text/plain": [
       "<IPython.core.display.HTML object>"
      ]
     },
     "metadata": {},
     "output_type": "display_data"
    },
    {
     "data": {
      "text/html": [
       "<h1>Field: reference_volume</h1>"
      ],
      "text/plain": [
       "<IPython.core.display.HTML object>"
      ]
     },
     "metadata": {},
     "output_type": "display_data"
    },
    {
     "data": {
      "text/html": [
       "<h2>Dataset: pmc-sample-1943-cc-by-subset (reference_volume levenshtein)</h2>"
      ],
      "text/plain": [
       "<IPython.core.display.HTML object>"
      ]
     },
     "metadata": {},
     "output_type": "display_data"
    },
    {
     "data": {
      "text/html": [
       "<details><summary>Comparison: grobid-tei vs cermine</summary><p><strong>E</strong>: expected, <strong>A</strong>: pmc-sample-1943-cc-by-subset grobid-tei, <strong>B</strong>: pmc-sample-1943-cc-by-subset cermine (reference_volume levenshtein)</p>\n",
       "<h4>grobid-tei [0 : 1] cermine (70)</h4>\n",
       "<p>There are 70 samples where grobid-tei got it wrong, but cermine got it right.</p>\n",
       "<blockquote>\n",
       "<p><code>sonc50-621.nxml</code> \"Management of cutaneous metastases using electrochemotherapy\"<br/><strong>E</strong>: 33<br/><strong>A</strong>: nan</p>\n",
       "<p><code>sonc50-621.nxml</code> \"Management of cutaneous metastases using electrochemotherapy\"<br/><strong>E</strong>: 26<br/><strong>A</strong>: 33</p>\n",
       "<p><code>sonc50-621.nxml</code> \"Management of cutaneous metastases using electrochemotherapy\"<br/><strong>E</strong>: 29<br/><strong>A</strong>: nan</p>\n",
       "</blockquote>\n",
       "<p>67 more</p>\n",
       "<h4>grobid-tei [1 : 0] cermine (5)</h4>\n",
       "<p>There are 5 samples where grobid-tei got it right, but cermine got it wrong.</p>\n",
       "<blockquote>\n",
       "<p><code>apha0202-0379.nxml</code> \"On the function of the mammalian renal papilla and the peristalsis of the surrounding pelvis\"<br/><strong>E</strong>: 22<br/><strong>B</strong>: nan</p>\n",
       "<p><code>apha0202-0379.nxml</code> \"On the function of the mammalian renal papilla and the peristalsis of the surrounding pelvis\"<br/><strong>E</strong>: 22<br/><strong>B</strong>: nan</p>\n",
       "<p><code>apha0202-0379.nxml</code> \"On the function of the mammalian renal papilla and the peristalsis of the surrounding pelvis\"<br/><strong>E</strong>: 22<br/><strong>B</strong>: nan</p>\n",
       "</blockquote>\n",
       "<p>2 more</p>\n",
       "<h4>grobid-tei [0 : 0] cermine (877)</h4>\n",
       "<p>There are 877 samples where both grobid-tei and cermine got it wrong.</p>\n",
       "<blockquote>\n",
       "<p><code>d-67-00463.nxml</code> \"Pi sampling: a methodical and flexible approach to initial macromolecular crystallization screening\"<br/><strong>E</strong>: nan<br/><strong>A</strong>: 39<br/><strong>B</strong>: 39</p>\n",
       "<p><code>d-67-00463.nxml</code> \"Pi sampling: a methodical and flexible approach to initial macromolecular crystallization screening\"<br/><strong>E</strong>: nan<br/><strong>A</strong>: 39<br/><strong>B</strong>: 363</p>\n",
       "<p><code>d-67-00463.nxml</code> \"Pi sampling: a methodical and flexible approach to initial macromolecular crystallization screening\"<br/><strong>E</strong>: nan<br/><strong>A</strong>: 39<br/><strong>B</strong>: 34</p>\n",
       "</blockquote>\n",
       "<p>874 more</p></details>"
      ],
      "text/plain": [
       "<IPython.core.display.HTML object>"
      ]
     },
     "metadata": {},
     "output_type": "display_data"
    },
    {
     "data": {
      "text/html": [
       "<h2>Dataset: pmc-sample-1943-cc-by-subset (reference_volume exact)</h2>"
      ],
      "text/plain": [
       "<IPython.core.display.HTML object>"
      ]
     },
     "metadata": {},
     "output_type": "display_data"
    },
    {
     "data": {
      "text/html": [
       "<details><summary>Comparison: grobid-tei vs cermine</summary><p><strong>E</strong>: expected, <strong>A</strong>: pmc-sample-1943-cc-by-subset grobid-tei, <strong>B</strong>: pmc-sample-1943-cc-by-subset cermine (reference_volume exact)</p>\n",
       "<h4>grobid-tei [0 : 1] cermine (70)</h4>\n",
       "<p>There are 70 samples where grobid-tei got it wrong, but cermine got it right.</p>\n",
       "<blockquote>\n",
       "<p><code>sonc50-621.nxml</code> \"Management of cutaneous metastases using electrochemotherapy\"<br/><strong>E</strong>: 33<br/><strong>A</strong>: nan</p>\n",
       "<p><code>sonc50-621.nxml</code> \"Management of cutaneous metastases using electrochemotherapy\"<br/><strong>E</strong>: 26<br/><strong>A</strong>: 33</p>\n",
       "<p><code>sonc50-621.nxml</code> \"Management of cutaneous metastases using electrochemotherapy\"<br/><strong>E</strong>: 29<br/><strong>A</strong>: nan</p>\n",
       "</blockquote>\n",
       "<p>67 more</p>\n",
       "<h4>grobid-tei [1 : 0] cermine (5)</h4>\n",
       "<p>There are 5 samples where grobid-tei got it right, but cermine got it wrong.</p>\n",
       "<blockquote>\n",
       "<p><code>apha0202-0379.nxml</code> \"On the function of the mammalian renal papilla and the peristalsis of the surrounding pelvis\"<br/><strong>E</strong>: 22<br/><strong>B</strong>: nan</p>\n",
       "<p><code>apha0202-0379.nxml</code> \"On the function of the mammalian renal papilla and the peristalsis of the surrounding pelvis\"<br/><strong>E</strong>: 22<br/><strong>B</strong>: nan</p>\n",
       "<p><code>apha0202-0379.nxml</code> \"On the function of the mammalian renal papilla and the peristalsis of the surrounding pelvis\"<br/><strong>E</strong>: 22<br/><strong>B</strong>: nan</p>\n",
       "</blockquote>\n",
       "<p>2 more</p>\n",
       "<h4>grobid-tei [0 : 0] cermine (877)</h4>\n",
       "<p>There are 877 samples where both grobid-tei and cermine got it wrong.</p>\n",
       "<blockquote>\n",
       "<p><code>d-67-00463.nxml</code> \"Pi sampling: a methodical and flexible approach to initial macromolecular crystallization screening\"<br/><strong>E</strong>: nan<br/><strong>A</strong>: 39<br/><strong>B</strong>: 39</p>\n",
       "<p><code>d-67-00463.nxml</code> \"Pi sampling: a methodical and flexible approach to initial macromolecular crystallization screening\"<br/><strong>E</strong>: nan<br/><strong>A</strong>: 39<br/><strong>B</strong>: 363</p>\n",
       "<p><code>d-67-00463.nxml</code> \"Pi sampling: a methodical and flexible approach to initial macromolecular crystallization screening\"<br/><strong>E</strong>: nan<br/><strong>A</strong>: 39<br/><strong>B</strong>: 34</p>\n",
       "</blockquote>\n",
       "<p>874 more</p></details>"
      ],
      "text/plain": [
       "<IPython.core.display.HTML object>"
      ]
     },
     "metadata": {},
     "output_type": "display_data"
    },
    {
     "data": {
      "text/html": [
       "<hr/>"
      ],
      "text/plain": [
       "<IPython.core.display.HTML object>"
      ]
     },
     "metadata": {},
     "output_type": "display_data"
    },
    {
     "data": {
      "text/html": [
       "<h1>Field: reference_fpage</h1>"
      ],
      "text/plain": [
       "<IPython.core.display.HTML object>"
      ]
     },
     "metadata": {},
     "output_type": "display_data"
    },
    {
     "data": {
      "text/html": [
       "<h2>Dataset: pmc-sample-1943-cc-by-subset (reference_fpage levenshtein)</h2>"
      ],
      "text/plain": [
       "<IPython.core.display.HTML object>"
      ]
     },
     "metadata": {},
     "output_type": "display_data"
    },
    {
     "data": {
      "text/html": [
       "<details><summary>Comparison: grobid-tei vs cermine</summary><p><strong>E</strong>: expected, <strong>A</strong>: pmc-sample-1943-cc-by-subset grobid-tei, <strong>B</strong>: pmc-sample-1943-cc-by-subset cermine (reference_fpage levenshtein)</p>\n",
       "<h4>grobid-tei [0 : 1] cermine (58)</h4>\n",
       "<p>There are 58 samples where grobid-tei got it wrong, but cermine got it right.</p>\n",
       "<blockquote>\n",
       "<p><code>aas0055-0039.nxml</code> \"Phosphate-containing dialysis solution prevents hypophosphatemia during continuous renal replacement therapy\"<br/><strong>E</strong>: 198<br/><strong>A</strong>: nan</p>\n",
       "<p><code>sonc50-621.nxml</code> \"Management of cutaneous metastases using electrochemotherapy\"<br/><strong>E</strong>: 161<br/><strong>A</strong>: nan</p>\n",
       "<p><code>sonc50-621.nxml</code> \"Management of cutaneous metastases using electrochemotherapy\"<br/><strong>E</strong>: 89<br/><strong>A</strong>: 161</p>\n",
       "</blockquote>\n",
       "<p>55 more</p>\n",
       "<h4>grobid-tei [1 : 0] cermine (3)</h4>\n",
       "<p>There are 3 samples where grobid-tei got it right, but cermine got it wrong.</p>\n",
       "<blockquote>\n",
       "<p><code>apha0202-0379.nxml</code> \"On the function of the mammalian renal papilla and the peristalsis of the surrounding pelvis\"<br/><strong>E</strong>: 613<br/><strong>B</strong>: nan</p>\n",
       "<p><code>apha0202-0379.nxml</code> \"On the function of the mammalian renal papilla and the peristalsis of the surrounding pelvis\"<br/><strong>E</strong>: 249<br/><strong>B</strong>: nan</p>\n",
       "<p><code>apha0202-0379.nxml</code> \"On the function of the mammalian renal papilla and the peristalsis of the surrounding pelvis\"<br/><strong>E</strong>: 971<br/><strong>B</strong>: nan</p>\n",
       "</blockquote>\n",
       "<h4>grobid-tei [0 : 0] cermine (902)</h4>\n",
       "<p>There are 902 samples where both grobid-tei and cermine got it wrong.</p>\n",
       "<blockquote>\n",
       "<p><code>d-67-00463.nxml</code> \"Pi sampling: a methodical and flexible approach to initial macromolecular crystallization screening\"<br/><strong>E</strong>: nan<br/><strong>A</strong>: 244<br/><strong>B</strong>: 244</p>\n",
       "<p><code>d-67-00463.nxml</code> \"Pi sampling: a methodical and flexible approach to initial macromolecular crystallization screening\"<br/><strong>E</strong>: nan<br/><strong>A</strong>: 244<br/><strong>B</strong>: 131</p>\n",
       "<p><code>d-67-00463.nxml</code> \"Pi sampling: a methodical and flexible approach to initial macromolecular crystallization screening\"<br/><strong>E</strong>: nan<br/><strong>A</strong>: 244<br/><strong>B</strong>: 97</p>\n",
       "</blockquote>\n",
       "<p>899 more</p></details>"
      ],
      "text/plain": [
       "<IPython.core.display.HTML object>"
      ]
     },
     "metadata": {},
     "output_type": "display_data"
    },
    {
     "data": {
      "text/html": [
       "<h2>Dataset: pmc-sample-1943-cc-by-subset (reference_fpage exact)</h2>"
      ],
      "text/plain": [
       "<IPython.core.display.HTML object>"
      ]
     },
     "metadata": {},
     "output_type": "display_data"
    },
    {
     "data": {
      "text/html": [
       "<details><summary>Comparison: grobid-tei vs cermine</summary><p><strong>E</strong>: expected, <strong>A</strong>: pmc-sample-1943-cc-by-subset grobid-tei, <strong>B</strong>: pmc-sample-1943-cc-by-subset cermine (reference_fpage exact)</p>\n",
       "<h4>grobid-tei [0 : 1] cermine (59)</h4>\n",
       "<p>There are 59 samples where grobid-tei got it wrong, but cermine got it right.</p>\n",
       "<blockquote>\n",
       "<p><code>aas0055-0039.nxml</code> \"Phosphate-containing dialysis solution prevents hypophosphatemia during continuous renal replacement therapy\"<br/><strong>E</strong>: 198<br/><strong>A</strong>: nan</p>\n",
       "<p><code>sonc50-621.nxml</code> \"Management of cutaneous metastases using electrochemotherapy\"<br/><strong>E</strong>: 161<br/><strong>A</strong>: nan</p>\n",
       "<p><code>sonc50-621.nxml</code> \"Management of cutaneous metastases using electrochemotherapy\"<br/><strong>E</strong>: 89<br/><strong>A</strong>: 161</p>\n",
       "</blockquote>\n",
       "<p>56 more</p>\n",
       "<h4>grobid-tei [1 : 0] cermine (3)</h4>\n",
       "<p>There are 3 samples where grobid-tei got it right, but cermine got it wrong.</p>\n",
       "<blockquote>\n",
       "<p><code>apha0202-0379.nxml</code> \"On the function of the mammalian renal papilla and the peristalsis of the surrounding pelvis\"<br/><strong>E</strong>: 613<br/><strong>B</strong>: nan</p>\n",
       "<p><code>apha0202-0379.nxml</code> \"On the function of the mammalian renal papilla and the peristalsis of the surrounding pelvis\"<br/><strong>E</strong>: 249<br/><strong>B</strong>: nan</p>\n",
       "<p><code>apha0202-0379.nxml</code> \"On the function of the mammalian renal papilla and the peristalsis of the surrounding pelvis\"<br/><strong>E</strong>: 971<br/><strong>B</strong>: nan</p>\n",
       "</blockquote>\n",
       "<h4>grobid-tei [0 : 0] cermine (902)</h4>\n",
       "<p>There are 902 samples where both grobid-tei and cermine got it wrong.</p>\n",
       "<blockquote>\n",
       "<p><code>d-67-00463.nxml</code> \"Pi sampling: a methodical and flexible approach to initial macromolecular crystallization screening\"<br/><strong>E</strong>: nan<br/><strong>A</strong>: 244<br/><strong>B</strong>: 244</p>\n",
       "<p><code>d-67-00463.nxml</code> \"Pi sampling: a methodical and flexible approach to initial macromolecular crystallization screening\"<br/><strong>E</strong>: nan<br/><strong>A</strong>: 244<br/><strong>B</strong>: 131</p>\n",
       "<p><code>d-67-00463.nxml</code> \"Pi sampling: a methodical and flexible approach to initial macromolecular crystallization screening\"<br/><strong>E</strong>: nan<br/><strong>A</strong>: 244<br/><strong>B</strong>: 97</p>\n",
       "</blockquote>\n",
       "<p>899 more</p></details>"
      ],
      "text/plain": [
       "<IPython.core.display.HTML object>"
      ]
     },
     "metadata": {},
     "output_type": "display_data"
    },
    {
     "data": {
      "text/html": [
       "<hr/>"
      ],
      "text/plain": [
       "<IPython.core.display.HTML object>"
      ]
     },
     "metadata": {},
     "output_type": "display_data"
    },
    {
     "data": {
      "text/html": [
       "<h1>Field: reference_lpage</h1>"
      ],
      "text/plain": [
       "<IPython.core.display.HTML object>"
      ]
     },
     "metadata": {},
     "output_type": "display_data"
    },
    {
     "data": {
      "text/html": [
       "<h2>Dataset: pmc-sample-1943-cc-by-subset (reference_lpage levenshtein)</h2>"
      ],
      "text/plain": [
       "<IPython.core.display.HTML object>"
      ]
     },
     "metadata": {},
     "output_type": "display_data"
    },
    {
     "data": {
      "text/html": [
       "<details><summary>Comparison: grobid-tei vs cermine</summary><p><strong>E</strong>: expected, <strong>A</strong>: pmc-sample-1943-cc-by-subset grobid-tei, <strong>B</strong>: pmc-sample-1943-cc-by-subset cermine (reference_lpage levenshtein)</p>\n",
       "<h4>grobid-tei [0 : 1] cermine (109)</h4>\n",
       "<p>There are 109 samples where grobid-tei got it wrong, but cermine got it right.</p>\n",
       "<blockquote>\n",
       "<p><code>aas0055-0039.nxml</code> \"Phosphate-containing dialysis solution prevents hypophosphatemia during continuous renal replacement therapy\"<br/><strong>E</strong>: 1665<br/><strong>A</strong>: 1667</p>\n",
       "<p><code>aas0055-0039.nxml</code> \"Phosphate-containing dialysis solution prevents hypophosphatemia during continuous renal replacement therapy\"<br/><strong>E</strong>: 1047<br/><strong>A</strong>: 1050</p>\n",
       "<p><code>aas0055-0039.nxml</code> \"Phosphate-containing dialysis solution prevents hypophosphatemia during continuous renal replacement therapy\"<br/><strong>E</strong>: 214<br/><strong>A</strong>: 215</p>\n",
       "</blockquote>\n",
       "<p>106 more</p>\n",
       "<h4>grobid-tei [1 : 0] cermine (3)</h4>\n",
       "<p>There are 3 samples where grobid-tei got it right, but cermine got it wrong.</p>\n",
       "<blockquote>\n",
       "<p><code>apha0202-0379.nxml</code> \"On the function of the mammalian renal papilla and the peristalsis of the surrounding pelvis\"<br/><strong>E</strong>: 625<br/><strong>B</strong>: nan</p>\n",
       "<p><code>apha0202-0379.nxml</code> \"On the function of the mammalian renal papilla and the peristalsis of the surrounding pelvis\"<br/><strong>E</strong>: 431<br/><strong>B</strong>: nan</p>\n",
       "<p><code>apha0202-0379.nxml</code> \"On the function of the mammalian renal papilla and the peristalsis of the surrounding pelvis\"<br/><strong>E</strong>: 978<br/><strong>B</strong>: nan</p>\n",
       "</blockquote>\n",
       "<h4>grobid-tei [0 : 0] cermine (901)</h4>\n",
       "<p>There are 901 samples where both grobid-tei and cermine got it wrong.</p>\n",
       "<blockquote>\n",
       "<p><code>d-67-00463.nxml</code> \"Pi sampling: a methodical and flexible approach to initial macromolecular crystallization screening\"<br/><strong>E</strong>: nan<br/><strong>A</strong>: 251<br/><strong>B</strong>: 251</p>\n",
       "<p><code>d-67-00463.nxml</code> \"Pi sampling: a methodical and flexible approach to initial macromolecular crystallization screening\"<br/><strong>E</strong>: nan<br/><strong>A</strong>: 251<br/><strong>B</strong>: 151</p>\n",
       "<p><code>d-67-00463.nxml</code> \"Pi sampling: a methodical and flexible approach to initial macromolecular crystallization screening\"<br/><strong>E</strong>: nan<br/><strong>A</strong>: 251<br/><strong>B</strong>: 101</p>\n",
       "</blockquote>\n",
       "<p>898 more</p></details>"
      ],
      "text/plain": [
       "<IPython.core.display.HTML object>"
      ]
     },
     "metadata": {},
     "output_type": "display_data"
    },
    {
     "data": {
      "text/html": [
       "<h2>Dataset: pmc-sample-1943-cc-by-subset (reference_lpage exact)</h2>"
      ],
      "text/plain": [
       "<IPython.core.display.HTML object>"
      ]
     },
     "metadata": {},
     "output_type": "display_data"
    },
    {
     "data": {
      "text/html": [
       "<details><summary>Comparison: grobid-tei vs cermine</summary><p><strong>E</strong>: expected, <strong>A</strong>: pmc-sample-1943-cc-by-subset grobid-tei, <strong>B</strong>: pmc-sample-1943-cc-by-subset cermine (reference_lpage exact)</p>\n",
       "<h4>grobid-tei [0 : 1] cermine (110)</h4>\n",
       "<p>There are 110 samples where grobid-tei got it wrong, but cermine got it right.</p>\n",
       "<blockquote>\n",
       "<p><code>aas0055-0039.nxml</code> \"Phosphate-containing dialysis solution prevents hypophosphatemia during continuous renal replacement therapy\"<br/><strong>E</strong>: 1665<br/><strong>A</strong>: 1667</p>\n",
       "<p><code>aas0055-0039.nxml</code> \"Phosphate-containing dialysis solution prevents hypophosphatemia during continuous renal replacement therapy\"<br/><strong>E</strong>: 1047<br/><strong>A</strong>: 1050</p>\n",
       "<p><code>aas0055-0039.nxml</code> \"Phosphate-containing dialysis solution prevents hypophosphatemia during continuous renal replacement therapy\"<br/><strong>E</strong>: 214<br/><strong>A</strong>: 215</p>\n",
       "</blockquote>\n",
       "<p>107 more</p>\n",
       "<h4>grobid-tei [1 : 0] cermine (3)</h4>\n",
       "<p>There are 3 samples where grobid-tei got it right, but cermine got it wrong.</p>\n",
       "<blockquote>\n",
       "<p><code>apha0202-0379.nxml</code> \"On the function of the mammalian renal papilla and the peristalsis of the surrounding pelvis\"<br/><strong>E</strong>: 625<br/><strong>B</strong>: nan</p>\n",
       "<p><code>apha0202-0379.nxml</code> \"On the function of the mammalian renal papilla and the peristalsis of the surrounding pelvis\"<br/><strong>E</strong>: 431<br/><strong>B</strong>: nan</p>\n",
       "<p><code>apha0202-0379.nxml</code> \"On the function of the mammalian renal papilla and the peristalsis of the surrounding pelvis\"<br/><strong>E</strong>: 978<br/><strong>B</strong>: nan</p>\n",
       "</blockquote>\n",
       "<h4>grobid-tei [0 : 0] cermine (901)</h4>\n",
       "<p>There are 901 samples where both grobid-tei and cermine got it wrong.</p>\n",
       "<blockquote>\n",
       "<p><code>d-67-00463.nxml</code> \"Pi sampling: a methodical and flexible approach to initial macromolecular crystallization screening\"<br/><strong>E</strong>: nan<br/><strong>A</strong>: 251<br/><strong>B</strong>: 251</p>\n",
       "<p><code>d-67-00463.nxml</code> \"Pi sampling: a methodical and flexible approach to initial macromolecular crystallization screening\"<br/><strong>E</strong>: nan<br/><strong>A</strong>: 251<br/><strong>B</strong>: 151</p>\n",
       "<p><code>d-67-00463.nxml</code> \"Pi sampling: a methodical and flexible approach to initial macromolecular crystallization screening\"<br/><strong>E</strong>: nan<br/><strong>A</strong>: 251<br/><strong>B</strong>: 101</p>\n",
       "</blockquote>\n",
       "<p>898 more</p></details>"
      ],
      "text/plain": [
       "<IPython.core.display.HTML object>"
      ]
     },
     "metadata": {},
     "output_type": "display_data"
    },
    {
     "data": {
      "text/html": [
       "<hr/>"
      ],
      "text/plain": [
       "<IPython.core.display.HTML object>"
      ]
     },
     "metadata": {},
     "output_type": "display_data"
    },
    {
     "data": {
      "text/html": [
       "<h1>Field: tables</h1>"
      ],
      "text/plain": [
       "<IPython.core.display.HTML object>"
      ]
     },
     "metadata": {},
     "output_type": "display_data"
    },
    {
     "data": {
      "text/html": [
       "<h2>Dataset: pmc-sample-1943-cc-by-subset (tables levenshtein)</h2>"
      ],
      "text/plain": [
       "<IPython.core.display.HTML object>"
      ]
     },
     "metadata": {},
     "output_type": "display_data"
    },
    {
     "data": {
      "text/html": [
       "<details><summary>Comparison: grobid-tei vs cermine</summary><p><strong>E</strong>: expected, <strong>A</strong>: pmc-sample-1943-cc-by-subset grobid-tei, <strong>B</strong>: pmc-sample-1943-cc-by-subset cermine (tables levenshtein)</p>\n",
       "<h4>grobid-tei [0 : 1] cermine (0)</h4>\n",
       "<p>There are 0 samples where grobid-tei got it wrong, but cermine got it right.</p>\n",
       "<h4>grobid-tei [1 : 0] cermine (0)</h4>\n",
       "<p>There are 0 samples where grobid-tei got it right, but cermine got it wrong.</p>\n",
       "<h4>grobid-tei [0 : 0] cermine (50)</h4>\n",
       "<p>There are 50 samples where both grobid-tei and cermine got it wrong.</p>\n",
       "<blockquote>\n",
       "<p><code>aas0055-0039.nxml</code> \"Phosphate-containing dialysis solution prevents hypophosphatemia during continuous renal replacement therapy\"<br/><strong>E</strong>: dummy<br/><strong>A</strong>: nan<br/><strong>B</strong>: nan</p>\n",
       "<p><code>aas0055-0039.nxml</code> \"Phosphate-containing dialysis solution prevents hypophosphatemia during continuous renal replacement therapy\"<br/><strong>E</strong>: dummy<br/><strong>A</strong>: nan<br/><strong>B</strong>: nan</p>\n",
       "<p><code>aas0055-0039.nxml</code> \"Phosphate-containing dialysis solution prevents hypophosphatemia during continuous renal replacement therapy\"<br/><strong>E</strong>: dummy<br/><strong>A</strong>: nan<br/><strong>B</strong>: nan</p>\n",
       "</blockquote>\n",
       "<p>47 more</p></details>"
      ],
      "text/plain": [
       "<IPython.core.display.HTML object>"
      ]
     },
     "metadata": {},
     "output_type": "display_data"
    },
    {
     "data": {
      "text/html": [
       "<h2>Dataset: pmc-sample-1943-cc-by-subset (tables exact)</h2>"
      ],
      "text/plain": [
       "<IPython.core.display.HTML object>"
      ]
     },
     "metadata": {},
     "output_type": "display_data"
    },
    {
     "data": {
      "text/html": [
       "<details><summary>Comparison: grobid-tei vs cermine</summary><p><strong>E</strong>: expected, <strong>A</strong>: pmc-sample-1943-cc-by-subset grobid-tei, <strong>B</strong>: pmc-sample-1943-cc-by-subset cermine (tables exact)</p>\n",
       "<h4>grobid-tei [0 : 1] cermine (0)</h4>\n",
       "<p>There are 0 samples where grobid-tei got it wrong, but cermine got it right.</p>\n",
       "<h4>grobid-tei [1 : 0] cermine (0)</h4>\n",
       "<p>There are 0 samples where grobid-tei got it right, but cermine got it wrong.</p>\n",
       "<h4>grobid-tei [0 : 0] cermine (50)</h4>\n",
       "<p>There are 50 samples where both grobid-tei and cermine got it wrong.</p>\n",
       "<blockquote>\n",
       "<p><code>aas0055-0039.nxml</code> \"Phosphate-containing dialysis solution prevents hypophosphatemia during continuous renal replacement therapy\"<br/><strong>E</strong>: dummy<br/><strong>A</strong>: nan<br/><strong>B</strong>: nan</p>\n",
       "<p><code>aas0055-0039.nxml</code> \"Phosphate-containing dialysis solution prevents hypophosphatemia during continuous renal replacement therapy\"<br/><strong>E</strong>: dummy<br/><strong>A</strong>: nan<br/><strong>B</strong>: nan</p>\n",
       "<p><code>aas0055-0039.nxml</code> \"Phosphate-containing dialysis solution prevents hypophosphatemia during continuous renal replacement therapy\"<br/><strong>E</strong>: dummy<br/><strong>A</strong>: nan<br/><strong>B</strong>: nan</p>\n",
       "</blockquote>\n",
       "<p>47 more</p></details>"
      ],
      "text/plain": [
       "<IPython.core.display.HTML object>"
      ]
     },
     "metadata": {},
     "output_type": "display_data"
    },
    {
     "data": {
      "text/html": [
       "<hr/>"
      ],
      "text/plain": [
       "<IPython.core.display.HTML object>"
      ]
     },
     "metadata": {},
     "output_type": "display_data"
    },
    {
     "data": {
      "text/html": [
       "<h1>Field: table_strings</h1>"
      ],
      "text/plain": [
       "<IPython.core.display.HTML object>"
      ]
     },
     "metadata": {},
     "output_type": "display_data"
    },
    {
     "data": {
      "text/html": [
       "<h2>Dataset: pmc-sample-1943-cc-by-subset (table_strings levenshtein)</h2>"
      ],
      "text/plain": [
       "<IPython.core.display.HTML object>"
      ]
     },
     "metadata": {},
     "output_type": "display_data"
    },
    {
     "data": {
      "text/html": [
       "<details><summary>Comparison: grobid-tei vs cermine</summary><p><strong>E</strong>: expected, <strong>A</strong>: pmc-sample-1943-cc-by-subset grobid-tei, <strong>B</strong>: pmc-sample-1943-cc-by-subset cermine (table_strings levenshtein)</p>\n",
       "<h4>grobid-tei [0 : 1] cermine (0)</h4>\n",
       "<p>There are 0 samples where grobid-tei got it wrong, but cermine got it right.</p>\n",
       "<h4>grobid-tei [1 : 0] cermine (5)</h4>\n",
       "<p>There are 5 samples where grobid-tei got it right, but cermine got it wrong.</p>\n",
       "<blockquote>\n",
       "<p><code>aas0055-0039.nxml</code> \"Phosphate-containing dialysis solution prevents hypophosphatemia during continuous renal replacement therapy\"<br/><strong>E</strong>: Hemosol B0 (mmol/l) Phosphate containingdialysis solution (mmol/l) Bicarbonate 32 30 Lactate 3 0 Calcium 1.75 1.25 Magnesium 0.5 0.6 Potassium 0 4 Sodium 140 140 Phosphate 0 1.2 Chloride 109.5 115.9<br/><strong>B</strong>: nan</p>\n",
       "<p><code>aas0055-0039.nxml</code> \"Phosphate-containing dialysis solution prevents hypophosphatemia during continuous renal replacement therapy\"<br/><strong>E</strong>: Main diagnoses Group 1 Group 2 Group 3 Septic shock 5 8 7 Pneumonia 2 1 0 Cardiac insufficiency 0 0 3 Cardiac arrest 1 0 2 Major intoxication 1 0 1 Rupture of aortic aneurysm 0 0 2 Myocardial infarction 0 0 1 Cardiogenic shock 0 0 1 Sclerosis cholangitis 0 0 1 Unspecified respiratory failure 1 0 0 Obstructing malignant intestinal tumour 1 0 0 Epilepsy 1 0 0 Unspecified muscle disease 0 0 1<br/><strong>B</strong>: nan</p>\n",
       "<p><code>sonc50-621.nxml</code> \"Management of cutaneous metastases using electrochemotherapy\"<br/><strong>E</strong>: Patients Total (N = 52) Patients (%) Patients Herlev, N = 30 Patients Middlesbrough N = 22 Median age in years (range) 69.6 (38.9-94.7) 72.1 (53-89.8) 68.3 (38.9-94.7) Age distribution 1  80 + 11 11%  70 + 25 48%  60 + 44 85%  50 + 48 92% Sex  Female 35 67% 24 13  Male 17 33% 6 8 ECOG2 performance status  0 35 67% 58% 84%  1 12 23% 33% 5%  2 5 10% 9% 11% Previous Treatment  Surgery 42 81% 71% 95%  Radiotherapy 20 38% 42% 21%  Chemotherapy 21 40% 42% 37%  No previous treatment 8 15% 21% 0% Number of metastases treated pr. patient 3  Median (range) 3 (1-7) 3 (1-7) 4 (1-7) Diagnosis 4  Malignant Melanoma 21 40% 36% 47%  Breast Cancer 15 29% 33% 21%  Adenocarcinoma (other than breast) 5 10% 15% 0%  Basocellular Carcinoma 5 10% 9% 11%  Squamous Cell Carcinoma 3 6% 6% 5%  Other 3 5% 0% 16% Location of metastasis  Chest 79 40 40 41  Lower limbs 54 28 22 36  Head and Neck 30 15 22 6  Scalp 21 11 12 9  Upper limbs 6 3 4 1  Abdomen 5 3 1 5  Back 1 1 0 1 Size of metastases  Median diameter in mm (range) 12 (1-200) 15 (2-200) 5 (1-140)  ≤3 cm 138  &gt;3 cm 24<br/><strong>B</strong>: nan</p>\n",
       "</blockquote>\n",
       "<p>2 more</p>\n",
       "<h4>grobid-tei [0 : 0] cermine (7)</h4>\n",
       "<p>There are 7 samples where both grobid-tei and cermine got it wrong.</p>\n",
       "<blockquote>\n",
       "<p><code>aas0055-0039.nxml</code> \"Phosphate-containing dialysis solution prevents hypophosphatemia during continuous renal replacement therapy\"<br/><strong>E</strong>: Group 1 Group 2 Group 3 Demographics<em> Age (years) 63 (43–86) 68 (37–88) 67 (53–83) Weight (kg) 80 (53–116) 86 (56–124) 79 (41–130) Male sex, n (%) 7 (50) 7 (50) 5 (36) APACHE II</em> 28.1 (19–44) 26 (13–36) 23.2 (15–29) RIFLE score, points<em>,† 37 39 39 Delivered CRRT</em> CRRT treatment duration (h) 82 (17–278) 115 (37–207) 96 (29–210) CRRT treatment mode CVVHDF CVVHDF CVVHDF Effluent flow (ml/kg/h) calculated on active treatment time<em>,‡ 23.7 (13–45) 21.9 (15–30) 18 (10–20) Proportion of ordered dose delivered</em> 85.3% 87.5% 91.8% Anticoagulation* None 3 None 2 None 2 Heparine 9 Heparine 11 Heparine 10 Prostacycline 1 Prostacycline 1 Prostacycline 2 Phosphate supplementation§ (mmol/CRRT treatment day) 11 (0–35) 3 (0–13) 0 (0)<br/><strong>A</strong>: Group 1 Group 2 Group 3<br/><strong>B</strong>: nan</p>\n",
       "<p><code>aas0055-0039.nxml</code> \"Phosphate-containing dialysis solution prevents hypophosphatemia during continuous renal replacement therapy\"<br/><strong>E</strong>: Group Group 1 Group 2 Group 3 Before During Before During Before During Phosphate<em> 1.90 0.99 1.54 1.20 1.83 1.43 Ionized Ca† 1.10 1.24 1.13 1.19 1.11 1.15 pH‡ 7.24 7.40 7.30 7.36 7.32 7.36 pCO2‡ 5.59 5.27 5.81 5.77 6.51 5.27 Bicarbonate§ 18 24 21 23 21 22<br/><strong>A</strong>: Day on CRRT Before 1 2 3 4 5 Sodium</em> 134.0 AE 5 135.0 AE 3 135.2 AE 2 135.0 AE 2 135.7 AE 2 135.8 AE 3 Potassiumw 4.06 AE 0.5 4.10 AE 0.4 4.14 AE 0.3 4.23 AE 0.3 4.39 AE 0.4 4.49 AE 0.5 Ionised calciumz 1.11 AE 0.08 1.10 AE 0.05 1.15 AE 0.07 1.17 AE 0.06 1.16 AE 0.05 1.17 AE 0.06 Magnesiumw 1.1 AE 0.4 1.0 AE 0.2 1.1 AE 0.2 0.7 AE 0.2 0.9 AE 0.1 1.0 AE 0.3 *P<br/><strong>B</strong>: nan</p>\n",
       "<p><code>aas0055-0039.nxml</code> \"Phosphate-containing dialysis solution prevents hypophosphatemia during continuous renal replacement therapy\"<br/><strong>E</strong>: Day on CRRT Before 1 2 3 4 5 Sodium<em> 134.0 ± 5 135.0 ± 3 135.2 ± 2 135.0 ± 2 135.7 ± 2 135.8 ± 3 Potassium† 4.06 ± 0.5 4.10 ± 0.4 4.14 ± 0.3 4.23 ± 0.3 4.39 ± 0.4 4.49 ± 0.5 Ionised calcium‡ 1.11 ± 0.08 1.10 ± 0.05 1.15 ± 0.07 1.17 ± 0.06 1.16 ± 0.05 1.17 ± 0.06 Magnesium† 1.1 ± 0.4 1.0 ± 0.2 1.1 ± 0.2 0.7 ± 0.2 0.9 ± 0.1 1.0 ± 0.3<br/><strong>A</strong>: Serum values (mmol/l, kPa) during CRRT with the phosphate- containing dialysis fluid. Group Group 1 Group 2 Group 3 Before During Before During Before During Phosphate</em> 1.90 0.99 1.54 1.20 1.83 1.43 Ionized Caw 1.10 1.24 1.13 1.19 1.11 1.15 pHz 7.24 7.40 7.30 7.36 7.32 7.36 pCO 2 z 5.59 5.27 5.81 5.77 6.51 5.27 Bicarbonate § 18 24 21 23 21 22<br/><strong>B</strong>: nan</p>\n",
       "</blockquote>\n",
       "<p>4 more</p></details>"
      ],
      "text/plain": [
       "<IPython.core.display.HTML object>"
      ]
     },
     "metadata": {},
     "output_type": "display_data"
    },
    {
     "data": {
      "text/html": [
       "<h2>Dataset: pmc-sample-1943-cc-by-subset (table_strings exact)</h2>"
      ],
      "text/plain": [
       "<IPython.core.display.HTML object>"
      ]
     },
     "metadata": {},
     "output_type": "display_data"
    },
    {
     "data": {
      "text/html": [
       "<details><summary>Comparison: grobid-tei vs cermine</summary><p><strong>E</strong>: expected, <strong>A</strong>: pmc-sample-1943-cc-by-subset grobid-tei, <strong>B</strong>: pmc-sample-1943-cc-by-subset cermine (table_strings exact)</p>\n",
       "<h4>grobid-tei [0 : 1] cermine (0)</h4>\n",
       "<p>There are 0 samples where grobid-tei got it wrong, but cermine got it right.</p>\n",
       "<h4>grobid-tei [1 : 0] cermine (0)</h4>\n",
       "<p>There are 0 samples where grobid-tei got it right, but cermine got it wrong.</p>\n",
       "<h4>grobid-tei [0 : 0] cermine (12)</h4>\n",
       "<p>There are 12 samples where both grobid-tei and cermine got it wrong.</p>\n",
       "<blockquote>\n",
       "<p><code>aas0055-0039.nxml</code> \"Phosphate-containing dialysis solution prevents hypophosphatemia during continuous renal replacement therapy\"<br/><strong>E</strong>: Hemosol B0 (mmol/l) Phosphate containingdialysis solution (mmol/l) Bicarbonate 32 30 Lactate 3 0 Calcium 1.75 1.25 Magnesium 0.5 0.6 Potassium 0 4 Sodium 140 140 Phosphate 0 1.2 Chloride 109.5 115.9<br/><strong>A</strong>: Hemosol B0 (mmol/l) Phosphate containing dialysis solution (mmol/l) Bicarbonate 32 30 Lactate 3 0 Calcium 1.75 1.25 Magnesium 0.5 0.6 Potassium 0 4 Sodium 140 140 Phosphate 0 1.2 Chloride 109.5 115.9<br/><strong>B</strong>: nan</p>\n",
       "<p><code>aas0055-0039.nxml</code> \"Phosphate-containing dialysis solution prevents hypophosphatemia during continuous renal replacement therapy\"<br/><strong>E</strong>: Main diagnoses Group 1 Group 2 Group 3 Septic shock 5 8 7 Pneumonia 2 1 0 Cardiac insufficiency 0 0 3 Cardiac arrest 1 0 2 Major intoxication 1 0 1 Rupture of aortic aneurysm 0 0 2 Myocardial infarction 0 0 1 Cardiogenic shock 0 0 1 Sclerosis cholangitis 0 0 1 Unspecified respiratory failure 1 0 0 Obstructing malignant intestinal tumour 1 0 0 Epilepsy 1 0 0 Unspecified muscle disease 0 0 1<br/><strong>A</strong>: Main diagnoses leading to intensive care of the study groups. Main diagnoses Group 1 Group 2 Group 3 Septic shock 5 8 7 Pneumonia 2 1 0 Cardiac insufficiency 0 0 3 Cardiac arrest 1 0 2 Major intoxication 1 0 1 Rupture of aortic aneurysm 0 0 2 Myocardial infarction 0 0 1 Cardiogenic shock 0 0 1 Sclerosis cholangitis 0 0 1 Unspecified respiratory failure 1 0 0 Obstructing malignant intestinal tumour 1 0 0 Epilepsy 1 0 0 Unspecified muscle disease 0 0 1<br/><strong>B</strong>: nan</p>\n",
       "<p><code>aas0055-0039.nxml</code> \"Phosphate-containing dialysis solution prevents hypophosphatemia during continuous renal replacement therapy\"<br/><strong>E</strong>: Group 1 Group 2 Group 3 Demographics<em> Age (years) 63 (43–86) 68 (37–88) 67 (53–83) Weight (kg) 80 (53–116) 86 (56–124) 79 (41–130) Male sex, n (%) 7 (50) 7 (50) 5 (36) APACHE II</em> 28.1 (19–44) 26 (13–36) 23.2 (15–29) RIFLE score, points<em>,† 37 39 39 Delivered CRRT</em> CRRT treatment duration (h) 82 (17–278) 115 (37–207) 96 (29–210) CRRT treatment mode CVVHDF CVVHDF CVVHDF Effluent flow (ml/kg/h) calculated on active treatment time<em>,‡ 23.7 (13–45) 21.9 (15–30) 18 (10–20) Proportion of ordered dose delivered</em> 85.3% 87.5% 91.8% Anticoagulation* None 3 None 2 None 2 Heparine 9 Heparine 11 Heparine 10 Prostacycline 1 Prostacycline 1 Prostacycline 2 Phosphate supplementation§ (mmol/CRRT treatment day) 11 (0–35) 3 (0–13) 0 (0)<br/><strong>A</strong>: Group 1 Group 2 Group 3<br/><strong>B</strong>: nan</p>\n",
       "</blockquote>\n",
       "<p>9 more</p></details>"
      ],
      "text/plain": [
       "<IPython.core.display.HTML object>"
      ]
     },
     "metadata": {},
     "output_type": "display_data"
    },
    {
     "data": {
      "text/html": [
       "<hr/>"
      ],
      "text/plain": [
       "<IPython.core.display.HTML object>"
      ]
     },
     "metadata": {},
     "output_type": "display_data"
    },
    {
     "data": {
      "text/html": [
       "<h1>Field: table_labels</h1>"
      ],
      "text/plain": [
       "<IPython.core.display.HTML object>"
      ]
     },
     "metadata": {},
     "output_type": "display_data"
    },
    {
     "data": {
      "text/html": [
       "<h2>Dataset: pmc-sample-1943-cc-by-subset (table_labels levenshtein)</h2>"
      ],
      "text/plain": [
       "<IPython.core.display.HTML object>"
      ]
     },
     "metadata": {},
     "output_type": "display_data"
    },
    {
     "data": {
      "text/html": [
       "<details><summary>Comparison: grobid-tei vs cermine</summary><p><strong>E</strong>: expected, <strong>A</strong>: pmc-sample-1943-cc-by-subset grobid-tei, <strong>B</strong>: pmc-sample-1943-cc-by-subset cermine (table_labels levenshtein)</p>\n",
       "<h4>grobid-tei [0 : 1] cermine (0)</h4>\n",
       "<p>There are 0 samples where grobid-tei got it wrong, but cermine got it right.</p>\n",
       "<h4>grobid-tei [1 : 0] cermine (2)</h4>\n",
       "<p>There are 2 samples where grobid-tei got it right, but cermine got it wrong.</p>\n",
       "<blockquote>\n",
       "<p><code>aas0055-0039.nxml</code> \"Phosphate-containing dialysis solution prevents hypophosphatemia during continuous renal replacement therapy\"<br/><strong>E</strong>: Table 2<br/><strong>B</strong>: nan</p>\n",
       "<p><code>aas0055-0039.nxml</code> \"Phosphate-containing dialysis solution prevents hypophosphatemia during continuous renal replacement therapy\"<br/><strong>E</strong>: Table 4<br/><strong>B</strong>: nan</p>\n",
       "</blockquote>\n",
       "<h4>grobid-tei [0 : 0] cermine (9)</h4>\n",
       "<p>There are 9 samples where both grobid-tei and cermine got it wrong.</p>\n",
       "<blockquote>\n",
       "<p><code>aas0055-0039.nxml</code> \"Phosphate-containing dialysis solution prevents hypophosphatemia during continuous renal replacement therapy\"<br/><strong>E</strong>: Table 1<br/><strong>A</strong>: Table 1 Fluid composition.<br/><strong>B</strong>: nan</p>\n",
       "<p><code>aas0055-0039.nxml</code> \"Phosphate-containing dialysis solution prevents hypophosphatemia during continuous renal replacement therapy\"<br/><strong>E</strong>: Table 3<br/><strong>A</strong>: Table 3 Baseline characteristics of study patients and delivered CRRT.<br/><strong>B</strong>: nan</p>\n",
       "<p><code>aas0055-0039.nxml</code> \"Phosphate-containing dialysis solution prevents hypophosphatemia during continuous renal replacement therapy\"<br/><strong>E</strong>: Table 5<br/><strong>A</strong>: Table 4 Serum solute concentrations (mmol/l) during CRRT with the phosphate containing dialysis fluid for patients in group 3.<br/><strong>B</strong>: nan</p>\n",
       "</blockquote>\n",
       "<p>6 more</p></details>"
      ],
      "text/plain": [
       "<IPython.core.display.HTML object>"
      ]
     },
     "metadata": {},
     "output_type": "display_data"
    },
    {
     "data": {
      "text/html": [
       "<h2>Dataset: pmc-sample-1943-cc-by-subset (table_labels exact)</h2>"
      ],
      "text/plain": [
       "<IPython.core.display.HTML object>"
      ]
     },
     "metadata": {},
     "output_type": "display_data"
    },
    {
     "data": {
      "text/html": [
       "<details><summary>Comparison: grobid-tei vs cermine</summary><p><strong>E</strong>: expected, <strong>A</strong>: pmc-sample-1943-cc-by-subset grobid-tei, <strong>B</strong>: pmc-sample-1943-cc-by-subset cermine (table_labels exact)</p>\n",
       "<h4>grobid-tei [0 : 1] cermine (0)</h4>\n",
       "<p>There are 0 samples where grobid-tei got it wrong, but cermine got it right.</p>\n",
       "<h4>grobid-tei [1 : 0] cermine (1)</h4>\n",
       "<p>There are 1 samples where grobid-tei got it right, but cermine got it wrong.</p>\n",
       "<blockquote>\n",
       "<p><code>aas0055-0039.nxml</code> \"Phosphate-containing dialysis solution prevents hypophosphatemia during continuous renal replacement therapy\"<br/><strong>E</strong>: Table 2<br/><strong>B</strong>: nan</p>\n",
       "</blockquote>\n",
       "<h4>grobid-tei [0 : 0] cermine (10)</h4>\n",
       "<p>There are 10 samples where both grobid-tei and cermine got it wrong.</p>\n",
       "<blockquote>\n",
       "<p><code>aas0055-0039.nxml</code> \"Phosphate-containing dialysis solution prevents hypophosphatemia during continuous renal replacement therapy\"<br/><strong>E</strong>: Table 1<br/><strong>A</strong>: Table 1 Fluid composition.<br/><strong>B</strong>: nan</p>\n",
       "<p><code>aas0055-0039.nxml</code> \"Phosphate-containing dialysis solution prevents hypophosphatemia during continuous renal replacement therapy\"<br/><strong>E</strong>: Table 3<br/><strong>A</strong>: Table 3 Baseline characteristics of study patients and delivered CRRT.<br/><strong>B</strong>: nan</p>\n",
       "<p><code>aas0055-0039.nxml</code> \"Phosphate-containing dialysis solution prevents hypophosphatemia during continuous renal replacement therapy\"<br/><strong>E</strong>: Table 5<br/><strong>A</strong>: Table 4 Serum solute concentrations (mmol/l) during CRRT with the phosphate containing dialysis fluid for patients in group 3.<br/><strong>B</strong>: nan</p>\n",
       "</blockquote>\n",
       "<p>7 more</p></details>"
      ],
      "text/plain": [
       "<IPython.core.display.HTML object>"
      ]
     },
     "metadata": {},
     "output_type": "display_data"
    },
    {
     "data": {
      "text/html": [
       "<hr/>"
      ],
      "text/plain": [
       "<IPython.core.display.HTML object>"
      ]
     },
     "metadata": {},
     "output_type": "display_data"
    },
    {
     "data": {
      "text/html": [
       "<h1>Field: table_captions</h1>"
      ],
      "text/plain": [
       "<IPython.core.display.HTML object>"
      ]
     },
     "metadata": {},
     "output_type": "display_data"
    },
    {
     "data": {
      "text/html": [
       "<h2>Dataset: pmc-sample-1943-cc-by-subset (table_captions levenshtein)</h2>"
      ],
      "text/plain": [
       "<IPython.core.display.HTML object>"
      ]
     },
     "metadata": {},
     "output_type": "display_data"
    },
    {
     "data": {
      "text/html": [
       "<details><summary>Comparison: grobid-tei vs cermine</summary><p><strong>E</strong>: expected, <strong>A</strong>: pmc-sample-1943-cc-by-subset grobid-tei, <strong>B</strong>: pmc-sample-1943-cc-by-subset cermine (table_captions levenshtein)</p>\n",
       "<h4>grobid-tei [0 : 1] cermine (0)</h4>\n",
       "<p>There are 0 samples where grobid-tei got it wrong, but cermine got it right.</p>\n",
       "<h4>grobid-tei [1 : 0] cermine (0)</h4>\n",
       "<p>There are 0 samples where grobid-tei got it right, but cermine got it wrong.</p>\n",
       "<h4>grobid-tei [0 : 0] cermine (11)</h4>\n",
       "<p>There are 11 samples where both grobid-tei and cermine got it wrong.</p>\n",
       "<blockquote>\n",
       "<p><code>aas0055-0039.nxml</code> \"Phosphate-containing dialysis solution prevents hypophosphatemia during continuous renal replacement therapy\"<br/><strong>E</strong>: Fluid composition.<br/><strong>A</strong>: nan<br/><strong>B</strong>: nan</p>\n",
       "<p><code>aas0055-0039.nxml</code> \"Phosphate-containing dialysis solution prevents hypophosphatemia during continuous renal replacement therapy\"<br/><strong>E</strong>: Main diagnoses leading to intensive care of the study groups.<br/><strong>A</strong>: nan<br/><strong>B</strong>: nan</p>\n",
       "<p><code>aas0055-0039.nxml</code> \"Phosphate-containing dialysis solution prevents hypophosphatemia during continuous renal replacement therapy\"<br/><strong>E</strong>: Baseline characteristics of study patients and delivered CRRT.<br/><strong>A</strong>: nan<br/><strong>B</strong>: nan</p>\n",
       "</blockquote>\n",
       "<p>8 more</p></details>"
      ],
      "text/plain": [
       "<IPython.core.display.HTML object>"
      ]
     },
     "metadata": {},
     "output_type": "display_data"
    },
    {
     "data": {
      "text/html": [
       "<h2>Dataset: pmc-sample-1943-cc-by-subset (table_captions exact)</h2>"
      ],
      "text/plain": [
       "<IPython.core.display.HTML object>"
      ]
     },
     "metadata": {},
     "output_type": "display_data"
    },
    {
     "data": {
      "text/html": [
       "<details><summary>Comparison: grobid-tei vs cermine</summary><p><strong>E</strong>: expected, <strong>A</strong>: pmc-sample-1943-cc-by-subset grobid-tei, <strong>B</strong>: pmc-sample-1943-cc-by-subset cermine (table_captions exact)</p>\n",
       "<h4>grobid-tei [0 : 1] cermine (0)</h4>\n",
       "<p>There are 0 samples where grobid-tei got it wrong, but cermine got it right.</p>\n",
       "<h4>grobid-tei [1 : 0] cermine (0)</h4>\n",
       "<p>There are 0 samples where grobid-tei got it right, but cermine got it wrong.</p>\n",
       "<h4>grobid-tei [0 : 0] cermine (11)</h4>\n",
       "<p>There are 11 samples where both grobid-tei and cermine got it wrong.</p>\n",
       "<blockquote>\n",
       "<p><code>aas0055-0039.nxml</code> \"Phosphate-containing dialysis solution prevents hypophosphatemia during continuous renal replacement therapy\"<br/><strong>E</strong>: Fluid composition.<br/><strong>A</strong>: nan<br/><strong>B</strong>: nan</p>\n",
       "<p><code>aas0055-0039.nxml</code> \"Phosphate-containing dialysis solution prevents hypophosphatemia during continuous renal replacement therapy\"<br/><strong>E</strong>: Main diagnoses leading to intensive care of the study groups.<br/><strong>A</strong>: nan<br/><strong>B</strong>: nan</p>\n",
       "<p><code>aas0055-0039.nxml</code> \"Phosphate-containing dialysis solution prevents hypophosphatemia during continuous renal replacement therapy\"<br/><strong>E</strong>: Baseline characteristics of study patients and delivered CRRT.<br/><strong>A</strong>: nan<br/><strong>B</strong>: nan</p>\n",
       "</blockquote>\n",
       "<p>8 more</p></details>"
      ],
      "text/plain": [
       "<IPython.core.display.HTML object>"
      ]
     },
     "metadata": {},
     "output_type": "display_data"
    },
    {
     "data": {
      "text/html": [
       "<hr/>"
      ],
      "text/plain": [
       "<IPython.core.display.HTML object>"
      ]
     },
     "metadata": {},
     "output_type": "display_data"
    },
    {
     "data": {
      "text/html": [
       "<h1>Field: table_label_captions</h1>"
      ],
      "text/plain": [
       "<IPython.core.display.HTML object>"
      ]
     },
     "metadata": {},
     "output_type": "display_data"
    },
    {
     "data": {
      "text/html": [
       "<h2>Dataset: pmc-sample-1943-cc-by-subset (table_label_captions levenshtein)</h2>"
      ],
      "text/plain": [
       "<IPython.core.display.HTML object>"
      ]
     },
     "metadata": {},
     "output_type": "display_data"
    },
    {
     "data": {
      "text/html": [
       "<details><summary>Comparison: grobid-tei vs cermine</summary><p><strong>E</strong>: expected, <strong>A</strong>: pmc-sample-1943-cc-by-subset grobid-tei, <strong>B</strong>: pmc-sample-1943-cc-by-subset cermine (table_label_captions levenshtein)</p>\n",
       "<h4>grobid-tei [0 : 1] cermine (0)</h4>\n",
       "<p>There are 0 samples where grobid-tei got it wrong, but cermine got it right.</p>\n",
       "<h4>grobid-tei [1 : 0] cermine (8)</h4>\n",
       "<p>There are 8 samples where grobid-tei got it right, but cermine got it wrong.</p>\n",
       "<blockquote>\n",
       "<p><code>aas0055-0039.nxml</code> \"Phosphate-containing dialysis solution prevents hypophosphatemia during continuous renal replacement therapy\"<br/><strong>E</strong>: Table 1 Fluid composition.<br/><strong>B</strong>: nan</p>\n",
       "<p><code>aas0055-0039.nxml</code> \"Phosphate-containing dialysis solution prevents hypophosphatemia during continuous renal replacement therapy\"<br/><strong>E</strong>: Table 3 Baseline characteristics of study patients and delivered CRRT.<br/><strong>B</strong>: nan</p>\n",
       "<p><code>sonc50-621.nxml</code> \"Management of cutaneous metastases using electrochemotherapy\"<br/><strong>E</strong>: Table I Patients' characteristics at baseline.<br/><strong>B</strong>: nan</p>\n",
       "</blockquote>\n",
       "<p>5 more</p>\n",
       "<h4>grobid-tei [0 : 0] cermine (3)</h4>\n",
       "<p>There are 3 samples where both grobid-tei and cermine got it wrong.</p>\n",
       "<blockquote>\n",
       "<p><code>aas0055-0039.nxml</code> \"Phosphate-containing dialysis solution prevents hypophosphatemia during continuous renal replacement therapy\"<br/><strong>E</strong>: Table 2 Main diagnoses leading to intensive care of the study groups.<br/><strong>A</strong>: Table 2<br/><strong>B</strong>: nan</p>\n",
       "<p><code>aas0055-0039.nxml</code> \"Phosphate-containing dialysis solution prevents hypophosphatemia during continuous renal replacement therapy\"<br/><strong>E</strong>: Table 5 Serum values (mmol/l, kPa) during CRRT with the phosphate-containing dialysis fluid.<br/><strong>A</strong>: Table 4 Serum solute concentrations (mmol/l) during CRRT with the phosphate containing dialysis fluid for patients in group 3.<br/><strong>B</strong>: nan</p>\n",
       "<p><code>aas0055-0039.nxml</code> \"Phosphate-containing dialysis solution prevents hypophosphatemia during continuous renal replacement therapy\"<br/><strong>E</strong>: Table 4 Serum solute concentrations (mmol/l) during CRRT with the phosphate containing dialysis fluid for patients in group 3.<br/><strong>A</strong>: Table 5<br/><strong>B</strong>: nan</p>\n",
       "</blockquote></details>"
      ],
      "text/plain": [
       "<IPython.core.display.HTML object>"
      ]
     },
     "metadata": {},
     "output_type": "display_data"
    },
    {
     "data": {
      "text/html": [
       "<h2>Dataset: pmc-sample-1943-cc-by-subset (table_label_captions exact)</h2>"
      ],
      "text/plain": [
       "<IPython.core.display.HTML object>"
      ]
     },
     "metadata": {},
     "output_type": "display_data"
    },
    {
     "data": {
      "text/html": [
       "<details><summary>Comparison: grobid-tei vs cermine</summary><p><strong>E</strong>: expected, <strong>A</strong>: pmc-sample-1943-cc-by-subset grobid-tei, <strong>B</strong>: pmc-sample-1943-cc-by-subset cermine (table_label_captions exact)</p>\n",
       "<h4>grobid-tei [0 : 1] cermine (0)</h4>\n",
       "<p>There are 0 samples where grobid-tei got it wrong, but cermine got it right.</p>\n",
       "<h4>grobid-tei [1 : 0] cermine (4)</h4>\n",
       "<p>There are 4 samples where grobid-tei got it right, but cermine got it wrong.</p>\n",
       "<blockquote>\n",
       "<p><code>aas0055-0039.nxml</code> \"Phosphate-containing dialysis solution prevents hypophosphatemia during continuous renal replacement therapy\"<br/><strong>E</strong>: Table 1 Fluid composition.<br/><strong>B</strong>: nan</p>\n",
       "<p><code>aas0055-0039.nxml</code> \"Phosphate-containing dialysis solution prevents hypophosphatemia during continuous renal replacement therapy\"<br/><strong>E</strong>: Table 3 Baseline characteristics of study patients and delivered CRRT.<br/><strong>B</strong>: nan</p>\n",
       "<p><code>apa0100-0653.nxml</code> \"Placental programming of blood pressure in Indian children\"<br/><strong>E</strong>: Table 1 Characteristics of the mothers, placentas, babies and children in the Mysore Parthenon cohort<br/><strong>B</strong>: nan</p>\n",
       "</blockquote>\n",
       "<p>1 more</p>\n",
       "<h4>grobid-tei [0 : 0] cermine (7)</h4>\n",
       "<p>There are 7 samples where both grobid-tei and cermine got it wrong.</p>\n",
       "<blockquote>\n",
       "<p><code>aas0055-0039.nxml</code> \"Phosphate-containing dialysis solution prevents hypophosphatemia during continuous renal replacement therapy\"<br/><strong>E</strong>: Table 2 Main diagnoses leading to intensive care of the study groups.<br/><strong>A</strong>: Table 2<br/><strong>B</strong>: nan</p>\n",
       "<p><code>aas0055-0039.nxml</code> \"Phosphate-containing dialysis solution prevents hypophosphatemia during continuous renal replacement therapy\"<br/><strong>E</strong>: Table 5 Serum values (mmol/l, kPa) during CRRT with the phosphate-containing dialysis fluid.<br/><strong>A</strong>: Table 4 Serum solute concentrations (mmol/l) during CRRT with the phosphate containing dialysis fluid for patients in group 3.<br/><strong>B</strong>: nan</p>\n",
       "<p><code>aas0055-0039.nxml</code> \"Phosphate-containing dialysis solution prevents hypophosphatemia during continuous renal replacement therapy\"<br/><strong>E</strong>: Table 4 Serum solute concentrations (mmol/l) during CRRT with the phosphate containing dialysis fluid for patients in group 3.<br/><strong>A</strong>: Table 5<br/><strong>B</strong>: nan</p>\n",
       "</blockquote>\n",
       "<p>4 more</p></details>"
      ],
      "text/plain": [
       "<IPython.core.display.HTML object>"
      ]
     },
     "metadata": {},
     "output_type": "display_data"
    },
    {
     "data": {
      "text/html": [
       "<hr/>"
      ],
      "text/plain": [
       "<IPython.core.display.HTML object>"
      ]
     },
     "metadata": {},
     "output_type": "display_data"
    },
    {
     "data": {
      "text/html": [
       "<h1>Field: figure_labels</h1>"
      ],
      "text/plain": [
       "<IPython.core.display.HTML object>"
      ]
     },
     "metadata": {},
     "output_type": "display_data"
    },
    {
     "data": {
      "text/html": [
       "<h2>Dataset: pmc-sample-1943-cc-by-subset (figure_labels levenshtein)</h2>"
      ],
      "text/plain": [
       "<IPython.core.display.HTML object>"
      ]
     },
     "metadata": {},
     "output_type": "display_data"
    },
    {
     "data": {
      "text/html": [
       "<details><summary>Comparison: grobid-tei vs cermine</summary><p><strong>E</strong>: expected, <strong>A</strong>: pmc-sample-1943-cc-by-subset grobid-tei, <strong>B</strong>: pmc-sample-1943-cc-by-subset cermine (figure_labels levenshtein)</p>\n",
       "<h4>grobid-tei [0 : 1] cermine (0)</h4>\n",
       "<p>There are 0 samples where grobid-tei got it wrong, but cermine got it right.</p>\n",
       "<h4>grobid-tei [1 : 0] cermine (2)</h4>\n",
       "<p>There are 2 samples where grobid-tei got it right, but cermine got it wrong.</p>\n",
       "<blockquote>\n",
       "<p><code>sobs89-975.nxml</code> \"Camera trocar lifting in office gasless laparoscopic sterilization under local anesthesia\"<br/><strong>E</strong>: Figure 1, Figure 2<br/><strong>B</strong>: nan</p>\n",
       "<p><code>soto131-469.nxml</code> \"Visualization and assessment of saccular duct and endolymphatic sinus\"<br/><strong>E</strong>: Figure 1, Figure 2, Figure 3, Figure 4<br/><strong>B</strong>: nan</p>\n",
       "</blockquote>\n",
       "<h4>grobid-tei [0 : 0] cermine (7)</h4>\n",
       "<p>There are 7 samples where both grobid-tei and cermine got it wrong.</p>\n",
       "<blockquote>\n",
       "<p><code>aas0055-0039.nxml</code> \"Phosphate-containing dialysis solution prevents hypophosphatemia during continuous renal replacement therapy\"<br/><strong>E</strong>: Fig. 1, Fig. 2<br/><strong>A</strong>: Fig. 1 .<br/><strong>B</strong>: nan</p>\n",
       "<p><code>d-67-00463.nxml</code> \"Pi sampling: a methodical and flexible approach to initial macromolecular crystallization screening\"<br/><strong>E</strong>: nan<br/><strong>A</strong>: , Figure 1, 4. 1 .<br/><strong>B</strong>: nan</p>\n",
       "<p><code>e-67-o1363.nxml</code> \"3-Allyl-1-{[3-(4-nitro­phen­yl)-4,5-dihydro-1,3-oxazol-5-yl]meth­yl}-1H-anthra[1,2-d]imidazole-2,6,11(3H)-trione\"<br/><strong>E</strong>: nan<br/><strong>A</strong>: , , Fig. 1, , Fig. 2 ., 3.<br/><strong>B</strong>: nan</p>\n",
       "</blockquote>\n",
       "<p>4 more</p></details>"
      ],
      "text/plain": [
       "<IPython.core.display.HTML object>"
      ]
     },
     "metadata": {},
     "output_type": "display_data"
    },
    {
     "data": {
      "text/html": [
       "<h2>Dataset: pmc-sample-1943-cc-by-subset (figure_labels exact)</h2>"
      ],
      "text/plain": [
       "<IPython.core.display.HTML object>"
      ]
     },
     "metadata": {},
     "output_type": "display_data"
    },
    {
     "data": {
      "text/html": [
       "<details><summary>Comparison: grobid-tei vs cermine</summary><p><strong>E</strong>: expected, <strong>A</strong>: pmc-sample-1943-cc-by-subset grobid-tei, <strong>B</strong>: pmc-sample-1943-cc-by-subset cermine (figure_labels exact)</p>\n",
       "<h4>grobid-tei [0 : 1] cermine (0)</h4>\n",
       "<p>There are 0 samples where grobid-tei got it wrong, but cermine got it right.</p>\n",
       "<h4>grobid-tei [1 : 0] cermine (0)</h4>\n",
       "<p>There are 0 samples where grobid-tei got it right, but cermine got it wrong.</p>\n",
       "<h4>grobid-tei [0 : 0] cermine (9)</h4>\n",
       "<p>There are 9 samples where both grobid-tei and cermine got it wrong.</p>\n",
       "<blockquote>\n",
       "<p><code>aas0055-0039.nxml</code> \"Phosphate-containing dialysis solution prevents hypophosphatemia during continuous renal replacement therapy\"<br/><strong>E</strong>: Fig. 1, Fig. 2<br/><strong>A</strong>: Fig. 1 .<br/><strong>B</strong>: nan</p>\n",
       "<p><code>d-67-00463.nxml</code> \"Pi sampling: a methodical and flexible approach to initial macromolecular crystallization screening\"<br/><strong>E</strong>: nan<br/><strong>A</strong>: , Figure 1, 4. 1 .<br/><strong>B</strong>: nan</p>\n",
       "<p><code>e-67-o1363.nxml</code> \"3-Allyl-1-{[3-(4-nitro­phen­yl)-4,5-dihydro-1,3-oxazol-5-yl]meth­yl}-1H-anthra[1,2-d]imidazole-2,6,11(3H)-trione\"<br/><strong>E</strong>: nan<br/><strong>A</strong>: , , Fig. 1, , Fig. 2 ., 3.<br/><strong>B</strong>: nan</p>\n",
       "</blockquote>\n",
       "<p>6 more</p></details>"
      ],
      "text/plain": [
       "<IPython.core.display.HTML object>"
      ]
     },
     "metadata": {},
     "output_type": "display_data"
    },
    {
     "data": {
      "text/html": [
       "<hr/>"
      ],
      "text/plain": [
       "<IPython.core.display.HTML object>"
      ]
     },
     "metadata": {},
     "output_type": "display_data"
    },
    {
     "data": {
      "text/html": [
       "<h1>Field: figure_captions</h1>"
      ],
      "text/plain": [
       "<IPython.core.display.HTML object>"
      ]
     },
     "metadata": {},
     "output_type": "display_data"
    },
    {
     "data": {
      "text/html": [
       "<h2>Dataset: pmc-sample-1943-cc-by-subset (figure_captions levenshtein)</h2>"
      ],
      "text/plain": [
       "<IPython.core.display.HTML object>"
      ]
     },
     "metadata": {},
     "output_type": "display_data"
    },
    {
     "data": {
      "text/html": [
       "<details><summary>Comparison: grobid-tei vs cermine</summary><p><strong>E</strong>: expected, <strong>A</strong>: pmc-sample-1943-cc-by-subset grobid-tei, <strong>B</strong>: pmc-sample-1943-cc-by-subset cermine (figure_captions levenshtein)</p>\n",
       "<h4>grobid-tei [0 : 1] cermine (0)</h4>\n",
       "<p>There are 0 samples where grobid-tei got it wrong, but cermine got it right.</p>\n",
       "<h4>grobid-tei [1 : 0] cermine (1)</h4>\n",
       "<p>There are 1 samples where grobid-tei got it right, but cermine got it wrong.</p>\n",
       "<blockquote>\n",
       "<p><code>soto131-469.nxml</code> \"Visualization and assessment of saccular duct and endolymphatic sinus\"<br/><strong>E</strong>: Macroscopic findings of the vestibule in the cadaver (left ear). (A) Membranous composition of the saccule and its intact connecting duct. Arrows show the reuniting duct, and arrowheads show the saccular duct and endolymphatic sinus. (B) Membranous compositions of the saccule and reuniting duct were removed. Arrows show the YT groove of the reuniting duct. Arrowheads, saccular duct. (C) The sulciform groove of the saccular duct (white dashed arrows) and endolymphatic sinus (white arrows) reach the orifice of the vestibular aqueduct. (D) Schematic view of the YT groove (bold arrows) of the reuniting duct and sulciform groove (dashed arrows) of the saccular duct and endolymphatic sinus. CR, cochlear recess; ED, endolymphatic duct; ES, endolymphatic sac; IAC, internal auditory canal; L, lateral semicircular canal; OS, osseous spiral lamina; P, posterior semicircular canal; S, superior semicircular canal; SA, saccule; SR, saccular recess; UR, utricular recess., Direction of CT examination and CT findings in the cadaver. (A) This position of the temporal bone is suitable to obtain more accurate CT images of the saccule, saccular duct, and endolymphatic sinus. Note that the remnant membranous labyrinth, shown in black, is visible. Insert: Higher magnification of the groove of the saccular duct (white dashed arrows) and endolymphatic sinus (white arrows). (B) The sulciform groove-like 3D CT image of the saccular duct and endolymphatic sinus of the same specimen as in (A), which was examined in the same direction as in (A) with a bone CT window level. (C) The same specimen as in (A) with CT window levels of bone and soft tissue. The membranous composition of the saccular duct and endolymphatic sinus in purple (white arrows) are surrounded by the artificial shadow of a rendering effect. The details of the aspects are consistent with macroscopic specimens. Purple indicates soft tissue. CR, cochlear recess; IAC, internal auditory canal; L, lateral semicircular canal; OS, osseous spiral lamina; P, posterior semicircular canal; S, superior semicircular canal; SR, saccular recess; UR, utricular recess., Findings of a representative 3D CT image of a healthy human subject (left ear). (A) With low-level bone CT window (blue color). (B) With low - and high- level bone CT windows (blue and green color). (C) The image shows a view from directly above the sulciform groove with the same CT window level as in (B). A more accurate image of the sulciform groove of the saccular duct and endolymphatic sinus can be judged by referring to the CT images in (A, B, and C) The method in (C) is suitable for assessment of the sulciform groove of the saccular duct and endolymphatic sinus. With two different bone densities the CT view manifests more three-dimensionally. The cochlear lateral wall and basal portion of the osseous spiral lamina in green seem to be denser in bone density than the vestibule and the apex of the cochlea in blue. CR, cochlear recess; IAC, internal auditory canal; OS, osseous spiral lamina; P, posterior semicircular canal; SR, saccular recess; UR, utricular recess. Black arrows, YT groove; white arrows, the sulciform groove of the saccular duct and endolymphatic sinus., Findings of other representative 3D CT images in a healthy human subject (left ear). CR, cochlear recess; IAC, internal auditory canal; OS, osseous spiral lamina; P, posterior semicircular canal; SR, saccular recess; UR, utricular recess. White arrows, the sulciform groove of the saccular duct and endolymphatic sinus.<br/><strong>B</strong>: nan</p>\n",
       "</blockquote>\n",
       "<h4>grobid-tei [0 : 0] cermine (9)</h4>\n",
       "<p>There are 9 samples where both grobid-tei and cermine got it wrong.</p>\n",
       "<blockquote>\n",
       "<p><code>aas0055-0039.nxml</code> \"Phosphate-containing dialysis solution prevents hypophosphatemia during continuous renal replacement therapy\"<br/><strong>E</strong>: Events of hypophosphatemia during the continuous renal replacement therapy. Treatment with the phosphate-containing solution for dialysis resulted in no episodes of hypophosphatemia., Serum phosphate levels during the continuous renal replacement therapy treatment. Group 1, receiving Hemosol B0 (diamond), group 2, receiving the phosphate-containing dialysis fluid as the dialysis fluid and Hemosol B0 as the replacement fluid (triangle), and group 3, receiving the phosphate-containing dialysis fluid (square). Groups 2 and 3 were statistically compared with group 1. n=14 patients/group, <strong>P&lt;0.01, <strong><em>P&lt;0.001.<br/></em>*A</strong>: Fig. 1. Events of hypophosphatemia during the continuous renal replacement therapy. Treatment with the phosphate-containing solution for dialysis resulted in no episodes of hypophosphatemia.<br/></strong>B**: nan</p>\n",
       "<p><code>d-67-00463.nxml</code> \"Pi sampling: a methodical and flexible approach to initial macromolecular crystallization screening\"<br/><strong>E</strong>: nan<br/><strong>A</strong>: research papers 464 Gorrec et al. Pi sampling Acta Cryst. (2011). D67, 463-470, Figure 1, Pi sampling In order to understand the rationale behind the modular arithmetic research papers Acta Cryst. (2011). D67, 463-470 Gorrec et al. Pi sampling 467<br/><strong>B</strong>: nan</p>\n",
       "<p><code>e-67-o1363.nxml</code> \"3-Allyl-1-{[3-(4-nitro­phen­yl)-4,5-dihydro-1,3-oxazol-5-yl]meth­yl}-1H-anthra[1,2-d]imidazole-2,6,11(3H)-trione\"<br/><strong>E</strong>: nan<br/><strong>A</strong>: -atom parameters constrained Á max = 0.12 e A ˚ À3 Á min = À0.15 e A ˚ À3, have synthesized 1,3-diallyl-1H-anthra[1,2-d]imidazole-2,6,11(3H)-tri- one (Afrakssou et al., 2010). Here we have focused on the reactivity of the exocyclic C=C bond of the allyl substituents to- wards nitriloxides. The latter are produced as intermediates in the dehydrohalogenation of 4-nitrobenzaldoxime by a solution of sodium hypochlorite. The oxime then reacts with 1,3-diallyl-1H-anthra[1,2-d] imidazole-2,6,11(3H)-trione in a biphasic medium (water-chloroform) at 0°C during 4 h to a unique cycloadduct 3-allyl-1-[3 -(4-nitro-phenyl)-4,5-dihydro-isoxazole- 5-ylmethyl] -1,3-dihydro-anthra [1,2 d] imidazole-2,6,11-trione (Scheme 1). Due to this reaction sequence a racemate of the title compound which shows a stereogenic center at C(17) is formed., Fig.1 shows the molecular plot of the crystal structure of the title compound. The isoxazole (E) adopts an envelope conformation on C(17) as indicated by the Cremer &amp; Pople (1975) puckering parameters Q2 = 0.2117 (19) Å and φ2 = 141.6 (5)°. Moreover, ring (B) has a twisted conformation, with puckering parameters Q = 0.1480 (19) Å, θ = 114.6 (8) ° and φ = 139.7 (8) °, whereas all other rings are planar. The dihedral angles between fused five and six-membered rings (C,D) and the isoxazole ring (E) is 11.4 (6)°. The torsion angle between C27-C26-N2-C1 is 87.42 (0.22)°. In the crystal, adjacent molecules are linked by intermolecular C-H···O hydrogen bonding as shown in Fig. 2 and Table 1., Experimental To a solution of 1,3-diallyl-1H-anthra[1,2-d] imidazole-2,6,11(3H)-trione (0.3 g, 0.87 mmol) and 4-nitrobenzaldoxime (0.36 g, 2.17 mmol) in chloroform (16 ml) was added dropwise a 24% sodium hypochlorite solution (8 ml) at 273 K. Stirring was continued for 4 h. The organic layer was dried over Na 2 SO 4 and the solvent was evaporated under reduced pressure. The residue was then purified by column chromatography on silica gel using a mixture of hexane/ethyl acetate (1/1) as eluent. The title compound is formed as a racemate (Yield: 35%). Orange crystals are isolated after the solvent was allowed to evaporate. supplementary materials sup-2 Refinement All H atoms were located in a difference map and treated as riding with C-H = 0.93 Å for all aromatic H atoms, 0.97 Å for methylene and 0.98Å for methine with U iso (H) = 1.2 U eq aromatic, methylene and methine. The C-bound H atoms of the allyl group were positioned geometrically and treated as riding with C-H = 0.93 Å (H27, H28A and H28B) and 0.97 Å (methylene) with U iso (H) = 1.2U eq ., Fig. 2. : Partial packing view showing the intermolecular C-H···O interactions., -Allyl-1-{[3-(4-nitrophenyl)-4,5-dihydro-1,3-oxazol-5-yl]methyl}-1H-anthra[1,2-d]imidazole-2,6,11(3H)-trione Crystal data C 28 H 20 N 4 O 6 F(000) = 1056 M r = 508.48 D x = 1.431 Mg m −3 Monoclinic, P2 1 /n Melting point: 471 K Hall symbol: -P 2yn Mo Kα radiation, λ = 0.71073 Å a = 10.0780 (14 × 0.11 mm Data collection Bruker APEXII CCD diffractometer 4828 independent reflections Radiation source: fine-focus sealed tube 2998 reflections with I &gt; 2σ(I) graphite R int = 0.048 φ and ω scans θ max = 26.4°, θ min = 2.5° supplementary materials sup-3 Absorption correction: multi-scan (SADABS, Bruker, 2009) h = −12→12 T min = 0.704, T max = 0.745 k = −28→28 47772 measured reflections l = −12→14 Refinement Refinement on F 2 Primary atom site location: structure-invariant direct methods Least-squares matrix: full Secondary atom site location: difference Fourier map R[F 2 &gt; 2σ(F 2 )] = 0.040 Hydrogen site location: inferred from neighbouring sites wR(F 2 ) = 0.111 H-atom parameters constrainedAll s.u.'s (except the s.u. in the dihedral angle between two l.s. planes) are estimated using the full covariance matrix. The cell s.u.'s are taken into account individually in the estimation of s.u.'s in distances, angles and torsion angles; correlations between s.u.'s in cell parameters are only used when they are defined by crystal symmetry. An approximate (isotropic) treatment of cell s.u.'s is used for estimating s.u.'s involving l.s. planes.<br/><strong>B</strong>: nan</p>\n",
       "</blockquote>\n",
       "<p>6 more</p></details>"
      ],
      "text/plain": [
       "<IPython.core.display.HTML object>"
      ]
     },
     "metadata": {},
     "output_type": "display_data"
    },
    {
     "data": {
      "text/html": [
       "<h2>Dataset: pmc-sample-1943-cc-by-subset (figure_captions exact)</h2>"
      ],
      "text/plain": [
       "<IPython.core.display.HTML object>"
      ]
     },
     "metadata": {},
     "output_type": "display_data"
    },
    {
     "data": {
      "text/html": [
       "<details><summary>Comparison: grobid-tei vs cermine</summary><p><strong>E</strong>: expected, <strong>A</strong>: pmc-sample-1943-cc-by-subset grobid-tei, <strong>B</strong>: pmc-sample-1943-cc-by-subset cermine (figure_captions exact)</p>\n",
       "<h4>grobid-tei [0 : 1] cermine (0)</h4>\n",
       "<p>There are 0 samples where grobid-tei got it wrong, but cermine got it right.</p>\n",
       "<h4>grobid-tei [1 : 0] cermine (0)</h4>\n",
       "<p>There are 0 samples where grobid-tei got it right, but cermine got it wrong.</p>\n",
       "<h4>grobid-tei [0 : 0] cermine (10)</h4>\n",
       "<p>There are 10 samples where both grobid-tei and cermine got it wrong.</p>\n",
       "<blockquote>\n",
       "<p><code>aas0055-0039.nxml</code> \"Phosphate-containing dialysis solution prevents hypophosphatemia during continuous renal replacement therapy\"<br/><strong>E</strong>: Events of hypophosphatemia during the continuous renal replacement therapy. Treatment with the phosphate-containing solution for dialysis resulted in no episodes of hypophosphatemia., Serum phosphate levels during the continuous renal replacement therapy treatment. Group 1, receiving Hemosol B0 (diamond), group 2, receiving the phosphate-containing dialysis fluid as the dialysis fluid and Hemosol B0 as the replacement fluid (triangle), and group 3, receiving the phosphate-containing dialysis fluid (square). Groups 2 and 3 were statistically compared with group 1. n=14 patients/group, <strong>P&lt;0.01, <strong><em>P&lt;0.001.<br/></em>*A</strong>: Fig. 1. Events of hypophosphatemia during the continuous renal replacement therapy. Treatment with the phosphate-containing solution for dialysis resulted in no episodes of hypophosphatemia.<br/></strong>B**: nan</p>\n",
       "<p><code>d-67-00463.nxml</code> \"Pi sampling: a methodical and flexible approach to initial macromolecular crystallization screening\"<br/><strong>E</strong>: nan<br/><strong>A</strong>: research papers 464 Gorrec et al. Pi sampling Acta Cryst. (2011). D67, 463-470, Figure 1, Pi sampling In order to understand the rationale behind the modular arithmetic research papers Acta Cryst. (2011). D67, 463-470 Gorrec et al. Pi sampling 467<br/><strong>B</strong>: nan</p>\n",
       "<p><code>e-67-o1363.nxml</code> \"3-Allyl-1-{[3-(4-nitro­phen­yl)-4,5-dihydro-1,3-oxazol-5-yl]meth­yl}-1H-anthra[1,2-d]imidazole-2,6,11(3H)-trione\"<br/><strong>E</strong>: nan<br/><strong>A</strong>: -atom parameters constrained Á max = 0.12 e A ˚ À3 Á min = À0.15 e A ˚ À3, have synthesized 1,3-diallyl-1H-anthra[1,2-d]imidazole-2,6,11(3H)-tri- one (Afrakssou et al., 2010). Here we have focused on the reactivity of the exocyclic C=C bond of the allyl substituents to- wards nitriloxides. The latter are produced as intermediates in the dehydrohalogenation of 4-nitrobenzaldoxime by a solution of sodium hypochlorite. The oxime then reacts with 1,3-diallyl-1H-anthra[1,2-d] imidazole-2,6,11(3H)-trione in a biphasic medium (water-chloroform) at 0°C during 4 h to a unique cycloadduct 3-allyl-1-[3 -(4-nitro-phenyl)-4,5-dihydro-isoxazole- 5-ylmethyl] -1,3-dihydro-anthra [1,2 d] imidazole-2,6,11-trione (Scheme 1). Due to this reaction sequence a racemate of the title compound which shows a stereogenic center at C(17) is formed., Fig.1 shows the molecular plot of the crystal structure of the title compound. The isoxazole (E) adopts an envelope conformation on C(17) as indicated by the Cremer &amp; Pople (1975) puckering parameters Q2 = 0.2117 (19) Å and φ2 = 141.6 (5)°. Moreover, ring (B) has a twisted conformation, with puckering parameters Q = 0.1480 (19) Å, θ = 114.6 (8) ° and φ = 139.7 (8) °, whereas all other rings are planar. The dihedral angles between fused five and six-membered rings (C,D) and the isoxazole ring (E) is 11.4 (6)°. The torsion angle between C27-C26-N2-C1 is 87.42 (0.22)°. In the crystal, adjacent molecules are linked by intermolecular C-H···O hydrogen bonding as shown in Fig. 2 and Table 1., Experimental To a solution of 1,3-diallyl-1H-anthra[1,2-d] imidazole-2,6,11(3H)-trione (0.3 g, 0.87 mmol) and 4-nitrobenzaldoxime (0.36 g, 2.17 mmol) in chloroform (16 ml) was added dropwise a 24% sodium hypochlorite solution (8 ml) at 273 K. Stirring was continued for 4 h. The organic layer was dried over Na 2 SO 4 and the solvent was evaporated under reduced pressure. The residue was then purified by column chromatography on silica gel using a mixture of hexane/ethyl acetate (1/1) as eluent. The title compound is formed as a racemate (Yield: 35%). Orange crystals are isolated after the solvent was allowed to evaporate. supplementary materials sup-2 Refinement All H atoms were located in a difference map and treated as riding with C-H = 0.93 Å for all aromatic H atoms, 0.97 Å for methylene and 0.98Å for methine with U iso (H) = 1.2 U eq aromatic, methylene and methine. The C-bound H atoms of the allyl group were positioned geometrically and treated as riding with C-H = 0.93 Å (H27, H28A and H28B) and 0.97 Å (methylene) with U iso (H) = 1.2U eq ., Fig. 2. : Partial packing view showing the intermolecular C-H···O interactions., -Allyl-1-{[3-(4-nitrophenyl)-4,5-dihydro-1,3-oxazol-5-yl]methyl}-1H-anthra[1,2-d]imidazole-2,6,11(3H)-trione Crystal data C 28 H 20 N 4 O 6 F(000) = 1056 M r = 508.48 D x = 1.431 Mg m −3 Monoclinic, P2 1 /n Melting point: 471 K Hall symbol: -P 2yn Mo Kα radiation, λ = 0.71073 Å a = 10.0780 (14 × 0.11 mm Data collection Bruker APEXII CCD diffractometer 4828 independent reflections Radiation source: fine-focus sealed tube 2998 reflections with I &gt; 2σ(I) graphite R int = 0.048 φ and ω scans θ max = 26.4°, θ min = 2.5° supplementary materials sup-3 Absorption correction: multi-scan (SADABS, Bruker, 2009) h = −12→12 T min = 0.704, T max = 0.745 k = −28→28 47772 measured reflections l = −12→14 Refinement Refinement on F 2 Primary atom site location: structure-invariant direct methods Least-squares matrix: full Secondary atom site location: difference Fourier map R[F 2 &gt; 2σ(F 2 )] = 0.040 Hydrogen site location: inferred from neighbouring sites wR(F 2 ) = 0.111 H-atom parameters constrainedAll s.u.'s (except the s.u. in the dihedral angle between two l.s. planes) are estimated using the full covariance matrix. The cell s.u.'s are taken into account individually in the estimation of s.u.'s in distances, angles and torsion angles; correlations between s.u.'s in cell parameters are only used when they are defined by crystal symmetry. An approximate (isotropic) treatment of cell s.u.'s is used for estimating s.u.'s involving l.s. planes.<br/><strong>B</strong>: nan</p>\n",
       "</blockquote>\n",
       "<p>7 more</p></details>"
      ],
      "text/plain": [
       "<IPython.core.display.HTML object>"
      ]
     },
     "metadata": {},
     "output_type": "display_data"
    },
    {
     "data": {
      "text/html": [
       "<hr/>"
      ],
      "text/plain": [
       "<IPython.core.display.HTML object>"
      ]
     },
     "metadata": {},
     "output_type": "display_data"
    },
    {
     "data": {
      "text/html": [
       "<h1>Field: figure_label_captions</h1>"
      ],
      "text/plain": [
       "<IPython.core.display.HTML object>"
      ]
     },
     "metadata": {},
     "output_type": "display_data"
    },
    {
     "data": {
      "text/html": [
       "<h2>Dataset: pmc-sample-1943-cc-by-subset (figure_label_captions levenshtein)</h2>"
      ],
      "text/plain": [
       "<IPython.core.display.HTML object>"
      ]
     },
     "metadata": {},
     "output_type": "display_data"
    },
    {
     "data": {
      "text/html": [
       "<details><summary>Comparison: grobid-tei vs cermine</summary><p><strong>E</strong>: expected, <strong>A</strong>: pmc-sample-1943-cc-by-subset grobid-tei, <strong>B</strong>: pmc-sample-1943-cc-by-subset cermine (figure_label_captions levenshtein)</p>\n",
       "<h4>grobid-tei [0 : 1] cermine (0)</h4>\n",
       "<p>There are 0 samples where grobid-tei got it wrong, but cermine got it right.</p>\n",
       "<h4>grobid-tei [1 : 0] cermine (1)</h4>\n",
       "<p>There are 1 samples where grobid-tei got it right, but cermine got it wrong.</p>\n",
       "<blockquote>\n",
       "<p><code>soto131-469.nxml</code> \"Visualization and assessment of saccular duct and endolymphatic sinus\"<br/><strong>E</strong>: Figure 1 Macroscopic findings of the vestibule in the cadaver (left ear). (A) Membranous composition of the saccule and its intact connecting duct. Arrows show the reuniting duct, and arrowheads show the saccular duct and endolymphatic sinus. (B) Membranous compositions of the saccule and reuniting duct were removed. Arrows show the YT groove of the reuniting duct. Arrowheads, saccular duct. (C) The sulciform groove of the saccular duct (white dashed arrows) and endolymphatic sinus (white arrows) reach the orifice of the vestibular aqueduct. (D) Schematic view of the YT groove (bold arrows) of the reuniting duct and sulciform groove (dashed arrows) of the saccular duct and endolymphatic sinus. CR, cochlear recess; ED, endolymphatic duct; ES, endolymphatic sac; IAC, internal auditory canal; L, lateral semicircular canal; OS, osseous spiral lamina; P, posterior semicircular canal; S, superior semicircular canal; SA, saccule; SR, saccular recess; UR, utricular recess., Figure 2 Direction of CT examination and CT findings in the cadaver. (A) This position of the temporal bone is suitable to obtain more accurate CT images of the saccule, saccular duct, and endolymphatic sinus. Note that the remnant membranous labyrinth, shown in black, is visible. Insert: Higher magnification of the groove of the saccular duct (white dashed arrows) and endolymphatic sinus (white arrows). (B) The sulciform groove-like 3D CT image of the saccular duct and endolymphatic sinus of the same specimen as in (A), which was examined in the same direction as in (A) with a bone CT window level. (C) The same specimen as in (A) with CT window levels of bone and soft tissue. The membranous composition of the saccular duct and endolymphatic sinus in purple (white arrows) are surrounded by the artificial shadow of a rendering effect. The details of the aspects are consistent with macroscopic specimens. Purple indicates soft tissue. CR, cochlear recess; IAC, internal auditory canal; L, lateral semicircular canal; OS, osseous spiral lamina; P, posterior semicircular canal; S, superior semicircular canal; SR, saccular recess; UR, utricular recess., Figure 3 Findings of a representative 3D CT image of a healthy human subject (left ear). (A) With low-level bone CT window (blue color). (B) With low - and high- level bone CT windows (blue and green color). (C) The image shows a view from directly above the sulciform groove with the same CT window level as in (B). A more accurate image of the sulciform groove of the saccular duct and endolymphatic sinus can be judged by referring to the CT images in (A, B, and C) The method in (C) is suitable for assessment of the sulciform groove of the saccular duct and endolymphatic sinus. With two different bone densities the CT view manifests more three-dimensionally. The cochlear lateral wall and basal portion of the osseous spiral lamina in green seem to be denser in bone density than the vestibule and the apex of the cochlea in blue. CR, cochlear recess; IAC, internal auditory canal; OS, osseous spiral lamina; P, posterior semicircular canal; SR, saccular recess; UR, utricular recess. Black arrows, YT groove; white arrows, the sulciform groove of the saccular duct and endolymphatic sinus., Figure 4 Findings of other representative 3D CT images in a healthy human subject (left ear). CR, cochlear recess; IAC, internal auditory canal; OS, osseous spiral lamina; P, posterior semicircular canal; SR, saccular recess; UR, utricular recess. White arrows, the sulciform groove of the saccular duct and endolymphatic sinus.<br/><strong>B</strong>: nan</p>\n",
       "</blockquote>\n",
       "<h4>grobid-tei [0 : 0] cermine (9)</h4>\n",
       "<p>There are 9 samples where both grobid-tei and cermine got it wrong.</p>\n",
       "<blockquote>\n",
       "<p><code>aas0055-0039.nxml</code> \"Phosphate-containing dialysis solution prevents hypophosphatemia during continuous renal replacement therapy\"<br/><strong>E</strong>: Fig. 1 Events of hypophosphatemia during the continuous renal replacement therapy. Treatment with the phosphate-containing solution for dialysis resulted in no episodes of hypophosphatemia., Fig. 2 Serum phosphate levels during the continuous renal replacement therapy treatment. Group 1, receiving Hemosol B0 (diamond), group 2, receiving the phosphate-containing dialysis fluid as the dialysis fluid and Hemosol B0 as the replacement fluid (triangle), and group 3, receiving the phosphate-containing dialysis fluid (square). Groups 2 and 3 were statistically compared with group 1. n=14 patients/group, <strong>P&lt;0.01, <strong><em>P&lt;0.001.<br/></em>*A</strong>: Fig. 1 . Fig. 1. Events of hypophosphatemia during the continuous renal replacement therapy. Treatment with the phosphate-containing solution for dialysis resulted in no episodes of hypophosphatemia.<br/></strong>B**: nan</p>\n",
       "<p><code>d-67-00463.nxml</code> \"Pi sampling: a methodical and flexible approach to initial macromolecular crystallization screening\"<br/><strong>E</strong>: nan<br/><strong>A</strong>: research papers 464 Gorrec et al. Pi sampling Acta Cryst. (2011). D67, 463-470, Figure 1 Figure 1, 4. 1 . Pi sampling In order to understand the rationale behind the modular arithmetic research papers Acta Cryst. (2011). D67, 463-470 Gorrec et al. Pi sampling 467<br/><strong>B</strong>: nan</p>\n",
       "<p><code>e-67-o1363.nxml</code> \"3-Allyl-1-{[3-(4-nitro­phen­yl)-4,5-dihydro-1,3-oxazol-5-yl]meth­yl}-1H-anthra[1,2-d]imidazole-2,6,11(3H)-trione\"<br/><strong>E</strong>: nan<br/><strong>A</strong>: -atom parameters constrained Á max = 0.12 e A ˚ À3 Á min = À0.15 e A ˚ À3, have synthesized 1,3-diallyl-1H-anthra[1,2-d]imidazole-2,6,11(3H)-tri- one (Afrakssou et al., 2010). Here we have focused on the reactivity of the exocyclic C=C bond of the allyl substituents to- wards nitriloxides. The latter are produced as intermediates in the dehydrohalogenation of 4-nitrobenzaldoxime by a solution of sodium hypochlorite. The oxime then reacts with 1,3-diallyl-1H-anthra[1,2-d] imidazole-2,6,11(3H)-trione in a biphasic medium (water-chloroform) at 0°C during 4 h to a unique cycloadduct 3-allyl-1-[3 -(4-nitro-phenyl)-4,5-dihydro-isoxazole- 5-ylmethyl] -1,3-dihydro-anthra [1,2 d] imidazole-2,6,11-trione (Scheme 1). Due to this reaction sequence a racemate of the title compound which shows a stereogenic center at C(17) is formed., Fig. 1 Fig.1 shows the molecular plot of the crystal structure of the title compound. The isoxazole (E) adopts an envelope conformation on C(17) as indicated by the Cremer &amp; Pople (1975) puckering parameters Q2 = 0.2117 (19) Å and φ2 = 141.6 (5)°. Moreover, ring (B) has a twisted conformation, with puckering parameters Q = 0.1480 (19) Å, θ = 114.6 (8) ° and φ = 139.7 (8) °, whereas all other rings are planar. The dihedral angles between fused five and six-membered rings (C,D) and the isoxazole ring (E) is 11.4 (6)°. The torsion angle between C27-C26-N2-C1 is 87.42 (0.22)°. In the crystal, adjacent molecules are linked by intermolecular C-H···O hydrogen bonding as shown in Fig. 2 and Table 1., Experimental To a solution of 1,3-diallyl-1H-anthra[1,2-d] imidazole-2,6,11(3H)-trione (0.3 g, 0.87 mmol) and 4-nitrobenzaldoxime (0.36 g, 2.17 mmol) in chloroform (16 ml) was added dropwise a 24% sodium hypochlorite solution (8 ml) at 273 K. Stirring was continued for 4 h. The organic layer was dried over Na 2 SO 4 and the solvent was evaporated under reduced pressure. The residue was then purified by column chromatography on silica gel using a mixture of hexane/ethyl acetate (1/1) as eluent. The title compound is formed as a racemate (Yield: 35%). Orange crystals are isolated after the solvent was allowed to evaporate. supplementary materials sup-2 Refinement All H atoms were located in a difference map and treated as riding with C-H = 0.93 Å for all aromatic H atoms, 0.97 Å for methylene and 0.98Å for methine with U iso (H) = 1.2 U eq aromatic, methylene and methine. The C-bound H atoms of the allyl group were positioned geometrically and treated as riding with C-H = 0.93 Å (H27, H28A and H28B) and 0.97 Å (methylene) with U iso (H) = 1.2U eq ., Fig. 2 . Fig. 2. : Partial packing view showing the intermolecular C-H···O interactions., 3. -Allyl-1-{[3-(4-nitrophenyl)-4,5-dihydro-1,3-oxazol-5-yl]methyl}-1H-anthra[1,2-d]imidazole-2,6,11(3H)-trione Crystal data C 28 H 20 N 4 O 6 F(000) = 1056 M r = 508.48 D x = 1.431 Mg m −3 Monoclinic, P2 1 /n Melting point: 471 K Hall symbol: -P 2yn Mo Kα radiation, λ = 0.71073 Å a = 10.0780 (14 × 0.11 mm Data collection Bruker APEXII CCD diffractometer 4828 independent reflections Radiation source: fine-focus sealed tube 2998 reflections with I &gt; 2σ(I) graphite R int = 0.048 φ and ω scans θ max = 26.4°, θ min = 2.5° supplementary materials sup-3 Absorption correction: multi-scan (SADABS, Bruker, 2009) h = −12→12 T min = 0.704, T max = 0.745 k = −28→28 47772 measured reflections l = −12→14 Refinement Refinement on F 2 Primary atom site location: structure-invariant direct methods Least-squares matrix: full Secondary atom site location: difference Fourier map R[F 2 &gt; 2σ(F 2 )] = 0.040 Hydrogen site location: inferred from neighbouring sites wR(F 2 ) = 0.111 H-atom parameters constrainedAll s.u.'s (except the s.u. in the dihedral angle between two l.s. planes) are estimated using the full covariance matrix. The cell s.u.'s are taken into account individually in the estimation of s.u.'s in distances, angles and torsion angles; correlations between s.u.'s in cell parameters are only used when they are defined by crystal symmetry. An approximate (isotropic) treatment of cell s.u.'s is used for estimating s.u.'s involving l.s. planes.<br/><strong>B</strong>: nan</p>\n",
       "</blockquote>\n",
       "<p>6 more</p></details>"
      ],
      "text/plain": [
       "<IPython.core.display.HTML object>"
      ]
     },
     "metadata": {},
     "output_type": "display_data"
    },
    {
     "data": {
      "text/html": [
       "<h2>Dataset: pmc-sample-1943-cc-by-subset (figure_label_captions exact)</h2>"
      ],
      "text/plain": [
       "<IPython.core.display.HTML object>"
      ]
     },
     "metadata": {},
     "output_type": "display_data"
    },
    {
     "data": {
      "text/html": [
       "<details><summary>Comparison: grobid-tei vs cermine</summary><p><strong>E</strong>: expected, <strong>A</strong>: pmc-sample-1943-cc-by-subset grobid-tei, <strong>B</strong>: pmc-sample-1943-cc-by-subset cermine (figure_label_captions exact)</p>\n",
       "<h4>grobid-tei [0 : 1] cermine (0)</h4>\n",
       "<p>There are 0 samples where grobid-tei got it wrong, but cermine got it right.</p>\n",
       "<h4>grobid-tei [1 : 0] cermine (0)</h4>\n",
       "<p>There are 0 samples where grobid-tei got it right, but cermine got it wrong.</p>\n",
       "<h4>grobid-tei [0 : 0] cermine (10)</h4>\n",
       "<p>There are 10 samples where both grobid-tei and cermine got it wrong.</p>\n",
       "<blockquote>\n",
       "<p><code>aas0055-0039.nxml</code> \"Phosphate-containing dialysis solution prevents hypophosphatemia during continuous renal replacement therapy\"<br/><strong>E</strong>: Fig. 1 Events of hypophosphatemia during the continuous renal replacement therapy. Treatment with the phosphate-containing solution for dialysis resulted in no episodes of hypophosphatemia., Fig. 2 Serum phosphate levels during the continuous renal replacement therapy treatment. Group 1, receiving Hemosol B0 (diamond), group 2, receiving the phosphate-containing dialysis fluid as the dialysis fluid and Hemosol B0 as the replacement fluid (triangle), and group 3, receiving the phosphate-containing dialysis fluid (square). Groups 2 and 3 were statistically compared with group 1. n=14 patients/group, <strong>P&lt;0.01, <strong><em>P&lt;0.001.<br/></em>*A</strong>: Fig. 1 . Fig. 1. Events of hypophosphatemia during the continuous renal replacement therapy. Treatment with the phosphate-containing solution for dialysis resulted in no episodes of hypophosphatemia.<br/></strong>B**: nan</p>\n",
       "<p><code>d-67-00463.nxml</code> \"Pi sampling: a methodical and flexible approach to initial macromolecular crystallization screening\"<br/><strong>E</strong>: nan<br/><strong>A</strong>: research papers 464 Gorrec et al. Pi sampling Acta Cryst. (2011). D67, 463-470, Figure 1 Figure 1, 4. 1 . Pi sampling In order to understand the rationale behind the modular arithmetic research papers Acta Cryst. (2011). D67, 463-470 Gorrec et al. Pi sampling 467<br/><strong>B</strong>: nan</p>\n",
       "<p><code>e-67-o1363.nxml</code> \"3-Allyl-1-{[3-(4-nitro­phen­yl)-4,5-dihydro-1,3-oxazol-5-yl]meth­yl}-1H-anthra[1,2-d]imidazole-2,6,11(3H)-trione\"<br/><strong>E</strong>: nan<br/><strong>A</strong>: -atom parameters constrained Á max = 0.12 e A ˚ À3 Á min = À0.15 e A ˚ À3, have synthesized 1,3-diallyl-1H-anthra[1,2-d]imidazole-2,6,11(3H)-tri- one (Afrakssou et al., 2010). Here we have focused on the reactivity of the exocyclic C=C bond of the allyl substituents to- wards nitriloxides. The latter are produced as intermediates in the dehydrohalogenation of 4-nitrobenzaldoxime by a solution of sodium hypochlorite. The oxime then reacts with 1,3-diallyl-1H-anthra[1,2-d] imidazole-2,6,11(3H)-trione in a biphasic medium (water-chloroform) at 0°C during 4 h to a unique cycloadduct 3-allyl-1-[3 -(4-nitro-phenyl)-4,5-dihydro-isoxazole- 5-ylmethyl] -1,3-dihydro-anthra [1,2 d] imidazole-2,6,11-trione (Scheme 1). Due to this reaction sequence a racemate of the title compound which shows a stereogenic center at C(17) is formed., Fig. 1 Fig.1 shows the molecular plot of the crystal structure of the title compound. The isoxazole (E) adopts an envelope conformation on C(17) as indicated by the Cremer &amp; Pople (1975) puckering parameters Q2 = 0.2117 (19) Å and φ2 = 141.6 (5)°. Moreover, ring (B) has a twisted conformation, with puckering parameters Q = 0.1480 (19) Å, θ = 114.6 (8) ° and φ = 139.7 (8) °, whereas all other rings are planar. The dihedral angles between fused five and six-membered rings (C,D) and the isoxazole ring (E) is 11.4 (6)°. The torsion angle between C27-C26-N2-C1 is 87.42 (0.22)°. In the crystal, adjacent molecules are linked by intermolecular C-H···O hydrogen bonding as shown in Fig. 2 and Table 1., Experimental To a solution of 1,3-diallyl-1H-anthra[1,2-d] imidazole-2,6,11(3H)-trione (0.3 g, 0.87 mmol) and 4-nitrobenzaldoxime (0.36 g, 2.17 mmol) in chloroform (16 ml) was added dropwise a 24% sodium hypochlorite solution (8 ml) at 273 K. Stirring was continued for 4 h. The organic layer was dried over Na 2 SO 4 and the solvent was evaporated under reduced pressure. The residue was then purified by column chromatography on silica gel using a mixture of hexane/ethyl acetate (1/1) as eluent. The title compound is formed as a racemate (Yield: 35%). Orange crystals are isolated after the solvent was allowed to evaporate. supplementary materials sup-2 Refinement All H atoms were located in a difference map and treated as riding with C-H = 0.93 Å for all aromatic H atoms, 0.97 Å for methylene and 0.98Å for methine with U iso (H) = 1.2 U eq aromatic, methylene and methine. The C-bound H atoms of the allyl group were positioned geometrically and treated as riding with C-H = 0.93 Å (H27, H28A and H28B) and 0.97 Å (methylene) with U iso (H) = 1.2U eq ., Fig. 2 . Fig. 2. : Partial packing view showing the intermolecular C-H···O interactions., 3. -Allyl-1-{[3-(4-nitrophenyl)-4,5-dihydro-1,3-oxazol-5-yl]methyl}-1H-anthra[1,2-d]imidazole-2,6,11(3H)-trione Crystal data C 28 H 20 N 4 O 6 F(000) = 1056 M r = 508.48 D x = 1.431 Mg m −3 Monoclinic, P2 1 /n Melting point: 471 K Hall symbol: -P 2yn Mo Kα radiation, λ = 0.71073 Å a = 10.0780 (14 × 0.11 mm Data collection Bruker APEXII CCD diffractometer 4828 independent reflections Radiation source: fine-focus sealed tube 2998 reflections with I &gt; 2σ(I) graphite R int = 0.048 φ and ω scans θ max = 26.4°, θ min = 2.5° supplementary materials sup-3 Absorption correction: multi-scan (SADABS, Bruker, 2009) h = −12→12 T min = 0.704, T max = 0.745 k = −28→28 47772 measured reflections l = −12→14 Refinement Refinement on F 2 Primary atom site location: structure-invariant direct methods Least-squares matrix: full Secondary atom site location: difference Fourier map R[F 2 &gt; 2σ(F 2 )] = 0.040 Hydrogen site location: inferred from neighbouring sites wR(F 2 ) = 0.111 H-atom parameters constrainedAll s.u.'s (except the s.u. in the dihedral angle between two l.s. planes) are estimated using the full covariance matrix. The cell s.u.'s are taken into account individually in the estimation of s.u.'s in distances, angles and torsion angles; correlations between s.u.'s in cell parameters are only used when they are defined by crystal symmetry. An approximate (isotropic) treatment of cell s.u.'s is used for estimating s.u.'s involving l.s. planes.<br/><strong>B</strong>: nan</p>\n",
       "</blockquote>\n",
       "<p>7 more</p></details>"
      ],
      "text/plain": [
       "<IPython.core.display.HTML object>"
      ]
     },
     "metadata": {},
     "output_type": "display_data"
    }
   ],
   "source": [
    "def filter_by_field_name_and_evaluation_method(df, field_name, evaluation_method):\n",
    "    return df[\n",
    "        (df['field_name'] == field_name) &\n",
    "        (df['evaluation_method'] == evaluation_method)\n",
    "    ]\n",
    "\n",
    "def show_comparative_examples(inspect_name, compare_with_name, field_name, evaluation_method, limit=3):\n",
    "    filtered_inspect_df = details_df_map[inspect_name]\n",
    "    inspect_df = filter_by_field_name_and_evaluation_method(\n",
    "        details_df_map[inspect_name], field_name, evaluation_method\n",
    "    ).merge(\n",
    "        filter_by_field_name_and_evaluation_method(\n",
    "            details_df_map[compare_with_name], field_name, evaluation_method\n",
    "        ),\n",
    "        how='outer',\n",
    "        on=['target_file', 'field_name', 'evaluation_method', 'expected'],\n",
    "        suffixes=['', '_other']\n",
    "    )\n",
    "\n",
    "    md = []\n",
    "\n",
    "    md.append('**E**: expected, **A**: %s, **B**: %s (%s %s)' % (\n",
    "        inspect_name, compare_with_name, field_name, evaluation_method\n",
    "    ))\n",
    "    \n",
    "    short_inspect_name = short_name(inspect_name)\n",
    "    short_other_name = short_name(compare_with_name)\n",
    "\n",
    "    incorrect_inspect_df = inspect_df[(inspect_df['tp'] == 0) & (inspect_df['tp_other'] == 1)]\n",
    "    md.append('#### %s [0 : 1] %s (%d)' % (short_inspect_name, short_other_name, len(incorrect_inspect_df)))\n",
    "    md.append('There are %d samples where %s got it wrong, but %s got it right.' % (\n",
    "        len(incorrect_inspect_df), short_inspect_name, short_other_name\n",
    "    ))\n",
    "    for row in incorrect_inspect_df[:limit].to_dict(orient='rows'):\n",
    "        md.append('> `%s` \"%s\"<br/>**E**: %s<br/>**A**: %s' % (\n",
    "            row['target_file'], title_map.get(row['target_file']), row['expected'], row['actual']\n",
    "        ))\n",
    "    if len(incorrect_inspect_df) > limit:\n",
    "        md.append('%d more' % (len(incorrect_inspect_df) - limit))\n",
    "\n",
    "    correct_inspect_df = inspect_df[(inspect_df['tp'] == 1) & (inspect_df['tp_other'] == 0)]\n",
    "    md.append('#### %s [1 : 0] %s (%d)' % (short_inspect_name, short_other_name, len(correct_inspect_df)))\n",
    "    md.append('There are %d samples where %s got it right, but %s got it wrong.' % (\n",
    "        len(correct_inspect_df), short_inspect_name, short_other_name\n",
    "    ))\n",
    "    for row in correct_inspect_df[:limit].to_dict(orient='rows'):\n",
    "        md.append('> `%s` \"%s\"<br/>**E**: %s<br/>**B**: %s' % (\n",
    "            row['target_file'], title_map.get(row['target_file']), row['expected'], row['actual_other']\n",
    "        ))\n",
    "    if len(correct_inspect_df) > limit:\n",
    "        md.append('%d more' % (len(correct_inspect_df) - limit))\n",
    "\n",
    "    both_incorrect_inspect_df = inspect_df[\n",
    "        (inspect_df['tn'] == 0) & (inspect_df['tp'] == 0) & (inspect_df['tp_other'] == 0)\n",
    "    ]\n",
    "    md.append('#### %s [0 : 0] %s (%d)' % (short_inspect_name, short_other_name, len(both_incorrect_inspect_df)))\n",
    "    md.append('There are %d samples where both %s and %s got it wrong.' % (\n",
    "        len(both_incorrect_inspect_df), short_inspect_name, short_other_name\n",
    "    ))\n",
    "    for row in both_incorrect_inspect_df[:limit].to_dict(orient='rows'):\n",
    "        md.append('> `%s` \"%s\"<br/>**E**: %s<br/>**A**: %s<br/>**B**: %s' % (\n",
    "            row['target_file'], title_map.get(row['target_file']),\n",
    "            row['expected'], row['actual'], row['actual_other']\n",
    "        ))\n",
    "    if len(both_incorrect_inspect_df) > limit:\n",
    "        md.append('%d more' % (len(both_incorrect_inspect_df) - limit))\n",
    "    return '\\n\\n'.join(md)\n",
    "\n",
    "printmd('# Comparing results between tools')\n",
    "for field_name in field_names:\n",
    "    printmd('<hr/>')\n",
    "    printmd('# Field: %s' % field_name)\n",
    "    for evaluation_method in evaluation_methods:\n",
    "        for prefix in prefix_list:\n",
    "            printmd('## Dataset: %s (%s %s)' % (prefix, field_name, evaluation_method))\n",
    "            names_with_prefix = [name for name in all_result_names if name.startswith(prefix)]\n",
    "            for i, inspect_name in enumerate(names_with_prefix[:-1]):\n",
    "                for other_name in names_with_prefix[(1 + i):]:\n",
    "                    title = 'Comparison: %s vs %s' % (short_name(inspect_name), short_name(other_name))\n",
    "                    content = markdown(show_comparative_examples(\n",
    "                        inspect_name, other_name,\n",
    "                        field_name=field_name, evaluation_method=evaluation_method\n",
    "                    ))\n",
    "                    display(HTML('<details><summary>%s</summary>%s</details>' % (title, content)))"
   ]
  }
 ],
 "metadata": {
  "kernelspec": {
   "display_name": "Python 3",
   "language": "python",
   "name": "python3"
  },
  "language_info": {
   "codemirror_mode": {
    "name": "ipython",
    "version": 3
   },
   "file_extension": ".py",
   "mimetype": "text/x-python",
   "name": "python",
   "nbconvert_exporter": "python",
   "pygments_lexer": "ipython3",
   "version": "3.6.6"
  }
 },
 "nbformat": 4,
 "nbformat_minor": 2
}
