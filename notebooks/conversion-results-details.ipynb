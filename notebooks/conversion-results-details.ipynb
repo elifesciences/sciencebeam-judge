{
 "cells": [
  {
   "cell_type": "code",
   "execution_count": 1,
   "metadata": {
    "tags": [
     "parameters"
    ]
   },
   "outputs": [],
   "source": [
    "# commented out, deprecated parameters to specify dataset paths:\n",
    "# data_path = '../example-data'\n",
    "# # data_path = 'gs://elife-public-data/sciencebeam/datasets'\n",
    "# dataset_relative_paths = ['pmc-sample-1943-cc-by-subset']\n",
    "# dataset_suffixes = []\n",
    "# output_path_suffix = '-results'\n",
    "# tool_names = ['grobid-tei', 'cermine']\n",
    "\n",
    "_base_dataset_results_path = '../example-data/pmc-sample-1943-cc-by-subset-results'\n",
    "dataset_names = ['pmc-sample-1943-cc-by-subset']\n",
    "tool_names = ['grobid-tei', 'cermine']\n",
    "evaluation_results_paths = [\n",
    "    '%s/%s/evaluation-results' % (_base_dataset_results_path, tool)\n",
    "    for tool in tool_names\n",
    "]\n",
    "\n",
    "\n",
    "affiliation_field_names = ['affiliation_strings', 'affiliation_institution']\n",
    "reference_field_names = [\n",
    "    'first_reference_fields', 'first_reference_title',\n",
    "    'reference_fields', 'reference_title', 'reference_year', 'reference_source', 'reference_publication_type',\n",
    "    'reference_volume', 'reference_fpage', 'reference_lpage'\n",
    "]\n",
    "table_field_names = ['tables', 'table_strings', 'table_labels', 'table_captions', 'table_label_captions']\n",
    "figure_field_names = ['figure_labels', 'figure_captions', 'figure_label_captions']\n",
    "body_field_names = ['section_titles']\n",
    "field_names = [\n",
    "    'title',\n",
    "    'first_author_full_name', 'author_full_names',\n",
    "    'abstract'\n",
    "] + body_field_names + affiliation_field_names + reference_field_names + table_field_names + figure_field_names\n",
    "evaluation_methods = ['levenshtein', 'exact']\n",
    "details_filename = 'results-00000-of-00001.csv'\n",
    "show_tables = False"
   ]
  },
  {
   "cell_type": "markdown",
   "metadata": {},
   "source": [
    "# Conversion Results Details"
   ]
  },
  {
   "cell_type": "code",
   "execution_count": 2,
   "metadata": {},
   "outputs": [],
   "source": [
    "# This Conversion Results Notebook by default use the very small example dataset\n",
    "# You may pass in other parameters, e.g.:\n",
    "#   $papermill conversion-results-tools.ipynb conversion-results-tools-configured.ipynb -p data_path '/my/other/data/path'"
   ]
  },
  {
   "cell_type": "code",
   "execution_count": 3,
   "metadata": {},
   "outputs": [],
   "source": [
    "%matplotlib inline"
   ]
  },
  {
   "cell_type": "code",
   "execution_count": 4,
   "metadata": {},
   "outputs": [],
   "source": [
    "import matplotlib\n",
    "matplotlib.style.use('ggplot')"
   ]
  },
  {
   "cell_type": "code",
   "execution_count": 5,
   "metadata": {},
   "outputs": [],
   "source": [
    "import warnings\n",
    "warnings.filterwarnings('ignore')\n",
    "\n",
    "from datetime import datetime\n",
    "import time\n",
    "import os\n",
    "import subprocess\n",
    "import re\n",
    "from hashlib import sha1\n",
    "from collections import OrderedDict\n",
    "from typing import List\n",
    "\n",
    "import pandas as pd\n",
    "from markdown import markdown\n",
    "from IPython.display import display, HTML\n",
    "\n",
    "warnings.filterwarnings('default')"
   ]
  },
  {
   "cell_type": "code",
   "execution_count": 6,
   "metadata": {},
   "outputs": [
    {
     "data": {
      "text/html": [
       "\n",
       "<!-- vertical accordion CSS -->\n",
       "<style>\n",
       "details {\n",
       "  padding: 15px;\n",
       "  border: 1px solid rgba(0,0,0,.1);\n",
       "}\n",
       "\n",
       "details + details {\n",
       "  margin-top: 20px;\n",
       "}\n",
       "\n",
       "details[open] {\n",
       "  min-height: 30px;\n",
       "}\n",
       "\n",
       "summary {\n",
       "  font-weight: 500;\n",
       "  cursor: pointer;\n",
       "}\n",
       "\n",
       "summary:focus {\n",
       "  outline: none;\n",
       "}\n",
       "</style>\n"
      ],
      "text/plain": [
       "<IPython.core.display.HTML object>"
      ]
     },
     "metadata": {},
     "output_type": "display_data"
    }
   ],
   "source": [
    "display(HTML(\n",
    "'''\n",
    "<!-- vertical accordion CSS -->\n",
    "<style>\n",
    "details {\n",
    "  padding: 15px;\n",
    "  border: 1px solid rgba(0,0,0,.1);\n",
    "}\n",
    "\n",
    "details + details {\n",
    "  margin-top: 20px;\n",
    "}\n",
    "\n",
    "details[open] {\n",
    "  min-height: 30px;\n",
    "}\n",
    "\n",
    "summary {\n",
    "  font-weight: 500;\n",
    "  cursor: pointer;\n",
    "}\n",
    "\n",
    "summary:focus {\n",
    "  outline: none;\n",
    "}\n",
    "</style>\n",
    "'''))"
   ]
  },
  {
   "cell_type": "code",
   "execution_count": 7,
   "metadata": {},
   "outputs": [],
   "source": [
    "def parse_list(s):\n",
    "    if isinstance(s, list):\n",
    "        return s\n",
    "    return [x.strip() for x in s.split(',') if x.strip()]\n",
    "\n",
    "\n",
    "def parse_list_dict(s):\n",
    "    if isinstance(s, dict):\n",
    "        return s\n",
    "    return {\n",
    "        key: value.split('|')\n",
    "        for item in parse_list(dataset_suffixes)\n",
    "        for key, value in [item.split(':')]\n",
    "    }\n",
    "\n",
    "\n",
    "tool_names = parse_list(tool_names)\n",
    "field_names = parse_list(field_names)\n",
    "evaluation_methods = parse_list(evaluation_methods)\n",
    "\n",
    "try:\n",
    "    # parse legacy parameters\n",
    "    dataset_relative_paths = parse_list(dataset_relative_paths)\n",
    "    dataset_suffixes = parse_list_dict(dataset_suffixes)\n",
    "except NameError:\n",
    "    dataset_names = parse_list(dataset_names)\n",
    "    evaluation_results_paths = parse_list(evaluation_results_paths)"
   ]
  },
  {
   "cell_type": "code",
   "execution_count": 8,
   "metadata": {},
   "outputs": [],
   "source": [
    "try:\n",
    "    # parse legacy parameters\n",
    "    evaluation_results_descriptors = [\n",
    "        {\n",
    "            'dataset_name': '%s%s' % (dataset_relative_path, dataset_suffix),\n",
    "            'tool': tool,\n",
    "            'evaluation_results_path': os.path.join(\n",
    "                data_path,\n",
    "                '%s%s/%s/evaluation-results/%s' % (\n",
    "                    dataset_relative_path,\n",
    "                    output_path_suffix,\n",
    "                    tool,\n",
    "                    dataset_suffix\n",
    "                )\n",
    "            )\n",
    "        }\n",
    "        for dataset_relative_path in dataset_relative_paths\n",
    "        for dataset_suffix in dataset_suffixes.get(dataset_relative_path, [''])\n",
    "        for tool in tool_names\n",
    "    ]\n",
    "except NameError:\n",
    "    if len(dataset_names) == 1:\n",
    "        dataset_names = dataset_names * len(evaluation_results_paths)\n",
    "    assert len(dataset_names) == len(evaluation_results_paths)\n",
    "    assert len(tool_names) == len(evaluation_results_paths)\n",
    "    evaluation_results_descriptors = [\n",
    "        {\n",
    "            'dataset_name': dataset_name,\n",
    "            'tool': tool,\n",
    "            'evaluation_results_path': evaluation_results_path\n",
    "        }\n",
    "        for dataset_name, tool, evaluation_results_path in zip(\n",
    "            dataset_names, tool_names, evaluation_results_paths\n",
    "        )\n",
    "    ]\n",
    "\n",
    "\n",
    "all_result_paths = [\n",
    "    (\n",
    "        '%s %s' % (evaluation_results_descriptor['dataset_name'], evaluation_results_descriptor['tool']),\n",
    "        evaluation_results_descriptor['evaluation_results_path']\n",
    "    )\n",
    "    for evaluation_results_descriptor in evaluation_results_descriptors\n",
    "]\n",
    "\n",
    "\n",
    "distinct_dataset_names = list(OrderedDict.fromkeys(\n",
    "    evaluation_results_descriptor['dataset_name']\n",
    "    for evaluation_results_descriptor in evaluation_results_descriptors\n",
    "))"
   ]
  },
  {
   "cell_type": "code",
   "execution_count": 9,
   "metadata": {},
   "outputs": [],
   "source": [
    "all_result_names = [name for name, _ in all_result_paths]"
   ]
  },
  {
   "cell_type": "code",
   "execution_count": 10,
   "metadata": {},
   "outputs": [],
   "source": [
    "def printmd(s):\n",
    "    try:\n",
    "        s = s.decode('unicode_escape')\n",
    "    except AttributeError:\n",
    "        pass\n",
    "    display(HTML(markdown(s)))"
   ]
  },
  {
   "cell_type": "code",
   "execution_count": 11,
   "metadata": {},
   "outputs": [],
   "source": [
    "def gs_file_time(file_url):\n",
    "    timestamp_match = re.search(r'\\s(\\d{4}-[^ ]+)\\s', subprocess.check_output('gsutil ls -l \"%s\"' % file_url, shell=True).decode('utf-8'))\n",
    "    return time.mktime(datetime.strptime(timestamp_match.group(1), \"%Y-%m-%dT%H:%M:%SZ\").timetuple())\n",
    "\n",
    "def gs_cp(file_url, target_file):\n",
    "    subprocess.check_output('gsutil cp -P \"%s\" \"%s\"' % (file_url, target_file), shell=True)\n",
    "\n",
    "\n",
    "def retrieve_local_copy_if_remote(file_url):\n",
    "    if file_url.startswith('gs://'):\n",
    "        file_time = gs_file_time(file_url)\n",
    "\n",
    "        local_filename = os.path.join('../.temp', '%s-%s' % (\n",
    "            sha1(file_url.encode('utf-8')).hexdigest(), os.path.basename(file_url)\n",
    "        ))\n",
    "        if not os.path.isfile(local_filename) or file_time > os.path.getmtime(local_filename):\n",
    "            gs_cp(file_url, local_filename)\n",
    "            # would be nice if gsutil did actually copy the creation time, let's do it here in a hacky way\n",
    "            os.utime(local_filename, (file_time, file_time))\n",
    "        return local_filename\n",
    "\n",
    "    return file_url\n",
    "\n",
    "def load_result_map(all_result_paths, filename):\n",
    "    df_map = {}\n",
    "    for name, result_path in all_result_paths:\n",
    "        full_filename = retrieve_local_copy_if_remote(os.path.join(result_path, filename))\n",
    "        printmd('**Timestamp:** %s (%s)' % (datetime.fromtimestamp(os.path.getmtime(full_filename)), name))\n",
    "        df = pd.read_csv(full_filename)\n",
    "        df['field_name_scoring_type'] = df['field_name'].str.cat(\n",
    "            df['scoring_type'], sep=':'\n",
    "        )\n",
    "        df_map[name] = df\n",
    "        if show_tables:\n",
    "            display(df_map[name].head(3))\n",
    "    return df_map"
   ]
  },
  {
   "cell_type": "code",
   "execution_count": 12,
   "metadata": {},
   "outputs": [
    {
     "data": {
      "text/html": [
       "<h2>Details Files</h2>"
      ],
      "text/plain": [
       "<IPython.core.display.HTML object>"
      ]
     },
     "metadata": {},
     "output_type": "display_data"
    },
    {
     "data": {
      "text/html": [
       "<p><strong>Timestamp:</strong> 2020-04-15 06:36:20.364264 (pmc-sample-1943-cc-by-subset grobid-tei)</p>"
      ],
      "text/plain": [
       "<IPython.core.display.HTML object>"
      ]
     },
     "metadata": {},
     "output_type": "display_data"
    },
    {
     "data": {
      "text/html": [
       "<p><strong>Timestamp:</strong> 2020-07-22 20:57:37.710068 (pmc-sample-1943-cc-by-subset cermine)</p>"
      ],
      "text/plain": [
       "<IPython.core.display.HTML object>"
      ]
     },
     "metadata": {},
     "output_type": "display_data"
    }
   ],
   "source": [
    "printmd('## Details Files')\n",
    "details_df_map = load_result_map(all_result_paths, details_filename)"
   ]
  },
  {
   "cell_type": "code",
   "execution_count": 13,
   "metadata": {},
   "outputs": [
    {
     "data": {
      "text/html": [
       "<h3>Evaluation File States</h3>"
      ],
      "text/plain": [
       "<IPython.core.display.HTML object>"
      ]
     },
     "metadata": {},
     "output_type": "display_data"
    },
    {
     "data": {
      "text/html": [
       "<p><strong>Evaluation methods:</strong> exact, levenshtein</p>"
      ],
      "text/plain": [
       "<IPython.core.display.HTML object>"
      ]
     },
     "metadata": {},
     "output_type": "display_data"
    },
    {
     "data": {
      "text/html": [
       "<p><strong>Field names:</strong> abstract, affiliation_institution, affiliation_strings, affiliation_text, author_full_names, author_given_names, author_surnames, figure_captions, figure_label_captions, figure_labels, first_author_full_name, first_author_given_name, first_author_surname, first_reference_author_full_names, first_reference_author_given_names, first_reference_author_surnames, first_reference_fields, first_reference_fpage, first_reference_lpage, first_reference_publication_type, first_reference_source, first_reference_text, first_reference_title, first_reference_volume, first_reference_year, keywords, reference_author_full_names, reference_author_given_names, reference_author_surnames, reference_fields, reference_fpage, reference_lpage, reference_publication_type, reference_source, reference_text, reference_title, reference_volume, reference_year, section_titles, table_captions, table_label_captions, table_labels, table_strings, tables, title</p>"
      ],
      "text/plain": [
       "<IPython.core.display.HTML object>"
      ]
     },
     "metadata": {},
     "output_type": "display_data"
    }
   ],
   "source": [
    "printmd('### Evaluation File States')\n",
    "printmd('**Evaluation methods:** %s' % ', '.join(sorted(set(\n",
    "    details_df_map[all_result_names[0]]['evaluation_method']\n",
    "))))\n",
    "printmd('**Field names:** %s' % ', '.join(sorted(set(\n",
    "    details_df_map[all_result_names[0]]['field_name'].dropna()\n",
    "))))"
   ]
  },
  {
   "cell_type": "code",
   "execution_count": 14,
   "metadata": {},
   "outputs": [],
   "source": [
    "def short_name(full_name):\n",
    "    return full_name.split(' ')[-1]"
   ]
  },
  {
   "cell_type": "code",
   "execution_count": 15,
   "metadata": {},
   "outputs": [],
   "source": [
    "def get_title_map(df):\n",
    "    return df[\n",
    "        (df['field_name'] == 'title') &\n",
    "        (df['evaluation_method'] == 'exact')\n",
    "    ][['target_file', 'expected']].groupby('target_file').first()['expected'].to_dict()\n",
    "\n",
    "title_map = get_title_map(details_df_map[all_result_names[0]])"
   ]
  },
  {
   "cell_type": "code",
   "execution_count": 16,
   "metadata": {},
   "outputs": [],
   "source": [
    "def to_sorted_field_name_scoring_types(\n",
    "        field_name_scoring_types: List[str],\n",
    "        field_names: List[str]) -> List[str]:\n",
    "    available_field_name_scoring_types_map = {}\n",
    "    for field_name_scoring_type in sorted(set(field_name_scoring_types)):\n",
    "        field_name = field_name_scoring_type.split(':')[0]\n",
    "        available_field_name_scoring_types_map.setdefault(field_name, []).append(\n",
    "            field_name_scoring_type\n",
    "        )\n",
    "    return [\n",
    "        field_name_scoring_type\n",
    "        for field_name in field_names\n",
    "        for field_name_scoring_type in available_field_name_scoring_types_map.get(\n",
    "            field_name,\n",
    "            [field_name]\n",
    "        )\n",
    "    ]\n",
    "\n",
    "\n",
    "field_name_scoring_types = to_sorted_field_name_scoring_types(\n",
    "    pd.concat([\n",
    "        df['field_name_scoring_type']\n",
    "        for df in details_df_map.values()\n",
    "    ]),\n",
    "    field_names\n",
    ")\n",
    "# field_name_scoring_types"
   ]
  },
  {
   "cell_type": "code",
   "execution_count": 17,
   "metadata": {
    "scrolled": false
   },
   "outputs": [
    {
     "data": {
      "text/html": [
       "<h1>Comparing results between tools</h1>"
      ],
      "text/plain": [
       "<IPython.core.display.HTML object>"
      ]
     },
     "metadata": {},
     "output_type": "display_data"
    },
    {
     "data": {
      "text/html": [
       "<hr/>"
      ],
      "text/plain": [
       "<IPython.core.display.HTML object>"
      ]
     },
     "metadata": {},
     "output_type": "display_data"
    },
    {
     "data": {
      "text/html": [
       "<h1>Field: title:string</h1>"
      ],
      "text/plain": [
       "<IPython.core.display.HTML object>"
      ]
     },
     "metadata": {},
     "output_type": "display_data"
    },
    {
     "data": {
      "text/html": [
       "<h2>Dataset: pmc-sample-1943-cc-by-subset (title:string levenshtein)</h2>"
      ],
      "text/plain": [
       "<IPython.core.display.HTML object>"
      ]
     },
     "metadata": {},
     "output_type": "display_data"
    },
    {
     "data": {
      "text/html": [
       "<details><summary>Comparison: grobid-tei vs cermine</summary><p><strong>E</strong>: expected, <strong>A</strong>: pmc-sample-1943-cc-by-subset grobid-tei, <strong>B</strong>: pmc-sample-1943-cc-by-subset cermine (title:string levenshtein)</p>\n",
       "<h4>grobid-tei [0 : 1] cermine (3)</h4>\n",
       "<p>There are 3 samples where grobid-tei got it wrong, but cermine got it right.</p>\n",
       "<blockquote>\n",
       "<p><code>d-67-00463.nxml</code> \"Pi sampling: a methodical and flexible approach to initial macromolecular crystallization screening\"<br/><strong>E</strong>: Pi sampling: a methodical and flexible approach to initial macromolecular crystallization screening<br/><strong>A</strong>: Biological Crystallography Pi sampling: a methodical and flexible approach to initial macromolecular crystallization screening</p>\n",
       "<p><code>e-67-o1363.nxml</code> \"3-Allyl-1-{[3-(4-nitro­phen­yl)-4,5-dihydro-1,3-oxazol-5-yl]meth­yl}-1H-anthra[1,2-d]imidazole-2,6,11(3H)-trione\"<br/><strong>E</strong>: 3-Allyl-1-{[3-(4-nitro­phen­yl)-4,5-dihydro-1,3-oxazol-5-yl]meth­yl}-1H-anthra[1,2-d]imidazole-2,6,11(3H)-trione<br/><strong>A</strong>: APEX2, SAINT-Plus and SADABS</p>\n",
       "<p><code>f-67-00344.nxml</code> \"Refolding, crystallization and preliminary X-ray crystallographic study of the whole extracellular regions of nectins\"<br/><strong>E</strong>: Refolding, crystallization and preliminary X-ray crystallographic study of the whole extracellular regions of nectins<br/><strong>A</strong>: Structural Biology and Crystallization Communications Refolding, crystallization and preliminary X-ray crystallographic study of the whole extracellular regions of nectins</p>\n",
       "</blockquote>\n",
       "<h4>grobid-tei [1 : 0] cermine (0)</h4>\n",
       "<p>There are 0 samples where grobid-tei got it right, but cermine got it wrong.</p>\n",
       "<h4>grobid-tei [0 : 0] cermine (0)</h4>\n",
       "<p>There are 0 samples where both grobid-tei and cermine got it wrong.</p></details>"
      ],
      "text/plain": [
       "<IPython.core.display.HTML object>"
      ]
     },
     "metadata": {},
     "output_type": "display_data"
    },
    {
     "data": {
      "text/html": [
       "<h2>Dataset: pmc-sample-1943-cc-by-subset (title:string exact)</h2>"
      ],
      "text/plain": [
       "<IPython.core.display.HTML object>"
      ]
     },
     "metadata": {},
     "output_type": "display_data"
    },
    {
     "data": {
      "text/html": [
       "<details><summary>Comparison: grobid-tei vs cermine</summary><p><strong>E</strong>: expected, <strong>A</strong>: pmc-sample-1943-cc-by-subset grobid-tei, <strong>B</strong>: pmc-sample-1943-cc-by-subset cermine (title:string exact)</p>\n",
       "<h4>grobid-tei [0 : 1] cermine (1)</h4>\n",
       "<p>There are 1 samples where grobid-tei got it wrong, but cermine got it right.</p>\n",
       "<blockquote>\n",
       "<p><code>f-67-00344.nxml</code> \"Refolding, crystallization and preliminary X-ray crystallographic study of the whole extracellular regions of nectins\"<br/><strong>E</strong>: Refolding, crystallization and preliminary X-ray crystallographic study of the whole extracellular regions of nectins<br/><strong>A</strong>: Structural Biology and Crystallization Communications Refolding, crystallization and preliminary X-ray crystallographic study of the whole extracellular regions of nectins</p>\n",
       "</blockquote>\n",
       "<h4>grobid-tei [1 : 0] cermine (0)</h4>\n",
       "<p>There are 0 samples where grobid-tei got it right, but cermine got it wrong.</p>\n",
       "<h4>grobid-tei [0 : 0] cermine (3)</h4>\n",
       "<p>There are 3 samples where both grobid-tei and cermine got it wrong.</p>\n",
       "<blockquote>\n",
       "<p><code>d-67-00463.nxml</code> \"Pi sampling: a methodical and flexible approach to initial macromolecular crystallization screening\"<br/><strong>E</strong>: Pi sampling: a methodical and flexible approach to initial macromolecular crystallization screening<br/><strong>A</strong>: Biological Crystallography Pi sampling: a methodical and flexible approach to initial macromolecular crystallization screening<br/><strong>B</strong>: Pi sampling: a methodical and flexible approach to initial macromolecular crystallization screening research papers</p>\n",
       "<p><code>e-67-o1363.nxml</code> \"3-Allyl-1-{[3-(4-nitro­phen­yl)-4,5-dihydro-1,3-oxazol-5-yl]meth­yl}-1H-anthra[1,2-d]imidazole-2,6,11(3H)-trione\"<br/><strong>E</strong>: 3-Allyl-1-{[3-(4-nitro­phen­yl)-4,5-dihydro-1,3-oxazol-5-yl]meth­yl}-1H-anthra[1,2-d]imidazole-2,6,11(3H)-trione<br/><strong>A</strong>: APEX2, SAINT-Plus and SADABS<br/><strong>B</strong>: 3-Allyl-1-{[3-(4-nitrophenyl)-4,5- dihydro-1,3-oxazol-5-yl]methyl}-1H- anthra[1,2-d]imidazole-2,6,11(3H)- trione</p>\n",
       "<p><code>ORT-1745-3674-81-405.nxml</code> \"Resection arthroplasty for luxation of the manubrio-sternal joint in rheumatoid arthritis—a case report\"<br/><strong>E</strong>: Resection arthroplasty for luxation of the manubrio-sternal joint in rheumatoid arthritis—a case report<br/><strong>A</strong>: Resection arthroplasty for luxation of the manubrio-sternal joint in rheumatoid arthritis-a case report<br/><strong>B</strong>: Resection arthroplasty for luxation of the manubrio-sternal joint in rheumatoid arthritis-a case report</p>\n",
       "</blockquote></details>"
      ],
      "text/plain": [
       "<IPython.core.display.HTML object>"
      ]
     },
     "metadata": {},
     "output_type": "display_data"
    },
    {
     "data": {
      "text/html": [
       "<hr/>"
      ],
      "text/plain": [
       "<IPython.core.display.HTML object>"
      ]
     },
     "metadata": {},
     "output_type": "display_data"
    },
    {
     "data": {
      "text/html": [
       "<h1>Field: first_author_full_name:string</h1>"
      ],
      "text/plain": [
       "<IPython.core.display.HTML object>"
      ]
     },
     "metadata": {},
     "output_type": "display_data"
    },
    {
     "data": {
      "text/html": [
       "<h2>Dataset: pmc-sample-1943-cc-by-subset (first_author_full_name:string levenshtein)</h2>"
      ],
      "text/plain": [
       "<IPython.core.display.HTML object>"
      ]
     },
     "metadata": {},
     "output_type": "display_data"
    },
    {
     "data": {
      "text/html": [
       "<details><summary>Comparison: grobid-tei vs cermine</summary><p><strong>E</strong>: expected, <strong>A</strong>: pmc-sample-1943-cc-by-subset grobid-tei, <strong>B</strong>: pmc-sample-1943-cc-by-subset cermine (first_author_full_name:string levenshtein)</p>\n",
       "<h4>grobid-tei [0 : 1] cermine (2)</h4>\n",
       "<p>There are 2 samples where grobid-tei got it wrong, but cermine got it right.</p>\n",
       "<blockquote>\n",
       "<p><code>aas0055-0039.nxml</code> \"Phosphate-containing dialysis solution prevents hypophosphatemia during continuous renal replacement therapy\"<br/><strong>E</strong>: M BROMAN<br/><strong>A</strong>: M Broman</p>\n",
       "<p><code>e-67-o1363.nxml</code> \"3-Allyl-1-{[3-(4-nitro­phen­yl)-4,5-dihydro-1,3-oxazol-5-yl]meth­yl}-1H-anthra[1,2-d]imidazole-2,6,11(3H)-trione\"<br/><strong>E</strong>: Zahra Afrakssou<br/><strong>A</strong>: Z References Afrakssou</p>\n",
       "</blockquote>\n",
       "<h4>grobid-tei [1 : 0] cermine (3)</h4>\n",
       "<p>There are 3 samples where grobid-tei got it right, but cermine got it wrong.</p>\n",
       "<blockquote>\n",
       "<p><code>f-67-00344.nxml</code> \"Refolding, crystallization and preliminary X-ray crystallographic study of the whole extracellular regions of nectins\"<br/><strong>E</strong>: Hirotaka Narita<br/><strong>B</strong>: Laboratory of Supramolecular Crystallography</p>\n",
       "<p><code>soto131-469.nxml</code> \"Visualization and assessment of saccular duct and endolymphatic sinus\"<br/><strong>E</strong>: Hideo Yamane<br/><strong>B</strong>: HIDEO YAMANE</p>\n",
       "<p><code>apa0100-0653.nxml</code> \"Placental programming of blood pressure in Indian children\"<br/><strong>E</strong>: Nicola R Winder<br/><strong>B</strong>: Nicola R Winder (nw@mrc.soton.ac.uk)</p>\n",
       "</blockquote>\n",
       "<h4>grobid-tei [0 : 0] cermine (2)</h4>\n",
       "<p>There are 2 samples where both grobid-tei and cermine got it wrong.</p>\n",
       "<blockquote>\n",
       "<p><code>sobs89-975.nxml</code> \"Camera trocar lifting in office gasless laparoscopic sterilization under local anesthesia\"<br/><strong>E</strong>: Bo S. Bergström<br/><strong>A</strong>: Acta Obstetricia<br/><strong>B</strong>: BO S. BERGSTRÖM</p>\n",
       "<p><code>sonc50-621.nxml</code> \"Management of cutaneous metastases using electrochemotherapy\"<br/><strong>E</strong>: Louise Wichmann Matthiessen<br/><strong>A</strong>: Julie Gehl<br/><strong>B</strong>: LOUISE WICHMANN MATTHIESSEN</p>\n",
       "</blockquote></details>"
      ],
      "text/plain": [
       "<IPython.core.display.HTML object>"
      ]
     },
     "metadata": {},
     "output_type": "display_data"
    },
    {
     "data": {
      "text/html": [
       "<h2>Dataset: pmc-sample-1943-cc-by-subset (first_author_full_name:string exact)</h2>"
      ],
      "text/plain": [
       "<IPython.core.display.HTML object>"
      ]
     },
     "metadata": {},
     "output_type": "display_data"
    },
    {
     "data": {
      "text/html": [
       "<details><summary>Comparison: grobid-tei vs cermine</summary><p><strong>E</strong>: expected, <strong>A</strong>: pmc-sample-1943-cc-by-subset grobid-tei, <strong>B</strong>: pmc-sample-1943-cc-by-subset cermine (first_author_full_name:string exact)</p>\n",
       "<h4>grobid-tei [0 : 1] cermine (1)</h4>\n",
       "<p>There are 1 samples where grobid-tei got it wrong, but cermine got it right.</p>\n",
       "<blockquote>\n",
       "<p><code>e-67-o1363.nxml</code> \"3-Allyl-1-{[3-(4-nitro­phen­yl)-4,5-dihydro-1,3-oxazol-5-yl]meth­yl}-1H-anthra[1,2-d]imidazole-2,6,11(3H)-trione\"<br/><strong>E</strong>: Zahra Afrakssou<br/><strong>A</strong>: Z References Afrakssou</p>\n",
       "</blockquote>\n",
       "<h4>grobid-tei [1 : 0] cermine (3)</h4>\n",
       "<p>There are 3 samples where grobid-tei got it right, but cermine got it wrong.</p>\n",
       "<blockquote>\n",
       "<p><code>f-67-00344.nxml</code> \"Refolding, crystallization and preliminary X-ray crystallographic study of the whole extracellular regions of nectins\"<br/><strong>E</strong>: Hirotaka Narita<br/><strong>B</strong>: Laboratory of Supramolecular Crystallography</p>\n",
       "<p><code>soto131-469.nxml</code> \"Visualization and assessment of saccular duct and endolymphatic sinus\"<br/><strong>E</strong>: Hideo Yamane<br/><strong>B</strong>: HIDEO YAMANE</p>\n",
       "<p><code>apa0100-0653.nxml</code> \"Placental programming of blood pressure in Indian children\"<br/><strong>E</strong>: Nicola R Winder<br/><strong>B</strong>: Nicola R Winder (nw@mrc.soton.ac.uk)</p>\n",
       "</blockquote>\n",
       "<h4>grobid-tei [0 : 0] cermine (3)</h4>\n",
       "<p>There are 3 samples where both grobid-tei and cermine got it wrong.</p>\n",
       "<blockquote>\n",
       "<p><code>aas0055-0039.nxml</code> \"Phosphate-containing dialysis solution prevents hypophosphatemia during continuous renal replacement therapy\"<br/><strong>E</strong>: M BROMAN<br/><strong>A</strong>: M Broman<br/><strong>B</strong>: M. BROMAN</p>\n",
       "<p><code>sobs89-975.nxml</code> \"Camera trocar lifting in office gasless laparoscopic sterilization under local anesthesia\"<br/><strong>E</strong>: Bo S. Bergström<br/><strong>A</strong>: Acta Obstetricia<br/><strong>B</strong>: BO S. BERGSTRÖM</p>\n",
       "<p><code>sonc50-621.nxml</code> \"Management of cutaneous metastases using electrochemotherapy\"<br/><strong>E</strong>: Louise Wichmann Matthiessen<br/><strong>A</strong>: Julie Gehl<br/><strong>B</strong>: LOUISE WICHMANN MATTHIESSEN</p>\n",
       "</blockquote></details>"
      ],
      "text/plain": [
       "<IPython.core.display.HTML object>"
      ]
     },
     "metadata": {},
     "output_type": "display_data"
    },
    {
     "data": {
      "text/html": [
       "<hr/>"
      ],
      "text/plain": [
       "<IPython.core.display.HTML object>"
      ]
     },
     "metadata": {},
     "output_type": "display_data"
    },
    {
     "data": {
      "text/html": [
       "<h1>Field: author_full_names:partial_set</h1>"
      ],
      "text/plain": [
       "<IPython.core.display.HTML object>"
      ]
     },
     "metadata": {},
     "output_type": "display_data"
    },
    {
     "data": {
      "text/html": [
       "<h2>Dataset: pmc-sample-1943-cc-by-subset (author_full_names:partial_set levenshtein)</h2>"
      ],
      "text/plain": [
       "<IPython.core.display.HTML object>"
      ]
     },
     "metadata": {},
     "output_type": "display_data"
    },
    {
     "data": {
      "text/html": [
       "<details><summary>Comparison: grobid-tei vs cermine</summary><p><strong>E</strong>: expected, <strong>A</strong>: pmc-sample-1943-cc-by-subset grobid-tei, <strong>B</strong>: pmc-sample-1943-cc-by-subset cermine (author_full_names:partial_set levenshtein)</p>\n",
       "<h4>grobid-tei [0 : 1] cermine (10)</h4>\n",
       "<p>There are 10 samples where grobid-tei got it wrong, but cermine got it right.</p>\n",
       "<blockquote>\n",
       "<p><code>aas0055-0039.nxml</code> \"Phosphate-containing dialysis solution prevents hypophosphatemia during continuous renal replacement therapy\"<br/><strong>E</strong>: A WIESLANDER<br/><strong>A</strong>: A Wieslander</p>\n",
       "<p><code>aas0055-0039.nxml</code> \"Phosphate-containing dialysis solution prevents hypophosphatemia during continuous renal replacement therapy\"<br/><strong>E</strong>: G GODALY<br/><strong>A</strong>: G Godaly</p>\n",
       "<p><code>aas0055-0039.nxml</code> \"Phosphate-containing dialysis solution prevents hypophosphatemia during continuous renal replacement therapy\"<br/><strong>E</strong>: H FRIBERG<br/><strong>A</strong>: H Friberg</p>\n",
       "</blockquote>\n",
       "<p>7 more</p>\n",
       "<h4>grobid-tei [1 : 0] cermine (21)</h4>\n",
       "<p>There are 21 samples where grobid-tei got it right, but cermine got it wrong.</p>\n",
       "<blockquote>\n",
       "<p><code>f-67-00344.nxml</code> \"Refolding, crystallization and preliminary X-ray crystallographic study of the whole extracellular regions of nectins\"<br/><strong>E</strong>: Atsushi Nakagawa<br/><strong>B</strong>: Laboratory of Supramolecular Crystallography</p>\n",
       "<p><code>f-67-00344.nxml</code> \"Refolding, crystallization and preliminary X-ray crystallographic study of the whole extracellular regions of nectins\"<br/><strong>E</strong>: Hirotaka Narita<br/><strong>B</strong>: nan</p>\n",
       "<p><code>f-67-00344.nxml</code> \"Refolding, crystallization and preliminary X-ray crystallographic study of the whole extracellular regions of nectins\"<br/><strong>E</strong>: Mamoru Suzuki<br/><strong>B</strong>: nan</p>\n",
       "</blockquote>\n",
       "<p>18 more</p>\n",
       "<h4>grobid-tei [0 : 0] cermine (3)</h4>\n",
       "<p>There are 3 samples where both grobid-tei and cermine got it wrong.</p>\n",
       "<blockquote>\n",
       "<p><code>e-67-o1363.nxml</code> \"3-Allyl-1-{[3-(4-nitro­phen­yl)-4,5-dihydro-1,3-oxazol-5-yl]meth­yl}-1H-anthra[1,2-d]imidazole-2,6,11(3H)-trione\"<br/><strong>E</strong>: Frédéric Capet<br/><strong>A</strong>: T L Gage<br/><strong>B</strong>: Fre´ de´ ric Capet</p>\n",
       "<p><code>sobs89-975.nxml</code> \"Camera trocar lifting in office gasless laparoscopic sterilization under local anesthesia\"<br/><strong>E</strong>: Bo S. Bergström<br/><strong>A</strong>: Acta Obstetricia<br/><strong>B</strong>: BO S. BERGSTRÖM</p>\n",
       "<p><code>sonc50-621.nxml</code> \"Management of cutaneous metastases using electrochemotherapy\"<br/><strong>E</strong>: David Christopher George Sainsbury<br/><strong>A</strong>: David Christopher<br/><strong>B</strong>: DAVID CHRISTOPHER GEORGE SAINSBURY</p>\n",
       "</blockquote></details>"
      ],
      "text/plain": [
       "<IPython.core.display.HTML object>"
      ]
     },
     "metadata": {},
     "output_type": "display_data"
    },
    {
     "data": {
      "text/html": [
       "<h2>Dataset: pmc-sample-1943-cc-by-subset (author_full_names:partial_set exact)</h2>"
      ],
      "text/plain": [
       "<IPython.core.display.HTML object>"
      ]
     },
     "metadata": {},
     "output_type": "display_data"
    },
    {
     "data": {
      "text/html": [
       "<details><summary>Comparison: grobid-tei vs cermine</summary><p><strong>E</strong>: expected, <strong>A</strong>: pmc-sample-1943-cc-by-subset grobid-tei, <strong>B</strong>: pmc-sample-1943-cc-by-subset cermine (author_full_names:partial_set exact)</p>\n",
       "<h4>grobid-tei [0 : 1] cermine (10)</h4>\n",
       "<p>There are 10 samples where grobid-tei got it wrong, but cermine got it right.</p>\n",
       "<blockquote>\n",
       "<p><code>d-67-00463.nxml</code> \"Pi sampling: a methodical and flexible approach to initial macromolecular crystallization screening\"<br/><strong>E</strong>: Colin M. Palmer<br/><strong>A</strong>: Colin M Palmer</p>\n",
       "<p><code>e-67-o1363.nxml</code> \"3-Allyl-1-{[3-(4-nitro­phen­yl)-4,5-dihydro-1,3-oxazol-5-yl]meth­yl}-1H-anthra[1,2-d]imidazole-2,6,11(3H)-trione\"<br/><strong>E</strong>: Amal Haoudi<br/><strong>A</strong>: D L Barnard</p>\n",
       "<p><code>e-67-o1363.nxml</code> \"3-Allyl-1-{[3-(4-nitro­phen­yl)-4,5-dihydro-1,3-oxazol-5-yl]meth­yl}-1H-anthra[1,2-d]imidazole-2,6,11(3H)-trione\"<br/><strong>E</strong>: Christian Rolando<br/><strong>A</strong>: D W Fairbairn</p>\n",
       "</blockquote>\n",
       "<p>7 more</p>\n",
       "<h4>grobid-tei [1 : 0] cermine (21)</h4>\n",
       "<p>There are 21 samples where grobid-tei got it right, but cermine got it wrong.</p>\n",
       "<blockquote>\n",
       "<p><code>f-67-00344.nxml</code> \"Refolding, crystallization and preliminary X-ray crystallographic study of the whole extracellular regions of nectins\"<br/><strong>E</strong>: Atsushi Nakagawa<br/><strong>B</strong>: Laboratory of Supramolecular Crystallography</p>\n",
       "<p><code>f-67-00344.nxml</code> \"Refolding, crystallization and preliminary X-ray crystallographic study of the whole extracellular regions of nectins\"<br/><strong>E</strong>: Hirotaka Narita<br/><strong>B</strong>: nan</p>\n",
       "<p><code>f-67-00344.nxml</code> \"Refolding, crystallization and preliminary X-ray crystallographic study of the whole extracellular regions of nectins\"<br/><strong>E</strong>: Mamoru Suzuki<br/><strong>B</strong>: nan</p>\n",
       "</blockquote>\n",
       "<p>18 more</p>\n",
       "<h4>grobid-tei [0 : 0] cermine (8)</h4>\n",
       "<p>There are 8 samples where both grobid-tei and cermine got it wrong.</p>\n",
       "<blockquote>\n",
       "<p><code>aas0055-0039.nxml</code> \"Phosphate-containing dialysis solution prevents hypophosphatemia during continuous renal replacement therapy\"<br/><strong>E</strong>: A WIESLANDER<br/><strong>A</strong>: A Wieslander<br/><strong>B</strong>: A. WIESLANDER</p>\n",
       "<p><code>aas0055-0039.nxml</code> \"Phosphate-containing dialysis solution prevents hypophosphatemia during continuous renal replacement therapy\"<br/><strong>E</strong>: G GODALY<br/><strong>A</strong>: G Godaly<br/><strong>B</strong>: G. GODALY</p>\n",
       "<p><code>aas0055-0039.nxml</code> \"Phosphate-containing dialysis solution prevents hypophosphatemia during continuous renal replacement therapy\"<br/><strong>E</strong>: H FRIBERG<br/><strong>A</strong>: H Friberg<br/><strong>B</strong>: H. FRIBERG</p>\n",
       "</blockquote>\n",
       "<p>5 more</p></details>"
      ],
      "text/plain": [
       "<IPython.core.display.HTML object>"
      ]
     },
     "metadata": {},
     "output_type": "display_data"
    },
    {
     "data": {
      "text/html": [
       "<hr/>"
      ],
      "text/plain": [
       "<IPython.core.display.HTML object>"
      ]
     },
     "metadata": {},
     "output_type": "display_data"
    },
    {
     "data": {
      "text/html": [
       "<h1>Field: abstract:string</h1>"
      ],
      "text/plain": [
       "<IPython.core.display.HTML object>"
      ]
     },
     "metadata": {},
     "output_type": "display_data"
    },
    {
     "data": {
      "text/html": [
       "<h2>Dataset: pmc-sample-1943-cc-by-subset (abstract:string levenshtein)</h2>"
      ],
      "text/plain": [
       "<IPython.core.display.HTML object>"
      ]
     },
     "metadata": {},
     "output_type": "display_data"
    },
    {
     "data": {
      "text/html": [
       "<details><summary>Comparison: grobid-tei vs cermine</summary><p><strong>E</strong>: expected, <strong>A</strong>: pmc-sample-1943-cc-by-subset grobid-tei, <strong>B</strong>: pmc-sample-1943-cc-by-subset cermine (abstract:string levenshtein)</p>\n",
       "<h4>grobid-tei [0 : 1] cermine (0)</h4>\n",
       "<p>There are 0 samples where grobid-tei got it wrong, but cermine got it right.</p>\n",
       "<h4>grobid-tei [1 : 0] cermine (1)</h4>\n",
       "<p>There are 1 samples where grobid-tei got it right, but cermine got it wrong.</p>\n",
       "<blockquote>\n",
       "<p><code>e-67-o1363.nxml</code> \"3-Allyl-1-{[3-(4-nitro­phen­yl)-4,5-dihydro-1,3-oxazol-5-yl]meth­yl}-1H-anthra[1,2-d]imidazole-2,6,11(3H)-trione\"<br/><strong>E</strong>: The mol­ecular structure of the title compound, C28H20N4O6, consists of three fused six-membered rings (A,B,C) and one five-membered ring (D). The latter is linked to an isoxazole ring (E) via a methyl­ene unit. A 4-nitro-phenyl substituent (F) is attached to the isoxazole. The fused five and six-membered rings (C,D) are almost coplanar with an r.m.s. deviation of 0.0345 Å and make a dihedral angle of 9.40 (8)° with ring A. The isoxazole and 4-nitro-phenyl rings (E,F) are also almost coplanar with the imidazole and the fused adjacent ring (C,D), forming a dihedral angle of 11.4 (6)°. The crystal packing displays inter­molecular C—H⋯O hydrogen bonding. An intra­molecular C—H⋯O inter­action also occurs.<br/><strong>B</strong>: nan</p>\n",
       "</blockquote>\n",
       "<h4>grobid-tei [0 : 0] cermine (4)</h4>\n",
       "<p>There are 4 samples where both grobid-tei and cermine got it wrong.</p>\n",
       "<blockquote>\n",
       "<p><code>aas0055-0039.nxml</code> \"Phosphate-containing dialysis solution prevents hypophosphatemia during continuous renal replacement therapy\"<br/><strong>E</strong>: Background Hypophosphatemia occurs in up to 80% of the patients during continuous renal replacement therapy (CRRT). Phosphate supplementation is time-consuming and the phosphate level might be dangerously low before normophosphatemia is re-established. This study evaluated the possibility to prevent hypophosphatemia during CRRT treatment by using a new commercially available phosphate-containing dialysis fluid. Methods Forty-two heterogeneous intensive care unit patients, admitted between January 2007 and July 2008, undergoing hemodiafiltration, were treated with a new Gambro dialysis solution with 1.2 mM phosphate (Phoxilium) or with standard medical treatment (Hemosol B0). The patients were divided into three groups: group 1 (n=14) receiving standard medical treatment and intravenous phosphate supplementation as required, group 2 (n=14) receiving the phosphate solution as dialysate solution and Hemosol B0 as replacement solution and group 3 (n=14) receiving the phosphate-containing solution as both dialysate and replacement solutions. Results Standard medical treatment resulted in hypophosphatemia in 11 of 14 of the patients (group 1) compared with five of 14 in the patients receiving phosphate solution as the dialysate solution and Hemosol B0 as the replacement solution (group 2). Patients treated with the phosphate-containing dialysis solution (group 3) experienced stable serum phosphate levels throughout the study. Potassium, ionized calcium, magnesium, pH, pCO2 and bicarbonate remained unchanged throughout the study. Conclusion The new phosphate-containing replacement and dialysis solution reduces the variability of serum phosphate levels during CRRT and eliminates the incidence of hypophosphatemia.<br/><strong>A</strong>: nan<br/><strong>B</strong>: Background: Hypophosphatemia occurs in up to 80% of the patients during continuous renal replacement therapy (CRRT). Phosphate supplementation is time-consuming and the phosphate level might be dangerously low before normophosphatemia is re-established. This study evaluated the possibility to prevent hypophosphatemia during CRRT treatment by using a new commercially available phosphate-containing dialysis fluid. Methods: Forty-two heterogeneous intensive care unit patients, admitted between January 2007 and July 2008, undergoing hemodiafiltration, were treated with a new Gambro dialysis solution with 1.2 mM phosphate (Phoxilium) or with standard medical treatment (Hemosol B0). The patients were divided into three groups: group 1 (n 5 14) receiving standard medical treatment and intravenous phosphate supplementation as required, group 2 (n 5 14) receiving the phosphate solution as dialysate solution and Hemosol B0 as replacement solution and group 3 (n 5 14) receiving the phosphate-containing solution as both dialysate and replacement solutions.</p>\n",
       "<p><code>d-67-00463.nxml</code> \"Pi sampling: a methodical and flexible approach to initial macromolecular crystallization screening\"<br/><strong>E</strong>: Pi sampling, derived from the incomplete factorial approach, is an effort to maximize the diversity of macromolecular crystallization conditions and to facilitate the preparation of 96-condition initial screens.The Pi sampling method is derived from the incomplete factorial approach to macromolecular crystallization screen design. The resulting ‘Pi screens’ have a modular distribution of a given set of up to 36 stock solutions. Maximally diverse conditions can be produced by taking into account the properties of the chemicals used in the formulation and the concentrations of the corresponding solutions. The Pi sampling method has been implemented in a web-based application that generates screen formulations and recipes. It is particularly adapted to screens consisting of 96 different conditions. The flexibility and efficiency of Pi sampling is demonstrated by the crystallization of soluble proteins and of an integral membrane-protein sample.<br/><strong>A</strong>: The Pi sampling method is derived from the incomplete factorial approach to macromolecular crystallization screen design. The resulting 'Pi screens' have a modular distribution of a given set of up to 36 stock solutions. Maximally diverse conditions can be produced by taking into account the properties of the chemicals used in the formulation and the concentrations of the corresponding solutions. The Pi sampling method has been implemented in a web-based application that generates screen formulations and recipes. It is particularly adapted to screens consisting of 96 different conditions. The flexibility and efficiency of Pi sampling is demonstrated by the crystallization of soluble proteins and of an integral membrane-protein sample.<br/><strong>B</strong>: The Pi sampling method is derived from the incomplete factorial approach to macromolecular crystallization screen design. The resulting 'Pi screens' have a modular distribution of a given set of up to 36 stock solutions. Maximally diverse conditions can be produced by taking into account the properties of the chemicals used in the formulation and the concentrations of the corresponding solutions. The Pi sampling method has been implemented in a web-based application that generates screen formulations and recipes. It is particularly adapted to screens consisting of 96 different conditions. The flexibility and efficiency of Pi sampling is demonstrated by the crystallization of soluble proteins and of an integral membrane-protein sample.</p>\n",
       "<p><code>f-67-00344.nxml</code> \"Refolding, crystallization and preliminary X-ray crystallographic study of the whole extracellular regions of nectins\"<br/><strong>E</strong>: The whole extracellular regions of nectin-1 (nectin-1-EC) and nectin-2 (nectin-2-EC) were expressed in E. coli as inclusion bodies, solubilized in 8 M urea and then refolded by rapid dilution. Refolded nectin-1-EC and nectin-2-EC were subsequently purified using three chromatographic steps and crystallized by the hanging-drop vapour-diffusion method.The nectin family of Ca2+-independent immunoglobulin-like cell–cell adhesion molecules contains four members. Nectins, which have three Ig-like domains in their extracellular region, form cell–cell adherens junctions cooperatively with cadherins. The whole extracellular regions of nectin-1 (nectin-1-EC) and nectin-­2 (nectin-2-EC) were expressed in Escherichia coli as inclusion bodies, solubilized in 8 M urea and then refolded by rapid dilution into refolding solution. The refolded proteins were subsequently purified by three chromatographic steps and crystallized using the hanging-drop vapour-diffusion method. The nectin-1-EC crystals belonged to space group P213 and the nectin-2-EC crystals belonged to space group P6122 or P6522.<br/><strong>A</strong>: The nectin family of Ca 2+ -independent immunoglobulin-like cell-cell adhesion molecules contains four members. Nectins, which have three Ig-like domains in their extracellular region, form cell-cell adherens junctions cooperatively with cadherins. The whole extracellular regions of nectin-1 (nectin-1-EC) and nectin-2 (nectin-2-EC) were expressed in Escherichia coli as inclusion bodies, solubilized in 8 M urea and then refolded by rapid dilution into refolding solution. The refolded proteins were subsequently purified by three chromatographic steps and crystallized using the hanging-drop vapour-diffusion method. The nectin-1-EC crystals belonged to space group P2 1 3 and the nectin-2-EC crystals belonged to space group P6 1 22 or P6 5 22. crystallization communications 346 Narita et al. Extracellular regions of nectins Acta Cryst. (2011). F67, 344-348 Figure 2 Crystals of the whole extracellular regions of nectins. (a) Nectin-1-EC crystal. (b) Nectin-2-EC crystal. The scale bars are 100 mm in length.<br/><strong>B</strong>: nan</p>\n",
       "</blockquote>\n",
       "<p>1 more</p></details>"
      ],
      "text/plain": [
       "<IPython.core.display.HTML object>"
      ]
     },
     "metadata": {},
     "output_type": "display_data"
    },
    {
     "data": {
      "text/html": [
       "<h2>Dataset: pmc-sample-1943-cc-by-subset (abstract:string exact)</h2>"
      ],
      "text/plain": [
       "<IPython.core.display.HTML object>"
      ]
     },
     "metadata": {},
     "output_type": "display_data"
    },
    {
     "data": {
      "text/html": [
       "<details><summary>Comparison: grobid-tei vs cermine</summary><p><strong>E</strong>: expected, <strong>A</strong>: pmc-sample-1943-cc-by-subset grobid-tei, <strong>B</strong>: pmc-sample-1943-cc-by-subset cermine (abstract:string exact)</p>\n",
       "<h4>grobid-tei [0 : 1] cermine (1)</h4>\n",
       "<p>There are 1 samples where grobid-tei got it wrong, but cermine got it right.</p>\n",
       "<blockquote>\n",
       "<p><code>soto131-469.nxml</code> \"Visualization and assessment of saccular duct and endolymphatic sinus\"<br/><strong>E</strong>: Conclusion: The saccular duct and endolymphatic sinus run in the bony groove, before reaching the orifice of the vestibular aqueduct. We first clinically visualized this sulciform groove using three-dimensional (3D) cone beam CT images. This strategy can be useful to assess the condition of the saccular duct and endolymphatic sinus concerning the longitudinal flow system of endolymph. Objective: To assess the saccular duct and endolymphatic sinus in the endolymphatic system in order to advance clinical studies on inner ear dysfunction. Methods: The sulciform groove of the saccular duct and endolymphatic sinus of human subjects was analyzed by cone beam CT and compared with that of a cadaver. Results: We could obtain reconstructed 3D CT images of the sulciform groove of the saccular duct and endolymphatic sinus using several CT window levels.<br/><strong>A</strong>: The saccular duct and endolymphatic sinus run in the bony groove, before reaching the orifice of the vestibular aqueduct. We first clinically visualized this sulciform groove using three-dimensional (3D) cone beam CT images. This strategy can be useful to assess the condition of the saccular duct and endolymphatic sinus concerning the longitudinal flow system of endolymph. Objective: To assess the saccular duct and endolymphatic sinus in the endolymphatic system in order to advance clinical studies on inner ear dysfunction. Methods: The sulciform groove of the saccular duct and endolymphatic sinus of human subjects was analyzed by cone beam CT and compared with that of a cadaver. Results: We could obtain reconstructed 3D CT images of the sulciform groove of the saccular duct and endolymphatic sinus using several CT window levels.</p>\n",
       "</blockquote>\n",
       "<h4>grobid-tei [1 : 0] cermine (0)</h4>\n",
       "<p>There are 0 samples where grobid-tei got it right, but cermine got it wrong.</p>\n",
       "<h4>grobid-tei [0 : 0] cermine (7)</h4>\n",
       "<p>There are 7 samples where both grobid-tei and cermine got it wrong.</p>\n",
       "<blockquote>\n",
       "<p><code>aas0055-0039.nxml</code> \"Phosphate-containing dialysis solution prevents hypophosphatemia during continuous renal replacement therapy\"<br/><strong>E</strong>: Background Hypophosphatemia occurs in up to 80% of the patients during continuous renal replacement therapy (CRRT). Phosphate supplementation is time-consuming and the phosphate level might be dangerously low before normophosphatemia is re-established. This study evaluated the possibility to prevent hypophosphatemia during CRRT treatment by using a new commercially available phosphate-containing dialysis fluid. Methods Forty-two heterogeneous intensive care unit patients, admitted between January 2007 and July 2008, undergoing hemodiafiltration, were treated with a new Gambro dialysis solution with 1.2 mM phosphate (Phoxilium) or with standard medical treatment (Hemosol B0). The patients were divided into three groups: group 1 (n=14) receiving standard medical treatment and intravenous phosphate supplementation as required, group 2 (n=14) receiving the phosphate solution as dialysate solution and Hemosol B0 as replacement solution and group 3 (n=14) receiving the phosphate-containing solution as both dialysate and replacement solutions. Results Standard medical treatment resulted in hypophosphatemia in 11 of 14 of the patients (group 1) compared with five of 14 in the patients receiving phosphate solution as the dialysate solution and Hemosol B0 as the replacement solution (group 2). Patients treated with the phosphate-containing dialysis solution (group 3) experienced stable serum phosphate levels throughout the study. Potassium, ionized calcium, magnesium, pH, pCO2 and bicarbonate remained unchanged throughout the study. Conclusion The new phosphate-containing replacement and dialysis solution reduces the variability of serum phosphate levels during CRRT and eliminates the incidence of hypophosphatemia.<br/><strong>A</strong>: nan<br/><strong>B</strong>: Background: Hypophosphatemia occurs in up to 80% of the patients during continuous renal replacement therapy (CRRT). Phosphate supplementation is time-consuming and the phosphate level might be dangerously low before normophosphatemia is re-established. This study evaluated the possibility to prevent hypophosphatemia during CRRT treatment by using a new commercially available phosphate-containing dialysis fluid. Methods: Forty-two heterogeneous intensive care unit patients, admitted between January 2007 and July 2008, undergoing hemodiafiltration, were treated with a new Gambro dialysis solution with 1.2 mM phosphate (Phoxilium) or with standard medical treatment (Hemosol B0). The patients were divided into three groups: group 1 (n 5 14) receiving standard medical treatment and intravenous phosphate supplementation as required, group 2 (n 5 14) receiving the phosphate solution as dialysate solution and Hemosol B0 as replacement solution and group 3 (n 5 14) receiving the phosphate-containing solution as both dialysate and replacement solutions.</p>\n",
       "<p><code>d-67-00463.nxml</code> \"Pi sampling: a methodical and flexible approach to initial macromolecular crystallization screening\"<br/><strong>E</strong>: Pi sampling, derived from the incomplete factorial approach, is an effort to maximize the diversity of macromolecular crystallization conditions and to facilitate the preparation of 96-condition initial screens.The Pi sampling method is derived from the incomplete factorial approach to macromolecular crystallization screen design. The resulting ‘Pi screens’ have a modular distribution of a given set of up to 36 stock solutions. Maximally diverse conditions can be produced by taking into account the properties of the chemicals used in the formulation and the concentrations of the corresponding solutions. The Pi sampling method has been implemented in a web-based application that generates screen formulations and recipes. It is particularly adapted to screens consisting of 96 different conditions. The flexibility and efficiency of Pi sampling is demonstrated by the crystallization of soluble proteins and of an integral membrane-protein sample.<br/><strong>A</strong>: The Pi sampling method is derived from the incomplete factorial approach to macromolecular crystallization screen design. The resulting 'Pi screens' have a modular distribution of a given set of up to 36 stock solutions. Maximally diverse conditions can be produced by taking into account the properties of the chemicals used in the formulation and the concentrations of the corresponding solutions. The Pi sampling method has been implemented in a web-based application that generates screen formulations and recipes. It is particularly adapted to screens consisting of 96 different conditions. The flexibility and efficiency of Pi sampling is demonstrated by the crystallization of soluble proteins and of an integral membrane-protein sample.<br/><strong>B</strong>: The Pi sampling method is derived from the incomplete factorial approach to macromolecular crystallization screen design. The resulting 'Pi screens' have a modular distribution of a given set of up to 36 stock solutions. Maximally diverse conditions can be produced by taking into account the properties of the chemicals used in the formulation and the concentrations of the corresponding solutions. The Pi sampling method has been implemented in a web-based application that generates screen formulations and recipes. It is particularly adapted to screens consisting of 96 different conditions. The flexibility and efficiency of Pi sampling is demonstrated by the crystallization of soluble proteins and of an integral membrane-protein sample.</p>\n",
       "<p><code>e-67-o1363.nxml</code> \"3-Allyl-1-{[3-(4-nitro­phen­yl)-4,5-dihydro-1,3-oxazol-5-yl]meth­yl}-1H-anthra[1,2-d]imidazole-2,6,11(3H)-trione\"<br/><strong>E</strong>: The mol­ecular structure of the title compound, C28H20N4O6, consists of three fused six-membered rings (A,B,C) and one five-membered ring (D). The latter is linked to an isoxazole ring (E) via a methyl­ene unit. A 4-nitro-phenyl substituent (F) is attached to the isoxazole. The fused five and six-membered rings (C,D) are almost coplanar with an r.m.s. deviation of 0.0345 Å and make a dihedral angle of 9.40 (8)° with ring A. The isoxazole and 4-nitro-phenyl rings (E,F) are also almost coplanar with the imidazole and the fused adjacent ring (C,D), forming a dihedral angle of 11.4 (6)°. The crystal packing displays inter­molecular C—H⋯O hydrogen bonding. An intra­molecular C—H⋯O inter­action also occurs.<br/><strong>A</strong>: Key indicators: single-crystal X-ray study; T = 296 K; mean (C-C) = 0.003 Å; R factor = 0.040; wR factor = 0.111; data-to-parameter ratio = 14.1. The molecular structure of the title compound, C 28 H 20 N 4 O 6 , consists of three fused six-membered rings (A,B,C) and one five-membered ring (D). The latter is linked to an isoxazole ring (E) via a methylene unit. A 4-nitro-phenyl substituent (F) is attached to the isoxazole. The fused five and six-membered rings (C,D) are almost coplanar with an r.m.s. deviation of 0.0345 Å and make a dihedral angle of 9.40 (8) with ring A. The isoxazole and 4-nitro-phenyl rings (E,F) are also almost coplanar with the imidazole and the fused adjacent ring (C,D), forming a dihedral angle of 11.4 (6) . The crystal packing displays intermolecular C-HÁ Á ÁO hydrogen bonding. An intramolecular C-HÁ Á ÁO interaction also occurs.<br/><strong>B</strong>: nan</p>\n",
       "</blockquote>\n",
       "<p>4 more</p></details>"
      ],
      "text/plain": [
       "<IPython.core.display.HTML object>"
      ]
     },
     "metadata": {},
     "output_type": "display_data"
    },
    {
     "data": {
      "text/html": [
       "<hr/>"
      ],
      "text/plain": [
       "<IPython.core.display.HTML object>"
      ]
     },
     "metadata": {},
     "output_type": "display_data"
    },
    {
     "data": {
      "text/html": [
       "<h1>Field: section_titles:partial_list</h1>"
      ],
      "text/plain": [
       "<IPython.core.display.HTML object>"
      ]
     },
     "metadata": {},
     "output_type": "display_data"
    },
    {
     "data": {
      "text/html": [
       "<h2>Dataset: pmc-sample-1943-cc-by-subset (section_titles:partial_list levenshtein)</h2>"
      ],
      "text/plain": [
       "<IPython.core.display.HTML object>"
      ]
     },
     "metadata": {},
     "output_type": "display_data"
    },
    {
     "data": {
      "text/html": [
       "<details><summary>Comparison: grobid-tei vs cermine</summary><p><strong>E</strong>: expected, <strong>A</strong>: pmc-sample-1943-cc-by-subset grobid-tei, <strong>B</strong>: pmc-sample-1943-cc-by-subset cermine (section_titles:partial_list levenshtein)</p>\n",
       "<h4>grobid-tei [0 : 1] cermine (11)</h4>\n",
       "<p>There are 11 samples where grobid-tei got it wrong, but cermine got it right.</p>\n",
       "<blockquote>\n",
       "<p><code>e-67-o1363.nxml</code> \"3-Allyl-1-{[3-(4-nitro­phen­yl)-4,5-dihydro-1,3-oxazol-5-yl]meth­yl}-1H-anthra[1,2-d]imidazole-2,6,11(3H)-trione\"<br/><strong>E</strong>: Crystal data<br/><strong>A</strong>: Special details</p>\n",
       "<p><code>e-67-o1363.nxml</code> \"3-Allyl-1-{[3-(4-nitro­phen­yl)-4,5-dihydro-1,3-oxazol-5-yl]meth­yl}-1H-anthra[1,2-d]imidazole-2,6,11(3H)-trione\"<br/><strong>E</strong>: Data collection<br/><strong>A</strong>: Fractional atomic coordinates and isotropic or equivalent isotropic displacement parameters (Å 2 )</p>\n",
       "<p><code>e-67-o1363.nxml</code> \"3-Allyl-1-{[3-(4-nitro­phen­yl)-4,5-dihydro-1,3-oxazol-5-yl]meth­yl}-1H-anthra[1,2-d]imidazole-2,6,11(3H)-trione\"<br/><strong>E</strong>: Refinement<br/><strong>A</strong>: nan</p>\n",
       "</blockquote>\n",
       "<p>8 more</p>\n",
       "<h4>grobid-tei [1 : 0] cermine (31)</h4>\n",
       "<p>There are 31 samples where grobid-tei got it right, but cermine got it wrong.</p>\n",
       "<blockquote>\n",
       "<p><code>aas0055-0039.nxml</code> \"Phosphate-containing dialysis solution prevents hypophosphatemia during continuous renal replacement therapy\"<br/><strong>E</strong>: Methods<br/><strong>B</strong>: -</p>\n",
       "<p><code>aas0055-0039.nxml</code> \"Phosphate-containing dialysis solution prevents hypophosphatemia during continuous renal replacement therapy\"<br/><strong>E</strong>: Fluid composition and study design<br/><strong>B</strong>: Methods</p>\n",
       "<p><code>aas0055-0039.nxml</code> \"Phosphate-containing dialysis solution prevents hypophosphatemia during continuous renal replacement therapy\"<br/><strong>E</strong>: Patients and CRRT treatments<br/><strong>B</strong>: Fluid composition and study design</p>\n",
       "</blockquote>\n",
       "<p>28 more</p>\n",
       "<h4>grobid-tei [0 : 0] cermine (38)</h4>\n",
       "<p>There are 38 samples where both grobid-tei and cermine got it wrong.</p>\n",
       "<blockquote>\n",
       "<p><code>d-67-00463.nxml</code> \"Pi sampling: a methodical and flexible approach to initial macromolecular crystallization screening\"<br/><strong>E</strong>: Methods<br/><strong>A</strong>: Figure 2<br/><strong>B</strong>: 2. Methods</p>\n",
       "<p><code>d-67-00463.nxml</code> \"Pi sampling: a methodical and flexible approach to initial macromolecular crystallization screening\"<br/><strong>E</strong>: Pi sampling<br/><strong>A</strong>: Methods<br/><strong>B</strong>: 2.1. Pi sampling</p>\n",
       "<p><code>d-67-00463.nxml</code> \"Pi sampling: a methodical and flexible approach to initial macromolecular crystallization screening\"<br/><strong>E</strong>: Pi sampling<br/><strong>A</strong>: Methods<br/><strong>B</strong>: 5. Conclusions</p>\n",
       "</blockquote>\n",
       "<p>35 more</p></details>"
      ],
      "text/plain": [
       "<IPython.core.display.HTML object>"
      ]
     },
     "metadata": {},
     "output_type": "display_data"
    },
    {
     "data": {
      "text/html": [
       "<h2>Dataset: pmc-sample-1943-cc-by-subset (section_titles:partial_list exact)</h2>"
      ],
      "text/plain": [
       "<IPython.core.display.HTML object>"
      ]
     },
     "metadata": {},
     "output_type": "display_data"
    },
    {
     "data": {
      "text/html": [
       "<details><summary>Comparison: grobid-tei vs cermine</summary><p><strong>E</strong>: expected, <strong>A</strong>: pmc-sample-1943-cc-by-subset grobid-tei, <strong>B</strong>: pmc-sample-1943-cc-by-subset cermine (section_titles:partial_list exact)</p>\n",
       "<h4>grobid-tei [0 : 1] cermine (11)</h4>\n",
       "<p>There are 11 samples where grobid-tei got it wrong, but cermine got it right.</p>\n",
       "<blockquote>\n",
       "<p><code>e-67-o1363.nxml</code> \"3-Allyl-1-{[3-(4-nitro­phen­yl)-4,5-dihydro-1,3-oxazol-5-yl]meth­yl}-1H-anthra[1,2-d]imidazole-2,6,11(3H)-trione\"<br/><strong>E</strong>: Crystal data<br/><strong>A</strong>: Special details</p>\n",
       "<p><code>e-67-o1363.nxml</code> \"3-Allyl-1-{[3-(4-nitro­phen­yl)-4,5-dihydro-1,3-oxazol-5-yl]meth­yl}-1H-anthra[1,2-d]imidazole-2,6,11(3H)-trione\"<br/><strong>E</strong>: Data collection<br/><strong>A</strong>: Fractional atomic coordinates and isotropic or equivalent isotropic displacement parameters (Å 2 )</p>\n",
       "<p><code>e-67-o1363.nxml</code> \"3-Allyl-1-{[3-(4-nitro­phen­yl)-4,5-dihydro-1,3-oxazol-5-yl]meth­yl}-1H-anthra[1,2-d]imidazole-2,6,11(3H)-trione\"<br/><strong>E</strong>: Refinement<br/><strong>A</strong>: nan</p>\n",
       "</blockquote>\n",
       "<p>8 more</p>\n",
       "<h4>grobid-tei [1 : 0] cermine (34)</h4>\n",
       "<p>There are 34 samples where grobid-tei got it right, but cermine got it wrong.</p>\n",
       "<blockquote>\n",
       "<p><code>aas0055-0039.nxml</code> \"Phosphate-containing dialysis solution prevents hypophosphatemia during continuous renal replacement therapy\"<br/><strong>E</strong>: Methods<br/><strong>B</strong>: -</p>\n",
       "<p><code>aas0055-0039.nxml</code> \"Phosphate-containing dialysis solution prevents hypophosphatemia during continuous renal replacement therapy\"<br/><strong>E</strong>: Fluid composition and study design<br/><strong>B</strong>: Methods</p>\n",
       "<p><code>aas0055-0039.nxml</code> \"Phosphate-containing dialysis solution prevents hypophosphatemia during continuous renal replacement therapy\"<br/><strong>E</strong>: Patients and CRRT treatments<br/><strong>B</strong>: Fluid composition and study design</p>\n",
       "</blockquote>\n",
       "<p>31 more</p>\n",
       "<h4>grobid-tei [0 : 0] cermine (38)</h4>\n",
       "<p>There are 38 samples where both grobid-tei and cermine got it wrong.</p>\n",
       "<blockquote>\n",
       "<p><code>d-67-00463.nxml</code> \"Pi sampling: a methodical and flexible approach to initial macromolecular crystallization screening\"<br/><strong>E</strong>: Methods<br/><strong>A</strong>: Figure 2<br/><strong>B</strong>: 2. Methods</p>\n",
       "<p><code>d-67-00463.nxml</code> \"Pi sampling: a methodical and flexible approach to initial macromolecular crystallization screening\"<br/><strong>E</strong>: Pi sampling<br/><strong>A</strong>: Methods<br/><strong>B</strong>: 2.1. Pi sampling</p>\n",
       "<p><code>d-67-00463.nxml</code> \"Pi sampling: a methodical and flexible approach to initial macromolecular crystallization screening\"<br/><strong>E</strong>: Pi sampling<br/><strong>A</strong>: Methods<br/><strong>B</strong>: 5. Conclusions</p>\n",
       "</blockquote>\n",
       "<p>35 more</p></details>"
      ],
      "text/plain": [
       "<IPython.core.display.HTML object>"
      ]
     },
     "metadata": {},
     "output_type": "display_data"
    },
    {
     "data": {
      "text/html": [
       "<hr/>"
      ],
      "text/plain": [
       "<IPython.core.display.HTML object>"
      ]
     },
     "metadata": {},
     "output_type": "display_data"
    },
    {
     "data": {
      "text/html": [
       "<h1>Field: section_titles:partial_set</h1>"
      ],
      "text/plain": [
       "<IPython.core.display.HTML object>"
      ]
     },
     "metadata": {},
     "output_type": "display_data"
    },
    {
     "data": {
      "text/html": [
       "<h2>Dataset: pmc-sample-1943-cc-by-subset (section_titles:partial_set levenshtein)</h2>"
      ],
      "text/plain": [
       "<IPython.core.display.HTML object>"
      ]
     },
     "metadata": {},
     "output_type": "display_data"
    },
    {
     "data": {
      "text/html": [
       "<details><summary>Comparison: grobid-tei vs cermine</summary><p><strong>E</strong>: expected, <strong>A</strong>: pmc-sample-1943-cc-by-subset grobid-tei, <strong>B</strong>: pmc-sample-1943-cc-by-subset cermine (section_titles:partial_set levenshtein)</p>\n",
       "<h4>grobid-tei [0 : 1] cermine (7)</h4>\n",
       "<p>There are 7 samples where grobid-tei got it wrong, but cermine got it right.</p>\n",
       "<blockquote>\n",
       "<p><code>e-67-o1363.nxml</code> \"3-Allyl-1-{[3-(4-nitro­phen­yl)-4,5-dihydro-1,3-oxazol-5-yl]meth­yl}-1H-anthra[1,2-d]imidazole-2,6,11(3H)-trione\"<br/><strong>E</strong>: Crystal data<br/><strong>A</strong>: Special details</p>\n",
       "<p><code>e-67-o1363.nxml</code> \"3-Allyl-1-{[3-(4-nitro­phen­yl)-4,5-dihydro-1,3-oxazol-5-yl]meth­yl}-1H-anthra[1,2-d]imidazole-2,6,11(3H)-trione\"<br/><strong>E</strong>: Data collection<br/><strong>A</strong>: sup-2 Refinement</p>\n",
       "<p><code>e-67-o1363.nxml</code> \"3-Allyl-1-{[3-(4-nitro­phen­yl)-4,5-dihydro-1,3-oxazol-5-yl]meth­yl}-1H-anthra[1,2-d]imidazole-2,6,11(3H)-trione\"<br/><strong>E</strong>: Refinement<br/><strong>A</strong>: nan</p>\n",
       "</blockquote>\n",
       "<p>4 more</p>\n",
       "<h4>grobid-tei [1 : 0] cermine (13)</h4>\n",
       "<p>There are 13 samples where grobid-tei got it right, but cermine got it wrong.</p>\n",
       "<blockquote>\n",
       "<p><code>d-67-00463.nxml</code> \"Pi sampling: a methodical and flexible approach to initial macromolecular crystallization screening\"<br/><strong>E</strong>: Conclusions<br/><strong>B</strong>: 5. Conclusions</p>\n",
       "<p><code>d-67-00463.nxml</code> \"Pi sampling: a methodical and flexible approach to initial macromolecular crystallization screening\"<br/><strong>E</strong>: Methods<br/><strong>B</strong>: 2. Methods</p>\n",
       "<p><code>d-67-00463.nxml</code> \"Pi sampling: a methodical and flexible approach to initial macromolecular crystallization screening\"<br/><strong>E</strong>: Pi Sampler<br/><strong>B</strong>: 2.1. Pi sampling</p>\n",
       "</blockquote>\n",
       "<p>10 more</p>\n",
       "<h4>grobid-tei [0 : 0] cermine (15)</h4>\n",
       "<p>There are 15 samples where both grobid-tei and cermine got it wrong.</p>\n",
       "<blockquote>\n",
       "<p><code>d-67-00463.nxml</code> \"Pi sampling: a methodical and flexible approach to initial macromolecular crystallization screening\"<br/><strong>E</strong>: Discussion<br/><strong>A</strong>: Figure 2<br/><strong>B</strong>: 4. Discussion</p>\n",
       "<p><code>e-67-o1363.nxml</code> \"3-Allyl-1-{[3-(4-nitro­phen­yl)-4,5-dihydro-1,3-oxazol-5-yl]meth­yl}-1H-anthra[1,2-d]imidazole-2,6,11(3H)-trione\"<br/><strong>E</strong>: nan<br/><strong>A</strong>: Fractional atomic coordinates and isotropic or equivalent isotropic displacement parameters (Å 2 )<br/><strong>B</strong>: -</p>\n",
       "<p><code>e-67-o1363.nxml</code> \"3-Allyl-1-{[3-(4-nitro­phen­yl)-4,5-dihydro-1,3-oxazol-5-yl]meth­yl}-1H-anthra[1,2-d]imidazole-2,6,11(3H)-trione\"<br/><strong>E</strong>: nan<br/><strong>A</strong>: Fractional atomic coordinates and isotropic or equivalent isotropic displacement parameters (Å 2 )<br/><strong>B</strong>: Comment</p>\n",
       "</blockquote>\n",
       "<p>12 more</p></details>"
      ],
      "text/plain": [
       "<IPython.core.display.HTML object>"
      ]
     },
     "metadata": {},
     "output_type": "display_data"
    },
    {
     "data": {
      "text/html": [
       "<h2>Dataset: pmc-sample-1943-cc-by-subset (section_titles:partial_set exact)</h2>"
      ],
      "text/plain": [
       "<IPython.core.display.HTML object>"
      ]
     },
     "metadata": {},
     "output_type": "display_data"
    },
    {
     "data": {
      "text/html": [
       "<details><summary>Comparison: grobid-tei vs cermine</summary><p><strong>E</strong>: expected, <strong>A</strong>: pmc-sample-1943-cc-by-subset grobid-tei, <strong>B</strong>: pmc-sample-1943-cc-by-subset cermine (section_titles:partial_set exact)</p>\n",
       "<h4>grobid-tei [0 : 1] cermine (7)</h4>\n",
       "<p>There are 7 samples where grobid-tei got it wrong, but cermine got it right.</p>\n",
       "<blockquote>\n",
       "<p><code>e-67-o1363.nxml</code> \"3-Allyl-1-{[3-(4-nitro­phen­yl)-4,5-dihydro-1,3-oxazol-5-yl]meth­yl}-1H-anthra[1,2-d]imidazole-2,6,11(3H)-trione\"<br/><strong>E</strong>: Crystal data<br/><strong>A</strong>: Special details</p>\n",
       "<p><code>e-67-o1363.nxml</code> \"3-Allyl-1-{[3-(4-nitro­phen­yl)-4,5-dihydro-1,3-oxazol-5-yl]meth­yl}-1H-anthra[1,2-d]imidazole-2,6,11(3H)-trione\"<br/><strong>E</strong>: Data collection<br/><strong>A</strong>: sup-2 Refinement</p>\n",
       "<p><code>e-67-o1363.nxml</code> \"3-Allyl-1-{[3-(4-nitro­phen­yl)-4,5-dihydro-1,3-oxazol-5-yl]meth­yl}-1H-anthra[1,2-d]imidazole-2,6,11(3H)-trione\"<br/><strong>E</strong>: Refinement<br/><strong>A</strong>: nan</p>\n",
       "</blockquote>\n",
       "<p>4 more</p>\n",
       "<h4>grobid-tei [1 : 0] cermine (19)</h4>\n",
       "<p>There are 19 samples where grobid-tei got it right, but cermine got it wrong.</p>\n",
       "<blockquote>\n",
       "<p><code>d-67-00463.nxml</code> \"Pi sampling: a methodical and flexible approach to initial macromolecular crystallization screening\"<br/><strong>E</strong>: Conclusions<br/><strong>B</strong>: 1. Introduction</p>\n",
       "<p><code>d-67-00463.nxml</code> \"Pi sampling: a methodical and flexible approach to initial macromolecular crystallization screening\"<br/><strong>E</strong>: Introduction<br/><strong>B</strong>: 2.1. Pi sampling</p>\n",
       "<p><code>d-67-00463.nxml</code> \"Pi sampling: a methodical and flexible approach to initial macromolecular crystallization screening\"<br/><strong>E</strong>: Methods<br/><strong>B</strong>: 2.3. Pi minimal screen preparation and crystallization assays with commercially available soluble proteins</p>\n",
       "</blockquote>\n",
       "<p>16 more</p>\n",
       "<h4>grobid-tei [0 : 0] cermine (15)</h4>\n",
       "<p>There are 15 samples where both grobid-tei and cermine got it wrong.</p>\n",
       "<blockquote>\n",
       "<p><code>d-67-00463.nxml</code> \"Pi sampling: a methodical and flexible approach to initial macromolecular crystallization screening\"<br/><strong>E</strong>: Discussion<br/><strong>A</strong>: Figure 2<br/><strong>B</strong>: 2. Methods</p>\n",
       "<p><code>e-67-o1363.nxml</code> \"3-Allyl-1-{[3-(4-nitro­phen­yl)-4,5-dihydro-1,3-oxazol-5-yl]meth­yl}-1H-anthra[1,2-d]imidazole-2,6,11(3H)-trione\"<br/><strong>E</strong>: nan<br/><strong>A</strong>: Fractional atomic coordinates and isotropic or equivalent isotropic displacement parameters (Å 2 )<br/><strong>B</strong>: -</p>\n",
       "<p><code>e-67-o1363.nxml</code> \"3-Allyl-1-{[3-(4-nitro­phen­yl)-4,5-dihydro-1,3-oxazol-5-yl]meth­yl}-1H-anthra[1,2-d]imidazole-2,6,11(3H)-trione\"<br/><strong>E</strong>: nan<br/><strong>A</strong>: Fractional atomic coordinates and isotropic or equivalent isotropic displacement parameters (Å 2 )<br/><strong>B</strong>: Refinement Figures</p>\n",
       "</blockquote>\n",
       "<p>12 more</p></details>"
      ],
      "text/plain": [
       "<IPython.core.display.HTML object>"
      ]
     },
     "metadata": {},
     "output_type": "display_data"
    },
    {
     "data": {
      "text/html": [
       "<hr/>"
      ],
      "text/plain": [
       "<IPython.core.display.HTML object>"
      ]
     },
     "metadata": {},
     "output_type": "display_data"
    },
    {
     "data": {
      "text/html": [
       "<h1>Field: section_titles:partial_ulist</h1>"
      ],
      "text/plain": [
       "<IPython.core.display.HTML object>"
      ]
     },
     "metadata": {},
     "output_type": "display_data"
    },
    {
     "data": {
      "text/html": [
       "<h2>Dataset: pmc-sample-1943-cc-by-subset (section_titles:partial_ulist levenshtein)</h2>"
      ],
      "text/plain": [
       "<IPython.core.display.HTML object>"
      ]
     },
     "metadata": {},
     "output_type": "display_data"
    },
    {
     "data": {
      "text/html": [
       "<details><summary>Comparison: grobid-tei vs cermine</summary><p><strong>E</strong>: expected, <strong>A</strong>: pmc-sample-1943-cc-by-subset grobid-tei, <strong>B</strong>: pmc-sample-1943-cc-by-subset cermine (section_titles:partial_ulist levenshtein)</p>\n",
       "<h4>grobid-tei [0 : 1] cermine (7)</h4>\n",
       "<p>There are 7 samples where grobid-tei got it wrong, but cermine got it right.</p>\n",
       "<blockquote>\n",
       "<p><code>e-67-o1363.nxml</code> \"3-Allyl-1-{[3-(4-nitro­phen­yl)-4,5-dihydro-1,3-oxazol-5-yl]meth­yl}-1H-anthra[1,2-d]imidazole-2,6,11(3H)-trione\"<br/><strong>E</strong>: Crystal data<br/><strong>A</strong>: Special details</p>\n",
       "<p><code>e-67-o1363.nxml</code> \"3-Allyl-1-{[3-(4-nitro­phen­yl)-4,5-dihydro-1,3-oxazol-5-yl]meth­yl}-1H-anthra[1,2-d]imidazole-2,6,11(3H)-trione\"<br/><strong>E</strong>: Data collection<br/><strong>A</strong>: Fractional atomic coordinates and isotropic or equivalent isotropic displacement parameters (Å 2 )</p>\n",
       "<p><code>e-67-o1363.nxml</code> \"3-Allyl-1-{[3-(4-nitro­phen­yl)-4,5-dihydro-1,3-oxazol-5-yl]meth­yl}-1H-anthra[1,2-d]imidazole-2,6,11(3H)-trione\"<br/><strong>E</strong>: Refinement<br/><strong>A</strong>: nan</p>\n",
       "</blockquote>\n",
       "<p>4 more</p>\n",
       "<h4>grobid-tei [1 : 0] cermine (14)</h4>\n",
       "<p>There are 14 samples where grobid-tei got it right, but cermine got it wrong.</p>\n",
       "<blockquote>\n",
       "<p><code>d-67-00463.nxml</code> \"Pi sampling: a methodical and flexible approach to initial macromolecular crystallization screening\"<br/><strong>E</strong>: Methods<br/><strong>B</strong>: 2. Methods</p>\n",
       "<p><code>d-67-00463.nxml</code> \"Pi sampling: a methodical and flexible approach to initial macromolecular crystallization screening\"<br/><strong>E</strong>: Pi sampling<br/><strong>B</strong>: 2.1. Pi sampling</p>\n",
       "<p><code>d-67-00463.nxml</code> \"Pi sampling: a methodical and flexible approach to initial macromolecular crystallization screening\"<br/><strong>E</strong>: Pi sampling<br/><strong>B</strong>: 4.3. The Pi-PEG screen</p>\n",
       "</blockquote>\n",
       "<p>11 more</p>\n",
       "<h4>grobid-tei [0 : 0] cermine (18)</h4>\n",
       "<p>There are 18 samples where both grobid-tei and cermine got it wrong.</p>\n",
       "<blockquote>\n",
       "<p><code>d-67-00463.nxml</code> \"Pi sampling: a methodical and flexible approach to initial macromolecular crystallization screening\"<br/><strong>E</strong>: Pi sampling<br/><strong>A</strong>: nan<br/><strong>B</strong>: 2.1. Pi sampling</p>\n",
       "<p><code>d-67-00463.nxml</code> \"Pi sampling: a methodical and flexible approach to initial macromolecular crystallization screening\"<br/><strong>E</strong>: Pi sampling<br/><strong>A</strong>: nan<br/><strong>B</strong>: 4.3. The Pi-PEG screen</p>\n",
       "<p><code>d-67-00463.nxml</code> \"Pi sampling: a methodical and flexible approach to initial macromolecular crystallization screening\"<br/><strong>E</strong>: Discussion<br/><strong>A</strong>: Figure 2<br/><strong>B</strong>: 5. Conclusions</p>\n",
       "</blockquote>\n",
       "<p>15 more</p></details>"
      ],
      "text/plain": [
       "<IPython.core.display.HTML object>"
      ]
     },
     "metadata": {},
     "output_type": "display_data"
    },
    {
     "data": {
      "text/html": [
       "<h2>Dataset: pmc-sample-1943-cc-by-subset (section_titles:partial_ulist exact)</h2>"
      ],
      "text/plain": [
       "<IPython.core.display.HTML object>"
      ]
     },
     "metadata": {},
     "output_type": "display_data"
    },
    {
     "data": {
      "text/html": [
       "<details><summary>Comparison: grobid-tei vs cermine</summary><p><strong>E</strong>: expected, <strong>A</strong>: pmc-sample-1943-cc-by-subset grobid-tei, <strong>B</strong>: pmc-sample-1943-cc-by-subset cermine (section_titles:partial_ulist exact)</p>\n",
       "<h4>grobid-tei [0 : 1] cermine (7)</h4>\n",
       "<p>There are 7 samples where grobid-tei got it wrong, but cermine got it right.</p>\n",
       "<blockquote>\n",
       "<p><code>e-67-o1363.nxml</code> \"3-Allyl-1-{[3-(4-nitro­phen­yl)-4,5-dihydro-1,3-oxazol-5-yl]meth­yl}-1H-anthra[1,2-d]imidazole-2,6,11(3H)-trione\"<br/><strong>E</strong>: Crystal data<br/><strong>A</strong>: Special details</p>\n",
       "<p><code>e-67-o1363.nxml</code> \"3-Allyl-1-{[3-(4-nitro­phen­yl)-4,5-dihydro-1,3-oxazol-5-yl]meth­yl}-1H-anthra[1,2-d]imidazole-2,6,11(3H)-trione\"<br/><strong>E</strong>: Data collection<br/><strong>A</strong>: Fractional atomic coordinates and isotropic or equivalent isotropic displacement parameters (Å 2 )</p>\n",
       "<p><code>e-67-o1363.nxml</code> \"3-Allyl-1-{[3-(4-nitro­phen­yl)-4,5-dihydro-1,3-oxazol-5-yl]meth­yl}-1H-anthra[1,2-d]imidazole-2,6,11(3H)-trione\"<br/><strong>E</strong>: Refinement<br/><strong>A</strong>: nan</p>\n",
       "</blockquote>\n",
       "<p>4 more</p>\n",
       "<h4>grobid-tei [1 : 0] cermine (20)</h4>\n",
       "<p>There are 20 samples where grobid-tei got it right, but cermine got it wrong.</p>\n",
       "<blockquote>\n",
       "<p><code>d-67-00463.nxml</code> \"Pi sampling: a methodical and flexible approach to initial macromolecular crystallization screening\"<br/><strong>E</strong>: Introduction<br/><strong>B</strong>: 1. Introduction</p>\n",
       "<p><code>d-67-00463.nxml</code> \"Pi sampling: a methodical and flexible approach to initial macromolecular crystallization screening\"<br/><strong>E</strong>: Methods<br/><strong>B</strong>: 2. Methods</p>\n",
       "<p><code>d-67-00463.nxml</code> \"Pi sampling: a methodical and flexible approach to initial macromolecular crystallization screening\"<br/><strong>E</strong>: Pi sampling<br/><strong>B</strong>: 2.1. Pi sampling</p>\n",
       "</blockquote>\n",
       "<p>17 more</p>\n",
       "<h4>grobid-tei [0 : 0] cermine (18)</h4>\n",
       "<p>There are 18 samples where both grobid-tei and cermine got it wrong.</p>\n",
       "<blockquote>\n",
       "<p><code>d-67-00463.nxml</code> \"Pi sampling: a methodical and flexible approach to initial macromolecular crystallization screening\"<br/><strong>E</strong>: Pi sampling<br/><strong>A</strong>: nan<br/><strong>B</strong>: 2.1. Pi sampling</p>\n",
       "<p><code>d-67-00463.nxml</code> \"Pi sampling: a methodical and flexible approach to initial macromolecular crystallization screening\"<br/><strong>E</strong>: Pi sampling<br/><strong>A</strong>: nan<br/><strong>B</strong>: 5. Conclusions</p>\n",
       "<p><code>d-67-00463.nxml</code> \"Pi sampling: a methodical and flexible approach to initial macromolecular crystallization screening\"<br/><strong>E</strong>: Discussion<br/><strong>A</strong>: Figure 2<br/><strong>B</strong>: 4.3. The Pi-PEG screen</p>\n",
       "</blockquote>\n",
       "<p>15 more</p></details>"
      ],
      "text/plain": [
       "<IPython.core.display.HTML object>"
      ]
     },
     "metadata": {},
     "output_type": "display_data"
    },
    {
     "data": {
      "text/html": [
       "<hr/>"
      ],
      "text/plain": [
       "<IPython.core.display.HTML object>"
      ]
     },
     "metadata": {},
     "output_type": "display_data"
    },
    {
     "data": {
      "text/html": [
       "<h1>Field: affiliation_strings:partial_set</h1>"
      ],
      "text/plain": [
       "<IPython.core.display.HTML object>"
      ]
     },
     "metadata": {},
     "output_type": "display_data"
    },
    {
     "data": {
      "text/html": [
       "<h2>Dataset: pmc-sample-1943-cc-by-subset (affiliation_strings:partial_set levenshtein)</h2>"
      ],
      "text/plain": [
       "<IPython.core.display.HTML object>"
      ]
     },
     "metadata": {},
     "output_type": "display_data"
    },
    {
     "data": {
      "text/html": [
       "<details><summary>Comparison: grobid-tei vs cermine</summary><p><strong>E</strong>: expected, <strong>A</strong>: pmc-sample-1943-cc-by-subset grobid-tei, <strong>B</strong>: pmc-sample-1943-cc-by-subset cermine (affiliation_strings:partial_set levenshtein)</p>\n",
       "<h4>grobid-tei [0 : 1] cermine (11)</h4>\n",
       "<p>There are 11 samples where grobid-tei got it wrong, but cermine got it right.</p>\n",
       "<blockquote>\n",
       "<p><code>d-67-00463.nxml</code> \"Pi sampling: a methodical and flexible approach to initial macromolecular crystallization screening\"<br/><strong>E</strong>: a MRC Laboratory of Molecular Biology, Hills Road, Cambridge CB2 0QH, England<br/><strong>A</strong>: Acta Crystallographica Section D, MRC Laboratory of Molecular Biology, Hills Road, CB2 0QH, Cambridge, England Correspondence</p>\n",
       "<p><code>e-67-o1363.nxml</code> \"3-Allyl-1-{[3-(4-nitro­phen­yl)-4,5-dihydro-1,3-oxazol-5-yl]meth­yl}-1H-anthra[1,2-d]imidazole-2,6,11(3H)-trione\"<br/><strong>E</strong>: a Laboratoire de Chimie Organique Appliquée, Université Sidi Mohamed Ben Abdallah, Faculté des Sciences et Techniques, Route d’Immouzzer, BP 2202 Fès, Morocco<br/><strong>A</strong>: nan</p>\n",
       "<p><code>e-67-o1363.nxml</code> \"3-Allyl-1-{[3-(4-nitro­phen­yl)-4,5-dihydro-1,3-oxazol-5-yl]meth­yl}-1H-anthra[1,2-d]imidazole-2,6,11(3H)-trione\"<br/><strong>E</strong>: b Unité de Catalyse et de Chimie du Solide (UCCS), UMR 8181, Ecole Nationale Supérieure de Chimie de Lille, France<br/><strong>A</strong>: nan</p>\n",
       "</blockquote>\n",
       "<p>8 more</p>\n",
       "<h4>grobid-tei [1 : 0] cermine (4)</h4>\n",
       "<p>There are 4 samples where grobid-tei got it right, but cermine got it wrong.</p>\n",
       "<blockquote>\n",
       "<p><code>ORT-1745-3674-81-405.nxml</code> \"Resection arthroplasty for luxation of the manubrio-sternal joint in rheumatoid arthritis—a case report\"<br/><strong>E</strong>: Department of Orthopaedics<br/><strong>B</strong>: Departments of</p>\n",
       "<p><code>ORT-1745-3674-81-405.nxml</code> \"Resection arthroplasty for luxation of the manubrio-sternal joint in rheumatoid arthritis—a case report\"<br/><strong>E</strong>: Department of Rheumatology, Radboud University Nijmegen Medical Centre, the Netherlands<br/><strong>B</strong>: 2 Rheumatology, Radboud University Nijmegen Medical Centre, the Netherlands Submitted 09-09-25. Accepted 09-11-02</p>\n",
       "<p><code>apa0100-0653.nxml</code> \"Placental programming of blood pressure in Indian children\"<br/><strong>E</strong>: Epidemiology Research Unit, CSI Holdsworth Memorial Hospital, Mysore 570021, India<br/><strong>B</strong>: 0 1.MRC Lifecourse Epidemiology Unit, Southampton General Hospital, University of Southampton, Southampton, UK 2.Epidemiology Research Unit, CSI Holdsworth Memorial Hospital, Mysore 570021, India</p>\n",
       "</blockquote>\n",
       "<p>1 more</p>\n",
       "<h4>grobid-tei [0 : 0] cermine (5)</h4>\n",
       "<p>There are 5 samples where both grobid-tei and cermine got it wrong.</p>\n",
       "<blockquote>\n",
       "<p><code>f-67-00344.nxml</code> \"Refolding, crystallization and preliminary X-ray crystallographic study of the whole extracellular regions of nectins\"<br/><strong>E</strong>: a Laboratory of Supramolecular Crystallography, Research Center for Structural and Functional Proteomics, Institute for Protein Research, Osaka University, Suita 565-0871, Japan<br/><strong>A</strong>: Institute for Protein Research, Laboratory of Supramolecular Crystallography, Research Center for Structural and Functional Proteomics, Osaka University, 565-0871, Suita, Japan<br/><strong>B</strong>: 3 Research Center for Structural and Functional Proteomics, Institute for Protein Research, Osaka University, Suita 565-0871, Japan</p>\n",
       "<p><code>f-67-00344.nxml</code> \"Refolding, crystallization and preliminary X-ray crystallographic study of the whole extracellular regions of nectins\"<br/><strong>E</strong>: nan<br/><strong>A</strong>: Acta Crystallographica Section F<br/><strong>B</strong>: Hirotaka Narita</p>\n",
       "<p><code>f-67-00344.nxml</code> \"Refolding, crystallization and preliminary X-ray crystallographic study of the whole extracellular regions of nectins\"<br/><strong>E</strong>: nan<br/><strong>A</strong>: Acta Crystallographica Section F<br/><strong>B</strong>: Yasunori Yamamoto</p>\n",
       "</blockquote>\n",
       "<p>2 more</p></details>"
      ],
      "text/plain": [
       "<IPython.core.display.HTML object>"
      ]
     },
     "metadata": {},
     "output_type": "display_data"
    },
    {
     "data": {
      "text/html": [
       "<h2>Dataset: pmc-sample-1943-cc-by-subset (affiliation_strings:partial_set exact)</h2>"
      ],
      "text/plain": [
       "<IPython.core.display.HTML object>"
      ]
     },
     "metadata": {},
     "output_type": "display_data"
    },
    {
     "data": {
      "text/html": [
       "<details><summary>Comparison: grobid-tei vs cermine</summary><p><strong>E</strong>: expected, <strong>A</strong>: pmc-sample-1943-cc-by-subset grobid-tei, <strong>B</strong>: pmc-sample-1943-cc-by-subset cermine (affiliation_strings:partial_set exact)</p>\n",
       "<h4>grobid-tei [0 : 1] cermine (1)</h4>\n",
       "<p>There are 1 samples where grobid-tei got it wrong, but cermine got it right.</p>\n",
       "<blockquote>\n",
       "<p><code>soto131-469.nxml</code> \"Visualization and assessment of saccular duct and endolymphatic sinus\"<br/><strong>E</strong>: 1 Department of Otorhinolaryngology, Osaka City University Graduate School of Medicine, Osaka, Japan<br/><strong>A</strong>: Department of Otorhinolaryngology and Head &amp; Neck Surgery, Uppsala University Hospital, Uppsala, Sweden</p>\n",
       "</blockquote>\n",
       "<h4>grobid-tei [1 : 0] cermine (2)</h4>\n",
       "<p>There are 2 samples where grobid-tei got it right, but cermine got it wrong.</p>\n",
       "<blockquote>\n",
       "<p><code>aas0055-0039.nxml</code> \"Phosphate-containing dialysis solution prevents hypophosphatemia during continuous renal replacement therapy\"<br/><strong>E</strong>: Department of Anaesthesiology and Intensive Care, Lund University Hospital, Lund, Sweden<br/><strong>B</strong>: 0 Department of Anaesthesiology and Intensive Care, Lund University Hospital, Lund, Sweden</p>\n",
       "<p><code>aas0055-0039.nxml</code> \"Phosphate-containing dialysis solution prevents hypophosphatemia during continuous renal replacement therapy\"<br/><strong>E</strong>: Gambro Lundia AB, Lund, Sweden<br/><strong>B</strong>: 1 Gambro Lundia AB, Lund, Sweden</p>\n",
       "</blockquote>\n",
       "<h4>grobid-tei [0 : 0] cermine (23)</h4>\n",
       "<p>There are 23 samples where both grobid-tei and cermine got it wrong.</p>\n",
       "<blockquote>\n",
       "<p><code>d-67-00463.nxml</code> \"Pi sampling: a methodical and flexible approach to initial macromolecular crystallization screening\"<br/><strong>E</strong>: a MRC Laboratory of Molecular Biology, Hills Road, Cambridge CB2 0QH, England<br/><strong>A</strong>: Acta Crystallographica Section D, MRC Laboratory of Molecular Biology, Hills Road, CB2 0QH, Cambridge, England Correspondence<br/><strong>B</strong>: 0 MRC Laboratory of Molecular Biology, Hills Road, Cambridge CB2 0QH, England</p>\n",
       "<p><code>e-67-o1363.nxml</code> \"3-Allyl-1-{[3-(4-nitro­phen­yl)-4,5-dihydro-1,3-oxazol-5-yl]meth­yl}-1H-anthra[1,2-d]imidazole-2,6,11(3H)-trione\"<br/><strong>E</strong>: a Laboratoire de Chimie Organique Appliquée, Université Sidi Mohamed Ben Abdallah, Faculté des Sciences et Techniques, Route d’Immouzzer, BP 2202 Fès, Morocco<br/><strong>A</strong>: nan<br/><strong>B</strong>: 0 Laboratoire de Chimie Organique Applique ?e, Universite ? Sidi Mohamed Ben Abdallah, Faculte ? des Sciences et Techniques, Route d'Immouzzer, BP 2202 Fe`s, Morocco</p>\n",
       "<p><code>e-67-o1363.nxml</code> \"3-Allyl-1-{[3-(4-nitro­phen­yl)-4,5-dihydro-1,3-oxazol-5-yl]meth­yl}-1H-anthra[1,2-d]imidazole-2,6,11(3H)-trione\"<br/><strong>E</strong>: b Unité de Catalyse et de Chimie du Solide (UCCS), UMR 8181, Ecole Nationale Supérieure de Chimie de Lille, France<br/><strong>A</strong>: nan<br/><strong>B</strong>: 1 Laboratoire de Chimie du Solide Applique ?e, Faculte ? des Sciences, Universite ? Mohammed V-Agdal, Avenue Ibn Battouta, BP 1014, Rabat, Morocco</p>\n",
       "</blockquote>\n",
       "<p>20 more</p></details>"
      ],
      "text/plain": [
       "<IPython.core.display.HTML object>"
      ]
     },
     "metadata": {},
     "output_type": "display_data"
    },
    {
     "data": {
      "text/html": [
       "<hr/>"
      ],
      "text/plain": [
       "<IPython.core.display.HTML object>"
      ]
     },
     "metadata": {},
     "output_type": "display_data"
    },
    {
     "data": {
      "text/html": [
       "<h1>Field: affiliation_institution:partial_set</h1>"
      ],
      "text/plain": [
       "<IPython.core.display.HTML object>"
      ]
     },
     "metadata": {},
     "output_type": "display_data"
    },
    {
     "data": {
      "text/html": [
       "<h2>Dataset: pmc-sample-1943-cc-by-subset (affiliation_institution:partial_set levenshtein)</h2>"
      ],
      "text/plain": [
       "<IPython.core.display.HTML object>"
      ]
     },
     "metadata": {},
     "output_type": "display_data"
    },
    {
     "data": {
      "text/html": [
       "<details><summary>Comparison: grobid-tei vs cermine</summary><p><strong>E</strong>: expected, <strong>A</strong>: pmc-sample-1943-cc-by-subset grobid-tei, <strong>B</strong>: pmc-sample-1943-cc-by-subset cermine (affiliation_institution:partial_set levenshtein)</p>\n",
       "<h4>grobid-tei [0 : 1] cermine (2)</h4>\n",
       "<p>There are 2 samples where grobid-tei got it wrong, but cermine got it right.</p>\n",
       "<blockquote>\n",
       "<p><code>d-67-00463.nxml</code> \"Pi sampling: a methodical and flexible approach to initial macromolecular crystallization screening\"<br/><strong>E</strong>: MRC Laboratory of Molecular Biology<br/><strong>A</strong>: Acta Crystallographica Section D, MRC Laboratory of Molecular Biology</p>\n",
       "<p><code>apha0202-0379.nxml</code> \"On the function of the mammalian renal papilla and the peristalsis of the surrounding pelvis\"<br/><strong>E</strong>: Lexington<br/><strong>A</strong>: nan</p>\n",
       "</blockquote>\n",
       "<h4>grobid-tei [1 : 0] cermine (3)</h4>\n",
       "<p>There are 3 samples where grobid-tei got it right, but cermine got it wrong.</p>\n",
       "<blockquote>\n",
       "<p><code>ORT-1745-3674-81-405.nxml</code> \"Resection arthroplasty for luxation of the manubrio-sternal joint in rheumatoid arthritis—a case report\"<br/><strong>E</strong>: Department of Orthopaedics<br/><strong>B</strong>: Departments of</p>\n",
       "<p><code>apa0100-0653.nxml</code> \"Placental programming of blood pressure in Indian children\"<br/><strong>E</strong>: Epidemiology Research Unit, CSI Holdsworth Memorial Hospital<br/><strong>B</strong>: 1.MRC Lifecourse Epidemiology Unit, Southampton General Hospital, University of Southampton, Southampton, UK 2.Epidemiology Research Unit, CSI Holdsworth Memorial Hospital</p>\n",
       "<p><code>apa0100-0653.nxml</code> \"Placental programming of blood pressure in Indian children\"<br/><strong>E</strong>: MRC Lifecourse Epidemiology Unit, Southampton General Hospital, University of Southampton<br/><strong>B</strong>: nan</p>\n",
       "</blockquote>\n",
       "<h4>grobid-tei [0 : 0] cermine (37)</h4>\n",
       "<p>There are 37 samples where both grobid-tei and cermine got it wrong.</p>\n",
       "<blockquote>\n",
       "<p><code>f-67-00344.nxml</code> \"Refolding, crystallization and preliminary X-ray crystallographic study of the whole extracellular regions of nectins\"<br/><strong>E</strong>: Kobe University Graduate School of Medicine<br/><strong>A</strong>: Division of Membrane Dynamics, Department of Physiology and Cell Biology, Graduate School of Medicine, Kobe University<br/><strong>B</strong>: Division of Membrane Dynamics, Department of Physiology and Cell Biology, Kobe University Graduate School of Medicine</p>\n",
       "<p><code>f-67-00344.nxml</code> \"Refolding, crystallization and preliminary X-ray crystallographic study of the whole extracellular regions of nectins\"<br/><strong>E</strong>: Osaka University<br/><strong>A</strong>: Acta Crystallographica Section F<br/><strong>B</strong>: Hirotaka Narita</p>\n",
       "<p><code>f-67-00344.nxml</code> \"Refolding, crystallization and preliminary X-ray crystallographic study of the whole extracellular regions of nectins\"<br/><strong>E</strong>: nan<br/><strong>A</strong>: Department of Biochemistry and Molecular Biology, Graduate School of Medicine, Division of Molecular and Cellular Biology, Kobe University<br/><strong>B</strong>: Division of Molecular and Cellular Biology, Department of Biochemistry and Molecular Biology, Kobe University Graduate School of Medicine</p>\n",
       "</blockquote>\n",
       "<p>34 more</p></details>"
      ],
      "text/plain": [
       "<IPython.core.display.HTML object>"
      ]
     },
     "metadata": {},
     "output_type": "display_data"
    },
    {
     "data": {
      "text/html": [
       "<h2>Dataset: pmc-sample-1943-cc-by-subset (affiliation_institution:partial_set exact)</h2>"
      ],
      "text/plain": [
       "<IPython.core.display.HTML object>"
      ]
     },
     "metadata": {},
     "output_type": "display_data"
    },
    {
     "data": {
      "text/html": [
       "<details><summary>Comparison: grobid-tei vs cermine</summary><p><strong>E</strong>: expected, <strong>A</strong>: pmc-sample-1943-cc-by-subset grobid-tei, <strong>B</strong>: pmc-sample-1943-cc-by-subset cermine (affiliation_institution:partial_set exact)</p>\n",
       "<h4>grobid-tei [0 : 1] cermine (2)</h4>\n",
       "<p>There are 2 samples where grobid-tei got it wrong, but cermine got it right.</p>\n",
       "<blockquote>\n",
       "<p><code>d-67-00463.nxml</code> \"Pi sampling: a methodical and flexible approach to initial macromolecular crystallization screening\"<br/><strong>E</strong>: MRC Laboratory of Molecular Biology<br/><strong>A</strong>: Acta Crystallographica Section D, MRC Laboratory of Molecular Biology</p>\n",
       "<p><code>apha0202-0379.nxml</code> \"On the function of the mammalian renal papilla and the peristalsis of the surrounding pelvis\"<br/><strong>E</strong>: Lexington<br/><strong>A</strong>: nan</p>\n",
       "</blockquote>\n",
       "<h4>grobid-tei [1 : 0] cermine (2)</h4>\n",
       "<p>There are 2 samples where grobid-tei got it right, but cermine got it wrong.</p>\n",
       "<blockquote>\n",
       "<p><code>apa0100-0653.nxml</code> \"Placental programming of blood pressure in Indian children\"<br/><strong>E</strong>: Epidemiology Research Unit, CSI Holdsworth Memorial Hospital<br/><strong>B</strong>: 1.MRC Lifecourse Epidemiology Unit, Southampton General Hospital, University of Southampton, Southampton, UK 2.Epidemiology Research Unit, CSI Holdsworth Memorial Hospital</p>\n",
       "<p><code>apa0100-0653.nxml</code> \"Placental programming of blood pressure in Indian children\"<br/><strong>E</strong>: MRC Lifecourse Epidemiology Unit, Southampton General Hospital, University of Southampton<br/><strong>B</strong>: nan</p>\n",
       "</blockquote>\n",
       "<h4>grobid-tei [0 : 0] cermine (39)</h4>\n",
       "<p>There are 39 samples where both grobid-tei and cermine got it wrong.</p>\n",
       "<blockquote>\n",
       "<p><code>f-67-00344.nxml</code> \"Refolding, crystallization and preliminary X-ray crystallographic study of the whole extracellular regions of nectins\"<br/><strong>E</strong>: Kobe University Graduate School of Medicine<br/><strong>A</strong>: Acta Crystallographica Section F<br/><strong>B</strong>: Division of Membrane Dynamics, Department of Physiology and Cell Biology, Kobe University Graduate School of Medicine</p>\n",
       "<p><code>f-67-00344.nxml</code> \"Refolding, crystallization and preliminary X-ray crystallographic study of the whole extracellular regions of nectins\"<br/><strong>E</strong>: Osaka University<br/><strong>A</strong>: Department of Biochemistry and Molecular Biology, Graduate School of Medicine, Division of Molecular and Cellular Biology, Kobe University<br/><strong>B</strong>: Division of Molecular and Cellular Biology, Department of Biochemistry and Molecular Biology, Kobe University Graduate School of Medicine</p>\n",
       "<p><code>f-67-00344.nxml</code> \"Refolding, crystallization and preliminary X-ray crystallographic study of the whole extracellular regions of nectins\"<br/><strong>E</strong>: nan<br/><strong>A</strong>: Division of Membrane Dynamics, Department of Physiology and Cell Biology, Graduate School of Medicine, Kobe University<br/><strong>B</strong>: Hirotaka Narita</p>\n",
       "</blockquote>\n",
       "<p>36 more</p></details>"
      ],
      "text/plain": [
       "<IPython.core.display.HTML object>"
      ]
     },
     "metadata": {},
     "output_type": "display_data"
    },
    {
     "data": {
      "text/html": [
       "<hr/>"
      ],
      "text/plain": [
       "<IPython.core.display.HTML object>"
      ]
     },
     "metadata": {},
     "output_type": "display_data"
    },
    {
     "data": {
      "text/html": [
       "<h1>Field: first_reference_fields:list</h1>"
      ],
      "text/plain": [
       "<IPython.core.display.HTML object>"
      ]
     },
     "metadata": {},
     "output_type": "display_data"
    },
    {
     "data": {
      "text/html": [
       "<h2>Dataset: pmc-sample-1943-cc-by-subset (first_reference_fields:list levenshtein)</h2>"
      ],
      "text/plain": [
       "<IPython.core.display.HTML object>"
      ]
     },
     "metadata": {},
     "output_type": "display_data"
    },
    {
     "data": {
      "text/html": [
       "<details><summary>Comparison: grobid-tei vs cermine</summary><p><strong>E</strong>: expected, <strong>A</strong>: pmc-sample-1943-cc-by-subset grobid-tei, <strong>B</strong>: pmc-sample-1943-cc-by-subset cermine (first_reference_fields:list levenshtein)</p>\n",
       "<h4>grobid-tei [0 : 1] cermine (6)</h4>\n",
       "<p>There are 6 samples where grobid-tei got it wrong, but cermine got it right.</p>\n",
       "<blockquote>\n",
       "<p><code>aas0055-0039.nxml</code> \"Phosphate-containing dialysis solution prevents hypophosphatemia during continuous renal replacement therapy\"<br/><strong>E</strong>: ['1', 'Troyanov', 'S', 'Geadah', 'D', 'Ghannoum', 'M', 'Cardinal', 'J', 'Leblanc', 'M', 'Phosphate addition to hemodiafiltration solutions during continuous renal replacement therapy', 'Intensive Care Med', '2004', '30', '1662', '5', '15156308']<br/><strong>A</strong>: ['Phosphate addition to hemodiafiltration solutions during continuous renal replacement therapy', 'S', 'Troyanov', 'D', 'Geadah', 'M', 'Ghannoum', 'J', 'Cardinal', 'M', 'Leblanc', 'Intensive Care Med', '30', '', '', 'Troyanov S, Geadah D, Ghannoum M, Cardinal J, Leblanc M. Phosphate addition to hemodiafiltration solutions dur- ing continuous renal replacement therapy. Intensive Care Med 2004; 30: 1662-5.']</p>\n",
       "<p><code>e-67-o1363.nxml</code> \"3-Allyl-1-{[3-(4-nitro­phen­yl)-4,5-dihydro-1,3-oxazol-5-yl]meth­yl}-1H-anthra[1,2-d]imidazole-2,6,11(3H)-trione\"<br/><strong>E</strong>: ['Acta Cryst.', '66']<br/><strong>A</strong>: ['', 'S', 'H', 'Chen', 'K', 'Y', 'Lin', 'C', 'C', 'Chang', 'C', 'L', 'Fang', 'C', 'P', 'Lin', 'Food Chem. Toxicol', '45', '', '', 'Chen, S. H., Lin, K. Y., Chang, C. C., Fang, C. L. &amp; Lin, C. P. (2007). Food Chem. Toxicol. 45, 2296-2303.']</p>\n",
       "<p><code>sobs89-975.nxml</code> \"Camera trocar lifting in office gasless laparoscopic sterilization under local anesthesia\"<br/><strong>E</strong>: ['1', 'Penfield', 'AJ', 'Twenty-two years of office and outpatient laparoscopy: current techniques and why I chose them', 'J Am Assoc Gynecol Laparosc', '1995', '2', '365', '68', '9050587']<br/><strong>A</strong>: ['Twenty-two years of office and outpatient laparoscopy: current techniques and why I chose them', 'A', 'J', 'Penfield', 'J Am Assoc Gynecol Laparosc', '2', '', '', 'Penfield AJ. Twenty-two years of office and outpatient lapa- roscopy: current techniques and why I chose them. J Am Assoc Gynecol Laparosc. 1995;2:365-68.']</p>\n",
       "</blockquote>\n",
       "<p>3 more</p>\n",
       "<h4>grobid-tei [1 : 0] cermine (0)</h4>\n",
       "<p>There are 0 samples where grobid-tei got it right, but cermine got it wrong.</p>\n",
       "<h4>grobid-tei [0 : 0] cermine (1)</h4>\n",
       "<p>There are 1 samples where both grobid-tei and cermine got it wrong.</p>\n",
       "<blockquote>\n",
       "<p><code>apa0100-0653.nxml</code> \"Placental programming of blood pressure in Indian children\"<br/><strong>E</strong>: ['1', 'Law', 'CM', 'de', 'SM', 'Osmond', 'C', 'Fayers', 'PM', 'Barker', 'DJ', 'Cruddas', 'AM', '', 'in utero', 'Br Med J', '1993', '306', '24', '7', '8435572']<br/><strong>A</strong>: ['Initiation of hypertension in utero and its amplification throughout life', 'C', 'M', 'Law', 'S', 'M', 'De', 'C', 'Osmond', 'P', 'M', 'Fayers', 'D', 'J', 'Barker', 'A', 'M', 'Cruddas', 'Br Med J', '306', '', '', 'Law CM, de SM, Osmond C, Fayers PM, Barker DJ, Cruddas AM, et al. Initiation of hypertension in utero and its amplifica- tion throughout life. Br Med J 1993; 306: 24-7.']<br/><strong>B</strong>: ['Law', 'CM', 'de', 'SM', 'Osmond', 'C', 'Fayers', 'PM', 'Barker', 'DJ', 'Cruddas', 'AM', 'Initiation of hypertension in utero and its amplification throughout life', 'Br Med J', '1993', '306', '24', '7']</p>\n",
       "</blockquote></details>"
      ],
      "text/plain": [
       "<IPython.core.display.HTML object>"
      ]
     },
     "metadata": {},
     "output_type": "display_data"
    },
    {
     "data": {
      "text/html": [
       "<h2>Dataset: pmc-sample-1943-cc-by-subset (first_reference_fields:list exact)</h2>"
      ],
      "text/plain": [
       "<IPython.core.display.HTML object>"
      ]
     },
     "metadata": {},
     "output_type": "display_data"
    },
    {
     "data": {
      "text/html": [
       "<details><summary>Comparison: grobid-tei vs cermine</summary><p><strong>E</strong>: expected, <strong>A</strong>: pmc-sample-1943-cc-by-subset grobid-tei, <strong>B</strong>: pmc-sample-1943-cc-by-subset cermine (first_reference_fields:list exact)</p>\n",
       "<h4>grobid-tei [0 : 1] cermine (0)</h4>\n",
       "<p>There are 0 samples where grobid-tei got it wrong, but cermine got it right.</p>\n",
       "<h4>grobid-tei [1 : 0] cermine (0)</h4>\n",
       "<p>There are 0 samples where grobid-tei got it right, but cermine got it wrong.</p>\n",
       "<h4>grobid-tei [0 : 0] cermine (10)</h4>\n",
       "<p>There are 10 samples where both grobid-tei and cermine got it wrong.</p>\n",
       "<blockquote>\n",
       "<p><code>aas0055-0039.nxml</code> \"Phosphate-containing dialysis solution prevents hypophosphatemia during continuous renal replacement therapy\"<br/><strong>E</strong>: ['1', 'Troyanov', 'S', 'Geadah', 'D', 'Ghannoum', 'M', 'Cardinal', 'J', 'Leblanc', 'M', 'Phosphate addition to hemodiafiltration solutions during continuous renal replacement therapy', 'Intensive Care Med', '2004', '30', '1662', '5', '15156308']<br/><strong>A</strong>: ['Phosphate addition to hemodiafiltration solutions during continuous renal replacement therapy', 'S', 'Troyanov', 'D', 'Geadah', 'M', 'Ghannoum', 'J', 'Cardinal', 'M', 'Leblanc', 'Intensive Care Med', '30', '', '', 'Troyanov S, Geadah D, Ghannoum M, Cardinal J, Leblanc M. Phosphate addition to hemodiafiltration solutions dur- ing continuous renal replacement therapy. Intensive Care Med 2004; 30: 1662-5.']<br/><strong>B</strong>: ['Troyanov', 'S', 'Geadah', 'D', 'Ghannoum', 'M', 'Cardinal', 'J', 'Leblanc', 'M.', 'Phosphate addition to hemodiafiltration solutions during continuous renal replacement therapy', 'Intensive Care Med', '2004', '30', '1662', '5']</p>\n",
       "<p><code>d-67-00463.nxml</code> \"Pi sampling: a methodical and flexible approach to initial macromolecular crystallization screening\"<br/><strong>E</strong>: ['J. Appl. Cryst.', '39']<br/><strong>A</strong>: ['', 'V', 'Berejnov', 'N', 'S', 'Husseini', 'O', 'A', 'Alsaied', 'R', 'E', 'Thorne', 'J. Appl. Cryst', '39', '', '', 'Berejnov, V., Husseini, N. S., Alsaied, O. A. &amp; Thorne, R. E. (2006). J. Appl. Cryst. 39, 244-251.']<br/><strong>B</strong>: ['Berejnov', 'V.', 'Husseini', 'N. S.', 'Alsaied', 'O. A.', 'Thorne', 'R. E.', '2006', 'J. Appl. Cryst', '39', '244', '251']</p>\n",
       "<p><code>e-67-o1363.nxml</code> \"3-Allyl-1-{[3-(4-nitro­phen­yl)-4,5-dihydro-1,3-oxazol-5-yl]meth­yl}-1H-anthra[1,2-d]imidazole-2,6,11(3H)-trione\"<br/><strong>E</strong>: ['Acta Cryst.', '66']<br/><strong>A</strong>: ['', 'S', 'H', 'Chen', 'K', 'Y', 'Lin', 'C', 'C', 'Chang', 'C', 'L', 'Fang', 'C', 'P', 'Lin', 'Food Chem. Toxicol', '45', '', '', 'Chen, S. H., Lin, K. Y., Chang, C. C., Fang, C. L. &amp; Lin, C. P. (2007). Food Chem. Toxicol. 45, 2296-2303.']<br/><strong>B</strong>: ['Afrakssou', 'Z.', 'Rodi', 'Y. K.', 'Zouihri', 'H.', 'Essassi', 'E. M.', 'Ng', 'S. W.', '2010', 'Acta Cryst. E66', 'o1851']</p>\n",
       "</blockquote>\n",
       "<p>7 more</p></details>"
      ],
      "text/plain": [
       "<IPython.core.display.HTML object>"
      ]
     },
     "metadata": {},
     "output_type": "display_data"
    },
    {
     "data": {
      "text/html": [
       "<hr/>"
      ],
      "text/plain": [
       "<IPython.core.display.HTML object>"
      ]
     },
     "metadata": {},
     "output_type": "display_data"
    },
    {
     "data": {
      "text/html": [
       "<h1>Field: first_reference_title:string</h1>"
      ],
      "text/plain": [
       "<IPython.core.display.HTML object>"
      ]
     },
     "metadata": {},
     "output_type": "display_data"
    },
    {
     "data": {
      "text/html": [
       "<h2>Dataset: pmc-sample-1943-cc-by-subset (first_reference_title:string levenshtein)</h2>"
      ],
      "text/plain": [
       "<IPython.core.display.HTML object>"
      ]
     },
     "metadata": {},
     "output_type": "display_data"
    },
    {
     "data": {
      "text/html": [
       "<details><summary>Comparison: grobid-tei vs cermine</summary><p><strong>E</strong>: expected, <strong>A</strong>: pmc-sample-1943-cc-by-subset grobid-tei, <strong>B</strong>: pmc-sample-1943-cc-by-subset cermine (first_reference_title:string levenshtein)</p>\n",
       "<h4>grobid-tei [0 : 1] cermine (2)</h4>\n",
       "<p>There are 2 samples where grobid-tei got it wrong, but cermine got it right.</p>\n",
       "<blockquote>\n",
       "<p><code>ORT-1745-3674-81-405.nxml</code> \"Resection arthroplasty for luxation of the manubrio-sternal joint in rheumatoid arthritis—a case report\"<br/><strong>E</strong>: Manubrio-sternal joint in rheumatoid arthritis<br/><strong>A</strong>: Manubriosternal joint subluxation in rheumatoid arthritis</p>\n",
       "<p><code>apha0202-0379.nxml</code> \"On the function of the mammalian renal papilla and the peristalsis of the surrounding pelvis\"<br/><strong>E</strong>: Unpublished remarks<br/><strong>A</strong>: Unpublished remarks. The William H. Dantzler Symposium</p>\n",
       "</blockquote>\n",
       "<h4>grobid-tei [1 : 0] cermine (0)</h4>\n",
       "<p>There are 0 samples where grobid-tei got it right, but cermine got it wrong.</p>\n",
       "<h4>grobid-tei [0 : 0] cermine (0)</h4>\n",
       "<p>There are 0 samples where both grobid-tei and cermine got it wrong.</p></details>"
      ],
      "text/plain": [
       "<IPython.core.display.HTML object>"
      ]
     },
     "metadata": {},
     "output_type": "display_data"
    },
    {
     "data": {
      "text/html": [
       "<h2>Dataset: pmc-sample-1943-cc-by-subset (first_reference_title:string exact)</h2>"
      ],
      "text/plain": [
       "<IPython.core.display.HTML object>"
      ]
     },
     "metadata": {},
     "output_type": "display_data"
    },
    {
     "data": {
      "text/html": [
       "<details><summary>Comparison: grobid-tei vs cermine</summary><p><strong>E</strong>: expected, <strong>A</strong>: pmc-sample-1943-cc-by-subset grobid-tei, <strong>B</strong>: pmc-sample-1943-cc-by-subset cermine (first_reference_title:string exact)</p>\n",
       "<h4>grobid-tei [0 : 1] cermine (2)</h4>\n",
       "<p>There are 2 samples where grobid-tei got it wrong, but cermine got it right.</p>\n",
       "<blockquote>\n",
       "<p><code>ORT-1745-3674-81-405.nxml</code> \"Resection arthroplasty for luxation of the manubrio-sternal joint in rheumatoid arthritis—a case report\"<br/><strong>E</strong>: Manubrio-sternal joint in rheumatoid arthritis<br/><strong>A</strong>: Manubriosternal joint subluxation in rheumatoid arthritis</p>\n",
       "<p><code>apha0202-0379.nxml</code> \"On the function of the mammalian renal papilla and the peristalsis of the surrounding pelvis\"<br/><strong>E</strong>: Unpublished remarks<br/><strong>A</strong>: Unpublished remarks. The William H. Dantzler Symposium</p>\n",
       "</blockquote>\n",
       "<h4>grobid-tei [1 : 0] cermine (0)</h4>\n",
       "<p>There are 0 samples where grobid-tei got it right, but cermine got it wrong.</p>\n",
       "<h4>grobid-tei [0 : 0] cermine (0)</h4>\n",
       "<p>There are 0 samples where both grobid-tei and cermine got it wrong.</p></details>"
      ],
      "text/plain": [
       "<IPython.core.display.HTML object>"
      ]
     },
     "metadata": {},
     "output_type": "display_data"
    },
    {
     "data": {
      "text/html": [
       "<hr/>"
      ],
      "text/plain": [
       "<IPython.core.display.HTML object>"
      ]
     },
     "metadata": {},
     "output_type": "display_data"
    },
    {
     "data": {
      "text/html": [
       "<h1>Field: reference_fields:partial_list</h1>"
      ],
      "text/plain": [
       "<IPython.core.display.HTML object>"
      ]
     },
     "metadata": {},
     "output_type": "display_data"
    },
    {
     "data": {
      "text/html": [
       "<h2>Dataset: pmc-sample-1943-cc-by-subset (reference_fields:partial_list levenshtein)</h2>"
      ],
      "text/plain": [
       "<IPython.core.display.HTML object>"
      ]
     },
     "metadata": {},
     "output_type": "display_data"
    },
    {
     "data": {
      "text/html": [
       "<details><summary>Comparison: grobid-tei vs cermine</summary><p><strong>E</strong>: expected, <strong>A</strong>: pmc-sample-1943-cc-by-subset grobid-tei, <strong>B</strong>: pmc-sample-1943-cc-by-subset cermine (reference_fields:partial_list levenshtein)</p>\n",
       "<h4>grobid-tei [0 : 1] cermine (114)</h4>\n",
       "<p>There are 114 samples where grobid-tei got it wrong, but cermine got it right.</p>\n",
       "<blockquote>\n",
       "<p><code>aas0055-0039.nxml</code> \"Phosphate-containing dialysis solution prevents hypophosphatemia during continuous renal replacement therapy\"<br/><strong>E</strong>: ['1', 'Troyanov', 'S', 'Geadah', 'D', 'Ghannoum', 'M', 'Cardinal', 'J', 'Leblanc', 'M', 'Phosphate addition to hemodiafiltration solutions during continuous renal replacement therapy', 'Intensive Care Med', '2004', '30', '1662', '5', '15156308']<br/><strong>A</strong>: ['Phosphate addition to hemodiafiltration solutions during continuous renal replacement therapy', 'S', 'Troyanov', 'D', 'Geadah', 'M', 'Ghannoum', 'J', 'Cardinal', 'M', 'Leblanc', 'Intensive Care Med', '30', '', '', 'Troyanov S, Geadah D, Ghannoum M, Cardinal J, Leblanc M. Phosphate addition to hemodiafiltration solutions dur- ing continuous renal replacement therapy. Intensive Care Med 2004; 30: 1662-5.']</p>\n",
       "<p><code>aas0055-0039.nxml</code> \"Phosphate-containing dialysis solution prevents hypophosphatemia during continuous renal replacement therapy\"<br/><strong>E</strong>: ['2', 'Marik', 'PE', 'Bedigian', 'MK', 'Refeeding hypophosphatemia in critically ill patients in an intensive care unit. A prospective study', 'Arch Surg', '1996', '131', '1043', '7', '8857900']<br/><strong>A</strong>: ['Refeeding hypophosphatemia in critically ill patients in an intensive care unit. A prospective study', 'P', 'E', 'Marik', 'M', 'K', 'Bedigian', 'Arch Surg', '131', '', '', 'Marik PE, Bedigian MK. Refeeding hypophosphatemia in critically ill patients in an intensive care unit. A prospective study. Arch Surg 1996; 131: 1043-7.']</p>\n",
       "<p><code>aas0055-0039.nxml</code> \"Phosphate-containing dialysis solution prevents hypophosphatemia during continuous renal replacement therapy\"<br/><strong>E</strong>: ['4', 'Skulberg', 'A', 'Sr.', 'Glucose: a potential killer', 'Acta Anaesthesiol Scand', '2009', '53', '684', '19419367']<br/><strong>A</strong>: ['Glucose: a potential killer', 'A', 'Skulberg', 'Sr', 'Acta Anaesthesiol Scand', '53', '684', '', 'Skulberg A Sr. Glucose: a potential killer. Acta Anaesthesiol Scand 2009; 53: 684.']</p>\n",
       "</blockquote>\n",
       "<p>111 more</p>\n",
       "<h4>grobid-tei [1 : 0] cermine (8)</h4>\n",
       "<p>There are 8 samples where grobid-tei got it right, but cermine got it wrong.</p>\n",
       "<blockquote>\n",
       "<p><code>d-67-00463.nxml</code> \"Pi sampling: a methodical and flexible approach to initial macromolecular crystallization screening\"<br/><strong>E</strong>: ['Cell', '141']<br/><strong>B</strong>: ['Clarke', 'O. B.', 'Caputo', 'A. T.', 'Hill', 'A. P.', 'Vandenberg', 'J. I.', 'Smith', 'B. J.', 'Gulbis', 'J. M.', '2010', '141', '1018', '1029']</p>\n",
       "<p><code>d-67-00463.nxml</code> \"Pi sampling: a methodical and flexible approach to initial macromolecular crystallization screening\"<br/><strong>E</strong>: ['Bioinformatics', '20']<br/><strong>B</strong>: ['Kantardjieff', 'K. A.', 'Rupp', 'B.', '2004', '20', '2162', '2168']</p>\n",
       "<p><code>d-67-00463.nxml</code> \"Pi sampling: a methodical and flexible approach to initial macromolecular crystallization screening\"<br/><strong>E</strong>: ['Proteins', '51']<br/><strong>B</strong>: ['Kimber', 'M. S.', 'Vallee', 'F.', 'Houston', 'S.', 'Necakov', 'A.', 'Skarina', 'T.', 'Evdokimova', 'E.', 'Beasley', 'S.', 'Christendat', 'D.', 'Savchenko', 'A.', 'Arrowsmith', 'C. H.', 'Vedadi', 'M.', 'Gerstein', 'M.', 'Edwards', 'A. M.', '2003', '51', '562', '568']</p>\n",
       "</blockquote>\n",
       "<p>5 more</p>\n",
       "<h4>grobid-tei [0 : 0] cermine (5)</h4>\n",
       "<p>There are 5 samples where both grobid-tei and cermine got it wrong.</p>\n",
       "<blockquote>\n",
       "<p><code>d-67-00463.nxml</code> \"Pi sampling: a methodical and flexible approach to initial macromolecular crystallization screening\"<br/><strong>E</strong>: ['et al.', 'Acta Cryst.', '67']<br/><strong>A</strong>: ['', 'C', 'Morris', 'Acta Cryst', '67', '', '', 'Morris, C. et al. (2011). Acta Cryst. D67, 249-260.']<br/><strong>B</strong>: ['Morris', 'C.', '2011', 'Acta Cryst. D67', '249', '260']</p>\n",
       "<p><code>e-67-o1363.nxml</code> \"3-Allyl-1-{[3-(4-nitro­phen­yl)-4,5-dihydro-1,3-oxazol-5-yl]meth­yl}-1H-anthra[1,2-d]imidazole-2,6,11(3H)-trione\"<br/><strong>E</strong>: ['APEX2', 'SAINT-Plus', 'SADABS']<br/><strong>A</strong>: ['', 'H', 'S', 'Haug', 'J', 'F', 'Chiou', 'Y', 'Fong', 'C', 'C', 'Hou', 'Y', 'C', 'Lu', 'J', 'Y', 'Wang', 'J', 'W', 'Shih', 'Y', 'R', 'Pan', 'J', 'J', 'Lin', 'J. Med. Chem', '46', '', '', 'Haug, H. S., Chiou, J. F., Fong, Y., Hou, C. C., Lu, Y. C., Wang, J. Y., Shih, J. W., Pan, Y. R. &amp; Lin, J. J. (2003). J. Med. Chem. 46, 3300-3307.']<br/><strong>B</strong>: ['Bruker', '2009', 'APEX2, SAINT-Plus and SADABS. Bruker AXS Inc', 'Madison']</p>\n",
       "<p><code>apa0100-0653.nxml</code> \"Placental programming of blood pressure in Indian children\"<br/><strong>E</strong>: ['1', 'Law', 'CM', 'de', 'SM', 'Osmond', 'C', 'Fayers', 'PM', 'Barker', 'DJ', 'Cruddas', 'AM', '', 'in utero', 'Br Med J', '1993', '306', '24', '7', '8435572']<br/><strong>A</strong>: ['Initiation of hypertension in utero and its amplification throughout life', 'C', 'M', 'Law', 'S', 'M', 'De', 'C', 'Osmond', 'P', 'M', 'Fayers', 'D', 'J', 'Barker', 'A', 'M', 'Cruddas', 'Br Med J', '306', '', '', 'Law CM, de SM, Osmond C, Fayers PM, Barker DJ, Cruddas AM, et al. Initiation of hypertension in utero and its amplifica- tion throughout life. Br Med J 1993; 306: 24-7.']<br/><strong>B</strong>: ['Law', 'CM', 'de', 'SM', 'Osmond', 'C', 'Fayers', 'PM', 'Barker', 'DJ', 'Cruddas', 'AM', 'Initiation of hypertension in utero and its amplification throughout life', 'Br Med J', '1993', '306', '24', '7']</p>\n",
       "</blockquote>\n",
       "<p>2 more</p></details>"
      ],
      "text/plain": [
       "<IPython.core.display.HTML object>"
      ]
     },
     "metadata": {},
     "output_type": "display_data"
    },
    {
     "data": {
      "text/html": [
       "<h2>Dataset: pmc-sample-1943-cc-by-subset (reference_fields:partial_list exact)</h2>"
      ],
      "text/plain": [
       "<IPython.core.display.HTML object>"
      ]
     },
     "metadata": {},
     "output_type": "display_data"
    },
    {
     "data": {
      "text/html": [
       "<details><summary>Comparison: grobid-tei vs cermine</summary><p><strong>E</strong>: expected, <strong>A</strong>: pmc-sample-1943-cc-by-subset grobid-tei, <strong>B</strong>: pmc-sample-1943-cc-by-subset cermine (reference_fields:partial_list exact)</p>\n",
       "<h4>grobid-tei [0 : 1] cermine (6)</h4>\n",
       "<p>There are 6 samples where grobid-tei got it wrong, but cermine got it right.</p>\n",
       "<blockquote>\n",
       "<p><code>d-67-00463.nxml</code> \"Pi sampling: a methodical and flexible approach to initial macromolecular crystallization screening\"<br/><strong>E</strong>: ['Protein Sci.', '18']<br/><strong>A</strong>: ['', 'M', 'Koszelak-Rosenblum', 'A', 'Krol', 'N', 'Mozumdar', 'K', 'Wunsch', 'A', 'Ferin', 'E', 'Cook', 'C', 'K', 'Veatch', 'R', 'Nagel', 'J', 'R', 'Luft', 'G', 'T', 'Detitta', 'M', 'G', 'Malkowski', 'Protein Sci', '18', '', '', 'Koszelak-Rosenblum, M., Krol, A., Mozumdar, N., Wunsch, K., Ferin, A., Cook, E., Veatch, C. K., Nagel, R., Luft, J. R., Detitta, G. T. &amp; Malkowski, M. G. (2009). Protein Sci. 18, 1828-1839.']</p>\n",
       "<p><code>d-67-00463.nxml</code> \"Pi sampling: a methodical and flexible approach to initial macromolecular crystallization screening\"<br/><strong>E</strong>: ['Proc. Natl Acad. Sci. USA', '93']<br/><strong>A</strong>: ['E', 'M', 'Landau', 'J', 'P', 'Rosenbusch', 'Proc. Natl Acad. Sci', 'USA, 93', '', '', 'Landau, E. M. &amp; Rosenbusch, J. P. (1996). Proc. Natl Acad. Sci. USA, 93, 14532-14535.']</p>\n",
       "<p><code>d-67-00463.nxml</code> \"Pi sampling: a methodical and flexible approach to initial macromolecular crystallization screening\"<br/><strong>E</strong>: ['Eur. J. Biochem.', '189']<br/><strong>A</strong>: ['', 'A', 'Mcpherson', 'Eur. J. Biochem', '189', '', '', 'McPherson, A. (1990). Eur. J. Biochem. 189, 1-23.']</p>\n",
       "</blockquote>\n",
       "<p>3 more</p>\n",
       "<h4>grobid-tei [1 : 0] cermine (5)</h4>\n",
       "<p>There are 5 samples where grobid-tei got it right, but cermine got it wrong.</p>\n",
       "<blockquote>\n",
       "<p><code>d-67-00463.nxml</code> \"Pi sampling: a methodical and flexible approach to initial macromolecular crystallization screening\"<br/><strong>E</strong>: ['Cell', '141']<br/><strong>B</strong>: ['Clarke', 'O. B.', 'Caputo', 'A. T.', 'Hill', 'A. P.', 'Vandenberg', 'J. I.', 'Smith', 'B. J.', 'Gulbis', 'J. M.', '2010', '141', '1018', '1029']</p>\n",
       "<p><code>d-67-00463.nxml</code> \"Pi sampling: a methodical and flexible approach to initial macromolecular crystallization screening\"<br/><strong>E</strong>: ['Bioinformatics', '20']<br/><strong>B</strong>: ['Kantardjieff', 'K. A.', 'Rupp', 'B.', '2004', '20', '2162', '2168']</p>\n",
       "<p><code>d-67-00463.nxml</code> \"Pi sampling: a methodical and flexible approach to initial macromolecular crystallization screening\"<br/><strong>E</strong>: ['Proteins', '51']<br/><strong>B</strong>: ['Kimber', 'M. S.', 'Vallee', 'F.', 'Houston', 'S.', 'Necakov', 'A.', 'Skarina', 'T.', 'Evdokimova', 'E.', 'Beasley', 'S.', 'Christendat', 'D.', 'Savchenko', 'A.', 'Arrowsmith', 'C. H.', 'Vedadi', 'M.', 'Gerstein', 'M.', 'Edwards', 'A. M.', '2003', '51', '562', '568']</p>\n",
       "</blockquote>\n",
       "<p>2 more</p>\n",
       "<h4>grobid-tei [0 : 0] cermine (167)</h4>\n",
       "<p>There are 167 samples where both grobid-tei and cermine got it wrong.</p>\n",
       "<blockquote>\n",
       "<p><code>aas0055-0039.nxml</code> \"Phosphate-containing dialysis solution prevents hypophosphatemia during continuous renal replacement therapy\"<br/><strong>E</strong>: ['1', 'Troyanov', 'S', 'Geadah', 'D', 'Ghannoum', 'M', 'Cardinal', 'J', 'Leblanc', 'M', 'Phosphate addition to hemodiafiltration solutions during continuous renal replacement therapy', 'Intensive Care Med', '2004', '30', '1662', '5', '15156308']<br/><strong>A</strong>: ['Phosphate addition to hemodiafiltration solutions during continuous renal replacement therapy', 'S', 'Troyanov', 'D', 'Geadah', 'M', 'Ghannoum', 'J', 'Cardinal', 'M', 'Leblanc', 'Intensive Care Med', '30', '', '', 'Troyanov S, Geadah D, Ghannoum M, Cardinal J, Leblanc M. Phosphate addition to hemodiafiltration solutions dur- ing continuous renal replacement therapy. Intensive Care Med 2004; 30: 1662-5.']<br/><strong>B</strong>: ['Troyanov', 'S', 'Geadah', 'D', 'Ghannoum', 'M', 'Cardinal', 'J', 'Leblanc', 'M.', 'Phosphate addition to hemodiafiltration solutions during continuous renal replacement therapy', 'Intensive Care Med', '2004', '30', '1662', '5']</p>\n",
       "<p><code>aas0055-0039.nxml</code> \"Phosphate-containing dialysis solution prevents hypophosphatemia during continuous renal replacement therapy\"<br/><strong>E</strong>: ['2', 'Marik', 'PE', 'Bedigian', 'MK', 'Refeeding hypophosphatemia in critically ill patients in an intensive care unit. A prospective study', 'Arch Surg', '1996', '131', '1043', '7', '8857900']<br/><strong>A</strong>: ['Refeeding hypophosphatemia in critically ill patients in an intensive care unit. A prospective study', 'P', 'E', 'Marik', 'M', 'K', 'Bedigian', 'Arch Surg', '131', '', '', 'Marik PE, Bedigian MK. Refeeding hypophosphatemia in critically ill patients in an intensive care unit. A prospective study. Arch Surg 1996; 131: 1043-7.']<br/><strong>B</strong>: ['Marik', 'PE', 'Bedigian', 'MK', 'Refeeding hypophosphatemia in critically ill patients in an intensive care unit. A prospective study', 'Arch Surg', '1996', '131', '1043', '7']</p>\n",
       "<p><code>aas0055-0039.nxml</code> \"Phosphate-containing dialysis solution prevents hypophosphatemia during continuous renal replacement therapy\"<br/><strong>E</strong>: ['3', 'Bugg', 'NC', 'Jones', 'JA', 'Hypophosphataemia. Pathophysiology, effects and management on the intensive care unit', 'Anaesthesia', '1998', '53', '895', '902', '9849285']<br/><strong>A</strong>: ['Pathophysiology, effects and management on the intensive care unit', 'N', 'C', 'Bugg', 'J', 'A', 'Jones', 'Hypophosphataemia', 'Anaesthesia', '53', '', '', 'Bugg NC, Jones JA. Hypophosphataemia. Pathophysiology, effects and management on the intensive care unit. Anaes- thesia 1998; 53: 895-902.']<br/><strong>B</strong>: ['Bugg', 'NC', 'Jones', 'JA', 'Hypophosphataemia. Pathophysiology, effects and management on the intensive care unit', 'Anaesthesia', '1998', '53', '895', '902']</p>\n",
       "</blockquote>\n",
       "<p>164 more</p></details>"
      ],
      "text/plain": [
       "<IPython.core.display.HTML object>"
      ]
     },
     "metadata": {},
     "output_type": "display_data"
    },
    {
     "data": {
      "text/html": [
       "<hr/>"
      ],
      "text/plain": [
       "<IPython.core.display.HTML object>"
      ]
     },
     "metadata": {},
     "output_type": "display_data"
    },
    {
     "data": {
      "text/html": [
       "<h1>Field: reference_fields:partial_ulist</h1>"
      ],
      "text/plain": [
       "<IPython.core.display.HTML object>"
      ]
     },
     "metadata": {},
     "output_type": "display_data"
    },
    {
     "data": {
      "text/html": [
       "<h2>Dataset: pmc-sample-1943-cc-by-subset (reference_fields:partial_ulist levenshtein)</h2>"
      ],
      "text/plain": [
       "<IPython.core.display.HTML object>"
      ]
     },
     "metadata": {},
     "output_type": "display_data"
    },
    {
     "data": {
      "text/html": [
       "<details><summary>Comparison: grobid-tei vs cermine</summary><p><strong>E</strong>: expected, <strong>A</strong>: pmc-sample-1943-cc-by-subset grobid-tei, <strong>B</strong>: pmc-sample-1943-cc-by-subset cermine (reference_fields:partial_ulist levenshtein)</p>\n",
       "<h4>grobid-tei [0 : 1] cermine (101)</h4>\n",
       "<p>There are 101 samples where grobid-tei got it wrong, but cermine got it right.</p>\n",
       "<blockquote>\n",
       "<p><code>aas0055-0039.nxml</code> \"Phosphate-containing dialysis solution prevents hypophosphatemia during continuous renal replacement therapy\"<br/><strong>E</strong>: ['1', 'Troyanov', 'S', 'Geadah', 'D', 'Ghannoum', 'M', 'Cardinal', 'J', 'Leblanc', 'M', 'Phosphate addition to hemodiafiltration solutions during continuous renal replacement therapy', 'Intensive Care Med', '2004', '30', '1662', '5', '15156308']<br/><strong>A</strong>: ['Phosphate addition to hemodiafiltration solutions during continuous renal replacement therapy', 'S', 'Troyanov', 'D', 'Geadah', 'M', 'Ghannoum', 'J', 'Cardinal', 'M', 'Leblanc', 'Intensive Care Med', '30', '', '', 'Troyanov S, Geadah D, Ghannoum M, Cardinal J, Leblanc M. Phosphate addition to hemodiafiltration solutions dur- ing continuous renal replacement therapy. Intensive Care Med 2004; 30: 1662-5.']</p>\n",
       "<p><code>aas0055-0039.nxml</code> \"Phosphate-containing dialysis solution prevents hypophosphatemia during continuous renal replacement therapy\"<br/><strong>E</strong>: ['2', 'Marik', 'PE', 'Bedigian', 'MK', 'Refeeding hypophosphatemia in critically ill patients in an intensive care unit. A prospective study', 'Arch Surg', '1996', '131', '1043', '7', '8857900']<br/><strong>A</strong>: ['Refeeding hypophosphatemia in critically ill patients in an intensive care unit. A prospective study', 'P', 'E', 'Marik', 'M', 'K', 'Bedigian', 'Arch Surg', '131', '', '', 'Marik PE, Bedigian MK. Refeeding hypophosphatemia in critically ill patients in an intensive care unit. A prospective study. Arch Surg 1996; 131: 1043-7.']</p>\n",
       "<p><code>aas0055-0039.nxml</code> \"Phosphate-containing dialysis solution prevents hypophosphatemia during continuous renal replacement therapy\"<br/><strong>E</strong>: ['4', 'Skulberg', 'A', 'Sr.', 'Glucose: a potential killer', 'Acta Anaesthesiol Scand', '2009', '53', '684', '19419367']<br/><strong>A</strong>: ['Glucose: a potential killer', 'A', 'Skulberg', 'Sr', 'Acta Anaesthesiol Scand', '53', '684', '', 'Skulberg A Sr. Glucose: a potential killer. Acta Anaesthesiol Scand 2009; 53: 684.']</p>\n",
       "</blockquote>\n",
       "<p>98 more</p>\n",
       "<h4>grobid-tei [1 : 0] cermine (8)</h4>\n",
       "<p>There are 8 samples where grobid-tei got it right, but cermine got it wrong.</p>\n",
       "<blockquote>\n",
       "<p><code>d-67-00463.nxml</code> \"Pi sampling: a methodical and flexible approach to initial macromolecular crystallization screening\"<br/><strong>E</strong>: ['Cell', '141']<br/><strong>B</strong>: ['Clarke', 'O. B.', 'Caputo', 'A. T.', 'Hill', 'A. P.', 'Vandenberg', 'J. I.', 'Smith', 'B. J.', 'Gulbis', 'J. M.', '2010', '141', '1018', '1029']</p>\n",
       "<p><code>d-67-00463.nxml</code> \"Pi sampling: a methodical and flexible approach to initial macromolecular crystallization screening\"<br/><strong>E</strong>: ['Bioinformatics', '20']<br/><strong>B</strong>: ['Kantardjieff', 'K. A.', 'Rupp', 'B.', '2004', '20', '2162', '2168']</p>\n",
       "<p><code>d-67-00463.nxml</code> \"Pi sampling: a methodical and flexible approach to initial macromolecular crystallization screening\"<br/><strong>E</strong>: ['Proteins', '51']<br/><strong>B</strong>: ['Kimber', 'M. S.', 'Vallee', 'F.', 'Houston', 'S.', 'Necakov', 'A.', 'Skarina', 'T.', 'Evdokimova', 'E.', 'Beasley', 'S.', 'Christendat', 'D.', 'Savchenko', 'A.', 'Arrowsmith', 'C. H.', 'Vedadi', 'M.', 'Gerstein', 'M.', 'Edwards', 'A. M.', '2003', '51', '562', '568']</p>\n",
       "</blockquote>\n",
       "<p>5 more</p>\n",
       "<h4>grobid-tei [0 : 0] cermine (5)</h4>\n",
       "<p>There are 5 samples where both grobid-tei and cermine got it wrong.</p>\n",
       "<blockquote>\n",
       "<p><code>d-67-00463.nxml</code> \"Pi sampling: a methodical and flexible approach to initial macromolecular crystallization screening\"<br/><strong>E</strong>: ['et al.', 'Acta Cryst.', '67']<br/><strong>A</strong>: ['', 'C', 'Morris', 'Acta Cryst', '67', '', '', 'Morris, C. et al. (2011). Acta Cryst. D67, 249-260.']<br/><strong>B</strong>: ['Morris', 'C.', '2011', 'Acta Cryst. D67', '249', '260']</p>\n",
       "<p><code>e-67-o1363.nxml</code> \"3-Allyl-1-{[3-(4-nitro­phen­yl)-4,5-dihydro-1,3-oxazol-5-yl]meth­yl}-1H-anthra[1,2-d]imidazole-2,6,11(3H)-trione\"<br/><strong>E</strong>: ['APEX2', 'SAINT-Plus', 'SADABS']<br/><strong>A</strong>: nan<br/><strong>B</strong>: ['Bruker', '2009', 'APEX2, SAINT-Plus and SADABS. Bruker AXS Inc', 'Madison']</p>\n",
       "<p><code>apa0100-0653.nxml</code> \"Placental programming of blood pressure in Indian children\"<br/><strong>E</strong>: ['1', 'Law', 'CM', 'de', 'SM', 'Osmond', 'C', 'Fayers', 'PM', 'Barker', 'DJ', 'Cruddas', 'AM', '', 'in utero', 'Br Med J', '1993', '306', '24', '7', '8435572']<br/><strong>A</strong>: ['Initiation of hypertension in utero and its amplification throughout life', 'C', 'M', 'Law', 'S', 'M', 'De', 'C', 'Osmond', 'P', 'M', 'Fayers', 'D', 'J', 'Barker', 'A', 'M', 'Cruddas', 'Br Med J', '306', '', '', 'Law CM, de SM, Osmond C, Fayers PM, Barker DJ, Cruddas AM, et al. Initiation of hypertension in utero and its amplifica- tion throughout life. Br Med J 1993; 306: 24-7.']<br/><strong>B</strong>: ['Law', 'CM', 'de', 'SM', 'Osmond', 'C', 'Fayers', 'PM', 'Barker', 'DJ', 'Cruddas', 'AM', 'Initiation of hypertension in utero and its amplification throughout life', 'Br Med J', '1993', '306', '24', '7']</p>\n",
       "</blockquote>\n",
       "<p>2 more</p></details>"
      ],
      "text/plain": [
       "<IPython.core.display.HTML object>"
      ]
     },
     "metadata": {},
     "output_type": "display_data"
    },
    {
     "data": {
      "text/html": [
       "<h2>Dataset: pmc-sample-1943-cc-by-subset (reference_fields:partial_ulist exact)</h2>"
      ],
      "text/plain": [
       "<IPython.core.display.HTML object>"
      ]
     },
     "metadata": {},
     "output_type": "display_data"
    },
    {
     "data": {
      "text/html": [
       "<details><summary>Comparison: grobid-tei vs cermine</summary><p><strong>E</strong>: expected, <strong>A</strong>: pmc-sample-1943-cc-by-subset grobid-tei, <strong>B</strong>: pmc-sample-1943-cc-by-subset cermine (reference_fields:partial_ulist exact)</p>\n",
       "<h4>grobid-tei [0 : 1] cermine (5)</h4>\n",
       "<p>There are 5 samples where grobid-tei got it wrong, but cermine got it right.</p>\n",
       "<blockquote>\n",
       "<p><code>d-67-00463.nxml</code> \"Pi sampling: a methodical and flexible approach to initial macromolecular crystallization screening\"<br/><strong>E</strong>: ['Protein Sci.', '18']<br/><strong>A</strong>: ['', 'M', 'Koszelak-Rosenblum', 'A', 'Krol', 'N', 'Mozumdar', 'K', 'Wunsch', 'A', 'Ferin', 'E', 'Cook', 'C', 'K', 'Veatch', 'R', 'Nagel', 'J', 'R', 'Luft', 'G', 'T', 'Detitta', 'M', 'G', 'Malkowski', 'Protein Sci', '18', '', '', 'Koszelak-Rosenblum, M., Krol, A., Mozumdar, N., Wunsch, K., Ferin, A., Cook, E., Veatch, C. K., Nagel, R., Luft, J. R., Detitta, G. T. &amp; Malkowski, M. G. (2009). Protein Sci. 18, 1828-1839.']</p>\n",
       "<p><code>d-67-00463.nxml</code> \"Pi sampling: a methodical and flexible approach to initial macromolecular crystallization screening\"<br/><strong>E</strong>: ['Proc. Natl Acad. Sci. USA', '93']<br/><strong>A</strong>: ['E', 'M', 'Landau', 'J', 'P', 'Rosenbusch', 'Proc. Natl Acad. Sci', 'USA, 93', '', '', 'Landau, E. M. &amp; Rosenbusch, J. P. (1996). Proc. Natl Acad. Sci. USA, 93, 14532-14535.']</p>\n",
       "<p><code>d-67-00463.nxml</code> \"Pi sampling: a methodical and flexible approach to initial macromolecular crystallization screening\"<br/><strong>E</strong>: ['Eur. J. Biochem.', '189']<br/><strong>A</strong>: ['', 'A', 'Mcpherson', 'Eur. J. Biochem', '189', '', '', 'McPherson, A. (1990). Eur. J. Biochem. 189, 1-23.']</p>\n",
       "</blockquote>\n",
       "<p>2 more</p>\n",
       "<h4>grobid-tei [1 : 0] cermine (5)</h4>\n",
       "<p>There are 5 samples where grobid-tei got it right, but cermine got it wrong.</p>\n",
       "<blockquote>\n",
       "<p><code>d-67-00463.nxml</code> \"Pi sampling: a methodical and flexible approach to initial macromolecular crystallization screening\"<br/><strong>E</strong>: ['Cell', '141']<br/><strong>B</strong>: ['Clarke', 'O. B.', 'Caputo', 'A. T.', 'Hill', 'A. P.', 'Vandenberg', 'J. I.', 'Smith', 'B. J.', 'Gulbis', 'J. M.', '2010', '141', '1018', '1029']</p>\n",
       "<p><code>d-67-00463.nxml</code> \"Pi sampling: a methodical and flexible approach to initial macromolecular crystallization screening\"<br/><strong>E</strong>: ['Bioinformatics', '20']<br/><strong>B</strong>: ['Kantardjieff', 'K. A.', 'Rupp', 'B.', '2004', '20', '2162', '2168']</p>\n",
       "<p><code>d-67-00463.nxml</code> \"Pi sampling: a methodical and flexible approach to initial macromolecular crystallization screening\"<br/><strong>E</strong>: ['Proteins', '51']<br/><strong>B</strong>: ['Kimber', 'M. S.', 'Vallee', 'F.', 'Houston', 'S.', 'Necakov', 'A.', 'Skarina', 'T.', 'Evdokimova', 'E.', 'Beasley', 'S.', 'Christendat', 'D.', 'Savchenko', 'A.', 'Arrowsmith', 'C. H.', 'Vedadi', 'M.', 'Gerstein', 'M.', 'Edwards', 'A. M.', '2003', '51', '562', '568']</p>\n",
       "</blockquote>\n",
       "<p>2 more</p>\n",
       "<h4>grobid-tei [0 : 0] cermine (167)</h4>\n",
       "<p>There are 167 samples where both grobid-tei and cermine got it wrong.</p>\n",
       "<blockquote>\n",
       "<p><code>aas0055-0039.nxml</code> \"Phosphate-containing dialysis solution prevents hypophosphatemia during continuous renal replacement therapy\"<br/><strong>E</strong>: ['1', 'Troyanov', 'S', 'Geadah', 'D', 'Ghannoum', 'M', 'Cardinal', 'J', 'Leblanc', 'M', 'Phosphate addition to hemodiafiltration solutions during continuous renal replacement therapy', 'Intensive Care Med', '2004', '30', '1662', '5', '15156308']<br/><strong>A</strong>: ['Phosphate addition to hemodiafiltration solutions during continuous renal replacement therapy', 'S', 'Troyanov', 'D', 'Geadah', 'M', 'Ghannoum', 'J', 'Cardinal', 'M', 'Leblanc', 'Intensive Care Med', '30', '', '', 'Troyanov S, Geadah D, Ghannoum M, Cardinal J, Leblanc M. Phosphate addition to hemodiafiltration solutions dur- ing continuous renal replacement therapy. Intensive Care Med 2004; 30: 1662-5.']<br/><strong>B</strong>: ['Troyanov', 'S', 'Geadah', 'D', 'Ghannoum', 'M', 'Cardinal', 'J', 'Leblanc', 'M.', 'Phosphate addition to hemodiafiltration solutions during continuous renal replacement therapy', 'Intensive Care Med', '2004', '30', '1662', '5']</p>\n",
       "<p><code>aas0055-0039.nxml</code> \"Phosphate-containing dialysis solution prevents hypophosphatemia during continuous renal replacement therapy\"<br/><strong>E</strong>: ['2', 'Marik', 'PE', 'Bedigian', 'MK', 'Refeeding hypophosphatemia in critically ill patients in an intensive care unit. A prospective study', 'Arch Surg', '1996', '131', '1043', '7', '8857900']<br/><strong>A</strong>: ['Refeeding hypophosphatemia in critically ill patients in an intensive care unit. A prospective study', 'P', 'E', 'Marik', 'M', 'K', 'Bedigian', 'Arch Surg', '131', '', '', 'Marik PE, Bedigian MK. Refeeding hypophosphatemia in critically ill patients in an intensive care unit. A prospective study. Arch Surg 1996; 131: 1043-7.']<br/><strong>B</strong>: ['Marik', 'PE', 'Bedigian', 'MK', 'Refeeding hypophosphatemia in critically ill patients in an intensive care unit. A prospective study', 'Arch Surg', '1996', '131', '1043', '7']</p>\n",
       "<p><code>aas0055-0039.nxml</code> \"Phosphate-containing dialysis solution prevents hypophosphatemia during continuous renal replacement therapy\"<br/><strong>E</strong>: ['3', 'Bugg', 'NC', 'Jones', 'JA', 'Hypophosphataemia. Pathophysiology, effects and management on the intensive care unit', 'Anaesthesia', '1998', '53', '895', '902', '9849285']<br/><strong>A</strong>: ['Pathophysiology, effects and management on the intensive care unit', 'N', 'C', 'Bugg', 'J', 'A', 'Jones', 'Hypophosphataemia', 'Anaesthesia', '53', '', '', 'Bugg NC, Jones JA. Hypophosphataemia. Pathophysiology, effects and management on the intensive care unit. Anaes- thesia 1998; 53: 895-902.']<br/><strong>B</strong>: ['Bugg', 'NC', 'Jones', 'JA', 'Hypophosphataemia. Pathophysiology, effects and management on the intensive care unit', 'Anaesthesia', '1998', '53', '895', '902']</p>\n",
       "</blockquote>\n",
       "<p>164 more</p></details>"
      ],
      "text/plain": [
       "<IPython.core.display.HTML object>"
      ]
     },
     "metadata": {},
     "output_type": "display_data"
    },
    {
     "data": {
      "text/html": [
       "<hr/>"
      ],
      "text/plain": [
       "<IPython.core.display.HTML object>"
      ]
     },
     "metadata": {},
     "output_type": "display_data"
    },
    {
     "data": {
      "text/html": [
       "<h1>Field: reference_title:partial_list</h1>"
      ],
      "text/plain": [
       "<IPython.core.display.HTML object>"
      ]
     },
     "metadata": {},
     "output_type": "display_data"
    },
    {
     "data": {
      "text/html": [
       "<h2>Dataset: pmc-sample-1943-cc-by-subset (reference_title:partial_list levenshtein)</h2>"
      ],
      "text/plain": [
       "<IPython.core.display.HTML object>"
      ]
     },
     "metadata": {},
     "output_type": "display_data"
    },
    {
     "data": {
      "text/html": [
       "<details><summary>Comparison: grobid-tei vs cermine</summary><p><strong>E</strong>: expected, <strong>A</strong>: pmc-sample-1943-cc-by-subset grobid-tei, <strong>B</strong>: pmc-sample-1943-cc-by-subset cermine (reference_title:partial_list levenshtein)</p>\n",
       "<h4>grobid-tei [0 : 1] cermine (34)</h4>\n",
       "<p>There are 34 samples where grobid-tei got it wrong, but cermine got it right.</p>\n",
       "<blockquote>\n",
       "<p><code>aas0055-0039.nxml</code> \"Phosphate-containing dialysis solution prevents hypophosphatemia during continuous renal replacement therapy\"<br/><strong>E</strong>: Hypophosphataemia. Pathophysiology, effects and management on the intensive care unit<br/><strong>A</strong>: Pathophysiology, effects and management on the intensive care unit</p>\n",
       "<p><code>aas0055-0039.nxml</code> \"Phosphate-containing dialysis solution prevents hypophosphatemia during continuous renal replacement therapy\"<br/><strong>E</strong>: Selection of dialysate and replacement fluids and management of electrolyte and acid–base disturbances<br/><strong>A</strong>: Address: Dr Marcus Broman Department of Anaesthesiology and Intensive Care Lund University Hospital S-221 85</p>\n",
       "<p><code>sonc50-621.nxml</code> \"Management of cutaneous metastases using electrochemotherapy\"<br/><strong>E</strong>: Tumor invasion of the skin<br/><strong>A</strong>: nan</p>\n",
       "</blockquote>\n",
       "<p>31 more</p>\n",
       "<h4>grobid-tei [1 : 0] cermine (5)</h4>\n",
       "<p>There are 5 samples where grobid-tei got it right, but cermine got it wrong.</p>\n",
       "<blockquote>\n",
       "<p><code>sobs89-975.nxml</code> \"Camera trocar lifting in office gasless laparoscopic sterilization under local anesthesia\"<br/><strong>E</strong>: Minilaparotomy or laparoscopy for sterilization: a multicenter, multinational randomized study<br/><strong>B</strong>: Force on Female Sterilization. Minilaparotomy or laparoscopy for sterilization: a multicenter, multinational randomized study</p>\n",
       "<p><code>apa0100-0653.nxml</code> \"Placental programming of blood pressure in Indian children\"<br/><strong>E</strong>: All that glitters. Br Nutr Foundation Annual Lecture<br/><strong>B</strong>: All that glitters</p>\n",
       "<p><code>apa0100-0653.nxml</code> \"Placental programming of blood pressure in Indian children\"<br/><strong>E</strong>: The maternal and placental origins of chronic disease<br/><strong>B</strong>: The maternal and placental origins of chronic disease, The placenta and human developmental programming</p>\n",
       "</blockquote>\n",
       "<p>2 more</p>\n",
       "<h4>grobid-tei [0 : 0] cermine (3)</h4>\n",
       "<p>There are 3 samples where both grobid-tei and cermine got it wrong.</p>\n",
       "<blockquote>\n",
       "<p><code>sobs89-975.nxml</code> \"Camera trocar lifting in office gasless laparoscopic sterilization under local anesthesia\"<br/><strong>E</strong>: Laparoscopy. Gasless vs. CO2 pneumoperitoneum<br/><strong>A</strong>: Gasless vs. CO2 pneumoperitoneum<br/><strong>B</strong>: Gasless vs. CO2 pneumoperitoneum</p>\n",
       "<p><code>sonc50-621.nxml</code> \"Management of cutaneous metastases using electrochemotherapy\"<br/><strong>E</strong>: New guidelines to evaluate the response to treatment in solid tumors. European Organization for Research and Treatment of Cancer, National Cancer Institute of the United States, National Cancer Institute of Canada<br/><strong>A</strong>: Effi cient palliation of haemorrhaging [16] malignant melanoma skin metastases by electrochemotherapy<br/><strong>B</strong>: New guidelines to evaluate the response to treatment in solid tumors, National Cancer Institute of the United States, National Cancer Institute of Canada</p>\n",
       "<p><code>apa0100-0653.nxml</code> \"Placental programming of blood pressure in Indian children\"<br/><strong>E</strong>: The fourth report on the diagnosis, evaluation and treatment of high blood pressure in children and adolescents<br/><strong>A</strong>: National High Blood Pressure Educational Program Working Group on High Blood Pressure and Adolescents. The fourth report on the diagnosis, evaluation and treatment of high blood pressure in children and adolescents<br/><strong>B</strong>: Group on High Blood Pressure and Adolescents. The fourth report on the diagnosis, evaluation and treatment of high blood pressure in children and adolescents</p>\n",
       "</blockquote></details>"
      ],
      "text/plain": [
       "<IPython.core.display.HTML object>"
      ]
     },
     "metadata": {},
     "output_type": "display_data"
    },
    {
     "data": {
      "text/html": [
       "<h2>Dataset: pmc-sample-1943-cc-by-subset (reference_title:partial_list exact)</h2>"
      ],
      "text/plain": [
       "<IPython.core.display.HTML object>"
      ]
     },
     "metadata": {},
     "output_type": "display_data"
    },
    {
     "data": {
      "text/html": [
       "<details><summary>Comparison: grobid-tei vs cermine</summary><p><strong>E</strong>: expected, <strong>A</strong>: pmc-sample-1943-cc-by-subset grobid-tei, <strong>B</strong>: pmc-sample-1943-cc-by-subset cermine (reference_title:partial_list exact)</p>\n",
       "<h4>grobid-tei [0 : 1] cermine (33)</h4>\n",
       "<p>There are 33 samples where grobid-tei got it wrong, but cermine got it right.</p>\n",
       "<blockquote>\n",
       "<p><code>aas0055-0039.nxml</code> \"Phosphate-containing dialysis solution prevents hypophosphatemia during continuous renal replacement therapy\"<br/><strong>E</strong>: Hypophosphataemia. Pathophysiology, effects and management on the intensive care unit<br/><strong>A</strong>: Pathophysiology, effects and management on the intensive care unit</p>\n",
       "<p><code>aas0055-0039.nxml</code> \"Phosphate-containing dialysis solution prevents hypophosphatemia during continuous renal replacement therapy\"<br/><strong>E</strong>: Drug- and nutrition-induced hypophosphatemia: mechanisms and relevance in the critically ill<br/><strong>A</strong>: Drug-and nutrition-induced hypophosphatemia: mechanisms and relevance in the critically ill</p>\n",
       "<p><code>sonc50-621.nxml</code> \"Management of cutaneous metastases using electrochemotherapy\"<br/><strong>E</strong>: Tumor invasion of the skin<br/><strong>A</strong>: nan</p>\n",
       "</blockquote>\n",
       "<p>30 more</p>\n",
       "<h4>grobid-tei [1 : 0] cermine (8)</h4>\n",
       "<p>There are 8 samples where grobid-tei got it right, but cermine got it wrong.</p>\n",
       "<blockquote>\n",
       "<p><code>sobs89-975.nxml</code> \"Camera trocar lifting in office gasless laparoscopic sterilization under local anesthesia\"<br/><strong>E</strong>: Minilaparotomy or laparoscopy for sterilization: a multicenter, multinational randomized study<br/><strong>B</strong>: Force on Female Sterilization. Minilaparotomy or laparoscopy for sterilization: a multicenter, multinational randomized study</p>\n",
       "<p><code>sobs89-975.nxml</code> \"Camera trocar lifting in office gasless laparoscopic sterilization under local anesthesia\"<br/><strong>E</strong>: A comparative study of hysteroscopic sterilization versus laparoscopic tubal sterilization<br/><strong>B</strong>: SpOG. A comparative study of hysteroscopic sterilization versus laparoscopic tubal sterilization</p>\n",
       "<p><code>apa0100-0653.nxml</code> \"Placental programming of blood pressure in Indian children\"<br/><strong>E</strong>: All that glitters. Br Nutr Foundation Annual Lecture<br/><strong>B</strong>: All that glitters</p>\n",
       "</blockquote>\n",
       "<p>5 more</p>\n",
       "<h4>grobid-tei [0 : 0] cermine (11)</h4>\n",
       "<p>There are 11 samples where both grobid-tei and cermine got it wrong.</p>\n",
       "<blockquote>\n",
       "<p><code>aas0055-0039.nxml</code> \"Phosphate-containing dialysis solution prevents hypophosphatemia during continuous renal replacement therapy\"<br/><strong>E</strong>: A pilot randomised controlled comparison of continuous veno-venous haemofiltration and extended daily dialysis with filtration: effect on small solutes and acid-base balance<br/><strong>A</strong>: A pilot randomised controlled comparison of continuous venovenous haemofiltration and extended daily dialysis with filtration: effect on small solutes and acid-base balance<br/><strong>B</strong>: A pilot randomised controlled comparison of continuous venovenous haemofiltration and extended daily dialysis with filtration: effect on small solutes and acid-base balance</p>\n",
       "<p><code>aas0055-0039.nxml</code> \"Phosphate-containing dialysis solution prevents hypophosphatemia during continuous renal replacement therapy\"<br/><strong>E</strong>: Selection of dialysate and replacement fluids and management of electrolyte and acid–base disturbances<br/><strong>A</strong>: Address: Dr Marcus Broman Department of Anaesthesiology and Intensive Care Lund University Hospital S-221 85<br/><strong>B</strong>: Selection of dialysate and replacement fluids and management of electrolyte and acid-base disturbances</p>\n",
       "<p><code>sobs89-975.nxml</code> \"Camera trocar lifting in office gasless laparoscopic sterilization under local anesthesia\"<br/><strong>E</strong>: Laparoscopy. Gasless vs. CO2 pneumoperitoneum<br/><strong>A</strong>: Gasless vs. CO2 pneumoperitoneum<br/><strong>B</strong>: Gasless vs. CO2 pneumoperitoneum</p>\n",
       "</blockquote>\n",
       "<p>8 more</p></details>"
      ],
      "text/plain": [
       "<IPython.core.display.HTML object>"
      ]
     },
     "metadata": {},
     "output_type": "display_data"
    },
    {
     "data": {
      "text/html": [
       "<hr/>"
      ],
      "text/plain": [
       "<IPython.core.display.HTML object>"
      ]
     },
     "metadata": {},
     "output_type": "display_data"
    },
    {
     "data": {
      "text/html": [
       "<h1>Field: reference_title:partial_set</h1>"
      ],
      "text/plain": [
       "<IPython.core.display.HTML object>"
      ]
     },
     "metadata": {},
     "output_type": "display_data"
    },
    {
     "data": {
      "text/html": [
       "<h2>Dataset: pmc-sample-1943-cc-by-subset (reference_title:partial_set levenshtein)</h2>"
      ],
      "text/plain": [
       "<IPython.core.display.HTML object>"
      ]
     },
     "metadata": {},
     "output_type": "display_data"
    },
    {
     "data": {
      "text/html": [
       "<details><summary>Comparison: grobid-tei vs cermine</summary><p><strong>E</strong>: expected, <strong>A</strong>: pmc-sample-1943-cc-by-subset grobid-tei, <strong>B</strong>: pmc-sample-1943-cc-by-subset cermine (reference_title:partial_set levenshtein)</p>\n",
       "<h4>grobid-tei [0 : 1] cermine (9)</h4>\n",
       "<p>There are 9 samples where grobid-tei got it wrong, but cermine got it right.</p>\n",
       "<blockquote>\n",
       "<p><code>aas0055-0039.nxml</code> \"Phosphate-containing dialysis solution prevents hypophosphatemia during continuous renal replacement therapy\"<br/><strong>E</strong>: Hypophosphataemia. Pathophysiology, effects and management on the intensive care unit<br/><strong>A</strong>: Pathophysiology, effects and management on the intensive care unit</p>\n",
       "<p><code>aas0055-0039.nxml</code> \"Phosphate-containing dialysis solution prevents hypophosphatemia during continuous renal replacement therapy\"<br/><strong>E</strong>: Selection of dialysate and replacement fluids and management of electrolyte and acid–base disturbances<br/><strong>A</strong>: Address: Dr Marcus Broman Department of Anaesthesiology and Intensive Care Lund University Hospital S-221 85</p>\n",
       "<p><code>sonc50-621.nxml</code> \"Management of cutaneous metastases using electrochemotherapy\"<br/><strong>E</strong>: Cutaneous metastases in patients with metastatic carcinoma: A retrospective study of 4020 patients<br/><strong>A</strong>: in patients with metastatic carcinoma: A retrospective study of 4020 patients</p>\n",
       "</blockquote>\n",
       "<p>6 more</p>\n",
       "<h4>grobid-tei [1 : 0] cermine (6)</h4>\n",
       "<p>There are 6 samples where grobid-tei got it right, but cermine got it wrong.</p>\n",
       "<blockquote>\n",
       "<p><code>sobs89-975.nxml</code> \"Camera trocar lifting in office gasless laparoscopic sterilization under local anesthesia\"<br/><strong>E</strong>: Minilaparotomy or laparoscopy for sterilization: a multicenter, multinational randomized study<br/><strong>B</strong>: Force on Female Sterilization. Minilaparotomy or laparoscopy for sterilization: a multicenter, multinational randomized study</p>\n",
       "<p><code>sonc50-621.nxml</code> \"Management of cutaneous metastases using electrochemotherapy\"<br/><strong>E</strong>: New guidelines to evaluate the response to treatment in solid tumors. European Organization for Research and Treatment of Cancer, National Cancer Institute of the United States, National Cancer Institute of Canada<br/><strong>B</strong>: New guidelines to evaluate the response to treatment in solid tumors, National Cancer Institute of the United States, National Cancer Institute of Canada</p>\n",
       "<p><code>apa0100-0653.nxml</code> \"Placental programming of blood pressure in Indian children\"<br/><strong>E</strong>: All that glitters. Br Nutr Foundation Annual Lecture<br/><strong>B</strong>: The maternal and placental origins of chronic disease, The placenta and human developmental programming</p>\n",
       "</blockquote>\n",
       "<p>3 more</p>\n",
       "<h4>grobid-tei [0 : 0] cermine (2)</h4>\n",
       "<p>There are 2 samples where both grobid-tei and cermine got it wrong.</p>\n",
       "<blockquote>\n",
       "<p><code>sobs89-975.nxml</code> \"Camera trocar lifting in office gasless laparoscopic sterilization under local anesthesia\"<br/><strong>E</strong>: Laparoscopy. Gasless vs. CO2 pneumoperitoneum<br/><strong>A</strong>: Gasless vs. CO2 pneumoperitoneum<br/><strong>B</strong>: Gasless vs. CO2 pneumoperitoneum</p>\n",
       "<p><code>apa0100-0653.nxml</code> \"Placental programming of blood pressure in Indian children\"<br/><strong>E</strong>: The fourth report on the diagnosis, evaluation and treatment of high blood pressure in children and adolescents<br/><strong>A</strong>: National High Blood Pressure Educational Program Working Group on High Blood Pressure and Adolescents. The fourth report on the diagnosis, evaluation and treatment of high blood pressure in children and adolescents<br/><strong>B</strong>: Group on High Blood Pressure and Adolescents. The fourth report on the diagnosis, evaluation and treatment of high blood pressure in children and adolescents</p>\n",
       "</blockquote></details>"
      ],
      "text/plain": [
       "<IPython.core.display.HTML object>"
      ]
     },
     "metadata": {},
     "output_type": "display_data"
    },
    {
     "data": {
      "text/html": [
       "<h2>Dataset: pmc-sample-1943-cc-by-subset (reference_title:partial_set exact)</h2>"
      ],
      "text/plain": [
       "<IPython.core.display.HTML object>"
      ]
     },
     "metadata": {},
     "output_type": "display_data"
    },
    {
     "data": {
      "text/html": [
       "<details><summary>Comparison: grobid-tei vs cermine</summary><p><strong>E</strong>: expected, <strong>A</strong>: pmc-sample-1943-cc-by-subset grobid-tei, <strong>B</strong>: pmc-sample-1943-cc-by-subset cermine (reference_title:partial_set exact)</p>\n",
       "<h4>grobid-tei [0 : 1] cermine (14)</h4>\n",
       "<p>There are 14 samples where grobid-tei got it wrong, but cermine got it right.</p>\n",
       "<blockquote>\n",
       "<p><code>aas0055-0039.nxml</code> \"Phosphate-containing dialysis solution prevents hypophosphatemia during continuous renal replacement therapy\"<br/><strong>E</strong>: Drug- and nutrition-induced hypophosphatemia: mechanisms and relevance in the critically ill<br/><strong>A</strong>: Address: Dr Marcus Broman Department of Anaesthesiology and Intensive Care Lund University Hospital S-221 85</p>\n",
       "<p><code>aas0055-0039.nxml</code> \"Phosphate-containing dialysis solution prevents hypophosphatemia during continuous renal replacement therapy\"<br/><strong>E</strong>: Hypophosphataemia. Pathophysiology, effects and management on the intensive care unit<br/><strong>A</strong>: Drug-and nutrition-induced hypophosphatemia: mechanisms and relevance in the critically ill</p>\n",
       "<p><code>sonc50-621.nxml</code> \"Management of cutaneous metastases using electrochemotherapy\"<br/><strong>E</strong>: Bleomycin and hyperoxia exposure in the operating room<br/><strong>A</strong>: nan</p>\n",
       "</blockquote>\n",
       "<p>11 more</p>\n",
       "<h4>grobid-tei [1 : 0] cermine (10)</h4>\n",
       "<p>There are 10 samples where grobid-tei got it right, but cermine got it wrong.</p>\n",
       "<blockquote>\n",
       "<p><code>sobs89-975.nxml</code> \"Camera trocar lifting in office gasless laparoscopic sterilization under local anesthesia\"<br/><strong>E</strong>: A comparative study of hysteroscopic sterilization versus laparoscopic tubal sterilization<br/><strong>B</strong>: Force on Female Sterilization. Minilaparotomy or laparoscopy for sterilization: a multicenter, multinational randomized study</p>\n",
       "<p><code>sobs89-975.nxml</code> \"Camera trocar lifting in office gasless laparoscopic sterilization under local anesthesia\"<br/><strong>E</strong>: Minilaparotomy or laparoscopy for sterilization: a multicenter, multinational randomized study<br/><strong>B</strong>: SpOG. A comparative study of hysteroscopic sterilization versus laparoscopic tubal sterilization</p>\n",
       "<p><code>sonc50-621.nxml</code> \"Management of cutaneous metastases using electrochemotherapy\"<br/><strong>E</strong>: New guidelines to evaluate the response to treatment in solid tumors. European Organization for Research and Treatment of Cancer, National Cancer Institute of the United States, National Cancer Institute of Canada<br/><strong>B</strong>: Electrochemotherapy, a new antitumor treatment: first clinical trial]</p>\n",
       "</blockquote>\n",
       "<p>7 more</p>\n",
       "<h4>grobid-tei [0 : 0] cermine (9)</h4>\n",
       "<p>There are 9 samples where both grobid-tei and cermine got it wrong.</p>\n",
       "<blockquote>\n",
       "<p><code>aas0055-0039.nxml</code> \"Phosphate-containing dialysis solution prevents hypophosphatemia during continuous renal replacement therapy\"<br/><strong>E</strong>: A pilot randomised controlled comparison of continuous veno-venous haemofiltration and extended daily dialysis with filtration: effect on small solutes and acid-base balance<br/><strong>A</strong>: A pilot randomised controlled comparison of continuous venovenous haemofiltration and extended daily dialysis with filtration: effect on small solutes and acid-base balance<br/><strong>B</strong>: A pilot randomised controlled comparison of continuous venovenous haemofiltration and extended daily dialysis with filtration: effect on small solutes and acid-base balance</p>\n",
       "<p><code>aas0055-0039.nxml</code> \"Phosphate-containing dialysis solution prevents hypophosphatemia during continuous renal replacement therapy\"<br/><strong>E</strong>: Selection of dialysate and replacement fluids and management of electrolyte and acid–base disturbances<br/><strong>A</strong>: Pathophysiology, effects and management on the intensive care unit<br/><strong>B</strong>: Selection of dialysate and replacement fluids and management of electrolyte and acid-base disturbances</p>\n",
       "<p><code>sobs89-975.nxml</code> \"Camera trocar lifting in office gasless laparoscopic sterilization under local anesthesia\"<br/><strong>E</strong>: Laparoscopy. Gasless vs. CO2 pneumoperitoneum<br/><strong>A</strong>: Gasless vs. CO2 pneumoperitoneum<br/><strong>B</strong>: Gasless vs. CO2 pneumoperitoneum</p>\n",
       "</blockquote>\n",
       "<p>6 more</p></details>"
      ],
      "text/plain": [
       "<IPython.core.display.HTML object>"
      ]
     },
     "metadata": {},
     "output_type": "display_data"
    },
    {
     "data": {
      "text/html": [
       "<hr/>"
      ],
      "text/plain": [
       "<IPython.core.display.HTML object>"
      ]
     },
     "metadata": {},
     "output_type": "display_data"
    },
    {
     "data": {
      "text/html": [
       "<h1>Field: reference_title:partial_ulist</h1>"
      ],
      "text/plain": [
       "<IPython.core.display.HTML object>"
      ]
     },
     "metadata": {},
     "output_type": "display_data"
    },
    {
     "data": {
      "text/html": [
       "<h2>Dataset: pmc-sample-1943-cc-by-subset (reference_title:partial_ulist levenshtein)</h2>"
      ],
      "text/plain": [
       "<IPython.core.display.HTML object>"
      ]
     },
     "metadata": {},
     "output_type": "display_data"
    },
    {
     "data": {
      "text/html": [
       "<details><summary>Comparison: grobid-tei vs cermine</summary><p><strong>E</strong>: expected, <strong>A</strong>: pmc-sample-1943-cc-by-subset grobid-tei, <strong>B</strong>: pmc-sample-1943-cc-by-subset cermine (reference_title:partial_ulist levenshtein)</p>\n",
       "<h4>grobid-tei [0 : 1] cermine (9)</h4>\n",
       "<p>There are 9 samples where grobid-tei got it wrong, but cermine got it right.</p>\n",
       "<blockquote>\n",
       "<p><code>aas0055-0039.nxml</code> \"Phosphate-containing dialysis solution prevents hypophosphatemia during continuous renal replacement therapy\"<br/><strong>E</strong>: Hypophosphataemia. Pathophysiology, effects and management on the intensive care unit<br/><strong>A</strong>: Pathophysiology, effects and management on the intensive care unit</p>\n",
       "<p><code>aas0055-0039.nxml</code> \"Phosphate-containing dialysis solution prevents hypophosphatemia during continuous renal replacement therapy\"<br/><strong>E</strong>: Selection of dialysate and replacement fluids and management of electrolyte and acid–base disturbances<br/><strong>A</strong>: Address: Dr Marcus Broman Department of Anaesthesiology and Intensive Care Lund University Hospital S-221 85</p>\n",
       "<p><code>sonc50-621.nxml</code> \"Management of cutaneous metastases using electrochemotherapy\"<br/><strong>E</strong>: Tumor invasion of the skin<br/><strong>A</strong>: Aspects of preclinical development and early clinical experience</p>\n",
       "</blockquote>\n",
       "<p>6 more</p>\n",
       "<h4>grobid-tei [1 : 0] cermine (6)</h4>\n",
       "<p>There are 6 samples where grobid-tei got it right, but cermine got it wrong.</p>\n",
       "<blockquote>\n",
       "<p><code>sobs89-975.nxml</code> \"Camera trocar lifting in office gasless laparoscopic sterilization under local anesthesia\"<br/><strong>E</strong>: Minilaparotomy or laparoscopy for sterilization: a multicenter, multinational randomized study<br/><strong>B</strong>: Force on Female Sterilization. Minilaparotomy or laparoscopy for sterilization: a multicenter, multinational randomized study</p>\n",
       "<p><code>sonc50-621.nxml</code> \"Management of cutaneous metastases using electrochemotherapy\"<br/><strong>E</strong>: New guidelines to evaluate the response to treatment in solid tumors. European Organization for Research and Treatment of Cancer, National Cancer Institute of the United States, National Cancer Institute of Canada<br/><strong>B</strong>: New guidelines to evaluate the response to treatment in solid tumors, National Cancer Institute of the United States, National Cancer Institute of Canada</p>\n",
       "<p><code>apa0100-0653.nxml</code> \"Placental programming of blood pressure in Indian children\"<br/><strong>E</strong>: All that glitters. Br Nutr Foundation Annual Lecture<br/><strong>B</strong>: All that glitters</p>\n",
       "</blockquote>\n",
       "<p>3 more</p>\n",
       "<h4>grobid-tei [0 : 0] cermine (2)</h4>\n",
       "<p>There are 2 samples where both grobid-tei and cermine got it wrong.</p>\n",
       "<blockquote>\n",
       "<p><code>sobs89-975.nxml</code> \"Camera trocar lifting in office gasless laparoscopic sterilization under local anesthesia\"<br/><strong>E</strong>: Laparoscopy. Gasless vs. CO2 pneumoperitoneum<br/><strong>A</strong>: Gasless vs. CO2 pneumoperitoneum<br/><strong>B</strong>: Gasless vs. CO2 pneumoperitoneum</p>\n",
       "<p><code>apa0100-0653.nxml</code> \"Placental programming of blood pressure in Indian children\"<br/><strong>E</strong>: The fourth report on the diagnosis, evaluation and treatment of high blood pressure in children and adolescents<br/><strong>A</strong>: National High Blood Pressure Educational Program Working Group on High Blood Pressure and Adolescents. The fourth report on the diagnosis, evaluation and treatment of high blood pressure in children and adolescents<br/><strong>B</strong>: Group on High Blood Pressure and Adolescents. The fourth report on the diagnosis, evaluation and treatment of high blood pressure in children and adolescents</p>\n",
       "</blockquote></details>"
      ],
      "text/plain": [
       "<IPython.core.display.HTML object>"
      ]
     },
     "metadata": {},
     "output_type": "display_data"
    },
    {
     "data": {
      "text/html": [
       "<h2>Dataset: pmc-sample-1943-cc-by-subset (reference_title:partial_ulist exact)</h2>"
      ],
      "text/plain": [
       "<IPython.core.display.HTML object>"
      ]
     },
     "metadata": {},
     "output_type": "display_data"
    },
    {
     "data": {
      "text/html": [
       "<details><summary>Comparison: grobid-tei vs cermine</summary><p><strong>E</strong>: expected, <strong>A</strong>: pmc-sample-1943-cc-by-subset grobid-tei, <strong>B</strong>: pmc-sample-1943-cc-by-subset cermine (reference_title:partial_ulist exact)</p>\n",
       "<h4>grobid-tei [0 : 1] cermine (14)</h4>\n",
       "<p>There are 14 samples where grobid-tei got it wrong, but cermine got it right.</p>\n",
       "<blockquote>\n",
       "<p><code>aas0055-0039.nxml</code> \"Phosphate-containing dialysis solution prevents hypophosphatemia during continuous renal replacement therapy\"<br/><strong>E</strong>: Hypophosphataemia. Pathophysiology, effects and management on the intensive care unit<br/><strong>A</strong>: Pathophysiology, effects and management on the intensive care unit</p>\n",
       "<p><code>aas0055-0039.nxml</code> \"Phosphate-containing dialysis solution prevents hypophosphatemia during continuous renal replacement therapy\"<br/><strong>E</strong>: Drug- and nutrition-induced hypophosphatemia: mechanisms and relevance in the critically ill<br/><strong>A</strong>: Drug-and nutrition-induced hypophosphatemia: mechanisms and relevance in the critically ill</p>\n",
       "<p><code>sonc50-621.nxml</code> \"Management of cutaneous metastases using electrochemotherapy\"<br/><strong>E</strong>: Tumor invasion of the skin<br/><strong>A</strong>: nan</p>\n",
       "</blockquote>\n",
       "<p>11 more</p>\n",
       "<h4>grobid-tei [1 : 0] cermine (10)</h4>\n",
       "<p>There are 10 samples where grobid-tei got it right, but cermine got it wrong.</p>\n",
       "<blockquote>\n",
       "<p><code>sobs89-975.nxml</code> \"Camera trocar lifting in office gasless laparoscopic sterilization under local anesthesia\"<br/><strong>E</strong>: Minilaparotomy or laparoscopy for sterilization: a multicenter, multinational randomized study<br/><strong>B</strong>: Force on Female Sterilization. Minilaparotomy or laparoscopy for sterilization: a multicenter, multinational randomized study</p>\n",
       "<p><code>sobs89-975.nxml</code> \"Camera trocar lifting in office gasless laparoscopic sterilization under local anesthesia\"<br/><strong>E</strong>: A comparative study of hysteroscopic sterilization versus laparoscopic tubal sterilization<br/><strong>B</strong>: SpOG. A comparative study of hysteroscopic sterilization versus laparoscopic tubal sterilization</p>\n",
       "<p><code>sonc50-621.nxml</code> \"Management of cutaneous metastases using electrochemotherapy\"<br/><strong>E</strong>: New guidelines to evaluate the response to treatment in solid tumors. European Organization for Research and Treatment of Cancer, National Cancer Institute of the United States, National Cancer Institute of Canada<br/><strong>B</strong>: New guidelines to evaluate the response to treatment in solid tumors, National Cancer Institute of the United States, National Cancer Institute of Canada</p>\n",
       "</blockquote>\n",
       "<p>7 more</p>\n",
       "<h4>grobid-tei [0 : 0] cermine (9)</h4>\n",
       "<p>There are 9 samples where both grobid-tei and cermine got it wrong.</p>\n",
       "<blockquote>\n",
       "<p><code>aas0055-0039.nxml</code> \"Phosphate-containing dialysis solution prevents hypophosphatemia during continuous renal replacement therapy\"<br/><strong>E</strong>: A pilot randomised controlled comparison of continuous veno-venous haemofiltration and extended daily dialysis with filtration: effect on small solutes and acid-base balance<br/><strong>A</strong>: A pilot randomised controlled comparison of continuous venovenous haemofiltration and extended daily dialysis with filtration: effect on small solutes and acid-base balance<br/><strong>B</strong>: A pilot randomised controlled comparison of continuous venovenous haemofiltration and extended daily dialysis with filtration: effect on small solutes and acid-base balance</p>\n",
       "<p><code>aas0055-0039.nxml</code> \"Phosphate-containing dialysis solution prevents hypophosphatemia during continuous renal replacement therapy\"<br/><strong>E</strong>: Selection of dialysate and replacement fluids and management of electrolyte and acid–base disturbances<br/><strong>A</strong>: Address: Dr Marcus Broman Department of Anaesthesiology and Intensive Care Lund University Hospital S-221 85<br/><strong>B</strong>: Selection of dialysate and replacement fluids and management of electrolyte and acid-base disturbances</p>\n",
       "<p><code>sobs89-975.nxml</code> \"Camera trocar lifting in office gasless laparoscopic sterilization under local anesthesia\"<br/><strong>E</strong>: Laparoscopy. Gasless vs. CO2 pneumoperitoneum<br/><strong>A</strong>: Gasless vs. CO2 pneumoperitoneum<br/><strong>B</strong>: Gasless vs. CO2 pneumoperitoneum</p>\n",
       "</blockquote>\n",
       "<p>6 more</p></details>"
      ],
      "text/plain": [
       "<IPython.core.display.HTML object>"
      ]
     },
     "metadata": {},
     "output_type": "display_data"
    },
    {
     "data": {
      "text/html": [
       "<hr/>"
      ],
      "text/plain": [
       "<IPython.core.display.HTML object>"
      ]
     },
     "metadata": {},
     "output_type": "display_data"
    },
    {
     "data": {
      "text/html": [
       "<h1>Field: reference_year:partial_list</h1>"
      ],
      "text/plain": [
       "<IPython.core.display.HTML object>"
      ]
     },
     "metadata": {},
     "output_type": "display_data"
    },
    {
     "data": {
      "text/html": [
       "<h2>Dataset: pmc-sample-1943-cc-by-subset (reference_year:partial_list levenshtein)</h2>"
      ],
      "text/plain": [
       "<IPython.core.display.HTML object>"
      ]
     },
     "metadata": {},
     "output_type": "display_data"
    },
    {
     "data": {
      "text/html": [
       "<details><summary>Comparison: grobid-tei vs cermine</summary><p><strong>E</strong>: expected, <strong>A</strong>: pmc-sample-1943-cc-by-subset grobid-tei, <strong>B</strong>: pmc-sample-1943-cc-by-subset cermine (reference_year:partial_list levenshtein)</p>\n",
       "<h4>grobid-tei [0 : 1] cermine (57)</h4>\n",
       "<p>There are 57 samples where grobid-tei got it wrong, but cermine got it right.</p>\n",
       "<blockquote>\n",
       "<p><code>aas0055-0039.nxml</code> \"Phosphate-containing dialysis solution prevents hypophosphatemia during continuous renal replacement therapy\"<br/><strong>E</strong>: 1999<br/><strong>A</strong>: 0198</p>\n",
       "<p><code>sonc50-621.nxml</code> \"Management of cutaneous metastases using electrochemotherapy\"<br/><strong>E</strong>: 1995<br/><strong>A</strong>: 2001</p>\n",
       "<p><code>sonc50-621.nxml</code> \"Management of cutaneous metastases using electrochemotherapy\"<br/><strong>E</strong>: 1995<br/><strong>A</strong>: 2001</p>\n",
       "</blockquote>\n",
       "<p>54 more</p>\n",
       "<h4>grobid-tei [1 : 0] cermine (3)</h4>\n",
       "<p>There are 3 samples where grobid-tei got it right, but cermine got it wrong.</p>\n",
       "<blockquote>\n",
       "<p><code>apha0202-0379.nxml</code> \"On the function of the mammalian renal papilla and the peristalsis of the surrounding pelvis\"<br/><strong>E</strong>: 1944<br/><strong>B</strong>: nan</p>\n",
       "<p><code>apha0202-0379.nxml</code> \"On the function of the mammalian renal papilla and the peristalsis of the surrounding pelvis\"<br/><strong>E</strong>: 1964<br/><strong>B</strong>: nan</p>\n",
       "<p><code>apha0202-0379.nxml</code> \"On the function of the mammalian renal papilla and the peristalsis of the surrounding pelvis\"<br/><strong>E</strong>: 1973<br/><strong>B</strong>: nan</p>\n",
       "</blockquote>\n",
       "<h4>grobid-tei [0 : 0] cermine (890)</h4>\n",
       "<p>There are 890 samples where both grobid-tei and cermine got it wrong.</p>\n",
       "<blockquote>\n",
       "<p><code>d-67-00463.nxml</code> \"Pi sampling: a methodical and flexible approach to initial macromolecular crystallization screening\"<br/><strong>E</strong>: nan<br/><strong>A</strong>: 2006<br/><strong>B</strong>: 2006</p>\n",
       "<p><code>d-67-00463.nxml</code> \"Pi sampling: a methodical and flexible approach to initial macromolecular crystallization screening\"<br/><strong>E</strong>: nan<br/><strong>A</strong>: 2006<br/><strong>B</strong>: 2007</p>\n",
       "<p><code>d-67-00463.nxml</code> \"Pi sampling: a methodical and flexible approach to initial macromolecular crystallization screening\"<br/><strong>E</strong>: nan<br/><strong>A</strong>: 2006<br/><strong>B</strong>: 2001</p>\n",
       "</blockquote>\n",
       "<p>887 more</p></details>"
      ],
      "text/plain": [
       "<IPython.core.display.HTML object>"
      ]
     },
     "metadata": {},
     "output_type": "display_data"
    },
    {
     "data": {
      "text/html": [
       "<h2>Dataset: pmc-sample-1943-cc-by-subset (reference_year:partial_list exact)</h2>"
      ],
      "text/plain": [
       "<IPython.core.display.HTML object>"
      ]
     },
     "metadata": {},
     "output_type": "display_data"
    },
    {
     "data": {
      "text/html": [
       "<details><summary>Comparison: grobid-tei vs cermine</summary><p><strong>E</strong>: expected, <strong>A</strong>: pmc-sample-1943-cc-by-subset grobid-tei, <strong>B</strong>: pmc-sample-1943-cc-by-subset cermine (reference_year:partial_list exact)</p>\n",
       "<h4>grobid-tei [0 : 1] cermine (57)</h4>\n",
       "<p>There are 57 samples where grobid-tei got it wrong, but cermine got it right.</p>\n",
       "<blockquote>\n",
       "<p><code>aas0055-0039.nxml</code> \"Phosphate-containing dialysis solution prevents hypophosphatemia during continuous renal replacement therapy\"<br/><strong>E</strong>: 1999<br/><strong>A</strong>: 0198</p>\n",
       "<p><code>sonc50-621.nxml</code> \"Management of cutaneous metastases using electrochemotherapy\"<br/><strong>E</strong>: 1995<br/><strong>A</strong>: 2001</p>\n",
       "<p><code>sonc50-621.nxml</code> \"Management of cutaneous metastases using electrochemotherapy\"<br/><strong>E</strong>: 1995<br/><strong>A</strong>: 2001</p>\n",
       "</blockquote>\n",
       "<p>54 more</p>\n",
       "<h4>grobid-tei [1 : 0] cermine (3)</h4>\n",
       "<p>There are 3 samples where grobid-tei got it right, but cermine got it wrong.</p>\n",
       "<blockquote>\n",
       "<p><code>apha0202-0379.nxml</code> \"On the function of the mammalian renal papilla and the peristalsis of the surrounding pelvis\"<br/><strong>E</strong>: 1944<br/><strong>B</strong>: nan</p>\n",
       "<p><code>apha0202-0379.nxml</code> \"On the function of the mammalian renal papilla and the peristalsis of the surrounding pelvis\"<br/><strong>E</strong>: 1964<br/><strong>B</strong>: nan</p>\n",
       "<p><code>apha0202-0379.nxml</code> \"On the function of the mammalian renal papilla and the peristalsis of the surrounding pelvis\"<br/><strong>E</strong>: 1973<br/><strong>B</strong>: nan</p>\n",
       "</blockquote>\n",
       "<h4>grobid-tei [0 : 0] cermine (890)</h4>\n",
       "<p>There are 890 samples where both grobid-tei and cermine got it wrong.</p>\n",
       "<blockquote>\n",
       "<p><code>d-67-00463.nxml</code> \"Pi sampling: a methodical and flexible approach to initial macromolecular crystallization screening\"<br/><strong>E</strong>: nan<br/><strong>A</strong>: 2006<br/><strong>B</strong>: 2006</p>\n",
       "<p><code>d-67-00463.nxml</code> \"Pi sampling: a methodical and flexible approach to initial macromolecular crystallization screening\"<br/><strong>E</strong>: nan<br/><strong>A</strong>: 2006<br/><strong>B</strong>: 2007</p>\n",
       "<p><code>d-67-00463.nxml</code> \"Pi sampling: a methodical and flexible approach to initial macromolecular crystallization screening\"<br/><strong>E</strong>: nan<br/><strong>A</strong>: 2006<br/><strong>B</strong>: 2001</p>\n",
       "</blockquote>\n",
       "<p>887 more</p></details>"
      ],
      "text/plain": [
       "<IPython.core.display.HTML object>"
      ]
     },
     "metadata": {},
     "output_type": "display_data"
    },
    {
     "data": {
      "text/html": [
       "<hr/>"
      ],
      "text/plain": [
       "<IPython.core.display.HTML object>"
      ]
     },
     "metadata": {},
     "output_type": "display_data"
    },
    {
     "data": {
      "text/html": [
       "<h1>Field: reference_year:partial_set</h1>"
      ],
      "text/plain": [
       "<IPython.core.display.HTML object>"
      ]
     },
     "metadata": {},
     "output_type": "display_data"
    },
    {
     "data": {
      "text/html": [
       "<h2>Dataset: pmc-sample-1943-cc-by-subset (reference_year:partial_set levenshtein)</h2>"
      ],
      "text/plain": [
       "<IPython.core.display.HTML object>"
      ]
     },
     "metadata": {},
     "output_type": "display_data"
    },
    {
     "data": {
      "text/html": [
       "<details><summary>Comparison: grobid-tei vs cermine</summary><p><strong>E</strong>: expected, <strong>A</strong>: pmc-sample-1943-cc-by-subset grobid-tei, <strong>B</strong>: pmc-sample-1943-cc-by-subset cermine (reference_year:partial_set levenshtein)</p>\n",
       "<h4>grobid-tei [0 : 1] cermine (2)</h4>\n",
       "<p>There are 2 samples where grobid-tei got it wrong, but cermine got it right.</p>\n",
       "<blockquote>\n",
       "<p><code>aas0055-0039.nxml</code> \"Phosphate-containing dialysis solution prevents hypophosphatemia during continuous renal replacement therapy\"<br/><strong>E</strong>: 1999<br/><strong>A</strong>: 0198</p>\n",
       "<p><code>sonc50-621.nxml</code> \"Management of cutaneous metastases using electrochemotherapy\"<br/><strong>E</strong>: 2009<br/><strong>A</strong>: nan</p>\n",
       "</blockquote>\n",
       "<h4>grobid-tei [1 : 0] cermine (3)</h4>\n",
       "<p>There are 3 samples where grobid-tei got it right, but cermine got it wrong.</p>\n",
       "<blockquote>\n",
       "<p><code>apha0202-0379.nxml</code> \"On the function of the mammalian renal papilla and the peristalsis of the surrounding pelvis\"<br/><strong>E</strong>: 1944<br/><strong>B</strong>: nan</p>\n",
       "<p><code>apha0202-0379.nxml</code> \"On the function of the mammalian renal papilla and the peristalsis of the surrounding pelvis\"<br/><strong>E</strong>: 1964<br/><strong>B</strong>: nan</p>\n",
       "<p><code>apha0202-0379.nxml</code> \"On the function of the mammalian renal papilla and the peristalsis of the surrounding pelvis\"<br/><strong>E</strong>: 1973<br/><strong>B</strong>: nan</p>\n",
       "</blockquote>\n",
       "<h4>grobid-tei [0 : 0] cermine (562)</h4>\n",
       "<p>There are 562 samples where both grobid-tei and cermine got it wrong.</p>\n",
       "<blockquote>\n",
       "<p><code>d-67-00463.nxml</code> \"Pi sampling: a methodical and flexible approach to initial macromolecular crystallization screening\"<br/><strong>E</strong>: nan<br/><strong>A</strong>: 1958<br/><strong>B</strong>: 1958</p>\n",
       "<p><code>d-67-00463.nxml</code> \"Pi sampling: a methodical and flexible approach to initial macromolecular crystallization screening\"<br/><strong>E</strong>: nan<br/><strong>A</strong>: 1958<br/><strong>B</strong>: 1976</p>\n",
       "<p><code>d-67-00463.nxml</code> \"Pi sampling: a methodical and flexible approach to initial macromolecular crystallization screening\"<br/><strong>E</strong>: nan<br/><strong>A</strong>: 1958<br/><strong>B</strong>: 1979</p>\n",
       "</blockquote>\n",
       "<p>559 more</p></details>"
      ],
      "text/plain": [
       "<IPython.core.display.HTML object>"
      ]
     },
     "metadata": {},
     "output_type": "display_data"
    },
    {
     "data": {
      "text/html": [
       "<h2>Dataset: pmc-sample-1943-cc-by-subset (reference_year:partial_set exact)</h2>"
      ],
      "text/plain": [
       "<IPython.core.display.HTML object>"
      ]
     },
     "metadata": {},
     "output_type": "display_data"
    },
    {
     "data": {
      "text/html": [
       "<details><summary>Comparison: grobid-tei vs cermine</summary><p><strong>E</strong>: expected, <strong>A</strong>: pmc-sample-1943-cc-by-subset grobid-tei, <strong>B</strong>: pmc-sample-1943-cc-by-subset cermine (reference_year:partial_set exact)</p>\n",
       "<h4>grobid-tei [0 : 1] cermine (2)</h4>\n",
       "<p>There are 2 samples where grobid-tei got it wrong, but cermine got it right.</p>\n",
       "<blockquote>\n",
       "<p><code>aas0055-0039.nxml</code> \"Phosphate-containing dialysis solution prevents hypophosphatemia during continuous renal replacement therapy\"<br/><strong>E</strong>: 1999<br/><strong>A</strong>: 0198</p>\n",
       "<p><code>sonc50-621.nxml</code> \"Management of cutaneous metastases using electrochemotherapy\"<br/><strong>E</strong>: 2009<br/><strong>A</strong>: nan</p>\n",
       "</blockquote>\n",
       "<h4>grobid-tei [1 : 0] cermine (3)</h4>\n",
       "<p>There are 3 samples where grobid-tei got it right, but cermine got it wrong.</p>\n",
       "<blockquote>\n",
       "<p><code>apha0202-0379.nxml</code> \"On the function of the mammalian renal papilla and the peristalsis of the surrounding pelvis\"<br/><strong>E</strong>: 1944<br/><strong>B</strong>: nan</p>\n",
       "<p><code>apha0202-0379.nxml</code> \"On the function of the mammalian renal papilla and the peristalsis of the surrounding pelvis\"<br/><strong>E</strong>: 1964<br/><strong>B</strong>: nan</p>\n",
       "<p><code>apha0202-0379.nxml</code> \"On the function of the mammalian renal papilla and the peristalsis of the surrounding pelvis\"<br/><strong>E</strong>: 1973<br/><strong>B</strong>: nan</p>\n",
       "</blockquote>\n",
       "<h4>grobid-tei [0 : 0] cermine (562)</h4>\n",
       "<p>There are 562 samples where both grobid-tei and cermine got it wrong.</p>\n",
       "<blockquote>\n",
       "<p><code>d-67-00463.nxml</code> \"Pi sampling: a methodical and flexible approach to initial macromolecular crystallization screening\"<br/><strong>E</strong>: nan<br/><strong>A</strong>: 1958<br/><strong>B</strong>: 1958</p>\n",
       "<p><code>d-67-00463.nxml</code> \"Pi sampling: a methodical and flexible approach to initial macromolecular crystallization screening\"<br/><strong>E</strong>: nan<br/><strong>A</strong>: 1958<br/><strong>B</strong>: 1976</p>\n",
       "<p><code>d-67-00463.nxml</code> \"Pi sampling: a methodical and flexible approach to initial macromolecular crystallization screening\"<br/><strong>E</strong>: nan<br/><strong>A</strong>: 1958<br/><strong>B</strong>: 1979</p>\n",
       "</blockquote>\n",
       "<p>559 more</p></details>"
      ],
      "text/plain": [
       "<IPython.core.display.HTML object>"
      ]
     },
     "metadata": {},
     "output_type": "display_data"
    },
    {
     "data": {
      "text/html": [
       "<hr/>"
      ],
      "text/plain": [
       "<IPython.core.display.HTML object>"
      ]
     },
     "metadata": {},
     "output_type": "display_data"
    },
    {
     "data": {
      "text/html": [
       "<h1>Field: reference_year:partial_ulist</h1>"
      ],
      "text/plain": [
       "<IPython.core.display.HTML object>"
      ]
     },
     "metadata": {},
     "output_type": "display_data"
    },
    {
     "data": {
      "text/html": [
       "<h2>Dataset: pmc-sample-1943-cc-by-subset (reference_year:partial_ulist levenshtein)</h2>"
      ],
      "text/plain": [
       "<IPython.core.display.HTML object>"
      ]
     },
     "metadata": {},
     "output_type": "display_data"
    },
    {
     "data": {
      "text/html": [
       "<details><summary>Comparison: grobid-tei vs cermine</summary><p><strong>E</strong>: expected, <strong>A</strong>: pmc-sample-1943-cc-by-subset grobid-tei, <strong>B</strong>: pmc-sample-1943-cc-by-subset cermine (reference_year:partial_ulist levenshtein)</p>\n",
       "<h4>grobid-tei [0 : 1] cermine (6)</h4>\n",
       "<p>There are 6 samples where grobid-tei got it wrong, but cermine got it right.</p>\n",
       "<blockquote>\n",
       "<p><code>aas0055-0039.nxml</code> \"Phosphate-containing dialysis solution prevents hypophosphatemia during continuous renal replacement therapy\"<br/><strong>E</strong>: 1999<br/><strong>A</strong>: 0198</p>\n",
       "<p><code>sonc50-621.nxml</code> \"Management of cutaneous metastases using electrochemotherapy\"<br/><strong>E</strong>: 2008<br/><strong>A</strong>: nan</p>\n",
       "<p><code>sonc50-621.nxml</code> \"Management of cutaneous metastases using electrochemotherapy\"<br/><strong>E</strong>: 2008<br/><strong>A</strong>: nan</p>\n",
       "</blockquote>\n",
       "<p>3 more</p>\n",
       "<h4>grobid-tei [1 : 0] cermine (3)</h4>\n",
       "<p>There are 3 samples where grobid-tei got it right, but cermine got it wrong.</p>\n",
       "<blockquote>\n",
       "<p><code>apha0202-0379.nxml</code> \"On the function of the mammalian renal papilla and the peristalsis of the surrounding pelvis\"<br/><strong>E</strong>: 1944<br/><strong>B</strong>: nan</p>\n",
       "<p><code>apha0202-0379.nxml</code> \"On the function of the mammalian renal papilla and the peristalsis of the surrounding pelvis\"<br/><strong>E</strong>: 1964<br/><strong>B</strong>: nan</p>\n",
       "<p><code>apha0202-0379.nxml</code> \"On the function of the mammalian renal papilla and the peristalsis of the surrounding pelvis\"<br/><strong>E</strong>: 1973<br/><strong>B</strong>: nan</p>\n",
       "</blockquote>\n",
       "<h4>grobid-tei [0 : 0] cermine (890)</h4>\n",
       "<p>There are 890 samples where both grobid-tei and cermine got it wrong.</p>\n",
       "<blockquote>\n",
       "<p><code>d-67-00463.nxml</code> \"Pi sampling: a methodical and flexible approach to initial macromolecular crystallization screening\"<br/><strong>E</strong>: nan<br/><strong>A</strong>: 2006<br/><strong>B</strong>: 2006</p>\n",
       "<p><code>d-67-00463.nxml</code> \"Pi sampling: a methodical and flexible approach to initial macromolecular crystallization screening\"<br/><strong>E</strong>: nan<br/><strong>A</strong>: 2006<br/><strong>B</strong>: 2007</p>\n",
       "<p><code>d-67-00463.nxml</code> \"Pi sampling: a methodical and flexible approach to initial macromolecular crystallization screening\"<br/><strong>E</strong>: nan<br/><strong>A</strong>: 2006<br/><strong>B</strong>: 2001</p>\n",
       "</blockquote>\n",
       "<p>887 more</p></details>"
      ],
      "text/plain": [
       "<IPython.core.display.HTML object>"
      ]
     },
     "metadata": {},
     "output_type": "display_data"
    },
    {
     "data": {
      "text/html": [
       "<h2>Dataset: pmc-sample-1943-cc-by-subset (reference_year:partial_ulist exact)</h2>"
      ],
      "text/plain": [
       "<IPython.core.display.HTML object>"
      ]
     },
     "metadata": {},
     "output_type": "display_data"
    },
    {
     "data": {
      "text/html": [
       "<details><summary>Comparison: grobid-tei vs cermine</summary><p><strong>E</strong>: expected, <strong>A</strong>: pmc-sample-1943-cc-by-subset grobid-tei, <strong>B</strong>: pmc-sample-1943-cc-by-subset cermine (reference_year:partial_ulist exact)</p>\n",
       "<h4>grobid-tei [0 : 1] cermine (6)</h4>\n",
       "<p>There are 6 samples where grobid-tei got it wrong, but cermine got it right.</p>\n",
       "<blockquote>\n",
       "<p><code>aas0055-0039.nxml</code> \"Phosphate-containing dialysis solution prevents hypophosphatemia during continuous renal replacement therapy\"<br/><strong>E</strong>: 1999<br/><strong>A</strong>: 0198</p>\n",
       "<p><code>sonc50-621.nxml</code> \"Management of cutaneous metastases using electrochemotherapy\"<br/><strong>E</strong>: 2008<br/><strong>A</strong>: nan</p>\n",
       "<p><code>sonc50-621.nxml</code> \"Management of cutaneous metastases using electrochemotherapy\"<br/><strong>E</strong>: 2008<br/><strong>A</strong>: nan</p>\n",
       "</blockquote>\n",
       "<p>3 more</p>\n",
       "<h4>grobid-tei [1 : 0] cermine (3)</h4>\n",
       "<p>There are 3 samples where grobid-tei got it right, but cermine got it wrong.</p>\n",
       "<blockquote>\n",
       "<p><code>apha0202-0379.nxml</code> \"On the function of the mammalian renal papilla and the peristalsis of the surrounding pelvis\"<br/><strong>E</strong>: 1944<br/><strong>B</strong>: nan</p>\n",
       "<p><code>apha0202-0379.nxml</code> \"On the function of the mammalian renal papilla and the peristalsis of the surrounding pelvis\"<br/><strong>E</strong>: 1964<br/><strong>B</strong>: nan</p>\n",
       "<p><code>apha0202-0379.nxml</code> \"On the function of the mammalian renal papilla and the peristalsis of the surrounding pelvis\"<br/><strong>E</strong>: 1973<br/><strong>B</strong>: nan</p>\n",
       "</blockquote>\n",
       "<h4>grobid-tei [0 : 0] cermine (890)</h4>\n",
       "<p>There are 890 samples where both grobid-tei and cermine got it wrong.</p>\n",
       "<blockquote>\n",
       "<p><code>d-67-00463.nxml</code> \"Pi sampling: a methodical and flexible approach to initial macromolecular crystallization screening\"<br/><strong>E</strong>: nan<br/><strong>A</strong>: 2006<br/><strong>B</strong>: 2006</p>\n",
       "<p><code>d-67-00463.nxml</code> \"Pi sampling: a methodical and flexible approach to initial macromolecular crystallization screening\"<br/><strong>E</strong>: nan<br/><strong>A</strong>: 2006<br/><strong>B</strong>: 2007</p>\n",
       "<p><code>d-67-00463.nxml</code> \"Pi sampling: a methodical and flexible approach to initial macromolecular crystallization screening\"<br/><strong>E</strong>: nan<br/><strong>A</strong>: 2006<br/><strong>B</strong>: 2001</p>\n",
       "</blockquote>\n",
       "<p>887 more</p></details>"
      ],
      "text/plain": [
       "<IPython.core.display.HTML object>"
      ]
     },
     "metadata": {},
     "output_type": "display_data"
    },
    {
     "data": {
      "text/html": [
       "<hr/>"
      ],
      "text/plain": [
       "<IPython.core.display.HTML object>"
      ]
     },
     "metadata": {},
     "output_type": "display_data"
    },
    {
     "data": {
      "text/html": [
       "<h1>Field: reference_source:partial_list</h1>"
      ],
      "text/plain": [
       "<IPython.core.display.HTML object>"
      ]
     },
     "metadata": {},
     "output_type": "display_data"
    },
    {
     "data": {
      "text/html": [
       "<h2>Dataset: pmc-sample-1943-cc-by-subset (reference_source:partial_list levenshtein)</h2>"
      ],
      "text/plain": [
       "<IPython.core.display.HTML object>"
      ]
     },
     "metadata": {},
     "output_type": "display_data"
    },
    {
     "data": {
      "text/html": [
       "<details><summary>Comparison: grobid-tei vs cermine</summary><p><strong>E</strong>: expected, <strong>A</strong>: pmc-sample-1943-cc-by-subset grobid-tei, <strong>B</strong>: pmc-sample-1943-cc-by-subset cermine (reference_source:partial_list levenshtein)</p>\n",
       "<h4>grobid-tei [0 : 1] cermine (51)</h4>\n",
       "<p>There are 51 samples where grobid-tei got it wrong, but cermine got it right.</p>\n",
       "<blockquote>\n",
       "<p><code>sobs89-975.nxml</code> \"Camera trocar lifting in office gasless laparoscopic sterilization under local anesthesia\"<br/><strong>E</strong>: Am J Obstet Gynecol<br/><strong>A</strong>: WHO Task Force on Female Sterilization</p>\n",
       "<p><code>sonc50-621.nxml</code> \"Management of cutaneous metastases using electrochemotherapy\"<br/><strong>E</strong>: J Am Acad Dermatol<br/><strong>A</strong>: J Am Acad</p>\n",
       "<p><code>sonc50-621.nxml</code> \"Management of cutaneous metastases using electrochemotherapy\"<br/><strong>E</strong>: J Am Acad Dermatol<br/><strong>A</strong>: J Am Acad</p>\n",
       "</blockquote>\n",
       "<p>48 more</p>\n",
       "<h4>grobid-tei [1 : 0] cermine (9)</h4>\n",
       "<p>There are 9 samples where grobid-tei got it right, but cermine got it wrong.</p>\n",
       "<blockquote>\n",
       "<p><code>aas0055-0039.nxml</code> \"Phosphate-containing dialysis solution prevents hypophosphatemia during continuous renal replacement therapy\"<br/><strong>E</strong>: Clinical methods<br/><strong>B</strong>: Clinical methods. London: Butterworth Publishers</p>\n",
       "<p><code>apa0100-0653.nxml</code> \"Placental programming of blood pressure in Indian children\"<br/><strong>E</strong>: Mothers, babies and disease in later life<br/><strong>B</strong>: nan</p>\n",
       "<p><code>apa0100-0653.nxml</code> \"Placental programming of blood pressure in Indian children\"<br/><strong>E</strong>: Nutr Bull<br/><strong>B</strong>: Br Nutr Foundation Annual Lecture. Nutr Bull</p>\n",
       "</blockquote>\n",
       "<p>6 more</p>\n",
       "<h4>grobid-tei [0 : 0] cermine (895)</h4>\n",
       "<p>There are 895 samples where both grobid-tei and cermine got it wrong.</p>\n",
       "<blockquote>\n",
       "<p><code>d-67-00463.nxml</code> \"Pi sampling: a methodical and flexible approach to initial macromolecular crystallization screening\"<br/><strong>E</strong>: nan<br/><strong>A</strong>: J. Appl. Cryst<br/><strong>B</strong>: J. Appl. Cryst</p>\n",
       "<p><code>d-67-00463.nxml</code> \"Pi sampling: a methodical and flexible approach to initial macromolecular crystallization screening\"<br/><strong>E</strong>: nan<br/><strong>A</strong>: J. Appl. Cryst<br/><strong>B</strong>: Methods Mol. Biol</p>\n",
       "<p><code>d-67-00463.nxml</code> \"Pi sampling: a methodical and flexible approach to initial macromolecular crystallization screening\"<br/><strong>E</strong>: nan<br/><strong>A</strong>: J. Appl. Cryst<br/><strong>B</strong>: J. Appl. Cryst</p>\n",
       "</blockquote>\n",
       "<p>892 more</p></details>"
      ],
      "text/plain": [
       "<IPython.core.display.HTML object>"
      ]
     },
     "metadata": {},
     "output_type": "display_data"
    },
    {
     "data": {
      "text/html": [
       "<h2>Dataset: pmc-sample-1943-cc-by-subset (reference_source:partial_list exact)</h2>"
      ],
      "text/plain": [
       "<IPython.core.display.HTML object>"
      ]
     },
     "metadata": {},
     "output_type": "display_data"
    },
    {
     "data": {
      "text/html": [
       "<details><summary>Comparison: grobid-tei vs cermine</summary><p><strong>E</strong>: expected, <strong>A</strong>: pmc-sample-1943-cc-by-subset grobid-tei, <strong>B</strong>: pmc-sample-1943-cc-by-subset cermine (reference_source:partial_list exact)</p>\n",
       "<h4>grobid-tei [0 : 1] cermine (51)</h4>\n",
       "<p>There are 51 samples where grobid-tei got it wrong, but cermine got it right.</p>\n",
       "<blockquote>\n",
       "<p><code>sobs89-975.nxml</code> \"Camera trocar lifting in office gasless laparoscopic sterilization under local anesthesia\"<br/><strong>E</strong>: Am J Obstet Gynecol<br/><strong>A</strong>: WHO Task Force on Female Sterilization</p>\n",
       "<p><code>sonc50-621.nxml</code> \"Management of cutaneous metastases using electrochemotherapy\"<br/><strong>E</strong>: J Am Acad Dermatol<br/><strong>A</strong>: J Am Acad</p>\n",
       "<p><code>sonc50-621.nxml</code> \"Management of cutaneous metastases using electrochemotherapy\"<br/><strong>E</strong>: J Am Acad Dermatol<br/><strong>A</strong>: J Am Acad</p>\n",
       "</blockquote>\n",
       "<p>48 more</p>\n",
       "<h4>grobid-tei [1 : 0] cermine (8)</h4>\n",
       "<p>There are 8 samples where grobid-tei got it right, but cermine got it wrong.</p>\n",
       "<blockquote>\n",
       "<p><code>aas0055-0039.nxml</code> \"Phosphate-containing dialysis solution prevents hypophosphatemia during continuous renal replacement therapy\"<br/><strong>E</strong>: Clinical methods<br/><strong>B</strong>: Clinical methods. London: Butterworth Publishers</p>\n",
       "<p><code>apa0100-0653.nxml</code> \"Placental programming of blood pressure in Indian children\"<br/><strong>E</strong>: Mothers, babies and disease in later life<br/><strong>B</strong>: nan</p>\n",
       "<p><code>apa0100-0653.nxml</code> \"Placental programming of blood pressure in Indian children\"<br/><strong>E</strong>: Nutr Bull<br/><strong>B</strong>: Br Nutr Foundation Annual Lecture. Nutr Bull</p>\n",
       "</blockquote>\n",
       "<p>5 more</p>\n",
       "<h4>grobid-tei [0 : 0] cermine (896)</h4>\n",
       "<p>There are 896 samples where both grobid-tei and cermine got it wrong.</p>\n",
       "<blockquote>\n",
       "<p><code>d-67-00463.nxml</code> \"Pi sampling: a methodical and flexible approach to initial macromolecular crystallization screening\"<br/><strong>E</strong>: nan<br/><strong>A</strong>: J. Appl. Cryst<br/><strong>B</strong>: J. Appl. Cryst</p>\n",
       "<p><code>d-67-00463.nxml</code> \"Pi sampling: a methodical and flexible approach to initial macromolecular crystallization screening\"<br/><strong>E</strong>: nan<br/><strong>A</strong>: J. Appl. Cryst<br/><strong>B</strong>: Methods Mol. Biol</p>\n",
       "<p><code>d-67-00463.nxml</code> \"Pi sampling: a methodical and flexible approach to initial macromolecular crystallization screening\"<br/><strong>E</strong>: nan<br/><strong>A</strong>: J. Appl. Cryst<br/><strong>B</strong>: J. Appl. Cryst</p>\n",
       "</blockquote>\n",
       "<p>893 more</p></details>"
      ],
      "text/plain": [
       "<IPython.core.display.HTML object>"
      ]
     },
     "metadata": {},
     "output_type": "display_data"
    },
    {
     "data": {
      "text/html": [
       "<hr/>"
      ],
      "text/plain": [
       "<IPython.core.display.HTML object>"
      ]
     },
     "metadata": {},
     "output_type": "display_data"
    },
    {
     "data": {
      "text/html": [
       "<h1>Field: reference_source:partial_set</h1>"
      ],
      "text/plain": [
       "<IPython.core.display.HTML object>"
      ]
     },
     "metadata": {},
     "output_type": "display_data"
    },
    {
     "data": {
      "text/html": [
       "<h2>Dataset: pmc-sample-1943-cc-by-subset (reference_source:partial_set levenshtein)</h2>"
      ],
      "text/plain": [
       "<IPython.core.display.HTML object>"
      ]
     },
     "metadata": {},
     "output_type": "display_data"
    },
    {
     "data": {
      "text/html": [
       "<details><summary>Comparison: grobid-tei vs cermine</summary><p><strong>E</strong>: expected, <strong>A</strong>: pmc-sample-1943-cc-by-subset grobid-tei, <strong>B</strong>: pmc-sample-1943-cc-by-subset cermine (reference_source:partial_set levenshtein)</p>\n",
       "<h4>grobid-tei [0 : 1] cermine (3)</h4>\n",
       "<p>There are 3 samples where grobid-tei got it wrong, but cermine got it right.</p>\n",
       "<blockquote>\n",
       "<p><code>sobs89-975.nxml</code> \"Camera trocar lifting in office gasless laparoscopic sterilization under local anesthesia\"<br/><strong>E</strong>: Am J Obstet Gynecol<br/><strong>A</strong>: WHO Task Force on Female Sterilization</p>\n",
       "<p><code>sonc50-621.nxml</code> \"Management of cutaneous metastases using electrochemotherapy\"<br/><strong>E</strong>: Ann Surg Oncol<br/><strong>A</strong>: J Am Acad</p>\n",
       "<p><code>sonc50-621.nxml</code> \"Management of cutaneous metastases using electrochemotherapy\"<br/><strong>E</strong>: Dermatol Clin<br/><strong>A</strong>: tol Clin</p>\n",
       "</blockquote>\n",
       "<h4>grobid-tei [1 : 0] cermine (10)</h4>\n",
       "<p>There are 10 samples where grobid-tei got it right, but cermine got it wrong.</p>\n",
       "<blockquote>\n",
       "<p><code>aas0055-0039.nxml</code> \"Phosphate-containing dialysis solution prevents hypophosphatemia during continuous renal replacement therapy\"<br/><strong>E</strong>: Clinical methods<br/><strong>B</strong>: Clinical methods. London: Butterworth Publishers</p>\n",
       "<p><code>sonc50-621.nxml</code> \"Management of cutaneous metastases using electrochemotherapy\"<br/><strong>E</strong>: C R Acad Sci III<br/><strong>B</strong>: European Organization for Research and Treatment of Cancer, J Natl Cancer Inst</p>\n",
       "<p><code>sonc50-621.nxml</code> \"Management of cutaneous metastases using electrochemotherapy\"<br/><strong>E</strong>: J Natl Cancer Inst<br/><strong>B</strong>: nan</p>\n",
       "</blockquote>\n",
       "<p>7 more</p>\n",
       "<h4>grobid-tei [0 : 0] cermine (521)</h4>\n",
       "<p>There are 521 samples where both grobid-tei and cermine got it wrong.</p>\n",
       "<blockquote>\n",
       "<p><code>d-67-00463.nxml</code> \"Pi sampling: a methodical and flexible approach to initial macromolecular crystallization screening\"<br/><strong>E</strong>: nan<br/><strong>A</strong>: Acta Cryst<br/><strong>B</strong>: nan</p>\n",
       "<p><code>d-67-00463.nxml</code> \"Pi sampling: a methodical and flexible approach to initial macromolecular crystallization screening\"<br/><strong>E</strong>: nan<br/><strong>A</strong>: Acta Cryst<br/><strong>B</strong>: Acta Cryst. D58</p>\n",
       "<p><code>d-67-00463.nxml</code> \"Pi sampling: a methodical and flexible approach to initial macromolecular crystallization screening\"<br/><strong>E</strong>: nan<br/><strong>A</strong>: Acta Cryst<br/><strong>B</strong>: Acta Cryst. D67</p>\n",
       "</blockquote>\n",
       "<p>518 more</p></details>"
      ],
      "text/plain": [
       "<IPython.core.display.HTML object>"
      ]
     },
     "metadata": {},
     "output_type": "display_data"
    },
    {
     "data": {
      "text/html": [
       "<h2>Dataset: pmc-sample-1943-cc-by-subset (reference_source:partial_set exact)</h2>"
      ],
      "text/plain": [
       "<IPython.core.display.HTML object>"
      ]
     },
     "metadata": {},
     "output_type": "display_data"
    },
    {
     "data": {
      "text/html": [
       "<details><summary>Comparison: grobid-tei vs cermine</summary><p><strong>E</strong>: expected, <strong>A</strong>: pmc-sample-1943-cc-by-subset grobid-tei, <strong>B</strong>: pmc-sample-1943-cc-by-subset cermine (reference_source:partial_set exact)</p>\n",
       "<h4>grobid-tei [0 : 1] cermine (3)</h4>\n",
       "<p>There are 3 samples where grobid-tei got it wrong, but cermine got it right.</p>\n",
       "<blockquote>\n",
       "<p><code>sobs89-975.nxml</code> \"Camera trocar lifting in office gasless laparoscopic sterilization under local anesthesia\"<br/><strong>E</strong>: Am J Obstet Gynecol<br/><strong>A</strong>: WHO Task Force on Female Sterilization</p>\n",
       "<p><code>sonc50-621.nxml</code> \"Management of cutaneous metastases using electrochemotherapy\"<br/><strong>E</strong>: Ann Surg Oncol<br/><strong>A</strong>: nan</p>\n",
       "<p><code>sonc50-621.nxml</code> \"Management of cutaneous metastases using electrochemotherapy\"<br/><strong>E</strong>: Dermatol Clin<br/><strong>A</strong>: J Am Acad</p>\n",
       "</blockquote>\n",
       "<h4>grobid-tei [1 : 0] cermine (9)</h4>\n",
       "<p>There are 9 samples where grobid-tei got it right, but cermine got it wrong.</p>\n",
       "<blockquote>\n",
       "<p><code>aas0055-0039.nxml</code> \"Phosphate-containing dialysis solution prevents hypophosphatemia during continuous renal replacement therapy\"<br/><strong>E</strong>: Clinical methods<br/><strong>B</strong>: Clinical methods. London: Butterworth Publishers</p>\n",
       "<p><code>sonc50-621.nxml</code> \"Management of cutaneous metastases using electrochemotherapy\"<br/><strong>E</strong>: C R Acad Sci III<br/><strong>B</strong>: nan</p>\n",
       "<p><code>sonc50-621.nxml</code> \"Management of cutaneous metastases using electrochemotherapy\"<br/><strong>E</strong>: J Natl Cancer Inst<br/><strong>B</strong>: European Organization for Research and Treatment of Cancer, J Natl Cancer Inst</p>\n",
       "</blockquote>\n",
       "<p>6 more</p>\n",
       "<h4>grobid-tei [0 : 0] cermine (522)</h4>\n",
       "<p>There are 522 samples where both grobid-tei and cermine got it wrong.</p>\n",
       "<blockquote>\n",
       "<p><code>d-67-00463.nxml</code> \"Pi sampling: a methodical and flexible approach to initial macromolecular crystallization screening\"<br/><strong>E</strong>: nan<br/><strong>A</strong>: Acta Cryst<br/><strong>B</strong>: nan</p>\n",
       "<p><code>d-67-00463.nxml</code> \"Pi sampling: a methodical and flexible approach to initial macromolecular crystallization screening\"<br/><strong>E</strong>: nan<br/><strong>A</strong>: Acta Cryst<br/><strong>B</strong>: Acta Cryst. D58</p>\n",
       "<p><code>d-67-00463.nxml</code> \"Pi sampling: a methodical and flexible approach to initial macromolecular crystallization screening\"<br/><strong>E</strong>: nan<br/><strong>A</strong>: Acta Cryst<br/><strong>B</strong>: Acta Cryst. D67</p>\n",
       "</blockquote>\n",
       "<p>519 more</p></details>"
      ],
      "text/plain": [
       "<IPython.core.display.HTML object>"
      ]
     },
     "metadata": {},
     "output_type": "display_data"
    },
    {
     "data": {
      "text/html": [
       "<hr/>"
      ],
      "text/plain": [
       "<IPython.core.display.HTML object>"
      ]
     },
     "metadata": {},
     "output_type": "display_data"
    },
    {
     "data": {
      "text/html": [
       "<h1>Field: reference_source:partial_ulist</h1>"
      ],
      "text/plain": [
       "<IPython.core.display.HTML object>"
      ]
     },
     "metadata": {},
     "output_type": "display_data"
    },
    {
     "data": {
      "text/html": [
       "<h2>Dataset: pmc-sample-1943-cc-by-subset (reference_source:partial_ulist levenshtein)</h2>"
      ],
      "text/plain": [
       "<IPython.core.display.HTML object>"
      ]
     },
     "metadata": {},
     "output_type": "display_data"
    },
    {
     "data": {
      "text/html": [
       "<details><summary>Comparison: grobid-tei vs cermine</summary><p><strong>E</strong>: expected, <strong>A</strong>: pmc-sample-1943-cc-by-subset grobid-tei, <strong>B</strong>: pmc-sample-1943-cc-by-subset cermine (reference_source:partial_ulist levenshtein)</p>\n",
       "<h4>grobid-tei [0 : 1] cermine (9)</h4>\n",
       "<p>There are 9 samples where grobid-tei got it wrong, but cermine got it right.</p>\n",
       "<blockquote>\n",
       "<p><code>sobs89-975.nxml</code> \"Camera trocar lifting in office gasless laparoscopic sterilization under local anesthesia\"<br/><strong>E</strong>: Am J Obstet Gynecol<br/><strong>A</strong>: WHO Task Force on Female Sterilization</p>\n",
       "<p><code>sonc50-621.nxml</code> \"Management of cutaneous metastases using electrochemotherapy\"<br/><strong>E</strong>: J Am Acad Dermatol<br/><strong>A</strong>: J Am Acad</p>\n",
       "<p><code>sonc50-621.nxml</code> \"Management of cutaneous metastases using electrochemotherapy\"<br/><strong>E</strong>: J Am Acad Dermatol<br/><strong>A</strong>: J Am Acad</p>\n",
       "</blockquote>\n",
       "<p>6 more</p>\n",
       "<h4>grobid-tei [1 : 0] cermine (11)</h4>\n",
       "<p>There are 11 samples where grobid-tei got it right, but cermine got it wrong.</p>\n",
       "<blockquote>\n",
       "<p><code>aas0055-0039.nxml</code> \"Phosphate-containing dialysis solution prevents hypophosphatemia during continuous renal replacement therapy\"<br/><strong>E</strong>: Clinical methods<br/><strong>B</strong>: Clinical methods. London: Butterworth Publishers</p>\n",
       "<p><code>sonc50-621.nxml</code> \"Management of cutaneous metastases using electrochemotherapy\"<br/><strong>E</strong>: J Natl Cancer Inst<br/><strong>B</strong>: European Organization for Research and Treatment of Cancer, J Natl Cancer Inst</p>\n",
       "<p><code>sonc50-621.nxml</code> \"Management of cutaneous metastases using electrochemotherapy\"<br/><strong>E</strong>: C R Acad Sci III<br/><strong>B</strong>: nan</p>\n",
       "</blockquote>\n",
       "<p>8 more</p>\n",
       "<h4>grobid-tei [0 : 0] cermine (893)</h4>\n",
       "<p>There are 893 samples where both grobid-tei and cermine got it wrong.</p>\n",
       "<blockquote>\n",
       "<p><code>d-67-00463.nxml</code> \"Pi sampling: a methodical and flexible approach to initial macromolecular crystallization screening\"<br/><strong>E</strong>: nan<br/><strong>A</strong>: J. Appl. Cryst<br/><strong>B</strong>: nan</p>\n",
       "<p><code>d-67-00463.nxml</code> \"Pi sampling: a methodical and flexible approach to initial macromolecular crystallization screening\"<br/><strong>E</strong>: nan<br/><strong>A</strong>: J. Appl. Cryst<br/><strong>B</strong>: nan</p>\n",
       "<p><code>d-67-00463.nxml</code> \"Pi sampling: a methodical and flexible approach to initial macromolecular crystallization screening\"<br/><strong>E</strong>: nan<br/><strong>A</strong>: J. Appl. Cryst<br/><strong>B</strong>: nan</p>\n",
       "</blockquote>\n",
       "<p>890 more</p></details>"
      ],
      "text/plain": [
       "<IPython.core.display.HTML object>"
      ]
     },
     "metadata": {},
     "output_type": "display_data"
    },
    {
     "data": {
      "text/html": [
       "<h2>Dataset: pmc-sample-1943-cc-by-subset (reference_source:partial_ulist exact)</h2>"
      ],
      "text/plain": [
       "<IPython.core.display.HTML object>"
      ]
     },
     "metadata": {},
     "output_type": "display_data"
    },
    {
     "data": {
      "text/html": [
       "<details><summary>Comparison: grobid-tei vs cermine</summary><p><strong>E</strong>: expected, <strong>A</strong>: pmc-sample-1943-cc-by-subset grobid-tei, <strong>B</strong>: pmc-sample-1943-cc-by-subset cermine (reference_source:partial_ulist exact)</p>\n",
       "<h4>grobid-tei [0 : 1] cermine (9)</h4>\n",
       "<p>There are 9 samples where grobid-tei got it wrong, but cermine got it right.</p>\n",
       "<blockquote>\n",
       "<p><code>sobs89-975.nxml</code> \"Camera trocar lifting in office gasless laparoscopic sterilization under local anesthesia\"<br/><strong>E</strong>: Am J Obstet Gynecol<br/><strong>A</strong>: WHO Task Force on Female Sterilization</p>\n",
       "<p><code>sonc50-621.nxml</code> \"Management of cutaneous metastases using electrochemotherapy\"<br/><strong>E</strong>: J Am Acad Dermatol<br/><strong>A</strong>: Tumor invasion of the skin</p>\n",
       "<p><code>sonc50-621.nxml</code> \"Management of cutaneous metastases using electrochemotherapy\"<br/><strong>E</strong>: J Am Acad Dermatol<br/><strong>A</strong>: Tumor invasion of the skin</p>\n",
       "</blockquote>\n",
       "<p>6 more</p>\n",
       "<h4>grobid-tei [1 : 0] cermine (10)</h4>\n",
       "<p>There are 10 samples where grobid-tei got it right, but cermine got it wrong.</p>\n",
       "<blockquote>\n",
       "<p><code>aas0055-0039.nxml</code> \"Phosphate-containing dialysis solution prevents hypophosphatemia during continuous renal replacement therapy\"<br/><strong>E</strong>: Clinical methods<br/><strong>B</strong>: Clinical methods. London: Butterworth Publishers</p>\n",
       "<p><code>sonc50-621.nxml</code> \"Management of cutaneous metastases using electrochemotherapy\"<br/><strong>E</strong>: J Natl Cancer Inst<br/><strong>B</strong>: European Organization for Research and Treatment of Cancer, J Natl Cancer Inst</p>\n",
       "<p><code>sonc50-621.nxml</code> \"Management of cutaneous metastases using electrochemotherapy\"<br/><strong>E</strong>: C R Acad Sci III<br/><strong>B</strong>: nan</p>\n",
       "</blockquote>\n",
       "<p>7 more</p>\n",
       "<h4>grobid-tei [0 : 0] cermine (894)</h4>\n",
       "<p>There are 894 samples where both grobid-tei and cermine got it wrong.</p>\n",
       "<blockquote>\n",
       "<p><code>d-67-00463.nxml</code> \"Pi sampling: a methodical and flexible approach to initial macromolecular crystallization screening\"<br/><strong>E</strong>: nan<br/><strong>A</strong>: J. Appl. Cryst<br/><strong>B</strong>: nan</p>\n",
       "<p><code>d-67-00463.nxml</code> \"Pi sampling: a methodical and flexible approach to initial macromolecular crystallization screening\"<br/><strong>E</strong>: nan<br/><strong>A</strong>: J. Appl. Cryst<br/><strong>B</strong>: nan</p>\n",
       "<p><code>d-67-00463.nxml</code> \"Pi sampling: a methodical and flexible approach to initial macromolecular crystallization screening\"<br/><strong>E</strong>: nan<br/><strong>A</strong>: J. Appl. Cryst<br/><strong>B</strong>: nan</p>\n",
       "</blockquote>\n",
       "<p>891 more</p></details>"
      ],
      "text/plain": [
       "<IPython.core.display.HTML object>"
      ]
     },
     "metadata": {},
     "output_type": "display_data"
    },
    {
     "data": {
      "text/html": [
       "<hr/>"
      ],
      "text/plain": [
       "<IPython.core.display.HTML object>"
      ]
     },
     "metadata": {},
     "output_type": "display_data"
    },
    {
     "data": {
      "text/html": [
       "<h1>Field: reference_publication_type:partial_list</h1>"
      ],
      "text/plain": [
       "<IPython.core.display.HTML object>"
      ]
     },
     "metadata": {},
     "output_type": "display_data"
    },
    {
     "data": {
      "text/html": [
       "<h2>Dataset: pmc-sample-1943-cc-by-subset (reference_publication_type:partial_list levenshtein)</h2>"
      ],
      "text/plain": [
       "<IPython.core.display.HTML object>"
      ]
     },
     "metadata": {},
     "output_type": "display_data"
    },
    {
     "data": {
      "text/html": [
       "<details><summary>Comparison: grobid-tei vs cermine</summary><p><strong>E</strong>: expected, <strong>A</strong>: pmc-sample-1943-cc-by-subset grobid-tei, <strong>B</strong>: pmc-sample-1943-cc-by-subset cermine (reference_publication_type:partial_list levenshtein)</p>\n",
       "<h4>grobid-tei [0 : 1] cermine (0)</h4>\n",
       "<p>There are 0 samples where grobid-tei got it wrong, but cermine got it right.</p>\n",
       "<h4>grobid-tei [1 : 0] cermine (2577)</h4>\n",
       "<p>There are 2577 samples where grobid-tei got it right, but cermine got it wrong.</p>\n",
       "<blockquote>\n",
       "<p><code>aas0055-0039.nxml</code> \"Phosphate-containing dialysis solution prevents hypophosphatemia during continuous renal replacement therapy\"<br/><strong>E</strong>: journal<br/><strong>B</strong>: nan</p>\n",
       "<p><code>aas0055-0039.nxml</code> \"Phosphate-containing dialysis solution prevents hypophosphatemia during continuous renal replacement therapy\"<br/><strong>E</strong>: journal<br/><strong>B</strong>: nan</p>\n",
       "<p><code>aas0055-0039.nxml</code> \"Phosphate-containing dialysis solution prevents hypophosphatemia during continuous renal replacement therapy\"<br/><strong>E</strong>: journal<br/><strong>B</strong>: nan</p>\n",
       "</blockquote>\n",
       "<p>2574 more</p>\n",
       "<h4>grobid-tei [0 : 0] cermine (1169)</h4>\n",
       "<p>There are 1169 samples where both grobid-tei and cermine got it wrong.</p>\n",
       "<blockquote>\n",
       "<p><code>d-67-00463.nxml</code> \"Pi sampling: a methodical and flexible approach to initial macromolecular crystallization screening\"<br/><strong>E</strong>: other<br/><strong>A</strong>: journal<br/><strong>B</strong>: nan</p>\n",
       "<p><code>d-67-00463.nxml</code> \"Pi sampling: a methodical and flexible approach to initial macromolecular crystallization screening\"<br/><strong>E</strong>: other<br/><strong>A</strong>: journal<br/><strong>B</strong>: nan</p>\n",
       "<p><code>d-67-00463.nxml</code> \"Pi sampling: a methodical and flexible approach to initial macromolecular crystallization screening\"<br/><strong>E</strong>: other<br/><strong>A</strong>: journal<br/><strong>B</strong>: nan</p>\n",
       "</blockquote>\n",
       "<p>1166 more</p></details>"
      ],
      "text/plain": [
       "<IPython.core.display.HTML object>"
      ]
     },
     "metadata": {},
     "output_type": "display_data"
    },
    {
     "data": {
      "text/html": [
       "<h2>Dataset: pmc-sample-1943-cc-by-subset (reference_publication_type:partial_list exact)</h2>"
      ],
      "text/plain": [
       "<IPython.core.display.HTML object>"
      ]
     },
     "metadata": {},
     "output_type": "display_data"
    },
    {
     "data": {
      "text/html": [
       "<details><summary>Comparison: grobid-tei vs cermine</summary><p><strong>E</strong>: expected, <strong>A</strong>: pmc-sample-1943-cc-by-subset grobid-tei, <strong>B</strong>: pmc-sample-1943-cc-by-subset cermine (reference_publication_type:partial_list exact)</p>\n",
       "<h4>grobid-tei [0 : 1] cermine (0)</h4>\n",
       "<p>There are 0 samples where grobid-tei got it wrong, but cermine got it right.</p>\n",
       "<h4>grobid-tei [1 : 0] cermine (2577)</h4>\n",
       "<p>There are 2577 samples where grobid-tei got it right, but cermine got it wrong.</p>\n",
       "<blockquote>\n",
       "<p><code>aas0055-0039.nxml</code> \"Phosphate-containing dialysis solution prevents hypophosphatemia during continuous renal replacement therapy\"<br/><strong>E</strong>: journal<br/><strong>B</strong>: nan</p>\n",
       "<p><code>aas0055-0039.nxml</code> \"Phosphate-containing dialysis solution prevents hypophosphatemia during continuous renal replacement therapy\"<br/><strong>E</strong>: journal<br/><strong>B</strong>: nan</p>\n",
       "<p><code>aas0055-0039.nxml</code> \"Phosphate-containing dialysis solution prevents hypophosphatemia during continuous renal replacement therapy\"<br/><strong>E</strong>: journal<br/><strong>B</strong>: nan</p>\n",
       "</blockquote>\n",
       "<p>2574 more</p>\n",
       "<h4>grobid-tei [0 : 0] cermine (1169)</h4>\n",
       "<p>There are 1169 samples where both grobid-tei and cermine got it wrong.</p>\n",
       "<blockquote>\n",
       "<p><code>d-67-00463.nxml</code> \"Pi sampling: a methodical and flexible approach to initial macromolecular crystallization screening\"<br/><strong>E</strong>: other<br/><strong>A</strong>: journal<br/><strong>B</strong>: nan</p>\n",
       "<p><code>d-67-00463.nxml</code> \"Pi sampling: a methodical and flexible approach to initial macromolecular crystallization screening\"<br/><strong>E</strong>: other<br/><strong>A</strong>: journal<br/><strong>B</strong>: nan</p>\n",
       "<p><code>d-67-00463.nxml</code> \"Pi sampling: a methodical and flexible approach to initial macromolecular crystallization screening\"<br/><strong>E</strong>: other<br/><strong>A</strong>: journal<br/><strong>B</strong>: nan</p>\n",
       "</blockquote>\n",
       "<p>1166 more</p></details>"
      ],
      "text/plain": [
       "<IPython.core.display.HTML object>"
      ]
     },
     "metadata": {},
     "output_type": "display_data"
    },
    {
     "data": {
      "text/html": [
       "<hr/>"
      ],
      "text/plain": [
       "<IPython.core.display.HTML object>"
      ]
     },
     "metadata": {},
     "output_type": "display_data"
    },
    {
     "data": {
      "text/html": [
       "<h1>Field: reference_publication_type:partial_set</h1>"
      ],
      "text/plain": [
       "<IPython.core.display.HTML object>"
      ]
     },
     "metadata": {},
     "output_type": "display_data"
    },
    {
     "data": {
      "text/html": [
       "<h2>Dataset: pmc-sample-1943-cc-by-subset (reference_publication_type:partial_set levenshtein)</h2>"
      ],
      "text/plain": [
       "<IPython.core.display.HTML object>"
      ]
     },
     "metadata": {},
     "output_type": "display_data"
    },
    {
     "data": {
      "text/html": [
       "<details><summary>Comparison: grobid-tei vs cermine</summary><p><strong>E</strong>: expected, <strong>A</strong>: pmc-sample-1943-cc-by-subset grobid-tei, <strong>B</strong>: pmc-sample-1943-cc-by-subset cermine (reference_publication_type:partial_set levenshtein)</p>\n",
       "<h4>grobid-tei [0 : 1] cermine (0)</h4>\n",
       "<p>There are 0 samples where grobid-tei got it wrong, but cermine got it right.</p>\n",
       "<h4>grobid-tei [1 : 0] cermine (10)</h4>\n",
       "<p>There are 10 samples where grobid-tei got it right, but cermine got it wrong.</p>\n",
       "<blockquote>\n",
       "<p><code>aas0055-0039.nxml</code> \"Phosphate-containing dialysis solution prevents hypophosphatemia during continuous renal replacement therapy\"<br/><strong>E</strong>: book<br/><strong>B</strong>: nan</p>\n",
       "<p><code>aas0055-0039.nxml</code> \"Phosphate-containing dialysis solution prevents hypophosphatemia during continuous renal replacement therapy\"<br/><strong>E</strong>: journal<br/><strong>B</strong>: nan</p>\n",
       "<p><code>sobs89-975.nxml</code> \"Camera trocar lifting in office gasless laparoscopic sterilization under local anesthesia\"<br/><strong>E</strong>: journal<br/><strong>B</strong>: nan</p>\n",
       "</blockquote>\n",
       "<p>7 more</p>\n",
       "<h4>grobid-tei [0 : 0] cermine (3)</h4>\n",
       "<p>There are 3 samples where both grobid-tei and cermine got it wrong.</p>\n",
       "<blockquote>\n",
       "<p><code>d-67-00463.nxml</code> \"Pi sampling: a methodical and flexible approach to initial macromolecular crystallization screening\"<br/><strong>E</strong>: other<br/><strong>A</strong>: journal<br/><strong>B</strong>: nan</p>\n",
       "<p><code>e-67-o1363.nxml</code> \"3-Allyl-1-{[3-(4-nitro­phen­yl)-4,5-dihydro-1,3-oxazol-5-yl]meth­yl}-1H-anthra[1,2-d]imidazole-2,6,11(3H)-trione\"<br/><strong>E</strong>: other<br/><strong>A</strong>: journal<br/><strong>B</strong>: nan</p>\n",
       "<p><code>f-67-00344.nxml</code> \"Refolding, crystallization and preliminary X-ray crystallographic study of the whole extracellular regions of nectins\"<br/><strong>E</strong>: other<br/><strong>A</strong>: journal<br/><strong>B</strong>: nan</p>\n",
       "</blockquote></details>"
      ],
      "text/plain": [
       "<IPython.core.display.HTML object>"
      ]
     },
     "metadata": {},
     "output_type": "display_data"
    },
    {
     "data": {
      "text/html": [
       "<h2>Dataset: pmc-sample-1943-cc-by-subset (reference_publication_type:partial_set exact)</h2>"
      ],
      "text/plain": [
       "<IPython.core.display.HTML object>"
      ]
     },
     "metadata": {},
     "output_type": "display_data"
    },
    {
     "data": {
      "text/html": [
       "<details><summary>Comparison: grobid-tei vs cermine</summary><p><strong>E</strong>: expected, <strong>A</strong>: pmc-sample-1943-cc-by-subset grobid-tei, <strong>B</strong>: pmc-sample-1943-cc-by-subset cermine (reference_publication_type:partial_set exact)</p>\n",
       "<h4>grobid-tei [0 : 1] cermine (0)</h4>\n",
       "<p>There are 0 samples where grobid-tei got it wrong, but cermine got it right.</p>\n",
       "<h4>grobid-tei [1 : 0] cermine (10)</h4>\n",
       "<p>There are 10 samples where grobid-tei got it right, but cermine got it wrong.</p>\n",
       "<blockquote>\n",
       "<p><code>aas0055-0039.nxml</code> \"Phosphate-containing dialysis solution prevents hypophosphatemia during continuous renal replacement therapy\"<br/><strong>E</strong>: book<br/><strong>B</strong>: nan</p>\n",
       "<p><code>aas0055-0039.nxml</code> \"Phosphate-containing dialysis solution prevents hypophosphatemia during continuous renal replacement therapy\"<br/><strong>E</strong>: journal<br/><strong>B</strong>: nan</p>\n",
       "<p><code>sobs89-975.nxml</code> \"Camera trocar lifting in office gasless laparoscopic sterilization under local anesthesia\"<br/><strong>E</strong>: journal<br/><strong>B</strong>: nan</p>\n",
       "</blockquote>\n",
       "<p>7 more</p>\n",
       "<h4>grobid-tei [0 : 0] cermine (3)</h4>\n",
       "<p>There are 3 samples where both grobid-tei and cermine got it wrong.</p>\n",
       "<blockquote>\n",
       "<p><code>d-67-00463.nxml</code> \"Pi sampling: a methodical and flexible approach to initial macromolecular crystallization screening\"<br/><strong>E</strong>: other<br/><strong>A</strong>: book<br/><strong>B</strong>: nan</p>\n",
       "<p><code>e-67-o1363.nxml</code> \"3-Allyl-1-{[3-(4-nitro­phen­yl)-4,5-dihydro-1,3-oxazol-5-yl]meth­yl}-1H-anthra[1,2-d]imidazole-2,6,11(3H)-trione\"<br/><strong>E</strong>: other<br/><strong>A</strong>: journal<br/><strong>B</strong>: nan</p>\n",
       "<p><code>f-67-00344.nxml</code> \"Refolding, crystallization and preliminary X-ray crystallographic study of the whole extracellular regions of nectins\"<br/><strong>E</strong>: other<br/><strong>A</strong>: book<br/><strong>B</strong>: nan</p>\n",
       "</blockquote></details>"
      ],
      "text/plain": [
       "<IPython.core.display.HTML object>"
      ]
     },
     "metadata": {},
     "output_type": "display_data"
    },
    {
     "data": {
      "text/html": [
       "<hr/>"
      ],
      "text/plain": [
       "<IPython.core.display.HTML object>"
      ]
     },
     "metadata": {},
     "output_type": "display_data"
    },
    {
     "data": {
      "text/html": [
       "<h1>Field: reference_publication_type:partial_ulist</h1>"
      ],
      "text/plain": [
       "<IPython.core.display.HTML object>"
      ]
     },
     "metadata": {},
     "output_type": "display_data"
    },
    {
     "data": {
      "text/html": [
       "<h2>Dataset: pmc-sample-1943-cc-by-subset (reference_publication_type:partial_ulist levenshtein)</h2>"
      ],
      "text/plain": [
       "<IPython.core.display.HTML object>"
      ]
     },
     "metadata": {},
     "output_type": "display_data"
    },
    {
     "data": {
      "text/html": [
       "<details><summary>Comparison: grobid-tei vs cermine</summary><p><strong>E</strong>: expected, <strong>A</strong>: pmc-sample-1943-cc-by-subset grobid-tei, <strong>B</strong>: pmc-sample-1943-cc-by-subset cermine (reference_publication_type:partial_ulist levenshtein)</p>\n",
       "<h4>grobid-tei [0 : 1] cermine (0)</h4>\n",
       "<p>There are 0 samples where grobid-tei got it wrong, but cermine got it right.</p>\n",
       "<h4>grobid-tei [1 : 0] cermine (2735)</h4>\n",
       "<p>There are 2735 samples where grobid-tei got it right, but cermine got it wrong.</p>\n",
       "<blockquote>\n",
       "<p><code>aas0055-0039.nxml</code> \"Phosphate-containing dialysis solution prevents hypophosphatemia during continuous renal replacement therapy\"<br/><strong>E</strong>: journal<br/><strong>B</strong>: nan</p>\n",
       "<p><code>aas0055-0039.nxml</code> \"Phosphate-containing dialysis solution prevents hypophosphatemia during continuous renal replacement therapy\"<br/><strong>E</strong>: journal<br/><strong>B</strong>: nan</p>\n",
       "<p><code>aas0055-0039.nxml</code> \"Phosphate-containing dialysis solution prevents hypophosphatemia during continuous renal replacement therapy\"<br/><strong>E</strong>: journal<br/><strong>B</strong>: nan</p>\n",
       "</blockquote>\n",
       "<p>2732 more</p>\n",
       "<h4>grobid-tei [0 : 0] cermine (1011)</h4>\n",
       "<p>There are 1011 samples where both grobid-tei and cermine got it wrong.</p>\n",
       "<blockquote>\n",
       "<p><code>d-67-00463.nxml</code> \"Pi sampling: a methodical and flexible approach to initial macromolecular crystallization screening\"<br/><strong>E</strong>: other<br/><strong>A</strong>: journal<br/><strong>B</strong>: nan</p>\n",
       "<p><code>d-67-00463.nxml</code> \"Pi sampling: a methodical and flexible approach to initial macromolecular crystallization screening\"<br/><strong>E</strong>: other<br/><strong>A</strong>: journal<br/><strong>B</strong>: nan</p>\n",
       "<p><code>d-67-00463.nxml</code> \"Pi sampling: a methodical and flexible approach to initial macromolecular crystallization screening\"<br/><strong>E</strong>: other<br/><strong>A</strong>: journal<br/><strong>B</strong>: nan</p>\n",
       "</blockquote>\n",
       "<p>1008 more</p></details>"
      ],
      "text/plain": [
       "<IPython.core.display.HTML object>"
      ]
     },
     "metadata": {},
     "output_type": "display_data"
    },
    {
     "data": {
      "text/html": [
       "<h2>Dataset: pmc-sample-1943-cc-by-subset (reference_publication_type:partial_ulist exact)</h2>"
      ],
      "text/plain": [
       "<IPython.core.display.HTML object>"
      ]
     },
     "metadata": {},
     "output_type": "display_data"
    },
    {
     "data": {
      "text/html": [
       "<details><summary>Comparison: grobid-tei vs cermine</summary><p><strong>E</strong>: expected, <strong>A</strong>: pmc-sample-1943-cc-by-subset grobid-tei, <strong>B</strong>: pmc-sample-1943-cc-by-subset cermine (reference_publication_type:partial_ulist exact)</p>\n",
       "<h4>grobid-tei [0 : 1] cermine (0)</h4>\n",
       "<p>There are 0 samples where grobid-tei got it wrong, but cermine got it right.</p>\n",
       "<h4>grobid-tei [1 : 0] cermine (2735)</h4>\n",
       "<p>There are 2735 samples where grobid-tei got it right, but cermine got it wrong.</p>\n",
       "<blockquote>\n",
       "<p><code>aas0055-0039.nxml</code> \"Phosphate-containing dialysis solution prevents hypophosphatemia during continuous renal replacement therapy\"<br/><strong>E</strong>: journal<br/><strong>B</strong>: nan</p>\n",
       "<p><code>aas0055-0039.nxml</code> \"Phosphate-containing dialysis solution prevents hypophosphatemia during continuous renal replacement therapy\"<br/><strong>E</strong>: journal<br/><strong>B</strong>: nan</p>\n",
       "<p><code>aas0055-0039.nxml</code> \"Phosphate-containing dialysis solution prevents hypophosphatemia during continuous renal replacement therapy\"<br/><strong>E</strong>: journal<br/><strong>B</strong>: nan</p>\n",
       "</blockquote>\n",
       "<p>2732 more</p>\n",
       "<h4>grobid-tei [0 : 0] cermine (1011)</h4>\n",
       "<p>There are 1011 samples where both grobid-tei and cermine got it wrong.</p>\n",
       "<blockquote>\n",
       "<p><code>d-67-00463.nxml</code> \"Pi sampling: a methodical and flexible approach to initial macromolecular crystallization screening\"<br/><strong>E</strong>: other<br/><strong>A</strong>: journal<br/><strong>B</strong>: nan</p>\n",
       "<p><code>d-67-00463.nxml</code> \"Pi sampling: a methodical and flexible approach to initial macromolecular crystallization screening\"<br/><strong>E</strong>: other<br/><strong>A</strong>: journal<br/><strong>B</strong>: nan</p>\n",
       "<p><code>d-67-00463.nxml</code> \"Pi sampling: a methodical and flexible approach to initial macromolecular crystallization screening\"<br/><strong>E</strong>: other<br/><strong>A</strong>: journal<br/><strong>B</strong>: nan</p>\n",
       "</blockquote>\n",
       "<p>1008 more</p></details>"
      ],
      "text/plain": [
       "<IPython.core.display.HTML object>"
      ]
     },
     "metadata": {},
     "output_type": "display_data"
    },
    {
     "data": {
      "text/html": [
       "<hr/>"
      ],
      "text/plain": [
       "<IPython.core.display.HTML object>"
      ]
     },
     "metadata": {},
     "output_type": "display_data"
    },
    {
     "data": {
      "text/html": [
       "<h1>Field: reference_volume:partial_list</h1>"
      ],
      "text/plain": [
       "<IPython.core.display.HTML object>"
      ]
     },
     "metadata": {},
     "output_type": "display_data"
    },
    {
     "data": {
      "text/html": [
       "<h2>Dataset: pmc-sample-1943-cc-by-subset (reference_volume:partial_list levenshtein)</h2>"
      ],
      "text/plain": [
       "<IPython.core.display.HTML object>"
      ]
     },
     "metadata": {},
     "output_type": "display_data"
    },
    {
     "data": {
      "text/html": [
       "<details><summary>Comparison: grobid-tei vs cermine</summary><p><strong>E</strong>: expected, <strong>A</strong>: pmc-sample-1943-cc-by-subset grobid-tei, <strong>B</strong>: pmc-sample-1943-cc-by-subset cermine (reference_volume:partial_list levenshtein)</p>\n",
       "<h4>grobid-tei [0 : 1] cermine (45)</h4>\n",
       "<p>There are 45 samples where grobid-tei got it wrong, but cermine got it right.</p>\n",
       "<blockquote>\n",
       "<p><code>sonc50-621.nxml</code> \"Management of cutaneous metastases using electrochemotherapy\"<br/><strong>E</strong>: 26<br/><strong>A</strong>: nan</p>\n",
       "<p><code>sonc50-621.nxml</code> \"Management of cutaneous metastases using electrochemotherapy\"<br/><strong>E</strong>: 29<br/><strong>A</strong>: 26</p>\n",
       "<p><code>sonc50-621.nxml</code> \"Management of cutaneous metastases using electrochemotherapy\"<br/><strong>E</strong>: 29<br/><strong>A</strong>: 26</p>\n",
       "</blockquote>\n",
       "<p>42 more</p>\n",
       "<h4>grobid-tei [1 : 0] cermine (5)</h4>\n",
       "<p>There are 5 samples where grobid-tei got it right, but cermine got it wrong.</p>\n",
       "<blockquote>\n",
       "<p><code>apha0202-0379.nxml</code> \"On the function of the mammalian renal papilla and the peristalsis of the surrounding pelvis\"<br/><strong>E</strong>: 22<br/><strong>B</strong>: nan</p>\n",
       "<p><code>apha0202-0379.nxml</code> \"On the function of the mammalian renal papilla and the peristalsis of the surrounding pelvis\"<br/><strong>E</strong>: 22<br/><strong>B</strong>: nan</p>\n",
       "<p><code>apha0202-0379.nxml</code> \"On the function of the mammalian renal papilla and the peristalsis of the surrounding pelvis\"<br/><strong>E</strong>: 22<br/><strong>B</strong>: nan</p>\n",
       "</blockquote>\n",
       "<p>2 more</p>\n",
       "<h4>grobid-tei [0 : 0] cermine (831)</h4>\n",
       "<p>There are 831 samples where both grobid-tei and cermine got it wrong.</p>\n",
       "<blockquote>\n",
       "<p><code>d-67-00463.nxml</code> \"Pi sampling: a methodical and flexible approach to initial macromolecular crystallization screening\"<br/><strong>E</strong>: nan<br/><strong>A</strong>: 39<br/><strong>B</strong>: 39</p>\n",
       "<p><code>d-67-00463.nxml</code> \"Pi sampling: a methodical and flexible approach to initial macromolecular crystallization screening\"<br/><strong>E</strong>: nan<br/><strong>A</strong>: 39<br/><strong>B</strong>: 363</p>\n",
       "<p><code>d-67-00463.nxml</code> \"Pi sampling: a methodical and flexible approach to initial macromolecular crystallization screening\"<br/><strong>E</strong>: nan<br/><strong>A</strong>: 39<br/><strong>B</strong>: 34</p>\n",
       "</blockquote>\n",
       "<p>828 more</p></details>"
      ],
      "text/plain": [
       "<IPython.core.display.HTML object>"
      ]
     },
     "metadata": {},
     "output_type": "display_data"
    },
    {
     "data": {
      "text/html": [
       "<h2>Dataset: pmc-sample-1943-cc-by-subset (reference_volume:partial_list exact)</h2>"
      ],
      "text/plain": [
       "<IPython.core.display.HTML object>"
      ]
     },
     "metadata": {},
     "output_type": "display_data"
    },
    {
     "data": {
      "text/html": [
       "<details><summary>Comparison: grobid-tei vs cermine</summary><p><strong>E</strong>: expected, <strong>A</strong>: pmc-sample-1943-cc-by-subset grobid-tei, <strong>B</strong>: pmc-sample-1943-cc-by-subset cermine (reference_volume:partial_list exact)</p>\n",
       "<h4>grobid-tei [0 : 1] cermine (45)</h4>\n",
       "<p>There are 45 samples where grobid-tei got it wrong, but cermine got it right.</p>\n",
       "<blockquote>\n",
       "<p><code>sonc50-621.nxml</code> \"Management of cutaneous metastases using electrochemotherapy\"<br/><strong>E</strong>: 26<br/><strong>A</strong>: nan</p>\n",
       "<p><code>sonc50-621.nxml</code> \"Management of cutaneous metastases using electrochemotherapy\"<br/><strong>E</strong>: 29<br/><strong>A</strong>: 26</p>\n",
       "<p><code>sonc50-621.nxml</code> \"Management of cutaneous metastases using electrochemotherapy\"<br/><strong>E</strong>: 29<br/><strong>A</strong>: 26</p>\n",
       "</blockquote>\n",
       "<p>42 more</p>\n",
       "<h4>grobid-tei [1 : 0] cermine (5)</h4>\n",
       "<p>There are 5 samples where grobid-tei got it right, but cermine got it wrong.</p>\n",
       "<blockquote>\n",
       "<p><code>apha0202-0379.nxml</code> \"On the function of the mammalian renal papilla and the peristalsis of the surrounding pelvis\"<br/><strong>E</strong>: 22<br/><strong>B</strong>: nan</p>\n",
       "<p><code>apha0202-0379.nxml</code> \"On the function of the mammalian renal papilla and the peristalsis of the surrounding pelvis\"<br/><strong>E</strong>: 22<br/><strong>B</strong>: nan</p>\n",
       "<p><code>apha0202-0379.nxml</code> \"On the function of the mammalian renal papilla and the peristalsis of the surrounding pelvis\"<br/><strong>E</strong>: 22<br/><strong>B</strong>: nan</p>\n",
       "</blockquote>\n",
       "<p>2 more</p>\n",
       "<h4>grobid-tei [0 : 0] cermine (831)</h4>\n",
       "<p>There are 831 samples where both grobid-tei and cermine got it wrong.</p>\n",
       "<blockquote>\n",
       "<p><code>d-67-00463.nxml</code> \"Pi sampling: a methodical and flexible approach to initial macromolecular crystallization screening\"<br/><strong>E</strong>: nan<br/><strong>A</strong>: 39<br/><strong>B</strong>: 39</p>\n",
       "<p><code>d-67-00463.nxml</code> \"Pi sampling: a methodical and flexible approach to initial macromolecular crystallization screening\"<br/><strong>E</strong>: nan<br/><strong>A</strong>: 39<br/><strong>B</strong>: 363</p>\n",
       "<p><code>d-67-00463.nxml</code> \"Pi sampling: a methodical and flexible approach to initial macromolecular crystallization screening\"<br/><strong>E</strong>: nan<br/><strong>A</strong>: 39<br/><strong>B</strong>: 34</p>\n",
       "</blockquote>\n",
       "<p>828 more</p></details>"
      ],
      "text/plain": [
       "<IPython.core.display.HTML object>"
      ]
     },
     "metadata": {},
     "output_type": "display_data"
    },
    {
     "data": {
      "text/html": [
       "<hr/>"
      ],
      "text/plain": [
       "<IPython.core.display.HTML object>"
      ]
     },
     "metadata": {},
     "output_type": "display_data"
    },
    {
     "data": {
      "text/html": [
       "<h1>Field: reference_volume:partial_set</h1>"
      ],
      "text/plain": [
       "<IPython.core.display.HTML object>"
      ]
     },
     "metadata": {},
     "output_type": "display_data"
    },
    {
     "data": {
      "text/html": [
       "<h2>Dataset: pmc-sample-1943-cc-by-subset (reference_volume:partial_set levenshtein)</h2>"
      ],
      "text/plain": [
       "<IPython.core.display.HTML object>"
      ]
     },
     "metadata": {},
     "output_type": "display_data"
    },
    {
     "data": {
      "text/html": [
       "<details><summary>Comparison: grobid-tei vs cermine</summary><p><strong>E</strong>: expected, <strong>A</strong>: pmc-sample-1943-cc-by-subset grobid-tei, <strong>B</strong>: pmc-sample-1943-cc-by-subset cermine (reference_volume:partial_set levenshtein)</p>\n",
       "<h4>grobid-tei [0 : 1] cermine (1)</h4>\n",
       "<p>There are 1 samples where grobid-tei got it wrong, but cermine got it right.</p>\n",
       "<blockquote>\n",
       "<p><code>sonc50-621.nxml</code> \"Management of cutaneous metastases using electrochemotherapy\"<br/><strong>E</strong>: 31<br/><strong>A</strong>: nan</p>\n",
       "</blockquote>\n",
       "<h4>grobid-tei [1 : 0] cermine (3)</h4>\n",
       "<p>There are 3 samples where grobid-tei got it right, but cermine got it wrong.</p>\n",
       "<blockquote>\n",
       "<p><code>ORT-1745-3674-81-405.nxml</code> \"Resection arthroplasty for luxation of the manubrio-sternal joint in rheumatoid arthritis—a case report\"<br/><strong>E</strong>: 6<br/><strong>B</strong>: 6:1</p>\n",
       "<p><code>apha0202-0379.nxml</code> \"On the function of the mammalian renal papilla and the peristalsis of the surrounding pelvis\"<br/><strong>E</strong>: 207<br/><strong>B</strong>: nan</p>\n",
       "<p><code>apha0202-0379.nxml</code> \"On the function of the mammalian renal papilla and the peristalsis of the surrounding pelvis\"<br/><strong>E</strong>: 22<br/><strong>B</strong>: nan</p>\n",
       "</blockquote>\n",
       "<h4>grobid-tei [0 : 0] cermine (662)</h4>\n",
       "<p>There are 662 samples where both grobid-tei and cermine got it wrong.</p>\n",
       "<blockquote>\n",
       "<p><code>d-67-00463.nxml</code> \"Pi sampling: a methodical and flexible approach to initial macromolecular crystallization screening\"<br/><strong>E</strong>: nan<br/><strong>A</strong>: 11<br/><strong>B</strong>: nan</p>\n",
       "<p><code>d-67-00463.nxml</code> \"Pi sampling: a methodical and flexible approach to initial macromolecular crystallization screening\"<br/><strong>E</strong>: nan<br/><strong>A</strong>: 11<br/><strong>B</strong>: 11</p>\n",
       "<p><code>d-67-00463.nxml</code> \"Pi sampling: a methodical and flexible approach to initial macromolecular crystallization screening\"<br/><strong>E</strong>: nan<br/><strong>A</strong>: 11<br/><strong>B</strong>: 12</p>\n",
       "</blockquote>\n",
       "<p>659 more</p></details>"
      ],
      "text/plain": [
       "<IPython.core.display.HTML object>"
      ]
     },
     "metadata": {},
     "output_type": "display_data"
    },
    {
     "data": {
      "text/html": [
       "<h2>Dataset: pmc-sample-1943-cc-by-subset (reference_volume:partial_set exact)</h2>"
      ],
      "text/plain": [
       "<IPython.core.display.HTML object>"
      ]
     },
     "metadata": {},
     "output_type": "display_data"
    },
    {
     "data": {
      "text/html": [
       "<details><summary>Comparison: grobid-tei vs cermine</summary><p><strong>E</strong>: expected, <strong>A</strong>: pmc-sample-1943-cc-by-subset grobid-tei, <strong>B</strong>: pmc-sample-1943-cc-by-subset cermine (reference_volume:partial_set exact)</p>\n",
       "<h4>grobid-tei [0 : 1] cermine (1)</h4>\n",
       "<p>There are 1 samples where grobid-tei got it wrong, but cermine got it right.</p>\n",
       "<blockquote>\n",
       "<p><code>sonc50-621.nxml</code> \"Management of cutaneous metastases using electrochemotherapy\"<br/><strong>E</strong>: 31<br/><strong>A</strong>: nan</p>\n",
       "</blockquote>\n",
       "<h4>grobid-tei [1 : 0] cermine (3)</h4>\n",
       "<p>There are 3 samples where grobid-tei got it right, but cermine got it wrong.</p>\n",
       "<blockquote>\n",
       "<p><code>ORT-1745-3674-81-405.nxml</code> \"Resection arthroplasty for luxation of the manubrio-sternal joint in rheumatoid arthritis—a case report\"<br/><strong>E</strong>: 6<br/><strong>B</strong>: 6:1</p>\n",
       "<p><code>apha0202-0379.nxml</code> \"On the function of the mammalian renal papilla and the peristalsis of the surrounding pelvis\"<br/><strong>E</strong>: 207<br/><strong>B</strong>: nan</p>\n",
       "<p><code>apha0202-0379.nxml</code> \"On the function of the mammalian renal papilla and the peristalsis of the surrounding pelvis\"<br/><strong>E</strong>: 22<br/><strong>B</strong>: nan</p>\n",
       "</blockquote>\n",
       "<h4>grobid-tei [0 : 0] cermine (662)</h4>\n",
       "<p>There are 662 samples where both grobid-tei and cermine got it wrong.</p>\n",
       "<blockquote>\n",
       "<p><code>d-67-00463.nxml</code> \"Pi sampling: a methodical and flexible approach to initial macromolecular crystallization screening\"<br/><strong>E</strong>: nan<br/><strong>A</strong>: 11<br/><strong>B</strong>: nan</p>\n",
       "<p><code>d-67-00463.nxml</code> \"Pi sampling: a methodical and flexible approach to initial macromolecular crystallization screening\"<br/><strong>E</strong>: nan<br/><strong>A</strong>: 11<br/><strong>B</strong>: 11</p>\n",
       "<p><code>d-67-00463.nxml</code> \"Pi sampling: a methodical and flexible approach to initial macromolecular crystallization screening\"<br/><strong>E</strong>: nan<br/><strong>A</strong>: 11<br/><strong>B</strong>: 12</p>\n",
       "</blockquote>\n",
       "<p>659 more</p></details>"
      ],
      "text/plain": [
       "<IPython.core.display.HTML object>"
      ]
     },
     "metadata": {},
     "output_type": "display_data"
    },
    {
     "data": {
      "text/html": [
       "<hr/>"
      ],
      "text/plain": [
       "<IPython.core.display.HTML object>"
      ]
     },
     "metadata": {},
     "output_type": "display_data"
    },
    {
     "data": {
      "text/html": [
       "<h1>Field: reference_volume:partial_ulist</h1>"
      ],
      "text/plain": [
       "<IPython.core.display.HTML object>"
      ]
     },
     "metadata": {},
     "output_type": "display_data"
    },
    {
     "data": {
      "text/html": [
       "<h2>Dataset: pmc-sample-1943-cc-by-subset (reference_volume:partial_ulist levenshtein)</h2>"
      ],
      "text/plain": [
       "<IPython.core.display.HTML object>"
      ]
     },
     "metadata": {},
     "output_type": "display_data"
    },
    {
     "data": {
      "text/html": [
       "<details><summary>Comparison: grobid-tei vs cermine</summary><p><strong>E</strong>: expected, <strong>A</strong>: pmc-sample-1943-cc-by-subset grobid-tei, <strong>B</strong>: pmc-sample-1943-cc-by-subset cermine (reference_volume:partial_ulist levenshtein)</p>\n",
       "<h4>grobid-tei [0 : 1] cermine (3)</h4>\n",
       "<p>There are 3 samples where grobid-tei got it wrong, but cermine got it right.</p>\n",
       "<blockquote>\n",
       "<p><code>sonc50-621.nxml</code> \"Management of cutaneous metastases using electrochemotherapy\"<br/><strong>E</strong>: 29<br/><strong>A</strong>: nan</p>\n",
       "<p><code>sonc50-621.nxml</code> \"Management of cutaneous metastases using electrochemotherapy\"<br/><strong>E</strong>: 29<br/><strong>A</strong>: nan</p>\n",
       "<p><code>sonc50-621.nxml</code> \"Management of cutaneous metastases using electrochemotherapy\"<br/><strong>E</strong>: 31<br/><strong>A</strong>: nan</p>\n",
       "</blockquote>\n",
       "<h4>grobid-tei [1 : 0] cermine (6)</h4>\n",
       "<p>There are 6 samples where grobid-tei got it right, but cermine got it wrong.</p>\n",
       "<blockquote>\n",
       "<p><code>ORT-1745-3674-81-405.nxml</code> \"Resection arthroplasty for luxation of the manubrio-sternal joint in rheumatoid arthritis—a case report\"<br/><strong>E</strong>: 6<br/><strong>B</strong>: 6:1</p>\n",
       "<p><code>apha0202-0379.nxml</code> \"On the function of the mammalian renal papilla and the peristalsis of the surrounding pelvis\"<br/><strong>E</strong>: 22<br/><strong>B</strong>: nan</p>\n",
       "<p><code>apha0202-0379.nxml</code> \"On the function of the mammalian renal papilla and the peristalsis of the surrounding pelvis\"<br/><strong>E</strong>: 22<br/><strong>B</strong>: nan</p>\n",
       "</blockquote>\n",
       "<p>3 more</p>\n",
       "<h4>grobid-tei [0 : 0] cermine (830)</h4>\n",
       "<p>There are 830 samples where both grobid-tei and cermine got it wrong.</p>\n",
       "<blockquote>\n",
       "<p><code>d-67-00463.nxml</code> \"Pi sampling: a methodical and flexible approach to initial macromolecular crystallization screening\"<br/><strong>E</strong>: nan<br/><strong>A</strong>: 39<br/><strong>B</strong>: nan</p>\n",
       "<p><code>d-67-00463.nxml</code> \"Pi sampling: a methodical and flexible approach to initial macromolecular crystallization screening\"<br/><strong>E</strong>: nan<br/><strong>A</strong>: 39<br/><strong>B</strong>: nan</p>\n",
       "<p><code>d-67-00463.nxml</code> \"Pi sampling: a methodical and flexible approach to initial macromolecular crystallization screening\"<br/><strong>E</strong>: nan<br/><strong>A</strong>: 39<br/><strong>B</strong>: nan</p>\n",
       "</blockquote>\n",
       "<p>827 more</p></details>"
      ],
      "text/plain": [
       "<IPython.core.display.HTML object>"
      ]
     },
     "metadata": {},
     "output_type": "display_data"
    },
    {
     "data": {
      "text/html": [
       "<h2>Dataset: pmc-sample-1943-cc-by-subset (reference_volume:partial_ulist exact)</h2>"
      ],
      "text/plain": [
       "<IPython.core.display.HTML object>"
      ]
     },
     "metadata": {},
     "output_type": "display_data"
    },
    {
     "data": {
      "text/html": [
       "<details><summary>Comparison: grobid-tei vs cermine</summary><p><strong>E</strong>: expected, <strong>A</strong>: pmc-sample-1943-cc-by-subset grobid-tei, <strong>B</strong>: pmc-sample-1943-cc-by-subset cermine (reference_volume:partial_ulist exact)</p>\n",
       "<h4>grobid-tei [0 : 1] cermine (3)</h4>\n",
       "<p>There are 3 samples where grobid-tei got it wrong, but cermine got it right.</p>\n",
       "<blockquote>\n",
       "<p><code>sonc50-621.nxml</code> \"Management of cutaneous metastases using electrochemotherapy\"<br/><strong>E</strong>: 29<br/><strong>A</strong>: nan</p>\n",
       "<p><code>sonc50-621.nxml</code> \"Management of cutaneous metastases using electrochemotherapy\"<br/><strong>E</strong>: 29<br/><strong>A</strong>: nan</p>\n",
       "<p><code>sonc50-621.nxml</code> \"Management of cutaneous metastases using electrochemotherapy\"<br/><strong>E</strong>: 31<br/><strong>A</strong>: nan</p>\n",
       "</blockquote>\n",
       "<h4>grobid-tei [1 : 0] cermine (6)</h4>\n",
       "<p>There are 6 samples where grobid-tei got it right, but cermine got it wrong.</p>\n",
       "<blockquote>\n",
       "<p><code>ORT-1745-3674-81-405.nxml</code> \"Resection arthroplasty for luxation of the manubrio-sternal joint in rheumatoid arthritis—a case report\"<br/><strong>E</strong>: 6<br/><strong>B</strong>: 6:1</p>\n",
       "<p><code>apha0202-0379.nxml</code> \"On the function of the mammalian renal papilla and the peristalsis of the surrounding pelvis\"<br/><strong>E</strong>: 22<br/><strong>B</strong>: nan</p>\n",
       "<p><code>apha0202-0379.nxml</code> \"On the function of the mammalian renal papilla and the peristalsis of the surrounding pelvis\"<br/><strong>E</strong>: 22<br/><strong>B</strong>: nan</p>\n",
       "</blockquote>\n",
       "<p>3 more</p>\n",
       "<h4>grobid-tei [0 : 0] cermine (830)</h4>\n",
       "<p>There are 830 samples where both grobid-tei and cermine got it wrong.</p>\n",
       "<blockquote>\n",
       "<p><code>d-67-00463.nxml</code> \"Pi sampling: a methodical and flexible approach to initial macromolecular crystallization screening\"<br/><strong>E</strong>: nan<br/><strong>A</strong>: 39<br/><strong>B</strong>: nan</p>\n",
       "<p><code>d-67-00463.nxml</code> \"Pi sampling: a methodical and flexible approach to initial macromolecular crystallization screening\"<br/><strong>E</strong>: nan<br/><strong>A</strong>: 39<br/><strong>B</strong>: nan</p>\n",
       "<p><code>d-67-00463.nxml</code> \"Pi sampling: a methodical and flexible approach to initial macromolecular crystallization screening\"<br/><strong>E</strong>: nan<br/><strong>A</strong>: 39<br/><strong>B</strong>: nan</p>\n",
       "</blockquote>\n",
       "<p>827 more</p></details>"
      ],
      "text/plain": [
       "<IPython.core.display.HTML object>"
      ]
     },
     "metadata": {},
     "output_type": "display_data"
    },
    {
     "data": {
      "text/html": [
       "<hr/>"
      ],
      "text/plain": [
       "<IPython.core.display.HTML object>"
      ]
     },
     "metadata": {},
     "output_type": "display_data"
    },
    {
     "data": {
      "text/html": [
       "<h1>Field: reference_fpage:partial_list</h1>"
      ],
      "text/plain": [
       "<IPython.core.display.HTML object>"
      ]
     },
     "metadata": {},
     "output_type": "display_data"
    },
    {
     "data": {
      "text/html": [
       "<h2>Dataset: pmc-sample-1943-cc-by-subset (reference_fpage:partial_list levenshtein)</h2>"
      ],
      "text/plain": [
       "<IPython.core.display.HTML object>"
      ]
     },
     "metadata": {},
     "output_type": "display_data"
    },
    {
     "data": {
      "text/html": [
       "<details><summary>Comparison: grobid-tei vs cermine</summary><p><strong>E</strong>: expected, <strong>A</strong>: pmc-sample-1943-cc-by-subset grobid-tei, <strong>B</strong>: pmc-sample-1943-cc-by-subset cermine (reference_fpage:partial_list levenshtein)</p>\n",
       "<h4>grobid-tei [0 : 1] cermine (35)</h4>\n",
       "<p>There are 35 samples where grobid-tei got it wrong, but cermine got it right.</p>\n",
       "<blockquote>\n",
       "<p><code>aas0055-0039.nxml</code> \"Phosphate-containing dialysis solution prevents hypophosphatemia during continuous renal replacement therapy\"<br/><strong>E</strong>: 198<br/><strong>A</strong>: nan</p>\n",
       "<p><code>sonc50-621.nxml</code> \"Management of cutaneous metastases using electrochemotherapy\"<br/><strong>E</strong>: 89<br/><strong>A</strong>: nan</p>\n",
       "<p><code>sonc50-621.nxml</code> \"Management of cutaneous metastases using electrochemotherapy\"<br/><strong>E</strong>: 228<br/><strong>A</strong>: 89</p>\n",
       "</blockquote>\n",
       "<p>32 more</p>\n",
       "<h4>grobid-tei [1 : 0] cermine (3)</h4>\n",
       "<p>There are 3 samples where grobid-tei got it right, but cermine got it wrong.</p>\n",
       "<blockquote>\n",
       "<p><code>apha0202-0379.nxml</code> \"On the function of the mammalian renal papilla and the peristalsis of the surrounding pelvis\"<br/><strong>E</strong>: 613<br/><strong>B</strong>: nan</p>\n",
       "<p><code>apha0202-0379.nxml</code> \"On the function of the mammalian renal papilla and the peristalsis of the surrounding pelvis\"<br/><strong>E</strong>: 249<br/><strong>B</strong>: nan</p>\n",
       "<p><code>apha0202-0379.nxml</code> \"On the function of the mammalian renal papilla and the peristalsis of the surrounding pelvis\"<br/><strong>E</strong>: 971<br/><strong>B</strong>: nan</p>\n",
       "</blockquote>\n",
       "<h4>grobid-tei [0 : 0] cermine (868)</h4>\n",
       "<p>There are 868 samples where both grobid-tei and cermine got it wrong.</p>\n",
       "<blockquote>\n",
       "<p><code>d-67-00463.nxml</code> \"Pi sampling: a methodical and flexible approach to initial macromolecular crystallization screening\"<br/><strong>E</strong>: nan<br/><strong>A</strong>: 244<br/><strong>B</strong>: 244</p>\n",
       "<p><code>d-67-00463.nxml</code> \"Pi sampling: a methodical and flexible approach to initial macromolecular crystallization screening\"<br/><strong>E</strong>: nan<br/><strong>A</strong>: 244<br/><strong>B</strong>: 131</p>\n",
       "<p><code>d-67-00463.nxml</code> \"Pi sampling: a methodical and flexible approach to initial macromolecular crystallization screening\"<br/><strong>E</strong>: nan<br/><strong>A</strong>: 244<br/><strong>B</strong>: 97</p>\n",
       "</blockquote>\n",
       "<p>865 more</p></details>"
      ],
      "text/plain": [
       "<IPython.core.display.HTML object>"
      ]
     },
     "metadata": {},
     "output_type": "display_data"
    },
    {
     "data": {
      "text/html": [
       "<h2>Dataset: pmc-sample-1943-cc-by-subset (reference_fpage:partial_list exact)</h2>"
      ],
      "text/plain": [
       "<IPython.core.display.HTML object>"
      ]
     },
     "metadata": {},
     "output_type": "display_data"
    },
    {
     "data": {
      "text/html": [
       "<details><summary>Comparison: grobid-tei vs cermine</summary><p><strong>E</strong>: expected, <strong>A</strong>: pmc-sample-1943-cc-by-subset grobid-tei, <strong>B</strong>: pmc-sample-1943-cc-by-subset cermine (reference_fpage:partial_list exact)</p>\n",
       "<h4>grobid-tei [0 : 1] cermine (36)</h4>\n",
       "<p>There are 36 samples where grobid-tei got it wrong, but cermine got it right.</p>\n",
       "<blockquote>\n",
       "<p><code>aas0055-0039.nxml</code> \"Phosphate-containing dialysis solution prevents hypophosphatemia during continuous renal replacement therapy\"<br/><strong>E</strong>: 198<br/><strong>A</strong>: nan</p>\n",
       "<p><code>sonc50-621.nxml</code> \"Management of cutaneous metastases using electrochemotherapy\"<br/><strong>E</strong>: 89<br/><strong>A</strong>: nan</p>\n",
       "<p><code>sonc50-621.nxml</code> \"Management of cutaneous metastases using electrochemotherapy\"<br/><strong>E</strong>: 228<br/><strong>A</strong>: 89</p>\n",
       "</blockquote>\n",
       "<p>33 more</p>\n",
       "<h4>grobid-tei [1 : 0] cermine (3)</h4>\n",
       "<p>There are 3 samples where grobid-tei got it right, but cermine got it wrong.</p>\n",
       "<blockquote>\n",
       "<p><code>apha0202-0379.nxml</code> \"On the function of the mammalian renal papilla and the peristalsis of the surrounding pelvis\"<br/><strong>E</strong>: 613<br/><strong>B</strong>: nan</p>\n",
       "<p><code>apha0202-0379.nxml</code> \"On the function of the mammalian renal papilla and the peristalsis of the surrounding pelvis\"<br/><strong>E</strong>: 249<br/><strong>B</strong>: nan</p>\n",
       "<p><code>apha0202-0379.nxml</code> \"On the function of the mammalian renal papilla and the peristalsis of the surrounding pelvis\"<br/><strong>E</strong>: 971<br/><strong>B</strong>: nan</p>\n",
       "</blockquote>\n",
       "<h4>grobid-tei [0 : 0] cermine (868)</h4>\n",
       "<p>There are 868 samples where both grobid-tei and cermine got it wrong.</p>\n",
       "<blockquote>\n",
       "<p><code>d-67-00463.nxml</code> \"Pi sampling: a methodical and flexible approach to initial macromolecular crystallization screening\"<br/><strong>E</strong>: nan<br/><strong>A</strong>: 244<br/><strong>B</strong>: 244</p>\n",
       "<p><code>d-67-00463.nxml</code> \"Pi sampling: a methodical and flexible approach to initial macromolecular crystallization screening\"<br/><strong>E</strong>: nan<br/><strong>A</strong>: 244<br/><strong>B</strong>: 131</p>\n",
       "<p><code>d-67-00463.nxml</code> \"Pi sampling: a methodical and flexible approach to initial macromolecular crystallization screening\"<br/><strong>E</strong>: nan<br/><strong>A</strong>: 244<br/><strong>B</strong>: 97</p>\n",
       "</blockquote>\n",
       "<p>865 more</p></details>"
      ],
      "text/plain": [
       "<IPython.core.display.HTML object>"
      ]
     },
     "metadata": {},
     "output_type": "display_data"
    },
    {
     "data": {
      "text/html": [
       "<hr/>"
      ],
      "text/plain": [
       "<IPython.core.display.HTML object>"
      ]
     },
     "metadata": {},
     "output_type": "display_data"
    },
    {
     "data": {
      "text/html": [
       "<h1>Field: reference_fpage:partial_set</h1>"
      ],
      "text/plain": [
       "<IPython.core.display.HTML object>"
      ]
     },
     "metadata": {},
     "output_type": "display_data"
    },
    {
     "data": {
      "text/html": [
       "<h2>Dataset: pmc-sample-1943-cc-by-subset (reference_fpage:partial_set levenshtein)</h2>"
      ],
      "text/plain": [
       "<IPython.core.display.HTML object>"
      ]
     },
     "metadata": {},
     "output_type": "display_data"
    },
    {
     "data": {
      "text/html": [
       "<details><summary>Comparison: grobid-tei vs cermine</summary><p><strong>E</strong>: expected, <strong>A</strong>: pmc-sample-1943-cc-by-subset grobid-tei, <strong>B</strong>: pmc-sample-1943-cc-by-subset cermine (reference_fpage:partial_set levenshtein)</p>\n",
       "<h4>grobid-tei [0 : 1] cermine (6)</h4>\n",
       "<p>There are 6 samples where grobid-tei got it wrong, but cermine got it right.</p>\n",
       "<blockquote>\n",
       "<p><code>aas0055-0039.nxml</code> \"Phosphate-containing dialysis solution prevents hypophosphatemia during continuous renal replacement therapy\"<br/><strong>E</strong>: 198<br/><strong>A</strong>: nan</p>\n",
       "<p><code>sonc50-621.nxml</code> \"Management of cutaneous metastases using electrochemotherapy\"<br/><strong>E</strong>: 191<br/><strong>A</strong>: nan</p>\n",
       "<p><code>sonc50-621.nxml</code> \"Management of cutaneous metastases using electrochemotherapy\"<br/><strong>E</strong>: 2215<br/><strong>A</strong>: nan</p>\n",
       "</blockquote>\n",
       "<p>3 more</p>\n",
       "<h4>grobid-tei [1 : 0] cermine (3)</h4>\n",
       "<p>There are 3 samples where grobid-tei got it right, but cermine got it wrong.</p>\n",
       "<blockquote>\n",
       "<p><code>apha0202-0379.nxml</code> \"On the function of the mammalian renal papilla and the peristalsis of the surrounding pelvis\"<br/><strong>E</strong>: 249<br/><strong>B</strong>: nan</p>\n",
       "<p><code>apha0202-0379.nxml</code> \"On the function of the mammalian renal papilla and the peristalsis of the surrounding pelvis\"<br/><strong>E</strong>: 613<br/><strong>B</strong>: nan</p>\n",
       "<p><code>apha0202-0379.nxml</code> \"On the function of the mammalian renal papilla and the peristalsis of the surrounding pelvis\"<br/><strong>E</strong>: 971<br/><strong>B</strong>: nan</p>\n",
       "</blockquote>\n",
       "<h4>grobid-tei [0 : 0] cermine (857)</h4>\n",
       "<p>There are 857 samples where both grobid-tei and cermine got it wrong.</p>\n",
       "<blockquote>\n",
       "<p><code>d-67-00463.nxml</code> \"Pi sampling: a methodical and flexible approach to initial macromolecular crystallization screening\"<br/><strong>E</strong>: nan<br/><strong>A</strong>: 1<br/><strong>B</strong>: nan</p>\n",
       "<p><code>d-67-00463.nxml</code> \"Pi sampling: a methodical and flexible approach to initial macromolecular crystallization screening\"<br/><strong>E</strong>: nan<br/><strong>A</strong>: 1<br/><strong>B</strong>: 1</p>\n",
       "<p><code>d-67-00463.nxml</code> \"Pi sampling: a methodical and flexible approach to initial macromolecular crystallization screening\"<br/><strong>E</strong>: nan<br/><strong>A</strong>: 1<br/><strong>B</strong>: 1018</p>\n",
       "</blockquote>\n",
       "<p>854 more</p></details>"
      ],
      "text/plain": [
       "<IPython.core.display.HTML object>"
      ]
     },
     "metadata": {},
     "output_type": "display_data"
    },
    {
     "data": {
      "text/html": [
       "<h2>Dataset: pmc-sample-1943-cc-by-subset (reference_fpage:partial_set exact)</h2>"
      ],
      "text/plain": [
       "<IPython.core.display.HTML object>"
      ]
     },
     "metadata": {},
     "output_type": "display_data"
    },
    {
     "data": {
      "text/html": [
       "<details><summary>Comparison: grobid-tei vs cermine</summary><p><strong>E</strong>: expected, <strong>A</strong>: pmc-sample-1943-cc-by-subset grobid-tei, <strong>B</strong>: pmc-sample-1943-cc-by-subset cermine (reference_fpage:partial_set exact)</p>\n",
       "<h4>grobid-tei [0 : 1] cermine (7)</h4>\n",
       "<p>There are 7 samples where grobid-tei got it wrong, but cermine got it right.</p>\n",
       "<blockquote>\n",
       "<p><code>aas0055-0039.nxml</code> \"Phosphate-containing dialysis solution prevents hypophosphatemia during continuous renal replacement therapy\"<br/><strong>E</strong>: 198<br/><strong>A</strong>: nan</p>\n",
       "<p><code>sonc50-621.nxml</code> \"Management of cutaneous metastases using electrochemotherapy\"<br/><strong>E</strong>: 191<br/><strong>A</strong>: nan</p>\n",
       "<p><code>sonc50-621.nxml</code> \"Management of cutaneous metastases using electrochemotherapy\"<br/><strong>E</strong>: 2215<br/><strong>A</strong>: nan</p>\n",
       "</blockquote>\n",
       "<p>4 more</p>\n",
       "<h4>grobid-tei [1 : 0] cermine (3)</h4>\n",
       "<p>There are 3 samples where grobid-tei got it right, but cermine got it wrong.</p>\n",
       "<blockquote>\n",
       "<p><code>apha0202-0379.nxml</code> \"On the function of the mammalian renal papilla and the peristalsis of the surrounding pelvis\"<br/><strong>E</strong>: 249<br/><strong>B</strong>: nan</p>\n",
       "<p><code>apha0202-0379.nxml</code> \"On the function of the mammalian renal papilla and the peristalsis of the surrounding pelvis\"<br/><strong>E</strong>: 613<br/><strong>B</strong>: nan</p>\n",
       "<p><code>apha0202-0379.nxml</code> \"On the function of the mammalian renal papilla and the peristalsis of the surrounding pelvis\"<br/><strong>E</strong>: 971<br/><strong>B</strong>: nan</p>\n",
       "</blockquote>\n",
       "<h4>grobid-tei [0 : 0] cermine (857)</h4>\n",
       "<p>There are 857 samples where both grobid-tei and cermine got it wrong.</p>\n",
       "<blockquote>\n",
       "<p><code>d-67-00463.nxml</code> \"Pi sampling: a methodical and flexible approach to initial macromolecular crystallization screening\"<br/><strong>E</strong>: nan<br/><strong>A</strong>: 1<br/><strong>B</strong>: nan</p>\n",
       "<p><code>d-67-00463.nxml</code> \"Pi sampling: a methodical and flexible approach to initial macromolecular crystallization screening\"<br/><strong>E</strong>: nan<br/><strong>A</strong>: 1<br/><strong>B</strong>: 1</p>\n",
       "<p><code>d-67-00463.nxml</code> \"Pi sampling: a methodical and flexible approach to initial macromolecular crystallization screening\"<br/><strong>E</strong>: nan<br/><strong>A</strong>: 1<br/><strong>B</strong>: 1018</p>\n",
       "</blockquote>\n",
       "<p>854 more</p></details>"
      ],
      "text/plain": [
       "<IPython.core.display.HTML object>"
      ]
     },
     "metadata": {},
     "output_type": "display_data"
    },
    {
     "data": {
      "text/html": [
       "<hr/>"
      ],
      "text/plain": [
       "<IPython.core.display.HTML object>"
      ]
     },
     "metadata": {},
     "output_type": "display_data"
    },
    {
     "data": {
      "text/html": [
       "<h1>Field: reference_fpage:partial_ulist</h1>"
      ],
      "text/plain": [
       "<IPython.core.display.HTML object>"
      ]
     },
     "metadata": {},
     "output_type": "display_data"
    },
    {
     "data": {
      "text/html": [
       "<h2>Dataset: pmc-sample-1943-cc-by-subset (reference_fpage:partial_ulist levenshtein)</h2>"
      ],
      "text/plain": [
       "<IPython.core.display.HTML object>"
      ]
     },
     "metadata": {},
     "output_type": "display_data"
    },
    {
     "data": {
      "text/html": [
       "<details><summary>Comparison: grobid-tei vs cermine</summary><p><strong>E</strong>: expected, <strong>A</strong>: pmc-sample-1943-cc-by-subset grobid-tei, <strong>B</strong>: pmc-sample-1943-cc-by-subset cermine (reference_fpage:partial_ulist levenshtein)</p>\n",
       "<h4>grobid-tei [0 : 1] cermine (6)</h4>\n",
       "<p>There are 6 samples where grobid-tei got it wrong, but cermine got it right.</p>\n",
       "<blockquote>\n",
       "<p><code>aas0055-0039.nxml</code> \"Phosphate-containing dialysis solution prevents hypophosphatemia during continuous renal replacement therapy\"<br/><strong>E</strong>: 198<br/><strong>A</strong>: nan</p>\n",
       "<p><code>sonc50-621.nxml</code> \"Management of cutaneous metastases using electrochemotherapy\"<br/><strong>E</strong>: 191<br/><strong>A</strong>: nan</p>\n",
       "<p><code>sonc50-621.nxml</code> \"Management of cutaneous metastases using electrochemotherapy\"<br/><strong>E</strong>: 2215<br/><strong>A</strong>: nan</p>\n",
       "</blockquote>\n",
       "<p>3 more</p>\n",
       "<h4>grobid-tei [1 : 0] cermine (3)</h4>\n",
       "<p>There are 3 samples where grobid-tei got it right, but cermine got it wrong.</p>\n",
       "<blockquote>\n",
       "<p><code>apha0202-0379.nxml</code> \"On the function of the mammalian renal papilla and the peristalsis of the surrounding pelvis\"<br/><strong>E</strong>: 613<br/><strong>B</strong>: nan</p>\n",
       "<p><code>apha0202-0379.nxml</code> \"On the function of the mammalian renal papilla and the peristalsis of the surrounding pelvis\"<br/><strong>E</strong>: 249<br/><strong>B</strong>: nan</p>\n",
       "<p><code>apha0202-0379.nxml</code> \"On the function of the mammalian renal papilla and the peristalsis of the surrounding pelvis\"<br/><strong>E</strong>: 971<br/><strong>B</strong>: nan</p>\n",
       "</blockquote>\n",
       "<h4>grobid-tei [0 : 0] cermine (868)</h4>\n",
       "<p>There are 868 samples where both grobid-tei and cermine got it wrong.</p>\n",
       "<blockquote>\n",
       "<p><code>d-67-00463.nxml</code> \"Pi sampling: a methodical and flexible approach to initial macromolecular crystallization screening\"<br/><strong>E</strong>: nan<br/><strong>A</strong>: 244<br/><strong>B</strong>: nan</p>\n",
       "<p><code>d-67-00463.nxml</code> \"Pi sampling: a methodical and flexible approach to initial macromolecular crystallization screening\"<br/><strong>E</strong>: nan<br/><strong>A</strong>: 244<br/><strong>B</strong>: 244</p>\n",
       "<p><code>d-67-00463.nxml</code> \"Pi sampling: a methodical and flexible approach to initial macromolecular crystallization screening\"<br/><strong>E</strong>: nan<br/><strong>A</strong>: 244<br/><strong>B</strong>: 131</p>\n",
       "</blockquote>\n",
       "<p>865 more</p></details>"
      ],
      "text/plain": [
       "<IPython.core.display.HTML object>"
      ]
     },
     "metadata": {},
     "output_type": "display_data"
    },
    {
     "data": {
      "text/html": [
       "<h2>Dataset: pmc-sample-1943-cc-by-subset (reference_fpage:partial_ulist exact)</h2>"
      ],
      "text/plain": [
       "<IPython.core.display.HTML object>"
      ]
     },
     "metadata": {},
     "output_type": "display_data"
    },
    {
     "data": {
      "text/html": [
       "<details><summary>Comparison: grobid-tei vs cermine</summary><p><strong>E</strong>: expected, <strong>A</strong>: pmc-sample-1943-cc-by-subset grobid-tei, <strong>B</strong>: pmc-sample-1943-cc-by-subset cermine (reference_fpage:partial_ulist exact)</p>\n",
       "<h4>grobid-tei [0 : 1] cermine (7)</h4>\n",
       "<p>There are 7 samples where grobid-tei got it wrong, but cermine got it right.</p>\n",
       "<blockquote>\n",
       "<p><code>aas0055-0039.nxml</code> \"Phosphate-containing dialysis solution prevents hypophosphatemia during continuous renal replacement therapy\"<br/><strong>E</strong>: 198<br/><strong>A</strong>: nan</p>\n",
       "<p><code>sonc50-621.nxml</code> \"Management of cutaneous metastases using electrochemotherapy\"<br/><strong>E</strong>: 191<br/><strong>A</strong>: nan</p>\n",
       "<p><code>sonc50-621.nxml</code> \"Management of cutaneous metastases using electrochemotherapy\"<br/><strong>E</strong>: 2215<br/><strong>A</strong>: nan</p>\n",
       "</blockquote>\n",
       "<p>4 more</p>\n",
       "<h4>grobid-tei [1 : 0] cermine (3)</h4>\n",
       "<p>There are 3 samples where grobid-tei got it right, but cermine got it wrong.</p>\n",
       "<blockquote>\n",
       "<p><code>apha0202-0379.nxml</code> \"On the function of the mammalian renal papilla and the peristalsis of the surrounding pelvis\"<br/><strong>E</strong>: 613<br/><strong>B</strong>: nan</p>\n",
       "<p><code>apha0202-0379.nxml</code> \"On the function of the mammalian renal papilla and the peristalsis of the surrounding pelvis\"<br/><strong>E</strong>: 249<br/><strong>B</strong>: nan</p>\n",
       "<p><code>apha0202-0379.nxml</code> \"On the function of the mammalian renal papilla and the peristalsis of the surrounding pelvis\"<br/><strong>E</strong>: 971<br/><strong>B</strong>: nan</p>\n",
       "</blockquote>\n",
       "<h4>grobid-tei [0 : 0] cermine (868)</h4>\n",
       "<p>There are 868 samples where both grobid-tei and cermine got it wrong.</p>\n",
       "<blockquote>\n",
       "<p><code>d-67-00463.nxml</code> \"Pi sampling: a methodical and flexible approach to initial macromolecular crystallization screening\"<br/><strong>E</strong>: nan<br/><strong>A</strong>: 244<br/><strong>B</strong>: nan</p>\n",
       "<p><code>d-67-00463.nxml</code> \"Pi sampling: a methodical and flexible approach to initial macromolecular crystallization screening\"<br/><strong>E</strong>: nan<br/><strong>A</strong>: 244<br/><strong>B</strong>: 244</p>\n",
       "<p><code>d-67-00463.nxml</code> \"Pi sampling: a methodical and flexible approach to initial macromolecular crystallization screening\"<br/><strong>E</strong>: nan<br/><strong>A</strong>: 244<br/><strong>B</strong>: 131</p>\n",
       "</blockquote>\n",
       "<p>865 more</p></details>"
      ],
      "text/plain": [
       "<IPython.core.display.HTML object>"
      ]
     },
     "metadata": {},
     "output_type": "display_data"
    },
    {
     "data": {
      "text/html": [
       "<hr/>"
      ],
      "text/plain": [
       "<IPython.core.display.HTML object>"
      ]
     },
     "metadata": {},
     "output_type": "display_data"
    },
    {
     "data": {
      "text/html": [
       "<h1>Field: reference_lpage:partial_list</h1>"
      ],
      "text/plain": [
       "<IPython.core.display.HTML object>"
      ]
     },
     "metadata": {},
     "output_type": "display_data"
    },
    {
     "data": {
      "text/html": [
       "<h2>Dataset: pmc-sample-1943-cc-by-subset (reference_lpage:partial_list levenshtein)</h2>"
      ],
      "text/plain": [
       "<IPython.core.display.HTML object>"
      ]
     },
     "metadata": {},
     "output_type": "display_data"
    },
    {
     "data": {
      "text/html": [
       "<details><summary>Comparison: grobid-tei vs cermine</summary><p><strong>E</strong>: expected, <strong>A</strong>: pmc-sample-1943-cc-by-subset grobid-tei, <strong>B</strong>: pmc-sample-1943-cc-by-subset cermine (reference_lpage:partial_list levenshtein)</p>\n",
       "<h4>grobid-tei [0 : 1] cermine (99)</h4>\n",
       "<p>There are 99 samples where grobid-tei got it wrong, but cermine got it right.</p>\n",
       "<blockquote>\n",
       "<p><code>aas0055-0039.nxml</code> \"Phosphate-containing dialysis solution prevents hypophosphatemia during continuous renal replacement therapy\"<br/><strong>E</strong>: 1665<br/><strong>A</strong>: 1667</p>\n",
       "<p><code>aas0055-0039.nxml</code> \"Phosphate-containing dialysis solution prevents hypophosphatemia during continuous renal replacement therapy\"<br/><strong>E</strong>: 1047<br/><strong>A</strong>: 1050</p>\n",
       "<p><code>aas0055-0039.nxml</code> \"Phosphate-containing dialysis solution prevents hypophosphatemia during continuous renal replacement therapy\"<br/><strong>E</strong>: 214<br/><strong>A</strong>: 215</p>\n",
       "</blockquote>\n",
       "<p>96 more</p>\n",
       "<h4>grobid-tei [1 : 0] cermine (3)</h4>\n",
       "<p>There are 3 samples where grobid-tei got it right, but cermine got it wrong.</p>\n",
       "<blockquote>\n",
       "<p><code>apha0202-0379.nxml</code> \"On the function of the mammalian renal papilla and the peristalsis of the surrounding pelvis\"<br/><strong>E</strong>: 625<br/><strong>B</strong>: nan</p>\n",
       "<p><code>apha0202-0379.nxml</code> \"On the function of the mammalian renal papilla and the peristalsis of the surrounding pelvis\"<br/><strong>E</strong>: 431<br/><strong>B</strong>: nan</p>\n",
       "<p><code>apha0202-0379.nxml</code> \"On the function of the mammalian renal papilla and the peristalsis of the surrounding pelvis\"<br/><strong>E</strong>: 978<br/><strong>B</strong>: nan</p>\n",
       "</blockquote>\n",
       "<h4>grobid-tei [0 : 0] cermine (867)</h4>\n",
       "<p>There are 867 samples where both grobid-tei and cermine got it wrong.</p>\n",
       "<blockquote>\n",
       "<p><code>d-67-00463.nxml</code> \"Pi sampling: a methodical and flexible approach to initial macromolecular crystallization screening\"<br/><strong>E</strong>: nan<br/><strong>A</strong>: 251<br/><strong>B</strong>: 251</p>\n",
       "<p><code>d-67-00463.nxml</code> \"Pi sampling: a methodical and flexible approach to initial macromolecular crystallization screening\"<br/><strong>E</strong>: nan<br/><strong>A</strong>: 251<br/><strong>B</strong>: 151</p>\n",
       "<p><code>d-67-00463.nxml</code> \"Pi sampling: a methodical and flexible approach to initial macromolecular crystallization screening\"<br/><strong>E</strong>: nan<br/><strong>A</strong>: 251<br/><strong>B</strong>: 101</p>\n",
       "</blockquote>\n",
       "<p>864 more</p></details>"
      ],
      "text/plain": [
       "<IPython.core.display.HTML object>"
      ]
     },
     "metadata": {},
     "output_type": "display_data"
    },
    {
     "data": {
      "text/html": [
       "<h2>Dataset: pmc-sample-1943-cc-by-subset (reference_lpage:partial_list exact)</h2>"
      ],
      "text/plain": [
       "<IPython.core.display.HTML object>"
      ]
     },
     "metadata": {},
     "output_type": "display_data"
    },
    {
     "data": {
      "text/html": [
       "<details><summary>Comparison: grobid-tei vs cermine</summary><p><strong>E</strong>: expected, <strong>A</strong>: pmc-sample-1943-cc-by-subset grobid-tei, <strong>B</strong>: pmc-sample-1943-cc-by-subset cermine (reference_lpage:partial_list exact)</p>\n",
       "<h4>grobid-tei [0 : 1] cermine (100)</h4>\n",
       "<p>There are 100 samples where grobid-tei got it wrong, but cermine got it right.</p>\n",
       "<blockquote>\n",
       "<p><code>aas0055-0039.nxml</code> \"Phosphate-containing dialysis solution prevents hypophosphatemia during continuous renal replacement therapy\"<br/><strong>E</strong>: 1665<br/><strong>A</strong>: 1667</p>\n",
       "<p><code>aas0055-0039.nxml</code> \"Phosphate-containing dialysis solution prevents hypophosphatemia during continuous renal replacement therapy\"<br/><strong>E</strong>: 1047<br/><strong>A</strong>: 1050</p>\n",
       "<p><code>aas0055-0039.nxml</code> \"Phosphate-containing dialysis solution prevents hypophosphatemia during continuous renal replacement therapy\"<br/><strong>E</strong>: 214<br/><strong>A</strong>: 215</p>\n",
       "</blockquote>\n",
       "<p>97 more</p>\n",
       "<h4>grobid-tei [1 : 0] cermine (3)</h4>\n",
       "<p>There are 3 samples where grobid-tei got it right, but cermine got it wrong.</p>\n",
       "<blockquote>\n",
       "<p><code>apha0202-0379.nxml</code> \"On the function of the mammalian renal papilla and the peristalsis of the surrounding pelvis\"<br/><strong>E</strong>: 625<br/><strong>B</strong>: nan</p>\n",
       "<p><code>apha0202-0379.nxml</code> \"On the function of the mammalian renal papilla and the peristalsis of the surrounding pelvis\"<br/><strong>E</strong>: 431<br/><strong>B</strong>: nan</p>\n",
       "<p><code>apha0202-0379.nxml</code> \"On the function of the mammalian renal papilla and the peristalsis of the surrounding pelvis\"<br/><strong>E</strong>: 978<br/><strong>B</strong>: nan</p>\n",
       "</blockquote>\n",
       "<h4>grobid-tei [0 : 0] cermine (867)</h4>\n",
       "<p>There are 867 samples where both grobid-tei and cermine got it wrong.</p>\n",
       "<blockquote>\n",
       "<p><code>d-67-00463.nxml</code> \"Pi sampling: a methodical and flexible approach to initial macromolecular crystallization screening\"<br/><strong>E</strong>: nan<br/><strong>A</strong>: 251<br/><strong>B</strong>: 251</p>\n",
       "<p><code>d-67-00463.nxml</code> \"Pi sampling: a methodical and flexible approach to initial macromolecular crystallization screening\"<br/><strong>E</strong>: nan<br/><strong>A</strong>: 251<br/><strong>B</strong>: 151</p>\n",
       "<p><code>d-67-00463.nxml</code> \"Pi sampling: a methodical and flexible approach to initial macromolecular crystallization screening\"<br/><strong>E</strong>: nan<br/><strong>A</strong>: 251<br/><strong>B</strong>: 101</p>\n",
       "</blockquote>\n",
       "<p>864 more</p></details>"
      ],
      "text/plain": [
       "<IPython.core.display.HTML object>"
      ]
     },
     "metadata": {},
     "output_type": "display_data"
    },
    {
     "data": {
      "text/html": [
       "<hr/>"
      ],
      "text/plain": [
       "<IPython.core.display.HTML object>"
      ]
     },
     "metadata": {},
     "output_type": "display_data"
    },
    {
     "data": {
      "text/html": [
       "<h1>Field: reference_lpage:partial_set</h1>"
      ],
      "text/plain": [
       "<IPython.core.display.HTML object>"
      ]
     },
     "metadata": {},
     "output_type": "display_data"
    },
    {
     "data": {
      "text/html": [
       "<h2>Dataset: pmc-sample-1943-cc-by-subset (reference_lpage:partial_set levenshtein)</h2>"
      ],
      "text/plain": [
       "<IPython.core.display.HTML object>"
      ]
     },
     "metadata": {},
     "output_type": "display_data"
    },
    {
     "data": {
      "text/html": [
       "<details><summary>Comparison: grobid-tei vs cermine</summary><p><strong>E</strong>: expected, <strong>A</strong>: pmc-sample-1943-cc-by-subset grobid-tei, <strong>B</strong>: pmc-sample-1943-cc-by-subset cermine (reference_lpage:partial_set levenshtein)</p>\n",
       "<h4>grobid-tei [0 : 1] cermine (87)</h4>\n",
       "<p>There are 87 samples where grobid-tei got it wrong, but cermine got it right.</p>\n",
       "<blockquote>\n",
       "<p><code>aas0055-0039.nxml</code> \"Phosphate-containing dialysis solution prevents hypophosphatemia during continuous renal replacement therapy\"<br/><strong>E</strong>: 1047<br/><strong>A</strong>: 1050</p>\n",
       "<p><code>aas0055-0039.nxml</code> \"Phosphate-containing dialysis solution prevents hypophosphatemia during continuous renal replacement therapy\"<br/><strong>E</strong>: 108<br/><strong>A</strong>: 1268</p>\n",
       "<p><code>aas0055-0039.nxml</code> \"Phosphate-containing dialysis solution prevents hypophosphatemia during continuous renal replacement therapy\"<br/><strong>E</strong>: 114<br/><strong>A</strong>: 1214</p>\n",
       "</blockquote>\n",
       "<p>84 more</p>\n",
       "<h4>grobid-tei [1 : 0] cermine (3)</h4>\n",
       "<p>There are 3 samples where grobid-tei got it right, but cermine got it wrong.</p>\n",
       "<blockquote>\n",
       "<p><code>apha0202-0379.nxml</code> \"On the function of the mammalian renal papilla and the peristalsis of the surrounding pelvis\"<br/><strong>E</strong>: 431<br/><strong>B</strong>: nan</p>\n",
       "<p><code>apha0202-0379.nxml</code> \"On the function of the mammalian renal papilla and the peristalsis of the surrounding pelvis\"<br/><strong>E</strong>: 625<br/><strong>B</strong>: nan</p>\n",
       "<p><code>apha0202-0379.nxml</code> \"On the function of the mammalian renal papilla and the peristalsis of the surrounding pelvis\"<br/><strong>E</strong>: 978<br/><strong>B</strong>: nan</p>\n",
       "</blockquote>\n",
       "<h4>grobid-tei [0 : 0] cermine (812)</h4>\n",
       "<p>There are 812 samples where both grobid-tei and cermine got it wrong.</p>\n",
       "<blockquote>\n",
       "<p><code>d-67-00463.nxml</code> \"Pi sampling: a methodical and flexible approach to initial macromolecular crystallization screening\"<br/><strong>E</strong>: nan<br/><strong>A</strong>: 101<br/><strong>B</strong>: nan</p>\n",
       "<p><code>d-67-00463.nxml</code> \"Pi sampling: a methodical and flexible approach to initial macromolecular crystallization screening\"<br/><strong>E</strong>: nan<br/><strong>A</strong>: 101<br/><strong>B</strong>: 101</p>\n",
       "<p><code>d-67-00463.nxml</code> \"Pi sampling: a methodical and flexible approach to initial macromolecular crystallization screening\"<br/><strong>E</strong>: nan<br/><strong>A</strong>: 101<br/><strong>B</strong>: 1029</p>\n",
       "</blockquote>\n",
       "<p>809 more</p></details>"
      ],
      "text/plain": [
       "<IPython.core.display.HTML object>"
      ]
     },
     "metadata": {},
     "output_type": "display_data"
    },
    {
     "data": {
      "text/html": [
       "<h2>Dataset: pmc-sample-1943-cc-by-subset (reference_lpage:partial_set exact)</h2>"
      ],
      "text/plain": [
       "<IPython.core.display.HTML object>"
      ]
     },
     "metadata": {},
     "output_type": "display_data"
    },
    {
     "data": {
      "text/html": [
       "<details><summary>Comparison: grobid-tei vs cermine</summary><p><strong>E</strong>: expected, <strong>A</strong>: pmc-sample-1943-cc-by-subset grobid-tei, <strong>B</strong>: pmc-sample-1943-cc-by-subset cermine (reference_lpage:partial_set exact)</p>\n",
       "<h4>grobid-tei [0 : 1] cermine (88)</h4>\n",
       "<p>There are 88 samples where grobid-tei got it wrong, but cermine got it right.</p>\n",
       "<blockquote>\n",
       "<p><code>aas0055-0039.nxml</code> \"Phosphate-containing dialysis solution prevents hypophosphatemia during continuous renal replacement therapy\"<br/><strong>E</strong>: 1047<br/><strong>A</strong>: nan</p>\n",
       "<p><code>aas0055-0039.nxml</code> \"Phosphate-containing dialysis solution prevents hypophosphatemia during continuous renal replacement therapy\"<br/><strong>E</strong>: 108<br/><strong>A</strong>: 1050</p>\n",
       "<p><code>aas0055-0039.nxml</code> \"Phosphate-containing dialysis solution prevents hypophosphatemia during continuous renal replacement therapy\"<br/><strong>E</strong>: 114<br/><strong>A</strong>: 113</p>\n",
       "</blockquote>\n",
       "<p>85 more</p>\n",
       "<h4>grobid-tei [1 : 0] cermine (3)</h4>\n",
       "<p>There are 3 samples where grobid-tei got it right, but cermine got it wrong.</p>\n",
       "<blockquote>\n",
       "<p><code>apha0202-0379.nxml</code> \"On the function of the mammalian renal papilla and the peristalsis of the surrounding pelvis\"<br/><strong>E</strong>: 431<br/><strong>B</strong>: nan</p>\n",
       "<p><code>apha0202-0379.nxml</code> \"On the function of the mammalian renal papilla and the peristalsis of the surrounding pelvis\"<br/><strong>E</strong>: 625<br/><strong>B</strong>: nan</p>\n",
       "<p><code>apha0202-0379.nxml</code> \"On the function of the mammalian renal papilla and the peristalsis of the surrounding pelvis\"<br/><strong>E</strong>: 978<br/><strong>B</strong>: nan</p>\n",
       "</blockquote>\n",
       "<h4>grobid-tei [0 : 0] cermine (812)</h4>\n",
       "<p>There are 812 samples where both grobid-tei and cermine got it wrong.</p>\n",
       "<blockquote>\n",
       "<p><code>d-67-00463.nxml</code> \"Pi sampling: a methodical and flexible approach to initial macromolecular crystallization screening\"<br/><strong>E</strong>: nan<br/><strong>A</strong>: 101<br/><strong>B</strong>: nan</p>\n",
       "<p><code>d-67-00463.nxml</code> \"Pi sampling: a methodical and flexible approach to initial macromolecular crystallization screening\"<br/><strong>E</strong>: nan<br/><strong>A</strong>: 101<br/><strong>B</strong>: 101</p>\n",
       "<p><code>d-67-00463.nxml</code> \"Pi sampling: a methodical and flexible approach to initial macromolecular crystallization screening\"<br/><strong>E</strong>: nan<br/><strong>A</strong>: 101<br/><strong>B</strong>: 1029</p>\n",
       "</blockquote>\n",
       "<p>809 more</p></details>"
      ],
      "text/plain": [
       "<IPython.core.display.HTML object>"
      ]
     },
     "metadata": {},
     "output_type": "display_data"
    },
    {
     "data": {
      "text/html": [
       "<hr/>"
      ],
      "text/plain": [
       "<IPython.core.display.HTML object>"
      ]
     },
     "metadata": {},
     "output_type": "display_data"
    },
    {
     "data": {
      "text/html": [
       "<h1>Field: reference_lpage:partial_ulist</h1>"
      ],
      "text/plain": [
       "<IPython.core.display.HTML object>"
      ]
     },
     "metadata": {},
     "output_type": "display_data"
    },
    {
     "data": {
      "text/html": [
       "<h2>Dataset: pmc-sample-1943-cc-by-subset (reference_lpage:partial_ulist levenshtein)</h2>"
      ],
      "text/plain": [
       "<IPython.core.display.HTML object>"
      ]
     },
     "metadata": {},
     "output_type": "display_data"
    },
    {
     "data": {
      "text/html": [
       "<details><summary>Comparison: grobid-tei vs cermine</summary><p><strong>E</strong>: expected, <strong>A</strong>: pmc-sample-1943-cc-by-subset grobid-tei, <strong>B</strong>: pmc-sample-1943-cc-by-subset cermine (reference_lpage:partial_ulist levenshtein)</p>\n",
       "<h4>grobid-tei [0 : 1] cermine (92)</h4>\n",
       "<p>There are 92 samples where grobid-tei got it wrong, but cermine got it right.</p>\n",
       "<blockquote>\n",
       "<p><code>aas0055-0039.nxml</code> \"Phosphate-containing dialysis solution prevents hypophosphatemia during continuous renal replacement therapy\"<br/><strong>E</strong>: 1665<br/><strong>A</strong>: 1667</p>\n",
       "<p><code>aas0055-0039.nxml</code> \"Phosphate-containing dialysis solution prevents hypophosphatemia during continuous renal replacement therapy\"<br/><strong>E</strong>: 1047<br/><strong>A</strong>: 1050</p>\n",
       "<p><code>aas0055-0039.nxml</code> \"Phosphate-containing dialysis solution prevents hypophosphatemia during continuous renal replacement therapy\"<br/><strong>E</strong>: 214<br/><strong>A</strong>: 1214</p>\n",
       "</blockquote>\n",
       "<p>89 more</p>\n",
       "<h4>grobid-tei [1 : 0] cermine (3)</h4>\n",
       "<p>There are 3 samples where grobid-tei got it right, but cermine got it wrong.</p>\n",
       "<blockquote>\n",
       "<p><code>apha0202-0379.nxml</code> \"On the function of the mammalian renal papilla and the peristalsis of the surrounding pelvis\"<br/><strong>E</strong>: 625<br/><strong>B</strong>: nan</p>\n",
       "<p><code>apha0202-0379.nxml</code> \"On the function of the mammalian renal papilla and the peristalsis of the surrounding pelvis\"<br/><strong>E</strong>: 431<br/><strong>B</strong>: nan</p>\n",
       "<p><code>apha0202-0379.nxml</code> \"On the function of the mammalian renal papilla and the peristalsis of the surrounding pelvis\"<br/><strong>E</strong>: 978<br/><strong>B</strong>: nan</p>\n",
       "</blockquote>\n",
       "<h4>grobid-tei [0 : 0] cermine (867)</h4>\n",
       "<p>There are 867 samples where both grobid-tei and cermine got it wrong.</p>\n",
       "<blockquote>\n",
       "<p><code>d-67-00463.nxml</code> \"Pi sampling: a methodical and flexible approach to initial macromolecular crystallization screening\"<br/><strong>E</strong>: nan<br/><strong>A</strong>: 251<br/><strong>B</strong>: nan</p>\n",
       "<p><code>d-67-00463.nxml</code> \"Pi sampling: a methodical and flexible approach to initial macromolecular crystallization screening\"<br/><strong>E</strong>: nan<br/><strong>A</strong>: 251<br/><strong>B</strong>: 251</p>\n",
       "<p><code>d-67-00463.nxml</code> \"Pi sampling: a methodical and flexible approach to initial macromolecular crystallization screening\"<br/><strong>E</strong>: nan<br/><strong>A</strong>: 251<br/><strong>B</strong>: 151</p>\n",
       "</blockquote>\n",
       "<p>864 more</p></details>"
      ],
      "text/plain": [
       "<IPython.core.display.HTML object>"
      ]
     },
     "metadata": {},
     "output_type": "display_data"
    },
    {
     "data": {
      "text/html": [
       "<h2>Dataset: pmc-sample-1943-cc-by-subset (reference_lpage:partial_ulist exact)</h2>"
      ],
      "text/plain": [
       "<IPython.core.display.HTML object>"
      ]
     },
     "metadata": {},
     "output_type": "display_data"
    },
    {
     "data": {
      "text/html": [
       "<details><summary>Comparison: grobid-tei vs cermine</summary><p><strong>E</strong>: expected, <strong>A</strong>: pmc-sample-1943-cc-by-subset grobid-tei, <strong>B</strong>: pmc-sample-1943-cc-by-subset cermine (reference_lpage:partial_ulist exact)</p>\n",
       "<h4>grobid-tei [0 : 1] cermine (93)</h4>\n",
       "<p>There are 93 samples where grobid-tei got it wrong, but cermine got it right.</p>\n",
       "<blockquote>\n",
       "<p><code>aas0055-0039.nxml</code> \"Phosphate-containing dialysis solution prevents hypophosphatemia during continuous renal replacement therapy\"<br/><strong>E</strong>: 1665<br/><strong>A</strong>: 1667</p>\n",
       "<p><code>aas0055-0039.nxml</code> \"Phosphate-containing dialysis solution prevents hypophosphatemia during continuous renal replacement therapy\"<br/><strong>E</strong>: 1047<br/><strong>A</strong>: 1050</p>\n",
       "<p><code>aas0055-0039.nxml</code> \"Phosphate-containing dialysis solution prevents hypophosphatemia during continuous renal replacement therapy\"<br/><strong>E</strong>: 214<br/><strong>A</strong>: 215</p>\n",
       "</blockquote>\n",
       "<p>90 more</p>\n",
       "<h4>grobid-tei [1 : 0] cermine (3)</h4>\n",
       "<p>There are 3 samples where grobid-tei got it right, but cermine got it wrong.</p>\n",
       "<blockquote>\n",
       "<p><code>apha0202-0379.nxml</code> \"On the function of the mammalian renal papilla and the peristalsis of the surrounding pelvis\"<br/><strong>E</strong>: 625<br/><strong>B</strong>: nan</p>\n",
       "<p><code>apha0202-0379.nxml</code> \"On the function of the mammalian renal papilla and the peristalsis of the surrounding pelvis\"<br/><strong>E</strong>: 431<br/><strong>B</strong>: nan</p>\n",
       "<p><code>apha0202-0379.nxml</code> \"On the function of the mammalian renal papilla and the peristalsis of the surrounding pelvis\"<br/><strong>E</strong>: 978<br/><strong>B</strong>: nan</p>\n",
       "</blockquote>\n",
       "<h4>grobid-tei [0 : 0] cermine (867)</h4>\n",
       "<p>There are 867 samples where both grobid-tei and cermine got it wrong.</p>\n",
       "<blockquote>\n",
       "<p><code>d-67-00463.nxml</code> \"Pi sampling: a methodical and flexible approach to initial macromolecular crystallization screening\"<br/><strong>E</strong>: nan<br/><strong>A</strong>: 251<br/><strong>B</strong>: nan</p>\n",
       "<p><code>d-67-00463.nxml</code> \"Pi sampling: a methodical and flexible approach to initial macromolecular crystallization screening\"<br/><strong>E</strong>: nan<br/><strong>A</strong>: 251<br/><strong>B</strong>: 251</p>\n",
       "<p><code>d-67-00463.nxml</code> \"Pi sampling: a methodical and flexible approach to initial macromolecular crystallization screening\"<br/><strong>E</strong>: nan<br/><strong>A</strong>: 251<br/><strong>B</strong>: 151</p>\n",
       "</blockquote>\n",
       "<p>864 more</p></details>"
      ],
      "text/plain": [
       "<IPython.core.display.HTML object>"
      ]
     },
     "metadata": {},
     "output_type": "display_data"
    },
    {
     "data": {
      "text/html": [
       "<hr/>"
      ],
      "text/plain": [
       "<IPython.core.display.HTML object>"
      ]
     },
     "metadata": {},
     "output_type": "display_data"
    },
    {
     "data": {
      "text/html": [
       "<h1>Field: tables:partial_table</h1>"
      ],
      "text/plain": [
       "<IPython.core.display.HTML object>"
      ]
     },
     "metadata": {},
     "output_type": "display_data"
    },
    {
     "data": {
      "text/html": [
       "<h2>Dataset: pmc-sample-1943-cc-by-subset (tables:partial_table levenshtein)</h2>"
      ],
      "text/plain": [
       "<IPython.core.display.HTML object>"
      ]
     },
     "metadata": {},
     "output_type": "display_data"
    },
    {
     "data": {
      "text/html": [
       "<details><summary>Comparison: grobid-tei vs cermine</summary><p><strong>E</strong>: expected, <strong>A</strong>: pmc-sample-1943-cc-by-subset grobid-tei, <strong>B</strong>: pmc-sample-1943-cc-by-subset cermine (tables:partial_table levenshtein)</p>\n",
       "<h4>grobid-tei [0 : 1] cermine (0)</h4>\n",
       "<p>There are 0 samples where grobid-tei got it wrong, but cermine got it right.</p>\n",
       "<h4>grobid-tei [1 : 0] cermine (0)</h4>\n",
       "<p>There are 0 samples where grobid-tei got it right, but cermine got it wrong.</p>\n",
       "<h4>grobid-tei [0 : 0] cermine (50)</h4>\n",
       "<p>There are 50 samples where both grobid-tei and cermine got it wrong.</p>\n",
       "<blockquote>\n",
       "<p><code>aas0055-0039.nxml</code> \"Phosphate-containing dialysis solution prevents hypophosphatemia during continuous renal replacement therapy\"<br/><strong>E</strong>: dummy<br/><strong>A</strong>: nan<br/><strong>B</strong>: nan</p>\n",
       "<p><code>aas0055-0039.nxml</code> \"Phosphate-containing dialysis solution prevents hypophosphatemia during continuous renal replacement therapy\"<br/><strong>E</strong>: dummy<br/><strong>A</strong>: nan<br/><strong>B</strong>: nan</p>\n",
       "<p><code>aas0055-0039.nxml</code> \"Phosphate-containing dialysis solution prevents hypophosphatemia during continuous renal replacement therapy\"<br/><strong>E</strong>: dummy<br/><strong>A</strong>: nan<br/><strong>B</strong>: nan</p>\n",
       "</blockquote>\n",
       "<p>47 more</p></details>"
      ],
      "text/plain": [
       "<IPython.core.display.HTML object>"
      ]
     },
     "metadata": {},
     "output_type": "display_data"
    },
    {
     "data": {
      "text/html": [
       "<h2>Dataset: pmc-sample-1943-cc-by-subset (tables:partial_table exact)</h2>"
      ],
      "text/plain": [
       "<IPython.core.display.HTML object>"
      ]
     },
     "metadata": {},
     "output_type": "display_data"
    },
    {
     "data": {
      "text/html": [
       "<details><summary>Comparison: grobid-tei vs cermine</summary><p><strong>E</strong>: expected, <strong>A</strong>: pmc-sample-1943-cc-by-subset grobid-tei, <strong>B</strong>: pmc-sample-1943-cc-by-subset cermine (tables:partial_table exact)</p>\n",
       "<h4>grobid-tei [0 : 1] cermine (0)</h4>\n",
       "<p>There are 0 samples where grobid-tei got it wrong, but cermine got it right.</p>\n",
       "<h4>grobid-tei [1 : 0] cermine (0)</h4>\n",
       "<p>There are 0 samples where grobid-tei got it right, but cermine got it wrong.</p>\n",
       "<h4>grobid-tei [0 : 0] cermine (50)</h4>\n",
       "<p>There are 50 samples where both grobid-tei and cermine got it wrong.</p>\n",
       "<blockquote>\n",
       "<p><code>aas0055-0039.nxml</code> \"Phosphate-containing dialysis solution prevents hypophosphatemia during continuous renal replacement therapy\"<br/><strong>E</strong>: dummy<br/><strong>A</strong>: nan<br/><strong>B</strong>: nan</p>\n",
       "<p><code>aas0055-0039.nxml</code> \"Phosphate-containing dialysis solution prevents hypophosphatemia during continuous renal replacement therapy\"<br/><strong>E</strong>: dummy<br/><strong>A</strong>: nan<br/><strong>B</strong>: nan</p>\n",
       "<p><code>aas0055-0039.nxml</code> \"Phosphate-containing dialysis solution prevents hypophosphatemia during continuous renal replacement therapy\"<br/><strong>E</strong>: dummy<br/><strong>A</strong>: nan<br/><strong>B</strong>: nan</p>\n",
       "</blockquote>\n",
       "<p>47 more</p></details>"
      ],
      "text/plain": [
       "<IPython.core.display.HTML object>"
      ]
     },
     "metadata": {},
     "output_type": "display_data"
    },
    {
     "data": {
      "text/html": [
       "<hr/>"
      ],
      "text/plain": [
       "<IPython.core.display.HTML object>"
      ]
     },
     "metadata": {},
     "output_type": "display_data"
    },
    {
     "data": {
      "text/html": [
       "<h1>Field: table_strings:partial_list</h1>"
      ],
      "text/plain": [
       "<IPython.core.display.HTML object>"
      ]
     },
     "metadata": {},
     "output_type": "display_data"
    },
    {
     "data": {
      "text/html": [
       "<h2>Dataset: pmc-sample-1943-cc-by-subset (table_strings:partial_list levenshtein)</h2>"
      ],
      "text/plain": [
       "<IPython.core.display.HTML object>"
      ]
     },
     "metadata": {},
     "output_type": "display_data"
    },
    {
     "data": {
      "text/html": [
       "<details><summary>Comparison: grobid-tei vs cermine</summary><p><strong>E</strong>: expected, <strong>A</strong>: pmc-sample-1943-cc-by-subset grobid-tei, <strong>B</strong>: pmc-sample-1943-cc-by-subset cermine (table_strings:partial_list levenshtein)</p>\n",
       "<h4>grobid-tei [0 : 1] cermine (0)</h4>\n",
       "<p>There are 0 samples where grobid-tei got it wrong, but cermine got it right.</p>\n",
       "<h4>grobid-tei [1 : 0] cermine (4)</h4>\n",
       "<p>There are 4 samples where grobid-tei got it right, but cermine got it wrong.</p>\n",
       "<blockquote>\n",
       "<p><code>aas0055-0039.nxml</code> \"Phosphate-containing dialysis solution prevents hypophosphatemia during continuous renal replacement therapy\"<br/><strong>E</strong>: Hemosol B0 (mmol/l) Phosphate containingdialysis solution (mmol/l) Bicarbonate 32 30 Lactate 3 0 Calcium 1.75 1.25 Magnesium 0.5 0.6 Potassium 0 4 Sodium 140 140 Phosphate 0 1.2 Chloride 109.5 115.9<br/><strong>B</strong>: nan</p>\n",
       "<p><code>sonc50-621.nxml</code> \"Management of cutaneous metastases using electrochemotherapy\"<br/><strong>E</strong>: TREATMENT DATA All Patients (n = 51) All Patients (%) Herlev Middlesbrough Chemotherapy Bleomycin I.T 21 41% 41% 42% Bleomycin I.V. 30 59% 59% 58% Anaesthesia Local 23 45% 50% 37% General 28 55% 50% 63% ECT session duration1, hours:minutes Median (range) (hh-mm) 00:16 (00:05-01:27) 00:29 (00:08-01:27) 00:18 (00:05-00:35) Would agree for another session yes 46 90% 87% 90% no 4 8% 13% 5% no answer 1 2% 0 5% RESPONSE All Metastases (n = 97)2 Metastases (%) Herlev Middlesbrough Response for registered metastases3 CR 58 60% 54% 68% PR 18 19% 20% 17% SD 11 11% 18% 2% PD 7 7% 4% 12% Not evaluable 3 3% 5% 0% Time from treatment to CR (days) Median (range) (days 47 (16-110) 41 (16-110) 63 (38-100) Size of metastases S30 mm (n = 84) CR 57 68% PR 15 18% SD 5 6% PD 5 6% Not evaluable 2 2% Size of metastases &gt;30 mm (n = 13) CR 1 8% PR 3 23% SD 6 46% PD 2 15% Not evaluable 1 8%<br/><strong>B</strong>: nan</p>\n",
       "<p><code>sonc50-621.nxml</code> \"Management of cutaneous metastases using electrochemotherapy\"<br/><strong>E</strong>: Local anaesthesia General anaesthesia Location of metastases Chest 23 32% 56 46% Lower limbs 31 42% 23 19% Head and Neck 11 15% 19 15% Scalp 4 5% 17 14% Upper limbs 3 4% 3 2% Abdomen 1 1% 4 3% Back 0 0 1 1% Size of metastases Median (range) (mm) 7.5 (1-60) 10 (1-200) Number of metastases per patient Median (range) 3 4<br/><strong>B</strong>: nan</p>\n",
       "</blockquote>\n",
       "<p>1 more</p>\n",
       "<h4>grobid-tei [0 : 0] cermine (8)</h4>\n",
       "<p>There are 8 samples where both grobid-tei and cermine got it wrong.</p>\n",
       "<blockquote>\n",
       "<p><code>aas0055-0039.nxml</code> \"Phosphate-containing dialysis solution prevents hypophosphatemia during continuous renal replacement therapy\"<br/><strong>E</strong>: Main diagnoses Group 1 Group 2 Group 3 Septic shock 5 8 7 Pneumonia 2 1 0 Cardiac insufficiency 0 0 3 Cardiac arrest 1 0 2 Major intoxication 1 0 1 Rupture of aortic aneurysm 0 0 2 Myocardial infarction 0 0 1 Cardiogenic shock 0 0 1 Sclerosis cholangitis 0 0 1 Unspecified respiratory failure 1 0 0 Obstructing malignant intestinal tumour 1 0 0 Epilepsy 1 0 0 Unspecified muscle disease 0 0 1<br/><strong>A</strong>: Day on CRRT Before 1 2 3 4 5 Sodium<em> 134.0 AE 5 135.0 AE 3 135.2 AE 2 135.0 AE 2 135.7 AE 2 135.8 AE 3 Potassiumw 4.06 AE 0.5 4.10 AE 0.4 4.14 AE 0.3 4.23 AE 0.3 4.39 AE 0.4 4.49 AE 0.5 Ionised calciumz 1.11 AE 0.08 1.10 AE 0.05 1.15 AE 0.07 1.17 AE 0.06 1.16 AE 0.05 1.17 AE 0.06 Magnesiumw 1.1 AE 0.4 1.0 AE 0.2 1.1 AE 0.2 0.7 AE 0.2 0.9 AE 0.1 1.0 AE 0.3 </em>P<br/><strong>B</strong>: nan</p>\n",
       "<p><code>aas0055-0039.nxml</code> \"Phosphate-containing dialysis solution prevents hypophosphatemia during continuous renal replacement therapy\"<br/><strong>E</strong>: Group 1 Group 2 Group 3 Demographics<em> Age (years) 63 (43–86) 68 (37–88) 67 (53–83) Weight (kg) 80 (53–116) 86 (56–124) 79 (41–130) Male sex, n (%) 7 (50) 7 (50) 5 (36) APACHE II</em> 28.1 (19–44) 26 (13–36) 23.2 (15–29) RIFLE score, points<em>,† 37 39 39 Delivered CRRT</em> CRRT treatment duration (h) 82 (17–278) 115 (37–207) 96 (29–210) CRRT treatment mode CVVHDF CVVHDF CVVHDF Effluent flow (ml/kg/h) calculated on active treatment time<em>,‡ 23.7 (13–45) 21.9 (15–30) 18 (10–20) Proportion of ordered dose delivered</em> 85.3% 87.5% 91.8% Anticoagulation<em> None 3 None 2 None 2 Heparine 9 Heparine 11 Heparine 10 Prostacycline 1 Prostacycline 1 Prostacycline 2 Phosphate supplementation§ (mmol/CRRT treatment day) 11 (0–35) 3 (0–13) 0 (0)<br/></em><em>A</em><em>: Group Group 1 Group 2 Group 3 Before During Before During Before During Phosphate</em> 1.90 0.99 1.54 1.20 1.83 1.43 Ionized Caw 1.10 1.24 1.13 1.19 1.11 1.15 pHz 7.24 7.40 7.30 7.36 7.32 7.36 pCO 2 z 5.59 5.27 5.81 5.77 6.51 5.27 Bicarbonate § 18 24 21 23 21 22<br/><strong>B</strong>: nan</p>\n",
       "<p><code>aas0055-0039.nxml</code> \"Phosphate-containing dialysis solution prevents hypophosphatemia during continuous renal replacement therapy\"<br/><strong>E</strong>: Group Group 1 Group 2 Group 3 Before During Before During Before During Phosphate<em> 1.90 0.99 1.54 1.20 1.83 1.43 Ionized Ca† 1.10 1.24 1.13 1.19 1.11 1.15 pH‡ 7.24 7.40 7.30 7.36 7.32 7.36 pCO2‡ 5.59 5.27 5.81 5.77 6.51 5.27 Bicarbonate§ 18 24 21 23 21 22<br/></em><em>A</em><em>: nan<br/></em><em>B</em>*: nan</p>\n",
       "</blockquote>\n",
       "<p>5 more</p></details>"
      ],
      "text/plain": [
       "<IPython.core.display.HTML object>"
      ]
     },
     "metadata": {},
     "output_type": "display_data"
    },
    {
     "data": {
      "text/html": [
       "<h2>Dataset: pmc-sample-1943-cc-by-subset (table_strings:partial_list exact)</h2>"
      ],
      "text/plain": [
       "<IPython.core.display.HTML object>"
      ]
     },
     "metadata": {},
     "output_type": "display_data"
    },
    {
     "data": {
      "text/html": [
       "<details><summary>Comparison: grobid-tei vs cermine</summary><p><strong>E</strong>: expected, <strong>A</strong>: pmc-sample-1943-cc-by-subset grobid-tei, <strong>B</strong>: pmc-sample-1943-cc-by-subset cermine (table_strings:partial_list exact)</p>\n",
       "<h4>grobid-tei [0 : 1] cermine (0)</h4>\n",
       "<p>There are 0 samples where grobid-tei got it wrong, but cermine got it right.</p>\n",
       "<h4>grobid-tei [1 : 0] cermine (0)</h4>\n",
       "<p>There are 0 samples where grobid-tei got it right, but cermine got it wrong.</p>\n",
       "<h4>grobid-tei [0 : 0] cermine (12)</h4>\n",
       "<p>There are 12 samples where both grobid-tei and cermine got it wrong.</p>\n",
       "<blockquote>\n",
       "<p><code>aas0055-0039.nxml</code> \"Phosphate-containing dialysis solution prevents hypophosphatemia during continuous renal replacement therapy\"<br/><strong>E</strong>: Hemosol B0 (mmol/l) Phosphate containingdialysis solution (mmol/l) Bicarbonate 32 30 Lactate 3 0 Calcium 1.75 1.25 Magnesium 0.5 0.6 Potassium 0 4 Sodium 140 140 Phosphate 0 1.2 Chloride 109.5 115.9<br/><strong>A</strong>: Hemosol B0 (mmol/l) Phosphate containing dialysis solution (mmol/l) Bicarbonate 32 30 Lactate 3 0 Calcium 1.75 1.25 Magnesium 0.5 0.6 Potassium 0 4 Sodium 140 140 Phosphate 0 1.2 Chloride 109.5 115.9<br/><strong>B</strong>: nan</p>\n",
       "<p><code>aas0055-0039.nxml</code> \"Phosphate-containing dialysis solution prevents hypophosphatemia during continuous renal replacement therapy\"<br/><strong>E</strong>: Main diagnoses Group 1 Group 2 Group 3 Septic shock 5 8 7 Pneumonia 2 1 0 Cardiac insufficiency 0 0 3 Cardiac arrest 1 0 2 Major intoxication 1 0 1 Rupture of aortic aneurysm 0 0 2 Myocardial infarction 0 0 1 Cardiogenic shock 0 0 1 Sclerosis cholangitis 0 0 1 Unspecified respiratory failure 1 0 0 Obstructing malignant intestinal tumour 1 0 0 Epilepsy 1 0 0 Unspecified muscle disease 0 0 1<br/><strong>A</strong>: Day on CRRT Before 1 2 3 4 5 Sodium<em> 134.0 AE 5 135.0 AE 3 135.2 AE 2 135.0 AE 2 135.7 AE 2 135.8 AE 3 Potassiumw 4.06 AE 0.5 4.10 AE 0.4 4.14 AE 0.3 4.23 AE 0.3 4.39 AE 0.4 4.49 AE 0.5 Ionised calciumz 1.11 AE 0.08 1.10 AE 0.05 1.15 AE 0.07 1.17 AE 0.06 1.16 AE 0.05 1.17 AE 0.06 Magnesiumw 1.1 AE 0.4 1.0 AE 0.2 1.1 AE 0.2 0.7 AE 0.2 0.9 AE 0.1 1.0 AE 0.3 </em>P<br/><strong>B</strong>: nan</p>\n",
       "<p><code>aas0055-0039.nxml</code> \"Phosphate-containing dialysis solution prevents hypophosphatemia during continuous renal replacement therapy\"<br/><strong>E</strong>: Group 1 Group 2 Group 3 Demographics<em> Age (years) 63 (43–86) 68 (37–88) 67 (53–83) Weight (kg) 80 (53–116) 86 (56–124) 79 (41–130) Male sex, n (%) 7 (50) 7 (50) 5 (36) APACHE II</em> 28.1 (19–44) 26 (13–36) 23.2 (15–29) RIFLE score, points<em>,† 37 39 39 Delivered CRRT</em> CRRT treatment duration (h) 82 (17–278) 115 (37–207) 96 (29–210) CRRT treatment mode CVVHDF CVVHDF CVVHDF Effluent flow (ml/kg/h) calculated on active treatment time<em>,‡ 23.7 (13–45) 21.9 (15–30) 18 (10–20) Proportion of ordered dose delivered</em> 85.3% 87.5% 91.8% Anticoagulation<em> None 3 None 2 None 2 Heparine 9 Heparine 11 Heparine 10 Prostacycline 1 Prostacycline 1 Prostacycline 2 Phosphate supplementation§ (mmol/CRRT treatment day) 11 (0–35) 3 (0–13) 0 (0)<br/></em><em>A</em><em>: Group Group 1 Group 2 Group 3 Before During Before During Before During Phosphate</em> 1.90 0.99 1.54 1.20 1.83 1.43 Ionized Caw 1.10 1.24 1.13 1.19 1.11 1.15 pHz 7.24 7.40 7.30 7.36 7.32 7.36 pCO 2 z 5.59 5.27 5.81 5.77 6.51 5.27 Bicarbonate § 18 24 21 23 21 22<br/><strong>B</strong>: nan</p>\n",
       "</blockquote>\n",
       "<p>9 more</p></details>"
      ],
      "text/plain": [
       "<IPython.core.display.HTML object>"
      ]
     },
     "metadata": {},
     "output_type": "display_data"
    },
    {
     "data": {
      "text/html": [
       "<hr/>"
      ],
      "text/plain": [
       "<IPython.core.display.HTML object>"
      ]
     },
     "metadata": {},
     "output_type": "display_data"
    },
    {
     "data": {
      "text/html": [
       "<h1>Field: table_labels:partial_list</h1>"
      ],
      "text/plain": [
       "<IPython.core.display.HTML object>"
      ]
     },
     "metadata": {},
     "output_type": "display_data"
    },
    {
     "data": {
      "text/html": [
       "<h2>Dataset: pmc-sample-1943-cc-by-subset (table_labels:partial_list levenshtein)</h2>"
      ],
      "text/plain": [
       "<IPython.core.display.HTML object>"
      ]
     },
     "metadata": {},
     "output_type": "display_data"
    },
    {
     "data": {
      "text/html": [
       "<details><summary>Comparison: grobid-tei vs cermine</summary><p><strong>E</strong>: expected, <strong>A</strong>: pmc-sample-1943-cc-by-subset grobid-tei, <strong>B</strong>: pmc-sample-1943-cc-by-subset cermine (table_labels:partial_list levenshtein)</p>\n",
       "<h4>grobid-tei [0 : 1] cermine (0)</h4>\n",
       "<p>There are 0 samples where grobid-tei got it wrong, but cermine got it right.</p>\n",
       "<h4>grobid-tei [1 : 0] cermine (7)</h4>\n",
       "<p>There are 7 samples where grobid-tei got it right, but cermine got it wrong.</p>\n",
       "<blockquote>\n",
       "<p><code>aas0055-0039.nxml</code> \"Phosphate-containing dialysis solution prevents hypophosphatemia during continuous renal replacement therapy\"<br/><strong>E</strong>: Table 1<br/><strong>B</strong>: nan</p>\n",
       "<p><code>aas0055-0039.nxml</code> \"Phosphate-containing dialysis solution prevents hypophosphatemia during continuous renal replacement therapy\"<br/><strong>E</strong>: Table 2<br/><strong>B</strong>: nan</p>\n",
       "<p><code>aas0055-0039.nxml</code> \"Phosphate-containing dialysis solution prevents hypophosphatemia during continuous renal replacement therapy\"<br/><strong>E</strong>: Table 3<br/><strong>B</strong>: nan</p>\n",
       "</blockquote>\n",
       "<p>4 more</p>\n",
       "<h4>grobid-tei [0 : 0] cermine (4)</h4>\n",
       "<p>There are 4 samples where both grobid-tei and cermine got it wrong.</p>\n",
       "<blockquote>\n",
       "<p><code>aas0055-0039.nxml</code> \"Phosphate-containing dialysis solution prevents hypophosphatemia during continuous renal replacement therapy\"<br/><strong>E</strong>: Table 5<br/><strong>A</strong>: nan<br/><strong>B</strong>: nan</p>\n",
       "<p><code>aas0055-0039.nxml</code> \"Phosphate-containing dialysis solution prevents hypophosphatemia during continuous renal replacement therapy\"<br/><strong>E</strong>: Table 4<br/><strong>A</strong>: nan<br/><strong>B</strong>: nan</p>\n",
       "<p><code>sonc50-621.nxml</code> \"Management of cutaneous metastases using electrochemotherapy\"<br/><strong>E</strong>: Table I<br/><strong>A</strong>: Table I .<br/><strong>B</strong>: nan</p>\n",
       "</blockquote>\n",
       "<p>1 more</p></details>"
      ],
      "text/plain": [
       "<IPython.core.display.HTML object>"
      ]
     },
     "metadata": {},
     "output_type": "display_data"
    },
    {
     "data": {
      "text/html": [
       "<h2>Dataset: pmc-sample-1943-cc-by-subset (table_labels:partial_list exact)</h2>"
      ],
      "text/plain": [
       "<IPython.core.display.HTML object>"
      ]
     },
     "metadata": {},
     "output_type": "display_data"
    },
    {
     "data": {
      "text/html": [
       "<details><summary>Comparison: grobid-tei vs cermine</summary><p><strong>E</strong>: expected, <strong>A</strong>: pmc-sample-1943-cc-by-subset grobid-tei, <strong>B</strong>: pmc-sample-1943-cc-by-subset cermine (table_labels:partial_list exact)</p>\n",
       "<h4>grobid-tei [0 : 1] cermine (0)</h4>\n",
       "<p>There are 0 samples where grobid-tei got it wrong, but cermine got it right.</p>\n",
       "<h4>grobid-tei [1 : 0] cermine (1)</h4>\n",
       "<p>There are 1 samples where grobid-tei got it right, but cermine got it wrong.</p>\n",
       "<blockquote>\n",
       "<p><code>aas0055-0039.nxml</code> \"Phosphate-containing dialysis solution prevents hypophosphatemia during continuous renal replacement therapy\"<br/><strong>E</strong>: Table 1<br/><strong>B</strong>: nan</p>\n",
       "</blockquote>\n",
       "<h4>grobid-tei [0 : 0] cermine (10)</h4>\n",
       "<p>There are 10 samples where both grobid-tei and cermine got it wrong.</p>\n",
       "<blockquote>\n",
       "<p><code>aas0055-0039.nxml</code> \"Phosphate-containing dialysis solution prevents hypophosphatemia during continuous renal replacement therapy\"<br/><strong>E</strong>: Table 2<br/><strong>A</strong>: Table 4<br/><strong>B</strong>: nan</p>\n",
       "<p><code>aas0055-0039.nxml</code> \"Phosphate-containing dialysis solution prevents hypophosphatemia during continuous renal replacement therapy\"<br/><strong>E</strong>: Table 3<br/><strong>A</strong>: Table 5<br/><strong>B</strong>: nan</p>\n",
       "<p><code>aas0055-0039.nxml</code> \"Phosphate-containing dialysis solution prevents hypophosphatemia during continuous renal replacement therapy\"<br/><strong>E</strong>: Table 5<br/><strong>A</strong>: nan<br/><strong>B</strong>: nan</p>\n",
       "</blockquote>\n",
       "<p>7 more</p></details>"
      ],
      "text/plain": [
       "<IPython.core.display.HTML object>"
      ]
     },
     "metadata": {},
     "output_type": "display_data"
    },
    {
     "data": {
      "text/html": [
       "<hr/>"
      ],
      "text/plain": [
       "<IPython.core.display.HTML object>"
      ]
     },
     "metadata": {},
     "output_type": "display_data"
    },
    {
     "data": {
      "text/html": [
       "<h1>Field: table_labels:partial_set</h1>"
      ],
      "text/plain": [
       "<IPython.core.display.HTML object>"
      ]
     },
     "metadata": {},
     "output_type": "display_data"
    },
    {
     "data": {
      "text/html": [
       "<h2>Dataset: pmc-sample-1943-cc-by-subset (table_labels:partial_set levenshtein)</h2>"
      ],
      "text/plain": [
       "<IPython.core.display.HTML object>"
      ]
     },
     "metadata": {},
     "output_type": "display_data"
    },
    {
     "data": {
      "text/html": [
       "<details><summary>Comparison: grobid-tei vs cermine</summary><p><strong>E</strong>: expected, <strong>A</strong>: pmc-sample-1943-cc-by-subset grobid-tei, <strong>B</strong>: pmc-sample-1943-cc-by-subset cermine (table_labels:partial_set levenshtein)</p>\n",
       "<h4>grobid-tei [0 : 1] cermine (0)</h4>\n",
       "<p>There are 0 samples where grobid-tei got it wrong, but cermine got it right.</p>\n",
       "<h4>grobid-tei [1 : 0] cermine (8)</h4>\n",
       "<p>There are 8 samples where grobid-tei got it right, but cermine got it wrong.</p>\n",
       "<blockquote>\n",
       "<p><code>aas0055-0039.nxml</code> \"Phosphate-containing dialysis solution prevents hypophosphatemia during continuous renal replacement therapy\"<br/><strong>E</strong>: Table 1<br/><strong>B</strong>: nan</p>\n",
       "<p><code>aas0055-0039.nxml</code> \"Phosphate-containing dialysis solution prevents hypophosphatemia during continuous renal replacement therapy\"<br/><strong>E</strong>: Table 2<br/><strong>B</strong>: nan</p>\n",
       "<p><code>aas0055-0039.nxml</code> \"Phosphate-containing dialysis solution prevents hypophosphatemia during continuous renal replacement therapy\"<br/><strong>E</strong>: Table 3<br/><strong>B</strong>: nan</p>\n",
       "</blockquote>\n",
       "<p>5 more</p>\n",
       "<h4>grobid-tei [0 : 0] cermine (3)</h4>\n",
       "<p>There are 3 samples where both grobid-tei and cermine got it wrong.</p>\n",
       "<blockquote>\n",
       "<p><code>aas0055-0039.nxml</code> \"Phosphate-containing dialysis solution prevents hypophosphatemia during continuous renal replacement therapy\"<br/><strong>E</strong>: Table 4<br/><strong>A</strong>: nan<br/><strong>B</strong>: nan</p>\n",
       "<p><code>aas0055-0039.nxml</code> \"Phosphate-containing dialysis solution prevents hypophosphatemia during continuous renal replacement therapy\"<br/><strong>E</strong>: Table 5<br/><strong>A</strong>: nan<br/><strong>B</strong>: nan</p>\n",
       "<p><code>sonc50-621.nxml</code> \"Management of cutaneous metastases using electrochemotherapy\"<br/><strong>E</strong>: Table I<br/><strong>A</strong>: Table I .<br/><strong>B</strong>: nan</p>\n",
       "</blockquote></details>"
      ],
      "text/plain": [
       "<IPython.core.display.HTML object>"
      ]
     },
     "metadata": {},
     "output_type": "display_data"
    },
    {
     "data": {
      "text/html": [
       "<h2>Dataset: pmc-sample-1943-cc-by-subset (table_labels:partial_set exact)</h2>"
      ],
      "text/plain": [
       "<IPython.core.display.HTML object>"
      ]
     },
     "metadata": {},
     "output_type": "display_data"
    },
    {
     "data": {
      "text/html": [
       "<details><summary>Comparison: grobid-tei vs cermine</summary><p><strong>E</strong>: expected, <strong>A</strong>: pmc-sample-1943-cc-by-subset grobid-tei, <strong>B</strong>: pmc-sample-1943-cc-by-subset cermine (table_labels:partial_set exact)</p>\n",
       "<h4>grobid-tei [0 : 1] cermine (0)</h4>\n",
       "<p>There are 0 samples where grobid-tei got it wrong, but cermine got it right.</p>\n",
       "<h4>grobid-tei [1 : 0] cermine (6)</h4>\n",
       "<p>There are 6 samples where grobid-tei got it right, but cermine got it wrong.</p>\n",
       "<blockquote>\n",
       "<p><code>aas0055-0039.nxml</code> \"Phosphate-containing dialysis solution prevents hypophosphatemia during continuous renal replacement therapy\"<br/><strong>E</strong>: Table 1<br/><strong>B</strong>: nan</p>\n",
       "<p><code>aas0055-0039.nxml</code> \"Phosphate-containing dialysis solution prevents hypophosphatemia during continuous renal replacement therapy\"<br/><strong>E</strong>: Table 4<br/><strong>B</strong>: nan</p>\n",
       "<p><code>aas0055-0039.nxml</code> \"Phosphate-containing dialysis solution prevents hypophosphatemia during continuous renal replacement therapy\"<br/><strong>E</strong>: Table 5<br/><strong>B</strong>: nan</p>\n",
       "</blockquote>\n",
       "<p>3 more</p>\n",
       "<h4>grobid-tei [0 : 0] cermine (5)</h4>\n",
       "<p>There are 5 samples where both grobid-tei and cermine got it wrong.</p>\n",
       "<blockquote>\n",
       "<p><code>aas0055-0039.nxml</code> \"Phosphate-containing dialysis solution prevents hypophosphatemia during continuous renal replacement therapy\"<br/><strong>E</strong>: Table 2<br/><strong>A</strong>: nan<br/><strong>B</strong>: nan</p>\n",
       "<p><code>aas0055-0039.nxml</code> \"Phosphate-containing dialysis solution prevents hypophosphatemia during continuous renal replacement therapy\"<br/><strong>E</strong>: Table 3<br/><strong>A</strong>: nan<br/><strong>B</strong>: nan</p>\n",
       "<p><code>sonc50-621.nxml</code> \"Management of cutaneous metastases using electrochemotherapy\"<br/><strong>E</strong>: Table I<br/><strong>A</strong>: Table I .<br/><strong>B</strong>: nan</p>\n",
       "</blockquote>\n",
       "<p>2 more</p></details>"
      ],
      "text/plain": [
       "<IPython.core.display.HTML object>"
      ]
     },
     "metadata": {},
     "output_type": "display_data"
    },
    {
     "data": {
      "text/html": [
       "<hr/>"
      ],
      "text/plain": [
       "<IPython.core.display.HTML object>"
      ]
     },
     "metadata": {},
     "output_type": "display_data"
    },
    {
     "data": {
      "text/html": [
       "<h1>Field: table_captions:partial_list</h1>"
      ],
      "text/plain": [
       "<IPython.core.display.HTML object>"
      ]
     },
     "metadata": {},
     "output_type": "display_data"
    },
    {
     "data": {
      "text/html": [
       "<h2>Dataset: pmc-sample-1943-cc-by-subset (table_captions:partial_list levenshtein)</h2>"
      ],
      "text/plain": [
       "<IPython.core.display.HTML object>"
      ]
     },
     "metadata": {},
     "output_type": "display_data"
    },
    {
     "data": {
      "text/html": [
       "<details><summary>Comparison: grobid-tei vs cermine</summary><p><strong>E</strong>: expected, <strong>A</strong>: pmc-sample-1943-cc-by-subset grobid-tei, <strong>B</strong>: pmc-sample-1943-cc-by-subset cermine (table_captions:partial_list levenshtein)</p>\n",
       "<h4>grobid-tei [0 : 1] cermine (0)</h4>\n",
       "<p>There are 0 samples where grobid-tei got it wrong, but cermine got it right.</p>\n",
       "<h4>grobid-tei [1 : 0] cermine (4)</h4>\n",
       "<p>There are 4 samples where grobid-tei got it right, but cermine got it wrong.</p>\n",
       "<blockquote>\n",
       "<p><code>aas0055-0039.nxml</code> \"Phosphate-containing dialysis solution prevents hypophosphatemia during continuous renal replacement therapy\"<br/><strong>E</strong>: Fluid composition.<br/><strong>B</strong>: nan</p>\n",
       "<p><code>sonc50-621.nxml</code> \"Management of cutaneous metastases using electrochemotherapy\"<br/><strong>E</strong>: Patients' characteristics at baseline.<br/><strong>B</strong>: nan</p>\n",
       "<p><code>sonc50-621.nxml</code> \"Management of cutaneous metastases using electrochemotherapy\"<br/><strong>E</strong>: Treatment data and response.<br/><strong>B</strong>: nan</p>\n",
       "</blockquote>\n",
       "<p>1 more</p>\n",
       "<h4>grobid-tei [0 : 0] cermine (7)</h4>\n",
       "<p>There are 7 samples where both grobid-tei and cermine got it wrong.</p>\n",
       "<blockquote>\n",
       "<p><code>aas0055-0039.nxml</code> \"Phosphate-containing dialysis solution prevents hypophosphatemia during continuous renal replacement therapy\"<br/><strong>E</strong>: Main diagnoses leading to intensive care of the study groups.<br/><strong>A</strong>: Serum solute concentrations (mmol/l) during CRRT with the phosphate containing dialysis fluid for patients in group 3.<br/><strong>B</strong>: nan</p>\n",
       "<p><code>aas0055-0039.nxml</code> \"Phosphate-containing dialysis solution prevents hypophosphatemia during continuous renal replacement therapy\"<br/><strong>E</strong>: Baseline characteristics of study patients and delivered CRRT.<br/><strong>A</strong>: Serum values (mmol/l, kPa) during CRRT with the phosphatecontaining dialysis fluid.Mean values of each day of all the patients. <em>P 0.001 between the groups during the CRRT treatment. wP 5 0.004 between the groups during the CRRT treatment. zDifferences between the groups were not statistically significant.§P 5 0.045 between the groups during the CRRT treatment.<br/></em><em>B</em>*: nan</p>\n",
       "<p><code>aas0055-0039.nxml</code> \"Phosphate-containing dialysis solution prevents hypophosphatemia during continuous renal replacement therapy\"<br/><strong>E</strong>: Serum values (mmol/l, kPa) during CRRT with the phosphate-containing dialysis fluid.<br/><strong>A</strong>: ,35 Phosphate was within normal limits in 38% of patients even before the beginning of CRRT. The new dialysis fluid contains 30 mM bicarbonate compared with 32 mM in Hemosol B0. With prescribed CRRT clearances of ! 20 ml/ kg/h, most acid-base disturbances can be managed with bicarbonate compositions of 25-35 mM.<br/><strong>B</strong>: nan</p>\n",
       "</blockquote>\n",
       "<p>4 more</p></details>"
      ],
      "text/plain": [
       "<IPython.core.display.HTML object>"
      ]
     },
     "metadata": {},
     "output_type": "display_data"
    },
    {
     "data": {
      "text/html": [
       "<h2>Dataset: pmc-sample-1943-cc-by-subset (table_captions:partial_list exact)</h2>"
      ],
      "text/plain": [
       "<IPython.core.display.HTML object>"
      ]
     },
     "metadata": {},
     "output_type": "display_data"
    },
    {
     "data": {
      "text/html": [
       "<details><summary>Comparison: grobid-tei vs cermine</summary><p><strong>E</strong>: expected, <strong>A</strong>: pmc-sample-1943-cc-by-subset grobid-tei, <strong>B</strong>: pmc-sample-1943-cc-by-subset cermine (table_captions:partial_list exact)</p>\n",
       "<h4>grobid-tei [0 : 1] cermine (0)</h4>\n",
       "<p>There are 0 samples where grobid-tei got it wrong, but cermine got it right.</p>\n",
       "<h4>grobid-tei [1 : 0] cermine (3)</h4>\n",
       "<p>There are 3 samples where grobid-tei got it right, but cermine got it wrong.</p>\n",
       "<blockquote>\n",
       "<p><code>aas0055-0039.nxml</code> \"Phosphate-containing dialysis solution prevents hypophosphatemia during continuous renal replacement therapy\"<br/><strong>E</strong>: Fluid composition.<br/><strong>B</strong>: nan</p>\n",
       "<p><code>sonc50-621.nxml</code> \"Management of cutaneous metastases using electrochemotherapy\"<br/><strong>E</strong>: Treatment data and response.<br/><strong>B</strong>: nan</p>\n",
       "<p><code>sonc50-621.nxml</code> \"Management of cutaneous metastases using electrochemotherapy\"<br/><strong>E</strong>: Choice of anaesthesia according to location of metastases and size.<br/><strong>B</strong>: nan</p>\n",
       "</blockquote>\n",
       "<h4>grobid-tei [0 : 0] cermine (8)</h4>\n",
       "<p>There are 8 samples where both grobid-tei and cermine got it wrong.</p>\n",
       "<blockquote>\n",
       "<p><code>aas0055-0039.nxml</code> \"Phosphate-containing dialysis solution prevents hypophosphatemia during continuous renal replacement therapy\"<br/><strong>E</strong>: Main diagnoses leading to intensive care of the study groups.<br/><strong>A</strong>: Serum solute concentrations (mmol/l) during CRRT with the phosphate containing dialysis fluid for patients in group 3.<br/><strong>B</strong>: nan</p>\n",
       "<p><code>aas0055-0039.nxml</code> \"Phosphate-containing dialysis solution prevents hypophosphatemia during continuous renal replacement therapy\"<br/><strong>E</strong>: Baseline characteristics of study patients and delivered CRRT.<br/><strong>A</strong>: Serum values (mmol/l, kPa) during CRRT with the phosphatecontaining dialysis fluid.Mean values of each day of all the patients. <em>P 0.001 between the groups during the CRRT treatment. wP 5 0.004 between the groups during the CRRT treatment. zDifferences between the groups were not statistically significant.§P 5 0.045 between the groups during the CRRT treatment.<br/></em><em>B</em>*: nan</p>\n",
       "<p><code>aas0055-0039.nxml</code> \"Phosphate-containing dialysis solution prevents hypophosphatemia during continuous renal replacement therapy\"<br/><strong>E</strong>: Serum values (mmol/l, kPa) during CRRT with the phosphate-containing dialysis fluid.<br/><strong>A</strong>: ,35 Phosphate was within normal limits in 38% of patients even before the beginning of CRRT. The new dialysis fluid contains 30 mM bicarbonate compared with 32 mM in Hemosol B0. With prescribed CRRT clearances of ! 20 ml/ kg/h, most acid-base disturbances can be managed with bicarbonate compositions of 25-35 mM.<br/><strong>B</strong>: nan</p>\n",
       "</blockquote>\n",
       "<p>5 more</p></details>"
      ],
      "text/plain": [
       "<IPython.core.display.HTML object>"
      ]
     },
     "metadata": {},
     "output_type": "display_data"
    },
    {
     "data": {
      "text/html": [
       "<hr/>"
      ],
      "text/plain": [
       "<IPython.core.display.HTML object>"
      ]
     },
     "metadata": {},
     "output_type": "display_data"
    },
    {
     "data": {
      "text/html": [
       "<h1>Field: table_captions:partial_set</h1>"
      ],
      "text/plain": [
       "<IPython.core.display.HTML object>"
      ]
     },
     "metadata": {},
     "output_type": "display_data"
    },
    {
     "data": {
      "text/html": [
       "<h2>Dataset: pmc-sample-1943-cc-by-subset (table_captions:partial_set levenshtein)</h2>"
      ],
      "text/plain": [
       "<IPython.core.display.HTML object>"
      ]
     },
     "metadata": {},
     "output_type": "display_data"
    },
    {
     "data": {
      "text/html": [
       "<details><summary>Comparison: grobid-tei vs cermine</summary><p><strong>E</strong>: expected, <strong>A</strong>: pmc-sample-1943-cc-by-subset grobid-tei, <strong>B</strong>: pmc-sample-1943-cc-by-subset cermine (table_captions:partial_set levenshtein)</p>\n",
       "<h4>grobid-tei [0 : 1] cermine (0)</h4>\n",
       "<p>There are 0 samples where grobid-tei got it wrong, but cermine got it right.</p>\n",
       "<h4>grobid-tei [1 : 0] cermine (8)</h4>\n",
       "<p>There are 8 samples where grobid-tei got it right, but cermine got it wrong.</p>\n",
       "<blockquote>\n",
       "<p><code>aas0055-0039.nxml</code> \"Phosphate-containing dialysis solution prevents hypophosphatemia during continuous renal replacement therapy\"<br/><strong>E</strong>: Fluid composition.<br/><strong>B</strong>: nan</p>\n",
       "<p><code>aas0055-0039.nxml</code> \"Phosphate-containing dialysis solution prevents hypophosphatemia during continuous renal replacement therapy\"<br/><strong>E</strong>: Serum solute concentrations (mmol/l) during CRRT with the phosphate containing dialysis fluid for patients in group 3.<br/><strong>B</strong>: nan</p>\n",
       "<p><code>sonc50-621.nxml</code> \"Management of cutaneous metastases using electrochemotherapy\"<br/><strong>E</strong>: Choice of anaesthesia according to location of metastases and size.<br/><strong>B</strong>: nan</p>\n",
       "</blockquote>\n",
       "<p>5 more</p>\n",
       "<h4>grobid-tei [0 : 0] cermine (3)</h4>\n",
       "<p>There are 3 samples where both grobid-tei and cermine got it wrong.</p>\n",
       "<blockquote>\n",
       "<p><code>aas0055-0039.nxml</code> \"Phosphate-containing dialysis solution prevents hypophosphatemia during continuous renal replacement therapy\"<br/><strong>E</strong>: Baseline characteristics of study patients and delivered CRRT.<br/><strong>A</strong>: ,35 Phosphate was within normal limits in 38% of patients even before the beginning of CRRT. The new dialysis fluid contains 30 mM bicarbonate compared with 32 mM in Hemosol B0. With prescribed CRRT clearances of ! 20 ml/ kg/h, most acid-base disturbances can be managed with bicarbonate compositions of 25-35 mM.<br/><strong>B</strong>: nan</p>\n",
       "<p><code>aas0055-0039.nxml</code> \"Phosphate-containing dialysis solution prevents hypophosphatemia during continuous renal replacement therapy\"<br/><strong>E</strong>: Main diagnoses leading to intensive care of the study groups.<br/><strong>A</strong>: Serum values (mmol/l, kPa) during CRRT with the phosphatecontaining dialysis fluid.Mean values of each day of all the patients. <em>P 0.001 between the groups during the CRRT treatment. wP 5 0.004 between the groups during the CRRT treatment. zDifferences between the groups were not statistically significant.§P 5 0.045 between the groups during the CRRT treatment.<br/></em><em>B</em>*: nan</p>\n",
       "<p><code>aas0055-0039.nxml</code> \"Phosphate-containing dialysis solution prevents hypophosphatemia during continuous renal replacement therapy\"<br/><strong>E</strong>: Serum values (mmol/l, kPa) during CRRT with the phosphate-containing dialysis fluid.<br/><strong>A</strong>: nan<br/><strong>B</strong>: nan</p>\n",
       "</blockquote></details>"
      ],
      "text/plain": [
       "<IPython.core.display.HTML object>"
      ]
     },
     "metadata": {},
     "output_type": "display_data"
    },
    {
     "data": {
      "text/html": [
       "<h2>Dataset: pmc-sample-1943-cc-by-subset (table_captions:partial_set exact)</h2>"
      ],
      "text/plain": [
       "<IPython.core.display.HTML object>"
      ]
     },
     "metadata": {},
     "output_type": "display_data"
    },
    {
     "data": {
      "text/html": [
       "<details><summary>Comparison: grobid-tei vs cermine</summary><p><strong>E</strong>: expected, <strong>A</strong>: pmc-sample-1943-cc-by-subset grobid-tei, <strong>B</strong>: pmc-sample-1943-cc-by-subset cermine (table_captions:partial_set exact)</p>\n",
       "<h4>grobid-tei [0 : 1] cermine (0)</h4>\n",
       "<p>There are 0 samples where grobid-tei got it wrong, but cermine got it right.</p>\n",
       "<h4>grobid-tei [1 : 0] cermine (6)</h4>\n",
       "<p>There are 6 samples where grobid-tei got it right, but cermine got it wrong.</p>\n",
       "<blockquote>\n",
       "<p><code>aas0055-0039.nxml</code> \"Phosphate-containing dialysis solution prevents hypophosphatemia during continuous renal replacement therapy\"<br/><strong>E</strong>: Fluid composition.<br/><strong>B</strong>: nan</p>\n",
       "<p><code>aas0055-0039.nxml</code> \"Phosphate-containing dialysis solution prevents hypophosphatemia during continuous renal replacement therapy\"<br/><strong>E</strong>: Serum solute concentrations (mmol/l) during CRRT with the phosphate containing dialysis fluid for patients in group 3.<br/><strong>B</strong>: nan</p>\n",
       "<p><code>sonc50-621.nxml</code> \"Management of cutaneous metastases using electrochemotherapy\"<br/><strong>E</strong>: Choice of anaesthesia according to location of metastases and size.<br/><strong>B</strong>: nan</p>\n",
       "</blockquote>\n",
       "<p>3 more</p>\n",
       "<h4>grobid-tei [0 : 0] cermine (5)</h4>\n",
       "<p>There are 5 samples where both grobid-tei and cermine got it wrong.</p>\n",
       "<blockquote>\n",
       "<p><code>aas0055-0039.nxml</code> \"Phosphate-containing dialysis solution prevents hypophosphatemia during continuous renal replacement therapy\"<br/><strong>E</strong>: Baseline characteristics of study patients and delivered CRRT.<br/><strong>A</strong>: ,35 Phosphate was within normal limits in 38% of patients even before the beginning of CRRT. The new dialysis fluid contains 30 mM bicarbonate compared with 32 mM in Hemosol B0. With prescribed CRRT clearances of ! 20 ml/ kg/h, most acid-base disturbances can be managed with bicarbonate compositions of 25-35 mM.<br/><strong>B</strong>: nan</p>\n",
       "<p><code>aas0055-0039.nxml</code> \"Phosphate-containing dialysis solution prevents hypophosphatemia during continuous renal replacement therapy\"<br/><strong>E</strong>: Main diagnoses leading to intensive care of the study groups.<br/><strong>A</strong>: Serum values (mmol/l, kPa) during CRRT with the phosphatecontaining dialysis fluid.Mean values of each day of all the patients. <em>P 0.001 between the groups during the CRRT treatment. wP 5 0.004 between the groups during the CRRT treatment. zDifferences between the groups were not statistically significant.§P 5 0.045 between the groups during the CRRT treatment.<br/></em><em>B</em>*: nan</p>\n",
       "<p><code>aas0055-0039.nxml</code> \"Phosphate-containing dialysis solution prevents hypophosphatemia during continuous renal replacement therapy\"<br/><strong>E</strong>: Serum values (mmol/l, kPa) during CRRT with the phosphate-containing dialysis fluid.<br/><strong>A</strong>: nan<br/><strong>B</strong>: nan</p>\n",
       "</blockquote>\n",
       "<p>2 more</p></details>"
      ],
      "text/plain": [
       "<IPython.core.display.HTML object>"
      ]
     },
     "metadata": {},
     "output_type": "display_data"
    },
    {
     "data": {
      "text/html": [
       "<hr/>"
      ],
      "text/plain": [
       "<IPython.core.display.HTML object>"
      ]
     },
     "metadata": {},
     "output_type": "display_data"
    },
    {
     "data": {
      "text/html": [
       "<h1>Field: table_label_captions:partial_list</h1>"
      ],
      "text/plain": [
       "<IPython.core.display.HTML object>"
      ]
     },
     "metadata": {},
     "output_type": "display_data"
    },
    {
     "data": {
      "text/html": [
       "<h2>Dataset: pmc-sample-1943-cc-by-subset (table_label_captions:partial_list levenshtein)</h2>"
      ],
      "text/plain": [
       "<IPython.core.display.HTML object>"
      ]
     },
     "metadata": {},
     "output_type": "display_data"
    },
    {
     "data": {
      "text/html": [
       "<details><summary>Comparison: grobid-tei vs cermine</summary><p><strong>E</strong>: expected, <strong>A</strong>: pmc-sample-1943-cc-by-subset grobid-tei, <strong>B</strong>: pmc-sample-1943-cc-by-subset cermine (table_label_captions:partial_list levenshtein)</p>\n",
       "<h4>grobid-tei [0 : 1] cermine (0)</h4>\n",
       "<p>There are 0 samples where grobid-tei got it wrong, but cermine got it right.</p>\n",
       "<h4>grobid-tei [1 : 0] cermine (4)</h4>\n",
       "<p>There are 4 samples where grobid-tei got it right, but cermine got it wrong.</p>\n",
       "<blockquote>\n",
       "<p><code>aas0055-0039.nxml</code> \"Phosphate-containing dialysis solution prevents hypophosphatemia during continuous renal replacement therapy\"<br/><strong>E</strong>: Table 1 Fluid composition.<br/><strong>B</strong>: nan</p>\n",
       "<p><code>sonc50-621.nxml</code> \"Management of cutaneous metastases using electrochemotherapy\"<br/><strong>E</strong>: Table I Patients' characteristics at baseline.<br/><strong>B</strong>: nan</p>\n",
       "<p><code>sonc50-621.nxml</code> \"Management of cutaneous metastases using electrochemotherapy\"<br/><strong>E</strong>: Table II Treatment data and response.<br/><strong>B</strong>: nan</p>\n",
       "</blockquote>\n",
       "<p>1 more</p>\n",
       "<h4>grobid-tei [0 : 0] cermine (7)</h4>\n",
       "<p>There are 7 samples where both grobid-tei and cermine got it wrong.</p>\n",
       "<blockquote>\n",
       "<p><code>aas0055-0039.nxml</code> \"Phosphate-containing dialysis solution prevents hypophosphatemia during continuous renal replacement therapy\"<br/><strong>E</strong>: Table 2 Main diagnoses leading to intensive care of the study groups.<br/><strong>A</strong>: Table 4 Serum solute concentrations (mmol/l) during CRRT with the phosphate containing dialysis fluid for patients in group 3.<br/><strong>B</strong>: nan</p>\n",
       "<p><code>aas0055-0039.nxml</code> \"Phosphate-containing dialysis solution prevents hypophosphatemia during continuous renal replacement therapy\"<br/><strong>E</strong>: Table 3 Baseline characteristics of study patients and delivered CRRT.<br/><strong>A</strong>: Table 5 Serum values (mmol/l, kPa) during CRRT with the phosphatecontaining dialysis fluid.Mean values of each day of all the patients. <em>P 0.001 between the groups during the CRRT treatment. wP 5 0.004 between the groups during the CRRT treatment. zDifferences between the groups were not statistically significant.§P 5 0.045 between the groups during the CRRT treatment.<br/></em><em>B</em>*: nan</p>\n",
       "<p><code>aas0055-0039.nxml</code> \"Phosphate-containing dialysis solution prevents hypophosphatemia during continuous renal replacement therapy\"<br/><strong>E</strong>: Table 5 Serum values (mmol/l, kPa) during CRRT with the phosphate-containing dialysis fluid.<br/><strong>A</strong>: ,35 Phosphate was within normal limits in 38% of patients even before the beginning of CRRT. The new dialysis fluid contains 30 mM bicarbonate compared with 32 mM in Hemosol B0. With prescribed CRRT clearances of ! 20 ml/ kg/h, most acid-base disturbances can be managed with bicarbonate compositions of 25-35 mM.<br/><strong>B</strong>: nan</p>\n",
       "</blockquote>\n",
       "<p>4 more</p></details>"
      ],
      "text/plain": [
       "<IPython.core.display.HTML object>"
      ]
     },
     "metadata": {},
     "output_type": "display_data"
    },
    {
     "data": {
      "text/html": [
       "<h2>Dataset: pmc-sample-1943-cc-by-subset (table_label_captions:partial_list exact)</h2>"
      ],
      "text/plain": [
       "<IPython.core.display.HTML object>"
      ]
     },
     "metadata": {},
     "output_type": "display_data"
    },
    {
     "data": {
      "text/html": [
       "<details><summary>Comparison: grobid-tei vs cermine</summary><p><strong>E</strong>: expected, <strong>A</strong>: pmc-sample-1943-cc-by-subset grobid-tei, <strong>B</strong>: pmc-sample-1943-cc-by-subset cermine (table_label_captions:partial_list exact)</p>\n",
       "<h4>grobid-tei [0 : 1] cermine (0)</h4>\n",
       "<p>There are 0 samples where grobid-tei got it wrong, but cermine got it right.</p>\n",
       "<h4>grobid-tei [1 : 0] cermine (1)</h4>\n",
       "<p>There are 1 samples where grobid-tei got it right, but cermine got it wrong.</p>\n",
       "<blockquote>\n",
       "<p><code>aas0055-0039.nxml</code> \"Phosphate-containing dialysis solution prevents hypophosphatemia during continuous renal replacement therapy\"<br/><strong>E</strong>: Table 1 Fluid composition.<br/><strong>B</strong>: nan</p>\n",
       "</blockquote>\n",
       "<h4>grobid-tei [0 : 0] cermine (10)</h4>\n",
       "<p>There are 10 samples where both grobid-tei and cermine got it wrong.</p>\n",
       "<blockquote>\n",
       "<p><code>aas0055-0039.nxml</code> \"Phosphate-containing dialysis solution prevents hypophosphatemia during continuous renal replacement therapy\"<br/><strong>E</strong>: Table 2 Main diagnoses leading to intensive care of the study groups.<br/><strong>A</strong>: Table 4 Serum solute concentrations (mmol/l) during CRRT with the phosphate containing dialysis fluid for patients in group 3.<br/><strong>B</strong>: nan</p>\n",
       "<p><code>aas0055-0039.nxml</code> \"Phosphate-containing dialysis solution prevents hypophosphatemia during continuous renal replacement therapy\"<br/><strong>E</strong>: Table 3 Baseline characteristics of study patients and delivered CRRT.<br/><strong>A</strong>: Table 5 Serum values (mmol/l, kPa) during CRRT with the phosphatecontaining dialysis fluid.Mean values of each day of all the patients. <em>P 0.001 between the groups during the CRRT treatment. wP 5 0.004 between the groups during the CRRT treatment. zDifferences between the groups were not statistically significant.§P 5 0.045 between the groups during the CRRT treatment.<br/></em><em>B</em>*: nan</p>\n",
       "<p><code>aas0055-0039.nxml</code> \"Phosphate-containing dialysis solution prevents hypophosphatemia during continuous renal replacement therapy\"<br/><strong>E</strong>: Table 5 Serum values (mmol/l, kPa) during CRRT with the phosphate-containing dialysis fluid.<br/><strong>A</strong>: ,35 Phosphate was within normal limits in 38% of patients even before the beginning of CRRT. The new dialysis fluid contains 30 mM bicarbonate compared with 32 mM in Hemosol B0. With prescribed CRRT clearances of ! 20 ml/ kg/h, most acid-base disturbances can be managed with bicarbonate compositions of 25-35 mM.<br/><strong>B</strong>: nan</p>\n",
       "</blockquote>\n",
       "<p>7 more</p></details>"
      ],
      "text/plain": [
       "<IPython.core.display.HTML object>"
      ]
     },
     "metadata": {},
     "output_type": "display_data"
    },
    {
     "data": {
      "text/html": [
       "<hr/>"
      ],
      "text/plain": [
       "<IPython.core.display.HTML object>"
      ]
     },
     "metadata": {},
     "output_type": "display_data"
    },
    {
     "data": {
      "text/html": [
       "<h1>Field: table_label_captions:partial_set</h1>"
      ],
      "text/plain": [
       "<IPython.core.display.HTML object>"
      ]
     },
     "metadata": {},
     "output_type": "display_data"
    },
    {
     "data": {
      "text/html": [
       "<h2>Dataset: pmc-sample-1943-cc-by-subset (table_label_captions:partial_set levenshtein)</h2>"
      ],
      "text/plain": [
       "<IPython.core.display.HTML object>"
      ]
     },
     "metadata": {},
     "output_type": "display_data"
    },
    {
     "data": {
      "text/html": [
       "<details><summary>Comparison: grobid-tei vs cermine</summary><p><strong>E</strong>: expected, <strong>A</strong>: pmc-sample-1943-cc-by-subset grobid-tei, <strong>B</strong>: pmc-sample-1943-cc-by-subset cermine (table_label_captions:partial_set levenshtein)</p>\n",
       "<h4>grobid-tei [0 : 1] cermine (0)</h4>\n",
       "<p>There are 0 samples where grobid-tei got it wrong, but cermine got it right.</p>\n",
       "<h4>grobid-tei [1 : 0] cermine (8)</h4>\n",
       "<p>There are 8 samples where grobid-tei got it right, but cermine got it wrong.</p>\n",
       "<blockquote>\n",
       "<p><code>aas0055-0039.nxml</code> \"Phosphate-containing dialysis solution prevents hypophosphatemia during continuous renal replacement therapy\"<br/><strong>E</strong>: Table 1 Fluid composition.<br/><strong>B</strong>: nan</p>\n",
       "<p><code>aas0055-0039.nxml</code> \"Phosphate-containing dialysis solution prevents hypophosphatemia during continuous renal replacement therapy\"<br/><strong>E</strong>: Table 4 Serum solute concentrations (mmol/l) during CRRT with the phosphate containing dialysis fluid for patients in group 3.<br/><strong>B</strong>: nan</p>\n",
       "<p><code>sonc50-621.nxml</code> \"Management of cutaneous metastases using electrochemotherapy\"<br/><strong>E</strong>: Table I Patients' characteristics at baseline.<br/><strong>B</strong>: nan</p>\n",
       "</blockquote>\n",
       "<p>5 more</p>\n",
       "<h4>grobid-tei [0 : 0] cermine (3)</h4>\n",
       "<p>There are 3 samples where both grobid-tei and cermine got it wrong.</p>\n",
       "<blockquote>\n",
       "<p><code>aas0055-0039.nxml</code> \"Phosphate-containing dialysis solution prevents hypophosphatemia during continuous renal replacement therapy\"<br/><strong>E</strong>: Table 2 Main diagnoses leading to intensive care of the study groups.<br/><strong>A</strong>: ,35 Phosphate was within normal limits in 38% of patients even before the beginning of CRRT. The new dialysis fluid contains 30 mM bicarbonate compared with 32 mM in Hemosol B0. With prescribed CRRT clearances of ! 20 ml/ kg/h, most acid-base disturbances can be managed with bicarbonate compositions of 25-35 mM.<br/><strong>B</strong>: nan</p>\n",
       "<p><code>aas0055-0039.nxml</code> \"Phosphate-containing dialysis solution prevents hypophosphatemia during continuous renal replacement therapy\"<br/><strong>E</strong>: Table 3 Baseline characteristics of study patients and delivered CRRT.<br/><strong>A</strong>: Table 5 Serum values (mmol/l, kPa) during CRRT with the phosphatecontaining dialysis fluid.Mean values of each day of all the patients. <em>P 0.001 between the groups during the CRRT treatment. wP 5 0.004 between the groups during the CRRT treatment. zDifferences between the groups were not statistically significant.§P 5 0.045 between the groups during the CRRT treatment.<br/></em><em>B</em>*: nan</p>\n",
       "<p><code>aas0055-0039.nxml</code> \"Phosphate-containing dialysis solution prevents hypophosphatemia during continuous renal replacement therapy\"<br/><strong>E</strong>: Table 5 Serum values (mmol/l, kPa) during CRRT with the phosphate-containing dialysis fluid.<br/><strong>A</strong>: nan<br/><strong>B</strong>: nan</p>\n",
       "</blockquote></details>"
      ],
      "text/plain": [
       "<IPython.core.display.HTML object>"
      ]
     },
     "metadata": {},
     "output_type": "display_data"
    },
    {
     "data": {
      "text/html": [
       "<h2>Dataset: pmc-sample-1943-cc-by-subset (table_label_captions:partial_set exact)</h2>"
      ],
      "text/plain": [
       "<IPython.core.display.HTML object>"
      ]
     },
     "metadata": {},
     "output_type": "display_data"
    },
    {
     "data": {
      "text/html": [
       "<details><summary>Comparison: grobid-tei vs cermine</summary><p><strong>E</strong>: expected, <strong>A</strong>: pmc-sample-1943-cc-by-subset grobid-tei, <strong>B</strong>: pmc-sample-1943-cc-by-subset cermine (table_label_captions:partial_set exact)</p>\n",
       "<h4>grobid-tei [0 : 1] cermine (0)</h4>\n",
       "<p>There are 0 samples where grobid-tei got it wrong, but cermine got it right.</p>\n",
       "<h4>grobid-tei [1 : 0] cermine (4)</h4>\n",
       "<p>There are 4 samples where grobid-tei got it right, but cermine got it wrong.</p>\n",
       "<blockquote>\n",
       "<p><code>aas0055-0039.nxml</code> \"Phosphate-containing dialysis solution prevents hypophosphatemia during continuous renal replacement therapy\"<br/><strong>E</strong>: Table 1 Fluid composition.<br/><strong>B</strong>: nan</p>\n",
       "<p><code>aas0055-0039.nxml</code> \"Phosphate-containing dialysis solution prevents hypophosphatemia during continuous renal replacement therapy\"<br/><strong>E</strong>: Table 4 Serum solute concentrations (mmol/l) during CRRT with the phosphate containing dialysis fluid for patients in group 3.<br/><strong>B</strong>: nan</p>\n",
       "<p><code>apa0100-0653.nxml</code> \"Placental programming of blood pressure in Indian children\"<br/><strong>E</strong>: Table 1 Characteristics of the mothers, placentas, babies and children in the Mysore Parthenon cohort<br/><strong>B</strong>: nan</p>\n",
       "</blockquote>\n",
       "<p>1 more</p>\n",
       "<h4>grobid-tei [0 : 0] cermine (7)</h4>\n",
       "<p>There are 7 samples where both grobid-tei and cermine got it wrong.</p>\n",
       "<blockquote>\n",
       "<p><code>aas0055-0039.nxml</code> \"Phosphate-containing dialysis solution prevents hypophosphatemia during continuous renal replacement therapy\"<br/><strong>E</strong>: Table 2 Main diagnoses leading to intensive care of the study groups.<br/><strong>A</strong>: ,35 Phosphate was within normal limits in 38% of patients even before the beginning of CRRT. The new dialysis fluid contains 30 mM bicarbonate compared with 32 mM in Hemosol B0. With prescribed CRRT clearances of ! 20 ml/ kg/h, most acid-base disturbances can be managed with bicarbonate compositions of 25-35 mM.<br/><strong>B</strong>: nan</p>\n",
       "<p><code>aas0055-0039.nxml</code> \"Phosphate-containing dialysis solution prevents hypophosphatemia during continuous renal replacement therapy\"<br/><strong>E</strong>: Table 3 Baseline characteristics of study patients and delivered CRRT.<br/><strong>A</strong>: Table 5 Serum values (mmol/l, kPa) during CRRT with the phosphatecontaining dialysis fluid.Mean values of each day of all the patients. <em>P 0.001 between the groups during the CRRT treatment. wP 5 0.004 between the groups during the CRRT treatment. zDifferences between the groups were not statistically significant.§P 5 0.045 between the groups during the CRRT treatment.<br/></em><em>B</em>*: nan</p>\n",
       "<p><code>aas0055-0039.nxml</code> \"Phosphate-containing dialysis solution prevents hypophosphatemia during continuous renal replacement therapy\"<br/><strong>E</strong>: Table 5 Serum values (mmol/l, kPa) during CRRT with the phosphate-containing dialysis fluid.<br/><strong>A</strong>: nan<br/><strong>B</strong>: nan</p>\n",
       "</blockquote>\n",
       "<p>4 more</p></details>"
      ],
      "text/plain": [
       "<IPython.core.display.HTML object>"
      ]
     },
     "metadata": {},
     "output_type": "display_data"
    },
    {
     "data": {
      "text/html": [
       "<hr/>"
      ],
      "text/plain": [
       "<IPython.core.display.HTML object>"
      ]
     },
     "metadata": {},
     "output_type": "display_data"
    },
    {
     "data": {
      "text/html": [
       "<h1>Field: figure_labels:partial_list</h1>"
      ],
      "text/plain": [
       "<IPython.core.display.HTML object>"
      ]
     },
     "metadata": {},
     "output_type": "display_data"
    },
    {
     "data": {
      "text/html": [
       "<h2>Dataset: pmc-sample-1943-cc-by-subset (figure_labels:partial_list levenshtein)</h2>"
      ],
      "text/plain": [
       "<IPython.core.display.HTML object>"
      ]
     },
     "metadata": {},
     "output_type": "display_data"
    },
    {
     "data": {
      "text/html": [
       "<details><summary>Comparison: grobid-tei vs cermine</summary><p><strong>E</strong>: expected, <strong>A</strong>: pmc-sample-1943-cc-by-subset grobid-tei, <strong>B</strong>: pmc-sample-1943-cc-by-subset cermine (figure_labels:partial_list levenshtein)</p>\n",
       "<h4>grobid-tei [0 : 1] cermine (0)</h4>\n",
       "<p>There are 0 samples where grobid-tei got it wrong, but cermine got it right.</p>\n",
       "<h4>grobid-tei [1 : 0] cermine (8)</h4>\n",
       "<p>There are 8 samples where grobid-tei got it right, but cermine got it wrong.</p>\n",
       "<blockquote>\n",
       "<p><code>sobs89-975.nxml</code> \"Camera trocar lifting in office gasless laparoscopic sterilization under local anesthesia\"<br/><strong>E</strong>: Figure 1<br/><strong>B</strong>: nan</p>\n",
       "<p><code>sobs89-975.nxml</code> \"Camera trocar lifting in office gasless laparoscopic sterilization under local anesthesia\"<br/><strong>E</strong>: Figure 2<br/><strong>B</strong>: nan</p>\n",
       "<p><code>soto131-469.nxml</code> \"Visualization and assessment of saccular duct and endolymphatic sinus\"<br/><strong>E</strong>: Figure 1<br/><strong>B</strong>: nan</p>\n",
       "</blockquote>\n",
       "<p>5 more</p>\n",
       "<h4>grobid-tei [0 : 0] cermine (14)</h4>\n",
       "<p>There are 14 samples where both grobid-tei and cermine got it wrong.</p>\n",
       "<blockquote>\n",
       "<p><code>aas0055-0039.nxml</code> \"Phosphate-containing dialysis solution prevents hypophosphatemia during continuous renal replacement therapy\"<br/><strong>E</strong>: Fig. 1<br/><strong>A</strong>: Fig. 1 .<br/><strong>B</strong>: nan</p>\n",
       "<p><code>aas0055-0039.nxml</code> \"Phosphate-containing dialysis solution prevents hypophosphatemia during continuous renal replacement therapy\"<br/><strong>E</strong>: Fig. 2<br/><strong>A</strong>: Fig. 2 .<br/><strong>B</strong>: nan</p>\n",
       "<p><code>sonc50-621.nxml</code> \"Management of cutaneous metastases using electrochemotherapy\"<br/><strong>E</strong>: Figure 1<br/><strong>A</strong>: Figure 2 .<br/><strong>B</strong>: nan</p>\n",
       "</blockquote>\n",
       "<p>11 more</p></details>"
      ],
      "text/plain": [
       "<IPython.core.display.HTML object>"
      ]
     },
     "metadata": {},
     "output_type": "display_data"
    },
    {
     "data": {
      "text/html": [
       "<h2>Dataset: pmc-sample-1943-cc-by-subset (figure_labels:partial_list exact)</h2>"
      ],
      "text/plain": [
       "<IPython.core.display.HTML object>"
      ]
     },
     "metadata": {},
     "output_type": "display_data"
    },
    {
     "data": {
      "text/html": [
       "<details><summary>Comparison: grobid-tei vs cermine</summary><p><strong>E</strong>: expected, <strong>A</strong>: pmc-sample-1943-cc-by-subset grobid-tei, <strong>B</strong>: pmc-sample-1943-cc-by-subset cermine (figure_labels:partial_list exact)</p>\n",
       "<h4>grobid-tei [0 : 1] cermine (0)</h4>\n",
       "<p>There are 0 samples where grobid-tei got it wrong, but cermine got it right.</p>\n",
       "<h4>grobid-tei [1 : 0] cermine (0)</h4>\n",
       "<p>There are 0 samples where grobid-tei got it right, but cermine got it wrong.</p>\n",
       "<h4>grobid-tei [0 : 0] cermine (22)</h4>\n",
       "<p>There are 22 samples where both grobid-tei and cermine got it wrong.</p>\n",
       "<blockquote>\n",
       "<p><code>aas0055-0039.nxml</code> \"Phosphate-containing dialysis solution prevents hypophosphatemia during continuous renal replacement therapy\"<br/><strong>E</strong>: Fig. 1<br/><strong>A</strong>: Fig. 1 .<br/><strong>B</strong>: nan</p>\n",
       "<p><code>aas0055-0039.nxml</code> \"Phosphate-containing dialysis solution prevents hypophosphatemia during continuous renal replacement therapy\"<br/><strong>E</strong>: Fig. 2<br/><strong>A</strong>: Fig. 2 .<br/><strong>B</strong>: nan</p>\n",
       "<p><code>sobs89-975.nxml</code> \"Camera trocar lifting in office gasless laparoscopic sterilization under local anesthesia\"<br/><strong>E</strong>: Figure 1<br/><strong>A</strong>: Figure 1 .<br/><strong>B</strong>: nan</p>\n",
       "</blockquote>\n",
       "<p>19 more</p></details>"
      ],
      "text/plain": [
       "<IPython.core.display.HTML object>"
      ]
     },
     "metadata": {},
     "output_type": "display_data"
    },
    {
     "data": {
      "text/html": [
       "<hr/>"
      ],
      "text/plain": [
       "<IPython.core.display.HTML object>"
      ]
     },
     "metadata": {},
     "output_type": "display_data"
    },
    {
     "data": {
      "text/html": [
       "<h1>Field: figure_labels:partial_set</h1>"
      ],
      "text/plain": [
       "<IPython.core.display.HTML object>"
      ]
     },
     "metadata": {},
     "output_type": "display_data"
    },
    {
     "data": {
      "text/html": [
       "<h2>Dataset: pmc-sample-1943-cc-by-subset (figure_labels:partial_set levenshtein)</h2>"
      ],
      "text/plain": [
       "<IPython.core.display.HTML object>"
      ]
     },
     "metadata": {},
     "output_type": "display_data"
    },
    {
     "data": {
      "text/html": [
       "<details><summary>Comparison: grobid-tei vs cermine</summary><p><strong>E</strong>: expected, <strong>A</strong>: pmc-sample-1943-cc-by-subset grobid-tei, <strong>B</strong>: pmc-sample-1943-cc-by-subset cermine (figure_labels:partial_set levenshtein)</p>\n",
       "<h4>grobid-tei [0 : 1] cermine (0)</h4>\n",
       "<p>There are 0 samples where grobid-tei got it wrong, but cermine got it right.</p>\n",
       "<h4>grobid-tei [1 : 0] cermine (11)</h4>\n",
       "<p>There are 11 samples where grobid-tei got it right, but cermine got it wrong.</p>\n",
       "<blockquote>\n",
       "<p><code>sobs89-975.nxml</code> \"Camera trocar lifting in office gasless laparoscopic sterilization under local anesthesia\"<br/><strong>E</strong>: Figure 1<br/><strong>B</strong>: nan</p>\n",
       "<p><code>sobs89-975.nxml</code> \"Camera trocar lifting in office gasless laparoscopic sterilization under local anesthesia\"<br/><strong>E</strong>: Figure 2<br/><strong>B</strong>: nan</p>\n",
       "<p><code>sonc50-621.nxml</code> \"Management of cutaneous metastases using electrochemotherapy\"<br/><strong>E</strong>: Figure 2<br/><strong>B</strong>: nan</p>\n",
       "</blockquote>\n",
       "<p>8 more</p>\n",
       "<h4>grobid-tei [0 : 0] cermine (11)</h4>\n",
       "<p>There are 11 samples where both grobid-tei and cermine got it wrong.</p>\n",
       "<blockquote>\n",
       "<p><code>aas0055-0039.nxml</code> \"Phosphate-containing dialysis solution prevents hypophosphatemia during continuous renal replacement therapy\"<br/><strong>E</strong>: Fig. 1<br/><strong>A</strong>: Fig. 1 .<br/><strong>B</strong>: nan</p>\n",
       "<p><code>aas0055-0039.nxml</code> \"Phosphate-containing dialysis solution prevents hypophosphatemia during continuous renal replacement therapy\"<br/><strong>E</strong>: Fig. 2<br/><strong>A</strong>: Fig. 2 .<br/><strong>B</strong>: nan</p>\n",
       "<p><code>sonc50-621.nxml</code> \"Management of cutaneous metastases using electrochemotherapy\"<br/><strong>E</strong>: Figure 1<br/><strong>A</strong>: nan<br/><strong>B</strong>: nan</p>\n",
       "</blockquote>\n",
       "<p>8 more</p></details>"
      ],
      "text/plain": [
       "<IPython.core.display.HTML object>"
      ]
     },
     "metadata": {},
     "output_type": "display_data"
    },
    {
     "data": {
      "text/html": [
       "<h2>Dataset: pmc-sample-1943-cc-by-subset (figure_labels:partial_set exact)</h2>"
      ],
      "text/plain": [
       "<IPython.core.display.HTML object>"
      ]
     },
     "metadata": {},
     "output_type": "display_data"
    },
    {
     "data": {
      "text/html": [
       "<details><summary>Comparison: grobid-tei vs cermine</summary><p><strong>E</strong>: expected, <strong>A</strong>: pmc-sample-1943-cc-by-subset grobid-tei, <strong>B</strong>: pmc-sample-1943-cc-by-subset cermine (figure_labels:partial_set exact)</p>\n",
       "<h4>grobid-tei [0 : 1] cermine (0)</h4>\n",
       "<p>There are 0 samples where grobid-tei got it wrong, but cermine got it right.</p>\n",
       "<h4>grobid-tei [1 : 0] cermine (3)</h4>\n",
       "<p>There are 3 samples where grobid-tei got it right, but cermine got it wrong.</p>\n",
       "<blockquote>\n",
       "<p><code>apha0202-0379.nxml</code> \"On the function of the mammalian renal papilla and the peristalsis of the surrounding pelvis\"<br/><strong>E</strong>: Figure 10<br/><strong>B</strong>: nan</p>\n",
       "<p><code>apha0202-0379.nxml</code> \"On the function of the mammalian renal papilla and the peristalsis of the surrounding pelvis\"<br/><strong>E</strong>: Figure 4<br/><strong>B</strong>: nan</p>\n",
       "<p><code>apha0202-0379.nxml</code> \"On the function of the mammalian renal papilla and the peristalsis of the surrounding pelvis\"<br/><strong>E</strong>: Figure 5<br/><strong>B</strong>: nan</p>\n",
       "</blockquote>\n",
       "<h4>grobid-tei [0 : 0] cermine (19)</h4>\n",
       "<p>There are 19 samples where both grobid-tei and cermine got it wrong.</p>\n",
       "<blockquote>\n",
       "<p><code>aas0055-0039.nxml</code> \"Phosphate-containing dialysis solution prevents hypophosphatemia during continuous renal replacement therapy\"<br/><strong>E</strong>: Fig. 1<br/><strong>A</strong>: Fig. 1 .<br/><strong>B</strong>: nan</p>\n",
       "<p><code>aas0055-0039.nxml</code> \"Phosphate-containing dialysis solution prevents hypophosphatemia during continuous renal replacement therapy\"<br/><strong>E</strong>: Fig. 2<br/><strong>A</strong>: Fig. 2 .<br/><strong>B</strong>: nan</p>\n",
       "<p><code>sobs89-975.nxml</code> \"Camera trocar lifting in office gasless laparoscopic sterilization under local anesthesia\"<br/><strong>E</strong>: Figure 1<br/><strong>A</strong>: Figure 1 .<br/><strong>B</strong>: nan</p>\n",
       "</blockquote>\n",
       "<p>16 more</p></details>"
      ],
      "text/plain": [
       "<IPython.core.display.HTML object>"
      ]
     },
     "metadata": {},
     "output_type": "display_data"
    },
    {
     "data": {
      "text/html": [
       "<hr/>"
      ],
      "text/plain": [
       "<IPython.core.display.HTML object>"
      ]
     },
     "metadata": {},
     "output_type": "display_data"
    },
    {
     "data": {
      "text/html": [
       "<h1>Field: figure_captions:partial_list</h1>"
      ],
      "text/plain": [
       "<IPython.core.display.HTML object>"
      ]
     },
     "metadata": {},
     "output_type": "display_data"
    },
    {
     "data": {
      "text/html": [
       "<h2>Dataset: pmc-sample-1943-cc-by-subset (figure_captions:partial_list levenshtein)</h2>"
      ],
      "text/plain": [
       "<IPython.core.display.HTML object>"
      ]
     },
     "metadata": {},
     "output_type": "display_data"
    },
    {
     "data": {
      "text/html": [
       "<details><summary>Comparison: grobid-tei vs cermine</summary><p><strong>E</strong>: expected, <strong>A</strong>: pmc-sample-1943-cc-by-subset grobid-tei, <strong>B</strong>: pmc-sample-1943-cc-by-subset cermine (figure_captions:partial_list levenshtein)</p>\n",
       "<h4>grobid-tei [0 : 1] cermine (0)</h4>\n",
       "<p>There are 0 samples where grobid-tei got it wrong, but cermine got it right.</p>\n",
       "<h4>grobid-tei [1 : 0] cermine (7)</h4>\n",
       "<p>There are 7 samples where grobid-tei got it right, but cermine got it wrong.</p>\n",
       "<blockquote>\n",
       "<p><code>aas0055-0039.nxml</code> \"Phosphate-containing dialysis solution prevents hypophosphatemia during continuous renal replacement therapy\"<br/><strong>E</strong>: Events of hypophosphatemia during the continuous renal replacement therapy. Treatment with the phosphate-containing solution for dialysis resulted in no episodes of hypophosphatemia.<br/><strong>B</strong>: nan</p>\n",
       "<p><code>aas0055-0039.nxml</code> \"Phosphate-containing dialysis solution prevents hypophosphatemia during continuous renal replacement therapy\"<br/><strong>E*<em>: Serum phosphate levels during the continuous renal replacement therapy treatment. Group 1, receiving Hemosol B0 (diamond), group 2, receiving the phosphate-containing dialysis fluid as the dialysis fluid and Hemosol B0 as the replacement fluid (triangle), and group 3, receiving the phosphate-containing dialysis fluid (square). Groups 2 and 3 were statistically compared with group 1. n=14 patients/group, **P&lt;0.01, </em></strong>P&lt;0.001.<br/><strong>B</strong>: nan</p>\n",
       "<p><code>sobs89-975.nxml</code> \"Camera trocar lifting in office gasless laparoscopic sterilization under local anesthesia\"<br/><strong>E</strong>: Mechanical lifting<br/><strong>B</strong>: nan</p>\n",
       "</blockquote>\n",
       "<p>4 more</p>\n",
       "<h4>grobid-tei [0 : 0] cermine (16)</h4>\n",
       "<p>There are 16 samples where both grobid-tei and cermine got it wrong.</p>\n",
       "<blockquote>\n",
       "<p><code>sonc50-621.nxml</code> \"Management of cutaneous metastases using electrochemotherapy\"<br/><strong>E</strong>: The electroporation procedure: A. Electroporation occurs when an applied external field exceeds the capacity of the cell membrane. The formation of permeable areas happens in the frame of less than a second whereas resealing happens over minutes. As the resting transmembrane potential is negative on the inside respective to the outside, the first part of the membrane that will be permeabilised is the pole facing the positive electrode. The positive electrode should be imagined in the left of the picture and the negative electrode on the right. Pulses were delivered to a cell suspended in medium containing propidium iodide and after the pulses propidium iodide is trapped within the cells [9]. B. The application of pulses to skin tumours must be preceded by local or general anaesthesia, in local anaesthesia the lidocain is injected around the metastasis. C. The cliniporator equipment allows monitoring of voltage and current during the pulse. D. A treatment situation is shown where a patient is receiving local injection of bleomycin followed by application of pulses under local anaesthesia. The application of pulses lasts only a few minutes in total.<br/><strong>A</strong>: Electrochemotherapy. In the right panel, bleomycin is injected at the tumour site, at a concentration of 1000 IU/ml (1 U/ml). In the middle panel the electric pulses are subsequently applied, cells are permeabilised and the drug enters. In the left panel the cells reseal after a few minutes and the extracellular drug is washed out while the internalised molecules remain trapped intracellularly.<br/><strong>B</strong>: nan</p>\n",
       "<p><code>sonc50-621.nxml</code> \"Management of cutaneous metastases using electrochemotherapy\"<br/><strong>E</strong>: Electrochemotherapy. In the right panel, bleomycin is injected at the tumour site, at a concentration of 1000 IU/ml (1 U/ml). In the middle panel the electric pulses are subsequently applied, cells are permeabilised and the drug enters. In the left panel the cells reseal after a few minutes and the extracellular drug is washed out while the internalised molecules remain trapped intracellularly.<br/><strong>A</strong>: Results. Top: ECT treatment of a 75-year-old woman with metastatic breast cancer.<br/><strong>B</strong>: nan</p>\n",
       "<p><code>sonc50-621.nxml</code> \"Management of cutaneous metastases using electrochemotherapy\"<br/><strong>E</strong>: Results. Top: ECT treatment of a 75-year-old woman with metastatic breast cancer. Previously the patient underwent surgery and received endocrine therapy, chemotherapy and radiotherapy. The patient was treated with one single treatment of ECT in local anaesthesia with intratumoural injection of bleomycin. A. before treatment, B. two weeks after treatment, C. four weeks after treatment. A crust formed and after four weeks showed signs of falling of. The patient was very satisfi ed with the treatment and had no side-effects. Middle: ECT treatment of an 82-year-old woman with malignant melanoma. The patient was diagnosed in 2007, since had local spread on the lower limb and metastasis to the lungs. The patient was not suited for temozolamide, immunotherapy or isolated limb perfusion. The patient was treated with ECT in general anaesthesia and intravenous injection of bleomycin. A. before treatment, B. 24 days after treatment and C. three months after treatment. After three months the metastasis is in partial response. Bottom: ECT treatment of a 38-year-old woman with metastatic breast cancer. Previously the patient underwent mastectomy, radiotherapy and chemotherapy. The patient was treated with one single treatment of ECT in general anaesthesia with i.v. injection of bleomycin. A. before treatment, B. 10 weeks after treatment, C. two years and two months after treatment with complete resolution despite ongoing systemic disease.<br/><strong>A</strong>: nan<br/><strong>B</strong>: nan</p>\n",
       "</blockquote>\n",
       "<p>13 more</p></details>"
      ],
      "text/plain": [
       "<IPython.core.display.HTML object>"
      ]
     },
     "metadata": {},
     "output_type": "display_data"
    },
    {
     "data": {
      "text/html": [
       "<h2>Dataset: pmc-sample-1943-cc-by-subset (figure_captions:partial_list exact)</h2>"
      ],
      "text/plain": [
       "<IPython.core.display.HTML object>"
      ]
     },
     "metadata": {},
     "output_type": "display_data"
    },
    {
     "data": {
      "text/html": [
       "<details><summary>Comparison: grobid-tei vs cermine</summary><p><strong>E</strong>: expected, <strong>A</strong>: pmc-sample-1943-cc-by-subset grobid-tei, <strong>B</strong>: pmc-sample-1943-cc-by-subset cermine (figure_captions:partial_list exact)</p>\n",
       "<h4>grobid-tei [0 : 1] cermine (0)</h4>\n",
       "<p>There are 0 samples where grobid-tei got it wrong, but cermine got it right.</p>\n",
       "<h4>grobid-tei [1 : 0] cermine (4)</h4>\n",
       "<p>There are 4 samples where grobid-tei got it right, but cermine got it wrong.</p>\n",
       "<blockquote>\n",
       "<p><code>aas0055-0039.nxml</code> \"Phosphate-containing dialysis solution prevents hypophosphatemia during continuous renal replacement therapy\"<br/><strong>E</strong>: Events of hypophosphatemia during the continuous renal replacement therapy. Treatment with the phosphate-containing solution for dialysis resulted in no episodes of hypophosphatemia.<br/><strong>B</strong>: nan</p>\n",
       "<p><code>soto131-469.nxml</code> \"Visualization and assessment of saccular duct and endolymphatic sinus\"<br/><strong>E</strong>: Macroscopic findings of the vestibule in the cadaver (left ear). (A) Membranous composition of the saccule and its intact connecting duct. Arrows show the reuniting duct, and arrowheads show the saccular duct and endolymphatic sinus. (B) Membranous compositions of the saccule and reuniting duct were removed. Arrows show the YT groove of the reuniting duct. Arrowheads, saccular duct. (C) The sulciform groove of the saccular duct (white dashed arrows) and endolymphatic sinus (white arrows) reach the orifice of the vestibular aqueduct. (D) Schematic view of the YT groove (bold arrows) of the reuniting duct and sulciform groove (dashed arrows) of the saccular duct and endolymphatic sinus. CR, cochlear recess; ED, endolymphatic duct; ES, endolymphatic sac; IAC, internal auditory canal; L, lateral semicircular canal; OS, osseous spiral lamina; P, posterior semicircular canal; S, superior semicircular canal; SA, saccule; SR, saccular recess; UR, utricular recess.<br/><strong>B</strong>: nan</p>\n",
       "<p><code>soto131-469.nxml</code> \"Visualization and assessment of saccular duct and endolymphatic sinus\"<br/><strong>E</strong>: Direction of CT examination and CT findings in the cadaver. (A) This position of the temporal bone is suitable to obtain more accurate CT images of the saccule, saccular duct, and endolymphatic sinus. Note that the remnant membranous labyrinth, shown in black, is visible. Insert: Higher magnification of the groove of the saccular duct (white dashed arrows) and endolymphatic sinus (white arrows). (B) The sulciform groove-like 3D CT image of the saccular duct and endolymphatic sinus of the same specimen as in (A), which was examined in the same direction as in (A) with a bone CT window level. (C) The same specimen as in (A) with CT window levels of bone and soft tissue. The membranous composition of the saccular duct and endolymphatic sinus in purple (white arrows) are surrounded by the artificial shadow of a rendering effect. The details of the aspects are consistent with macroscopic specimens. Purple indicates soft tissue. CR, cochlear recess; IAC, internal auditory canal; L, lateral semicircular canal; OS, osseous spiral lamina; P, posterior semicircular canal; S, superior semicircular canal; SR, saccular recess; UR, utricular recess.<br/><strong>B</strong>: nan</p>\n",
       "</blockquote>\n",
       "<p>1 more</p>\n",
       "<h4>grobid-tei [0 : 0] cermine (19)</h4>\n",
       "<p>There are 19 samples where both grobid-tei and cermine got it wrong.</p>\n",
       "<blockquote>\n",
       "<p><code>aas0055-0039.nxml</code> \"Phosphate-containing dialysis solution prevents hypophosphatemia during continuous renal replacement therapy\"<br/><strong>E*<em>: Serum phosphate levels during the continuous renal replacement therapy treatment. Group 1, receiving Hemosol B0 (diamond), group 2, receiving the phosphate-containing dialysis fluid as the dialysis fluid and Hemosol B0 as the replacement fluid (triangle), and group 3, receiving the phosphate-containing dialysis fluid (square). Groups 2 and 3 were statistically compared with group 1. n=14 patients/group, **P&lt;0.01, </em></strong>P&lt;0.001.<br/><strong>A*<em>: Serum phosphate levels during the continuous renal replacement therapy treatment. Group 1, receiving Hemosol B0 (diamond), group 2, receiving the phosphate-containing dialysis fluid as the dialysis fluid and Hemosol B0 as the replacement fluid (triangle), and group 3, receiving the phosphate-containing dialysis fluid (square). Groups 2 and 3 were statistically compared with group 1. n 5 14 patients/group, **Po0.01, </em></strong>Po0.001.<br/><strong>B</strong>: nan</p>\n",
       "<p><code>sobs89-975.nxml</code> \"Camera trocar lifting in office gasless laparoscopic sterilization under local anesthesia\"<br/><strong>E</strong>: Mechanical lifting<br/><strong>A</strong>: Mechanical lifting.<br/><strong>B</strong>: nan</p>\n",
       "<p><code>sobs89-975.nxml</code> \"Camera trocar lifting in office gasless laparoscopic sterilization under local anesthesia\"<br/><strong>E</strong>: Slit-trocar for gas/gasless laparoscopy<br/><strong>A</strong>: Slit-trocar for gas/gasless laparoscopy.<br/><strong>B</strong>: nan</p>\n",
       "</blockquote>\n",
       "<p>16 more</p></details>"
      ],
      "text/plain": [
       "<IPython.core.display.HTML object>"
      ]
     },
     "metadata": {},
     "output_type": "display_data"
    },
    {
     "data": {
      "text/html": [
       "<hr/>"
      ],
      "text/plain": [
       "<IPython.core.display.HTML object>"
      ]
     },
     "metadata": {},
     "output_type": "display_data"
    },
    {
     "data": {
      "text/html": [
       "<h1>Field: figure_captions:partial_set</h1>"
      ],
      "text/plain": [
       "<IPython.core.display.HTML object>"
      ]
     },
     "metadata": {},
     "output_type": "display_data"
    },
    {
     "data": {
      "text/html": [
       "<h2>Dataset: pmc-sample-1943-cc-by-subset (figure_captions:partial_set levenshtein)</h2>"
      ],
      "text/plain": [
       "<IPython.core.display.HTML object>"
      ]
     },
     "metadata": {},
     "output_type": "display_data"
    },
    {
     "data": {
      "text/html": [
       "<details><summary>Comparison: grobid-tei vs cermine</summary><p><strong>E</strong>: expected, <strong>A</strong>: pmc-sample-1943-cc-by-subset grobid-tei, <strong>B</strong>: pmc-sample-1943-cc-by-subset cermine (figure_captions:partial_set levenshtein)</p>\n",
       "<h4>grobid-tei [0 : 1] cermine (0)</h4>\n",
       "<p>There are 0 samples where grobid-tei got it wrong, but cermine got it right.</p>\n",
       "<h4>grobid-tei [1 : 0] cermine (11)</h4>\n",
       "<p>There are 11 samples where grobid-tei got it right, but cermine got it wrong.</p>\n",
       "<blockquote>\n",
       "<p><code>aas0055-0039.nxml</code> \"Phosphate-containing dialysis solution prevents hypophosphatemia during continuous renal replacement therapy\"<br/><strong>E</strong>: Events of hypophosphatemia during the continuous renal replacement therapy. Treatment with the phosphate-containing solution for dialysis resulted in no episodes of hypophosphatemia.<br/><strong>B</strong>: nan</p>\n",
       "<p><code>aas0055-0039.nxml</code> \"Phosphate-containing dialysis solution prevents hypophosphatemia during continuous renal replacement therapy\"<br/><strong>E*<em>: Serum phosphate levels during the continuous renal replacement therapy treatment. Group 1, receiving Hemosol B0 (diamond), group 2, receiving the phosphate-containing dialysis fluid as the dialysis fluid and Hemosol B0 as the replacement fluid (triangle), and group 3, receiving the phosphate-containing dialysis fluid (square). Groups 2 and 3 were statistically compared with group 1. n=14 patients/group, **P&lt;0.01, </em></strong>P&lt;0.001.<br/><strong>B</strong>: nan</p>\n",
       "<p><code>sobs89-975.nxml</code> \"Camera trocar lifting in office gasless laparoscopic sterilization under local anesthesia\"<br/><strong>E</strong>: Mechanical lifting<br/><strong>B</strong>: nan</p>\n",
       "</blockquote>\n",
       "<p>8 more</p>\n",
       "<h4>grobid-tei [0 : 0] cermine (12)</h4>\n",
       "<p>There are 12 samples where both grobid-tei and cermine got it wrong.</p>\n",
       "<blockquote>\n",
       "<p><code>sonc50-621.nxml</code> \"Management of cutaneous metastases using electrochemotherapy\"<br/><strong>E</strong>: Results. Top: ECT treatment of a 75-year-old woman with metastatic breast cancer. Previously the patient underwent surgery and received endocrine therapy, chemotherapy and radiotherapy. The patient was treated with one single treatment of ECT in local anaesthesia with intratumoural injection of bleomycin. A. before treatment, B. two weeks after treatment, C. four weeks after treatment. A crust formed and after four weeks showed signs of falling of. The patient was very satisfi ed with the treatment and had no side-effects. Middle: ECT treatment of an 82-year-old woman with malignant melanoma. The patient was diagnosed in 2007, since had local spread on the lower limb and metastasis to the lungs. The patient was not suited for temozolamide, immunotherapy or isolated limb perfusion. The patient was treated with ECT in general anaesthesia and intravenous injection of bleomycin. A. before treatment, B. 24 days after treatment and C. three months after treatment. After three months the metastasis is in partial response. Bottom: ECT treatment of a 38-year-old woman with metastatic breast cancer. Previously the patient underwent mastectomy, radiotherapy and chemotherapy. The patient was treated with one single treatment of ECT in general anaesthesia with i.v. injection of bleomycin. A. before treatment, B. 10 weeks after treatment, C. two years and two months after treatment with complete resolution despite ongoing systemic disease.<br/><strong>A</strong>: Results. Top: ECT treatment of a 75-year-old woman with metastatic breast cancer.<br/><strong>B</strong>: nan</p>\n",
       "<p><code>sonc50-621.nxml</code> \"Management of cutaneous metastases using electrochemotherapy\"<br/><strong>E</strong>: The electroporation procedure: A. Electroporation occurs when an applied external field exceeds the capacity of the cell membrane. The formation of permeable areas happens in the frame of less than a second whereas resealing happens over minutes. As the resting transmembrane potential is negative on the inside respective to the outside, the first part of the membrane that will be permeabilised is the pole facing the positive electrode. The positive electrode should be imagined in the left of the picture and the negative electrode on the right. Pulses were delivered to a cell suspended in medium containing propidium iodide and after the pulses propidium iodide is trapped within the cells [9]. B. The application of pulses to skin tumours must be preceded by local or general anaesthesia, in local anaesthesia the lidocain is injected around the metastasis. C. The cliniporator equipment allows monitoring of voltage and current during the pulse. D. A treatment situation is shown where a patient is receiving local injection of bleomycin followed by application of pulses under local anaesthesia. The application of pulses lasts only a few minutes in total.<br/><strong>A</strong>: nan<br/><strong>B</strong>: nan</p>\n",
       "<p><code>ORT-1745-3674-81-405.nxml</code> \"Resection arthroplasty for luxation of the manubrio-sternal joint in rheumatoid arthritis—a case report\"<br/><strong>E</strong>: CT scan showing the MSJ luxation (April 2001).<br/><strong>A</strong>: nan<br/><strong>B</strong>: nan</p>\n",
       "</blockquote>\n",
       "<p>9 more</p></details>"
      ],
      "text/plain": [
       "<IPython.core.display.HTML object>"
      ]
     },
     "metadata": {},
     "output_type": "display_data"
    },
    {
     "data": {
      "text/html": [
       "<h2>Dataset: pmc-sample-1943-cc-by-subset (figure_captions:partial_set exact)</h2>"
      ],
      "text/plain": [
       "<IPython.core.display.HTML object>"
      ]
     },
     "metadata": {},
     "output_type": "display_data"
    },
    {
     "data": {
      "text/html": [
       "<details><summary>Comparison: grobid-tei vs cermine</summary><p><strong>E</strong>: expected, <strong>A</strong>: pmc-sample-1943-cc-by-subset grobid-tei, <strong>B</strong>: pmc-sample-1943-cc-by-subset cermine (figure_captions:partial_set exact)</p>\n",
       "<h4>grobid-tei [0 : 1] cermine (0)</h4>\n",
       "<p>There are 0 samples where grobid-tei got it wrong, but cermine got it right.</p>\n",
       "<h4>grobid-tei [1 : 0] cermine (6)</h4>\n",
       "<p>There are 6 samples where grobid-tei got it right, but cermine got it wrong.</p>\n",
       "<blockquote>\n",
       "<p><code>aas0055-0039.nxml</code> \"Phosphate-containing dialysis solution prevents hypophosphatemia during continuous renal replacement therapy\"<br/><strong>E</strong>: Events of hypophosphatemia during the continuous renal replacement therapy. Treatment with the phosphate-containing solution for dialysis resulted in no episodes of hypophosphatemia.<br/><strong>B</strong>: nan</p>\n",
       "<p><code>sonc50-621.nxml</code> \"Management of cutaneous metastases using electrochemotherapy\"<br/><strong>E</strong>: Electrochemotherapy. In the right panel, bleomycin is injected at the tumour site, at a concentration of 1000 IU/ml (1 U/ml). In the middle panel the electric pulses are subsequently applied, cells are permeabilised and the drug enters. In the left panel the cells reseal after a few minutes and the extracellular drug is washed out while the internalised molecules remain trapped intracellularly.<br/><strong>B</strong>: nan</p>\n",
       "<p><code>soto131-469.nxml</code> \"Visualization and assessment of saccular duct and endolymphatic sinus\"<br/><strong>E</strong>: Direction of CT examination and CT findings in the cadaver. (A) This position of the temporal bone is suitable to obtain more accurate CT images of the saccule, saccular duct, and endolymphatic sinus. Note that the remnant membranous labyrinth, shown in black, is visible. Insert: Higher magnification of the groove of the saccular duct (white dashed arrows) and endolymphatic sinus (white arrows). (B) The sulciform groove-like 3D CT image of the saccular duct and endolymphatic sinus of the same specimen as in (A), which was examined in the same direction as in (A) with a bone CT window level. (C) The same specimen as in (A) with CT window levels of bone and soft tissue. The membranous composition of the saccular duct and endolymphatic sinus in purple (white arrows) are surrounded by the artificial shadow of a rendering effect. The details of the aspects are consistent with macroscopic specimens. Purple indicates soft tissue. CR, cochlear recess; IAC, internal auditory canal; L, lateral semicircular canal; OS, osseous spiral lamina; P, posterior semicircular canal; S, superior semicircular canal; SR, saccular recess; UR, utricular recess.<br/><strong>B</strong>: nan</p>\n",
       "</blockquote>\n",
       "<p>3 more</p>\n",
       "<h4>grobid-tei [0 : 0] cermine (17)</h4>\n",
       "<p>There are 17 samples where both grobid-tei and cermine got it wrong.</p>\n",
       "<blockquote>\n",
       "<p><code>aas0055-0039.nxml</code> \"Phosphate-containing dialysis solution prevents hypophosphatemia during continuous renal replacement therapy\"<br/><strong>E*<em>: Serum phosphate levels during the continuous renal replacement therapy treatment. Group 1, receiving Hemosol B0 (diamond), group 2, receiving the phosphate-containing dialysis fluid as the dialysis fluid and Hemosol B0 as the replacement fluid (triangle), and group 3, receiving the phosphate-containing dialysis fluid (square). Groups 2 and 3 were statistically compared with group 1. n=14 patients/group, **P&lt;0.01, </em></strong>P&lt;0.001.<br/><strong>A*<em>: Serum phosphate levels during the continuous renal replacement therapy treatment. Group 1, receiving Hemosol B0 (diamond), group 2, receiving the phosphate-containing dialysis fluid as the dialysis fluid and Hemosol B0 as the replacement fluid (triangle), and group 3, receiving the phosphate-containing dialysis fluid (square). Groups 2 and 3 were statistically compared with group 1. n 5 14 patients/group, **Po0.01, </em></strong>Po0.001.<br/><strong>B</strong>: nan</p>\n",
       "<p><code>sobs89-975.nxml</code> \"Camera trocar lifting in office gasless laparoscopic sterilization under local anesthesia\"<br/><strong>E</strong>: Mechanical lifting<br/><strong>A</strong>: Mechanical lifting.<br/><strong>B</strong>: nan</p>\n",
       "<p><code>sobs89-975.nxml</code> \"Camera trocar lifting in office gasless laparoscopic sterilization under local anesthesia\"<br/><strong>E</strong>: Slit-trocar for gas/gasless laparoscopy<br/><strong>A</strong>: Slit-trocar for gas/gasless laparoscopy.<br/><strong>B</strong>: nan</p>\n",
       "</blockquote>\n",
       "<p>14 more</p></details>"
      ],
      "text/plain": [
       "<IPython.core.display.HTML object>"
      ]
     },
     "metadata": {},
     "output_type": "display_data"
    },
    {
     "data": {
      "text/html": [
       "<hr/>"
      ],
      "text/plain": [
       "<IPython.core.display.HTML object>"
      ]
     },
     "metadata": {},
     "output_type": "display_data"
    },
    {
     "data": {
      "text/html": [
       "<h1>Field: figure_label_captions:partial_list</h1>"
      ],
      "text/plain": [
       "<IPython.core.display.HTML object>"
      ]
     },
     "metadata": {},
     "output_type": "display_data"
    },
    {
     "data": {
      "text/html": [
       "<h2>Dataset: pmc-sample-1943-cc-by-subset (figure_label_captions:partial_list levenshtein)</h2>"
      ],
      "text/plain": [
       "<IPython.core.display.HTML object>"
      ]
     },
     "metadata": {},
     "output_type": "display_data"
    },
    {
     "data": {
      "text/html": [
       "<details><summary>Comparison: grobid-tei vs cermine</summary><p><strong>E</strong>: expected, <strong>A</strong>: pmc-sample-1943-cc-by-subset grobid-tei, <strong>B</strong>: pmc-sample-1943-cc-by-subset cermine (figure_label_captions:partial_list levenshtein)</p>\n",
       "<h4>grobid-tei [0 : 1] cermine (0)</h4>\n",
       "<p>There are 0 samples where grobid-tei got it wrong, but cermine got it right.</p>\n",
       "<h4>grobid-tei [1 : 0] cermine (7)</h4>\n",
       "<p>There are 7 samples where grobid-tei got it right, but cermine got it wrong.</p>\n",
       "<blockquote>\n",
       "<p><code>aas0055-0039.nxml</code> \"Phosphate-containing dialysis solution prevents hypophosphatemia during continuous renal replacement therapy\"<br/><strong>E</strong>: Fig. 1 Events of hypophosphatemia during the continuous renal replacement therapy. Treatment with the phosphate-containing solution for dialysis resulted in no episodes of hypophosphatemia.<br/><strong>B</strong>: nan</p>\n",
       "<p><code>aas0055-0039.nxml</code> \"Phosphate-containing dialysis solution prevents hypophosphatemia during continuous renal replacement therapy\"<br/><strong>E*<em>: Fig. 2 Serum phosphate levels during the continuous renal replacement therapy treatment. Group 1, receiving Hemosol B0 (diamond), group 2, receiving the phosphate-containing dialysis fluid as the dialysis fluid and Hemosol B0 as the replacement fluid (triangle), and group 3, receiving the phosphate-containing dialysis fluid (square). Groups 2 and 3 were statistically compared with group 1. n=14 patients/group, **P&lt;0.01, </em></strong>P&lt;0.001.<br/><strong>B</strong>: nan</p>\n",
       "<p><code>sobs89-975.nxml</code> \"Camera trocar lifting in office gasless laparoscopic sterilization under local anesthesia\"<br/><strong>E</strong>: Figure 1 Mechanical lifting<br/><strong>B</strong>: nan</p>\n",
       "</blockquote>\n",
       "<p>4 more</p>\n",
       "<h4>grobid-tei [0 : 0] cermine (16)</h4>\n",
       "<p>There are 16 samples where both grobid-tei and cermine got it wrong.</p>\n",
       "<blockquote>\n",
       "<p><code>sonc50-621.nxml</code> \"Management of cutaneous metastases using electrochemotherapy\"<br/><strong>E</strong>: Figure 1 The electroporation procedure: A. Electroporation occurs when an applied external field exceeds the capacity of the cell membrane. The formation of permeable areas happens in the frame of less than a second whereas resealing happens over minutes. As the resting transmembrane potential is negative on the inside respective to the outside, the first part of the membrane that will be permeabilised is the pole facing the positive electrode. The positive electrode should be imagined in the left of the picture and the negative electrode on the right. Pulses were delivered to a cell suspended in medium containing propidium iodide and after the pulses propidium iodide is trapped within the cells [9]. B. The application of pulses to skin tumours must be preceded by local or general anaesthesia, in local anaesthesia the lidocain is injected around the metastasis. C. The cliniporator equipment allows monitoring of voltage and current during the pulse. D. A treatment situation is shown where a patient is receiving local injection of bleomycin followed by application of pulses under local anaesthesia. The application of pulses lasts only a few minutes in total.<br/><strong>A</strong>: Figure 2 . Electrochemotherapy. In the right panel, bleomycin is injected at the tumour site, at a concentration of 1000 IU/ml (1 U/ml). In the middle panel the electric pulses are subsequently applied, cells are permeabilised and the drug enters. In the left panel the cells reseal after a few minutes and the extracellular drug is washed out while the internalised molecules remain trapped intracellularly.<br/><strong>B</strong>: nan</p>\n",
       "<p><code>sonc50-621.nxml</code> \"Management of cutaneous metastases using electrochemotherapy\"<br/><strong>E</strong>: Figure 2 Electrochemotherapy. In the right panel, bleomycin is injected at the tumour site, at a concentration of 1000 IU/ml (1 U/ml). In the middle panel the electric pulses are subsequently applied, cells are permeabilised and the drug enters. In the left panel the cells reseal after a few minutes and the extracellular drug is washed out while the internalised molecules remain trapped intracellularly.<br/><strong>A</strong>: Figure 3 . Results. Top: ECT treatment of a 75-year-old woman with metastatic breast cancer.<br/><strong>B</strong>: nan</p>\n",
       "<p><code>sonc50-621.nxml</code> \"Management of cutaneous metastases using electrochemotherapy\"<br/><strong>E</strong>: Figure 3 Results. Top: ECT treatment of a 75-year-old woman with metastatic breast cancer. Previously the patient underwent surgery and received endocrine therapy, chemotherapy and radiotherapy. The patient was treated with one single treatment of ECT in local anaesthesia with intratumoural injection of bleomycin. A. before treatment, B. two weeks after treatment, C. four weeks after treatment. A crust formed and after four weeks showed signs of falling of. The patient was very satisfi ed with the treatment and had no side-effects. Middle: ECT treatment of an 82-year-old woman with malignant melanoma. The patient was diagnosed in 2007, since had local spread on the lower limb and metastasis to the lungs. The patient was not suited for temozolamide, immunotherapy or isolated limb perfusion. The patient was treated with ECT in general anaesthesia and intravenous injection of bleomycin. A. before treatment, B. 24 days after treatment and C. three months after treatment. After three months the metastasis is in partial response. Bottom: ECT treatment of a 38-year-old woman with metastatic breast cancer. Previously the patient underwent mastectomy, radiotherapy and chemotherapy. The patient was treated with one single treatment of ECT in general anaesthesia with i.v. injection of bleomycin. A. before treatment, B. 10 weeks after treatment, C. two years and two months after treatment with complete resolution despite ongoing systemic disease.<br/><strong>A</strong>: nan<br/><strong>B</strong>: nan</p>\n",
       "</blockquote>\n",
       "<p>13 more</p></details>"
      ],
      "text/plain": [
       "<IPython.core.display.HTML object>"
      ]
     },
     "metadata": {},
     "output_type": "display_data"
    },
    {
     "data": {
      "text/html": [
       "<h2>Dataset: pmc-sample-1943-cc-by-subset (figure_label_captions:partial_list exact)</h2>"
      ],
      "text/plain": [
       "<IPython.core.display.HTML object>"
      ]
     },
     "metadata": {},
     "output_type": "display_data"
    },
    {
     "data": {
      "text/html": [
       "<details><summary>Comparison: grobid-tei vs cermine</summary><p><strong>E</strong>: expected, <strong>A</strong>: pmc-sample-1943-cc-by-subset grobid-tei, <strong>B</strong>: pmc-sample-1943-cc-by-subset cermine (figure_label_captions:partial_list exact)</p>\n",
       "<h4>grobid-tei [0 : 1] cermine (0)</h4>\n",
       "<p>There are 0 samples where grobid-tei got it wrong, but cermine got it right.</p>\n",
       "<h4>grobid-tei [1 : 0] cermine (0)</h4>\n",
       "<p>There are 0 samples where grobid-tei got it right, but cermine got it wrong.</p>\n",
       "<h4>grobid-tei [0 : 0] cermine (23)</h4>\n",
       "<p>There are 23 samples where both grobid-tei and cermine got it wrong.</p>\n",
       "<blockquote>\n",
       "<p><code>aas0055-0039.nxml</code> \"Phosphate-containing dialysis solution prevents hypophosphatemia during continuous renal replacement therapy\"<br/><strong>E</strong>: Fig. 1 Events of hypophosphatemia during the continuous renal replacement therapy. Treatment with the phosphate-containing solution for dialysis resulted in no episodes of hypophosphatemia.<br/><strong>A</strong>: Fig. 1 . Events of hypophosphatemia during the continuous renal replacement therapy. Treatment with the phosphate-containing solution for dialysis resulted in no episodes of hypophosphatemia.<br/><strong>B</strong>: nan</p>\n",
       "<p><code>aas0055-0039.nxml</code> \"Phosphate-containing dialysis solution prevents hypophosphatemia during continuous renal replacement therapy\"<br/><strong>E*<em>: Fig. 2 Serum phosphate levels during the continuous renal replacement therapy treatment. Group 1, receiving Hemosol B0 (diamond), group 2, receiving the phosphate-containing dialysis fluid as the dialysis fluid and Hemosol B0 as the replacement fluid (triangle), and group 3, receiving the phosphate-containing dialysis fluid (square). Groups 2 and 3 were statistically compared with group 1. n=14 patients/group, **P&lt;0.01, </em></strong>P&lt;0.001.<br/><strong>A*<em>: Fig. 2 . Serum phosphate levels during the continuous renal replacement therapy treatment. Group 1, receiving Hemosol B0 (diamond), group 2, receiving the phosphate-containing dialysis fluid as the dialysis fluid and Hemosol B0 as the replacement fluid (triangle), and group 3, receiving the phosphate-containing dialysis fluid (square). Groups 2 and 3 were statistically compared with group 1. n 5 14 patients/group, **Po0.01, </em></strong>Po0.001.<br/><strong>B</strong>: nan</p>\n",
       "<p><code>sobs89-975.nxml</code> \"Camera trocar lifting in office gasless laparoscopic sterilization under local anesthesia\"<br/><strong>E</strong>: Figure 1 Mechanical lifting<br/><strong>A</strong>: Figure 1 . Mechanical lifting.<br/><strong>B</strong>: nan</p>\n",
       "</blockquote>\n",
       "<p>20 more</p></details>"
      ],
      "text/plain": [
       "<IPython.core.display.HTML object>"
      ]
     },
     "metadata": {},
     "output_type": "display_data"
    },
    {
     "data": {
      "text/html": [
       "<hr/>"
      ],
      "text/plain": [
       "<IPython.core.display.HTML object>"
      ]
     },
     "metadata": {},
     "output_type": "display_data"
    },
    {
     "data": {
      "text/html": [
       "<h1>Field: figure_label_captions:partial_set</h1>"
      ],
      "text/plain": [
       "<IPython.core.display.HTML object>"
      ]
     },
     "metadata": {},
     "output_type": "display_data"
    },
    {
     "data": {
      "text/html": [
       "<h2>Dataset: pmc-sample-1943-cc-by-subset (figure_label_captions:partial_set levenshtein)</h2>"
      ],
      "text/plain": [
       "<IPython.core.display.HTML object>"
      ]
     },
     "metadata": {},
     "output_type": "display_data"
    },
    {
     "data": {
      "text/html": [
       "<details><summary>Comparison: grobid-tei vs cermine</summary><p><strong>E</strong>: expected, <strong>A</strong>: pmc-sample-1943-cc-by-subset grobid-tei, <strong>B</strong>: pmc-sample-1943-cc-by-subset cermine (figure_label_captions:partial_set levenshtein)</p>\n",
       "<h4>grobid-tei [0 : 1] cermine (0)</h4>\n",
       "<p>There are 0 samples where grobid-tei got it wrong, but cermine got it right.</p>\n",
       "<h4>grobid-tei [1 : 0] cermine (11)</h4>\n",
       "<p>There are 11 samples where grobid-tei got it right, but cermine got it wrong.</p>\n",
       "<blockquote>\n",
       "<p><code>aas0055-0039.nxml</code> \"Phosphate-containing dialysis solution prevents hypophosphatemia during continuous renal replacement therapy\"<br/><strong>E</strong>: Fig. 1 Events of hypophosphatemia during the continuous renal replacement therapy. Treatment with the phosphate-containing solution for dialysis resulted in no episodes of hypophosphatemia.<br/><strong>B</strong>: nan</p>\n",
       "<p><code>aas0055-0039.nxml</code> \"Phosphate-containing dialysis solution prevents hypophosphatemia during continuous renal replacement therapy\"<br/><strong>E*<em>: Fig. 2 Serum phosphate levels during the continuous renal replacement therapy treatment. Group 1, receiving Hemosol B0 (diamond), group 2, receiving the phosphate-containing dialysis fluid as the dialysis fluid and Hemosol B0 as the replacement fluid (triangle), and group 3, receiving the phosphate-containing dialysis fluid (square). Groups 2 and 3 were statistically compared with group 1. n=14 patients/group, **P&lt;0.01, </em></strong>P&lt;0.001.<br/><strong>B</strong>: nan</p>\n",
       "<p><code>sobs89-975.nxml</code> \"Camera trocar lifting in office gasless laparoscopic sterilization under local anesthesia\"<br/><strong>E</strong>: Figure 1 Mechanical lifting<br/><strong>B</strong>: nan</p>\n",
       "</blockquote>\n",
       "<p>8 more</p>\n",
       "<h4>grobid-tei [0 : 0] cermine (12)</h4>\n",
       "<p>There are 12 samples where both grobid-tei and cermine got it wrong.</p>\n",
       "<blockquote>\n",
       "<p><code>sonc50-621.nxml</code> \"Management of cutaneous metastases using electrochemotherapy\"<br/><strong>E</strong>: Figure 1 The electroporation procedure: A. Electroporation occurs when an applied external field exceeds the capacity of the cell membrane. The formation of permeable areas happens in the frame of less than a second whereas resealing happens over minutes. As the resting transmembrane potential is negative on the inside respective to the outside, the first part of the membrane that will be permeabilised is the pole facing the positive electrode. The positive electrode should be imagined in the left of the picture and the negative electrode on the right. Pulses were delivered to a cell suspended in medium containing propidium iodide and after the pulses propidium iodide is trapped within the cells [9]. B. The application of pulses to skin tumours must be preceded by local or general anaesthesia, in local anaesthesia the lidocain is injected around the metastasis. C. The cliniporator equipment allows monitoring of voltage and current during the pulse. D. A treatment situation is shown where a patient is receiving local injection of bleomycin followed by application of pulses under local anaesthesia. The application of pulses lasts only a few minutes in total.<br/><strong>A</strong>: Figure 3 . Results. Top: ECT treatment of a 75-year-old woman with metastatic breast cancer.<br/><strong>B</strong>: nan</p>\n",
       "<p><code>sonc50-621.nxml</code> \"Management of cutaneous metastases using electrochemotherapy\"<br/><strong>E</strong>: Figure 3 Results. Top: ECT treatment of a 75-year-old woman with metastatic breast cancer. Previously the patient underwent surgery and received endocrine therapy, chemotherapy and radiotherapy. The patient was treated with one single treatment of ECT in local anaesthesia with intratumoural injection of bleomycin. A. before treatment, B. two weeks after treatment, C. four weeks after treatment. A crust formed and after four weeks showed signs of falling of. The patient was very satisfi ed with the treatment and had no side-effects. Middle: ECT treatment of an 82-year-old woman with malignant melanoma. The patient was diagnosed in 2007, since had local spread on the lower limb and metastasis to the lungs. The patient was not suited for temozolamide, immunotherapy or isolated limb perfusion. The patient was treated with ECT in general anaesthesia and intravenous injection of bleomycin. A. before treatment, B. 24 days after treatment and C. three months after treatment. After three months the metastasis is in partial response. Bottom: ECT treatment of a 38-year-old woman with metastatic breast cancer. Previously the patient underwent mastectomy, radiotherapy and chemotherapy. The patient was treated with one single treatment of ECT in general anaesthesia with i.v. injection of bleomycin. A. before treatment, B. 10 weeks after treatment, C. two years and two months after treatment with complete resolution despite ongoing systemic disease.<br/><strong>A</strong>: nan<br/><strong>B</strong>: nan</p>\n",
       "<p><code>ORT-1745-3674-81-405.nxml</code> \"Resection arthroplasty for luxation of the manubrio-sternal joint in rheumatoid arthritis—a case report\"<br/><strong>E</strong>: CT scan showing the MSJ luxation (April 2001).<br/><strong>A</strong>: nan<br/><strong>B</strong>: nan</p>\n",
       "</blockquote>\n",
       "<p>9 more</p></details>"
      ],
      "text/plain": [
       "<IPython.core.display.HTML object>"
      ]
     },
     "metadata": {},
     "output_type": "display_data"
    },
    {
     "data": {
      "text/html": [
       "<h2>Dataset: pmc-sample-1943-cc-by-subset (figure_label_captions:partial_set exact)</h2>"
      ],
      "text/plain": [
       "<IPython.core.display.HTML object>"
      ]
     },
     "metadata": {},
     "output_type": "display_data"
    },
    {
     "data": {
      "text/html": [
       "<details><summary>Comparison: grobid-tei vs cermine</summary><p><strong>E</strong>: expected, <strong>A</strong>: pmc-sample-1943-cc-by-subset grobid-tei, <strong>B</strong>: pmc-sample-1943-cc-by-subset cermine (figure_label_captions:partial_set exact)</p>\n",
       "<h4>grobid-tei [0 : 1] cermine (0)</h4>\n",
       "<p>There are 0 samples where grobid-tei got it wrong, but cermine got it right.</p>\n",
       "<h4>grobid-tei [1 : 0] cermine (1)</h4>\n",
       "<p>There are 1 samples where grobid-tei got it right, but cermine got it wrong.</p>\n",
       "<blockquote>\n",
       "<p><code>apha0202-0379.nxml</code> \"On the function of the mammalian renal papilla and the peristalsis of the surrounding pelvis\"<br/><strong>E</strong>: Figure 5 Drawing of the snare used to stop the peristalsis at a specific phase. The loop was placed loosely around the papilla about 1 mm from the tip (Schmidt-Nielsen &amp; Graves 1982).<br/><strong>B</strong>: nan</p>\n",
       "</blockquote>\n",
       "<h4>grobid-tei [0 : 0] cermine (22)</h4>\n",
       "<p>There are 22 samples where both grobid-tei and cermine got it wrong.</p>\n",
       "<blockquote>\n",
       "<p><code>aas0055-0039.nxml</code> \"Phosphate-containing dialysis solution prevents hypophosphatemia during continuous renal replacement therapy\"<br/><strong>E</strong>: Fig. 1 Events of hypophosphatemia during the continuous renal replacement therapy. Treatment with the phosphate-containing solution for dialysis resulted in no episodes of hypophosphatemia.<br/><strong>A</strong>: Fig. 1 . Events of hypophosphatemia during the continuous renal replacement therapy. Treatment with the phosphate-containing solution for dialysis resulted in no episodes of hypophosphatemia.<br/><strong>B</strong>: nan</p>\n",
       "<p><code>aas0055-0039.nxml</code> \"Phosphate-containing dialysis solution prevents hypophosphatemia during continuous renal replacement therapy\"<br/><strong>E*<em>: Fig. 2 Serum phosphate levels during the continuous renal replacement therapy treatment. Group 1, receiving Hemosol B0 (diamond), group 2, receiving the phosphate-containing dialysis fluid as the dialysis fluid and Hemosol B0 as the replacement fluid (triangle), and group 3, receiving the phosphate-containing dialysis fluid (square). Groups 2 and 3 were statistically compared with group 1. n=14 patients/group, **P&lt;0.01, </em></strong>P&lt;0.001.<br/><strong>A*<em>: Fig. 2 . Serum phosphate levels during the continuous renal replacement therapy treatment. Group 1, receiving Hemosol B0 (diamond), group 2, receiving the phosphate-containing dialysis fluid as the dialysis fluid and Hemosol B0 as the replacement fluid (triangle), and group 3, receiving the phosphate-containing dialysis fluid (square). Groups 2 and 3 were statistically compared with group 1. n 5 14 patients/group, **Po0.01, </em></strong>Po0.001.<br/><strong>B</strong>: nan</p>\n",
       "<p><code>sobs89-975.nxml</code> \"Camera trocar lifting in office gasless laparoscopic sterilization under local anesthesia\"<br/><strong>E</strong>: Figure 1 Mechanical lifting<br/><strong>A</strong>: Figure 1 . Mechanical lifting.<br/><strong>B</strong>: nan</p>\n",
       "</blockquote>\n",
       "<p>19 more</p></details>"
      ],
      "text/plain": [
       "<IPython.core.display.HTML object>"
      ]
     },
     "metadata": {},
     "output_type": "display_data"
    }
   ],
   "source": [
    "def filter_by_field_name_scoring_type_and_evaluation_method(\n",
    "        df: pd.DataFrame, field_name_scoring_type: str, evaluation_method: str):\n",
    "    return df[\n",
    "        (df['field_name_scoring_type'] == field_name_scoring_type) &\n",
    "        (df['evaluation_method'] == evaluation_method)\n",
    "    ]\n",
    "\n",
    "def show_comparative_examples(\n",
    "        inspect_name, compare_with_name, field_name_scoring_type: str, evaluation_method, limit=3):\n",
    "    filtered_inspect_df = details_df_map[inspect_name]\n",
    "    inspect_df = filter_by_field_name_scoring_type_and_evaluation_method(\n",
    "        details_df_map[inspect_name],\n",
    "        field_name_scoring_type,\n",
    "        evaluation_method\n",
    "    ).merge(\n",
    "        filter_by_field_name_scoring_type_and_evaluation_method(\n",
    "            details_df_map[compare_with_name],\n",
    "            field_name_scoring_type,\n",
    "            evaluation_method\n",
    "        ),\n",
    "        how='outer',\n",
    "        on=['target_file', 'field_name_scoring_type', 'evaluation_method', 'expected'],\n",
    "        suffixes=['', '_other']\n",
    "    )\n",
    "\n",
    "    md = []\n",
    "\n",
    "    md.append('**E**: expected, **A**: %s, **B**: %s (%s %s)' % (\n",
    "        inspect_name, compare_with_name, field_name_scoring_type, evaluation_method\n",
    "    ))\n",
    "    \n",
    "    short_inspect_name = short_name(inspect_name)\n",
    "    short_other_name = short_name(compare_with_name)\n",
    "\n",
    "    incorrect_inspect_df = inspect_df[(inspect_df['tp'] == 0) & (inspect_df['tp_other'] == 1)]\n",
    "    md.append('#### %s [0 : 1] %s (%d)' % (short_inspect_name, short_other_name, len(incorrect_inspect_df)))\n",
    "    md.append('There are %d samples where %s got it wrong, but %s got it right.' % (\n",
    "        len(incorrect_inspect_df), short_inspect_name, short_other_name\n",
    "    ))\n",
    "    for row in incorrect_inspect_df[:limit].to_dict(orient='records'):\n",
    "        md.append('> `%s` \"%s\"<br/>**E**: %s<br/>**A**: %s' % (\n",
    "            row['target_file'], title_map.get(row['target_file']), row['expected'], row['actual']\n",
    "        ))\n",
    "    if len(incorrect_inspect_df) > limit:\n",
    "        md.append('%d more' % (len(incorrect_inspect_df) - limit))\n",
    "\n",
    "    correct_inspect_df = inspect_df[(inspect_df['tp'] == 1) & (inspect_df['tp_other'] == 0)]\n",
    "    md.append('#### %s [1 : 0] %s (%d)' % (short_inspect_name, short_other_name, len(correct_inspect_df)))\n",
    "    md.append('There are %d samples where %s got it right, but %s got it wrong.' % (\n",
    "        len(correct_inspect_df), short_inspect_name, short_other_name\n",
    "    ))\n",
    "    for row in correct_inspect_df[:limit].to_dict(orient='records'):\n",
    "        md.append('> `%s` \"%s\"<br/>**E**: %s<br/>**B**: %s' % (\n",
    "            row['target_file'], title_map.get(row['target_file']), row['expected'], row['actual_other']\n",
    "        ))\n",
    "    if len(correct_inspect_df) > limit:\n",
    "        md.append('%d more' % (len(correct_inspect_df) - limit))\n",
    "\n",
    "    both_incorrect_inspect_df = inspect_df[\n",
    "        (inspect_df['tn'] == 0) & (inspect_df['tp'] == 0) & (inspect_df['tp_other'] == 0)\n",
    "    ]\n",
    "    md.append('#### %s [0 : 0] %s (%d)' % (short_inspect_name, short_other_name, len(both_incorrect_inspect_df)))\n",
    "    md.append('There are %d samples where both %s and %s got it wrong.' % (\n",
    "        len(both_incorrect_inspect_df), short_inspect_name, short_other_name\n",
    "    ))\n",
    "    for row in both_incorrect_inspect_df[:limit].to_dict(orient='records'):\n",
    "        md.append('> `%s` \"%s\"<br/>**E**: %s<br/>**A**: %s<br/>**B**: %s' % (\n",
    "            row['target_file'], title_map.get(row['target_file']),\n",
    "            row['expected'], row['actual'], row['actual_other']\n",
    "        ))\n",
    "    if len(both_incorrect_inspect_df) > limit:\n",
    "        md.append('%d more' % (len(both_incorrect_inspect_df) - limit))\n",
    "    return '\\n\\n'.join(md)\n",
    "\n",
    "printmd('# Comparing results between tools')\n",
    "for field_name_scoring_type in field_name_scoring_types:\n",
    "    printmd('<hr/>')\n",
    "    printmd('# Field: %s' % field_name_scoring_type)\n",
    "    for evaluation_method in evaluation_methods:\n",
    "        for prefix in distinct_dataset_names:\n",
    "            printmd('## Dataset: %s (%s %s)' % (prefix, field_name_scoring_type, evaluation_method))\n",
    "            names_with_prefix = [name for name in all_result_names if name.startswith(prefix)]\n",
    "            for i, inspect_name in enumerate(names_with_prefix[:-1]):\n",
    "                for other_name in names_with_prefix[(1 + i):]:\n",
    "                    title = 'Comparison: %s vs %s' % (short_name(inspect_name), short_name(other_name))\n",
    "                    content = markdown(show_comparative_examples(\n",
    "                        inspect_name, other_name,\n",
    "                        field_name_scoring_type=field_name_scoring_type,\n",
    "                        evaluation_method=evaluation_method\n",
    "                    ))\n",
    "                    display(HTML('<details><summary>%s</summary>%s</details>' % (title, content)))"
   ]
  }
 ],
 "metadata": {
  "kernelspec": {
   "display_name": "Python 3",
   "language": "python",
   "name": "python3"
  },
  "language_info": {
   "codemirror_mode": {
    "name": "ipython",
    "version": 3
   },
   "file_extension": ".py",
   "mimetype": "text/x-python",
   "name": "python",
   "nbconvert_exporter": "python",
   "pygments_lexer": "ipython3",
   "version": "3.6.6"
  }
 },
 "nbformat": 4,
 "nbformat_minor": 2
}
