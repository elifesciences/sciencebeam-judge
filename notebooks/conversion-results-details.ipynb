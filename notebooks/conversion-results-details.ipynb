{
 "cells": [
  {
   "cell_type": "code",
   "execution_count": 1,
   "metadata": {
    "tags": [
     "parameters"
    ]
   },
   "outputs": [],
   "source": [
    "data_path = '../example-data'\n",
    "# data_path = 'gs://elife-public-data/sciencebeam/datasets'\n",
    "dataset_relative_paths = ['pmc-sample-1943-cc-by-subset']\n",
    "dataset_suffixes = []\n",
    "tool_names = ['grobid-tei', 'cermine']\n",
    "# tool_names = ['grobid-tei', 'cermine', 'scienceparse-v1', 'scienceparse-v2']\n",
    "field_names = ['title', 'first_author_full_name', 'abstract', 'tables', 'table_strings', 'table_labels', 'table_captions', 'table_label_captions']\n",
    "evaluation_methods = ['levenshtein', 'exact']\n",
    "details_filename = 'results-00000-of-00001.csv'\n",
    "show_tables = False"
   ]
  },
  {
   "cell_type": "markdown",
   "metadata": {},
   "source": [
    "# Conversion Results Details"
   ]
  },
  {
   "cell_type": "code",
   "execution_count": 2,
   "metadata": {},
   "outputs": [],
   "source": [
    "# This Conversion Results Notebook by default use the very small example dataset\n",
    "# You may pass in other parameters, e.g.:\n",
    "#   $papermill conversion-results-tools.ipynb conversion-results-tools-configured.ipynb -p data_path '/my/other/data/path'"
   ]
  },
  {
   "cell_type": "code",
   "execution_count": 3,
   "metadata": {},
   "outputs": [],
   "source": [
    "%matplotlib inline"
   ]
  },
  {
   "cell_type": "code",
   "execution_count": 4,
   "metadata": {},
   "outputs": [],
   "source": [
    "import matplotlib\n",
    "matplotlib.style.use('ggplot')"
   ]
  },
  {
   "cell_type": "code",
   "execution_count": 5,
   "metadata": {},
   "outputs": [],
   "source": [
    "from datetime import datetime\n",
    "import time\n",
    "import os\n",
    "import subprocess\n",
    "import re\n",
    "import pandas as pd\n",
    "from markdown import markdown\n",
    "from IPython.display import display, Markdown, HTML"
   ]
  },
  {
   "cell_type": "code",
   "execution_count": 6,
   "metadata": {},
   "outputs": [
    {
     "data": {
      "text/html": [
       "\n",
       "<!-- vertical accordion CSS -->\n",
       "<style>\n",
       "details {\n",
       "  padding: 15px;\n",
       "  border: 1px solid rgba(0,0,0,.1);\n",
       "}\n",
       "\n",
       "details + details {\n",
       "  margin-top: 20px;\n",
       "}\n",
       "\n",
       "details[open] {\n",
       "  min-height: 30px;\n",
       "}\n",
       "\n",
       "summary {\n",
       "  font-weight: 500;\n",
       "  cursor: pointer;\n",
       "}\n",
       "\n",
       "summary:focus {\n",
       "  outline: none;\n",
       "}\n",
       "</style>\n"
      ],
      "text/plain": [
       "<IPython.core.display.HTML object>"
      ]
     },
     "metadata": {},
     "output_type": "display_data"
    }
   ],
   "source": [
    "display(HTML(\n",
    "'''\n",
    "<!-- vertical accordion CSS -->\n",
    "<style>\n",
    "details {\n",
    "  padding: 15px;\n",
    "  border: 1px solid rgba(0,0,0,.1);\n",
    "}\n",
    "\n",
    "details + details {\n",
    "  margin-top: 20px;\n",
    "}\n",
    "\n",
    "details[open] {\n",
    "  min-height: 30px;\n",
    "}\n",
    "\n",
    "summary {\n",
    "  font-weight: 500;\n",
    "  cursor: pointer;\n",
    "}\n",
    "\n",
    "summary:focus {\n",
    "  outline: none;\n",
    "}\n",
    "</style>\n",
    "'''))"
   ]
  },
  {
   "cell_type": "code",
   "execution_count": 7,
   "metadata": {},
   "outputs": [],
   "source": [
    "def parse_list(s):\n",
    "    if isinstance(s, list):\n",
    "        return s\n",
    "    return [x.strip() for x in s.split(',') if x.strip()]\n",
    "\n",
    "dataset_relative_paths = parse_list(dataset_relative_paths)\n",
    "tool_names = parse_list(tool_names)\n",
    "field_names = parse_list(field_names)\n",
    "evaluation_methods = parse_list(evaluation_methods)\n",
    "dataset_suffixes = dict(parse_list(dataset_suffixes))"
   ]
  },
  {
   "cell_type": "code",
   "execution_count": 8,
   "metadata": {},
   "outputs": [],
   "source": [
    "all_result_paths = [\n",
    "    (\n",
    "        '%s%s %s' % (dataset_relative_path, dataset_suffix, tool),\n",
    "        os.path.join(\n",
    "            data_path,\n",
    "            '%s-results/evaluation-results/%s%s' % (\n",
    "                dataset_relative_path,\n",
    "                tool,\n",
    "                dataset_suffix\n",
    "            )\n",
    "        )\n",
    "    )\n",
    "    for dataset_relative_path in dataset_relative_paths\n",
    "    for dataset_suffix in dataset_suffixes.get(dataset_relative_path, [''])\n",
    "    for tool in tool_names\n",
    "]\n",
    "\n",
    "prefix_list = [\n",
    "    '%s%s' % (dataset_relative_path, dataset_suffix)\n",
    "    for dataset_relative_path in dataset_relative_paths\n",
    "    for dataset_suffix in dataset_suffixes.get(dataset_relative_path, [''])\n",
    "]"
   ]
  },
  {
   "cell_type": "code",
   "execution_count": 9,
   "metadata": {},
   "outputs": [],
   "source": [
    "all_result_names = [name for name, _ in all_result_paths]"
   ]
  },
  {
   "cell_type": "code",
   "execution_count": 10,
   "metadata": {},
   "outputs": [],
   "source": [
    "def printmd(s):\n",
    "    try:\n",
    "        s = s.decode('unicode_escape')\n",
    "    except AttributeError:\n",
    "        pass\n",
    "    display(Markdown(s))"
   ]
  },
  {
   "cell_type": "code",
   "execution_count": 11,
   "metadata": {},
   "outputs": [],
   "source": [
    "def retrieve_local_copy_if_remote(file_url):\n",
    "    if file_url.startswith('gs://'):\n",
    "        local_filename = os.path.join('../.temp', os.path.basename(file_url))\n",
    "        subprocess.check_output('gsutil cp -P \"%s\" \"%s\"' % (file_url, local_filename), shell=True)\n",
    "        # would be nice if gsutil did actually copy the creation time, let's do it here in a hacky way\n",
    "        timestamp_match = re.search('\\s(\\d{4}-[^ ]+)\\s', subprocess.check_output('gsutil ls -l \"%s\"' % file_url, shell=True).decode('utf-8'))\n",
    "        file_time = time.mktime(datetime.strptime(timestamp_match.group(1), \"%Y-%m-%dT%H:%M:%SZ\").timetuple())\n",
    "        os.utime(local_filename, (file_time, file_time))\n",
    "        return local_filename\n",
    "\n",
    "    return file_url\n",
    "\n",
    "def load_result_map(all_result_paths, filename):\n",
    "    df_map = {}\n",
    "    for name, result_path in all_result_paths:\n",
    "        full_filename = retrieve_local_copy_if_remote(os.path.join(result_path, filename))\n",
    "        printmd('**Timestamp:** %s (%s)' % (datetime.fromtimestamp(os.path.getmtime(full_filename)), name))\n",
    "        df_map[name] = pd.read_csv(full_filename)\n",
    "        if show_tables:\n",
    "            display(df_map[name].head(3))\n",
    "    return df_map"
   ]
  },
  {
   "cell_type": "code",
   "execution_count": 12,
   "metadata": {},
   "outputs": [
    {
     "data": {
      "text/markdown": [
       "## Details Files"
      ],
      "text/plain": [
       "<IPython.core.display.Markdown object>"
      ]
     },
     "metadata": {},
     "output_type": "display_data"
    },
    {
     "data": {
      "text/markdown": [
       "**Timestamp:** 2018-07-31 09:45:16.384158 (pmc-sample-1943-cc-by-subset grobid-tei)"
      ],
      "text/plain": [
       "<IPython.core.display.Markdown object>"
      ]
     },
     "metadata": {},
     "output_type": "display_data"
    },
    {
     "data": {
      "text/markdown": [
       "**Timestamp:** 2018-07-31 09:45:26.156179 (pmc-sample-1943-cc-by-subset cermine)"
      ],
      "text/plain": [
       "<IPython.core.display.Markdown object>"
      ]
     },
     "metadata": {},
     "output_type": "display_data"
    }
   ],
   "source": [
    "printmd('## Details Files')\n",
    "details_df_map = load_result_map(all_result_paths, details_filename)"
   ]
  },
  {
   "cell_type": "code",
   "execution_count": 13,
   "metadata": {},
   "outputs": [
    {
     "data": {
      "text/markdown": [
       "### Evaluation File States"
      ],
      "text/plain": [
       "<IPython.core.display.Markdown object>"
      ]
     },
     "metadata": {},
     "output_type": "display_data"
    },
    {
     "data": {
      "text/markdown": [
       "**Evaluation methods:** exact, levenshtein"
      ],
      "text/plain": [
       "<IPython.core.display.Markdown object>"
      ]
     },
     "metadata": {},
     "output_type": "display_data"
    },
    {
     "data": {
      "text/markdown": [
       "**Field names:** abstract, author_aff_strings, author_full_names, author_surnames, first_author_full_name, first_author_surname, keywords, section_titles, table_captions, table_label_captions, table_labels, table_strings, tables, title"
      ],
      "text/plain": [
       "<IPython.core.display.Markdown object>"
      ]
     },
     "metadata": {},
     "output_type": "display_data"
    }
   ],
   "source": [
    "printmd('### Evaluation File States')\n",
    "printmd('**Evaluation methods:** %s' % ', '.join(sorted(set(\n",
    "    details_df_map[all_result_names[0]]['evaluation_method']\n",
    "))))\n",
    "printmd('**Field names:** %s' % ', '.join(sorted(set(\n",
    "    details_df_map[all_result_names[0]]['field_name'].dropna()\n",
    "))))"
   ]
  },
  {
   "cell_type": "code",
   "execution_count": 14,
   "metadata": {},
   "outputs": [],
   "source": [
    "def short_name(full_name):\n",
    "    return full_name.split(' ')[-1]"
   ]
  },
  {
   "cell_type": "code",
   "execution_count": 15,
   "metadata": {
    "scrolled": false
   },
   "outputs": [
    {
     "data": {
      "text/markdown": [
       "# Comparing results between tools"
      ],
      "text/plain": [
       "<IPython.core.display.Markdown object>"
      ]
     },
     "metadata": {},
     "output_type": "display_data"
    },
    {
     "data": {
      "text/markdown": [
       "<hr/>"
      ],
      "text/plain": [
       "<IPython.core.display.Markdown object>"
      ]
     },
     "metadata": {},
     "output_type": "display_data"
    },
    {
     "data": {
      "text/markdown": [
       "# Field: title"
      ],
      "text/plain": [
       "<IPython.core.display.Markdown object>"
      ]
     },
     "metadata": {},
     "output_type": "display_data"
    },
    {
     "data": {
      "text/markdown": [
       "## Dataset: pmc-sample-1943-cc-by-subset (title levenshtein)"
      ],
      "text/plain": [
       "<IPython.core.display.Markdown object>"
      ]
     },
     "metadata": {},
     "output_type": "display_data"
    },
    {
     "data": {
      "text/html": [
       "<details><summary>Comparison: grobid-tei vs cermine</summary><p><strong>E</strong>: expected, <strong>A</strong>: pmc-sample-1943-cc-by-subset grobid-tei, <strong>B</strong>: pmc-sample-1943-cc-by-subset cermine (title levenshtein)</p>\n",
       "<h4>grobid-tei [0 : 1] cermine (3)</h4>\n",
       "<p>There are 3 samples where grobid-tei got it wrong, but cermine got it right.</p>\n",
       "<blockquote>\n",
       "<p><code>f-67-00344.nxml</code> \"Refolding, crystallization and preliminary X-ray crystallographic study of the whole extracellular regions of nectins\"<br/><strong>E</strong>: Refolding, crystallization and preliminary X-ray crystallographic study of the whole extracellular regions of nectins<br/><strong>A</strong>: Structural Biology and Crystallization Communications Refolding, crystallization and preliminary X-ray crystallographic study of the whole extracellular regions of nectins</p>\n",
       "<p><code>e-67-o1363.nxml</code> \"3-Allyl-1-{[3-(4-nitro­phen­yl)-4,5-dihydro-1,3-oxazol-5-yl]meth­yl}-1H-anthra[1,2-d]imidazole-2,6,11(3H)-trione\"<br/><strong>E</strong>: 3-Allyl-1-{[3-(4-nitro­phen­yl)-4,5-dihydro-1,3-oxazol-5-yl]meth­yl}-1H-anthra[1,2-d]imidazole-2,6,11(3H)-trione<br/><strong>A</strong>: E67, o1363-o1364 Acta Cryst</p>\n",
       "<p><code>d-67-00463.nxml</code> \"Pi sampling: a methodical and flexible approach to initial macromolecular crystallization screening\"<br/><strong>E</strong>: Pi sampling: a methodical and flexible approach to initial macromolecular crystallization screening<br/><strong>A</strong>: Biological Crystallography Pi sampling: a methodical and flexible approach to initial macromolecular crystallization screening</p>\n",
       "</blockquote>\n",
       "<h4>grobid-tei [1 : 0] cermine (0)</h4>\n",
       "<p>There are 0 samples where grobid-tei got it right, but cermine got it wrong.</p>\n",
       "<h4>grobid-tei [0 : 0] cermine (0)</h4>\n",
       "<p>There are 0 samples where both grobid-tei and cermine got it wrong.</p></details>"
      ],
      "text/plain": [
       "<IPython.core.display.HTML object>"
      ]
     },
     "metadata": {},
     "output_type": "display_data"
    },
    {
     "data": {
      "text/markdown": [
       "## Dataset: pmc-sample-1943-cc-by-subset (title exact)"
      ],
      "text/plain": [
       "<IPython.core.display.Markdown object>"
      ]
     },
     "metadata": {},
     "output_type": "display_data"
    },
    {
     "data": {
      "text/html": [
       "<details><summary>Comparison: grobid-tei vs cermine</summary><p><strong>E</strong>: expected, <strong>A</strong>: pmc-sample-1943-cc-by-subset grobid-tei, <strong>B</strong>: pmc-sample-1943-cc-by-subset cermine (title exact)</p>\n",
       "<h4>grobid-tei [0 : 1] cermine (1)</h4>\n",
       "<p>There are 1 samples where grobid-tei got it wrong, but cermine got it right.</p>\n",
       "<blockquote>\n",
       "<p><code>f-67-00344.nxml</code> \"Refolding, crystallization and preliminary X-ray crystallographic study of the whole extracellular regions of nectins\"<br/><strong>E</strong>: Refolding, crystallization and preliminary X-ray crystallographic study of the whole extracellular regions of nectins<br/><strong>A</strong>: Structural Biology and Crystallization Communications Refolding, crystallization and preliminary X-ray crystallographic study of the whole extracellular regions of nectins</p>\n",
       "</blockquote>\n",
       "<h4>grobid-tei [1 : 0] cermine (0)</h4>\n",
       "<p>There are 0 samples where grobid-tei got it right, but cermine got it wrong.</p>\n",
       "<h4>grobid-tei [0 : 0] cermine (3)</h4>\n",
       "<p>There are 3 samples where both grobid-tei and cermine got it wrong.</p>\n",
       "<blockquote>\n",
       "<p><code>ORT-1745-3674-81-405.nxml</code> \"Resection arthroplasty for luxation of the manubrio-sternal joint in rheumatoid arthritis—a case report\"<br/><strong>E</strong>: Resection arthroplasty for luxation of the manubrio-sternal joint in rheumatoid arthritis—a case report<br/><strong>A</strong>: Resection arthroplasty for luxation of the manubrio-sternal joint in rheumatoid arthritis-a case report<br/><strong>B</strong>: Resection arthroplasty for luxation of the manubrio-sternal joint in rheumatoid arthritis-a case report</p>\n",
       "<p><code>e-67-o1363.nxml</code> \"3-Allyl-1-{[3-(4-nitro­phen­yl)-4,5-dihydro-1,3-oxazol-5-yl]meth­yl}-1H-anthra[1,2-d]imidazole-2,6,11(3H)-trione\"<br/><strong>E</strong>: 3-Allyl-1-{[3-(4-nitro­phen­yl)-4,5-dihydro-1,3-oxazol-5-yl]meth­yl}-1H-anthra[1,2-d]imidazole-2,6,11(3H)-trione<br/><strong>A</strong>: E67, o1363-o1364 Acta Cryst<br/><strong>B</strong>: 3-Allyl-1-{[3-(4-nitrophenyl)-4,5- dihydro-1,3-oxazol-5-yl]methyl}-1H- anthra[1,2-d]imidazole-2,6,11(3H)- trione</p>\n",
       "<p><code>d-67-00463.nxml</code> \"Pi sampling: a methodical and flexible approach to initial macromolecular crystallization screening\"<br/><strong>E</strong>: Pi sampling: a methodical and flexible approach to initial macromolecular crystallization screening<br/><strong>A</strong>: Biological Crystallography Pi sampling: a methodical and flexible approach to initial macromolecular crystallization screening<br/><strong>B</strong>: Pi sampling: a methodical and flexible approach to initial macromolecular crystallization screening research papers</p>\n",
       "</blockquote></details>"
      ],
      "text/plain": [
       "<IPython.core.display.HTML object>"
      ]
     },
     "metadata": {},
     "output_type": "display_data"
    },
    {
     "data": {
      "text/markdown": [
       "<hr/>"
      ],
      "text/plain": [
       "<IPython.core.display.Markdown object>"
      ]
     },
     "metadata": {},
     "output_type": "display_data"
    },
    {
     "data": {
      "text/markdown": [
       "# Field: first_author_full_name"
      ],
      "text/plain": [
       "<IPython.core.display.Markdown object>"
      ]
     },
     "metadata": {},
     "output_type": "display_data"
    },
    {
     "data": {
      "text/markdown": [
       "## Dataset: pmc-sample-1943-cc-by-subset (first_author_full_name levenshtein)"
      ],
      "text/plain": [
       "<IPython.core.display.Markdown object>"
      ]
     },
     "metadata": {},
     "output_type": "display_data"
    },
    {
     "data": {
      "text/html": [
       "<details><summary>Comparison: grobid-tei vs cermine</summary><p><strong>E</strong>: expected, <strong>A</strong>: pmc-sample-1943-cc-by-subset grobid-tei, <strong>B</strong>: pmc-sample-1943-cc-by-subset cermine (first_author_full_name levenshtein)</p>\n",
       "<h4>grobid-tei [0 : 1] cermine (1)</h4>\n",
       "<p>There are 1 samples where grobid-tei got it wrong, but cermine got it right.</p>\n",
       "<blockquote>\n",
       "<p><code>aas0055-0039.nxml</code> \"Phosphate-containing dialysis solution prevents hypophosphatemia during continuous renal replacement therapy\"<br/><strong>E</strong>: M BROMAN<br/><strong>A</strong>: M Broman</p>\n",
       "</blockquote>\n",
       "<h4>grobid-tei [1 : 0] cermine (3)</h4>\n",
       "<p>There are 3 samples where grobid-tei got it right, but cermine got it wrong.</p>\n",
       "<blockquote>\n",
       "<p><code>f-67-00344.nxml</code> \"Refolding, crystallization and preliminary X-ray crystallographic study of the whole extracellular regions of nectins\"<br/><strong>E</strong>: Hirotaka Narita<br/><strong>B</strong>: Laboratory of Supramolecular Crystallography</p>\n",
       "<p><code>apa0100-0653.nxml</code> \"Placental programming of blood pressure in Indian children\"<br/><strong>E</strong>: Nicola R Winder<br/><strong>B</strong>: Nicola R Winder (nw@mrc.soton.ac.uk)</p>\n",
       "<p><code>soto131-469.nxml</code> \"Visualization and assessment of saccular duct and endolymphatic sinus\"<br/><strong>E</strong>: Hideo Yamane<br/><strong>B</strong>: HIDEO YAMANE</p>\n",
       "</blockquote>\n",
       "<h4>grobid-tei [0 : 0] cermine (2)</h4>\n",
       "<p>There are 2 samples where both grobid-tei and cermine got it wrong.</p>\n",
       "<blockquote>\n",
       "<p><code>sobs89-975.nxml</code> \"Camera trocar lifting in office gasless laparoscopic sterilization under local anesthesia\"<br/><strong>E</strong>: Bo S. Bergström<br/><strong>A</strong>: Acta Obstetricia<br/><strong>B</strong>: BO S. BERGSTRÖM</p>\n",
       "<p><code>sonc50-621.nxml</code> \"Management of cutaneous metastases using electrochemotherapy\"<br/><strong>E</strong>: Louise Wichmann Matthiessen<br/><strong>A</strong>: Julie Gehl<br/><strong>B</strong>: LOUISE WICHMANN MATTHIESSEN</p>\n",
       "</blockquote></details>"
      ],
      "text/plain": [
       "<IPython.core.display.HTML object>"
      ]
     },
     "metadata": {},
     "output_type": "display_data"
    },
    {
     "data": {
      "text/markdown": [
       "## Dataset: pmc-sample-1943-cc-by-subset (first_author_full_name exact)"
      ],
      "text/plain": [
       "<IPython.core.display.Markdown object>"
      ]
     },
     "metadata": {},
     "output_type": "display_data"
    },
    {
     "data": {
      "text/html": [
       "<details><summary>Comparison: grobid-tei vs cermine</summary><p><strong>E</strong>: expected, <strong>A</strong>: pmc-sample-1943-cc-by-subset grobid-tei, <strong>B</strong>: pmc-sample-1943-cc-by-subset cermine (first_author_full_name exact)</p>\n",
       "<h4>grobid-tei [0 : 1] cermine (0)</h4>\n",
       "<p>There are 0 samples where grobid-tei got it wrong, but cermine got it right.</p>\n",
       "<h4>grobid-tei [1 : 0] cermine (3)</h4>\n",
       "<p>There are 3 samples where grobid-tei got it right, but cermine got it wrong.</p>\n",
       "<blockquote>\n",
       "<p><code>f-67-00344.nxml</code> \"Refolding, crystallization and preliminary X-ray crystallographic study of the whole extracellular regions of nectins\"<br/><strong>E</strong>: Hirotaka Narita<br/><strong>B</strong>: Laboratory of Supramolecular Crystallography</p>\n",
       "<p><code>apa0100-0653.nxml</code> \"Placental programming of blood pressure in Indian children\"<br/><strong>E</strong>: Nicola R Winder<br/><strong>B</strong>: Nicola R Winder (nw@mrc.soton.ac.uk)</p>\n",
       "<p><code>soto131-469.nxml</code> \"Visualization and assessment of saccular duct and endolymphatic sinus\"<br/><strong>E</strong>: Hideo Yamane<br/><strong>B</strong>: HIDEO YAMANE</p>\n",
       "</blockquote>\n",
       "<h4>grobid-tei [0 : 0] cermine (3)</h4>\n",
       "<p>There are 3 samples where both grobid-tei and cermine got it wrong.</p>\n",
       "<blockquote>\n",
       "<p><code>sobs89-975.nxml</code> \"Camera trocar lifting in office gasless laparoscopic sterilization under local anesthesia\"<br/><strong>E</strong>: Bo S. Bergström<br/><strong>A</strong>: Acta Obstetricia<br/><strong>B</strong>: BO S. BERGSTRÖM</p>\n",
       "<p><code>aas0055-0039.nxml</code> \"Phosphate-containing dialysis solution prevents hypophosphatemia during continuous renal replacement therapy\"<br/><strong>E</strong>: M BROMAN<br/><strong>A</strong>: M Broman<br/><strong>B</strong>: M. BROMAN</p>\n",
       "<p><code>sonc50-621.nxml</code> \"Management of cutaneous metastases using electrochemotherapy\"<br/><strong>E</strong>: Louise Wichmann Matthiessen<br/><strong>A</strong>: Julie Gehl<br/><strong>B</strong>: LOUISE WICHMANN MATTHIESSEN</p>\n",
       "</blockquote></details>"
      ],
      "text/plain": [
       "<IPython.core.display.HTML object>"
      ]
     },
     "metadata": {},
     "output_type": "display_data"
    },
    {
     "data": {
      "text/markdown": [
       "<hr/>"
      ],
      "text/plain": [
       "<IPython.core.display.Markdown object>"
      ]
     },
     "metadata": {},
     "output_type": "display_data"
    },
    {
     "data": {
      "text/markdown": [
       "# Field: abstract"
      ],
      "text/plain": [
       "<IPython.core.display.Markdown object>"
      ]
     },
     "metadata": {},
     "output_type": "display_data"
    },
    {
     "data": {
      "text/markdown": [
       "## Dataset: pmc-sample-1943-cc-by-subset (abstract levenshtein)"
      ],
      "text/plain": [
       "<IPython.core.display.Markdown object>"
      ]
     },
     "metadata": {},
     "output_type": "display_data"
    },
    {
     "data": {
      "text/html": [
       "<details><summary>Comparison: grobid-tei vs cermine</summary><p><strong>E</strong>: expected, <strong>A</strong>: pmc-sample-1943-cc-by-subset grobid-tei, <strong>B</strong>: pmc-sample-1943-cc-by-subset cermine (abstract levenshtein)</p>\n",
       "<h4>grobid-tei [0 : 1] cermine (1)</h4>\n",
       "<p>There are 1 samples where grobid-tei got it wrong, but cermine got it right.</p>\n",
       "<blockquote>\n",
       "<p><code>sonc50-621.nxml</code> \"Management of cutaneous metastases using electrochemotherapy\"<br/><strong>E</strong>: Background. Cutaneous metastases may cause considerable discomfort as a consequence of ulceration, oozing, bleeding and pain. Electrochemotherapy has proven to be highly effective in the treatment of cutaneous metastases. Electrochemotherapy utilises pulses of electricity to increase the permeability of the cell membrane and thereby augment the effect of chemotherapy. For the drug bleomycin, the effect is enhanced several hundred-fold, enabling once-only treatment. The primary endpoint of this study is to evaluate the efficacy of electrochemotherapy as a palliative treatment. Methods. This phase II study is a collaboration between two centres, one in Denmark and the other in the UK. Patients with cutaneous metastases of any histology were included. Bleomycin was administered intratumourally or intravenously followed by application of electric pulses to the tumour site. Results. Fifty-two patients were included. Complete and partial response rate was 68% and 18%, respectively, for cutaneous metastases &lt;3 cm and 8% and 23%, respectively, for cutaneous metastases &gt;3 cm. Treatment was well-tolerated by patients, including the elderly, and no serious adverse events were observed. Conclusions. ECT is an efficient and safe treatment and clinicians should not hesitate to use it even in the elderly.<br/><strong>A</strong>: Background. Cutaneous metastases may cause considerable discomfort as a consequence of ulceration, oozing, bleeding and pain. Electrochemotherapy has proven to be highly effective in the treatment of cutaneous metastases. Electrochemo-therapy utilises pulses of electricity to increase the permeability of the cell membrane and thereby augment the effect of chemotherapy. For the drug bleomycin, the effect is enhanced several hundred-fold, enabling once-only treatment. The primary endpoint of this study is to evaluate the effi cacy of electrochemotherapy as a palliative treatment. Methods. This phase II study is a collaboration between two centres, one in Denmark and the other in the UK. Patients with cutaneous metastases of any histology were included. Bleomycin was administered intratumourally or intravenously followed by application of electric pulses to the tumour site. Results. Fifty-two patients were included. Complete and partial response rate was 68% and 18%, respectively, for cutaneous metastases 3 cm and 8% and 23%, respectively, for cutaneous metastases 3 cm. Treatment was well-tolerated by patients, including the elderly, and no serious adverse events were observed. Conclusions. ECT is an effi cient and safe treatment and clinicians should not hesitate to use it even in the elderly. A cutaneous metastasis can be defi ned as \" a neoplas-tic lesion arising from another neoplasm with which there is no longer continuity \" [1]. Cutaneous metas-tases account for 0.7% to 9% of all metastases [2]. Breast cancer accounts for 51% of the total cases of cutaneous metastases, while malignant melanoma accounts for 18% [3].</p>\n",
       "</blockquote>\n",
       "<h4>grobid-tei [1 : 0] cermine (0)</h4>\n",
       "<p>There are 0 samples where grobid-tei got it right, but cermine got it wrong.</p>\n",
       "<h4>grobid-tei [0 : 0] cermine (6)</h4>\n",
       "<p>There are 6 samples where both grobid-tei and cermine got it wrong.</p>\n",
       "<blockquote>\n",
       "<p><code>f-67-00344.nxml</code> \"Refolding, crystallization and preliminary X-ray crystallographic study of the whole extracellular regions of nectins\"<br/><strong>E</strong>: The whole extracellular regions of nectin-1 (nectin-1-EC) and nectin-2 (nectin-2-EC) were expressed in E. coli as inclusion bodies, solubilized in 8 M urea and then refolded by rapid dilution. Refolded nectin-1-EC and nectin-2-EC were subsequently purified using three chromatographic steps and crystallized by the hanging-drop vapour-diffusion method.The nectin family of Ca2+-independent immunoglobulin-like cell–cell adhesion molecules contains four members. Nectins, which have three Ig-like domains in their extracellular region, form cell–cell adherens junctions cooperatively with cadherins. The whole extracellular regions of nectin-1 (nectin-1-EC) and nectin-­2 (nectin-2-EC) were expressed in Escherichia coli as inclusion bodies, solubilized in 8 M urea and then refolded by rapid dilution into refolding solution. The refolded proteins were subsequently purified by three chromatographic steps and crystallized using the hanging-drop vapour-diffusion method. The nectin-1-EC crystals belonged to space group P213 and the nectin-2-EC crystals belonged to space group P6122 or P6522.<br/><strong>A</strong>: The nectin family of Ca 2+-independent immunoglobulin-like cell-cell adhesion molecules contains four members. Nectins, which have three Ig-like domains in their extracellular region, form cell-cell adherens junctions cooperatively with cadherins. The whole extracellular regions of nectin-1 (nectin-1-EC) and nectin-2 (nectin-2-EC) were expressed in Escherichia coli as inclusion bodies, solubilized in 8 M urea and then refolded by rapid dilution into refolding solution. The refolded proteins were subsequently purified by three chromato-graphic steps and crystallized using the hanging-drop vapour-diffusion method. The nectin-1-EC crystals belonged to space group P2 1 3 and the nectin-2-EC crystals belonged to space group P6 1 22 or P6 5 22.<br/><strong>B</strong>: nan</p>\n",
       "<p><code>ORT-1745-3674-81-405.nxml</code> \"Resection arthroplasty for luxation of the manubrio-sternal joint in rheumatoid arthritis—a case report\"<br/><strong>E</strong>: nan<br/><strong>A</strong>: nan<br/><strong>B</strong>: nan</p>\n",
       "<p><code>apa0100-0653.nxml</code> \"Placental programming of blood pressure in Indian children\"<br/><strong>E</strong>: Aim To determine whether the size and shape of the placental surface predict blood pressure in childhood. Methods We studied blood pressure in 471 nine-year-old Indian children whose placental length, breadth and weight were measured in a prospective birth cohort study. Results In the daughters of short mothers (<median height), systolic blood pressure (SBP) rose as placental breadth increased (β = 0.69 mmHg/cm, p = 0.05) and as the ratio of placental surface area to birthweight increased (p = 0.0003). In the daughters of tall mothers, SBP rose as the difference between placental length and breadth increased (β = 1.40 mmHg/cm, p = 0.007), that is as the surface became more oval. Among boys, associations with placental size were only statistically significant after adjusting for current BMI and height. After adjustment, SBP rose as placental breadth, area and weight decreased (for breadth β = −0.68 mmHg/cm, p < 0.05 for all three measurements). Conclusions The size and shape of the placental surface predict childhood blood pressure. Blood pressure may be programmed by variation in the normal processes of placentation: these include implantation, expansion of the chorionic surface in mid-gestation and compensatory expansion of the chorionic surface in late gestation.<br/><strong>A</strong>: Aim: To determine whether the size and shape of the placental surface predict blood pressure in childhood. Methods: We studied blood pressure in 471 nine-year-old Indian children whose placental length, breadth and weight were measured in a prospective birth cohort study. Results: In the daughters of short mothers (<median height), systolic blood pressure (SBP) rose as placental breadth increased (b = 0.69 mmHg ⁄ cm, p = 0.05) and as the ratio of placental surface area to birthweight increased (p = 0.0003). In the daughters of tall mothers, SBP rose as the difference between placental length and breadth increased (b = 1.40 mmHg ⁄ cm, p = 0.007), that is as the surface became more oval. Among boys, associations with placental size were only statistically significant after adjusting for current BMI and height. After adjustment, SBP rose as placental breadth, area and weight decreased (for breadth b =)0.68 mmHg ⁄ cm, p < 0.05 for all three measurements).<br/><strong>B</strong>: Aim: To determine whether the size and shape of the placental surface predict blood pressure in childhood. Methods: We studied blood pressure in 471 nine-year-old Indian children whose placental length, breadth and weight were measured in a prospective birth cohort study. Results: In the daughters of short mothers (&lt;median height), systolic blood pressure (SBP) rose as placental breadth increased (b = 0.69 mmHg ? cm, p = 0.05) and as the ratio of placental surface area to birthweight increased (p = 0.0003). In the daughters of tall mothers, SBP rose as the difference between placental length and breadth increased (b = 1.40 mmHg ? cm, p = 0.007), that is as the surface became more oval. Among boys, associations with placental size were only statistically significant after adjusting for current BMI and height. After adjustment, SBP rose as placental breadth, area and weight decreased (for breadth b = )0.68 mmHg ? cm, p &lt; 0.05 for all three measurements).</p>\n",
       "</blockquote>\n",
       "<p>3 more</p></details>"
      ],
      "text/plain": [
       "<IPython.core.display.HTML object>"
      ]
     },
     "metadata": {},
     "output_type": "display_data"
    },
    {
     "data": {
      "text/markdown": [
       "## Dataset: pmc-sample-1943-cc-by-subset (abstract exact)"
      ],
      "text/plain": [
       "<IPython.core.display.Markdown object>"
      ]
     },
     "metadata": {},
     "output_type": "display_data"
    },
    {
     "data": {
      "text/html": [
       "<details><summary>Comparison: grobid-tei vs cermine</summary><p><strong>E</strong>: expected, <strong>A</strong>: pmc-sample-1943-cc-by-subset grobid-tei, <strong>B</strong>: pmc-sample-1943-cc-by-subset cermine (abstract exact)</p>\n",
       "<h4>grobid-tei [0 : 1] cermine (0)</h4>\n",
       "<p>There are 0 samples where grobid-tei got it wrong, but cermine got it right.</p>\n",
       "<h4>grobid-tei [1 : 0] cermine (0)</h4>\n",
       "<p>There are 0 samples where grobid-tei got it right, but cermine got it wrong.</p>\n",
       "<h4>grobid-tei [0 : 0] cermine (8)</h4>\n",
       "<p>There are 8 samples where both grobid-tei and cermine got it wrong.</p>\n",
       "<blockquote>\n",
       "<p><code>f-67-00344.nxml</code> \"Refolding, crystallization and preliminary X-ray crystallographic study of the whole extracellular regions of nectins\"<br/><strong>E</strong>: The whole extracellular regions of nectin-1 (nectin-1-EC) and nectin-2 (nectin-2-EC) were expressed in E. coli as inclusion bodies, solubilized in 8 M urea and then refolded by rapid dilution. Refolded nectin-1-EC and nectin-2-EC were subsequently purified using three chromatographic steps and crystallized by the hanging-drop vapour-diffusion method.The nectin family of Ca2+-independent immunoglobulin-like cell–cell adhesion molecules contains four members. Nectins, which have three Ig-like domains in their extracellular region, form cell–cell adherens junctions cooperatively with cadherins. The whole extracellular regions of nectin-1 (nectin-1-EC) and nectin-­2 (nectin-2-EC) were expressed in Escherichia coli as inclusion bodies, solubilized in 8 M urea and then refolded by rapid dilution into refolding solution. The refolded proteins were subsequently purified by three chromatographic steps and crystallized using the hanging-drop vapour-diffusion method. The nectin-1-EC crystals belonged to space group P213 and the nectin-2-EC crystals belonged to space group P6122 or P6522.<br/><strong>A</strong>: The nectin family of Ca 2+-independent immunoglobulin-like cell-cell adhesion molecules contains four members. Nectins, which have three Ig-like domains in their extracellular region, form cell-cell adherens junctions cooperatively with cadherins. The whole extracellular regions of nectin-1 (nectin-1-EC) and nectin-2 (nectin-2-EC) were expressed in Escherichia coli as inclusion bodies, solubilized in 8 M urea and then refolded by rapid dilution into refolding solution. The refolded proteins were subsequently purified by three chromato-graphic steps and crystallized using the hanging-drop vapour-diffusion method. The nectin-1-EC crystals belonged to space group P2 1 3 and the nectin-2-EC crystals belonged to space group P6 1 22 or P6 5 22.<br/><strong>B</strong>: nan</p>\n",
       "<p><code>ORT-1745-3674-81-405.nxml</code> \"Resection arthroplasty for luxation of the manubrio-sternal joint in rheumatoid arthritis—a case report\"<br/><strong>E</strong>: nan<br/><strong>A</strong>: nan<br/><strong>B</strong>: nan</p>\n",
       "<p><code>sobs89-975.nxml</code> \"Camera trocar lifting in office gasless laparoscopic sterilization under local anesthesia\"<br/><strong>E</strong>: We evaluated 35 cases of a mechanical approach to abdominal wall lifting, used in office-based gasless laparoscopic sterilization under local anesthesia. Lifting of the abdominal wall, using the camera trocar as an anchoring device and complemented by suprapubic lifting by means of a towel clamp, led to passive intra-abdominal air filling, giving sufficient space to identify, anesthetize, coagulate and cut the Fallopian tubes. Only mild sedation was necessary. All women walked to and from the operating room. All had successful tubal ligation. The overall satisfaction rate was 97%. The mechanical lifting moment was not painful. With the exception of one woman with failed tubal anesthesia, all women had a low mean pain score of 2.6 (VAS 0–10). No complications occurred except one wound infection. The costs were &lt; ¼ of those of traditional laparoscopic sterilization and office hysteroscopic sterilization. This approach is effective for office-based laparoscopic sterilization. Room air, two strings and a needle replace active gas insufflation and narcosis.<br/><strong>A</strong>: We evaluated 35 cases of a mechanical approach to abdominal wall lifting, used in office-based gasless laparoscopic sterilization under local anesthesia. Lifting of the abdominal wall, using the camera trocar as an anchoring device and complemented by suprapubic lifting by means of a towel clamp, led to passive intra-abdominal air filling, giving sufficient space to identify, anesthetize, coagulate and cut the Fallopian tubes. Only mild sedation was necessary. All women walked to and from the operating room. All had successful tubal ligation. The overall satisfaction rate was 97%. The mechanical lifting moment was not painful. With the exception of one woman with failed tubal anesthesia, all women had a low mean pain score of 2.6 (VAS 0-10). No complications occurred except one wound infection. The costs were £ 1 / 4 of those of traditional laparoscopic sterilization and office hysteroscopic sterilization. This approach is effective for office-based laparoscopic sterilization. Room air, two strings and a needle replace active gas insufflation and narcosis.<br/><strong>B</strong>: We evaluated 35 cases of a mechanical approach to abdominal wall lifting, used in office-based gasless laparoscopic sterilization under local anesthesia. Lifting of the abdominal wall, using the camera trocar as an anchoring device and complemented by suprapubic lifting by means of a towel clamp, led to passive intra-abdominal air filling, giving sufficient space to identify, anesthetize, coagulate and cut the Fallopian tubes. Only mild sedation was necessary. All women walked to and from the operating room. All had successful tubal ligation. The overall satisfaction rate was 97%. The mechanical lifting moment was not painful. With the exception of one woman with failed tubal anesthesia, all women had a low mean pain score of 2.6 (VAS 010). No complications occurred except one wound infection. The costs were £ 1/4 of those of traditional laparoscopic sterilization and office hysteroscopic sterilization. This approach is effective for office-based laparoscopic sterilization. Room air, two strings and a needle replace active gas insufflation and narcosis.</p>\n",
       "</blockquote>\n",
       "<p>5 more</p></details>"
      ],
      "text/plain": [
       "<IPython.core.display.HTML object>"
      ]
     },
     "metadata": {},
     "output_type": "display_data"
    },
    {
     "data": {
      "text/markdown": [
       "<hr/>"
      ],
      "text/plain": [
       "<IPython.core.display.Markdown object>"
      ]
     },
     "metadata": {},
     "output_type": "display_data"
    },
    {
     "data": {
      "text/markdown": [
       "# Field: tables"
      ],
      "text/plain": [
       "<IPython.core.display.Markdown object>"
      ]
     },
     "metadata": {},
     "output_type": "display_data"
    },
    {
     "data": {
      "text/markdown": [
       "## Dataset: pmc-sample-1943-cc-by-subset (tables levenshtein)"
      ],
      "text/plain": [
       "<IPython.core.display.Markdown object>"
      ]
     },
     "metadata": {},
     "output_type": "display_data"
    },
    {
     "data": {
      "text/html": [
       "<details><summary>Comparison: grobid-tei vs cermine</summary><p><strong>E</strong>: expected, <strong>A</strong>: pmc-sample-1943-cc-by-subset grobid-tei, <strong>B</strong>: pmc-sample-1943-cc-by-subset cermine (tables levenshtein)</p>\n",
       "<h4>grobid-tei [0 : 1] cermine (0)</h4>\n",
       "<p>There are 0 samples where grobid-tei got it wrong, but cermine got it right.</p>\n",
       "<h4>grobid-tei [1 : 0] cermine (0)</h4>\n",
       "<p>There are 0 samples where grobid-tei got it right, but cermine got it wrong.</p>\n",
       "<h4>grobid-tei [0 : 0] cermine (10)</h4>\n",
       "<p>There are 10 samples where both grobid-tei and cermine got it wrong.</p>\n",
       "<blockquote>\n",
       "<p><code>f-67-00344.nxml</code> \"Refolding, crystallization and preliminary X-ray crystallographic study of the whole extracellular regions of nectins\"<br/><strong>E</strong>: nan<br/><strong>A</strong>: [[]]<br/><strong>B</strong>: nan</p>\n",
       "<p><code>ORT-1745-3674-81-405.nxml</code> \"Resection arthroplasty for luxation of the manubrio-sternal joint in rheumatoid arthritis—a case report\"<br/><strong>E</strong>: nan<br/><strong>A</strong>: nan<br/><strong>B</strong>: nan</p>\n",
       "<p><code>sobs89-975.nxml</code> \"Camera trocar lifting in office gasless laparoscopic sterilization under local anesthesia\"<br/><strong>E</strong>: nan<br/><strong>A</strong>: nan<br/><strong>B</strong>: nan</p>\n",
       "</blockquote>\n",
       "<p>7 more</p></details>"
      ],
      "text/plain": [
       "<IPython.core.display.HTML object>"
      ]
     },
     "metadata": {},
     "output_type": "display_data"
    },
    {
     "data": {
      "text/markdown": [
       "## Dataset: pmc-sample-1943-cc-by-subset (tables exact)"
      ],
      "text/plain": [
       "<IPython.core.display.Markdown object>"
      ]
     },
     "metadata": {},
     "output_type": "display_data"
    },
    {
     "data": {
      "text/html": [
       "<details><summary>Comparison: grobid-tei vs cermine</summary><p><strong>E</strong>: expected, <strong>A</strong>: pmc-sample-1943-cc-by-subset grobid-tei, <strong>B</strong>: pmc-sample-1943-cc-by-subset cermine (tables exact)</p>\n",
       "<h4>grobid-tei [0 : 1] cermine (0)</h4>\n",
       "<p>There are 0 samples where grobid-tei got it wrong, but cermine got it right.</p>\n",
       "<h4>grobid-tei [1 : 0] cermine (0)</h4>\n",
       "<p>There are 0 samples where grobid-tei got it right, but cermine got it wrong.</p>\n",
       "<h4>grobid-tei [0 : 0] cermine (10)</h4>\n",
       "<p>There are 10 samples where both grobid-tei and cermine got it wrong.</p>\n",
       "<blockquote>\n",
       "<p><code>f-67-00344.nxml</code> \"Refolding, crystallization and preliminary X-ray crystallographic study of the whole extracellular regions of nectins\"<br/><strong>E</strong>: nan<br/><strong>A</strong>: [[]]<br/><strong>B</strong>: nan</p>\n",
       "<p><code>ORT-1745-3674-81-405.nxml</code> \"Resection arthroplasty for luxation of the manubrio-sternal joint in rheumatoid arthritis—a case report\"<br/><strong>E</strong>: nan<br/><strong>A</strong>: nan<br/><strong>B</strong>: nan</p>\n",
       "<p><code>sobs89-975.nxml</code> \"Camera trocar lifting in office gasless laparoscopic sterilization under local anesthesia\"<br/><strong>E</strong>: nan<br/><strong>A</strong>: nan<br/><strong>B</strong>: nan</p>\n",
       "</blockquote>\n",
       "<p>7 more</p></details>"
      ],
      "text/plain": [
       "<IPython.core.display.HTML object>"
      ]
     },
     "metadata": {},
     "output_type": "display_data"
    },
    {
     "data": {
      "text/markdown": [
       "<hr/>"
      ],
      "text/plain": [
       "<IPython.core.display.Markdown object>"
      ]
     },
     "metadata": {},
     "output_type": "display_data"
    },
    {
     "data": {
      "text/markdown": [
       "# Field: table_strings"
      ],
      "text/plain": [
       "<IPython.core.display.Markdown object>"
      ]
     },
     "metadata": {},
     "output_type": "display_data"
    },
    {
     "data": {
      "text/markdown": [
       "## Dataset: pmc-sample-1943-cc-by-subset (table_strings levenshtein)"
      ],
      "text/plain": [
       "<IPython.core.display.Markdown object>"
      ]
     },
     "metadata": {},
     "output_type": "display_data"
    },
    {
     "data": {
      "text/html": [
       "<details><summary>Comparison: grobid-tei vs cermine</summary><p><strong>E</strong>: expected, <strong>A</strong>: pmc-sample-1943-cc-by-subset grobid-tei, <strong>B</strong>: pmc-sample-1943-cc-by-subset cermine (table_strings levenshtein)</p>\n",
       "<h4>grobid-tei [0 : 1] cermine (0)</h4>\n",
       "<p>There are 0 samples where grobid-tei got it wrong, but cermine got it right.</p>\n",
       "<h4>grobid-tei [1 : 0] cermine (1)</h4>\n",
       "<p>There are 1 samples where grobid-tei got it right, but cermine got it wrong.</p>\n",
       "<blockquote>\n",
       "<p><code>sonc50-621.nxml</code> \"Management of cutaneous metastases using electrochemotherapy\"<br/><strong>E</strong>: Local anaesthesia General anaesthesia Location of metastases  Chest 23 32% 56 46%  Lower limbs 31 42% 23 19%  Head and Neck 11 15% 19 15%  Scalp 4 5% 17 14%  Upper limbs 3 4% 3 2%  Abdomen 1 1% 4 3%  Back 0 0 1 1% Size of metastases  Median (range) (mm) 7.5 (1-60) 10 (1-200) Number of metastases per patient  Median (range) 3 4, Patients Total (N = 52) Patients (%) Patients Herlev, N = 30 Patients Middlesbrough N = 22 Median age in years (range) 69.6 (38.9-94.7) 72.1 (53-89.8) 68.3 (38.9-94.7) Age distribution 1  80 + 11 11%  70 + 25 48%  60 + 44 85%  50 + 48 92% Sex  Female 35 67% 24 13  Male 17 33% 6 8 ECOG2 performance status  0 35 67% 58% 84%  1 12 23% 33% 5%  2 5 10% 9% 11% Previous Treatment  Surgery 42 81% 71% 95%  Radiotherapy 20 38% 42% 21%  Chemotherapy 21 40% 42% 37%  No previous treatment 8 15% 21% 0% Number of metastases treated pr. patient 3  Median (range) 3 (1-7) 3 (1-7) 4 (1-7) Diagnosis 4  Malignant Melanoma 21 40% 36% 47%  Breast Cancer 15 29% 33% 21%  Adenocarcinoma (other than breast) 5 10% 15% 0%  Basocellular Carcinoma 5 10% 9% 11%  Squamous Cell Carcinoma 3 6% 6% 5%  Other 3 5% 0% 16% Location of metastasis  Chest 79 40 40 41  Lower limbs 54 28 22 36  Head and Neck 30 15 22 6  Scalp 21 11 12 9  Upper limbs 6 3 4 1  Abdomen 5 3 1 5  Back 1 1 0 1 Size of metastases  Median diameter in mm (range) 12 (1-200) 15 (2-200) 5 (1-140)  ≤3 cm 138  &gt;3 cm 24, TREATMENT DATA All Patients (n = 51) All Patients (%) Herlev Middlesbrough Chemotherapy  Bleomycin I.T 21 41% 41% 42%  Bleomycin I.V. 30 59% 59% 58% Anaesthesia  Local 23 45% 50% 37%  General 28 55% 50% 63% ECT session duration1, hours:minutes  Median (range) (hh-mm) 00:16 (00:05-01:27) 00:29 (00:08-01:27) 00:18 (00:05-00:35) Would agree for another session  yes 46 90% 87% 90%  no 4 8% 13% 5%  no answer 1 2% 0 5% RESPONSE All Metastases (n = 97)2 Metastases (%) Herlev Middlesbrough Response for registered metastases3  CR 58 60% 54% 68%  PR 18 19% 20% 17%  SD 11 11% 18% 2%  PD 7 7% 4% 12%  Not evaluable 3 3% 5% 0% Time from treatment to CR (days)  Median (range) (days 47 (16-110) 41 (16-110) 63 (38-100) Size of metastases S30 mm (n = 84)  CR 57 68%  PR 15 18%  SD 5 6%  PD 5 6%  Not evaluable 2 2% Size of metastases &gt;30 mm (n = 13)  CR 1 8%  PR 3 23%  SD 6 46%  PD 2 15%  Not evaluable 1 8%<br/><strong>B</strong>: nan</p>\n",
       "</blockquote>\n",
       "<h4>grobid-tei [0 : 0] cermine (9)</h4>\n",
       "<p>There are 9 samples where both grobid-tei and cermine got it wrong.</p>\n",
       "<blockquote>\n",
       "<p><code>f-67-00344.nxml</code> \"Refolding, crystallization and preliminary X-ray crystallographic study of the whole extracellular regions of nectins\"<br/><strong>E</strong>: nan<br/><strong>A</strong>: Human nectin-1 extracellular region Mouse nectin-2 extracellular region Beamline BL44XU, SPring-8 BL44XU, SPring-8 Space group P2 1 3 P6 1 22 or P6 5 22 Unit-cell parameters (A ˚ ) a = b = c = 164.9 a = b = 79.3, c = 235.4 Wavelength (A ˚ ) 0.90000 0.90000 Detector DIP6040 DIP6040 Crystal-to-detector distance (mm) 540 400 Rotation range per image ( ) 0.5 1.0 Total rotation range ( ) 6 0 7 0 Exposure time per image (s) 20 2 Resolution range (A ˚ ) 50.00-2.80 (2.90-2.80) 50.00-2.55 (2.59-2.55) Total no. of observations 137039 (13666) 61011 (3039) No. of unique reflections 36109 (3504) 14654 (707) Completeness (%) 97.9 (96.8) 98.2 (96.8) hIi/h(I)i 19.4 (4.3) 21.8 (3.6) Multiplicity 3.8 (3.9) 4.2 (4.3) R merge † 0.068 (0.358) 0.061 (0.396) Overall B factor from Wilson plot (A ˚ 2 ) 85.5 58.1 † R merge = P hkl P i jI i ðhklÞ À hIðhklÞij= P hkl P i I i ðhklÞ, where hI(hkl)i is the mean intensity of symmetry-equivalent reflections.<br/><strong>B</strong>: nan</p>\n",
       "<p><code>ORT-1745-3674-81-405.nxml</code> \"Resection arthroplasty for luxation of the manubrio-sternal joint in rheumatoid arthritis—a case report\"<br/><strong>E</strong>: nan<br/><strong>A</strong>: nan<br/><strong>B</strong>: nan</p>\n",
       "<p><code>sobs89-975.nxml</code> \"Camera trocar lifting in office gasless laparoscopic sterilization under local anesthesia\"<br/><strong>E</strong>: nan<br/><strong>A</strong>: nan<br/><strong>B</strong>: nan</p>\n",
       "</blockquote>\n",
       "<p>6 more</p></details>"
      ],
      "text/plain": [
       "<IPython.core.display.HTML object>"
      ]
     },
     "metadata": {},
     "output_type": "display_data"
    },
    {
     "data": {
      "text/markdown": [
       "## Dataset: pmc-sample-1943-cc-by-subset (table_strings exact)"
      ],
      "text/plain": [
       "<IPython.core.display.Markdown object>"
      ]
     },
     "metadata": {},
     "output_type": "display_data"
    },
    {
     "data": {
      "text/html": [
       "<details><summary>Comparison: grobid-tei vs cermine</summary><p><strong>E</strong>: expected, <strong>A</strong>: pmc-sample-1943-cc-by-subset grobid-tei, <strong>B</strong>: pmc-sample-1943-cc-by-subset cermine (table_strings exact)</p>\n",
       "<h4>grobid-tei [0 : 1] cermine (0)</h4>\n",
       "<p>There are 0 samples where grobid-tei got it wrong, but cermine got it right.</p>\n",
       "<h4>grobid-tei [1 : 0] cermine (0)</h4>\n",
       "<p>There are 0 samples where grobid-tei got it right, but cermine got it wrong.</p>\n",
       "<h4>grobid-tei [0 : 0] cermine (10)</h4>\n",
       "<p>There are 10 samples where both grobid-tei and cermine got it wrong.</p>\n",
       "<blockquote>\n",
       "<p><code>f-67-00344.nxml</code> \"Refolding, crystallization and preliminary X-ray crystallographic study of the whole extracellular regions of nectins\"<br/><strong>E</strong>: nan<br/><strong>A</strong>: Human nectin-1 extracellular region Mouse nectin-2 extracellular region Beamline BL44XU, SPring-8 BL44XU, SPring-8 Space group P2 1 3 P6 1 22 or P6 5 22 Unit-cell parameters (A ˚ ) a = b = c = 164.9 a = b = 79.3, c = 235.4 Wavelength (A ˚ ) 0.90000 0.90000 Detector DIP6040 DIP6040 Crystal-to-detector distance (mm) 540 400 Rotation range per image ( ) 0.5 1.0 Total rotation range ( ) 6 0 7 0 Exposure time per image (s) 20 2 Resolution range (A ˚ ) 50.00-2.80 (2.90-2.80) 50.00-2.55 (2.59-2.55) Total no. of observations 137039 (13666) 61011 (3039) No. of unique reflections 36109 (3504) 14654 (707) Completeness (%) 97.9 (96.8) 98.2 (96.8) hIi/h(I)i 19.4 (4.3) 21.8 (3.6) Multiplicity 3.8 (3.9) 4.2 (4.3) R merge † 0.068 (0.358) 0.061 (0.396) Overall B factor from Wilson plot (A ˚ 2 ) 85.5 58.1 † R merge = P hkl P i jI i ðhklÞ À hIðhklÞij= P hkl P i I i ðhklÞ, where hI(hkl)i is the mean intensity of symmetry-equivalent reflections.<br/><strong>B</strong>: nan</p>\n",
       "<p><code>ORT-1745-3674-81-405.nxml</code> \"Resection arthroplasty for luxation of the manubrio-sternal joint in rheumatoid arthritis—a case report\"<br/><strong>E</strong>: nan<br/><strong>A</strong>: nan<br/><strong>B</strong>: nan</p>\n",
       "<p><code>sobs89-975.nxml</code> \"Camera trocar lifting in office gasless laparoscopic sterilization under local anesthesia\"<br/><strong>E</strong>: nan<br/><strong>A</strong>: nan<br/><strong>B</strong>: nan</p>\n",
       "</blockquote>\n",
       "<p>7 more</p></details>"
      ],
      "text/plain": [
       "<IPython.core.display.HTML object>"
      ]
     },
     "metadata": {},
     "output_type": "display_data"
    },
    {
     "data": {
      "text/markdown": [
       "<hr/>"
      ],
      "text/plain": [
       "<IPython.core.display.Markdown object>"
      ]
     },
     "metadata": {},
     "output_type": "display_data"
    },
    {
     "data": {
      "text/markdown": [
       "# Field: table_labels"
      ],
      "text/plain": [
       "<IPython.core.display.Markdown object>"
      ]
     },
     "metadata": {},
     "output_type": "display_data"
    },
    {
     "data": {
      "text/markdown": [
       "## Dataset: pmc-sample-1943-cc-by-subset (table_labels levenshtein)"
      ],
      "text/plain": [
       "<IPython.core.display.Markdown object>"
      ]
     },
     "metadata": {},
     "output_type": "display_data"
    },
    {
     "data": {
      "text/html": [
       "<details><summary>Comparison: grobid-tei vs cermine</summary><p><strong>E</strong>: expected, <strong>A</strong>: pmc-sample-1943-cc-by-subset grobid-tei, <strong>B</strong>: pmc-sample-1943-cc-by-subset cermine (table_labels levenshtein)</p>\n",
       "<h4>grobid-tei [0 : 1] cermine (0)</h4>\n",
       "<p>There are 0 samples where grobid-tei got it wrong, but cermine got it right.</p>\n",
       "<h4>grobid-tei [1 : 0] cermine (0)</h4>\n",
       "<p>There are 0 samples where grobid-tei got it right, but cermine got it wrong.</p>\n",
       "<h4>grobid-tei [0 : 0] cermine (10)</h4>\n",
       "<p>There are 10 samples where both grobid-tei and cermine got it wrong.</p>\n",
       "<blockquote>\n",
       "<p><code>f-67-00344.nxml</code> \"Refolding, crystallization and preliminary X-ray crystallographic study of the whole extracellular regions of nectins\"<br/><strong>E</strong>: nan<br/><strong>A</strong>: Table 1 Data-collection statistics. Values in parentheses are for the highest resolution shell.<br/><strong>B</strong>: nan</p>\n",
       "<p><code>ORT-1745-3674-81-405.nxml</code> \"Resection arthroplasty for luxation of the manubrio-sternal joint in rheumatoid arthritis—a case report\"<br/><strong>E</strong>: nan<br/><strong>A</strong>: nan<br/><strong>B</strong>: nan</p>\n",
       "<p><code>sobs89-975.nxml</code> \"Camera trocar lifting in office gasless laparoscopic sterilization under local anesthesia\"<br/><strong>E</strong>: nan<br/><strong>A</strong>: nan<br/><strong>B</strong>: nan</p>\n",
       "</blockquote>\n",
       "<p>7 more</p></details>"
      ],
      "text/plain": [
       "<IPython.core.display.HTML object>"
      ]
     },
     "metadata": {},
     "output_type": "display_data"
    },
    {
     "data": {
      "text/markdown": [
       "## Dataset: pmc-sample-1943-cc-by-subset (table_labels exact)"
      ],
      "text/plain": [
       "<IPython.core.display.Markdown object>"
      ]
     },
     "metadata": {},
     "output_type": "display_data"
    },
    {
     "data": {
      "text/html": [
       "<details><summary>Comparison: grobid-tei vs cermine</summary><p><strong>E</strong>: expected, <strong>A</strong>: pmc-sample-1943-cc-by-subset grobid-tei, <strong>B</strong>: pmc-sample-1943-cc-by-subset cermine (table_labels exact)</p>\n",
       "<h4>grobid-tei [0 : 1] cermine (0)</h4>\n",
       "<p>There are 0 samples where grobid-tei got it wrong, but cermine got it right.</p>\n",
       "<h4>grobid-tei [1 : 0] cermine (0)</h4>\n",
       "<p>There are 0 samples where grobid-tei got it right, but cermine got it wrong.</p>\n",
       "<h4>grobid-tei [0 : 0] cermine (10)</h4>\n",
       "<p>There are 10 samples where both grobid-tei and cermine got it wrong.</p>\n",
       "<blockquote>\n",
       "<p><code>f-67-00344.nxml</code> \"Refolding, crystallization and preliminary X-ray crystallographic study of the whole extracellular regions of nectins\"<br/><strong>E</strong>: nan<br/><strong>A</strong>: Table 1 Data-collection statistics. Values in parentheses are for the highest resolution shell.<br/><strong>B</strong>: nan</p>\n",
       "<p><code>ORT-1745-3674-81-405.nxml</code> \"Resection arthroplasty for luxation of the manubrio-sternal joint in rheumatoid arthritis—a case report\"<br/><strong>E</strong>: nan<br/><strong>A</strong>: nan<br/><strong>B</strong>: nan</p>\n",
       "<p><code>sobs89-975.nxml</code> \"Camera trocar lifting in office gasless laparoscopic sterilization under local anesthesia\"<br/><strong>E</strong>: nan<br/><strong>A</strong>: nan<br/><strong>B</strong>: nan</p>\n",
       "</blockquote>\n",
       "<p>7 more</p></details>"
      ],
      "text/plain": [
       "<IPython.core.display.HTML object>"
      ]
     },
     "metadata": {},
     "output_type": "display_data"
    },
    {
     "data": {
      "text/markdown": [
       "<hr/>"
      ],
      "text/plain": [
       "<IPython.core.display.Markdown object>"
      ]
     },
     "metadata": {},
     "output_type": "display_data"
    },
    {
     "data": {
      "text/markdown": [
       "# Field: table_captions"
      ],
      "text/plain": [
       "<IPython.core.display.Markdown object>"
      ]
     },
     "metadata": {},
     "output_type": "display_data"
    },
    {
     "data": {
      "text/markdown": [
       "## Dataset: pmc-sample-1943-cc-by-subset (table_captions levenshtein)"
      ],
      "text/plain": [
       "<IPython.core.display.Markdown object>"
      ]
     },
     "metadata": {},
     "output_type": "display_data"
    },
    {
     "data": {
      "text/html": [
       "<details><summary>Comparison: grobid-tei vs cermine</summary><p><strong>E</strong>: expected, <strong>A</strong>: pmc-sample-1943-cc-by-subset grobid-tei, <strong>B</strong>: pmc-sample-1943-cc-by-subset cermine (table_captions levenshtein)</p>\n",
       "<h4>grobid-tei [0 : 1] cermine (0)</h4>\n",
       "<p>There are 0 samples where grobid-tei got it wrong, but cermine got it right.</p>\n",
       "<h4>grobid-tei [1 : 0] cermine (0)</h4>\n",
       "<p>There are 0 samples where grobid-tei got it right, but cermine got it wrong.</p>\n",
       "<h4>grobid-tei [0 : 0] cermine (10)</h4>\n",
       "<p>There are 10 samples where both grobid-tei and cermine got it wrong.</p>\n",
       "<blockquote>\n",
       "<p><code>f-67-00344.nxml</code> \"Refolding, crystallization and preliminary X-ray crystallographic study of the whole extracellular regions of nectins\"<br/><strong>E</strong>: nan<br/><strong>A</strong>: nan<br/><strong>B</strong>: nan</p>\n",
       "<p><code>ORT-1745-3674-81-405.nxml</code> \"Resection arthroplasty for luxation of the manubrio-sternal joint in rheumatoid arthritis—a case report\"<br/><strong>E</strong>: nan<br/><strong>A</strong>: nan<br/><strong>B</strong>: nan</p>\n",
       "<p><code>sobs89-975.nxml</code> \"Camera trocar lifting in office gasless laparoscopic sterilization under local anesthesia\"<br/><strong>E</strong>: nan<br/><strong>A</strong>: nan<br/><strong>B</strong>: nan</p>\n",
       "</blockquote>\n",
       "<p>7 more</p></details>"
      ],
      "text/plain": [
       "<IPython.core.display.HTML object>"
      ]
     },
     "metadata": {},
     "output_type": "display_data"
    },
    {
     "data": {
      "text/markdown": [
       "## Dataset: pmc-sample-1943-cc-by-subset (table_captions exact)"
      ],
      "text/plain": [
       "<IPython.core.display.Markdown object>"
      ]
     },
     "metadata": {},
     "output_type": "display_data"
    },
    {
     "data": {
      "text/html": [
       "<details><summary>Comparison: grobid-tei vs cermine</summary><p><strong>E</strong>: expected, <strong>A</strong>: pmc-sample-1943-cc-by-subset grobid-tei, <strong>B</strong>: pmc-sample-1943-cc-by-subset cermine (table_captions exact)</p>\n",
       "<h4>grobid-tei [0 : 1] cermine (0)</h4>\n",
       "<p>There are 0 samples where grobid-tei got it wrong, but cermine got it right.</p>\n",
       "<h4>grobid-tei [1 : 0] cermine (0)</h4>\n",
       "<p>There are 0 samples where grobid-tei got it right, but cermine got it wrong.</p>\n",
       "<h4>grobid-tei [0 : 0] cermine (10)</h4>\n",
       "<p>There are 10 samples where both grobid-tei and cermine got it wrong.</p>\n",
       "<blockquote>\n",
       "<p><code>f-67-00344.nxml</code> \"Refolding, crystallization and preliminary X-ray crystallographic study of the whole extracellular regions of nectins\"<br/><strong>E</strong>: nan<br/><strong>A</strong>: nan<br/><strong>B</strong>: nan</p>\n",
       "<p><code>ORT-1745-3674-81-405.nxml</code> \"Resection arthroplasty for luxation of the manubrio-sternal joint in rheumatoid arthritis—a case report\"<br/><strong>E</strong>: nan<br/><strong>A</strong>: nan<br/><strong>B</strong>: nan</p>\n",
       "<p><code>sobs89-975.nxml</code> \"Camera trocar lifting in office gasless laparoscopic sterilization under local anesthesia\"<br/><strong>E</strong>: nan<br/><strong>A</strong>: nan<br/><strong>B</strong>: nan</p>\n",
       "</blockquote>\n",
       "<p>7 more</p></details>"
      ],
      "text/plain": [
       "<IPython.core.display.HTML object>"
      ]
     },
     "metadata": {},
     "output_type": "display_data"
    },
    {
     "data": {
      "text/markdown": [
       "<hr/>"
      ],
      "text/plain": [
       "<IPython.core.display.Markdown object>"
      ]
     },
     "metadata": {},
     "output_type": "display_data"
    },
    {
     "data": {
      "text/markdown": [
       "# Field: table_label_captions"
      ],
      "text/plain": [
       "<IPython.core.display.Markdown object>"
      ]
     },
     "metadata": {},
     "output_type": "display_data"
    },
    {
     "data": {
      "text/markdown": [
       "## Dataset: pmc-sample-1943-cc-by-subset (table_label_captions levenshtein)"
      ],
      "text/plain": [
       "<IPython.core.display.Markdown object>"
      ]
     },
     "metadata": {},
     "output_type": "display_data"
    },
    {
     "data": {
      "text/html": [
       "<details><summary>Comparison: grobid-tei vs cermine</summary><p><strong>E</strong>: expected, <strong>A</strong>: pmc-sample-1943-cc-by-subset grobid-tei, <strong>B</strong>: pmc-sample-1943-cc-by-subset cermine (table_label_captions levenshtein)</p>\n",
       "<h4>grobid-tei [0 : 1] cermine (0)</h4>\n",
       "<p>There are 0 samples where grobid-tei got it wrong, but cermine got it right.</p>\n",
       "<h4>grobid-tei [1 : 0] cermine (2)</h4>\n",
       "<p>There are 2 samples where grobid-tei got it right, but cermine got it wrong.</p>\n",
       "<blockquote>\n",
       "<p><code>apa0100-0653.nxml</code> \"Placental programming of blood pressure in Indian children\"<br/><strong>E</strong>: Table 1 Characteristics of the mothers, placentas, babies and children in the Mysore Parthenon cohort, Table 2 Blood pressure at 9.5 years among boys and girls according to placental size, Table 3 Blood pressure at 9.5 years among girls according to mother’s height and placental size<br/><strong>B</strong>: nan</p>\n",
       "<p><code>sonc50-621.nxml</code> \"Management of cutaneous metastases using electrochemotherapy\"<br/><strong>E</strong>: Table I Patients' characteristics at baseline., Table II Treatment data and response., Table III Choice of anaesthesia according to location of metastases and size.<br/><strong>B</strong>: nan</p>\n",
       "</blockquote>\n",
       "<h4>grobid-tei [0 : 0] cermine (8)</h4>\n",
       "<p>There are 8 samples where both grobid-tei and cermine got it wrong.</p>\n",
       "<blockquote>\n",
       "<p><code>f-67-00344.nxml</code> \"Refolding, crystallization and preliminary X-ray crystallographic study of the whole extracellular regions of nectins\"<br/><strong>E</strong>: nan<br/><strong>A</strong>: Table 1 Data-collection statistics. Values in parentheses are for the highest resolution shell.<br/><strong>B</strong>: nan</p>\n",
       "<p><code>ORT-1745-3674-81-405.nxml</code> \"Resection arthroplasty for luxation of the manubrio-sternal joint in rheumatoid arthritis—a case report\"<br/><strong>E</strong>: nan<br/><strong>A</strong>: nan<br/><strong>B</strong>: nan</p>\n",
       "<p><code>sobs89-975.nxml</code> \"Camera trocar lifting in office gasless laparoscopic sterilization under local anesthesia\"<br/><strong>E</strong>: nan<br/><strong>A</strong>: nan<br/><strong>B</strong>: nan</p>\n",
       "</blockquote>\n",
       "<p>5 more</p></details>"
      ],
      "text/plain": [
       "<IPython.core.display.HTML object>"
      ]
     },
     "metadata": {},
     "output_type": "display_data"
    },
    {
     "data": {
      "text/markdown": [
       "## Dataset: pmc-sample-1943-cc-by-subset (table_label_captions exact)"
      ],
      "text/plain": [
       "<IPython.core.display.Markdown object>"
      ]
     },
     "metadata": {},
     "output_type": "display_data"
    },
    {
     "data": {
      "text/html": [
       "<details><summary>Comparison: grobid-tei vs cermine</summary><p><strong>E</strong>: expected, <strong>A</strong>: pmc-sample-1943-cc-by-subset grobid-tei, <strong>B</strong>: pmc-sample-1943-cc-by-subset cermine (table_label_captions exact)</p>\n",
       "<h4>grobid-tei [0 : 1] cermine (0)</h4>\n",
       "<p>There are 0 samples where grobid-tei got it wrong, but cermine got it right.</p>\n",
       "<h4>grobid-tei [1 : 0] cermine (0)</h4>\n",
       "<p>There are 0 samples where grobid-tei got it right, but cermine got it wrong.</p>\n",
       "<h4>grobid-tei [0 : 0] cermine (10)</h4>\n",
       "<p>There are 10 samples where both grobid-tei and cermine got it wrong.</p>\n",
       "<blockquote>\n",
       "<p><code>f-67-00344.nxml</code> \"Refolding, crystallization and preliminary X-ray crystallographic study of the whole extracellular regions of nectins\"<br/><strong>E</strong>: nan<br/><strong>A</strong>: Table 1 Data-collection statistics. Values in parentheses are for the highest resolution shell.<br/><strong>B</strong>: nan</p>\n",
       "<p><code>ORT-1745-3674-81-405.nxml</code> \"Resection arthroplasty for luxation of the manubrio-sternal joint in rheumatoid arthritis—a case report\"<br/><strong>E</strong>: nan<br/><strong>A</strong>: nan<br/><strong>B</strong>: nan</p>\n",
       "<p><code>sobs89-975.nxml</code> \"Camera trocar lifting in office gasless laparoscopic sterilization under local anesthesia\"<br/><strong>E</strong>: nan<br/><strong>A</strong>: nan<br/><strong>B</strong>: nan</p>\n",
       "</blockquote>\n",
       "<p>7 more</p></details>"
      ],
      "text/plain": [
       "<IPython.core.display.HTML object>"
      ]
     },
     "metadata": {},
     "output_type": "display_data"
    }
   ],
   "source": [
    "def show_comparative_examples(inspect_name, compare_with_name, field_name, evaluation_method, limit=3):\n",
    "    inspect_df = details_df_map[inspect_name].merge(\n",
    "        details_df_map[compare_with_name],\n",
    "        how='outer',\n",
    "        on=['target_file', 'field_name', 'evaluation_method', 'expected'],\n",
    "        suffixes=['', '_other']\n",
    "    )\n",
    "\n",
    "    title_map = inspect_df[\n",
    "        (inspect_df['field_name'] == 'title') &\n",
    "        (inspect_df['evaluation_method'] == 'exact')\n",
    "    ][['target_file', 'expected']].groupby('target_file').first()['expected'].to_dict()\n",
    "\n",
    "    inspect_df = inspect_df[inspect_df['field_name'] == field_name]\n",
    "    inspect_df = inspect_df[inspect_df['evaluation_method'] == evaluation_method]\n",
    "\n",
    "    md = []\n",
    "\n",
    "    md.append('**E**: expected, **A**: %s, **B**: %s (%s %s)' % (\n",
    "        inspect_name, compare_with_name, field_name, evaluation_method\n",
    "    ))\n",
    "    \n",
    "    short_inspect_name = short_name(inspect_name)\n",
    "    short_other_name = short_name(compare_with_name)\n",
    "\n",
    "    incorrect_inspect_df = inspect_df[(inspect_df['tp'] == 0) & (inspect_df['tp_other'] == 1)]\n",
    "    md.append('#### %s [0 : 1] %s (%d)' % (short_inspect_name, short_other_name, len(incorrect_inspect_df)))\n",
    "    md.append('There are %d samples where %s got it wrong, but %s got it right.' % (\n",
    "        len(incorrect_inspect_df), short_inspect_name, short_other_name\n",
    "    ))\n",
    "    for row in incorrect_inspect_df[:limit].to_dict(orient='rows'):\n",
    "        md.append('> `%s` \"%s\"<br/>**E**: %s<br/>**A**: %s' % (\n",
    "            row['target_file'], title_map.get(row['target_file']), row['expected'], row['actual']\n",
    "        ))\n",
    "    if len(incorrect_inspect_df) > limit:\n",
    "        md.append('%d more' % (len(incorrect_inspect_df) - limit))\n",
    "\n",
    "    correct_inspect_df = inspect_df[(inspect_df['tp'] == 1) & (inspect_df['tp_other'] == 0)]\n",
    "    md.append('#### %s [1 : 0] %s (%d)' % (short_inspect_name, short_other_name, len(correct_inspect_df)))\n",
    "    md.append('There are %d samples where %s got it right, but %s got it wrong.' % (\n",
    "        len(correct_inspect_df), short_inspect_name, short_other_name\n",
    "    ))\n",
    "    for row in correct_inspect_df[:limit].to_dict(orient='rows'):\n",
    "        md.append('> `%s` \"%s\"<br/>**E**: %s<br/>**B**: %s' % (\n",
    "            row['target_file'], title_map.get(row['target_file']), row['expected'], row['actual_other']\n",
    "        ))\n",
    "    if len(correct_inspect_df) > limit:\n",
    "        md.append('%d more' % (len(correct_inspect_df) - limit))\n",
    "\n",
    "    both_incorrect_inspect_df = inspect_df[(inspect_df['tp'] == 0) & (inspect_df['tp_other'] == 0)]\n",
    "    md.append('#### %s [0 : 0] %s (%d)' % (short_inspect_name, short_other_name, len(both_incorrect_inspect_df)))\n",
    "    md.append('There are %d samples where both %s and %s got it wrong.' % (\n",
    "        len(both_incorrect_inspect_df), short_inspect_name, short_other_name\n",
    "    ))\n",
    "    for row in both_incorrect_inspect_df[:limit].to_dict(orient='rows'):\n",
    "        md.append('> `%s` \"%s\"<br/>**E**: %s<br/>**A**: %s<br/>**B**: %s' % (\n",
    "            row['target_file'], title_map.get(row['target_file']),\n",
    "            row['expected'], row['actual'], row['actual_other']\n",
    "        ))\n",
    "    if len(both_incorrect_inspect_df) > limit:\n",
    "        md.append('%d more' % (len(both_incorrect_inspect_df) - limit))\n",
    "    return '\\n\\n'.join(md)\n",
    "\n",
    "printmd('# Comparing results between tools')\n",
    "for field_name in field_names:\n",
    "    printmd('<hr/>')\n",
    "    printmd('# Field: %s' % field_name)\n",
    "    for evaluation_method in evaluation_methods:\n",
    "        for prefix in prefix_list:\n",
    "            printmd('## Dataset: %s (%s %s)' % (prefix, field_name, evaluation_method))\n",
    "            names_with_prefix = [name for name in all_result_names if name.startswith(prefix)]\n",
    "            for i, inspect_name in enumerate(names_with_prefix[:-1]):\n",
    "                for other_name in names_with_prefix[(1 + i):]:\n",
    "                    title = 'Comparison: %s vs %s' % (short_name(inspect_name), short_name(other_name))\n",
    "                    content = markdown(show_comparative_examples(\n",
    "                        inspect_name, other_name,\n",
    "                        field_name=field_name, evaluation_method=evaluation_method\n",
    "                    ))\n",
    "                    display(HTML('<details><summary>%s</summary>%s</details>' % (title, content)))"
   ]
  }
 ],
 "metadata": {
  "kernelspec": {
   "display_name": "Python 3",
   "language": "python",
   "name": "python3"
  },
  "language_info": {
   "codemirror_mode": {
    "name": "ipython",
    "version": 3
   },
   "file_extension": ".py",
   "mimetype": "text/x-python",
   "name": "python",
   "nbconvert_exporter": "python",
   "pygments_lexer": "ipython3",
   "version": "3.5.2"
  }
 },
 "nbformat": 4,
 "nbformat_minor": 2
}
