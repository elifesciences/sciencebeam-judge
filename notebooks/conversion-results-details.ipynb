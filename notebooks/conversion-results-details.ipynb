{
 "cells": [
  {
   "cell_type": "code",
   "execution_count": 1,
   "metadata": {
    "tags": [
     "parameters"
    ]
   },
   "outputs": [],
   "source": [
    "data_path = '../example-data'\n",
    "# data_path = 'gs://elife-public-data/sciencebeam/datasets'\n",
    "dataset_relative_paths = ['pmc-sample-1943-cc-by-subset']\n",
    "dataset_suffixes = []\n",
    "tool_names = ['grobid-tei', 'cermine']\n",
    "# tool_names = ['grobid-tei', 'cermine', 'scienceparse-v1', 'scienceparse-v2']\n",
    "field_names = [\n",
    "    'title',\n",
    "    'first_author_full_name', 'author_full_names',\n",
    "    'affiliation_strings', 'affiliation_institution',\n",
    "    'abstract',\n",
    "    'tables', 'table_strings', 'table_labels', 'table_captions', 'table_label_captions'\n",
    "]\n",
    "evaluation_methods = ['levenshtein', 'exact']\n",
    "details_filename = 'results-00000-of-00001.csv'\n",
    "show_tables = False"
   ]
  },
  {
   "cell_type": "markdown",
   "metadata": {},
   "source": [
    "# Conversion Results Details"
   ]
  },
  {
   "cell_type": "code",
   "execution_count": 2,
   "metadata": {},
   "outputs": [],
   "source": [
    "# This Conversion Results Notebook by default use the very small example dataset\n",
    "# You may pass in other parameters, e.g.:\n",
    "#   $papermill conversion-results-tools.ipynb conversion-results-tools-configured.ipynb -p data_path '/my/other/data/path'"
   ]
  },
  {
   "cell_type": "code",
   "execution_count": 3,
   "metadata": {},
   "outputs": [],
   "source": [
    "%matplotlib inline"
   ]
  },
  {
   "cell_type": "code",
   "execution_count": 4,
   "metadata": {},
   "outputs": [],
   "source": [
    "import matplotlib\n",
    "matplotlib.style.use('ggplot')"
   ]
  },
  {
   "cell_type": "code",
   "execution_count": 5,
   "metadata": {},
   "outputs": [],
   "source": [
    "from datetime import datetime\n",
    "import time\n",
    "import os\n",
    "import subprocess\n",
    "import re\n",
    "import pandas as pd\n",
    "from markdown import markdown\n",
    "from IPython.display import display, Markdown, HTML"
   ]
  },
  {
   "cell_type": "code",
   "execution_count": 6,
   "metadata": {},
   "outputs": [
    {
     "data": {
      "text/html": [
       "\n",
       "<!-- vertical accordion CSS -->\n",
       "<style>\n",
       "details {\n",
       "  padding: 15px;\n",
       "  border: 1px solid rgba(0,0,0,.1);\n",
       "}\n",
       "\n",
       "details + details {\n",
       "  margin-top: 20px;\n",
       "}\n",
       "\n",
       "details[open] {\n",
       "  min-height: 30px;\n",
       "}\n",
       "\n",
       "summary {\n",
       "  font-weight: 500;\n",
       "  cursor: pointer;\n",
       "}\n",
       "\n",
       "summary:focus {\n",
       "  outline: none;\n",
       "}\n",
       "</style>\n"
      ],
      "text/plain": [
       "<IPython.core.display.HTML object>"
      ]
     },
     "metadata": {},
     "output_type": "display_data"
    }
   ],
   "source": [
    "display(HTML(\n",
    "'''\n",
    "<!-- vertical accordion CSS -->\n",
    "<style>\n",
    "details {\n",
    "  padding: 15px;\n",
    "  border: 1px solid rgba(0,0,0,.1);\n",
    "}\n",
    "\n",
    "details + details {\n",
    "  margin-top: 20px;\n",
    "}\n",
    "\n",
    "details[open] {\n",
    "  min-height: 30px;\n",
    "}\n",
    "\n",
    "summary {\n",
    "  font-weight: 500;\n",
    "  cursor: pointer;\n",
    "}\n",
    "\n",
    "summary:focus {\n",
    "  outline: none;\n",
    "}\n",
    "</style>\n",
    "'''))"
   ]
  },
  {
   "cell_type": "code",
   "execution_count": 7,
   "metadata": {},
   "outputs": [],
   "source": [
    "def parse_list(s):\n",
    "    if isinstance(s, list):\n",
    "        return s\n",
    "    return [x.strip() for x in s.split(',') if x.strip()]\n",
    "\n",
    "dataset_relative_paths = parse_list(dataset_relative_paths)\n",
    "tool_names = parse_list(tool_names)\n",
    "field_names = parse_list(field_names)\n",
    "evaluation_methods = parse_list(evaluation_methods)\n",
    "dataset_suffixes = dict(parse_list(dataset_suffixes))"
   ]
  },
  {
   "cell_type": "code",
   "execution_count": 8,
   "metadata": {},
   "outputs": [],
   "source": [
    "all_result_paths = [\n",
    "    (\n",
    "        '%s%s %s' % (dataset_relative_path, dataset_suffix, tool),\n",
    "        os.path.join(\n",
    "            data_path,\n",
    "            '%s-results/evaluation-results/%s%s' % (\n",
    "                dataset_relative_path,\n",
    "                tool,\n",
    "                dataset_suffix\n",
    "            )\n",
    "        )\n",
    "    )\n",
    "    for dataset_relative_path in dataset_relative_paths\n",
    "    for dataset_suffix in dataset_suffixes.get(dataset_relative_path, [''])\n",
    "    for tool in tool_names\n",
    "]\n",
    "\n",
    "prefix_list = [\n",
    "    '%s%s' % (dataset_relative_path, dataset_suffix)\n",
    "    for dataset_relative_path in dataset_relative_paths\n",
    "    for dataset_suffix in dataset_suffixes.get(dataset_relative_path, [''])\n",
    "]"
   ]
  },
  {
   "cell_type": "code",
   "execution_count": 9,
   "metadata": {},
   "outputs": [],
   "source": [
    "all_result_names = [name for name, _ in all_result_paths]"
   ]
  },
  {
   "cell_type": "code",
   "execution_count": 10,
   "metadata": {},
   "outputs": [],
   "source": [
    "def printmd(s):\n",
    "    try:\n",
    "        s = s.decode('unicode_escape')\n",
    "    except AttributeError:\n",
    "        pass\n",
    "    display(Markdown(s))"
   ]
  },
  {
   "cell_type": "code",
   "execution_count": 11,
   "metadata": {},
   "outputs": [],
   "source": [
    "def retrieve_local_copy_if_remote(file_url):\n",
    "    if file_url.startswith('gs://'):\n",
    "        local_filename = os.path.join('../.temp', os.path.basename(file_url))\n",
    "        subprocess.check_output('gsutil cp -P \"%s\" \"%s\"' % (file_url, local_filename), shell=True)\n",
    "        # would be nice if gsutil did actually copy the creation time, let's do it here in a hacky way\n",
    "        timestamp_match = re.search('\\s(\\d{4}-[^ ]+)\\s', subprocess.check_output('gsutil ls -l \"%s\"' % file_url, shell=True).decode('utf-8'))\n",
    "        file_time = time.mktime(datetime.strptime(timestamp_match.group(1), \"%Y-%m-%dT%H:%M:%SZ\").timetuple())\n",
    "        os.utime(local_filename, (file_time, file_time))\n",
    "        return local_filename\n",
    "\n",
    "    return file_url\n",
    "\n",
    "def load_result_map(all_result_paths, filename):\n",
    "    df_map = {}\n",
    "    for name, result_path in all_result_paths:\n",
    "        full_filename = retrieve_local_copy_if_remote(os.path.join(result_path, filename))\n",
    "        printmd('**Timestamp:** %s (%s)' % (datetime.fromtimestamp(os.path.getmtime(full_filename)), name))\n",
    "        df_map[name] = pd.read_csv(full_filename)\n",
    "        if show_tables:\n",
    "            display(df_map[name].head(3))\n",
    "    return df_map"
   ]
  },
  {
   "cell_type": "code",
   "execution_count": 12,
   "metadata": {},
   "outputs": [
    {
     "data": {
      "text/markdown": [
       "## Details Files"
      ],
      "text/plain": [
       "<IPython.core.display.Markdown object>"
      ]
     },
     "metadata": {},
     "output_type": "display_data"
    },
    {
     "data": {
      "text/markdown": [
       "**Timestamp:** 2018-07-31 11:25:17.375595 (pmc-sample-1943-cc-by-subset grobid-tei)"
      ],
      "text/plain": [
       "<IPython.core.display.Markdown object>"
      ]
     },
     "metadata": {},
     "output_type": "display_data"
    },
    {
     "data": {
      "text/markdown": [
       "**Timestamp:** 2018-07-31 11:25:09.359555 (pmc-sample-1943-cc-by-subset cermine)"
      ],
      "text/plain": [
       "<IPython.core.display.Markdown object>"
      ]
     },
     "metadata": {},
     "output_type": "display_data"
    }
   ],
   "source": [
    "printmd('## Details Files')\n",
    "details_df_map = load_result_map(all_result_paths, details_filename)"
   ]
  },
  {
   "cell_type": "code",
   "execution_count": 13,
   "metadata": {},
   "outputs": [
    {
     "data": {
      "text/markdown": [
       "### Evaluation File States"
      ],
      "text/plain": [
       "<IPython.core.display.Markdown object>"
      ]
     },
     "metadata": {},
     "output_type": "display_data"
    },
    {
     "data": {
      "text/markdown": [
       "**Evaluation methods:** exact, levenshtein"
      ],
      "text/plain": [
       "<IPython.core.display.Markdown object>"
      ]
     },
     "metadata": {},
     "output_type": "display_data"
    },
    {
     "data": {
      "text/markdown": [
       "**Field names:** abstract, affiliation_institution, affiliation_strings, author_full_names, author_surnames, first_author_full_name, first_author_surname, keywords, section_titles, table_captions, table_label_captions, table_labels, table_strings, tables, title"
      ],
      "text/plain": [
       "<IPython.core.display.Markdown object>"
      ]
     },
     "metadata": {},
     "output_type": "display_data"
    }
   ],
   "source": [
    "printmd('### Evaluation File States')\n",
    "printmd('**Evaluation methods:** %s' % ', '.join(sorted(set(\n",
    "    details_df_map[all_result_names[0]]['evaluation_method']\n",
    "))))\n",
    "printmd('**Field names:** %s' % ', '.join(sorted(set(\n",
    "    details_df_map[all_result_names[0]]['field_name'].dropna()\n",
    "))))"
   ]
  },
  {
   "cell_type": "code",
   "execution_count": 14,
   "metadata": {},
   "outputs": [],
   "source": [
    "def short_name(full_name):\n",
    "    return full_name.split(' ')[-1]"
   ]
  },
  {
   "cell_type": "code",
   "execution_count": 15,
   "metadata": {
    "scrolled": false
   },
   "outputs": [
    {
     "data": {
      "text/markdown": [
       "# Comparing results between tools"
      ],
      "text/plain": [
       "<IPython.core.display.Markdown object>"
      ]
     },
     "metadata": {},
     "output_type": "display_data"
    },
    {
     "data": {
      "text/markdown": [
       "<hr/>"
      ],
      "text/plain": [
       "<IPython.core.display.Markdown object>"
      ]
     },
     "metadata": {},
     "output_type": "display_data"
    },
    {
     "data": {
      "text/markdown": [
       "# Field: title"
      ],
      "text/plain": [
       "<IPython.core.display.Markdown object>"
      ]
     },
     "metadata": {},
     "output_type": "display_data"
    },
    {
     "data": {
      "text/markdown": [
       "## Dataset: pmc-sample-1943-cc-by-subset (title levenshtein)"
      ],
      "text/plain": [
       "<IPython.core.display.Markdown object>"
      ]
     },
     "metadata": {},
     "output_type": "display_data"
    },
    {
     "data": {
      "text/html": [
       "<details><summary>Comparison: grobid-tei vs cermine</summary><p><strong>E</strong>: expected, <strong>A</strong>: pmc-sample-1943-cc-by-subset grobid-tei, <strong>B</strong>: pmc-sample-1943-cc-by-subset cermine (title levenshtein)</p>\n",
       "<h4>grobid-tei [0 : 1] cermine (3)</h4>\n",
       "<p>There are 3 samples where grobid-tei got it wrong, but cermine got it right.</p>\n",
       "<blockquote>\n",
       "<p><code>d-67-00463.nxml</code> \"Pi sampling: a methodical and flexible approach to initial macromolecular crystallization screening\"<br/><strong>E</strong>: Pi sampling: a methodical and flexible approach to initial macromolecular crystallization screening<br/><strong>A</strong>: Biological Crystallography Pi sampling: a methodical and flexible approach to initial macromolecular crystallization screening</p>\n",
       "<p><code>e-67-o1363.nxml</code> \"3-Allyl-1-{[3-(4-nitro­phen­yl)-4,5-dihydro-1,3-oxazol-5-yl]meth­yl}-1H-anthra[1,2-d]imidazole-2,6,11(3H)-trione\"<br/><strong>E</strong>: 3-Allyl-1-{[3-(4-nitro­phen­yl)-4,5-dihydro-1,3-oxazol-5-yl]meth­yl}-1H-anthra[1,2-d]imidazole-2,6,11(3H)-trione<br/><strong>A</strong>: E67, o1363-o1364 Acta Cryst</p>\n",
       "<p><code>f-67-00344.nxml</code> \"Refolding, crystallization and preliminary X-ray crystallographic study of the whole extracellular regions of nectins\"<br/><strong>E</strong>: Refolding, crystallization and preliminary X-ray crystallographic study of the whole extracellular regions of nectins<br/><strong>A</strong>: Structural Biology and Crystallization Communications Refolding, crystallization and preliminary X-ray crystallographic study of the whole extracellular regions of nectins</p>\n",
       "</blockquote>\n",
       "<h4>grobid-tei [1 : 0] cermine (0)</h4>\n",
       "<p>There are 0 samples where grobid-tei got it right, but cermine got it wrong.</p>\n",
       "<h4>grobid-tei [0 : 0] cermine (0)</h4>\n",
       "<p>There are 0 samples where both grobid-tei and cermine got it wrong.</p></details>"
      ],
      "text/plain": [
       "<IPython.core.display.HTML object>"
      ]
     },
     "metadata": {},
     "output_type": "display_data"
    },
    {
     "data": {
      "text/markdown": [
       "## Dataset: pmc-sample-1943-cc-by-subset (title exact)"
      ],
      "text/plain": [
       "<IPython.core.display.Markdown object>"
      ]
     },
     "metadata": {},
     "output_type": "display_data"
    },
    {
     "data": {
      "text/html": [
       "<details><summary>Comparison: grobid-tei vs cermine</summary><p><strong>E</strong>: expected, <strong>A</strong>: pmc-sample-1943-cc-by-subset grobid-tei, <strong>B</strong>: pmc-sample-1943-cc-by-subset cermine (title exact)</p>\n",
       "<h4>grobid-tei [0 : 1] cermine (1)</h4>\n",
       "<p>There are 1 samples where grobid-tei got it wrong, but cermine got it right.</p>\n",
       "<blockquote>\n",
       "<p><code>f-67-00344.nxml</code> \"Refolding, crystallization and preliminary X-ray crystallographic study of the whole extracellular regions of nectins\"<br/><strong>E</strong>: Refolding, crystallization and preliminary X-ray crystallographic study of the whole extracellular regions of nectins<br/><strong>A</strong>: Structural Biology and Crystallization Communications Refolding, crystallization and preliminary X-ray crystallographic study of the whole extracellular regions of nectins</p>\n",
       "</blockquote>\n",
       "<h4>grobid-tei [1 : 0] cermine (0)</h4>\n",
       "<p>There are 0 samples where grobid-tei got it right, but cermine got it wrong.</p>\n",
       "<h4>grobid-tei [0 : 0] cermine (3)</h4>\n",
       "<p>There are 3 samples where both grobid-tei and cermine got it wrong.</p>\n",
       "<blockquote>\n",
       "<p><code>d-67-00463.nxml</code> \"Pi sampling: a methodical and flexible approach to initial macromolecular crystallization screening\"<br/><strong>E</strong>: Pi sampling: a methodical and flexible approach to initial macromolecular crystallization screening<br/><strong>A</strong>: Biological Crystallography Pi sampling: a methodical and flexible approach to initial macromolecular crystallization screening<br/><strong>B</strong>: Pi sampling: a methodical and flexible approach to initial macromolecular crystallization screening research papers</p>\n",
       "<p><code>e-67-o1363.nxml</code> \"3-Allyl-1-{[3-(4-nitro­phen­yl)-4,5-dihydro-1,3-oxazol-5-yl]meth­yl}-1H-anthra[1,2-d]imidazole-2,6,11(3H)-trione\"<br/><strong>E</strong>: 3-Allyl-1-{[3-(4-nitro­phen­yl)-4,5-dihydro-1,3-oxazol-5-yl]meth­yl}-1H-anthra[1,2-d]imidazole-2,6,11(3H)-trione<br/><strong>A</strong>: E67, o1363-o1364 Acta Cryst<br/><strong>B</strong>: 3-Allyl-1-{[3-(4-nitrophenyl)-4,5- dihydro-1,3-oxazol-5-yl]methyl}-1H- anthra[1,2-d]imidazole-2,6,11(3H)- trione</p>\n",
       "<p><code>ORT-1745-3674-81-405.nxml</code> \"Resection arthroplasty for luxation of the manubrio-sternal joint in rheumatoid arthritis—a case report\"<br/><strong>E</strong>: Resection arthroplasty for luxation of the manubrio-sternal joint in rheumatoid arthritis—a case report<br/><strong>A</strong>: Resection arthroplasty for luxation of the manubrio-sternal joint in rheumatoid arthritis-a case report<br/><strong>B</strong>: Resection arthroplasty for luxation of the manubrio-sternal joint in rheumatoid arthritis-a case report</p>\n",
       "</blockquote></details>"
      ],
      "text/plain": [
       "<IPython.core.display.HTML object>"
      ]
     },
     "metadata": {},
     "output_type": "display_data"
    },
    {
     "data": {
      "text/markdown": [
       "<hr/>"
      ],
      "text/plain": [
       "<IPython.core.display.Markdown object>"
      ]
     },
     "metadata": {},
     "output_type": "display_data"
    },
    {
     "data": {
      "text/markdown": [
       "# Field: first_author_full_name"
      ],
      "text/plain": [
       "<IPython.core.display.Markdown object>"
      ]
     },
     "metadata": {},
     "output_type": "display_data"
    },
    {
     "data": {
      "text/markdown": [
       "## Dataset: pmc-sample-1943-cc-by-subset (first_author_full_name levenshtein)"
      ],
      "text/plain": [
       "<IPython.core.display.Markdown object>"
      ]
     },
     "metadata": {},
     "output_type": "display_data"
    },
    {
     "data": {
      "text/html": [
       "<details><summary>Comparison: grobid-tei vs cermine</summary><p><strong>E</strong>: expected, <strong>A</strong>: pmc-sample-1943-cc-by-subset grobid-tei, <strong>B</strong>: pmc-sample-1943-cc-by-subset cermine (first_author_full_name levenshtein)</p>\n",
       "<h4>grobid-tei [0 : 1] cermine (1)</h4>\n",
       "<p>There are 1 samples where grobid-tei got it wrong, but cermine got it right.</p>\n",
       "<blockquote>\n",
       "<p><code>aas0055-0039.nxml</code> \"Phosphate-containing dialysis solution prevents hypophosphatemia during continuous renal replacement therapy\"<br/><strong>E</strong>: M BROMAN<br/><strong>A</strong>: M Broman</p>\n",
       "</blockquote>\n",
       "<h4>grobid-tei [1 : 0] cermine (3)</h4>\n",
       "<p>There are 3 samples where grobid-tei got it right, but cermine got it wrong.</p>\n",
       "<blockquote>\n",
       "<p><code>f-67-00344.nxml</code> \"Refolding, crystallization and preliminary X-ray crystallographic study of the whole extracellular regions of nectins\"<br/><strong>E</strong>: Hirotaka Narita<br/><strong>B</strong>: Laboratory of Supramolecular Crystallography</p>\n",
       "<p><code>soto131-469.nxml</code> \"Visualization and assessment of saccular duct and endolymphatic sinus\"<br/><strong>E</strong>: Hideo Yamane<br/><strong>B</strong>: HIDEO YAMANE</p>\n",
       "<p><code>apa0100-0653.nxml</code> \"Placental programming of blood pressure in Indian children\"<br/><strong>E</strong>: Nicola R Winder<br/><strong>B</strong>: Nicola R Winder (nw@mrc.soton.ac.uk)</p>\n",
       "</blockquote>\n",
       "<h4>grobid-tei [0 : 0] cermine (2)</h4>\n",
       "<p>There are 2 samples where both grobid-tei and cermine got it wrong.</p>\n",
       "<blockquote>\n",
       "<p><code>sobs89-975.nxml</code> \"Camera trocar lifting in office gasless laparoscopic sterilization under local anesthesia\"<br/><strong>E</strong>: Bo S. Bergström<br/><strong>A</strong>: Acta Obstetricia<br/><strong>B</strong>: BO S. BERGSTRÖM</p>\n",
       "<p><code>sonc50-621.nxml</code> \"Management of cutaneous metastases using electrochemotherapy\"<br/><strong>E</strong>: Louise Wichmann Matthiessen<br/><strong>A</strong>: Julie Gehl<br/><strong>B</strong>: LOUISE WICHMANN MATTHIESSEN</p>\n",
       "</blockquote></details>"
      ],
      "text/plain": [
       "<IPython.core.display.HTML object>"
      ]
     },
     "metadata": {},
     "output_type": "display_data"
    },
    {
     "data": {
      "text/markdown": [
       "## Dataset: pmc-sample-1943-cc-by-subset (first_author_full_name exact)"
      ],
      "text/plain": [
       "<IPython.core.display.Markdown object>"
      ]
     },
     "metadata": {},
     "output_type": "display_data"
    },
    {
     "data": {
      "text/html": [
       "<details><summary>Comparison: grobid-tei vs cermine</summary><p><strong>E</strong>: expected, <strong>A</strong>: pmc-sample-1943-cc-by-subset grobid-tei, <strong>B</strong>: pmc-sample-1943-cc-by-subset cermine (first_author_full_name exact)</p>\n",
       "<h4>grobid-tei [0 : 1] cermine (0)</h4>\n",
       "<p>There are 0 samples where grobid-tei got it wrong, but cermine got it right.</p>\n",
       "<h4>grobid-tei [1 : 0] cermine (3)</h4>\n",
       "<p>There are 3 samples where grobid-tei got it right, but cermine got it wrong.</p>\n",
       "<blockquote>\n",
       "<p><code>f-67-00344.nxml</code> \"Refolding, crystallization and preliminary X-ray crystallographic study of the whole extracellular regions of nectins\"<br/><strong>E</strong>: Hirotaka Narita<br/><strong>B</strong>: Laboratory of Supramolecular Crystallography</p>\n",
       "<p><code>soto131-469.nxml</code> \"Visualization and assessment of saccular duct and endolymphatic sinus\"<br/><strong>E</strong>: Hideo Yamane<br/><strong>B</strong>: HIDEO YAMANE</p>\n",
       "<p><code>apa0100-0653.nxml</code> \"Placental programming of blood pressure in Indian children\"<br/><strong>E</strong>: Nicola R Winder<br/><strong>B</strong>: Nicola R Winder (nw@mrc.soton.ac.uk)</p>\n",
       "</blockquote>\n",
       "<h4>grobid-tei [0 : 0] cermine (3)</h4>\n",
       "<p>There are 3 samples where both grobid-tei and cermine got it wrong.</p>\n",
       "<blockquote>\n",
       "<p><code>aas0055-0039.nxml</code> \"Phosphate-containing dialysis solution prevents hypophosphatemia during continuous renal replacement therapy\"<br/><strong>E</strong>: M BROMAN<br/><strong>A</strong>: M Broman<br/><strong>B</strong>: M. BROMAN</p>\n",
       "<p><code>sobs89-975.nxml</code> \"Camera trocar lifting in office gasless laparoscopic sterilization under local anesthesia\"<br/><strong>E</strong>: Bo S. Bergström<br/><strong>A</strong>: Acta Obstetricia<br/><strong>B</strong>: BO S. BERGSTRÖM</p>\n",
       "<p><code>sonc50-621.nxml</code> \"Management of cutaneous metastases using electrochemotherapy\"<br/><strong>E</strong>: Louise Wichmann Matthiessen<br/><strong>A</strong>: Julie Gehl<br/><strong>B</strong>: LOUISE WICHMANN MATTHIESSEN</p>\n",
       "</blockquote></details>"
      ],
      "text/plain": [
       "<IPython.core.display.HTML object>"
      ]
     },
     "metadata": {},
     "output_type": "display_data"
    },
    {
     "data": {
      "text/markdown": [
       "<hr/>"
      ],
      "text/plain": [
       "<IPython.core.display.Markdown object>"
      ]
     },
     "metadata": {},
     "output_type": "display_data"
    },
    {
     "data": {
      "text/markdown": [
       "# Field: author_full_names"
      ],
      "text/plain": [
       "<IPython.core.display.Markdown object>"
      ]
     },
     "metadata": {},
     "output_type": "display_data"
    },
    {
     "data": {
      "text/markdown": [
       "## Dataset: pmc-sample-1943-cc-by-subset (author_full_names levenshtein)"
      ],
      "text/plain": [
       "<IPython.core.display.Markdown object>"
      ]
     },
     "metadata": {},
     "output_type": "display_data"
    },
    {
     "data": {
      "text/html": [
       "<details><summary>Comparison: grobid-tei vs cermine</summary><p><strong>E</strong>: expected, <strong>A</strong>: pmc-sample-1943-cc-by-subset grobid-tei, <strong>B</strong>: pmc-sample-1943-cc-by-subset cermine (author_full_names levenshtein)</p>\n",
       "<h4>grobid-tei [0 : 1] cermine (2)</h4>\n",
       "<p>There are 2 samples where grobid-tei got it wrong, but cermine got it right.</p>\n",
       "<blockquote>\n",
       "<p><code>aas0055-0039.nxml</code> \"Phosphate-containing dialysis solution prevents hypophosphatemia during continuous renal replacement therapy\"<br/><strong>E</strong>: A WIESLANDER, G GODALY, H FRIBERG, M BROMAN, O CARLSSON<br/><strong>A</strong>: A Wieslander, G Godaly, H Friberg, M Broman, O Carlsson</p>\n",
       "<p><code>ORT-1745-3674-81-405.nxml</code> \"Resection arthroplasty for luxation of the manubrio-sternal joint in rheumatoid arthritis—a case report\"<br/><strong>E</strong>: Hedwig A E M van Heereveld, Maarten C de Waal Malefijt, Marloes W J L Schmitz<br/><strong>A</strong>: E M Van Heereveld, Hedwig A, Maarten C De Waal Malefijt, Marloes W J L Schmitz</p>\n",
       "</blockquote>\n",
       "<h4>grobid-tei [1 : 0] cermine (3)</h4>\n",
       "<p>There are 3 samples where grobid-tei got it right, but cermine got it wrong.</p>\n",
       "<blockquote>\n",
       "<p><code>e-67-o1363.nxml</code> \"3-Allyl-1-{[3-(4-nitro­phen­yl)-4,5-dihydro-1,3-oxazol-5-yl]meth­yl}-1H-anthra[1,2-d]imidazole-2,6,11(3H)-trione\"<br/><strong>E</strong>: Amal Haoudi, Christian Rolando, Frédéric Capet, Lahcen El Ammari, Zahra Afrakssou<br/><strong>B</strong>: Amal Haoudi, Christian Rolando, Fre´ de´ ric Capet, Lahcen El Ammari, Zahra Afrakssou</p>\n",
       "<p><code>f-67-00344.nxml</code> \"Refolding, crystallization and preliminary X-ray crystallographic study of the whole extracellular regions of nectins\"<br/><strong>E</strong>: Atsushi Nakagawa, Hirotaka Narita, Mamoru Suzuki, Toshiaki Sakisaka, Yasunori Yamamoto, Yoshimi Takai<br/><strong>B</strong>: Laboratory of Supramolecular Crystallography</p>\n",
       "<p><code>soto131-469.nxml</code> \"Visualization and assessment of saccular duct and endolymphatic sinus\"<br/><strong>E</strong>: Hideo Yamane, Hiramori Sakamoto, Kishiko Sunami, Masahiro Takayama, Matti Anniko, Toshio Imoto<br/><strong>B</strong>: HIDEO YAMANE, HIRAMORI SAKAMOTO, KISHIKO SUNAMI, MASAHIRO TAKAYAMA, MATTI ANNIKO, TOSHIO IMOTO</p>\n",
       "</blockquote>\n",
       "<h4>grobid-tei [0 : 0] cermine (3)</h4>\n",
       "<p>There are 3 samples where both grobid-tei and cermine got it wrong.</p>\n",
       "<blockquote>\n",
       "<p><code>sobs89-975.nxml</code> \"Camera trocar lifting in office gasless laparoscopic sterilization under local anesthesia\"<br/><strong>E</strong>: Bo S. Bergström<br/><strong>A</strong>: Acta Obstetricia, Gynecologica<br/><strong>B</strong>: BO S. BERGSTRÖM</p>\n",
       "<p><code>sonc50-621.nxml</code> \"Management of cutaneous metastases using electrochemotherapy\"<br/><strong>E</strong>: Alison Claire Humphreys, David Christopher George Sainsbury, Gareth Kessell, Jane Elisabeth Bond, Julie Gehl, Louise Wichmann Matthiessen, Richard Ling Chalmers, Sivakumar Veeramani, Tobian Muir<br/><strong>A</strong>: Alison Claire Humphreys, David Christopher, Gareth Kessell, George Sainsbury, Jane Elisabeth Bond, Julie Gehl, Louise Wichmann Matthiessen, Richard Ling Chalmers, Sivakumar Veeramani, Tobian Muir<br/><strong>B</strong>: ALISON CLAIRE HUMPHREYS, DAVID CHRISTOPHER GEORGE SAINSBURY, GARETH KESSELL, JANE ELISABETH BOND, JULIE GEHL, LOUISE WICHMANN MATTHIESSEN, RICHARD LING CHALMERS, SIVAKUMAR VEERAMANI, TOBIAN MUIR</p>\n",
       "<p><code>apa0100-0653.nxml</code> \"Placental programming of blood pressure in Indian children\"<br/><strong>E</strong>: Caroline HD Fall, Chitra LS Karat, David JP Barker, Ghattu V Krishnaveni, Jacqueline C Hill, Nicola R Winder, Sargoor R Veena<br/><strong>A</strong>: Caroline Hd Fall, Chitra Ls Karat, David Jp Barker, Ghattu V Krishnaveni, Jacqueline C Hill, Nicola R Winder, Nicola R Winder Correspondence, Sargoor R Veena<br/><strong>B</strong>: Caroline HD Fall, Chitra LS Karat, David JP Barker, Ghattu V Krishnaveni, Jacqueline C Hill, Nicola R Winder (nw@mrc.soton.ac.uk), Sargoor R Veena</p>\n",
       "</blockquote></details>"
      ],
      "text/plain": [
       "<IPython.core.display.HTML object>"
      ]
     },
     "metadata": {},
     "output_type": "display_data"
    },
    {
     "data": {
      "text/markdown": [
       "## Dataset: pmc-sample-1943-cc-by-subset (author_full_names exact)"
      ],
      "text/plain": [
       "<IPython.core.display.Markdown object>"
      ]
     },
     "metadata": {},
     "output_type": "display_data"
    },
    {
     "data": {
      "text/html": [
       "<details><summary>Comparison: grobid-tei vs cermine</summary><p><strong>E</strong>: expected, <strong>A</strong>: pmc-sample-1943-cc-by-subset grobid-tei, <strong>B</strong>: pmc-sample-1943-cc-by-subset cermine (author_full_names exact)</p>\n",
       "<h4>grobid-tei [0 : 1] cermine (2)</h4>\n",
       "<p>There are 2 samples where grobid-tei got it wrong, but cermine got it right.</p>\n",
       "<blockquote>\n",
       "<p><code>d-67-00463.nxml</code> \"Pi sampling: a methodical and flexible approach to initial macromolecular crystallization screening\"<br/><strong>E</strong>: Colin M. Palmer, Fabrice Gorrec, Guillaume Lebon, Tony Warne<br/><strong>A</strong>: Colin M Palmer, Fabrice Gorrec, Guillaume Lebon, Tony Warne</p>\n",
       "<p><code>ORT-1745-3674-81-405.nxml</code> \"Resection arthroplasty for luxation of the manubrio-sternal joint in rheumatoid arthritis—a case report\"<br/><strong>E</strong>: Hedwig A E M van Heereveld, Maarten C de Waal Malefijt, Marloes W J L Schmitz<br/><strong>A</strong>: E M Van Heereveld, Hedwig A, Maarten C De Waal Malefijt, Marloes W J L Schmitz</p>\n",
       "</blockquote>\n",
       "<h4>grobid-tei [1 : 0] cermine (3)</h4>\n",
       "<p>There are 3 samples where grobid-tei got it right, but cermine got it wrong.</p>\n",
       "<blockquote>\n",
       "<p><code>e-67-o1363.nxml</code> \"3-Allyl-1-{[3-(4-nitro­phen­yl)-4,5-dihydro-1,3-oxazol-5-yl]meth­yl}-1H-anthra[1,2-d]imidazole-2,6,11(3H)-trione\"<br/><strong>E</strong>: Amal Haoudi, Christian Rolando, Frédéric Capet, Lahcen El Ammari, Zahra Afrakssou<br/><strong>B</strong>: Amal Haoudi, Christian Rolando, Fre´ de´ ric Capet, Lahcen El Ammari, Zahra Afrakssou</p>\n",
       "<p><code>f-67-00344.nxml</code> \"Refolding, crystallization and preliminary X-ray crystallographic study of the whole extracellular regions of nectins\"<br/><strong>E</strong>: Atsushi Nakagawa, Hirotaka Narita, Mamoru Suzuki, Toshiaki Sakisaka, Yasunori Yamamoto, Yoshimi Takai<br/><strong>B</strong>: Laboratory of Supramolecular Crystallography</p>\n",
       "<p><code>soto131-469.nxml</code> \"Visualization and assessment of saccular duct and endolymphatic sinus\"<br/><strong>E</strong>: Hideo Yamane, Hiramori Sakamoto, Kishiko Sunami, Masahiro Takayama, Matti Anniko, Toshio Imoto<br/><strong>B</strong>: HIDEO YAMANE, HIRAMORI SAKAMOTO, KISHIKO SUNAMI, MASAHIRO TAKAYAMA, MATTI ANNIKO, TOSHIO IMOTO</p>\n",
       "</blockquote>\n",
       "<h4>grobid-tei [0 : 0] cermine (4)</h4>\n",
       "<p>There are 4 samples where both grobid-tei and cermine got it wrong.</p>\n",
       "<blockquote>\n",
       "<p><code>aas0055-0039.nxml</code> \"Phosphate-containing dialysis solution prevents hypophosphatemia during continuous renal replacement therapy\"<br/><strong>E</strong>: A WIESLANDER, G GODALY, H FRIBERG, M BROMAN, O CARLSSON<br/><strong>A</strong>: A Wieslander, G Godaly, H Friberg, M Broman, O Carlsson<br/><strong>B</strong>: A. WIESLANDER, G. GODALY, H. FRIBERG, M. BROMAN, O. CARLSSON</p>\n",
       "<p><code>sobs89-975.nxml</code> \"Camera trocar lifting in office gasless laparoscopic sterilization under local anesthesia\"<br/><strong>E</strong>: Bo S. Bergström<br/><strong>A</strong>: Acta Obstetricia, Gynecologica<br/><strong>B</strong>: BO S. BERGSTRÖM</p>\n",
       "<p><code>sonc50-621.nxml</code> \"Management of cutaneous metastases using electrochemotherapy\"<br/><strong>E</strong>: Alison Claire Humphreys, David Christopher George Sainsbury, Gareth Kessell, Jane Elisabeth Bond, Julie Gehl, Louise Wichmann Matthiessen, Richard Ling Chalmers, Sivakumar Veeramani, Tobian Muir<br/><strong>A</strong>: Alison Claire Humphreys, David Christopher, Gareth Kessell, George Sainsbury, Jane Elisabeth Bond, Julie Gehl, Louise Wichmann Matthiessen, Richard Ling Chalmers, Sivakumar Veeramani, Tobian Muir<br/><strong>B</strong>: ALISON CLAIRE HUMPHREYS, DAVID CHRISTOPHER GEORGE SAINSBURY, GARETH KESSELL, JANE ELISABETH BOND, JULIE GEHL, LOUISE WICHMANN MATTHIESSEN, RICHARD LING CHALMERS, SIVAKUMAR VEERAMANI, TOBIAN MUIR</p>\n",
       "</blockquote>\n",
       "<p>1 more</p></details>"
      ],
      "text/plain": [
       "<IPython.core.display.HTML object>"
      ]
     },
     "metadata": {},
     "output_type": "display_data"
    },
    {
     "data": {
      "text/markdown": [
       "<hr/>"
      ],
      "text/plain": [
       "<IPython.core.display.Markdown object>"
      ]
     },
     "metadata": {},
     "output_type": "display_data"
    },
    {
     "data": {
      "text/markdown": [
       "# Field: affiliation_strings"
      ],
      "text/plain": [
       "<IPython.core.display.Markdown object>"
      ]
     },
     "metadata": {},
     "output_type": "display_data"
    },
    {
     "data": {
      "text/markdown": [
       "## Dataset: pmc-sample-1943-cc-by-subset (affiliation_strings levenshtein)"
      ],
      "text/plain": [
       "<IPython.core.display.Markdown object>"
      ]
     },
     "metadata": {},
     "output_type": "display_data"
    },
    {
     "data": {
      "text/html": [
       "<details><summary>Comparison: grobid-tei vs cermine</summary><p><strong>E</strong>: expected, <strong>A</strong>: pmc-sample-1943-cc-by-subset grobid-tei, <strong>B</strong>: pmc-sample-1943-cc-by-subset cermine (affiliation_strings levenshtein)</p>\n",
       "<h4>grobid-tei [0 : 1] cermine (2)</h4>\n",
       "<p>There are 2 samples where grobid-tei got it wrong, but cermine got it right.</p>\n",
       "<blockquote>\n",
       "<p><code>sobs89-975.nxml</code> \"Camera trocar lifting in office gasless laparoscopic sterilization under local anesthesia\"<br/><strong>E</strong>: Department of Obstetrics &amp; Gynecology, Nordfjord Hospital, Nordfjordeid, Norway<br/><strong>A</strong>: nan</p>\n",
       "<p><code>apha0202-0379.nxml</code> \"On the function of the mammalian renal papilla and the peristalsis of the surrounding pelvis\"<br/><strong>E</strong>: Department of Physiology, University of Florida, Gainesville, FL, USA, Lexington, MA, USA<br/><strong>A</strong>: Department of Physiology, University of Florida, Gainesville, USA, Loring Rd, Lexington, Lexington, USA, USA</p>\n",
       "</blockquote>\n",
       "<h4>grobid-tei [1 : 0] cermine (1)</h4>\n",
       "<p>There are 1 samples where grobid-tei got it right, but cermine got it wrong.</p>\n",
       "<blockquote>\n",
       "<p><code>ORT-1745-3674-81-405.nxml</code> \"Resection arthroplasty for luxation of the manubrio-sternal joint in rheumatoid arthritis—a case report\"<br/><strong>E</strong>: Department of Orthopaedics, Department of Rheumatology, Radboud University Nijmegen Medical Centre, the Netherlands<br/><strong>B</strong>: Departments of, Orthopaedics, Rheumatology, Radboud University Nijmegen Medical Centre, the Netherlands Submitted 09-09-25. Accepted 09-11-02</p>\n",
       "</blockquote>\n",
       "<h4>grobid-tei [0 : 0] cermine (5)</h4>\n",
       "<p>There are 5 samples where both grobid-tei and cermine got it wrong.</p>\n",
       "<blockquote>\n",
       "<p><code>d-67-00463.nxml</code> \"Pi sampling: a methodical and flexible approach to initial macromolecular crystallization screening\"<br/><strong>E</strong>: MRC Laboratory of Molecular Biology, England<br/><strong>A</strong>: Acta Crystallographica Section D, MRC Laboratory of Molecular Biology, Hills Road, CB2 0QH, Cambridge, England Correspondence<br/><strong>B</strong>: MRC Laboratory of Molecular Biology, Hills Road, Cambridge CB2 0QH, England</p>\n",
       "<p><code>e-67-o1363.nxml</code> \"3-Allyl-1-{[3-(4-nitro­phen­yl)-4,5-dihydro-1,3-oxazol-5-yl]meth­yl}-1H-anthra[1,2-d]imidazole-2,6,11(3H)-trione\"<br/><strong>E</strong>: France, Morocco<br/><strong>A</strong>: Faculté des Sciences et Techniques, Laboratoire de Chimie Organique Appliquée, Université Sidi Mohamed Ben Abdallah, Route d'Immouzzer, BP 2202 Fès, Morocco, Faculté des Sciences, Acta Crystallographica Section E, Laboratoire de Chimie du Solide Appliquée, Université Mohammed V-Agdal, Avenue Ibn Battouta, BP 1014, Rabat, Morocco Correspondence, USR 3290 Miniaturisation pour l'Analyse, la Synthèse et la Protéomique, Université Lille-1, 59655 Villeneuve d'Ascq Cedex, France,, Unité de Catalyse et de Chimie du Solide (UCCS), UMR 8181, Ecole Nationale Supérieure de Chimie de Lille, France<br/><strong>B</strong>: Laboratoire de Chimie Organique Applique ?e, Universite ? Sidi Mohamed Ben Abdallah, Faculte ? des Sciences et Techniques, Route d'Immouzzer, BP 2202 Fe<code>s, Morocco, Laboratoire de Chimie du Solide Applique ?e, Faculte ? des Sciences, Universite ? Mohammed V-Agdal, Avenue Ibn Battouta, BP 1014, Rabat, Morocco, USR 3290 Miniaturisation pour l'Analyse, la Synthe</code>se et la Prote ?omique, 59655 Villeneuve d'Ascq Cedex, Universite ? Lille-1, France, Unite ? de Catalyse et de Chimie du Solide (UCCS), UMR 8181, Ecole Nationale Supe ?rieure de Chimie de Lille, France</p>\n",
       "<p><code>f-67-00344.nxml</code> \"Refolding, crystallization and preliminary X-ray crystallographic study of the whole extracellular regions of nectins\"<br/><strong>E</strong>: Kobe University Graduate School of Medicine, Japan, Osaka University, Japan<br/><strong>A</strong>: Acta Crystallographica Section F, Division of Membrane Dynamics, Department of Physiology and Cell Biology, Kobe University Graduate School of Medicine, 650-0017, Kobe, Japan,, Division of Molecular and Cellular Biology, Department of Biochemistry and Molecular Biology, Kobe University Graduate School of Medicine, 650-0017, Kobe, Japan Correspondence, Institute for Protein Research, Laboratory of Supramolecular Crystallography, Research Center for Structural and Functional Proteomics, Osaka University, 565-0871, Suita, Japan<br/><strong>B</strong>: Division of Membrane Dynamics, Department of Physiology and Cell Biology, Kobe University Graduate School of Medicine, Kobe 650-0017, Japan, Division of Molecular and Cellular Biology, Department of Biochemistry and Molecular Biology, Kobe University Graduate School of Medicine, Kobe 650-0017, Japan, Hirotaka Narita, Research Center for Structural and Functional Proteomics, Institute for Protein Research, Osaka University, Suita 565-0871, Japan, Yasunori Yamamoto</p>\n",
       "</blockquote>\n",
       "<p>2 more</p></details>"
      ],
      "text/plain": [
       "<IPython.core.display.HTML object>"
      ]
     },
     "metadata": {},
     "output_type": "display_data"
    },
    {
     "data": {
      "text/markdown": [
       "## Dataset: pmc-sample-1943-cc-by-subset (affiliation_strings exact)"
      ],
      "text/plain": [
       "<IPython.core.display.Markdown object>"
      ]
     },
     "metadata": {},
     "output_type": "display_data"
    },
    {
     "data": {
      "text/html": [
       "<details><summary>Comparison: grobid-tei vs cermine</summary><p><strong>E</strong>: expected, <strong>A</strong>: pmc-sample-1943-cc-by-subset grobid-tei, <strong>B</strong>: pmc-sample-1943-cc-by-subset cermine (affiliation_strings exact)</p>\n",
       "<h4>grobid-tei [0 : 1] cermine (2)</h4>\n",
       "<p>There are 2 samples where grobid-tei got it wrong, but cermine got it right.</p>\n",
       "<blockquote>\n",
       "<p><code>sobs89-975.nxml</code> \"Camera trocar lifting in office gasless laparoscopic sterilization under local anesthesia\"<br/><strong>E</strong>: Department of Obstetrics &amp; Gynecology, Nordfjord Hospital, Nordfjordeid, Norway<br/><strong>A</strong>: nan</p>\n",
       "<p><code>apha0202-0379.nxml</code> \"On the function of the mammalian renal papilla and the peristalsis of the surrounding pelvis\"<br/><strong>E</strong>: Department of Physiology, University of Florida, Gainesville, FL, USA, Lexington, MA, USA<br/><strong>A</strong>: Department of Physiology, University of Florida, Gainesville, USA, Loring Rd, Lexington, Lexington, USA, USA</p>\n",
       "</blockquote>\n",
       "<h4>grobid-tei [1 : 0] cermine (0)</h4>\n",
       "<p>There are 0 samples where grobid-tei got it right, but cermine got it wrong.</p>\n",
       "<h4>grobid-tei [0 : 0] cermine (6)</h4>\n",
       "<p>There are 6 samples where both grobid-tei and cermine got it wrong.</p>\n",
       "<blockquote>\n",
       "<p><code>d-67-00463.nxml</code> \"Pi sampling: a methodical and flexible approach to initial macromolecular crystallization screening\"<br/><strong>E</strong>: MRC Laboratory of Molecular Biology, England<br/><strong>A</strong>: Acta Crystallographica Section D, MRC Laboratory of Molecular Biology, Hills Road, CB2 0QH, Cambridge, England Correspondence<br/><strong>B</strong>: MRC Laboratory of Molecular Biology, Hills Road, Cambridge CB2 0QH, England</p>\n",
       "<p><code>e-67-o1363.nxml</code> \"3-Allyl-1-{[3-(4-nitro­phen­yl)-4,5-dihydro-1,3-oxazol-5-yl]meth­yl}-1H-anthra[1,2-d]imidazole-2,6,11(3H)-trione\"<br/><strong>E</strong>: France, Morocco<br/><strong>A</strong>: Faculté des Sciences et Techniques, Laboratoire de Chimie Organique Appliquée, Université Sidi Mohamed Ben Abdallah, Route d'Immouzzer, BP 2202 Fès, Morocco, Faculté des Sciences, Acta Crystallographica Section E, Laboratoire de Chimie du Solide Appliquée, Université Mohammed V-Agdal, Avenue Ibn Battouta, BP 1014, Rabat, Morocco Correspondence, USR 3290 Miniaturisation pour l'Analyse, la Synthèse et la Protéomique, Université Lille-1, 59655 Villeneuve d'Ascq Cedex, France,, Unité de Catalyse et de Chimie du Solide (UCCS), UMR 8181, Ecole Nationale Supérieure de Chimie de Lille, France<br/><strong>B</strong>: Laboratoire de Chimie Organique Applique ?e, Universite ? Sidi Mohamed Ben Abdallah, Faculte ? des Sciences et Techniques, Route d'Immouzzer, BP 2202 Fe<code>s, Morocco, Laboratoire de Chimie du Solide Applique ?e, Faculte ? des Sciences, Universite ? Mohammed V-Agdal, Avenue Ibn Battouta, BP 1014, Rabat, Morocco, USR 3290 Miniaturisation pour l'Analyse, la Synthe</code>se et la Prote ?omique, 59655 Villeneuve d'Ascq Cedex, Universite ? Lille-1, France, Unite ? de Catalyse et de Chimie du Solide (UCCS), UMR 8181, Ecole Nationale Supe ?rieure de Chimie de Lille, France</p>\n",
       "<p><code>f-67-00344.nxml</code> \"Refolding, crystallization and preliminary X-ray crystallographic study of the whole extracellular regions of nectins\"<br/><strong>E</strong>: Kobe University Graduate School of Medicine, Japan, Osaka University, Japan<br/><strong>A</strong>: Acta Crystallographica Section F, Division of Membrane Dynamics, Department of Physiology and Cell Biology, Kobe University Graduate School of Medicine, 650-0017, Kobe, Japan,, Division of Molecular and Cellular Biology, Department of Biochemistry and Molecular Biology, Kobe University Graduate School of Medicine, 650-0017, Kobe, Japan Correspondence, Institute for Protein Research, Laboratory of Supramolecular Crystallography, Research Center for Structural and Functional Proteomics, Osaka University, 565-0871, Suita, Japan<br/><strong>B</strong>: Division of Membrane Dynamics, Department of Physiology and Cell Biology, Kobe University Graduate School of Medicine, Kobe 650-0017, Japan, Division of Molecular and Cellular Biology, Department of Biochemistry and Molecular Biology, Kobe University Graduate School of Medicine, Kobe 650-0017, Japan, Hirotaka Narita, Research Center for Structural and Functional Proteomics, Institute for Protein Research, Osaka University, Suita 565-0871, Japan, Yasunori Yamamoto</p>\n",
       "</blockquote>\n",
       "<p>3 more</p></details>"
      ],
      "text/plain": [
       "<IPython.core.display.HTML object>"
      ]
     },
     "metadata": {},
     "output_type": "display_data"
    },
    {
     "data": {
      "text/markdown": [
       "<hr/>"
      ],
      "text/plain": [
       "<IPython.core.display.Markdown object>"
      ]
     },
     "metadata": {},
     "output_type": "display_data"
    },
    {
     "data": {
      "text/markdown": [
       "# Field: affiliation_institution"
      ],
      "text/plain": [
       "<IPython.core.display.Markdown object>"
      ]
     },
     "metadata": {},
     "output_type": "display_data"
    },
    {
     "data": {
      "text/markdown": [
       "## Dataset: pmc-sample-1943-cc-by-subset (affiliation_institution levenshtein)"
      ],
      "text/plain": [
       "<IPython.core.display.Markdown object>"
      ]
     },
     "metadata": {},
     "output_type": "display_data"
    },
    {
     "data": {
      "text/html": [
       "<details><summary>Comparison: grobid-tei vs cermine</summary><p><strong>E</strong>: expected, <strong>A</strong>: pmc-sample-1943-cc-by-subset grobid-tei, <strong>B</strong>: pmc-sample-1943-cc-by-subset cermine (affiliation_institution levenshtein)</p>\n",
       "<h4>grobid-tei [0 : 1] cermine (2)</h4>\n",
       "<p>There are 2 samples where grobid-tei got it wrong, but cermine got it right.</p>\n",
       "<blockquote>\n",
       "<p><code>d-67-00463.nxml</code> \"Pi sampling: a methodical and flexible approach to initial macromolecular crystallization screening\"<br/><strong>E</strong>: MRC Laboratory of Molecular Biology<br/><strong>A</strong>: Acta Crystallographica Section D, MRC Laboratory of Molecular Biology</p>\n",
       "<p><code>apha0202-0379.nxml</code> \"On the function of the mammalian renal papilla and the peristalsis of the surrounding pelvis\"<br/><strong>E</strong>: Department of Physiology, University of Florida, Lexington<br/><strong>A</strong>: , Department of Physiology, University of Florida</p>\n",
       "</blockquote>\n",
       "<h4>grobid-tei [1 : 0] cermine (1)</h4>\n",
       "<p>There are 1 samples where grobid-tei got it right, but cermine got it wrong.</p>\n",
       "<blockquote>\n",
       "<p><code>ORT-1745-3674-81-405.nxml</code> \"Resection arthroplasty for luxation of the manubrio-sternal joint in rheumatoid arthritis—a case report\"<br/><strong>E</strong>: Department of Orthopaedics, Department of Rheumatology, Radboud University Nijmegen Medical Centre<br/><strong>B</strong>: Departments of, Orthopaedics, Rheumatology, Radboud University Nijmegen Medical Centre</p>\n",
       "</blockquote>\n",
       "<h4>grobid-tei [0 : 0] cermine (6)</h4>\n",
       "<p>There are 6 samples where both grobid-tei and cermine got it wrong.</p>\n",
       "<blockquote>\n",
       "<p><code>e-67-o1363.nxml</code> \"3-Allyl-1-{[3-(4-nitro­phen­yl)-4,5-dihydro-1,3-oxazol-5-yl]meth­yl}-1H-anthra[1,2-d]imidazole-2,6,11(3H)-trione\"<br/><strong>E</strong>: nan<br/><strong>A</strong>: Faculté des Sciences et Techniques, Laboratoire de Chimie Organique Appliquée, Université Sidi Mohamed Ben Abdallah, Faculté des Sciences, Acta Crystallographica Section E, Laboratoire de Chimie du Solide Appliquée, Université Mohammed V-Agdal, USR 3290 Miniaturisation pour l'Analyse, la Synthèse et la Protéomique, Université Lille-1, Unité de Catalyse et de Chimie du Solide (UCCS), UMR 8181, Ecole Nationale Supérieure de Chimie de Lille<br/><strong>B</strong>: Laboratoire de Chimie Organique Applique ?e, Universite ? Sidi Mohamed Ben Abdallah, Faculte ? des Sciences et Techniques, Laboratoire de Chimie du Solide Applique ?e, Faculte ? des Sciences, Universite ? Mohammed V-Agdal, USR 3290 Miniaturisation pour l'Analyse, la Synthe`se et la Prote ?omique, 59655 Villeneuve d'Ascq Cedex, Unite ? de Catalyse et de Chimie du Solide (UCCS), UMR 8181, Ecole Nationale Supe ?rieure de Chimie de Lille</p>\n",
       "<p><code>f-67-00344.nxml</code> \"Refolding, crystallization and preliminary X-ray crystallographic study of the whole extracellular regions of nectins\"<br/><strong>E</strong>: Kobe University Graduate School of Medicine, Osaka University<br/><strong>A</strong>: Acta Crystallographica Section F, Division of Membrane Dynamics, Department of Physiology and Cell Biology, Kobe University Graduate School of Medicine, Division of Molecular and Cellular Biology, Department of Biochemistry and Molecular Biology, Kobe University Graduate School of Medicine, Institute for Protein Research, Laboratory of Supramolecular Crystallography, Research Center for Structural and Functional Proteomics, Osaka University<br/><strong>B</strong>: Division of Membrane Dynamics, Department of Physiology and Cell Biology, Kobe University Graduate School of Medicine, Division of Molecular and Cellular Biology, Department of Biochemistry and Molecular Biology, Kobe University Graduate School of Medicine, Hirotaka Narita, Research Center for Structural and Functional Proteomics, Institute for Protein Research, Osaka University, Yasunori Yamamoto</p>\n",
       "<p><code>sobs89-975.nxml</code> \"Camera trocar lifting in office gasless laparoscopic sterilization under local anesthesia\"<br/><strong>E</strong>: nan<br/><strong>A</strong>: nan<br/><strong>B</strong>: Department of Obstetrics &amp; Gynecology, Nordfjord Hospital</p>\n",
       "</blockquote>\n",
       "<p>3 more</p></details>"
      ],
      "text/plain": [
       "<IPython.core.display.HTML object>"
      ]
     },
     "metadata": {},
     "output_type": "display_data"
    },
    {
     "data": {
      "text/markdown": [
       "## Dataset: pmc-sample-1943-cc-by-subset (affiliation_institution exact)"
      ],
      "text/plain": [
       "<IPython.core.display.Markdown object>"
      ]
     },
     "metadata": {},
     "output_type": "display_data"
    },
    {
     "data": {
      "text/html": [
       "<details><summary>Comparison: grobid-tei vs cermine</summary><p><strong>E</strong>: expected, <strong>A</strong>: pmc-sample-1943-cc-by-subset grobid-tei, <strong>B</strong>: pmc-sample-1943-cc-by-subset cermine (affiliation_institution exact)</p>\n",
       "<h4>grobid-tei [0 : 1] cermine (2)</h4>\n",
       "<p>There are 2 samples where grobid-tei got it wrong, but cermine got it right.</p>\n",
       "<blockquote>\n",
       "<p><code>d-67-00463.nxml</code> \"Pi sampling: a methodical and flexible approach to initial macromolecular crystallization screening\"<br/><strong>E</strong>: MRC Laboratory of Molecular Biology<br/><strong>A</strong>: Acta Crystallographica Section D, MRC Laboratory of Molecular Biology</p>\n",
       "<p><code>apha0202-0379.nxml</code> \"On the function of the mammalian renal papilla and the peristalsis of the surrounding pelvis\"<br/><strong>E</strong>: Department of Physiology, University of Florida, Lexington<br/><strong>A</strong>: , Department of Physiology, University of Florida</p>\n",
       "</blockquote>\n",
       "<h4>grobid-tei [1 : 0] cermine (0)</h4>\n",
       "<p>There are 0 samples where grobid-tei got it right, but cermine got it wrong.</p>\n",
       "<h4>grobid-tei [0 : 0] cermine (7)</h4>\n",
       "<p>There are 7 samples where both grobid-tei and cermine got it wrong.</p>\n",
       "<blockquote>\n",
       "<p><code>e-67-o1363.nxml</code> \"3-Allyl-1-{[3-(4-nitro­phen­yl)-4,5-dihydro-1,3-oxazol-5-yl]meth­yl}-1H-anthra[1,2-d]imidazole-2,6,11(3H)-trione\"<br/><strong>E</strong>: nan<br/><strong>A</strong>: Faculté des Sciences et Techniques, Laboratoire de Chimie Organique Appliquée, Université Sidi Mohamed Ben Abdallah, Faculté des Sciences, Acta Crystallographica Section E, Laboratoire de Chimie du Solide Appliquée, Université Mohammed V-Agdal, USR 3290 Miniaturisation pour l'Analyse, la Synthèse et la Protéomique, Université Lille-1, Unité de Catalyse et de Chimie du Solide (UCCS), UMR 8181, Ecole Nationale Supérieure de Chimie de Lille<br/><strong>B</strong>: Laboratoire de Chimie Organique Applique ?e, Universite ? Sidi Mohamed Ben Abdallah, Faculte ? des Sciences et Techniques, Laboratoire de Chimie du Solide Applique ?e, Faculte ? des Sciences, Universite ? Mohammed V-Agdal, USR 3290 Miniaturisation pour l'Analyse, la Synthe`se et la Prote ?omique, 59655 Villeneuve d'Ascq Cedex, Unite ? de Catalyse et de Chimie du Solide (UCCS), UMR 8181, Ecole Nationale Supe ?rieure de Chimie de Lille</p>\n",
       "<p><code>f-67-00344.nxml</code> \"Refolding, crystallization and preliminary X-ray crystallographic study of the whole extracellular regions of nectins\"<br/><strong>E</strong>: Kobe University Graduate School of Medicine, Osaka University<br/><strong>A</strong>: Acta Crystallographica Section F, Division of Membrane Dynamics, Department of Physiology and Cell Biology, Kobe University Graduate School of Medicine, Division of Molecular and Cellular Biology, Department of Biochemistry and Molecular Biology, Kobe University Graduate School of Medicine, Institute for Protein Research, Laboratory of Supramolecular Crystallography, Research Center for Structural and Functional Proteomics, Osaka University<br/><strong>B</strong>: Division of Membrane Dynamics, Department of Physiology and Cell Biology, Kobe University Graduate School of Medicine, Division of Molecular and Cellular Biology, Department of Biochemistry and Molecular Biology, Kobe University Graduate School of Medicine, Hirotaka Narita, Research Center for Structural and Functional Proteomics, Institute for Protein Research, Osaka University, Yasunori Yamamoto</p>\n",
       "<p><code>sobs89-975.nxml</code> \"Camera trocar lifting in office gasless laparoscopic sterilization under local anesthesia\"<br/><strong>E</strong>: nan<br/><strong>A</strong>: nan<br/><strong>B</strong>: Department of Obstetrics &amp; Gynecology, Nordfjord Hospital</p>\n",
       "</blockquote>\n",
       "<p>4 more</p></details>"
      ],
      "text/plain": [
       "<IPython.core.display.HTML object>"
      ]
     },
     "metadata": {},
     "output_type": "display_data"
    },
    {
     "data": {
      "text/markdown": [
       "<hr/>"
      ],
      "text/plain": [
       "<IPython.core.display.Markdown object>"
      ]
     },
     "metadata": {},
     "output_type": "display_data"
    },
    {
     "data": {
      "text/markdown": [
       "# Field: abstract"
      ],
      "text/plain": [
       "<IPython.core.display.Markdown object>"
      ]
     },
     "metadata": {},
     "output_type": "display_data"
    },
    {
     "data": {
      "text/markdown": [
       "## Dataset: pmc-sample-1943-cc-by-subset (abstract levenshtein)"
      ],
      "text/plain": [
       "<IPython.core.display.Markdown object>"
      ]
     },
     "metadata": {},
     "output_type": "display_data"
    },
    {
     "data": {
      "text/html": [
       "<details><summary>Comparison: grobid-tei vs cermine</summary><p><strong>E</strong>: expected, <strong>A</strong>: pmc-sample-1943-cc-by-subset grobid-tei, <strong>B</strong>: pmc-sample-1943-cc-by-subset cermine (abstract levenshtein)</p>\n",
       "<h4>grobid-tei [0 : 1] cermine (1)</h4>\n",
       "<p>There are 1 samples where grobid-tei got it wrong, but cermine got it right.</p>\n",
       "<blockquote>\n",
       "<p><code>sonc50-621.nxml</code> \"Management of cutaneous metastases using electrochemotherapy\"<br/><strong>E</strong>: Background. Cutaneous metastases may cause considerable discomfort as a consequence of ulceration, oozing, bleeding and pain. Electrochemotherapy has proven to be highly effective in the treatment of cutaneous metastases. Electrochemotherapy utilises pulses of electricity to increase the permeability of the cell membrane and thereby augment the effect of chemotherapy. For the drug bleomycin, the effect is enhanced several hundred-fold, enabling once-only treatment. The primary endpoint of this study is to evaluate the efficacy of electrochemotherapy as a palliative treatment. Methods. This phase II study is a collaboration between two centres, one in Denmark and the other in the UK. Patients with cutaneous metastases of any histology were included. Bleomycin was administered intratumourally or intravenously followed by application of electric pulses to the tumour site. Results. Fifty-two patients were included. Complete and partial response rate was 68% and 18%, respectively, for cutaneous metastases &lt;3 cm and 8% and 23%, respectively, for cutaneous metastases &gt;3 cm. Treatment was well-tolerated by patients, including the elderly, and no serious adverse events were observed. Conclusions. ECT is an efficient and safe treatment and clinicians should not hesitate to use it even in the elderly.<br/><strong>A</strong>: Background. Cutaneous metastases may cause considerable discomfort as a consequence of ulceration, oozing, bleeding and pain. Electrochemotherapy has proven to be highly effective in the treatment of cutaneous metastases. Electrochemo-therapy utilises pulses of electricity to increase the permeability of the cell membrane and thereby augment the effect of chemotherapy. For the drug bleomycin, the effect is enhanced several hundred-fold, enabling once-only treatment. The primary endpoint of this study is to evaluate the effi cacy of electrochemotherapy as a palliative treatment. Methods. This phase II study is a collaboration between two centres, one in Denmark and the other in the UK. Patients with cutaneous metastases of any histology were included. Bleomycin was administered intratumourally or intravenously followed by application of electric pulses to the tumour site. Results. Fifty-two patients were included. Complete and partial response rate was 68% and 18%, respectively, for cutaneous metastases 3 cm and 8% and 23%, respectively, for cutaneous metastases 3 cm. Treatment was well-tolerated by patients, including the elderly, and no serious adverse events were observed. Conclusions. ECT is an effi cient and safe treatment and clinicians should not hesitate to use it even in the elderly. A cutaneous metastasis can be defi ned as \" a neoplas-tic lesion arising from another neoplasm with which there is no longer continuity \" [1]. Cutaneous metas-tases account for 0.7% to 9% of all metastases [2]. Breast cancer accounts for 51% of the total cases of cutaneous metastases, while malignant melanoma accounts for 18% [3].</p>\n",
       "</blockquote>\n",
       "<h4>grobid-tei [1 : 0] cermine (0)</h4>\n",
       "<p>There are 0 samples where grobid-tei got it right, but cermine got it wrong.</p>\n",
       "<h4>grobid-tei [0 : 0] cermine (6)</h4>\n",
       "<p>There are 6 samples where both grobid-tei and cermine got it wrong.</p>\n",
       "<blockquote>\n",
       "<p><code>aas0055-0039.nxml</code> \"Phosphate-containing dialysis solution prevents hypophosphatemia during continuous renal replacement therapy\"<br/><strong>E</strong>: Background Hypophosphatemia occurs in up to 80% of the patients during continuous renal replacement therapy (CRRT). Phosphate supplementation is time-consuming and the phosphate level might be dangerously low before normophosphatemia is re-established. This study evaluated the possibility to prevent hypophosphatemia during CRRT treatment by using a new commercially available phosphate-containing dialysis fluid. Methods Forty-two heterogeneous intensive care unit patients, admitted between January 2007 and July 2008, undergoing hemodiafiltration, were treated with a new Gambro dialysis solution with 1.2 mM phosphate (Phoxilium) or with standard medical treatment (Hemosol B0). The patients were divided into three groups: group 1 (n=14) receiving standard medical treatment and intravenous phosphate supplementation as required, group 2 (n=14) receiving the phosphate solution as dialysate solution and Hemosol B0 as replacement solution and group 3 (n=14) receiving the phosphate-containing solution as both dialysate and replacement solutions. Results Standard medical treatment resulted in hypophosphatemia in 11 of 14 of the patients (group 1) compared with five of 14 in the patients receiving phosphate solution as the dialysate solution and Hemosol B0 as the replacement solution (group 2). Patients treated with the phosphate-containing dialysis solution (group 3) experienced stable serum phosphate levels throughout the study. Potassium, ionized calcium, magnesium, pH, pCO2 and bicarbonate remained unchanged throughout the study. Conclusion The new phosphate-containing replacement and dialysis solution reduces the variability of serum phosphate levels during CRRT and eliminates the incidence of hypophosphatemia.<br/><strong>A</strong>: nan<br/><strong>B</strong>: Background: Hypophosphatemia occurs in up to 80% of the patients during continuous renal replacement therapy (CRRT). Phosphate supplementation is time-consuming and the phosphate level might be dangerously low before normophosphatemia is re-established. This study evaluated the possibility to prevent hypophosphatemia during CRRT treatment by using a new commercially available phosphate-containing dialysis fluid. Methods: Forty-two heterogeneous intensive care unit patients, admitted between January 2007 and July 2008, undergoing hemodiafiltration, were treated with a new Gambro dialysis solution with 1.2 mM phosphate (Phoxilium) or with standard medical treatment (Hemosol B0). The patients were divided into three groups: group 1 (n 5 14) receiving standard medical treatment and intravenous phosphate supplementation as required, group 2 (n 5 14) receiving the phosphate solution as dialysate solution and Hemosol B0 as replacement solution and group 3 (n 5 14) receiving the phosphate-containing solution as both dialysate and replacement solutions.</p>\n",
       "<p><code>d-67-00463.nxml</code> \"Pi sampling: a methodical and flexible approach to initial macromolecular crystallization screening\"<br/><strong>E</strong>: Pi sampling, derived from the incomplete factorial approach, is an effort to maximize the diversity of macromolecular crystallization conditions and to facilitate the preparation of 96-condition initial screens.The Pi sampling method is derived from the incomplete factorial approach to macromolecular crystallization screen design. The resulting ‘Pi screens’ have a modular distribution of a given set of up to 36 stock solutions. Maximally diverse conditions can be produced by taking into account the properties of the chemicals used in the formulation and the concentrations of the corresponding solutions. The Pi sampling method has been implemented in a web-based application that generates screen formulations and recipes. It is particularly adapted to screens consisting of 96 different conditions. The flexibility and efficiency of Pi sampling is demonstrated by the crystallization of soluble proteins and of an integral membrane-protein sample.<br/><strong>A</strong>: The Pi sampling method is derived from the incomplete factorial approach to macromolecular crystallization screen design. The resulting 'Pi screens' have a modular distribution of a given set of up to 36 stock solutions. Maximally diverse conditions can be produced by taking into account the properties of the chemicals used in the formulation and the concentrations of the corresponding solutions. The Pi sampling method has been implemented in a web-based application that generates screen formulations and recipes. It is particularly adapted to screens consisting of 96 different conditions. The flexibility and efficiency of Pi sampling is demonstrated by the crystallization of soluble proteins and of an integral membrane-protein sample.<br/><strong>B</strong>: The Pi sampling method is derived from the incomplete factorial approach to macromolecular crystallization screen design. The resulting 'Pi screens' have a modular distribution of a given set of up to 36 stock solutions. Maximally diverse conditions can be produced by taking into account the properties of the chemicals used in the formulation and the concentrations of the corresponding solutions. The Pi sampling method has been implemented in a web-based application that generates screen formulations and recipes. It is particularly adapted to screens consisting of 96 different conditions. The flexibility and efficiency of Pi sampling is demonstrated by the crystallization of soluble proteins and of an integral membrane-protein sample.</p>\n",
       "<p><code>e-67-o1363.nxml</code> \"3-Allyl-1-{[3-(4-nitro­phen­yl)-4,5-dihydro-1,3-oxazol-5-yl]meth­yl}-1H-anthra[1,2-d]imidazole-2,6,11(3H)-trione\"<br/><strong>E</strong>: The mol­ecular structure of the title compound, C28H20N4O6, consists of three fused six-membered rings (A,B,C) and one five-membered ring (D). The latter is linked to an isoxazole ring (E) via a methyl­ene unit. A 4-nitro-phenyl substituent (F) is attached to the isoxazole. The fused five and six-membered rings (C,D) are almost coplanar with an r.m.s. deviation of 0.0345 Å and make a dihedral angle of 9.40 (8)° with ring A. The isoxazole and 4-nitro-phenyl rings (E,F) are also almost coplanar with the imidazole and the fused adjacent ring (C,D), forming a dihedral angle of 11.4 (6)°. The crystal packing displays inter­molecular C—H⋯O hydrogen bonding. An intra­molecular C—H⋯O inter­action also occurs.<br/><strong>A</strong>: Key indicators: single-crystal X-ray study; T = 296 K; mean (C-C) = 0.003 A ˚ ; R factor = 0.040; wR factor = 0.111; data-to-parameter ratio = 14.1. The molecular structure of the title compound, C 28 H 20 N 4 O 6 , consists of three fused six-membered rings (A,B,C) and one five-membered ring (D). The latter is linked to an isoxazole ring (E) via a methylene unit. A 4-nitro-phenyl substituent (F) is attached to the isoxazole. The fused five and six-membered rings (C,D) are almost coplanar with an r.m.s. deviation of 0.0345 A ˚ and make a dihedral angle of 9.40 (8) with ring A. The isoxazole and 4-nitro-phenyl rings (E,F) are also almost coplanar with the imidazole and the fused adjacent ring (C,D), forming a dihedral angle of 11.4 (6). The crystal packing displays intermolecular C-HÁ Á ÁO hydrogen bonding. An intramolecular C-HÁ Á ÁO interaction also occurs.<br/><strong>B</strong>: nan</p>\n",
       "</blockquote>\n",
       "<p>3 more</p></details>"
      ],
      "text/plain": [
       "<IPython.core.display.HTML object>"
      ]
     },
     "metadata": {},
     "output_type": "display_data"
    },
    {
     "data": {
      "text/markdown": [
       "## Dataset: pmc-sample-1943-cc-by-subset (abstract exact)"
      ],
      "text/plain": [
       "<IPython.core.display.Markdown object>"
      ]
     },
     "metadata": {},
     "output_type": "display_data"
    },
    {
     "data": {
      "text/html": [
       "<details><summary>Comparison: grobid-tei vs cermine</summary><p><strong>E</strong>: expected, <strong>A</strong>: pmc-sample-1943-cc-by-subset grobid-tei, <strong>B</strong>: pmc-sample-1943-cc-by-subset cermine (abstract exact)</p>\n",
       "<h4>grobid-tei [0 : 1] cermine (0)</h4>\n",
       "<p>There are 0 samples where grobid-tei got it wrong, but cermine got it right.</p>\n",
       "<h4>grobid-tei [1 : 0] cermine (0)</h4>\n",
       "<p>There are 0 samples where grobid-tei got it right, but cermine got it wrong.</p>\n",
       "<h4>grobid-tei [0 : 0] cermine (8)</h4>\n",
       "<p>There are 8 samples where both grobid-tei and cermine got it wrong.</p>\n",
       "<blockquote>\n",
       "<p><code>aas0055-0039.nxml</code> \"Phosphate-containing dialysis solution prevents hypophosphatemia during continuous renal replacement therapy\"<br/><strong>E</strong>: Background Hypophosphatemia occurs in up to 80% of the patients during continuous renal replacement therapy (CRRT). Phosphate supplementation is time-consuming and the phosphate level might be dangerously low before normophosphatemia is re-established. This study evaluated the possibility to prevent hypophosphatemia during CRRT treatment by using a new commercially available phosphate-containing dialysis fluid. Methods Forty-two heterogeneous intensive care unit patients, admitted between January 2007 and July 2008, undergoing hemodiafiltration, were treated with a new Gambro dialysis solution with 1.2 mM phosphate (Phoxilium) or with standard medical treatment (Hemosol B0). The patients were divided into three groups: group 1 (n=14) receiving standard medical treatment and intravenous phosphate supplementation as required, group 2 (n=14) receiving the phosphate solution as dialysate solution and Hemosol B0 as replacement solution and group 3 (n=14) receiving the phosphate-containing solution as both dialysate and replacement solutions. Results Standard medical treatment resulted in hypophosphatemia in 11 of 14 of the patients (group 1) compared with five of 14 in the patients receiving phosphate solution as the dialysate solution and Hemosol B0 as the replacement solution (group 2). Patients treated with the phosphate-containing dialysis solution (group 3) experienced stable serum phosphate levels throughout the study. Potassium, ionized calcium, magnesium, pH, pCO2 and bicarbonate remained unchanged throughout the study. Conclusion The new phosphate-containing replacement and dialysis solution reduces the variability of serum phosphate levels during CRRT and eliminates the incidence of hypophosphatemia.<br/><strong>A</strong>: nan<br/><strong>B</strong>: Background: Hypophosphatemia occurs in up to 80% of the patients during continuous renal replacement therapy (CRRT). Phosphate supplementation is time-consuming and the phosphate level might be dangerously low before normophosphatemia is re-established. This study evaluated the possibility to prevent hypophosphatemia during CRRT treatment by using a new commercially available phosphate-containing dialysis fluid. Methods: Forty-two heterogeneous intensive care unit patients, admitted between January 2007 and July 2008, undergoing hemodiafiltration, were treated with a new Gambro dialysis solution with 1.2 mM phosphate (Phoxilium) or with standard medical treatment (Hemosol B0). The patients were divided into three groups: group 1 (n 5 14) receiving standard medical treatment and intravenous phosphate supplementation as required, group 2 (n 5 14) receiving the phosphate solution as dialysate solution and Hemosol B0 as replacement solution and group 3 (n 5 14) receiving the phosphate-containing solution as both dialysate and replacement solutions.</p>\n",
       "<p><code>d-67-00463.nxml</code> \"Pi sampling: a methodical and flexible approach to initial macromolecular crystallization screening\"<br/><strong>E</strong>: Pi sampling, derived from the incomplete factorial approach, is an effort to maximize the diversity of macromolecular crystallization conditions and to facilitate the preparation of 96-condition initial screens.The Pi sampling method is derived from the incomplete factorial approach to macromolecular crystallization screen design. The resulting ‘Pi screens’ have a modular distribution of a given set of up to 36 stock solutions. Maximally diverse conditions can be produced by taking into account the properties of the chemicals used in the formulation and the concentrations of the corresponding solutions. The Pi sampling method has been implemented in a web-based application that generates screen formulations and recipes. It is particularly adapted to screens consisting of 96 different conditions. The flexibility and efficiency of Pi sampling is demonstrated by the crystallization of soluble proteins and of an integral membrane-protein sample.<br/><strong>A</strong>: The Pi sampling method is derived from the incomplete factorial approach to macromolecular crystallization screen design. The resulting 'Pi screens' have a modular distribution of a given set of up to 36 stock solutions. Maximally diverse conditions can be produced by taking into account the properties of the chemicals used in the formulation and the concentrations of the corresponding solutions. The Pi sampling method has been implemented in a web-based application that generates screen formulations and recipes. It is particularly adapted to screens consisting of 96 different conditions. The flexibility and efficiency of Pi sampling is demonstrated by the crystallization of soluble proteins and of an integral membrane-protein sample.<br/><strong>B</strong>: The Pi sampling method is derived from the incomplete factorial approach to macromolecular crystallization screen design. The resulting 'Pi screens' have a modular distribution of a given set of up to 36 stock solutions. Maximally diverse conditions can be produced by taking into account the properties of the chemicals used in the formulation and the concentrations of the corresponding solutions. The Pi sampling method has been implemented in a web-based application that generates screen formulations and recipes. It is particularly adapted to screens consisting of 96 different conditions. The flexibility and efficiency of Pi sampling is demonstrated by the crystallization of soluble proteins and of an integral membrane-protein sample.</p>\n",
       "<p><code>e-67-o1363.nxml</code> \"3-Allyl-1-{[3-(4-nitro­phen­yl)-4,5-dihydro-1,3-oxazol-5-yl]meth­yl}-1H-anthra[1,2-d]imidazole-2,6,11(3H)-trione\"<br/><strong>E</strong>: The mol­ecular structure of the title compound, C28H20N4O6, consists of three fused six-membered rings (A,B,C) and one five-membered ring (D). The latter is linked to an isoxazole ring (E) via a methyl­ene unit. A 4-nitro-phenyl substituent (F) is attached to the isoxazole. The fused five and six-membered rings (C,D) are almost coplanar with an r.m.s. deviation of 0.0345 Å and make a dihedral angle of 9.40 (8)° with ring A. The isoxazole and 4-nitro-phenyl rings (E,F) are also almost coplanar with the imidazole and the fused adjacent ring (C,D), forming a dihedral angle of 11.4 (6)°. The crystal packing displays inter­molecular C—H⋯O hydrogen bonding. An intra­molecular C—H⋯O inter­action also occurs.<br/><strong>A</strong>: Key indicators: single-crystal X-ray study; T = 296 K; mean (C-C) = 0.003 A ˚ ; R factor = 0.040; wR factor = 0.111; data-to-parameter ratio = 14.1. The molecular structure of the title compound, C 28 H 20 N 4 O 6 , consists of three fused six-membered rings (A,B,C) and one five-membered ring (D). The latter is linked to an isoxazole ring (E) via a methylene unit. A 4-nitro-phenyl substituent (F) is attached to the isoxazole. The fused five and six-membered rings (C,D) are almost coplanar with an r.m.s. deviation of 0.0345 A ˚ and make a dihedral angle of 9.40 (8) with ring A. The isoxazole and 4-nitro-phenyl rings (E,F) are also almost coplanar with the imidazole and the fused adjacent ring (C,D), forming a dihedral angle of 11.4 (6). The crystal packing displays intermolecular C-HÁ Á ÁO hydrogen bonding. An intramolecular C-HÁ Á ÁO interaction also occurs.<br/><strong>B</strong>: nan</p>\n",
       "</blockquote>\n",
       "<p>5 more</p></details>"
      ],
      "text/plain": [
       "<IPython.core.display.HTML object>"
      ]
     },
     "metadata": {},
     "output_type": "display_data"
    },
    {
     "data": {
      "text/markdown": [
       "<hr/>"
      ],
      "text/plain": [
       "<IPython.core.display.Markdown object>"
      ]
     },
     "metadata": {},
     "output_type": "display_data"
    },
    {
     "data": {
      "text/markdown": [
       "# Field: tables"
      ],
      "text/plain": [
       "<IPython.core.display.Markdown object>"
      ]
     },
     "metadata": {},
     "output_type": "display_data"
    },
    {
     "data": {
      "text/markdown": [
       "## Dataset: pmc-sample-1943-cc-by-subset (tables levenshtein)"
      ],
      "text/plain": [
       "<IPython.core.display.Markdown object>"
      ]
     },
     "metadata": {},
     "output_type": "display_data"
    },
    {
     "data": {
      "text/html": [
       "<details><summary>Comparison: grobid-tei vs cermine</summary><p><strong>E</strong>: expected, <strong>A</strong>: pmc-sample-1943-cc-by-subset grobid-tei, <strong>B</strong>: pmc-sample-1943-cc-by-subset cermine (tables levenshtein)</p>\n",
       "<h4>grobid-tei [0 : 1] cermine (0)</h4>\n",
       "<p>There are 0 samples where grobid-tei got it wrong, but cermine got it right.</p>\n",
       "<h4>grobid-tei [1 : 0] cermine (0)</h4>\n",
       "<p>There are 0 samples where grobid-tei got it right, but cermine got it wrong.</p>\n",
       "<h4>grobid-tei [0 : 0] cermine (10)</h4>\n",
       "<p>There are 10 samples where both grobid-tei and cermine got it wrong.</p>\n",
       "<blockquote>\n",
       "<p><code>aas0055-0039.nxml</code> \"Phosphate-containing dialysis solution prevents hypophosphatemia during continuous renal replacement therapy\"<br/><strong>E</strong>: [[[\"\", \"Hemosol B0 (mmol/l)\", \"Phosphate containingdialysis solution (mmol/l)\"], [\"Bicarbonate\", \"32\", \"30\"], [\"Lactate\", \"3\", \"0\"], [\"Calcium\", \"1.75\", \"1.25\"], [\"Magnesium\", \"0.5\", \"0.6\"], [\"Potassium\", \"0\", \"4\"], [\"Sodium\", \"140\", \"140\"], [\"Phosphate\", \"0\", \"1.2\"], [\"Chloride\", \"109.5\", \"115.9\"]], [[\"Main diagnoses\", \"Group 1\", \"Group 2\", \"Group 3\"], [\"Septic shock\", \"5\", \"8\", \"7\"], [\"Pneumonia\", \"2\", \"1\", \"0\"], [\"Cardiac insufficiency\", \"0\", \"0\", \"3\"], [\"Cardiac arrest\", \"1\", \"0\", \"2\"], [\"Major intoxication\", \"1\", \"0\", \"1\"], [\"Rupture of aortic aneurysm\", \"0\", \"0\", \"2\"], [\"Myocardial infarction\", \"0\", \"0\", \"1\"], [\"Cardiogenic shock\", \"0\", \"0\", \"1\"], [\"Sclerosis cholangitis\", \"0\", \"0\", \"1\"], [\"Unspecified respiratory failure\", \"1\", \"0\", \"0\"], [\"Obstructing malignant intestinal tumour\", \"1\", \"0\", \"0\"], [\"Epilepsy\", \"1\", \"0\", \"0\"], [\"Unspecified muscle disease\", \"0\", \"0\", \"1\"]], [[\"\", \"Group 1\", \"Group 2\", \"Group 3\"], [\"Demographics<em>\"], [\"Age (years)\", \"63 (43\\u201386)\", \"68 (37\\u201388)\", \"67 (53\\u201383)\"], [\"Weight (kg)\", \"80 (53\\u2013116)\", \"86 (56\\u2013124)\", \"79 (41\\u2013130)\"], [\"Male sex, n (%)\", \"7 (50)\", \"7 (50)\", \"5 (36)\"], [\"APACHE II</em>\", \"28.1 (19\\u201344)\", \"26 (13\\u201336)\", \"23.2 (15\\u201329)\"], [\"RIFLE score, points<em>,\\u2020\", \"37\", \"39\", \"39\"], [\"Delivered CRRT</em>\"], [\"CRRT treatment duration (h)\", \"82 (17\\u2013278)\", \"115 (37\\u2013207)\", \"96 (29\\u2013210)\"], [\"CRRT treatment mode\", \"CVVHDF\", \"CVVHDF\", \"CVVHDF\"], [\"Effluent flow (ml/kg/h) calculated on active treatment time<em>,\\u2021\", \"23.7 (13\\u201345)\", \"21.9 (15\\u201330)\", \"18 (10\\u201320)\"], [\"Proportion of ordered dose delivered</em>\", \"85.3%\", \"87.5%\", \"91.8%\"], [\"Anticoagulation<em>\", \"None 3\", \"None 2\", \"None 2\"], [\"\", \"Heparine 9\", \"Heparine 11\", \"Heparine 10\"], [\"\", \"Prostacycline 1\", \"Prostacycline 1\", \"Prostacycline 2\"], [\"Phosphate supplementation\\u00a7 (mmol/CRRT treatment day)\", \"11 (0\\u201335)\", \"3 (0\\u201313)\", \"0 (0)\"]], [[\"Group\", \"Group 1\", \"Group 2\", \"Group 3\"], [\"\", \"Before\", \"During\", \"Before\", \"During\", \"Before\", \"During\"], [\"Phosphate</em>\", \"1.90\", \"0.99\", \"1.54\", \"1.20\", \"1.83\", \"1.43\"], [\"Ionized Ca\\u2020\", \"1.10\", \"1.24\", \"1.13\", \"1.19\", \"1.11\", \"1.15\"], [\"pH\\u2021\", \"7.24\", \"7.40\", \"7.30\", \"7.36\", \"7.32\", \"7.36\"], [\"pCO2\\u2021\", \"5.59\", \"5.27\", \"5.81\", \"5.77\", \"6.51\", \"5.27\"], [\"Bicarbonate\\u00a7\", \"18\", \"24\", \"21\", \"23\", \"21\", \"22\"]], [[\"Day on CRRT\", \"Before\", \"1\", \"2\", \"3\", \"4\", \"5\"], [\"Sodium*\", \"134.0 \\u00b1 5\", \"135.0 \\u00b1 3\", \"135.2 \\u00b1 2\", \"135.0 \\u00b1 2\", \"135.7 \\u00b1 2\", \"135.8 \\u00b1 3\"], [\"Potassium\\u2020\", \"4.06 \\u00b1 0.5\", \"4.10 \\u00b1 0.4\", \"4.14 \\u00b1 0.3\", \"4.23 \\u00b1 0.3\", \"4.39 \\u00b1 0.4\", \"4.49 \\u00b1 0.5\"], [\"Ionised calcium\\u2021\", \"1.11 \\u00b1 0.08\", \"1.10 \\u00b1 0.05\", \"1.15 \\u00b1 0.07\", \"1.17 \\u00b1 0.06\", \"1.16 \\u00b1 0.05\", \"1.17 \\u00b1 0.06\"], [\"Magnesium\\u2020\", \"1.1 \\u00b1 0.4\", \"1.0 \\u00b1 0.2\", \"1.1 \\u00b1 0.2\", \"0.7 \\u00b1 0.2\", \"0.9 \\u00b1 0.1\", \"1.0 \\u00b1 0.3\"]]]<br/><strong>A</strong>: [[], [], [], [], []]<br/><strong>B</strong>: nan</p>\n",
       "<p><code>d-67-00463.nxml</code> \"Pi sampling: a methodical and flexible approach to initial macromolecular crystallization screening\"<br/><strong>E</strong>: nan<br/><strong>A</strong>: [[], [], [], []]<br/><strong>B</strong>: nan</p>\n",
       "<p><code>e-67-o1363.nxml</code> \"3-Allyl-1-{[3-(4-nitro­phen­yl)-4,5-dihydro-1,3-oxazol-5-yl]meth­yl}-1H-anthra[1,2-d]imidazole-2,6,11(3H)-trione\"<br/><strong>E</strong>: nan<br/><strong>A</strong>: [[], []]<br/><strong>B</strong>: nan</p>\n",
       "</blockquote>\n",
       "<p>7 more</p></details>"
      ],
      "text/plain": [
       "<IPython.core.display.HTML object>"
      ]
     },
     "metadata": {},
     "output_type": "display_data"
    },
    {
     "data": {
      "text/markdown": [
       "## Dataset: pmc-sample-1943-cc-by-subset (tables exact)"
      ],
      "text/plain": [
       "<IPython.core.display.Markdown object>"
      ]
     },
     "metadata": {},
     "output_type": "display_data"
    },
    {
     "data": {
      "text/html": [
       "<details><summary>Comparison: grobid-tei vs cermine</summary><p><strong>E</strong>: expected, <strong>A</strong>: pmc-sample-1943-cc-by-subset grobid-tei, <strong>B</strong>: pmc-sample-1943-cc-by-subset cermine (tables exact)</p>\n",
       "<h4>grobid-tei [0 : 1] cermine (0)</h4>\n",
       "<p>There are 0 samples where grobid-tei got it wrong, but cermine got it right.</p>\n",
       "<h4>grobid-tei [1 : 0] cermine (0)</h4>\n",
       "<p>There are 0 samples where grobid-tei got it right, but cermine got it wrong.</p>\n",
       "<h4>grobid-tei [0 : 0] cermine (10)</h4>\n",
       "<p>There are 10 samples where both grobid-tei and cermine got it wrong.</p>\n",
       "<blockquote>\n",
       "<p><code>aas0055-0039.nxml</code> \"Phosphate-containing dialysis solution prevents hypophosphatemia during continuous renal replacement therapy\"<br/><strong>E</strong>: [[[\"\", \"Hemosol B0 (mmol/l)\", \"Phosphate containingdialysis solution (mmol/l)\"], [\"Bicarbonate\", \"32\", \"30\"], [\"Lactate\", \"3\", \"0\"], [\"Calcium\", \"1.75\", \"1.25\"], [\"Magnesium\", \"0.5\", \"0.6\"], [\"Potassium\", \"0\", \"4\"], [\"Sodium\", \"140\", \"140\"], [\"Phosphate\", \"0\", \"1.2\"], [\"Chloride\", \"109.5\", \"115.9\"]], [[\"Main diagnoses\", \"Group 1\", \"Group 2\", \"Group 3\"], [\"Septic shock\", \"5\", \"8\", \"7\"], [\"Pneumonia\", \"2\", \"1\", \"0\"], [\"Cardiac insufficiency\", \"0\", \"0\", \"3\"], [\"Cardiac arrest\", \"1\", \"0\", \"2\"], [\"Major intoxication\", \"1\", \"0\", \"1\"], [\"Rupture of aortic aneurysm\", \"0\", \"0\", \"2\"], [\"Myocardial infarction\", \"0\", \"0\", \"1\"], [\"Cardiogenic shock\", \"0\", \"0\", \"1\"], [\"Sclerosis cholangitis\", \"0\", \"0\", \"1\"], [\"Unspecified respiratory failure\", \"1\", \"0\", \"0\"], [\"Obstructing malignant intestinal tumour\", \"1\", \"0\", \"0\"], [\"Epilepsy\", \"1\", \"0\", \"0\"], [\"Unspecified muscle disease\", \"0\", \"0\", \"1\"]], [[\"\", \"Group 1\", \"Group 2\", \"Group 3\"], [\"Demographics<em>\"], [\"Age (years)\", \"63 (43\\u201386)\", \"68 (37\\u201388)\", \"67 (53\\u201383)\"], [\"Weight (kg)\", \"80 (53\\u2013116)\", \"86 (56\\u2013124)\", \"79 (41\\u2013130)\"], [\"Male sex, n (%)\", \"7 (50)\", \"7 (50)\", \"5 (36)\"], [\"APACHE II</em>\", \"28.1 (19\\u201344)\", \"26 (13\\u201336)\", \"23.2 (15\\u201329)\"], [\"RIFLE score, points<em>,\\u2020\", \"37\", \"39\", \"39\"], [\"Delivered CRRT</em>\"], [\"CRRT treatment duration (h)\", \"82 (17\\u2013278)\", \"115 (37\\u2013207)\", \"96 (29\\u2013210)\"], [\"CRRT treatment mode\", \"CVVHDF\", \"CVVHDF\", \"CVVHDF\"], [\"Effluent flow (ml/kg/h) calculated on active treatment time<em>,\\u2021\", \"23.7 (13\\u201345)\", \"21.9 (15\\u201330)\", \"18 (10\\u201320)\"], [\"Proportion of ordered dose delivered</em>\", \"85.3%\", \"87.5%\", \"91.8%\"], [\"Anticoagulation<em>\", \"None 3\", \"None 2\", \"None 2\"], [\"\", \"Heparine 9\", \"Heparine 11\", \"Heparine 10\"], [\"\", \"Prostacycline 1\", \"Prostacycline 1\", \"Prostacycline 2\"], [\"Phosphate supplementation\\u00a7 (mmol/CRRT treatment day)\", \"11 (0\\u201335)\", \"3 (0\\u201313)\", \"0 (0)\"]], [[\"Group\", \"Group 1\", \"Group 2\", \"Group 3\"], [\"\", \"Before\", \"During\", \"Before\", \"During\", \"Before\", \"During\"], [\"Phosphate</em>\", \"1.90\", \"0.99\", \"1.54\", \"1.20\", \"1.83\", \"1.43\"], [\"Ionized Ca\\u2020\", \"1.10\", \"1.24\", \"1.13\", \"1.19\", \"1.11\", \"1.15\"], [\"pH\\u2021\", \"7.24\", \"7.40\", \"7.30\", \"7.36\", \"7.32\", \"7.36\"], [\"pCO2\\u2021\", \"5.59\", \"5.27\", \"5.81\", \"5.77\", \"6.51\", \"5.27\"], [\"Bicarbonate\\u00a7\", \"18\", \"24\", \"21\", \"23\", \"21\", \"22\"]], [[\"Day on CRRT\", \"Before\", \"1\", \"2\", \"3\", \"4\", \"5\"], [\"Sodium*\", \"134.0 \\u00b1 5\", \"135.0 \\u00b1 3\", \"135.2 \\u00b1 2\", \"135.0 \\u00b1 2\", \"135.7 \\u00b1 2\", \"135.8 \\u00b1 3\"], [\"Potassium\\u2020\", \"4.06 \\u00b1 0.5\", \"4.10 \\u00b1 0.4\", \"4.14 \\u00b1 0.3\", \"4.23 \\u00b1 0.3\", \"4.39 \\u00b1 0.4\", \"4.49 \\u00b1 0.5\"], [\"Ionised calcium\\u2021\", \"1.11 \\u00b1 0.08\", \"1.10 \\u00b1 0.05\", \"1.15 \\u00b1 0.07\", \"1.17 \\u00b1 0.06\", \"1.16 \\u00b1 0.05\", \"1.17 \\u00b1 0.06\"], [\"Magnesium\\u2020\", \"1.1 \\u00b1 0.4\", \"1.0 \\u00b1 0.2\", \"1.1 \\u00b1 0.2\", \"0.7 \\u00b1 0.2\", \"0.9 \\u00b1 0.1\", \"1.0 \\u00b1 0.3\"]]]<br/><strong>A</strong>: [[], [], [], [], []]<br/><strong>B</strong>: nan</p>\n",
       "<p><code>d-67-00463.nxml</code> \"Pi sampling: a methodical and flexible approach to initial macromolecular crystallization screening\"<br/><strong>E</strong>: nan<br/><strong>A</strong>: [[], [], [], []]<br/><strong>B</strong>: nan</p>\n",
       "<p><code>e-67-o1363.nxml</code> \"3-Allyl-1-{[3-(4-nitro­phen­yl)-4,5-dihydro-1,3-oxazol-5-yl]meth­yl}-1H-anthra[1,2-d]imidazole-2,6,11(3H)-trione\"<br/><strong>E</strong>: nan<br/><strong>A</strong>: [[], []]<br/><strong>B</strong>: nan</p>\n",
       "</blockquote>\n",
       "<p>7 more</p></details>"
      ],
      "text/plain": [
       "<IPython.core.display.HTML object>"
      ]
     },
     "metadata": {},
     "output_type": "display_data"
    },
    {
     "data": {
      "text/markdown": [
       "<hr/>"
      ],
      "text/plain": [
       "<IPython.core.display.Markdown object>"
      ]
     },
     "metadata": {},
     "output_type": "display_data"
    },
    {
     "data": {
      "text/markdown": [
       "# Field: table_strings"
      ],
      "text/plain": [
       "<IPython.core.display.Markdown object>"
      ]
     },
     "metadata": {},
     "output_type": "display_data"
    },
    {
     "data": {
      "text/markdown": [
       "## Dataset: pmc-sample-1943-cc-by-subset (table_strings levenshtein)"
      ],
      "text/plain": [
       "<IPython.core.display.Markdown object>"
      ]
     },
     "metadata": {},
     "output_type": "display_data"
    },
    {
     "data": {
      "text/html": [
       "<details><summary>Comparison: grobid-tei vs cermine</summary><p><strong>E</strong>: expected, <strong>A</strong>: pmc-sample-1943-cc-by-subset grobid-tei, <strong>B</strong>: pmc-sample-1943-cc-by-subset cermine (table_strings levenshtein)</p>\n",
       "<h4>grobid-tei [0 : 1] cermine (0)</h4>\n",
       "<p>There are 0 samples where grobid-tei got it wrong, but cermine got it right.</p>\n",
       "<h4>grobid-tei [1 : 0] cermine (1)</h4>\n",
       "<p>There are 1 samples where grobid-tei got it right, but cermine got it wrong.</p>\n",
       "<blockquote>\n",
       "<p><code>sonc50-621.nxml</code> \"Management of cutaneous metastases using electrochemotherapy\"<br/><strong>E</strong>: Local anaesthesia General anaesthesia Location of metastases  Chest 23 32% 56 46%  Lower limbs 31 42% 23 19%  Head and Neck 11 15% 19 15%  Scalp 4 5% 17 14%  Upper limbs 3 4% 3 2%  Abdomen 1 1% 4 3%  Back 0 0 1 1% Size of metastases  Median (range) (mm) 7.5 (1-60) 10 (1-200) Number of metastases per patient  Median (range) 3 4, Patients Total (N = 52) Patients (%) Patients Herlev, N = 30 Patients Middlesbrough N = 22 Median age in years (range) 69.6 (38.9-94.7) 72.1 (53-89.8) 68.3 (38.9-94.7) Age distribution 1  80 + 11 11%  70 + 25 48%  60 + 44 85%  50 + 48 92% Sex  Female 35 67% 24 13  Male 17 33% 6 8 ECOG2 performance status  0 35 67% 58% 84%  1 12 23% 33% 5%  2 5 10% 9% 11% Previous Treatment  Surgery 42 81% 71% 95%  Radiotherapy 20 38% 42% 21%  Chemotherapy 21 40% 42% 37%  No previous treatment 8 15% 21% 0% Number of metastases treated pr. patient 3  Median (range) 3 (1-7) 3 (1-7) 4 (1-7) Diagnosis 4  Malignant Melanoma 21 40% 36% 47%  Breast Cancer 15 29% 33% 21%  Adenocarcinoma (other than breast) 5 10% 15% 0%  Basocellular Carcinoma 5 10% 9% 11%  Squamous Cell Carcinoma 3 6% 6% 5%  Other 3 5% 0% 16% Location of metastasis  Chest 79 40 40 41  Lower limbs 54 28 22 36  Head and Neck 30 15 22 6  Scalp 21 11 12 9  Upper limbs 6 3 4 1  Abdomen 5 3 1 5  Back 1 1 0 1 Size of metastases  Median diameter in mm (range) 12 (1-200) 15 (2-200) 5 (1-140)  ≤3 cm 138  &gt;3 cm 24, TREATMENT DATA All Patients (n = 51) All Patients (%) Herlev Middlesbrough Chemotherapy  Bleomycin I.T 21 41% 41% 42%  Bleomycin I.V. 30 59% 59% 58% Anaesthesia  Local 23 45% 50% 37%  General 28 55% 50% 63% ECT session duration1, hours:minutes  Median (range) (hh-mm) 00:16 (00:05-01:27) 00:29 (00:08-01:27) 00:18 (00:05-00:35) Would agree for another session  yes 46 90% 87% 90%  no 4 8% 13% 5%  no answer 1 2% 0 5% RESPONSE All Metastases (n = 97)2 Metastases (%) Herlev Middlesbrough Response for registered metastases3  CR 58 60% 54% 68%  PR 18 19% 20% 17%  SD 11 11% 18% 2%  PD 7 7% 4% 12%  Not evaluable 3 3% 5% 0% Time from treatment to CR (days)  Median (range) (days 47 (16-110) 41 (16-110) 63 (38-100) Size of metastases S30 mm (n = 84)  CR 57 68%  PR 15 18%  SD 5 6%  PD 5 6%  Not evaluable 2 2% Size of metastases &gt;30 mm (n = 13)  CR 1 8%  PR 3 23%  SD 6 46%  PD 2 15%  Not evaluable 1 8%<br/><strong>B</strong>: nan</p>\n",
       "</blockquote>\n",
       "<h4>grobid-tei [0 : 0] cermine (9)</h4>\n",
       "<p>There are 9 samples where both grobid-tei and cermine got it wrong.</p>\n",
       "<blockquote>\n",
       "<p><code>aas0055-0039.nxml</code> \"Phosphate-containing dialysis solution prevents hypophosphatemia during continuous renal replacement therapy\"<br/><strong>E</strong>: Day on CRRT Before 1 2 3 4 5 Sodium<em> 134.0 ± 5 135.0 ± 3 135.2 ± 2 135.0 ± 2 135.7 ± 2 135.8 ± 3 Potassium† 4.06 ± 0.5 4.10 ± 0.4 4.14 ± 0.3 4.23 ± 0.3 4.39 ± 0.4 4.49 ± 0.5 Ionised calcium‡ 1.11 ± 0.08 1.10 ± 0.05 1.15 ± 0.07 1.17 ± 0.06 1.16 ± 0.05 1.17 ± 0.06 Magnesium† 1.1 ± 0.4 1.0 ± 0.2 1.1 ± 0.2 0.7 ± 0.2 0.9 ± 0.1 1.0 ± 0.3, Group 1 Group 2 Group 3 Demographics</em> Age (years) 63 (43–86) 68 (37–88) 67 (53–83) Weight (kg) 80 (53–116) 86 (56–124) 79 (41–130) Male sex, n (%) 7 (50) 7 (50) 5 (36) APACHE II<em> 28.1 (19–44) 26 (13–36) 23.2 (15–29) RIFLE score, points</em>,† 37 39 39 Delivered CRRT<em> CRRT treatment duration (h) 82 (17–278) 115 (37–207) 96 (29–210) CRRT treatment mode CVVHDF CVVHDF CVVHDF Effluent flow (ml/kg/h) calculated on active treatment time</em>,‡ 23.7 (13–45) 21.9 (15–30) 18 (10–20) Proportion of ordered dose delivered<em> 85.3% 87.5% 91.8% Anticoagulation</em> None 3 None 2 None 2 Heparine 9 Heparine 11 Heparine 10 Prostacycline 1 Prostacycline 1 Prostacycline 2 Phosphate supplementation§ (mmol/CRRT treatment day) 11 (0–35) 3 (0–13) 0 (0), Group Group 1 Group 2 Group 3 Before During Before During Before During Phosphate<em> 1.90 0.99 1.54 1.20 1.83 1.43 Ionized Ca† 1.10 1.24 1.13 1.19 1.11 1.15 pH‡ 7.24 7.40 7.30 7.36 7.32 7.36 pCO2‡ 5.59 5.27 5.81 5.77 6.51 5.27 Bicarbonate§ 18 24 21 23 21 22, Hemosol B0 (mmol/l) Phosphate containingdialysis solution (mmol/l) Bicarbonate 32 30 Lactate 3 0 Calcium 1.75 1.25 Magnesium 0.5 0.6 Potassium 0 4 Sodium 140 140 Phosphate 0 1.2 Chloride 109.5 115.9, Main diagnoses Group 1 Group 2 Group 3 Septic shock 5 8 7 Pneumonia 2 1 0 Cardiac insufficiency 0 0 3 Cardiac arrest 1 0 2 Major intoxication 1 0 1 Rupture of aortic aneurysm 0 0 2 Myocardial infarction 0 0 1 Cardiogenic shock 0 0 1 Sclerosis cholangitis 0 0 1 Unspecified respiratory failure 1 0 0 Obstructing malignant intestinal tumour 1 0 0 Epilepsy 1 0 0 Unspecified muscle disease 0 0 1<br/><strong>A</strong>: Day on CRRT Before 1 2 3 4 5 Sodium</em> 134.0 AE 5 135.0 AE 3 135.2 AE 2 135.0 AE 2 135.7 AE 2 135.8 AE 3 Potassiumw 4.06 AE 0.5 4.10 AE 0.4 4.14 AE 0.3 4.23 AE 0.3 4.39 AE 0.4 4.49 AE 0.5 Ionised calciumz 1.11 AE 0.08 1.10 AE 0.05 1.15 AE 0.07 1.17 AE 0.06 1.16 AE 0.05 1.17 AE 0.06 Magnesiumw 1.1 AE 0.4 1.0 AE 0.2 1.1 AE 0.2 0.7 AE 0.2 0.9 AE 0.1 1.0 AE 0.3 <em>P, Group 1 Group 2 Group 3, Hemosol B0 (mmol/l) Phosphate containing dialysis solution (mmol/l) Bicarbonate 32 30 Lactate 3 0 Calcium 1.75 1.25 Magnesium 0.5 0.6 Potassium 0 4 Sodium 140 140 Phosphate 0 1.2 Chloride 109.5 115.9, Main diagnoses leading to intensive care of the study groups. Main diagnoses Group 1 Group 2 Group 3 Septic shock 5 8 7 Pneumonia 2 1 0 Cardiac insufficiency 0 0 3 Cardiac arrest 1 0 2 Major intoxication 1 0 1 Rupture of aortic aneurysm 0 0 2 Myocardial infarction 0 0 1 Cardiogenic shock 0 0 1 Sclerosis cholangitis 0 0 1 Unspecified respiratory failure 1 0 0 Obstructing malignant intestinal tumour 1 0 0 Epilepsy 1 0 0 Unspecified muscle disease 0 0 1, Serum values (mmol/l, kPa) during CRRT with the phosphate- containing dialysis fluid. Group Group 1 Group 2 Group 3 Before During Before During Before During Phosphate</em> 1.90 0.99 1.54 1.20 1.83 1.43 Ionized Caw 1.10 1.24 1.13 1.19 1.11 1.15 pHz 7.24 7.40 7.30 7.36 7.32 7.36 pCO 2 z 5.59 5.27 5.81 5.77 6.51 5.27 Bicarbonate § 18 24 21 23 21 22<br/><strong>B</strong>: nan</p>\n",
       "<p><code>d-67-00463.nxml</code> \"Pi sampling: a methodical and flexible approach to initial macromolecular crystallization screening\"<br/><strong>E</strong>: nan<br/><strong>A</strong>: Details of the samples used with the Pi minimal screen (Table 1) and number of crystallization hits. TEN, buffer consisting of 20 mM 2-amino-2-(hydroxymethyl)-1,3-propanediol (Tris), 1 mM ethylene- diaminetetraacetic acid (EDTA), 1 mM sodium azide and 200 mM sodium chloride. Protein Concentration (mg ml À1 ) MW (kDa) Source and code Buffer/preparation Hits Lysozyme 10.0 14.4 Sigma L6876 Deionized water 56 Concanavalin A 7.0 26.5 Sigma L7647 TEN pH 8.5 16 Glucose isomerase 33.0 43.0 Hampton HR7-102 See product user guide 11 Xylanase 36.0 21.0 Hampton HR7-106 See product user guide 8 Ferritin 50-150 440.0 Fluka 96701 As supplied by the manufacturer 8 Catalase 12.6 62.5 Sigma C3155 Deionized water 6 Citrate synthase 10.0 49.0 Sigma C3260 TEN pH 8.5 5 Lipase B 25.0 35.0 Hampton HR7-099 Deionized water 4 Ribonuclease A 30.0 13.7 Sigma R5503 Deionized water 1 Thaumatin 30.0 22.0 Sigma T7638 Deionized water 1 Sum 116, Hits per condition' observed and corresponding results expected with the binomial distribution (Pi minimal screen). Hits/condition Observed Expected 0 21 26.5 1 45 36.4 2 20 22.5 3 or more 10 10.6 Sum 96 96, Set 1 Set 2 Set 3 Well ID Name Conc. Unit ID Name Conc. Unit ID Name Conc. Unit A1 1 Acetate pH 4.8 0.05 M A PEG 200 22.5 %(v/v) M A2 2 Acetate pH 5.2 0.05 M B PEG 300 20.0 %(v/v) N A3 3 MES pH 5.6 0.05 M C PEG MME 350 20.0 %(v/v) O A4 4 MES pH 6.0 0.05 M D PEG 400 20.0 %(v/v) P A5 5 ADA pH 6.4 0.05 M E PEG MME 550 20.0 %(v/v) Q A6 6 ADA pH 6.8 0.05 M F PEG 600 20.0 %(v/v) R A7 7 HEPES pH 7.1 0.05 M G PEG 1000 17.5 %(w/v) S A8 8 HEPES pH 7.3 0.05 M H PEG 1500 17.5 %(w/v) T A9 9 Tris pH 7.6 0.05 M I PEG 2000 15.0 %(w/v) U A10 10 Tris pH 8.0 0.05 M J PEG MME 2000 15.0 %(w/v) V A11 11 Bicine pH 8.4 0.05 M K PEG 3000 15.0 %(w/v) W A12 12 Bicine pH 8.8 0.05 M L PEG 4000 15.0 %(w/v) X B1 1 Acetate pH 4.8 0.05 M H PEG 1500 15.0 %(w/v) O PEG 4000 3.6 %(w/v) B2 2 Acetate pH 5.2 0.05 M I PEG 2000 12.9 %(w/v) P PEG 200 6.4 %(v/v) B3 3 MES pH 5.6 0.05 M J PEG MME 2000 12.9 %(w/v) Q PEG 300 5.7 %(v/v) B4 4 MES pH 6.0 0.05 M K PEG 3000 12.9 %(w/v) R PEG MME 350 5.7 %(v/v) B5 5 ADA pH 6.4 0.05 M L PEG 4000 12.9 %(w/v) S PEG 400 5.7 %(v/v) B6 6 ADA pH 6.8 0.05 M A PEG 200 19.3 %(v/v) T PEG MME 550 5.7 %(v/v) B7 7 HEPES pH 7.1 0.05 M B PEG 300 17.1 %(v/v) U PEG 600 5.7 %(v/v) B8 8 HEPES pH 7.3 0.05 M C PEG MME 350 17.1 %(v/v) V PEG 1000 5.0 %(w/v) B9 9 Tris pH 7.6 0.05 M D PEG 400 17.1 %(v/v) W PEG 1500 5.0 %(w/v) B10 10 Tris pH 8.0 0.05 M E PEG MME 550 17.1 %(v/v) X PEG 2000 4.3 %(w/v) B11 11 Bicine pH 8.4 0.05 M F PEG 600 17.1 %(v/v) M PEG MME 2000 4.3 %(w/v) B12 12 Bicine pH 8.8 0.05 M G PEG 1000 15.0 %(w/v) N PEG 3000 4.3 %(w/v) C1 1 Acetate pH 4.8 0.05 M C PEG MME 350 14.3 %(v/v) Q PEG 300 11.4 %(v/v) C2 2 Acetate pH 5.2 0.05 M D PEG 400 14.3 %(v/v) R PEG MME 350 11.4 %(v/v) C3 3 MES pH 5.6 0.05 M E PEG MME 550 14.3 %(v/v) S PEG 400 11.4 %(v/v) C4 4 MES pH 6.0 0.05 M F PEG 600 14.3 %(v/v) T PEG MME 550 11.4 %(v/v) C5 5 ADA pH 6.4 0.05 M G PEG 1000 12.5 %(w/v) U PEG 600 11.4 %(v/v) C6 6 ADA pH 6.8 0.05 M H PEG 1500 12.5 %(w/v) V PEG 1000 10.0 %(w/v) C7 7 HEPES pH 7.1 0.05 M I PEG 2000 10.7 %(w/v) W PEG 1500 10.0 %(w/v) C8 8 HEPES pH 7.3 0.05 M J PEG MME 2000 10.7 %(w/v) X PEG 2000 8.6 %(w/v) C9 9 Tris pH 7.6 0.05 M K PEG 3000 10.7 %(w/v) M PEG MME 2000 8.6 %(w/v) C10 10 Tris pH 8.0 0.05 M L PEG 4000 10.7 %(w/v) N PEG 3000 8.6 %(w/v) C11 11 Bicine pH 8.4 0.05 M A PEG 200 16.1 %(v/v) O PEG 4000 7.1 %(w/v) C12 12 Bicine pH 8.8 0.05 M B PEG 300 14.3 %(v/v) P PEG 200 12.9 %(v/v) D1 1 Acetate pH 4.8 0.05 M J PEG MME 2000 8.6 %(w/v) S PEG 400 17.1 %(w/v) D2 2 Acetate pH 5.2 0.05 M K PEG 3000 8.6 %(w/v) T PEG MME 550 17.1 %(v/v) D3 3 MES pH 5.6 0.05 M L PEG 4000 8.6 %(w/v) U PEG 600 17.1 %(v/v) D4 4 MES pH 6.0 0.05 M A PEG 200 12.9 %(v/v) V PEG 1000 15.0 %(w/v) D5 5 ADA pH 6.4 0.05 M B PEG 300 11.4 %(v/v) W PEG 1500 15.0 %(w/v) D6 6 ADA pH 6.8 0.05 M C PEG MME 350 11.4 %(v/v) X PEG 2000 12.9 %(w/v) D7 7 HEPES pH 7.1 0.05 M D PEG 400 11.4 %(v/v) M PEG MME 2000 12.9 %(w/v) D8 8 HEPES pH 7.3 0.05 M E PEG MME 550 11.4 %(v/v) N PEG 3000 12.9 %(w/v) D9 9 Tris pH 7.6 0.05 M F PEG 600 11.4 %(v/v) O PEG 4000 10.7 %(w/v) D10 10 Tris pH 8.0 0.05 M G PEG 1000 10.0 %(w/v) P PEG 200 19.3 %(v/v) D11 11 Bicine pH 8.4 0.05 M H PEG 1500 10.0 %(w/v) Q PEG 300 17.1 %(v/v) D12 12 Bicine pH 8.8 0.05 M I PEG 2000 8.6 %(w/v) R PEG MME 350 17.1 %(v/v) E1 1 Acetate pH 4.8 0.05 M E PEG MME 550 8.6 %(v/v) U PEG 600 22.9 %(v/v) E2 2 Acetate pH 5.2 0.05 M F PEG 600 8.6 %(v/v) V PEG 1000 20.0 %(w/v) E3 3 MES pH 5.6 0.05 M G PEG 1000 7.5 %(w/v) W PEG 1500 20.0 %(w/v) E4 4 MES pH 6.0 0.05 M H PEG 1500 7.5 %(w/v) X PEG 2000 17.1 %(w/v) E5 5 ADA pH 6.4 0.05 M I PEG 2000 6.4 %(w/v) M PEG MME 2000 17.1 %(w/v) E6 6 ADA pH 6.8 0.05 M J PEG MME 2000 6.4 %(w/v) N PEG 3000 17.1 %(w/v) E7 7 HEPES pH 7.1 0.05 M K PEG 3000 6.4 %(w/v) O PEG 4000 14.3 %(w/v) E8 8 HEPES pH 7.3 0.05 M L PEG 4000 6.4 %(w/v) P PEG 200 25.7 %(v/v) E9 9 Tris pH 7.6 0.05 M A PEG 200 9.6 %(v/v) Q PEG 300 22.9 %(v/v) E10 10 Tris pH 8.0 0.05 M B PEG 300 8.6 %(v/v) R PEG MME 350 22.9 %(v/v) E11 11 Bicine pH 8.4 0.05 M C PEG MME 350 8.6 %(v/v) S PEG 400 22.9 %(v/v) E12 12 Bicine pH 8.8 0.05 M D PEG 400 8.6 %(v/v) T PEG MME 550 22.9 %(v/v) F1 1 Acetate pH 4.8 0.05 M L PEG 4000 4.3 %(w/v) W PEG 1500 25.0 %(w/v) F2 2 Acetate pH 5.2 0.05 M A PEG 200 6.4 %(v/v) X PEG 2000 21.4 %(w/v) F3 3 MES pH 5.6 0.05 M B PEG 300 5.7 %(v/v) M PEG MME 2000 21.4 %(w/v) F4 4 MES pH 6.0 0.05 M C PEG MME 350 5.7 %(v/v) N PEG 3000 21.4 %(w/v) F5 5 ADA pH 6.4 0.05 M D PEG 400 5.7 %(v/v) O PEG 4000 17.9 %(w/v) F6 6 ADA pH 6.8 0.05 M E PEG MME 550 5.7 %(v/v) P PEG 200 32.1 %(v/v) F7 7 HEPES pH 7.1 0.05 M F PEG 600 5.7 %(v/v) Q PEG 300 28.6 %(v/v) F8 8 HEPES pH 7.3 0.05 M G PEG 1000 5.0 %(w/v) R PEG MME 350 28.6 %(v/v) F9 9 Tris pH 7.6 0.05 M H PEG 1500 5.0 %(w/v) S PEG 400 28.6 %(v/v), Set 1 Set 2 Set 3 Well ID Name Conc. Unit ID Name Conc. Unit ID Name Conc. Unit F6 6 Cacodylate pH 6.5 0.15 M E Potassium thiocyanate 0.030 M P PEG 20 000 18.0 %(w/v) F7 7 MOPS pH 7.0 0.15 M F Sodium iodide 0.060 M Q PEG 1000 52.0 %(w/v) F8 8 HEPES pH 7.5 0.15 M G Propanediol 3.000 %(v/v) R Sodium chloride 2.7 M F9 9 Tris pH 8.0 0.15 M H Calcium chloride 0.030 M S PEG 4000 42.0 %(w/v) F10 10 TAPS pH 8.5 0.15 M I Ethylene glycol 3.000 %(v/v) T Lithium sulfate 1.4 M F11 11 AMPD/Tris pH 9.0 0.15 M J Sodium potassium tartrate 0.030 M U PEG MME 5000 35.0 %(w/v) F12 12 CAPSO pH 9.5 0.15 M K MPD 3.000 %(v/v) V Glycerol 62.0 %(w/v) G1 1 Formate pH 4.0 0.15 M G Propanediol 2.000 %(v/v) M Phosphate 1.1 M G2 2 Acetate pH 4.5 0.15 M H N PEG MME 550 45.00 %(v/v) G3 3 Malate pH 5.0 0.15 M I Ethylene glycol 2.000 %(v/v) O Ammonium nitrate 3.7 M G4 4 Citrate pH 5.5 0.15 M J Sodium potassium tartrate 0.020 M P PEG 20 000 19.0 %(w/v) G5 5 MES pH 6.0 0.15 M K MPD 2.000 %(v/v) Q PEG 1000 56.0 %(w/v) G6 6 Cacodylate pH 6.5 0.15 M L 2-Butanol 2.000 %(v/v) R Sodium chloride 3.0 M G7 7 MOPS pH 7.0 0.15 M A Potassium bromide 0.040 M S PEG 4000 45.0 %(w/v) G8 8 HEPES pH 7.5 0.15 M B PEG 300 2.000 %(v/v) T Lithium sulfate 1.5 M G9 9 Tris pH 8.0 0.15 M C Magnesium sulfate 0.040 M U PEG MME 5000 38.0 %(w/v) G10 10 TAPS pH 8.5 0.15 M D Sodium fluoride 0.008 M V Glycerol 67.0 %(w/v) G11 11 AMPD/Tris pH 9.0 0.15 M E Potassium thiocyanate 0.020 M W Ammonium sulfate 2.6 M G12 12 CAPSO pH 9.5 0.15 M F Sodium iodide 0.040 M X PEG 8000 38.0 %(w/v) H1 1 Formate pH 4.0 0.15 M B PEG 300 1.000 %(v/v) O Ammonium nitrate 4.0 M H2 2 Acetate pH 4.5 0.15 M C Magnesium sulfate 0.020 M P PEG 20 000 20.0 %(w/v) H3 3 Malate pH 5.0 0.15 M D Sodium fluoride 0.004 M Q PEG 1000 60.0 %(w/v) H4 4 Citrate pH 5.5 0.15 M E Potassium thiocyanate 0.010 M R Sodium chloride 3.2 M H5 5 MES pH 6.0 0.15 M F Sodium iodide 0.020 M S PEG 4000 48.0 %(w/v) H6 6 Cacodylate pH 6.5 0.15 M G Propanediol 1.000 %(v/v) T Lithium sulfate 1.6 M H7 7 MOPS pH 7.0 0.15 M H Calcium chloride 0.010 M U PEG MME 5000 40.0 %(w/v) H8 8 HEPES pH 7.5 0.15 M I Ethylene glycol 1.000 %(v/v) V Glycerol 72.0 %(w/v) H9 9 Tris pH 8.0 0.15 M J Sodium potassium tartrate 0.010 M W Ammonium sulfate 2.8 M H10 10 TAPS pH 8.5 0.15 M K MPD 1.000 %(v/v) X PEG 8000 40.0 %(w/v) H11 11 AMPD/Tris pH 9.0 0.15 M L 2-Butanol 1.000 %(v/v) M Phosphate 1.2 M H12 12 CAPSO pH 9.5 0.15 M A Potassium bromide 0.020 M N PEG MME 550 48.00 %(v/v)<br/><strong>B</strong>: nan</p>\n",
       "<p><code>e-67-o1363.nxml</code> \"3-Allyl-1-{[3-(4-nitro­phen­yl)-4,5-dihydro-1,3-oxazol-5-yl]meth­yl}-1H-anthra[1,2-d]imidazole-2,6,11(3H)-trione\"<br/><strong>E</strong>: nan<br/><strong>A</strong>: Fractional atomic coordinates and isotropic or equivalent isotropic displacement parameters (Å 2 ) x y z U iso <em>/U eq C1 0.6321 (2) 0.82375 (9) 0.19097 (19) 0.0612 (5) C2 0.85135 (19) 0.84194 (8) 0.35084 (17) 0.0552 (4) C3 0.81023 (17) 0.89317 (8) 0.27367 (15) 0.0502 (4) C4 0.90411 (17) 0.94182 (7) 0.30538 (15) 0.0475 (4) C5 1.04177 (18) 0.93398 (7) 0.40936 (15) 0.0505 (4) C6 1.0776 (2) 0.88249 (8) 0.48157 (16) 0.0593 (5) H6 1.1683 0.8794 0.5498 0.071</em> C7 0.9829 (2) 0.83582 (8) 0.45530 (17) 0.0622 (5) H7 1.0064 0.8018 0.5055 0.075<em> C8 1.1555 (2) 0.97997 (8) 0.44241 (17) 0.0574 (4) C9 1.1231 (2) 1.03401 (8) 0.36364 (17) 0.0556 (4) C10 0.98508 (19) 1.04342 (7) 0.26723 (16) 0.0527 (4) C11 0.86591 (19) 1.00068 (8) 0.24546 (16) 0.0524 (4) C12 1.2303 (2) 1.07627 (9) 0.3858 (2) 0.0712 (5) supplementary materials sup-4 H12 1.3224 1.0703 0.4505 0.085</em> C13 1.2012 (3) 1.12668 (10) 0.3127 (2) 0.0793 (6) H13 1.2730 1.1550 0.3292 0.095<em> C14 1.0663 (3) 1.13554 (9) 0.2151 (2) 0.0754 (6) H14 1.0482 1.1692 0.1641 0.090</em> C15 0.9574 (2) 1.09440 (8) 0.19255 (19) 0.0651 (5) H15 0.8658 1.1008 0.1275 0.078<em> C16 0.59135 (18) 0.91052 (8) 0.05248 (16) 0.0576 (5) H16A 0.5982 0.9527 0.0669 0.069</em> H16B 0.4900 0.8995 0.0226 0.069<em> C17 0.64489 (18) 0.89559 (9) −0.05152 (17) 0.0588 (5) H17 0.6223 0.8546 −0.0797 0.071</em> C18 0.58172 (18) 0.93738 (8) −0.16582 (17) 0.0617 (5) H18A 0.5628 0.9177 −0.2474 0.074<em> H18B 0.4935 0.9560 −0.1695 0.074</em> C19 0.70447 (18) 0.98060 (8) −0.13153 (16) 0.0553 (4) C20 0.69973 (18) 1.03873 (8) −0.18912 (16) 0.0546 (4) C21 0.5711 (2) 1.06028 (9) −0.28290 (18) 0.0640 (5) H21 0.4882 1.0370 −0.3120 0.077<em> C22 0.5655 (2) 1.11605 (9) −0.33315 (19) 0.0701 (5) H22 0.4792 1.1305 −0.3955 0.084</em> C23 0.6886 (2) 1.15008 (8) −0.2904 (2) 0.0662 (5) C24 0.8184 (2) 1.12962 (10) −0.1991 (2) 0.0727 (6) H24 0.9011 1.1530 −0.1718 0.087<em> C25 0.8234 (2) 1.07410 (9) −0.14903 (19) 0.0655 (5) H25 0.9106 1.0599 −0.0875 0.079</em> C26 0.7429 (2) 0.74050 (9) 0.3414 (2) 0.0749 (6) H26A 0.6442 0.7270 0.3176 0.090<em> H26B 0.7923 0.7385 0.4351 0.090</em> C27 0.8169 (2) 0.70030 (9) 0.2829 (2) 0.0776 (6) H27 0.8222 0.6608 0.3062 0.093<em> C28 0.8743 (3) 0.71473 (12) 0.2031 (3) 0.0922 (7) H28A 0.8718 0.7537 0.1768 0.111</em> H28B 0.9182 0.6862 0.1720 0.111* N1 0.67395 (14) 0.88059 (7) 0.17487 (13) 0.0554 (4) N2 0.73969 (16) 0.80148 (7) 0.30080 (15) 0.0633 (4) N3 0.82302 (15) 0.96221 (7) −0.04143 (14) 0.0606 (4) N4 0.6801 (3) 1.20974 (9) −0.3438 (2) 0.0907 (6) O1 0.52115 (15) 0.79872 (6) 0.12021 (14) 0.0768 (4) O2 0.73990 (14) 1.01619 (6) 0.18463 (13) 0.0677 (4) O3 1.27476 (15) 0.97262 (6) 0.53085 (13) 0.0835 (4) O4 0.80057 (12) 0.90603 (6) 0.00001 (12) 0.0663 (4) O5 0.5638 (2) 1.22624 (8) −0.4262 (2) 0.1111 (6) O6 0.7864 (2) 1.24061 (9) −0.3026 (3) 0.1445 (9) Atomic displacement parameters (Å 2 ) U supplementary materials sup-5, Hydrogen-bond geometry (A ˚ , ). D-HÁ Á ÁA D -H HÁ Á ÁA D Á Á ÁA D -HÁ Á ÁA C7-H7Á Á ÁO1 i 0.93 2.60 3.516 (2) 169 C18-H18BÁ Á ÁO2 ii 0.97 2.37 3.333 (2) 170 C26-H26BÁ Á ÁO1 i 0.97 2.55 3.379 (3) 144 C16-H16AÁ Á ÁO2 0.97 2.10 2.902 (2) 141 Symmetry codes: (<br/><strong>B</strong>: nan</p>\n",
       "</blockquote>\n",
       "<p>6 more</p></details>"
      ],
      "text/plain": [
       "<IPython.core.display.HTML object>"
      ]
     },
     "metadata": {},
     "output_type": "display_data"
    },
    {
     "data": {
      "text/markdown": [
       "## Dataset: pmc-sample-1943-cc-by-subset (table_strings exact)"
      ],
      "text/plain": [
       "<IPython.core.display.Markdown object>"
      ]
     },
     "metadata": {},
     "output_type": "display_data"
    },
    {
     "data": {
      "text/html": [
       "<details><summary>Comparison: grobid-tei vs cermine</summary><p><strong>E</strong>: expected, <strong>A</strong>: pmc-sample-1943-cc-by-subset grobid-tei, <strong>B</strong>: pmc-sample-1943-cc-by-subset cermine (table_strings exact)</p>\n",
       "<h4>grobid-tei [0 : 1] cermine (0)</h4>\n",
       "<p>There are 0 samples where grobid-tei got it wrong, but cermine got it right.</p>\n",
       "<h4>grobid-tei [1 : 0] cermine (0)</h4>\n",
       "<p>There are 0 samples where grobid-tei got it right, but cermine got it wrong.</p>\n",
       "<h4>grobid-tei [0 : 0] cermine (10)</h4>\n",
       "<p>There are 10 samples where both grobid-tei and cermine got it wrong.</p>\n",
       "<blockquote>\n",
       "<p><code>aas0055-0039.nxml</code> \"Phosphate-containing dialysis solution prevents hypophosphatemia during continuous renal replacement therapy\"<br/><strong>E</strong>: Day on CRRT Before 1 2 3 4 5 Sodium<em> 134.0 ± 5 135.0 ± 3 135.2 ± 2 135.0 ± 2 135.7 ± 2 135.8 ± 3 Potassium† 4.06 ± 0.5 4.10 ± 0.4 4.14 ± 0.3 4.23 ± 0.3 4.39 ± 0.4 4.49 ± 0.5 Ionised calcium‡ 1.11 ± 0.08 1.10 ± 0.05 1.15 ± 0.07 1.17 ± 0.06 1.16 ± 0.05 1.17 ± 0.06 Magnesium† 1.1 ± 0.4 1.0 ± 0.2 1.1 ± 0.2 0.7 ± 0.2 0.9 ± 0.1 1.0 ± 0.3, Group 1 Group 2 Group 3 Demographics</em> Age (years) 63 (43–86) 68 (37–88) 67 (53–83) Weight (kg) 80 (53–116) 86 (56–124) 79 (41–130) Male sex, n (%) 7 (50) 7 (50) 5 (36) APACHE II<em> 28.1 (19–44) 26 (13–36) 23.2 (15–29) RIFLE score, points</em>,† 37 39 39 Delivered CRRT<em> CRRT treatment duration (h) 82 (17–278) 115 (37–207) 96 (29–210) CRRT treatment mode CVVHDF CVVHDF CVVHDF Effluent flow (ml/kg/h) calculated on active treatment time</em>,‡ 23.7 (13–45) 21.9 (15–30) 18 (10–20) Proportion of ordered dose delivered<em> 85.3% 87.5% 91.8% Anticoagulation</em> None 3 None 2 None 2 Heparine 9 Heparine 11 Heparine 10 Prostacycline 1 Prostacycline 1 Prostacycline 2 Phosphate supplementation§ (mmol/CRRT treatment day) 11 (0–35) 3 (0–13) 0 (0), Group Group 1 Group 2 Group 3 Before During Before During Before During Phosphate<em> 1.90 0.99 1.54 1.20 1.83 1.43 Ionized Ca† 1.10 1.24 1.13 1.19 1.11 1.15 pH‡ 7.24 7.40 7.30 7.36 7.32 7.36 pCO2‡ 5.59 5.27 5.81 5.77 6.51 5.27 Bicarbonate§ 18 24 21 23 21 22, Hemosol B0 (mmol/l) Phosphate containingdialysis solution (mmol/l) Bicarbonate 32 30 Lactate 3 0 Calcium 1.75 1.25 Magnesium 0.5 0.6 Potassium 0 4 Sodium 140 140 Phosphate 0 1.2 Chloride 109.5 115.9, Main diagnoses Group 1 Group 2 Group 3 Septic shock 5 8 7 Pneumonia 2 1 0 Cardiac insufficiency 0 0 3 Cardiac arrest 1 0 2 Major intoxication 1 0 1 Rupture of aortic aneurysm 0 0 2 Myocardial infarction 0 0 1 Cardiogenic shock 0 0 1 Sclerosis cholangitis 0 0 1 Unspecified respiratory failure 1 0 0 Obstructing malignant intestinal tumour 1 0 0 Epilepsy 1 0 0 Unspecified muscle disease 0 0 1<br/><strong>A</strong>: Day on CRRT Before 1 2 3 4 5 Sodium</em> 134.0 AE 5 135.0 AE 3 135.2 AE 2 135.0 AE 2 135.7 AE 2 135.8 AE 3 Potassiumw 4.06 AE 0.5 4.10 AE 0.4 4.14 AE 0.3 4.23 AE 0.3 4.39 AE 0.4 4.49 AE 0.5 Ionised calciumz 1.11 AE 0.08 1.10 AE 0.05 1.15 AE 0.07 1.17 AE 0.06 1.16 AE 0.05 1.17 AE 0.06 Magnesiumw 1.1 AE 0.4 1.0 AE 0.2 1.1 AE 0.2 0.7 AE 0.2 0.9 AE 0.1 1.0 AE 0.3 <em>P, Group 1 Group 2 Group 3, Hemosol B0 (mmol/l) Phosphate containing dialysis solution (mmol/l) Bicarbonate 32 30 Lactate 3 0 Calcium 1.75 1.25 Magnesium 0.5 0.6 Potassium 0 4 Sodium 140 140 Phosphate 0 1.2 Chloride 109.5 115.9, Main diagnoses leading to intensive care of the study groups. Main diagnoses Group 1 Group 2 Group 3 Septic shock 5 8 7 Pneumonia 2 1 0 Cardiac insufficiency 0 0 3 Cardiac arrest 1 0 2 Major intoxication 1 0 1 Rupture of aortic aneurysm 0 0 2 Myocardial infarction 0 0 1 Cardiogenic shock 0 0 1 Sclerosis cholangitis 0 0 1 Unspecified respiratory failure 1 0 0 Obstructing malignant intestinal tumour 1 0 0 Epilepsy 1 0 0 Unspecified muscle disease 0 0 1, Serum values (mmol/l, kPa) during CRRT with the phosphate- containing dialysis fluid. Group Group 1 Group 2 Group 3 Before During Before During Before During Phosphate</em> 1.90 0.99 1.54 1.20 1.83 1.43 Ionized Caw 1.10 1.24 1.13 1.19 1.11 1.15 pHz 7.24 7.40 7.30 7.36 7.32 7.36 pCO 2 z 5.59 5.27 5.81 5.77 6.51 5.27 Bicarbonate § 18 24 21 23 21 22<br/><strong>B</strong>: nan</p>\n",
       "<p><code>d-67-00463.nxml</code> \"Pi sampling: a methodical and flexible approach to initial macromolecular crystallization screening\"<br/><strong>E</strong>: nan<br/><strong>A</strong>: Details of the samples used with the Pi minimal screen (Table 1) and number of crystallization hits. TEN, buffer consisting of 20 mM 2-amino-2-(hydroxymethyl)-1,3-propanediol (Tris), 1 mM ethylene- diaminetetraacetic acid (EDTA), 1 mM sodium azide and 200 mM sodium chloride. Protein Concentration (mg ml À1 ) MW (kDa) Source and code Buffer/preparation Hits Lysozyme 10.0 14.4 Sigma L6876 Deionized water 56 Concanavalin A 7.0 26.5 Sigma L7647 TEN pH 8.5 16 Glucose isomerase 33.0 43.0 Hampton HR7-102 See product user guide 11 Xylanase 36.0 21.0 Hampton HR7-106 See product user guide 8 Ferritin 50-150 440.0 Fluka 96701 As supplied by the manufacturer 8 Catalase 12.6 62.5 Sigma C3155 Deionized water 6 Citrate synthase 10.0 49.0 Sigma C3260 TEN pH 8.5 5 Lipase B 25.0 35.0 Hampton HR7-099 Deionized water 4 Ribonuclease A 30.0 13.7 Sigma R5503 Deionized water 1 Thaumatin 30.0 22.0 Sigma T7638 Deionized water 1 Sum 116, Hits per condition' observed and corresponding results expected with the binomial distribution (Pi minimal screen). Hits/condition Observed Expected 0 21 26.5 1 45 36.4 2 20 22.5 3 or more 10 10.6 Sum 96 96, Set 1 Set 2 Set 3 Well ID Name Conc. Unit ID Name Conc. Unit ID Name Conc. Unit A1 1 Acetate pH 4.8 0.05 M A PEG 200 22.5 %(v/v) M A2 2 Acetate pH 5.2 0.05 M B PEG 300 20.0 %(v/v) N A3 3 MES pH 5.6 0.05 M C PEG MME 350 20.0 %(v/v) O A4 4 MES pH 6.0 0.05 M D PEG 400 20.0 %(v/v) P A5 5 ADA pH 6.4 0.05 M E PEG MME 550 20.0 %(v/v) Q A6 6 ADA pH 6.8 0.05 M F PEG 600 20.0 %(v/v) R A7 7 HEPES pH 7.1 0.05 M G PEG 1000 17.5 %(w/v) S A8 8 HEPES pH 7.3 0.05 M H PEG 1500 17.5 %(w/v) T A9 9 Tris pH 7.6 0.05 M I PEG 2000 15.0 %(w/v) U A10 10 Tris pH 8.0 0.05 M J PEG MME 2000 15.0 %(w/v) V A11 11 Bicine pH 8.4 0.05 M K PEG 3000 15.0 %(w/v) W A12 12 Bicine pH 8.8 0.05 M L PEG 4000 15.0 %(w/v) X B1 1 Acetate pH 4.8 0.05 M H PEG 1500 15.0 %(w/v) O PEG 4000 3.6 %(w/v) B2 2 Acetate pH 5.2 0.05 M I PEG 2000 12.9 %(w/v) P PEG 200 6.4 %(v/v) B3 3 MES pH 5.6 0.05 M J PEG MME 2000 12.9 %(w/v) Q PEG 300 5.7 %(v/v) B4 4 MES pH 6.0 0.05 M K PEG 3000 12.9 %(w/v) R PEG MME 350 5.7 %(v/v) B5 5 ADA pH 6.4 0.05 M L PEG 4000 12.9 %(w/v) S PEG 400 5.7 %(v/v) B6 6 ADA pH 6.8 0.05 M A PEG 200 19.3 %(v/v) T PEG MME 550 5.7 %(v/v) B7 7 HEPES pH 7.1 0.05 M B PEG 300 17.1 %(v/v) U PEG 600 5.7 %(v/v) B8 8 HEPES pH 7.3 0.05 M C PEG MME 350 17.1 %(v/v) V PEG 1000 5.0 %(w/v) B9 9 Tris pH 7.6 0.05 M D PEG 400 17.1 %(v/v) W PEG 1500 5.0 %(w/v) B10 10 Tris pH 8.0 0.05 M E PEG MME 550 17.1 %(v/v) X PEG 2000 4.3 %(w/v) B11 11 Bicine pH 8.4 0.05 M F PEG 600 17.1 %(v/v) M PEG MME 2000 4.3 %(w/v) B12 12 Bicine pH 8.8 0.05 M G PEG 1000 15.0 %(w/v) N PEG 3000 4.3 %(w/v) C1 1 Acetate pH 4.8 0.05 M C PEG MME 350 14.3 %(v/v) Q PEG 300 11.4 %(v/v) C2 2 Acetate pH 5.2 0.05 M D PEG 400 14.3 %(v/v) R PEG MME 350 11.4 %(v/v) C3 3 MES pH 5.6 0.05 M E PEG MME 550 14.3 %(v/v) S PEG 400 11.4 %(v/v) C4 4 MES pH 6.0 0.05 M F PEG 600 14.3 %(v/v) T PEG MME 550 11.4 %(v/v) C5 5 ADA pH 6.4 0.05 M G PEG 1000 12.5 %(w/v) U PEG 600 11.4 %(v/v) C6 6 ADA pH 6.8 0.05 M H PEG 1500 12.5 %(w/v) V PEG 1000 10.0 %(w/v) C7 7 HEPES pH 7.1 0.05 M I PEG 2000 10.7 %(w/v) W PEG 1500 10.0 %(w/v) C8 8 HEPES pH 7.3 0.05 M J PEG MME 2000 10.7 %(w/v) X PEG 2000 8.6 %(w/v) C9 9 Tris pH 7.6 0.05 M K PEG 3000 10.7 %(w/v) M PEG MME 2000 8.6 %(w/v) C10 10 Tris pH 8.0 0.05 M L PEG 4000 10.7 %(w/v) N PEG 3000 8.6 %(w/v) C11 11 Bicine pH 8.4 0.05 M A PEG 200 16.1 %(v/v) O PEG 4000 7.1 %(w/v) C12 12 Bicine pH 8.8 0.05 M B PEG 300 14.3 %(v/v) P PEG 200 12.9 %(v/v) D1 1 Acetate pH 4.8 0.05 M J PEG MME 2000 8.6 %(w/v) S PEG 400 17.1 %(w/v) D2 2 Acetate pH 5.2 0.05 M K PEG 3000 8.6 %(w/v) T PEG MME 550 17.1 %(v/v) D3 3 MES pH 5.6 0.05 M L PEG 4000 8.6 %(w/v) U PEG 600 17.1 %(v/v) D4 4 MES pH 6.0 0.05 M A PEG 200 12.9 %(v/v) V PEG 1000 15.0 %(w/v) D5 5 ADA pH 6.4 0.05 M B PEG 300 11.4 %(v/v) W PEG 1500 15.0 %(w/v) D6 6 ADA pH 6.8 0.05 M C PEG MME 350 11.4 %(v/v) X PEG 2000 12.9 %(w/v) D7 7 HEPES pH 7.1 0.05 M D PEG 400 11.4 %(v/v) M PEG MME 2000 12.9 %(w/v) D8 8 HEPES pH 7.3 0.05 M E PEG MME 550 11.4 %(v/v) N PEG 3000 12.9 %(w/v) D9 9 Tris pH 7.6 0.05 M F PEG 600 11.4 %(v/v) O PEG 4000 10.7 %(w/v) D10 10 Tris pH 8.0 0.05 M G PEG 1000 10.0 %(w/v) P PEG 200 19.3 %(v/v) D11 11 Bicine pH 8.4 0.05 M H PEG 1500 10.0 %(w/v) Q PEG 300 17.1 %(v/v) D12 12 Bicine pH 8.8 0.05 M I PEG 2000 8.6 %(w/v) R PEG MME 350 17.1 %(v/v) E1 1 Acetate pH 4.8 0.05 M E PEG MME 550 8.6 %(v/v) U PEG 600 22.9 %(v/v) E2 2 Acetate pH 5.2 0.05 M F PEG 600 8.6 %(v/v) V PEG 1000 20.0 %(w/v) E3 3 MES pH 5.6 0.05 M G PEG 1000 7.5 %(w/v) W PEG 1500 20.0 %(w/v) E4 4 MES pH 6.0 0.05 M H PEG 1500 7.5 %(w/v) X PEG 2000 17.1 %(w/v) E5 5 ADA pH 6.4 0.05 M I PEG 2000 6.4 %(w/v) M PEG MME 2000 17.1 %(w/v) E6 6 ADA pH 6.8 0.05 M J PEG MME 2000 6.4 %(w/v) N PEG 3000 17.1 %(w/v) E7 7 HEPES pH 7.1 0.05 M K PEG 3000 6.4 %(w/v) O PEG 4000 14.3 %(w/v) E8 8 HEPES pH 7.3 0.05 M L PEG 4000 6.4 %(w/v) P PEG 200 25.7 %(v/v) E9 9 Tris pH 7.6 0.05 M A PEG 200 9.6 %(v/v) Q PEG 300 22.9 %(v/v) E10 10 Tris pH 8.0 0.05 M B PEG 300 8.6 %(v/v) R PEG MME 350 22.9 %(v/v) E11 11 Bicine pH 8.4 0.05 M C PEG MME 350 8.6 %(v/v) S PEG 400 22.9 %(v/v) E12 12 Bicine pH 8.8 0.05 M D PEG 400 8.6 %(v/v) T PEG MME 550 22.9 %(v/v) F1 1 Acetate pH 4.8 0.05 M L PEG 4000 4.3 %(w/v) W PEG 1500 25.0 %(w/v) F2 2 Acetate pH 5.2 0.05 M A PEG 200 6.4 %(v/v) X PEG 2000 21.4 %(w/v) F3 3 MES pH 5.6 0.05 M B PEG 300 5.7 %(v/v) M PEG MME 2000 21.4 %(w/v) F4 4 MES pH 6.0 0.05 M C PEG MME 350 5.7 %(v/v) N PEG 3000 21.4 %(w/v) F5 5 ADA pH 6.4 0.05 M D PEG 400 5.7 %(v/v) O PEG 4000 17.9 %(w/v) F6 6 ADA pH 6.8 0.05 M E PEG MME 550 5.7 %(v/v) P PEG 200 32.1 %(v/v) F7 7 HEPES pH 7.1 0.05 M F PEG 600 5.7 %(v/v) Q PEG 300 28.6 %(v/v) F8 8 HEPES pH 7.3 0.05 M G PEG 1000 5.0 %(w/v) R PEG MME 350 28.6 %(v/v) F9 9 Tris pH 7.6 0.05 M H PEG 1500 5.0 %(w/v) S PEG 400 28.6 %(v/v), Set 1 Set 2 Set 3 Well ID Name Conc. Unit ID Name Conc. Unit ID Name Conc. Unit F6 6 Cacodylate pH 6.5 0.15 M E Potassium thiocyanate 0.030 M P PEG 20 000 18.0 %(w/v) F7 7 MOPS pH 7.0 0.15 M F Sodium iodide 0.060 M Q PEG 1000 52.0 %(w/v) F8 8 HEPES pH 7.5 0.15 M G Propanediol 3.000 %(v/v) R Sodium chloride 2.7 M F9 9 Tris pH 8.0 0.15 M H Calcium chloride 0.030 M S PEG 4000 42.0 %(w/v) F10 10 TAPS pH 8.5 0.15 M I Ethylene glycol 3.000 %(v/v) T Lithium sulfate 1.4 M F11 11 AMPD/Tris pH 9.0 0.15 M J Sodium potassium tartrate 0.030 M U PEG MME 5000 35.0 %(w/v) F12 12 CAPSO pH 9.5 0.15 M K MPD 3.000 %(v/v) V Glycerol 62.0 %(w/v) G1 1 Formate pH 4.0 0.15 M G Propanediol 2.000 %(v/v) M Phosphate 1.1 M G2 2 Acetate pH 4.5 0.15 M H N PEG MME 550 45.00 %(v/v) G3 3 Malate pH 5.0 0.15 M I Ethylene glycol 2.000 %(v/v) O Ammonium nitrate 3.7 M G4 4 Citrate pH 5.5 0.15 M J Sodium potassium tartrate 0.020 M P PEG 20 000 19.0 %(w/v) G5 5 MES pH 6.0 0.15 M K MPD 2.000 %(v/v) Q PEG 1000 56.0 %(w/v) G6 6 Cacodylate pH 6.5 0.15 M L 2-Butanol 2.000 %(v/v) R Sodium chloride 3.0 M G7 7 MOPS pH 7.0 0.15 M A Potassium bromide 0.040 M S PEG 4000 45.0 %(w/v) G8 8 HEPES pH 7.5 0.15 M B PEG 300 2.000 %(v/v) T Lithium sulfate 1.5 M G9 9 Tris pH 8.0 0.15 M C Magnesium sulfate 0.040 M U PEG MME 5000 38.0 %(w/v) G10 10 TAPS pH 8.5 0.15 M D Sodium fluoride 0.008 M V Glycerol 67.0 %(w/v) G11 11 AMPD/Tris pH 9.0 0.15 M E Potassium thiocyanate 0.020 M W Ammonium sulfate 2.6 M G12 12 CAPSO pH 9.5 0.15 M F Sodium iodide 0.040 M X PEG 8000 38.0 %(w/v) H1 1 Formate pH 4.0 0.15 M B PEG 300 1.000 %(v/v) O Ammonium nitrate 4.0 M H2 2 Acetate pH 4.5 0.15 M C Magnesium sulfate 0.020 M P PEG 20 000 20.0 %(w/v) H3 3 Malate pH 5.0 0.15 M D Sodium fluoride 0.004 M Q PEG 1000 60.0 %(w/v) H4 4 Citrate pH 5.5 0.15 M E Potassium thiocyanate 0.010 M R Sodium chloride 3.2 M H5 5 MES pH 6.0 0.15 M F Sodium iodide 0.020 M S PEG 4000 48.0 %(w/v) H6 6 Cacodylate pH 6.5 0.15 M G Propanediol 1.000 %(v/v) T Lithium sulfate 1.6 M H7 7 MOPS pH 7.0 0.15 M H Calcium chloride 0.010 M U PEG MME 5000 40.0 %(w/v) H8 8 HEPES pH 7.5 0.15 M I Ethylene glycol 1.000 %(v/v) V Glycerol 72.0 %(w/v) H9 9 Tris pH 8.0 0.15 M J Sodium potassium tartrate 0.010 M W Ammonium sulfate 2.8 M H10 10 TAPS pH 8.5 0.15 M K MPD 1.000 %(v/v) X PEG 8000 40.0 %(w/v) H11 11 AMPD/Tris pH 9.0 0.15 M L 2-Butanol 1.000 %(v/v) M Phosphate 1.2 M H12 12 CAPSO pH 9.5 0.15 M A Potassium bromide 0.020 M N PEG MME 550 48.00 %(v/v)<br/><strong>B</strong>: nan</p>\n",
       "<p><code>e-67-o1363.nxml</code> \"3-Allyl-1-{[3-(4-nitro­phen­yl)-4,5-dihydro-1,3-oxazol-5-yl]meth­yl}-1H-anthra[1,2-d]imidazole-2,6,11(3H)-trione\"<br/><strong>E</strong>: nan<br/><strong>A</strong>: Fractional atomic coordinates and isotropic or equivalent isotropic displacement parameters (Å 2 ) x y z U iso <em>/U eq C1 0.6321 (2) 0.82375 (9) 0.19097 (19) 0.0612 (5) C2 0.85135 (19) 0.84194 (8) 0.35084 (17) 0.0552 (4) C3 0.81023 (17) 0.89317 (8) 0.27367 (15) 0.0502 (4) C4 0.90411 (17) 0.94182 (7) 0.30538 (15) 0.0475 (4) C5 1.04177 (18) 0.93398 (7) 0.40936 (15) 0.0505 (4) C6 1.0776 (2) 0.88249 (8) 0.48157 (16) 0.0593 (5) H6 1.1683 0.8794 0.5498 0.071</em> C7 0.9829 (2) 0.83582 (8) 0.45530 (17) 0.0622 (5) H7 1.0064 0.8018 0.5055 0.075<em> C8 1.1555 (2) 0.97997 (8) 0.44241 (17) 0.0574 (4) C9 1.1231 (2) 1.03401 (8) 0.36364 (17) 0.0556 (4) C10 0.98508 (19) 1.04342 (7) 0.26723 (16) 0.0527 (4) C11 0.86591 (19) 1.00068 (8) 0.24546 (16) 0.0524 (4) C12 1.2303 (2) 1.07627 (9) 0.3858 (2) 0.0712 (5) supplementary materials sup-4 H12 1.3224 1.0703 0.4505 0.085</em> C13 1.2012 (3) 1.12668 (10) 0.3127 (2) 0.0793 (6) H13 1.2730 1.1550 0.3292 0.095<em> C14 1.0663 (3) 1.13554 (9) 0.2151 (2) 0.0754 (6) H14 1.0482 1.1692 0.1641 0.090</em> C15 0.9574 (2) 1.09440 (8) 0.19255 (19) 0.0651 (5) H15 0.8658 1.1008 0.1275 0.078<em> C16 0.59135 (18) 0.91052 (8) 0.05248 (16) 0.0576 (5) H16A 0.5982 0.9527 0.0669 0.069</em> H16B 0.4900 0.8995 0.0226 0.069<em> C17 0.64489 (18) 0.89559 (9) −0.05152 (17) 0.0588 (5) H17 0.6223 0.8546 −0.0797 0.071</em> C18 0.58172 (18) 0.93738 (8) −0.16582 (17) 0.0617 (5) H18A 0.5628 0.9177 −0.2474 0.074<em> H18B 0.4935 0.9560 −0.1695 0.074</em> C19 0.70447 (18) 0.98060 (8) −0.13153 (16) 0.0553 (4) C20 0.69973 (18) 1.03873 (8) −0.18912 (16) 0.0546 (4) C21 0.5711 (2) 1.06028 (9) −0.28290 (18) 0.0640 (5) H21 0.4882 1.0370 −0.3120 0.077<em> C22 0.5655 (2) 1.11605 (9) −0.33315 (19) 0.0701 (5) H22 0.4792 1.1305 −0.3955 0.084</em> C23 0.6886 (2) 1.15008 (8) −0.2904 (2) 0.0662 (5) C24 0.8184 (2) 1.12962 (10) −0.1991 (2) 0.0727 (6) H24 0.9011 1.1530 −0.1718 0.087<em> C25 0.8234 (2) 1.07410 (9) −0.14903 (19) 0.0655 (5) H25 0.9106 1.0599 −0.0875 0.079</em> C26 0.7429 (2) 0.74050 (9) 0.3414 (2) 0.0749 (6) H26A 0.6442 0.7270 0.3176 0.090<em> H26B 0.7923 0.7385 0.4351 0.090</em> C27 0.8169 (2) 0.70030 (9) 0.2829 (2) 0.0776 (6) H27 0.8222 0.6608 0.3062 0.093<em> C28 0.8743 (3) 0.71473 (12) 0.2031 (3) 0.0922 (7) H28A 0.8718 0.7537 0.1768 0.111</em> H28B 0.9182 0.6862 0.1720 0.111* N1 0.67395 (14) 0.88059 (7) 0.17487 (13) 0.0554 (4) N2 0.73969 (16) 0.80148 (7) 0.30080 (15) 0.0633 (4) N3 0.82302 (15) 0.96221 (7) −0.04143 (14) 0.0606 (4) N4 0.6801 (3) 1.20974 (9) −0.3438 (2) 0.0907 (6) O1 0.52115 (15) 0.79872 (6) 0.12021 (14) 0.0768 (4) O2 0.73990 (14) 1.01619 (6) 0.18463 (13) 0.0677 (4) O3 1.27476 (15) 0.97262 (6) 0.53085 (13) 0.0835 (4) O4 0.80057 (12) 0.90603 (6) 0.00001 (12) 0.0663 (4) O5 0.5638 (2) 1.22624 (8) −0.4262 (2) 0.1111 (6) O6 0.7864 (2) 1.24061 (9) −0.3026 (3) 0.1445 (9) Atomic displacement parameters (Å 2 ) U supplementary materials sup-5, Hydrogen-bond geometry (A ˚ , ). D-HÁ Á ÁA D -H HÁ Á ÁA D Á Á ÁA D -HÁ Á ÁA C7-H7Á Á ÁO1 i 0.93 2.60 3.516 (2) 169 C18-H18BÁ Á ÁO2 ii 0.97 2.37 3.333 (2) 170 C26-H26BÁ Á ÁO1 i 0.97 2.55 3.379 (3) 144 C16-H16AÁ Á ÁO2 0.97 2.10 2.902 (2) 141 Symmetry codes: (<br/><strong>B</strong>: nan</p>\n",
       "</blockquote>\n",
       "<p>7 more</p></details>"
      ],
      "text/plain": [
       "<IPython.core.display.HTML object>"
      ]
     },
     "metadata": {},
     "output_type": "display_data"
    },
    {
     "data": {
      "text/markdown": [
       "<hr/>"
      ],
      "text/plain": [
       "<IPython.core.display.Markdown object>"
      ]
     },
     "metadata": {},
     "output_type": "display_data"
    },
    {
     "data": {
      "text/markdown": [
       "# Field: table_labels"
      ],
      "text/plain": [
       "<IPython.core.display.Markdown object>"
      ]
     },
     "metadata": {},
     "output_type": "display_data"
    },
    {
     "data": {
      "text/markdown": [
       "## Dataset: pmc-sample-1943-cc-by-subset (table_labels levenshtein)"
      ],
      "text/plain": [
       "<IPython.core.display.Markdown object>"
      ]
     },
     "metadata": {},
     "output_type": "display_data"
    },
    {
     "data": {
      "text/html": [
       "<details><summary>Comparison: grobid-tei vs cermine</summary><p><strong>E</strong>: expected, <strong>A</strong>: pmc-sample-1943-cc-by-subset grobid-tei, <strong>B</strong>: pmc-sample-1943-cc-by-subset cermine (table_labels levenshtein)</p>\n",
       "<h4>grobid-tei [0 : 1] cermine (0)</h4>\n",
       "<p>There are 0 samples where grobid-tei got it wrong, but cermine got it right.</p>\n",
       "<h4>grobid-tei [1 : 0] cermine (0)</h4>\n",
       "<p>There are 0 samples where grobid-tei got it right, but cermine got it wrong.</p>\n",
       "<h4>grobid-tei [0 : 0] cermine (10)</h4>\n",
       "<p>There are 10 samples where both grobid-tei and cermine got it wrong.</p>\n",
       "<blockquote>\n",
       "<p><code>aas0055-0039.nxml</code> \"Phosphate-containing dialysis solution prevents hypophosphatemia during continuous renal replacement therapy\"<br/><strong>E</strong>: Table 1, Table 2, Table 3, Table 4, Table 5<br/><strong>A</strong>: Table 1 Fluid composition., Table 2, Table 3 Baseline characteristics of study patients and delivered CRRT., Table 4 Serum solute concentrations (mmol/l) during CRRT with the phosphate containing dialysis fluid for patients in group 3., Table 5<br/><strong>B</strong>: nan</p>\n",
       "<p><code>d-67-00463.nxml</code> \"Pi sampling: a methodical and flexible approach to initial macromolecular crystallization screening\"<br/><strong>E</strong>: nan<br/><strong>A</strong>: Table 2, Table 3 ', Table 3 (continued), Table 4 Final formulation of the Pi-PEG screen.<br/><strong>B</strong>: nan</p>\n",
       "<p><code>e-67-o1363.nxml</code> \"3-Allyl-1-{[3-(4-nitro­phen­yl)-4,5-dihydro-1,3-oxazol-5-yl]meth­yl}-1H-anthra[1,2-d]imidazole-2,6,11(3H)-trione\"<br/><strong>E</strong>: nan<br/><strong>A</strong>: Refinement . Refinement of F 2 against ALL reflections. The weighted R-factor wR and goodness of fit S are based on F 2 , conventional R-factors R are based on F, with F set to zero for negative F 2 . The threshold expression of F 2 &gt; 2σ(F 2 ) is used only for calculating R- factors(gt) etc. and is not relevant to the choice of reflections for refinement. R-factors based on F 2 are statistically about twice as large as those based on F, and R-factors based on ALL data will be even larger.11 U 22 U 33 U 12 U 13 U 23, Table 1<br/><strong>B</strong>: nan</p>\n",
       "</blockquote>\n",
       "<p>7 more</p></details>"
      ],
      "text/plain": [
       "<IPython.core.display.HTML object>"
      ]
     },
     "metadata": {},
     "output_type": "display_data"
    },
    {
     "data": {
      "text/markdown": [
       "## Dataset: pmc-sample-1943-cc-by-subset (table_labels exact)"
      ],
      "text/plain": [
       "<IPython.core.display.Markdown object>"
      ]
     },
     "metadata": {},
     "output_type": "display_data"
    },
    {
     "data": {
      "text/html": [
       "<details><summary>Comparison: grobid-tei vs cermine</summary><p><strong>E</strong>: expected, <strong>A</strong>: pmc-sample-1943-cc-by-subset grobid-tei, <strong>B</strong>: pmc-sample-1943-cc-by-subset cermine (table_labels exact)</p>\n",
       "<h4>grobid-tei [0 : 1] cermine (0)</h4>\n",
       "<p>There are 0 samples where grobid-tei got it wrong, but cermine got it right.</p>\n",
       "<h4>grobid-tei [1 : 0] cermine (0)</h4>\n",
       "<p>There are 0 samples where grobid-tei got it right, but cermine got it wrong.</p>\n",
       "<h4>grobid-tei [0 : 0] cermine (10)</h4>\n",
       "<p>There are 10 samples where both grobid-tei and cermine got it wrong.</p>\n",
       "<blockquote>\n",
       "<p><code>aas0055-0039.nxml</code> \"Phosphate-containing dialysis solution prevents hypophosphatemia during continuous renal replacement therapy\"<br/><strong>E</strong>: Table 1, Table 2, Table 3, Table 4, Table 5<br/><strong>A</strong>: Table 1 Fluid composition., Table 2, Table 3 Baseline characteristics of study patients and delivered CRRT., Table 4 Serum solute concentrations (mmol/l) during CRRT with the phosphate containing dialysis fluid for patients in group 3., Table 5<br/><strong>B</strong>: nan</p>\n",
       "<p><code>d-67-00463.nxml</code> \"Pi sampling: a methodical and flexible approach to initial macromolecular crystallization screening\"<br/><strong>E</strong>: nan<br/><strong>A</strong>: Table 2, Table 3 ', Table 3 (continued), Table 4 Final formulation of the Pi-PEG screen.<br/><strong>B</strong>: nan</p>\n",
       "<p><code>e-67-o1363.nxml</code> \"3-Allyl-1-{[3-(4-nitro­phen­yl)-4,5-dihydro-1,3-oxazol-5-yl]meth­yl}-1H-anthra[1,2-d]imidazole-2,6,11(3H)-trione\"<br/><strong>E</strong>: nan<br/><strong>A</strong>: Refinement . Refinement of F 2 against ALL reflections. The weighted R-factor wR and goodness of fit S are based on F 2 , conventional R-factors R are based on F, with F set to zero for negative F 2 . The threshold expression of F 2 &gt; 2σ(F 2 ) is used only for calculating R- factors(gt) etc. and is not relevant to the choice of reflections for refinement. R-factors based on F 2 are statistically about twice as large as those based on F, and R-factors based on ALL data will be even larger.11 U 22 U 33 U 12 U 13 U 23, Table 1<br/><strong>B</strong>: nan</p>\n",
       "</blockquote>\n",
       "<p>7 more</p></details>"
      ],
      "text/plain": [
       "<IPython.core.display.HTML object>"
      ]
     },
     "metadata": {},
     "output_type": "display_data"
    },
    {
     "data": {
      "text/markdown": [
       "<hr/>"
      ],
      "text/plain": [
       "<IPython.core.display.Markdown object>"
      ]
     },
     "metadata": {},
     "output_type": "display_data"
    },
    {
     "data": {
      "text/markdown": [
       "# Field: table_captions"
      ],
      "text/plain": [
       "<IPython.core.display.Markdown object>"
      ]
     },
     "metadata": {},
     "output_type": "display_data"
    },
    {
     "data": {
      "text/markdown": [
       "## Dataset: pmc-sample-1943-cc-by-subset (table_captions levenshtein)"
      ],
      "text/plain": [
       "<IPython.core.display.Markdown object>"
      ]
     },
     "metadata": {},
     "output_type": "display_data"
    },
    {
     "data": {
      "text/html": [
       "<details><summary>Comparison: grobid-tei vs cermine</summary><p><strong>E</strong>: expected, <strong>A</strong>: pmc-sample-1943-cc-by-subset grobid-tei, <strong>B</strong>: pmc-sample-1943-cc-by-subset cermine (table_captions levenshtein)</p>\n",
       "<h4>grobid-tei [0 : 1] cermine (0)</h4>\n",
       "<p>There are 0 samples where grobid-tei got it wrong, but cermine got it right.</p>\n",
       "<h4>grobid-tei [1 : 0] cermine (0)</h4>\n",
       "<p>There are 0 samples where grobid-tei got it right, but cermine got it wrong.</p>\n",
       "<h4>grobid-tei [0 : 0] cermine (10)</h4>\n",
       "<p>There are 10 samples where both grobid-tei and cermine got it wrong.</p>\n",
       "<blockquote>\n",
       "<p><code>aas0055-0039.nxml</code> \"Phosphate-containing dialysis solution prevents hypophosphatemia during continuous renal replacement therapy\"<br/><strong>E</strong>: Baseline characteristics of study patients and delivered CRRT., Fluid composition., Main diagnoses leading to intensive care of the study groups., Serum solute concentrations (mmol/l) during CRRT with the phosphate containing dialysis fluid for patients in group 3., Serum values (mmol/l, kPa) during CRRT with the phosphate-containing dialysis fluid.<br/><strong>A</strong>: nan<br/><strong>B</strong>: nan</p>\n",
       "<p><code>d-67-00463.nxml</code> \"Pi sampling: a methodical and flexible approach to initial macromolecular crystallization screening\"<br/><strong>E</strong>: nan<br/><strong>A</strong>: nan<br/><strong>B</strong>: nan</p>\n",
       "<p><code>e-67-o1363.nxml</code> \"3-Allyl-1-{[3-(4-nitro­phen­yl)-4,5-dihydro-1,3-oxazol-5-yl]meth­yl}-1H-anthra[1,2-d]imidazole-2,6,11(3H)-trione\"<br/><strong>E</strong>: nan<br/><strong>A</strong>: nan<br/><strong>B</strong>: nan</p>\n",
       "</blockquote>\n",
       "<p>7 more</p></details>"
      ],
      "text/plain": [
       "<IPython.core.display.HTML object>"
      ]
     },
     "metadata": {},
     "output_type": "display_data"
    },
    {
     "data": {
      "text/markdown": [
       "## Dataset: pmc-sample-1943-cc-by-subset (table_captions exact)"
      ],
      "text/plain": [
       "<IPython.core.display.Markdown object>"
      ]
     },
     "metadata": {},
     "output_type": "display_data"
    },
    {
     "data": {
      "text/html": [
       "<details><summary>Comparison: grobid-tei vs cermine</summary><p><strong>E</strong>: expected, <strong>A</strong>: pmc-sample-1943-cc-by-subset grobid-tei, <strong>B</strong>: pmc-sample-1943-cc-by-subset cermine (table_captions exact)</p>\n",
       "<h4>grobid-tei [0 : 1] cermine (0)</h4>\n",
       "<p>There are 0 samples where grobid-tei got it wrong, but cermine got it right.</p>\n",
       "<h4>grobid-tei [1 : 0] cermine (0)</h4>\n",
       "<p>There are 0 samples where grobid-tei got it right, but cermine got it wrong.</p>\n",
       "<h4>grobid-tei [0 : 0] cermine (10)</h4>\n",
       "<p>There are 10 samples where both grobid-tei and cermine got it wrong.</p>\n",
       "<blockquote>\n",
       "<p><code>aas0055-0039.nxml</code> \"Phosphate-containing dialysis solution prevents hypophosphatemia during continuous renal replacement therapy\"<br/><strong>E</strong>: Baseline characteristics of study patients and delivered CRRT., Fluid composition., Main diagnoses leading to intensive care of the study groups., Serum solute concentrations (mmol/l) during CRRT with the phosphate containing dialysis fluid for patients in group 3., Serum values (mmol/l, kPa) during CRRT with the phosphate-containing dialysis fluid.<br/><strong>A</strong>: nan<br/><strong>B</strong>: nan</p>\n",
       "<p><code>d-67-00463.nxml</code> \"Pi sampling: a methodical and flexible approach to initial macromolecular crystallization screening\"<br/><strong>E</strong>: nan<br/><strong>A</strong>: nan<br/><strong>B</strong>: nan</p>\n",
       "<p><code>e-67-o1363.nxml</code> \"3-Allyl-1-{[3-(4-nitro­phen­yl)-4,5-dihydro-1,3-oxazol-5-yl]meth­yl}-1H-anthra[1,2-d]imidazole-2,6,11(3H)-trione\"<br/><strong>E</strong>: nan<br/><strong>A</strong>: nan<br/><strong>B</strong>: nan</p>\n",
       "</blockquote>\n",
       "<p>7 more</p></details>"
      ],
      "text/plain": [
       "<IPython.core.display.HTML object>"
      ]
     },
     "metadata": {},
     "output_type": "display_data"
    },
    {
     "data": {
      "text/markdown": [
       "<hr/>"
      ],
      "text/plain": [
       "<IPython.core.display.Markdown object>"
      ]
     },
     "metadata": {},
     "output_type": "display_data"
    },
    {
     "data": {
      "text/markdown": [
       "# Field: table_label_captions"
      ],
      "text/plain": [
       "<IPython.core.display.Markdown object>"
      ]
     },
     "metadata": {},
     "output_type": "display_data"
    },
    {
     "data": {
      "text/markdown": [
       "## Dataset: pmc-sample-1943-cc-by-subset (table_label_captions levenshtein)"
      ],
      "text/plain": [
       "<IPython.core.display.Markdown object>"
      ]
     },
     "metadata": {},
     "output_type": "display_data"
    },
    {
     "data": {
      "text/html": [
       "<details><summary>Comparison: grobid-tei vs cermine</summary><p><strong>E</strong>: expected, <strong>A</strong>: pmc-sample-1943-cc-by-subset grobid-tei, <strong>B</strong>: pmc-sample-1943-cc-by-subset cermine (table_label_captions levenshtein)</p>\n",
       "<h4>grobid-tei [0 : 1] cermine (0)</h4>\n",
       "<p>There are 0 samples where grobid-tei got it wrong, but cermine got it right.</p>\n",
       "<h4>grobid-tei [1 : 0] cermine (2)</h4>\n",
       "<p>There are 2 samples where grobid-tei got it right, but cermine got it wrong.</p>\n",
       "<blockquote>\n",
       "<p><code>sonc50-621.nxml</code> \"Management of cutaneous metastases using electrochemotherapy\"<br/><strong>E</strong>: Table I Patients' characteristics at baseline., Table II Treatment data and response., Table III Choice of anaesthesia according to location of metastases and size.<br/><strong>B</strong>: nan</p>\n",
       "<p><code>apa0100-0653.nxml</code> \"Placental programming of blood pressure in Indian children\"<br/><strong>E</strong>: Table 1 Characteristics of the mothers, placentas, babies and children in the Mysore Parthenon cohort, Table 2 Blood pressure at 9.5 years among boys and girls according to placental size, Table 3 Blood pressure at 9.5 years among girls according to mother’s height and placental size<br/><strong>B</strong>: nan</p>\n",
       "</blockquote>\n",
       "<h4>grobid-tei [0 : 0] cermine (8)</h4>\n",
       "<p>There are 8 samples where both grobid-tei and cermine got it wrong.</p>\n",
       "<blockquote>\n",
       "<p><code>aas0055-0039.nxml</code> \"Phosphate-containing dialysis solution prevents hypophosphatemia during continuous renal replacement therapy\"<br/><strong>E</strong>: Table 1 Fluid composition., Table 2 Main diagnoses leading to intensive care of the study groups., Table 3 Baseline characteristics of study patients and delivered CRRT., Table 4 Serum solute concentrations (mmol/l) during CRRT with the phosphate containing dialysis fluid for patients in group 3., Table 5 Serum values (mmol/l, kPa) during CRRT with the phosphate-containing dialysis fluid.<br/><strong>A</strong>: Table 1 Fluid composition., Table 2, Table 3 Baseline characteristics of study patients and delivered CRRT., Table 4 Serum solute concentrations (mmol/l) during CRRT with the phosphate containing dialysis fluid for patients in group 3., Table 5<br/><strong>B</strong>: nan</p>\n",
       "<p><code>d-67-00463.nxml</code> \"Pi sampling: a methodical and flexible approach to initial macromolecular crystallization screening\"<br/><strong>E</strong>: nan<br/><strong>A</strong>: Table 2, Table 3 ', Table 3 (continued), Table 4 Final formulation of the Pi-PEG screen.<br/><strong>B</strong>: nan</p>\n",
       "<p><code>e-67-o1363.nxml</code> \"3-Allyl-1-{[3-(4-nitro­phen­yl)-4,5-dihydro-1,3-oxazol-5-yl]meth­yl}-1H-anthra[1,2-d]imidazole-2,6,11(3H)-trione\"<br/><strong>E</strong>: nan<br/><strong>A</strong>: Refinement . Refinement of F 2 against ALL reflections. The weighted R-factor wR and goodness of fit S are based on F 2 , conventional R-factors R are based on F, with F set to zero for negative F 2 . The threshold expression of F 2 &gt; 2σ(F 2 ) is used only for calculating R- factors(gt) etc. and is not relevant to the choice of reflections for refinement. R-factors based on F 2 are statistically about twice as large as those based on F, and R-factors based on ALL data will be even larger.11 U 22 U 33 U 12 U 13 U 23, Table 1<br/><strong>B</strong>: nan</p>\n",
       "</blockquote>\n",
       "<p>5 more</p></details>"
      ],
      "text/plain": [
       "<IPython.core.display.HTML object>"
      ]
     },
     "metadata": {},
     "output_type": "display_data"
    },
    {
     "data": {
      "text/markdown": [
       "## Dataset: pmc-sample-1943-cc-by-subset (table_label_captions exact)"
      ],
      "text/plain": [
       "<IPython.core.display.Markdown object>"
      ]
     },
     "metadata": {},
     "output_type": "display_data"
    },
    {
     "data": {
      "text/html": [
       "<details><summary>Comparison: grobid-tei vs cermine</summary><p><strong>E</strong>: expected, <strong>A</strong>: pmc-sample-1943-cc-by-subset grobid-tei, <strong>B</strong>: pmc-sample-1943-cc-by-subset cermine (table_label_captions exact)</p>\n",
       "<h4>grobid-tei [0 : 1] cermine (0)</h4>\n",
       "<p>There are 0 samples where grobid-tei got it wrong, but cermine got it right.</p>\n",
       "<h4>grobid-tei [1 : 0] cermine (0)</h4>\n",
       "<p>There are 0 samples where grobid-tei got it right, but cermine got it wrong.</p>\n",
       "<h4>grobid-tei [0 : 0] cermine (10)</h4>\n",
       "<p>There are 10 samples where both grobid-tei and cermine got it wrong.</p>\n",
       "<blockquote>\n",
       "<p><code>aas0055-0039.nxml</code> \"Phosphate-containing dialysis solution prevents hypophosphatemia during continuous renal replacement therapy\"<br/><strong>E</strong>: Table 1 Fluid composition., Table 2 Main diagnoses leading to intensive care of the study groups., Table 3 Baseline characteristics of study patients and delivered CRRT., Table 4 Serum solute concentrations (mmol/l) during CRRT with the phosphate containing dialysis fluid for patients in group 3., Table 5 Serum values (mmol/l, kPa) during CRRT with the phosphate-containing dialysis fluid.<br/><strong>A</strong>: Table 1 Fluid composition., Table 2, Table 3 Baseline characteristics of study patients and delivered CRRT., Table 4 Serum solute concentrations (mmol/l) during CRRT with the phosphate containing dialysis fluid for patients in group 3., Table 5<br/><strong>B</strong>: nan</p>\n",
       "<p><code>d-67-00463.nxml</code> \"Pi sampling: a methodical and flexible approach to initial macromolecular crystallization screening\"<br/><strong>E</strong>: nan<br/><strong>A</strong>: Table 2, Table 3 ', Table 3 (continued), Table 4 Final formulation of the Pi-PEG screen.<br/><strong>B</strong>: nan</p>\n",
       "<p><code>e-67-o1363.nxml</code> \"3-Allyl-1-{[3-(4-nitro­phen­yl)-4,5-dihydro-1,3-oxazol-5-yl]meth­yl}-1H-anthra[1,2-d]imidazole-2,6,11(3H)-trione\"<br/><strong>E</strong>: nan<br/><strong>A</strong>: Refinement . Refinement of F 2 against ALL reflections. The weighted R-factor wR and goodness of fit S are based on F 2 , conventional R-factors R are based on F, with F set to zero for negative F 2 . The threshold expression of F 2 &gt; 2σ(F 2 ) is used only for calculating R- factors(gt) etc. and is not relevant to the choice of reflections for refinement. R-factors based on F 2 are statistically about twice as large as those based on F, and R-factors based on ALL data will be even larger.11 U 22 U 33 U 12 U 13 U 23, Table 1<br/><strong>B</strong>: nan</p>\n",
       "</blockquote>\n",
       "<p>7 more</p></details>"
      ],
      "text/plain": [
       "<IPython.core.display.HTML object>"
      ]
     },
     "metadata": {},
     "output_type": "display_data"
    }
   ],
   "source": [
    "def show_comparative_examples(inspect_name, compare_with_name, field_name, evaluation_method, limit=3):\n",
    "    inspect_df = details_df_map[inspect_name].merge(\n",
    "        details_df_map[compare_with_name],\n",
    "        how='outer',\n",
    "        on=['target_file', 'field_name', 'evaluation_method', 'expected'],\n",
    "        suffixes=['', '_other']\n",
    "    )\n",
    "\n",
    "    title_map = inspect_df[\n",
    "        (inspect_df['field_name'] == 'title') &\n",
    "        (inspect_df['evaluation_method'] == 'exact')\n",
    "    ][['target_file', 'expected']].groupby('target_file').first()['expected'].to_dict()\n",
    "\n",
    "    inspect_df = inspect_df[inspect_df['field_name'] == field_name]\n",
    "    inspect_df = inspect_df[inspect_df['evaluation_method'] == evaluation_method]\n",
    "\n",
    "    md = []\n",
    "\n",
    "    md.append('**E**: expected, **A**: %s, **B**: %s (%s %s)' % (\n",
    "        inspect_name, compare_with_name, field_name, evaluation_method\n",
    "    ))\n",
    "    \n",
    "    short_inspect_name = short_name(inspect_name)\n",
    "    short_other_name = short_name(compare_with_name)\n",
    "\n",
    "    incorrect_inspect_df = inspect_df[(inspect_df['tp'] == 0) & (inspect_df['tp_other'] == 1)]\n",
    "    md.append('#### %s [0 : 1] %s (%d)' % (short_inspect_name, short_other_name, len(incorrect_inspect_df)))\n",
    "    md.append('There are %d samples where %s got it wrong, but %s got it right.' % (\n",
    "        len(incorrect_inspect_df), short_inspect_name, short_other_name\n",
    "    ))\n",
    "    for row in incorrect_inspect_df[:limit].to_dict(orient='rows'):\n",
    "        md.append('> `%s` \"%s\"<br/>**E**: %s<br/>**A**: %s' % (\n",
    "            row['target_file'], title_map.get(row['target_file']), row['expected'], row['actual']\n",
    "        ))\n",
    "    if len(incorrect_inspect_df) > limit:\n",
    "        md.append('%d more' % (len(incorrect_inspect_df) - limit))\n",
    "\n",
    "    correct_inspect_df = inspect_df[(inspect_df['tp'] == 1) & (inspect_df['tp_other'] == 0)]\n",
    "    md.append('#### %s [1 : 0] %s (%d)' % (short_inspect_name, short_other_name, len(correct_inspect_df)))\n",
    "    md.append('There are %d samples where %s got it right, but %s got it wrong.' % (\n",
    "        len(correct_inspect_df), short_inspect_name, short_other_name\n",
    "    ))\n",
    "    for row in correct_inspect_df[:limit].to_dict(orient='rows'):\n",
    "        md.append('> `%s` \"%s\"<br/>**E**: %s<br/>**B**: %s' % (\n",
    "            row['target_file'], title_map.get(row['target_file']), row['expected'], row['actual_other']\n",
    "        ))\n",
    "    if len(correct_inspect_df) > limit:\n",
    "        md.append('%d more' % (len(correct_inspect_df) - limit))\n",
    "\n",
    "    both_incorrect_inspect_df = inspect_df[(inspect_df['tp'] == 0) & (inspect_df['tp_other'] == 0)]\n",
    "    md.append('#### %s [0 : 0] %s (%d)' % (short_inspect_name, short_other_name, len(both_incorrect_inspect_df)))\n",
    "    md.append('There are %d samples where both %s and %s got it wrong.' % (\n",
    "        len(both_incorrect_inspect_df), short_inspect_name, short_other_name\n",
    "    ))\n",
    "    for row in both_incorrect_inspect_df[:limit].to_dict(orient='rows'):\n",
    "        md.append('> `%s` \"%s\"<br/>**E**: %s<br/>**A**: %s<br/>**B**: %s' % (\n",
    "            row['target_file'], title_map.get(row['target_file']),\n",
    "            row['expected'], row['actual'], row['actual_other']\n",
    "        ))\n",
    "    if len(both_incorrect_inspect_df) > limit:\n",
    "        md.append('%d more' % (len(both_incorrect_inspect_df) - limit))\n",
    "    return '\\n\\n'.join(md)\n",
    "\n",
    "printmd('# Comparing results between tools')\n",
    "for field_name in field_names:\n",
    "    printmd('<hr/>')\n",
    "    printmd('# Field: %s' % field_name)\n",
    "    for evaluation_method in evaluation_methods:\n",
    "        for prefix in prefix_list:\n",
    "            printmd('## Dataset: %s (%s %s)' % (prefix, field_name, evaluation_method))\n",
    "            names_with_prefix = [name for name in all_result_names if name.startswith(prefix)]\n",
    "            for i, inspect_name in enumerate(names_with_prefix[:-1]):\n",
    "                for other_name in names_with_prefix[(1 + i):]:\n",
    "                    title = 'Comparison: %s vs %s' % (short_name(inspect_name), short_name(other_name))\n",
    "                    content = markdown(show_comparative_examples(\n",
    "                        inspect_name, other_name,\n",
    "                        field_name=field_name, evaluation_method=evaluation_method\n",
    "                    ))\n",
    "                    display(HTML('<details><summary>%s</summary>%s</details>' % (title, content)))"
   ]
  }
 ],
 "metadata": {
  "kernelspec": {
   "display_name": "Python 3",
   "language": "python",
   "name": "python3"
  },
  "language_info": {
   "codemirror_mode": {
    "name": "ipython",
    "version": 3
   },
   "file_extension": ".py",
   "mimetype": "text/x-python",
   "name": "python",
   "nbconvert_exporter": "python",
   "pygments_lexer": "ipython3",
   "version": "3.5.2"
  }
 },
 "nbformat": 4,
 "nbformat_minor": 2
}
