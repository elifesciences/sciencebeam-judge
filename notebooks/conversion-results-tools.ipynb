{
 "cells": [
  {
   "cell_type": "code",
   "execution_count": 1,
   "metadata": {
    "tags": [
     "parameters"
    ]
   },
   "outputs": [],
   "source": [
    "data_path = '../example-data'\n",
    "# data_path = 'gs://elife-public-data/sciencebeam/datasets'\n",
    "dataset_relative_paths = ['pmc-sample-1943-cc-by-subset']\n",
    "dataset_suffixes = []\n",
    "tool_names = ['grobid-tei', 'cermine']\n",
    "# tool_names = ['grobid-tei', 'cermine', 'scienceparse', 'scienceparse-v2']\n",
    "field_names = ['title', 'first_author_full_name', 'abstract']\n",
    "evaluation_methods = ['levenshtein', 'exact']\n",
    "summary_filename = 'summary-00000-of-00001.csv'\n",
    "details_filename = 'results-00000-of-00001.csv'\n",
    "show_tables = False"
   ]
  },
  {
   "cell_type": "code",
   "execution_count": 2,
   "metadata": {},
   "outputs": [],
   "source": [
    "# This Conversion Results Notebook by default use the very small example dataset\n",
    "# You may pass in other parameters, e.g.:\n",
    "#   $papermill conversion-results-tools.ipynb conversion-results-tools-configured.ipynb -p data_path '/my/other/data/path'"
   ]
  },
  {
   "cell_type": "code",
   "execution_count": 3,
   "metadata": {},
   "outputs": [],
   "source": [
    "%matplotlib inline"
   ]
  },
  {
   "cell_type": "code",
   "execution_count": 4,
   "metadata": {},
   "outputs": [],
   "source": [
    "import matplotlib\n",
    "matplotlib.style.use('ggplot')"
   ]
  },
  {
   "cell_type": "code",
   "execution_count": 5,
   "metadata": {},
   "outputs": [],
   "source": [
    "from datetime import datetime\n",
    "import time\n",
    "import os\n",
    "import subprocess\n",
    "import re\n",
    "import pandas as pd\n",
    "import matplotlib.pyplot as plt\n",
    "from IPython.display import display, Markdown"
   ]
  },
  {
   "cell_type": "code",
   "execution_count": 6,
   "metadata": {},
   "outputs": [],
   "source": [
    "def parse_list(s):\n",
    "    if isinstance(s, list):\n",
    "        return s\n",
    "    return [x.strip() for x in s.split(',') if x.strip()]\n",
    "\n",
    "dataset_relative_paths = parse_list(dataset_relative_paths)\n",
    "tool_names = parse_list(tool_names)\n",
    "field_names = parse_list(field_names)\n",
    "evaluation_methods = parse_list(evaluation_methods)\n",
    "dataset_suffixes = dict(parse_list(dataset_suffixes))"
   ]
  },
  {
   "cell_type": "code",
   "execution_count": 7,
   "metadata": {},
   "outputs": [],
   "source": [
    "all_result_paths = [\n",
    "    (\n",
    "        '%s%s %s' % (dataset_relative_path, dataset_suffix, tool),\n",
    "        os.path.join(\n",
    "            data_path,\n",
    "            '%s-results/evaluation-results/%s%s' % (\n",
    "                dataset_relative_path,\n",
    "                tool,\n",
    "                dataset_suffix\n",
    "            )\n",
    "        )\n",
    "    )\n",
    "    for dataset_relative_path in dataset_relative_paths\n",
    "    for dataset_suffix in dataset_suffixes.get(dataset_relative_path, [''])\n",
    "    for tool in tool_names\n",
    "]\n",
    "\n",
    "prefix_list = [\n",
    "    '%s%s' % (dataset_relative_path, dataset_suffix)\n",
    "    for dataset_relative_path in dataset_relative_paths\n",
    "    for dataset_suffix in dataset_suffixes.get(dataset_relative_path, [''])\n",
    "]"
   ]
  },
  {
   "cell_type": "code",
   "execution_count": 8,
   "metadata": {},
   "outputs": [],
   "source": [
    "all_result_names = [name for name, _ in all_result_paths]"
   ]
  },
  {
   "cell_type": "code",
   "execution_count": 9,
   "metadata": {},
   "outputs": [],
   "source": [
    "def printmd(s):\n",
    "    try:\n",
    "        s = s.decode('unicode_escape')\n",
    "    except AttributeError:\n",
    "        pass\n",
    "    display(Markdown(s))"
   ]
  },
  {
   "cell_type": "code",
   "execution_count": 10,
   "metadata": {},
   "outputs": [
    {
     "data": {
      "text/markdown": [
       "## Summary Files"
      ],
      "text/plain": [
       "<IPython.core.display.Markdown object>"
      ]
     },
     "metadata": {},
     "output_type": "display_data"
    },
    {
     "data": {
      "text/markdown": [
       "**Timestamp:** 2018-07-06 18:04:08.167849 (pmc-sample-1943-cc-by-subset grobid-tei)"
      ],
      "text/plain": [
       "<IPython.core.display.Markdown object>"
      ]
     },
     "metadata": {},
     "output_type": "display_data"
    },
    {
     "data": {
      "text/markdown": [
       "**Timestamp:** 2018-07-06 18:04:08.163849 (pmc-sample-1943-cc-by-subset cermine)"
      ],
      "text/plain": [
       "<IPython.core.display.Markdown object>"
      ]
     },
     "metadata": {},
     "output_type": "display_data"
    }
   ],
   "source": [
    "def retrieve_local_copy_if_remote(file_url):\n",
    "    if file_url.startswith('gs://'):\n",
    "        local_filename = os.path.join('../.temp', os.path.basename(file_url))\n",
    "        subprocess.check_output('gsutil cp -P \"%s\" \"%s\"' % (file_url, local_filename), shell=True)\n",
    "        # would be nice if gsutil did actually copy the creation time, let's do it here in a hacky way\n",
    "        timestamp_match = re.search('\\s(\\d{4}-[^ ]+)\\s', subprocess.check_output('gsutil ls -l \"%s\"' % file_url, shell=True).decode('utf-8'))\n",
    "        file_time = time.mktime(datetime.strptime(timestamp_match.group(1), \"%Y-%m-%dT%H:%M:%SZ\").timetuple())\n",
    "        os.utime(local_filename, (file_time, file_time))\n",
    "        return local_filename\n",
    "\n",
    "    return file_url\n",
    "\n",
    "def load_result_map(all_result_paths, filename):\n",
    "    df_map = {}\n",
    "    for name, result_path in all_result_paths:\n",
    "        full_filename = retrieve_local_copy_if_remote(os.path.join(result_path, filename))\n",
    "        printmd('**Timestamp:** %s (%s)' % (datetime.fromtimestamp(os.path.getmtime(full_filename)), name))\n",
    "        df_map[name] = pd.read_csv(full_filename)\n",
    "        if show_tables:\n",
    "            display(df_map[name].head(3))\n",
    "    return df_map\n",
    "\n",
    "printmd('## Summary Files')\n",
    "summary_df_map = load_result_map(all_result_paths, summary_filename)"
   ]
  },
  {
   "cell_type": "code",
   "execution_count": 11,
   "metadata": {},
   "outputs": [
    {
     "data": {
      "text/markdown": [
       "## Details Files"
      ],
      "text/plain": [
       "<IPython.core.display.Markdown object>"
      ]
     },
     "metadata": {},
     "output_type": "display_data"
    },
    {
     "data": {
      "text/markdown": [
       "**Timestamp:** 2018-07-06 18:04:08.167849 (pmc-sample-1943-cc-by-subset grobid-tei)"
      ],
      "text/plain": [
       "<IPython.core.display.Markdown object>"
      ]
     },
     "metadata": {},
     "output_type": "display_data"
    },
    {
     "data": {
      "text/markdown": [
       "**Timestamp:** 2018-07-06 18:04:08.163849 (pmc-sample-1943-cc-by-subset cermine)"
      ],
      "text/plain": [
       "<IPython.core.display.Markdown object>"
      ]
     },
     "metadata": {},
     "output_type": "display_data"
    }
   ],
   "source": [
    "printmd('## Details Files')\n",
    "details_df_map = load_result_map(all_result_paths, details_filename)"
   ]
  },
  {
   "cell_type": "code",
   "execution_count": 12,
   "metadata": {},
   "outputs": [
    {
     "data": {
      "text/markdown": [
       "### Evaluation File States"
      ],
      "text/plain": [
       "<IPython.core.display.Markdown object>"
      ]
     },
     "metadata": {},
     "output_type": "display_data"
    },
    {
     "data": {
      "text/markdown": [
       "**Evaluation methods:** exact, levenshtein, ratcliff_obershelp, soft"
      ],
      "text/plain": [
       "<IPython.core.display.Markdown object>"
      ]
     },
     "metadata": {},
     "output_type": "display_data"
    },
    {
     "data": {
      "text/markdown": [
       "**Field names:** abstract, author_full_names, author_surnames, first_author_full_name, first_author_surname, keywords, title"
      ],
      "text/plain": [
       "<IPython.core.display.Markdown object>"
      ]
     },
     "metadata": {},
     "output_type": "display_data"
    }
   ],
   "source": [
    "printmd('### Evaluation File States')\n",
    "printmd('**Evaluation methods:** %s' % ', '.join(sorted(set(\n",
    "    summary_df_map[all_result_names[0]]['evaluation_method']\n",
    "))))\n",
    "printmd('**Field names:** %s' % ', '.join(sorted(set(\n",
    "    summary_df_map[all_result_names[0]]['field_name'].dropna()\n",
    "))))"
   ]
  },
  {
   "cell_type": "code",
   "execution_count": 13,
   "metadata": {},
   "outputs": [],
   "source": [
    "matplotlib.rcParams.update({'font.size': 22})\n",
    "matplotlib.rcParams['figure.figsize'] = (20.0, 10.0)"
   ]
  },
  {
   "cell_type": "code",
   "execution_count": 14,
   "metadata": {},
   "outputs": [],
   "source": [
    "def short_name(full_name):\n",
    "    return full_name.split(' ')[-1]\n",
    "\n",
    "def show_field_summaries(field_summaries_label_and_df, evaluation_method, score_name, field_names):\n",
    "    def filter_df(df):\n",
    "        return df[\n",
    "            (df['evaluation_method'] == evaluation_method) &\n",
    "            (df['field_name'].isin(field_names))\n",
    "        ]\n",
    "\n",
    "    def filter_and_convert_df(df):\n",
    "        return filter_df(df).set_index('field_name')[score_name]\n",
    "\n",
    "    field_summary_df = pd.DataFrame({\n",
    "        short_name(k): filter_and_convert_df(df)\n",
    "        for k, df in field_summaries_label_and_df\n",
    "    })[[short_name(k) for k, _ in field_summaries_label_and_df]].reindex(field_names)\n",
    "    \n",
    "    max_document_count = max(\n",
    "        filter_df(df)['document_count'].max() for _, df in field_summaries_label_and_df\n",
    "    )\n",
    "    if max_document_count < 100:\n",
    "        printmd('**Note:** sample size of **%d** is too small to provide a meaningful insight' % max_document_count)\n",
    "    printmd('%s (max: %d)' % (', '.join([\n",
    "        '%s: #%s' % (short_name(k), list(set(filter_df(df)['document_count']))[0])\n",
    "        for k, df in field_summaries_label_and_df\n",
    "    ]), max_document_count))\n",
    "\n",
    "    ax = field_summary_df.plot.bar(label='f1')\n",
    "    plt.xlabel('%s (%s)' % (evaluation_method, score_name))\n",
    "    plt.ylabel('f1 score')\n",
    "    plt.ylim([0.0, 1.05])\n",
    "    plt.show()\n",
    "\n",
    "all_field_summaries_label_and_df = [\n",
    "    (name, summary_df_map[name] if name else None)\n",
    "    for name in all_result_names\n",
    "]"
   ]
  },
  {
   "cell_type": "code",
   "execution_count": 15,
   "metadata": {
    "scrolled": false
   },
   "outputs": [
    {
     "data": {
      "text/markdown": [
       "## pmc-sample-1943-cc-by-subset (levenshtein)"
      ],
      "text/plain": [
       "<IPython.core.display.Markdown object>"
      ]
     },
     "metadata": {},
     "output_type": "display_data"
    },
    {
     "data": {
      "text/markdown": [
       "**Note:** sample size of **10** is too small to provide a meaningful insight"
      ],
      "text/plain": [
       "<IPython.core.display.Markdown object>"
      ]
     },
     "metadata": {},
     "output_type": "display_data"
    },
    {
     "data": {
      "text/markdown": [
       "grobid-tei: #10, cermine: #10 (max: 10)"
      ],
      "text/plain": [
       "<IPython.core.display.Markdown object>"
      ]
     },
     "metadata": {},
     "output_type": "display_data"
    },
    {
     "data": {
      "image/png": "[encoded data removed]",
      "text/plain": [
       "<matplotlib.figure.Figure at 0x7fa7d4cba8d0>"
      ]
     },
     "metadata": {},
     "output_type": "display_data"
    },
    {
     "data": {
      "text/markdown": [
       "## pmc-sample-1943-cc-by-subset (exact)"
      ],
      "text/plain": [
       "<IPython.core.display.Markdown object>"
      ]
     },
     "metadata": {},
     "output_type": "display_data"
    },
    {
     "data": {
      "text/markdown": [
       "**Note:** sample size of **10** is too small to provide a meaningful insight"
      ],
      "text/plain": [
       "<IPython.core.display.Markdown object>"
      ]
     },
     "metadata": {},
     "output_type": "display_data"
    },
    {
     "data": {
      "text/markdown": [
       "grobid-tei: #10, cermine: #10 (max: 10)"
      ],
      "text/plain": [
       "<IPython.core.display.Markdown object>"
      ]
     },
     "metadata": {},
     "output_type": "display_data"
    },
    {
     "data": {
      "image/png": "[encoded data removed]",
      "text/plain": [
       "<matplotlib.figure.Figure at 0x7fa7d2b7c278>"
      ]
     },
     "metadata": {},
     "output_type": "display_data"
    }
   ],
   "source": [
    "for evaluation_method in evaluation_methods:\n",
    "    for prefix in prefix_list:\n",
    "        printmd('## %s (%s)' % (prefix, evaluation_method))\n",
    "        show_field_summaries(\n",
    "            [\n",
    "                (name, df)\n",
    "                for name, df in all_field_summaries_label_and_df\n",
    "                if name.startswith(prefix)\n",
    "            ],\n",
    "            evaluation_method = evaluation_method, score_name = 'f1', field_names = field_names\n",
    "        )\n"
   ]
  },
  {
   "cell_type": "code",
   "execution_count": 16,
   "metadata": {
    "scrolled": false
   },
   "outputs": [
    {
     "data": {
      "text/markdown": [
       "# Comparing results between tools"
      ],
      "text/plain": [
       "<IPython.core.display.Markdown object>"
      ]
     },
     "metadata": {},
     "output_type": "display_data"
    },
    {
     "data": {
      "text/markdown": [
       "<hr/>"
      ],
      "text/plain": [
       "<IPython.core.display.Markdown object>"
      ]
     },
     "metadata": {},
     "output_type": "display_data"
    },
    {
     "data": {
      "text/markdown": [
       "# Field: title"
      ],
      "text/plain": [
       "<IPython.core.display.Markdown object>"
      ]
     },
     "metadata": {},
     "output_type": "display_data"
    },
    {
     "data": {
      "text/markdown": [
       "## Dataset: pmc-sample-1943-cc-by-subset (title levenshtein)"
      ],
      "text/plain": [
       "<IPython.core.display.Markdown object>"
      ]
     },
     "metadata": {},
     "output_type": "display_data"
    },
    {
     "data": {
      "text/markdown": [
       "### Comparison: grobid-tei vs cermine"
      ],
      "text/plain": [
       "<IPython.core.display.Markdown object>"
      ]
     },
     "metadata": {},
     "output_type": "display_data"
    },
    {
     "data": {
      "text/markdown": [
       "**E**: expected, **A**: pmc-sample-1943-cc-by-subset grobid-tei, **B**: pmc-sample-1943-cc-by-subset cermine (title levenshtein)"
      ],
      "text/plain": [
       "<IPython.core.display.Markdown object>"
      ]
     },
     "metadata": {},
     "output_type": "display_data"
    },
    {
     "data": {
      "text/markdown": [
       "#### grobid-tei [0 : 1] cermine (3)"
      ],
      "text/plain": [
       "<IPython.core.display.Markdown object>"
      ]
     },
     "metadata": {},
     "output_type": "display_data"
    },
    {
     "data": {
      "text/markdown": [
       "There are 3 samples where grobid-tei got it wrong, but cermine got it right."
      ],
      "text/plain": [
       "<IPython.core.display.Markdown object>"
      ]
     },
     "metadata": {},
     "output_type": "display_data"
    },
    {
     "data": {
      "text/markdown": [
       "> `d-67-00463.nxml` \"pi sampling: a methodical and flexible approach to initial macromolecular crystallization screening\"<br/>**E**: pi sampling: a methodical and flexible approach to initial macromolecular crystallization screening<br/>**A**: biological crystallography pi sampling: a methodical and flexible approach to initial macromolecular crystallization screening"
      ],
      "text/plain": [
       "<IPython.core.display.Markdown object>"
      ]
     },
     "metadata": {},
     "output_type": "display_data"
    },
    {
     "data": {
      "text/markdown": [
       "> `e-67-o1363.nxml` \"3-allyl-1-{[3-(4-nitro­phen­yl)-4,5-dihydro-1,3-oxazol-5-yl]meth­yl}-1h-anthra[1,2-d]imidazole-2,6,11(3h)-trione\"<br/>**E**: 3-allyl-1-{[3-(4-nitro­phen­yl)-4,5-dihydro-1,3-oxazol-5-yl]meth­yl}-1h-anthra[1,2-d]imidazole-2,6,11(3h)-trione<br/>**A**: e67, o1363-o1364 acta cryst"
      ],
      "text/plain": [
       "<IPython.core.display.Markdown object>"
      ]
     },
     "metadata": {},
     "output_type": "display_data"
    },
    {
     "data": {
      "text/markdown": [
       "> `f-67-00344.nxml` \"refolding, crystallization and preliminary x-ray crystallographic study of the whole extracellular regions of nectins\"<br/>**E**: refolding, crystallization and preliminary x-ray crystallographic study of the whole extracellular regions of nectins<br/>**A**: structural biology and crystallization communications refolding, crystallization and preliminary x-ray crystallographic study of the whole extracellular regions of nectins"
      ],
      "text/plain": [
       "<IPython.core.display.Markdown object>"
      ]
     },
     "metadata": {},
     "output_type": "display_data"
    },
    {
     "data": {
      "text/markdown": [
       "#### grobid-tei [1 : 0] cermine (0)"
      ],
      "text/plain": [
       "<IPython.core.display.Markdown object>"
      ]
     },
     "metadata": {},
     "output_type": "display_data"
    },
    {
     "data": {
      "text/markdown": [
       "There are 0 samples where grobid-tei got it right, but cermine got it wrong."
      ],
      "text/plain": [
       "<IPython.core.display.Markdown object>"
      ]
     },
     "metadata": {},
     "output_type": "display_data"
    },
    {
     "data": {
      "text/markdown": [
       "#### grobid-tei [0 : 0] cermine (0)"
      ],
      "text/plain": [
       "<IPython.core.display.Markdown object>"
      ]
     },
     "metadata": {},
     "output_type": "display_data"
    },
    {
     "data": {
      "text/markdown": [
       "There are 0 samples where both grobid-tei and cermine got it wrong."
      ],
      "text/plain": [
       "<IPython.core.display.Markdown object>"
      ]
     },
     "metadata": {},
     "output_type": "display_data"
    },
    {
     "data": {
      "text/markdown": [
       "## Dataset: pmc-sample-1943-cc-by-subset (title exact)"
      ],
      "text/plain": [
       "<IPython.core.display.Markdown object>"
      ]
     },
     "metadata": {},
     "output_type": "display_data"
    },
    {
     "data": {
      "text/markdown": [
       "### Comparison: grobid-tei vs cermine"
      ],
      "text/plain": [
       "<IPython.core.display.Markdown object>"
      ]
     },
     "metadata": {},
     "output_type": "display_data"
    },
    {
     "data": {
      "text/markdown": [
       "**E**: expected, **A**: pmc-sample-1943-cc-by-subset grobid-tei, **B**: pmc-sample-1943-cc-by-subset cermine (title exact)"
      ],
      "text/plain": [
       "<IPython.core.display.Markdown object>"
      ]
     },
     "metadata": {},
     "output_type": "display_data"
    },
    {
     "data": {
      "text/markdown": [
       "#### grobid-tei [0 : 1] cermine (1)"
      ],
      "text/plain": [
       "<IPython.core.display.Markdown object>"
      ]
     },
     "metadata": {},
     "output_type": "display_data"
    },
    {
     "data": {
      "text/markdown": [
       "There are 1 samples where grobid-tei got it wrong, but cermine got it right."
      ],
      "text/plain": [
       "<IPython.core.display.Markdown object>"
      ]
     },
     "metadata": {},
     "output_type": "display_data"
    },
    {
     "data": {
      "text/markdown": [
       "> `f-67-00344.nxml` \"refolding, crystallization and preliminary x-ray crystallographic study of the whole extracellular regions of nectins\"<br/>**E**: refolding, crystallization and preliminary x-ray crystallographic study of the whole extracellular regions of nectins<br/>**A**: structural biology and crystallization communications refolding, crystallization and preliminary x-ray crystallographic study of the whole extracellular regions of nectins"
      ],
      "text/plain": [
       "<IPython.core.display.Markdown object>"
      ]
     },
     "metadata": {},
     "output_type": "display_data"
    },
    {
     "data": {
      "text/markdown": [
       "#### grobid-tei [1 : 0] cermine (0)"
      ],
      "text/plain": [
       "<IPython.core.display.Markdown object>"
      ]
     },
     "metadata": {},
     "output_type": "display_data"
    },
    {
     "data": {
      "text/markdown": [
       "There are 0 samples where grobid-tei got it right, but cermine got it wrong."
      ],
      "text/plain": [
       "<IPython.core.display.Markdown object>"
      ]
     },
     "metadata": {},
     "output_type": "display_data"
    },
    {
     "data": {
      "text/markdown": [
       "#### grobid-tei [0 : 0] cermine (3)"
      ],
      "text/plain": [
       "<IPython.core.display.Markdown object>"
      ]
     },
     "metadata": {},
     "output_type": "display_data"
    },
    {
     "data": {
      "text/markdown": [
       "There are 3 samples where both grobid-tei and cermine got it wrong."
      ],
      "text/plain": [
       "<IPython.core.display.Markdown object>"
      ]
     },
     "metadata": {},
     "output_type": "display_data"
    },
    {
     "data": {
      "text/markdown": [
       "> `d-67-00463.nxml` \"pi sampling: a methodical and flexible approach to initial macromolecular crystallization screening\"<br/>**E**: pi sampling: a methodical and flexible approach to initial macromolecular crystallization screening<br/>**A**: biological crystallography pi sampling: a methodical and flexible approach to initial macromolecular crystallization screening<br/>**B**: pi sampling: a methodical and flexible approach to initial macromolecular crystallization screening research papers"
      ],
      "text/plain": [
       "<IPython.core.display.Markdown object>"
      ]
     },
     "metadata": {},
     "output_type": "display_data"
    },
    {
     "data": {
      "text/markdown": [
       "> `e-67-o1363.nxml` \"3-allyl-1-{[3-(4-nitro­phen­yl)-4,5-dihydro-1,3-oxazol-5-yl]meth­yl}-1h-anthra[1,2-d]imidazole-2,6,11(3h)-trione\"<br/>**E**: 3-allyl-1-{[3-(4-nitro­phen­yl)-4,5-dihydro-1,3-oxazol-5-yl]meth­yl}-1h-anthra[1,2-d]imidazole-2,6,11(3h)-trione<br/>**A**: e67, o1363-o1364 acta cryst<br/>**B**: 3-allyl-1-{[3-(4-nitrophenyl)-4,5- dihydro-1,3-oxazol-5-yl]methyl}-1h- anthra[1,2-d]imidazole-2,6,11(3h)- trione"
      ],
      "text/plain": [
       "<IPython.core.display.Markdown object>"
      ]
     },
     "metadata": {},
     "output_type": "display_data"
    },
    {
     "data": {
      "text/markdown": [
       "> `ORT-1745-3674-81-405.nxml` \"resection arthroplasty for luxation of the manubrio-sternal joint in rheumatoid arthritis—a case report\"<br/>**E**: resection arthroplasty for luxation of the manubrio-sternal joint in rheumatoid arthritis—a case report<br/>**A**: resection arthroplasty for luxation of the manubrio-sternal joint in rheumatoid arthritis-a case report<br/>**B**: resection arthroplasty for luxation of the manubrio-sternal joint in rheumatoid arthritis-a case report"
      ],
      "text/plain": [
       "<IPython.core.display.Markdown object>"
      ]
     },
     "metadata": {},
     "output_type": "display_data"
    },
    {
     "data": {
      "text/markdown": [
       "<hr/>"
      ],
      "text/plain": [
       "<IPython.core.display.Markdown object>"
      ]
     },
     "metadata": {},
     "output_type": "display_data"
    },
    {
     "data": {
      "text/markdown": [
       "# Field: first_author_full_name"
      ],
      "text/plain": [
       "<IPython.core.display.Markdown object>"
      ]
     },
     "metadata": {},
     "output_type": "display_data"
    },
    {
     "data": {
      "text/markdown": [
       "## Dataset: pmc-sample-1943-cc-by-subset (first_author_full_name levenshtein)"
      ],
      "text/plain": [
       "<IPython.core.display.Markdown object>"
      ]
     },
     "metadata": {},
     "output_type": "display_data"
    },
    {
     "data": {
      "text/markdown": [
       "### Comparison: grobid-tei vs cermine"
      ],
      "text/plain": [
       "<IPython.core.display.Markdown object>"
      ]
     },
     "metadata": {},
     "output_type": "display_data"
    },
    {
     "data": {
      "text/markdown": [
       "**E**: expected, **A**: pmc-sample-1943-cc-by-subset grobid-tei, **B**: pmc-sample-1943-cc-by-subset cermine (first_author_full_name levenshtein)"
      ],
      "text/plain": [
       "<IPython.core.display.Markdown object>"
      ]
     },
     "metadata": {},
     "output_type": "display_data"
    },
    {
     "data": {
      "text/markdown": [
       "#### grobid-tei [0 : 1] cermine (2)"
      ],
      "text/plain": [
       "<IPython.core.display.Markdown object>"
      ]
     },
     "metadata": {},
     "output_type": "display_data"
    },
    {
     "data": {
      "text/markdown": [
       "There are 2 samples where grobid-tei got it wrong, but cermine got it right."
      ],
      "text/plain": [
       "<IPython.core.display.Markdown object>"
      ]
     },
     "metadata": {},
     "output_type": "display_data"
    },
    {
     "data": {
      "text/markdown": [
       "> `sobs89-975.nxml` \"camera trocar lifting in office gasless laparoscopic sterilization under local anesthesia\"<br/>**E**: bo s. bergström<br/>**A**: acta obstetricia"
      ],
      "text/plain": [
       "<IPython.core.display.Markdown object>"
      ]
     },
     "metadata": {},
     "output_type": "display_data"
    },
    {
     "data": {
      "text/markdown": [
       "> `sonc50-621.nxml` \"management of cutaneous metastases using electrochemotherapy\"<br/>**E**: louise wichmann matthiessen<br/>**A**: julie gehl"
      ],
      "text/plain": [
       "<IPython.core.display.Markdown object>"
      ]
     },
     "metadata": {},
     "output_type": "display_data"
    },
    {
     "data": {
      "text/markdown": [
       "#### grobid-tei [1 : 0] cermine (2)"
      ],
      "text/plain": [
       "<IPython.core.display.Markdown object>"
      ]
     },
     "metadata": {},
     "output_type": "display_data"
    },
    {
     "data": {
      "text/markdown": [
       "There are 2 samples where grobid-tei got it right, but cermine got it wrong."
      ],
      "text/plain": [
       "<IPython.core.display.Markdown object>"
      ]
     },
     "metadata": {},
     "output_type": "display_data"
    },
    {
     "data": {
      "text/markdown": [
       "> `apa0100-0653.nxml` \"placental programming of blood pressure in indian children\"<br/>**E**: nicola r winder<br/>**B**: nicola r winder (nw@mrc.soton.ac.uk)"
      ],
      "text/plain": [
       "<IPython.core.display.Markdown object>"
      ]
     },
     "metadata": {},
     "output_type": "display_data"
    },
    {
     "data": {
      "text/markdown": [
       "> `f-67-00344.nxml` \"refolding, crystallization and preliminary x-ray crystallographic study of the whole extracellular regions of nectins\"<br/>**E**: hirotaka narita<br/>**B**: laboratory of supramolecular crystallography"
      ],
      "text/plain": [
       "<IPython.core.display.Markdown object>"
      ]
     },
     "metadata": {},
     "output_type": "display_data"
    },
    {
     "data": {
      "text/markdown": [
       "#### grobid-tei [0 : 0] cermine (0)"
      ],
      "text/plain": [
       "<IPython.core.display.Markdown object>"
      ]
     },
     "metadata": {},
     "output_type": "display_data"
    },
    {
     "data": {
      "text/markdown": [
       "There are 0 samples where both grobid-tei and cermine got it wrong."
      ],
      "text/plain": [
       "<IPython.core.display.Markdown object>"
      ]
     },
     "metadata": {},
     "output_type": "display_data"
    },
    {
     "data": {
      "text/markdown": [
       "## Dataset: pmc-sample-1943-cc-by-subset (first_author_full_name exact)"
      ],
      "text/plain": [
       "<IPython.core.display.Markdown object>"
      ]
     },
     "metadata": {},
     "output_type": "display_data"
    },
    {
     "data": {
      "text/markdown": [
       "### Comparison: grobid-tei vs cermine"
      ],
      "text/plain": [
       "<IPython.core.display.Markdown object>"
      ]
     },
     "metadata": {},
     "output_type": "display_data"
    },
    {
     "data": {
      "text/markdown": [
       "**E**: expected, **A**: pmc-sample-1943-cc-by-subset grobid-tei, **B**: pmc-sample-1943-cc-by-subset cermine (first_author_full_name exact)"
      ],
      "text/plain": [
       "<IPython.core.display.Markdown object>"
      ]
     },
     "metadata": {},
     "output_type": "display_data"
    },
    {
     "data": {
      "text/markdown": [
       "#### grobid-tei [0 : 1] cermine (2)"
      ],
      "text/plain": [
       "<IPython.core.display.Markdown object>"
      ]
     },
     "metadata": {},
     "output_type": "display_data"
    },
    {
     "data": {
      "text/markdown": [
       "There are 2 samples where grobid-tei got it wrong, but cermine got it right."
      ],
      "text/plain": [
       "<IPython.core.display.Markdown object>"
      ]
     },
     "metadata": {},
     "output_type": "display_data"
    },
    {
     "data": {
      "text/markdown": [
       "> `sobs89-975.nxml` \"camera trocar lifting in office gasless laparoscopic sterilization under local anesthesia\"<br/>**E**: bo s. bergström<br/>**A**: acta obstetricia"
      ],
      "text/plain": [
       "<IPython.core.display.Markdown object>"
      ]
     },
     "metadata": {},
     "output_type": "display_data"
    },
    {
     "data": {
      "text/markdown": [
       "> `sonc50-621.nxml` \"management of cutaneous metastases using electrochemotherapy\"<br/>**E**: louise wichmann matthiessen<br/>**A**: julie gehl"
      ],
      "text/plain": [
       "<IPython.core.display.Markdown object>"
      ]
     },
     "metadata": {},
     "output_type": "display_data"
    },
    {
     "data": {
      "text/markdown": [
       "#### grobid-tei [1 : 0] cermine (3)"
      ],
      "text/plain": [
       "<IPython.core.display.Markdown object>"
      ]
     },
     "metadata": {},
     "output_type": "display_data"
    },
    {
     "data": {
      "text/markdown": [
       "There are 3 samples where grobid-tei got it right, but cermine got it wrong."
      ],
      "text/plain": [
       "<IPython.core.display.Markdown object>"
      ]
     },
     "metadata": {},
     "output_type": "display_data"
    },
    {
     "data": {
      "text/markdown": [
       "> `apa0100-0653.nxml` \"placental programming of blood pressure in indian children\"<br/>**E**: nicola r winder<br/>**B**: nicola r winder (nw@mrc.soton.ac.uk)"
      ],
      "text/plain": [
       "<IPython.core.display.Markdown object>"
      ]
     },
     "metadata": {},
     "output_type": "display_data"
    },
    {
     "data": {
      "text/markdown": [
       "> `f-67-00344.nxml` \"refolding, crystallization and preliminary x-ray crystallographic study of the whole extracellular regions of nectins\"<br/>**E**: hirotaka narita<br/>**B**: laboratory of supramolecular crystallography"
      ],
      "text/plain": [
       "<IPython.core.display.Markdown object>"
      ]
     },
     "metadata": {},
     "output_type": "display_data"
    },
    {
     "data": {
      "text/markdown": [
       "> `aas0055-0039.nxml` \"phosphate-containing dialysis solution prevents hypophosphatemia during continuous renal replacement therapy\"<br/>**E**: m broman<br/>**B**: m. broman"
      ],
      "text/plain": [
       "<IPython.core.display.Markdown object>"
      ]
     },
     "metadata": {},
     "output_type": "display_data"
    },
    {
     "data": {
      "text/markdown": [
       "#### grobid-tei [0 : 0] cermine (0)"
      ],
      "text/plain": [
       "<IPython.core.display.Markdown object>"
      ]
     },
     "metadata": {},
     "output_type": "display_data"
    },
    {
     "data": {
      "text/markdown": [
       "There are 0 samples where both grobid-tei and cermine got it wrong."
      ],
      "text/plain": [
       "<IPython.core.display.Markdown object>"
      ]
     },
     "metadata": {},
     "output_type": "display_data"
    },
    {
     "data": {
      "text/markdown": [
       "<hr/>"
      ],
      "text/plain": [
       "<IPython.core.display.Markdown object>"
      ]
     },
     "metadata": {},
     "output_type": "display_data"
    },
    {
     "data": {
      "text/markdown": [
       "# Field: abstract"
      ],
      "text/plain": [
       "<IPython.core.display.Markdown object>"
      ]
     },
     "metadata": {},
     "output_type": "display_data"
    },
    {
     "data": {
      "text/markdown": [
       "## Dataset: pmc-sample-1943-cc-by-subset (abstract levenshtein)"
      ],
      "text/plain": [
       "<IPython.core.display.Markdown object>"
      ]
     },
     "metadata": {},
     "output_type": "display_data"
    },
    {
     "data": {
      "text/markdown": [
       "### Comparison: grobid-tei vs cermine"
      ],
      "text/plain": [
       "<IPython.core.display.Markdown object>"
      ]
     },
     "metadata": {},
     "output_type": "display_data"
    },
    {
     "data": {
      "text/markdown": [
       "**E**: expected, **A**: pmc-sample-1943-cc-by-subset grobid-tei, **B**: pmc-sample-1943-cc-by-subset cermine (abstract levenshtein)"
      ],
      "text/plain": [
       "<IPython.core.display.Markdown object>"
      ]
     },
     "metadata": {},
     "output_type": "display_data"
    },
    {
     "data": {
      "text/markdown": [
       "#### grobid-tei [0 : 1] cermine (1)"
      ],
      "text/plain": [
       "<IPython.core.display.Markdown object>"
      ]
     },
     "metadata": {},
     "output_type": "display_data"
    },
    {
     "data": {
      "text/markdown": [
       "There are 1 samples where grobid-tei got it wrong, but cermine got it right."
      ],
      "text/plain": [
       "<IPython.core.display.Markdown object>"
      ]
     },
     "metadata": {},
     "output_type": "display_data"
    },
    {
     "data": {
      "text/markdown": [
       "> `sonc50-621.nxml` \"management of cutaneous metastases using electrochemotherapy\"<br/>**E**: background. cutaneous metastases may cause considerable discomfort as a consequence of ulceration, oozing, bleeding and pain. electrochemotherapy has proven to be highly effective in the treatment of cutaneous metastases. electrochemotherapy utilises pulses of electricity to increase the permeability of the cell membrane and thereby augment the effect of chemotherapy. for the drug bleomycin, the effect is enhanced several hundred-fold, enabling once-only treatment. the primary endpoint of this study is to evaluate the efficacy of electrochemotherapy as a palliative treatment. methods. this phase ii study is a collaboration between two centres, one in denmark and the other in the uk. patients with cutaneous metastases of any histology were included. bleomycin was administered intratumourally or intravenously followed by application of electric pulses to the tumour site. results. fifty-two patients were included. complete and partial response rate was 68% and 18%, respectively, for cutaneous metastases <3 cm and 8% and 23%, respectively, for cutaneous metastases >3 cm. treatment was well-tolerated by patients, including the elderly, and no serious adverse events were observed. conclusions. ect is an efficient and safe treatment and clinicians should not hesitate to use it even in the elderly.<br/>**A**: background. cutaneous metastases may cause considerable discomfort as a consequence of ulceration, oozing, bleeding and pain. electrochemotherapy has proven to be highly effective in the treatment of cutaneous metastases. electrochemo-therapy utilises pulses of electricity to increase the permeability of the cell membrane and thereby augment the effect of chemotherapy. for the drug bleomycin, the effect is enhanced several hundred-fold, enabling once-only treatment. the primary endpoint of this study is to evaluate the effi cacy of electrochemotherapy as a palliative treatment. methods. this phase ii study is a collaboration between two centres, one in denmark and the other in the uk. patients with cutaneous metastases of any histology were included. bleomycin was administered intratumourally or intravenously followed by application of electric pulses to the tumour site. results. fifty-two patients were included. complete and partial response rate was 68% and 18%, respectively, for cutaneous metastases 3 cm and 8% and 23%, respectively, for cutaneous metastases 3 cm. treatment was well-tolerated by patients, including the elderly, and no serious adverse events were observed. conclusions. ect is an effi cient and safe treatment and clinicians should not hesitate to use it even in the elderly. a cutaneous metastasis can be defi ned as \" a neoplas-tic lesion arising from another neoplasm with which there is no longer continuity \" [1]. cutaneous metas-tases account for 0.7% to 9% of all metastases [2]. breast cancer accounts for 51% of the total cases of cutaneous metastases, while malignant melanoma accounts for 18% [3]."
      ],
      "text/plain": [
       "<IPython.core.display.Markdown object>"
      ]
     },
     "metadata": {},
     "output_type": "display_data"
    },
    {
     "data": {
      "text/markdown": [
       "#### grobid-tei [1 : 0] cermine (0)"
      ],
      "text/plain": [
       "<IPython.core.display.Markdown object>"
      ]
     },
     "metadata": {},
     "output_type": "display_data"
    },
    {
     "data": {
      "text/markdown": [
       "There are 0 samples where grobid-tei got it right, but cermine got it wrong."
      ],
      "text/plain": [
       "<IPython.core.display.Markdown object>"
      ]
     },
     "metadata": {},
     "output_type": "display_data"
    },
    {
     "data": {
      "text/markdown": [
       "#### grobid-tei [0 : 0] cermine (6)"
      ],
      "text/plain": [
       "<IPython.core.display.Markdown object>"
      ]
     },
     "metadata": {},
     "output_type": "display_data"
    },
    {
     "data": {
      "text/markdown": [
       "There are 6 samples where both grobid-tei and cermine got it wrong."
      ],
      "text/plain": [
       "<IPython.core.display.Markdown object>"
      ]
     },
     "metadata": {},
     "output_type": "display_data"
    },
    {
     "data": {
      "text/markdown": [
       "> `apa0100-0653.nxml` \"placental programming of blood pressure in indian children\"<br/>**E**: aim to determine whether the size and shape of the placental surface predict blood pressure in childhood. methods we studied blood pressure in 471 nine-year-old indian children whose placental length, breadth and weight were measured in a prospective birth cohort study. results in the daughters of short mothers (<median height), systolic blood pressure (sbp) rose as placental breadth increased (β = 0.69 mmhg/cm, p = 0.05) and as the ratio of placental surface area to birthweight increased (p = 0.0003). in the daughters of tall mothers, sbp rose as the difference between placental length and breadth increased (β = 1.40 mmhg/cm, p = 0.007), that is as the surface became more oval. among boys, associations with placental size were only statistically significant after adjusting for current bmi and height. after adjustment, sbp rose as placental breadth, area and weight decreased (for breadth β = −0.68 mmhg/cm, p < 0.05 for all three measurements). conclusions the size and shape of the placental surface predict childhood blood pressure. blood pressure may be programmed by variation in the normal processes of placentation: these include implantation, expansion of the chorionic surface in mid-gestation and compensatory expansion of the chorionic surface in late gestation.<br/>**A**: aim: to determine whether the size and shape of the placental surface predict blood pressure in childhood. methods: we studied blood pressure in 471 nine-year-old indian children whose placental length, breadth and weight were measured in a prospective birth cohort study. results: in the daughters of short mothers (<median height), systolic blood pressure (sbp) rose as placental breadth increased (b = 0.69 mmhg ⁄ cm, p = 0.05) and as the ratio of placental surface area to birthweight increased (p = 0.0003). in the daughters of tall mothers, sbp rose as the difference between placental length and breadth increased (b = 1.40 mmhg ⁄ cm, p = 0.007), that is as the surface became more oval. among boys, associations with placental size were only statistically significant after adjusting for current bmi and height. after adjustment, sbp rose as placental breadth, area and weight decreased (for breadth b =)0.68 mmhg ⁄ cm, p < 0.05 for all three measurements).<br/>**B**: aim: to determine whether the size and shape of the placental surface predict blood pressure in childhood. methods: we studied blood pressure in 471 nine-year-old indian children whose placental length, breadth and weight were measured in a prospective birth cohort study. results: in the daughters of short mothers (<median height), systolic blood pressure (sbp) rose as placental breadth increased (b = 0.69 mmhg ? cm, p = 0.05) and as the ratio of placental surface area to birthweight increased (p = 0.0003). in the daughters of tall mothers, sbp rose as the difference between placental length and breadth increased (b = 1.40 mmhg ? cm, p = 0.007), that is as the surface became more oval. among boys, associations with placental size were only statistically significant after adjusting for current bmi and height. after adjustment, sbp rose as placental breadth, area and weight decreased (for breadth b = )0.68 mmhg ? cm, p < 0.05 for all three measurements)."
      ],
      "text/plain": [
       "<IPython.core.display.Markdown object>"
      ]
     },
     "metadata": {},
     "output_type": "display_data"
    },
    {
     "data": {
      "text/markdown": [
       "> `d-67-00463.nxml` \"pi sampling: a methodical and flexible approach to initial macromolecular crystallization screening\"<br/>**E**: pi sampling, derived from the incomplete factorial approach, is an effort to maximize the diversity of macromolecular crystallization conditions and to facilitate the preparation of 96-condition initial screens.the pi sampling method is derived from the incomplete factorial approach to macromolecular crystallization screen design. the resulting ‘pi screens’ have a modular distribution of a given set of up to 36 stock solutions. maximally diverse conditions can be produced by taking into account the properties of the chemicals used in the formulation and the concentrations of the corresponding solutions. the pi sampling method has been implemented in a web-based application that generates screen formulations and recipes. it is particularly adapted to screens consisting of 96 different conditions. the flexibility and efficiency of pi sampling is demonstrated by the crystallization of soluble proteins and of an integral membrane-protein sample.<br/>**A**: the pi sampling method is derived from the incomplete factorial approach to macromolecular crystallization screen design. the resulting 'pi screens' have a modular distribution of a given set of up to 36 stock solutions. maximally diverse conditions can be produced by taking into account the properties of the chemicals used in the formulation and the concentrations of the corresponding solutions. the pi sampling method has been implemented in a web-based application that generates screen formulations and recipes. it is particularly adapted to screens consisting of 96 different conditions. the flexibility and efficiency of pi sampling is demonstrated by the crystallization of soluble proteins and of an integral membrane-protein sample.<br/>**B**: the pi sampling method is derived from the incomplete factorial approach to macromolecular crystallization screen design. the resulting 'pi screens' have a modular distribution of a given set of up to 36 stock solutions. maximally diverse conditions can be produced by taking into account the properties of the chemicals used in the formulation and the concentrations of the corresponding solutions. the pi sampling method has been implemented in a web-based application that generates screen formulations and recipes. it is particularly adapted to screens consisting of 96 different conditions. the flexibility and efficiency of pi sampling is demonstrated by the crystallization of soluble proteins and of an integral membrane-protein sample."
      ],
      "text/plain": [
       "<IPython.core.display.Markdown object>"
      ]
     },
     "metadata": {},
     "output_type": "display_data"
    },
    {
     "data": {
      "text/markdown": [
       "> `e-67-o1363.nxml` \"3-allyl-1-{[3-(4-nitro­phen­yl)-4,5-dihydro-1,3-oxazol-5-yl]meth­yl}-1h-anthra[1,2-d]imidazole-2,6,11(3h)-trione\"<br/>**E**: the mol­ecular structure of the title compound, c28h20n4o6, consists of three fused six-membered rings (a,b,c) and one five-membered ring (d). the latter is linked to an isoxazole ring (e) via a methyl­ene unit. a 4-nitro-phenyl substituent (f) is attached to the isoxazole. the fused five and six-membered rings (c,d) are almost coplanar with an r.m.s. deviation of 0.0345 å and make a dihedral angle of 9.40 (8)° with ring a. the isoxazole and 4-nitro-phenyl rings (e,f) are also almost coplanar with the imidazole and the fused adjacent ring (c,d), forming a dihedral angle of 11.4 (6)°. the crystal packing displays inter­molecular c—h⋯o hydrogen bonding. an intra­molecular c—h⋯o inter­action also occurs.<br/>**A**: key indicators: single-crystal x-ray study; t = 296 k; mean (c-c) = 0.003 a ˚ ; r factor = 0.040; wr factor = 0.111; data-to-parameter ratio = 14.1. the molecular structure of the title compound, c 28 h 20 n 4 o 6 , consists of three fused six-membered rings (a,b,c) and one five-membered ring (d). the latter is linked to an isoxazole ring (e) via a methylene unit. a 4-nitro-phenyl substituent (f) is attached to the isoxazole. the fused five and six-membered rings (c,d) are almost coplanar with an r.m.s. deviation of 0.0345 a ˚ and make a dihedral angle of 9.40 (8) with ring a. the isoxazole and 4-nitro-phenyl rings (e,f) are also almost coplanar with the imidazole and the fused adjacent ring (c,d), forming a dihedral angle of 11.4 (6). the crystal packing displays intermolecular c-há á áo hydrogen bonding. an intramolecular c-há á áo interaction also occurs.<br/>**B**: nan"
      ],
      "text/plain": [
       "<IPython.core.display.Markdown object>"
      ]
     },
     "metadata": {},
     "output_type": "display_data"
    },
    {
     "name": "stdout",
     "output_type": "stream",
     "text": [
      "3 more\n"
     ]
    },
    {
     "data": {
      "text/markdown": [
       "## Dataset: pmc-sample-1943-cc-by-subset (abstract exact)"
      ],
      "text/plain": [
       "<IPython.core.display.Markdown object>"
      ]
     },
     "metadata": {},
     "output_type": "display_data"
    },
    {
     "data": {
      "text/markdown": [
       "### Comparison: grobid-tei vs cermine"
      ],
      "text/plain": [
       "<IPython.core.display.Markdown object>"
      ]
     },
     "metadata": {},
     "output_type": "display_data"
    },
    {
     "data": {
      "text/markdown": [
       "**E**: expected, **A**: pmc-sample-1943-cc-by-subset grobid-tei, **B**: pmc-sample-1943-cc-by-subset cermine (abstract exact)"
      ],
      "text/plain": [
       "<IPython.core.display.Markdown object>"
      ]
     },
     "metadata": {},
     "output_type": "display_data"
    },
    {
     "data": {
      "text/markdown": [
       "#### grobid-tei [0 : 1] cermine (0)"
      ],
      "text/plain": [
       "<IPython.core.display.Markdown object>"
      ]
     },
     "metadata": {},
     "output_type": "display_data"
    },
    {
     "data": {
      "text/markdown": [
       "There are 0 samples where grobid-tei got it wrong, but cermine got it right."
      ],
      "text/plain": [
       "<IPython.core.display.Markdown object>"
      ]
     },
     "metadata": {},
     "output_type": "display_data"
    },
    {
     "data": {
      "text/markdown": [
       "#### grobid-tei [1 : 0] cermine (0)"
      ],
      "text/plain": [
       "<IPython.core.display.Markdown object>"
      ]
     },
     "metadata": {},
     "output_type": "display_data"
    },
    {
     "data": {
      "text/markdown": [
       "There are 0 samples where grobid-tei got it right, but cermine got it wrong."
      ],
      "text/plain": [
       "<IPython.core.display.Markdown object>"
      ]
     },
     "metadata": {},
     "output_type": "display_data"
    },
    {
     "data": {
      "text/markdown": [
       "#### grobid-tei [0 : 0] cermine (8)"
      ],
      "text/plain": [
       "<IPython.core.display.Markdown object>"
      ]
     },
     "metadata": {},
     "output_type": "display_data"
    },
    {
     "data": {
      "text/markdown": [
       "There are 8 samples where both grobid-tei and cermine got it wrong."
      ],
      "text/plain": [
       "<IPython.core.display.Markdown object>"
      ]
     },
     "metadata": {},
     "output_type": "display_data"
    },
    {
     "data": {
      "text/markdown": [
       "> `apa0100-0653.nxml` \"placental programming of blood pressure in indian children\"<br/>**E**: aim to determine whether the size and shape of the placental surface predict blood pressure in childhood. methods we studied blood pressure in 471 nine-year-old indian children whose placental length, breadth and weight were measured in a prospective birth cohort study. results in the daughters of short mothers (<median height), systolic blood pressure (sbp) rose as placental breadth increased (β = 0.69 mmhg/cm, p = 0.05) and as the ratio of placental surface area to birthweight increased (p = 0.0003). in the daughters of tall mothers, sbp rose as the difference between placental length and breadth increased (β = 1.40 mmhg/cm, p = 0.007), that is as the surface became more oval. among boys, associations with placental size were only statistically significant after adjusting for current bmi and height. after adjustment, sbp rose as placental breadth, area and weight decreased (for breadth β = −0.68 mmhg/cm, p < 0.05 for all three measurements). conclusions the size and shape of the placental surface predict childhood blood pressure. blood pressure may be programmed by variation in the normal processes of placentation: these include implantation, expansion of the chorionic surface in mid-gestation and compensatory expansion of the chorionic surface in late gestation.<br/>**A**: aim: to determine whether the size and shape of the placental surface predict blood pressure in childhood. methods: we studied blood pressure in 471 nine-year-old indian children whose placental length, breadth and weight were measured in a prospective birth cohort study. results: in the daughters of short mothers (<median height), systolic blood pressure (sbp) rose as placental breadth increased (b = 0.69 mmhg ⁄ cm, p = 0.05) and as the ratio of placental surface area to birthweight increased (p = 0.0003). in the daughters of tall mothers, sbp rose as the difference between placental length and breadth increased (b = 1.40 mmhg ⁄ cm, p = 0.007), that is as the surface became more oval. among boys, associations with placental size were only statistically significant after adjusting for current bmi and height. after adjustment, sbp rose as placental breadth, area and weight decreased (for breadth b =)0.68 mmhg ⁄ cm, p < 0.05 for all three measurements).<br/>**B**: aim: to determine whether the size and shape of the placental surface predict blood pressure in childhood. methods: we studied blood pressure in 471 nine-year-old indian children whose placental length, breadth and weight were measured in a prospective birth cohort study. results: in the daughters of short mothers (<median height), systolic blood pressure (sbp) rose as placental breadth increased (b = 0.69 mmhg ? cm, p = 0.05) and as the ratio of placental surface area to birthweight increased (p = 0.0003). in the daughters of tall mothers, sbp rose as the difference between placental length and breadth increased (b = 1.40 mmhg ? cm, p = 0.007), that is as the surface became more oval. among boys, associations with placental size were only statistically significant after adjusting for current bmi and height. after adjustment, sbp rose as placental breadth, area and weight decreased (for breadth b = )0.68 mmhg ? cm, p < 0.05 for all three measurements)."
      ],
      "text/plain": [
       "<IPython.core.display.Markdown object>"
      ]
     },
     "metadata": {},
     "output_type": "display_data"
    },
    {
     "data": {
      "text/markdown": [
       "> `d-67-00463.nxml` \"pi sampling: a methodical and flexible approach to initial macromolecular crystallization screening\"<br/>**E**: pi sampling, derived from the incomplete factorial approach, is an effort to maximize the diversity of macromolecular crystallization conditions and to facilitate the preparation of 96-condition initial screens.the pi sampling method is derived from the incomplete factorial approach to macromolecular crystallization screen design. the resulting ‘pi screens’ have a modular distribution of a given set of up to 36 stock solutions. maximally diverse conditions can be produced by taking into account the properties of the chemicals used in the formulation and the concentrations of the corresponding solutions. the pi sampling method has been implemented in a web-based application that generates screen formulations and recipes. it is particularly adapted to screens consisting of 96 different conditions. the flexibility and efficiency of pi sampling is demonstrated by the crystallization of soluble proteins and of an integral membrane-protein sample.<br/>**A**: the pi sampling method is derived from the incomplete factorial approach to macromolecular crystallization screen design. the resulting 'pi screens' have a modular distribution of a given set of up to 36 stock solutions. maximally diverse conditions can be produced by taking into account the properties of the chemicals used in the formulation and the concentrations of the corresponding solutions. the pi sampling method has been implemented in a web-based application that generates screen formulations and recipes. it is particularly adapted to screens consisting of 96 different conditions. the flexibility and efficiency of pi sampling is demonstrated by the crystallization of soluble proteins and of an integral membrane-protein sample.<br/>**B**: the pi sampling method is derived from the incomplete factorial approach to macromolecular crystallization screen design. the resulting 'pi screens' have a modular distribution of a given set of up to 36 stock solutions. maximally diverse conditions can be produced by taking into account the properties of the chemicals used in the formulation and the concentrations of the corresponding solutions. the pi sampling method has been implemented in a web-based application that generates screen formulations and recipes. it is particularly adapted to screens consisting of 96 different conditions. the flexibility and efficiency of pi sampling is demonstrated by the crystallization of soluble proteins and of an integral membrane-protein sample."
      ],
      "text/plain": [
       "<IPython.core.display.Markdown object>"
      ]
     },
     "metadata": {},
     "output_type": "display_data"
    },
    {
     "data": {
      "text/markdown": [
       "> `e-67-o1363.nxml` \"3-allyl-1-{[3-(4-nitro­phen­yl)-4,5-dihydro-1,3-oxazol-5-yl]meth­yl}-1h-anthra[1,2-d]imidazole-2,6,11(3h)-trione\"<br/>**E**: the mol­ecular structure of the title compound, c28h20n4o6, consists of three fused six-membered rings (a,b,c) and one five-membered ring (d). the latter is linked to an isoxazole ring (e) via a methyl­ene unit. a 4-nitro-phenyl substituent (f) is attached to the isoxazole. the fused five and six-membered rings (c,d) are almost coplanar with an r.m.s. deviation of 0.0345 å and make a dihedral angle of 9.40 (8)° with ring a. the isoxazole and 4-nitro-phenyl rings (e,f) are also almost coplanar with the imidazole and the fused adjacent ring (c,d), forming a dihedral angle of 11.4 (6)°. the crystal packing displays inter­molecular c—h⋯o hydrogen bonding. an intra­molecular c—h⋯o inter­action also occurs.<br/>**A**: key indicators: single-crystal x-ray study; t = 296 k; mean (c-c) = 0.003 a ˚ ; r factor = 0.040; wr factor = 0.111; data-to-parameter ratio = 14.1. the molecular structure of the title compound, c 28 h 20 n 4 o 6 , consists of three fused six-membered rings (a,b,c) and one five-membered ring (d). the latter is linked to an isoxazole ring (e) via a methylene unit. a 4-nitro-phenyl substituent (f) is attached to the isoxazole. the fused five and six-membered rings (c,d) are almost coplanar with an r.m.s. deviation of 0.0345 a ˚ and make a dihedral angle of 9.40 (8) with ring a. the isoxazole and 4-nitro-phenyl rings (e,f) are also almost coplanar with the imidazole and the fused adjacent ring (c,d), forming a dihedral angle of 11.4 (6). the crystal packing displays intermolecular c-há á áo hydrogen bonding. an intramolecular c-há á áo interaction also occurs.<br/>**B**: nan"
      ],
      "text/plain": [
       "<IPython.core.display.Markdown object>"
      ]
     },
     "metadata": {},
     "output_type": "display_data"
    },
    {
     "name": "stdout",
     "output_type": "stream",
     "text": [
      "5 more\n"
     ]
    }
   ],
   "source": [
    "def show_comparative_examples(inspect_name, compare_with_name, field_name, evaluation_method, limit=3):\n",
    "    inspect_df = details_df_map[inspect_name].merge(\n",
    "        details_df_map[compare_with_name],\n",
    "        how='outer',\n",
    "        on=['target_file', 'field_name', 'evaluation_method', 'expected'],\n",
    "        suffixes=['', '_other']\n",
    "    )\n",
    "\n",
    "    title_map = inspect_df[\n",
    "        (inspect_df['field_name'] == 'title') &\n",
    "        (inspect_df['evaluation_method'] == 'exact')\n",
    "    ][['target_file', 'expected']].groupby('target_file').first()['expected'].to_dict()\n",
    "\n",
    "    inspect_df = inspect_df[inspect_df['field_name'] == field_name]\n",
    "    inspect_df = inspect_df[inspect_df['evaluation_method'] == evaluation_method]\n",
    "\n",
    "    printmd('**E**: expected, **A**: %s, **B**: %s (%s %s)' % (\n",
    "        inspect_name, compare_with_name, field_name, evaluation_method\n",
    "    ))\n",
    "    \n",
    "    short_inspect_name = short_name(inspect_name)\n",
    "    short_other_name = short_name(compare_with_name)\n",
    "\n",
    "    incorrect_inspect_df = inspect_df[(inspect_df['tp'] == 0) & (inspect_df['tp_other'] == 1)]\n",
    "    printmd('#### %s [0 : 1] %s (%d)' % (short_inspect_name, short_other_name, len(incorrect_inspect_df)))\n",
    "    printmd('There are %d samples where %s got it wrong, but %s got it right.' % (\n",
    "        len(incorrect_inspect_df), short_inspect_name, short_other_name\n",
    "    ))\n",
    "    for row in incorrect_inspect_df[:limit].to_dict(orient='rows'):\n",
    "        printmd('> `%s` \"%s\"<br/>**E**: %s<br/>**A**: %s' % (\n",
    "            row['target_file'], title_map.get(row['target_file']), row['expected'], row['actual']\n",
    "        ))\n",
    "    if len(incorrect_inspect_df) > limit:\n",
    "        print('%d more' % (len(incorrect_inspect_df) - limit))\n",
    "\n",
    "    correct_inspect_df = inspect_df[(inspect_df['tp'] == 1) & (inspect_df['tp_other'] == 0)]\n",
    "    printmd('#### %s [1 : 0] %s (%d)' % (short_inspect_name, short_other_name, len(correct_inspect_df)))\n",
    "    printmd('There are %d samples where %s got it right, but %s got it wrong.' % (\n",
    "        len(correct_inspect_df), short_inspect_name, short_other_name\n",
    "    ))\n",
    "    for row in correct_inspect_df[:limit].to_dict(orient='rows'):\n",
    "        printmd('> `%s` \"%s\"<br/>**E**: %s<br/>**B**: %s' % (\n",
    "            row['target_file'], title_map.get(row['target_file']), row['expected'], row['actual_other']\n",
    "        ))\n",
    "    if len(correct_inspect_df) > limit:\n",
    "        print('%d more' % (len(correct_inspect_df) - limit))\n",
    "\n",
    "    both_incorrect_inspect_df = inspect_df[(inspect_df['tp'] == 0) & (inspect_df['tp_other'] == 0)]\n",
    "    printmd('#### %s [0 : 0] %s (%d)' % (short_inspect_name, short_other_name, len(both_incorrect_inspect_df)))\n",
    "    printmd('There are %d samples where both %s and %s got it wrong.' % (\n",
    "        len(both_incorrect_inspect_df), short_inspect_name, short_other_name\n",
    "    ))\n",
    "    for row in both_incorrect_inspect_df[:limit].to_dict(orient='rows'):\n",
    "        printmd('> `%s` \"%s\"<br/>**E**: %s<br/>**A**: %s<br/>**B**: %s' % (\n",
    "            row['target_file'], title_map.get(row['target_file']),\n",
    "            row['expected'], row['actual'], row['actual_other']\n",
    "        ))\n",
    "    if len(both_incorrect_inspect_df) > limit:\n",
    "        print('%d more' % (len(both_incorrect_inspect_df) - limit))\n",
    "\n",
    "printmd('# Comparing results between tools')\n",
    "for field_name in field_names:\n",
    "    printmd('<hr/>')\n",
    "    printmd('# Field: %s' % field_name)\n",
    "    for evaluation_method in evaluation_methods:\n",
    "        for prefix in prefix_list:\n",
    "            printmd('## Dataset: %s (%s %s)' % (prefix, field_name, evaluation_method))\n",
    "            names_with_prefix = [name for name, _ in all_field_summaries_label_and_df if name.startswith(prefix)]\n",
    "            for i, inspect_name in enumerate(names_with_prefix[:-1]):\n",
    "                for other_name in names_with_prefix[(1 + i):]:\n",
    "                    printmd('### Comparison: %s vs %s' % (short_name(inspect_name), short_name(other_name)))\n",
    "                    show_comparative_examples(\n",
    "                        inspect_name, other_name,\n",
    "                        field_name=field_name, evaluation_method=evaluation_method\n",
    "                    )"
   ]
  }
 ],
 "metadata": {
  "kernelspec": {
   "display_name": "Python 3",
   "language": "python",
   "name": "python3"
  },
  "language_info": {
   "codemirror_mode": {
    "name": "ipython",
    "version": 3
   },
   "file_extension": ".py",
   "mimetype": "text/x-python",
   "name": "python",
   "nbconvert_exporter": "python",
   "pygments_lexer": "ipython3",
   "version": "3.5.2"
  }
 },
 "nbformat": 4,
 "nbformat_minor": 2
}
